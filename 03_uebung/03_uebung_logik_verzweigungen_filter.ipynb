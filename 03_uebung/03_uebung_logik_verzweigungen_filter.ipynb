{
 "cells": [
  {
   "cell_type": "markdown",
   "metadata": {},
   "source": [
    "_Lizenz: Das folgende Lehrmaterial kann unter einer [CC-BY-SA 4.0](https://creativecommons.org/licenses/by/4.0/legalcode) Lizenz frei verwendet, verbreitet und modifiziert werden._   \n",
    " _Authoren: Jana Lasser (jana.lasser@ds.mpg.de)_  \n",
    " _Das Lehrmaterial wurde im Zuge des Projektes \"Daten Lesen Lernen\", gefördert vom Stifterverband und der Heinz Nixdorf Stiftung erstellt._"
   ]
  },
  {
   "cell_type": "markdown",
   "metadata": {},
   "source": [
    "# Übung 3\n",
    "### Praktische Hinweise\n",
    "$\\rightarrow$ Übungen sind dafür gedacht, dass ihr sie euch daheim anseht und versucht, ein paar Aufgaben selbst zu lösen. In den Tutorien könnt ihr euch weiter mit dem Lösungen der Aufgaben beschäftigen und dabei Hilfe von den Tutor*innen bekommen.  \n",
    "\n",
    "$\\rightarrow$ Wenn ein Fehler auftritt:\n",
    "1. Fehlermeldung _lesen_ und _verstehen_\n",
    "2. Versuchen, selbst eine Lösung zu finden ($\\rightarrow$ hier findet das Lernen statt!)\n",
    "3. Das Problem googlen (Stichwort: Stackoverflow) oder den/die Nachbar*in fragen\n",
    "4. Tutor*in fragen\n",
    "\n",
    "$\\rightarrow$ Unter <font color='green'>**HINWEIS**</font> werden Hinweise gegeben, die für die Lösung der Aufgabe hilfreich sind und oftmals auch weiterführende Informationen zur Aufgabe liefern.\n",
    "\n",
    "$\\rightarrow$ Mit **(Optional)** gekennzeichnete Übungsteile sind für besonders schnelle Menschen :-)."
   ]
  },
  {
   "cell_type": "markdown",
   "metadata": {},
   "source": [
    "### Logik, Verzweigungen und Filter\n",
    "1. **Logik**\n",
    "  1. Schreibe ein Programm, das überprüft, ob ein Wort den Buchstaben 'e' enthält und kürzer als 5 Buchstaben ist.\n",
    "  2. Schreibe ein Programm, das überprüft ob eine Zahl gerade oder ungerade ist. \n",
    "  <font color='green'>**HINWEIS**: mit dem Modulo-Operator ```%``` lässt sich \"Teilen mit Rest\" realisieren. Der \"Rest\" der Division wird zurückgeliefert:</font>\n",
    "  "
   ]
  },
  {
   "cell_type": "code",
   "execution_count": 1,
   "metadata": {},
   "outputs": [
    {
     "name": "stdout",
     "output_type": "stream",
     "text": [
      "1\n",
      "0\n"
     ]
    }
   ],
   "source": [
    "print(11 % 2)\n",
    "print(10 % 2)"
   ]
  },
  {
   "cell_type": "markdown",
   "metadata": {},
   "source": [
    "2. **Verzweigungen**\n",
    "  1. Erstelle eine Liste mit den Zahlen von 0 bis 20. <font color='green'>**HINWEIS**: Benutze die ```range()```-Funktion!</font>\n",
    "  2. Schreibe ein Programm, das mit einem ```for``` loop über die Liste iteriert und\n",
    "    * alle Zahlen kleiner 10 mit 2 multipliziert und ausgiebt\n",
    "    * alle Zahlen größer 10 durch 2 teilt und ausgiebt\n",
    "    * einen Spezialfall für die Zahl 15 hat und eine Warnung ausgibt, wenn diese Zahl erreicht wird.  \n",
    "    \n",
    "  <font color='green'>**HINWEIS:** Die Keywords die du benötigen wirs sind ```if```, ```elif``` und ```else```. </font>\n",
    "3. **Filter (Überlebende der Titanic nach Geschlecht)** \n",
    "  <font color='green'>**HINWEIS:** Wenn du das Filtern eines DataFrames noch nicht ganz durchblickt hast oder es in der Vorlesung zu kurz gekommen ist, hilft dir der untenstehende kleine Exkurs, der die Vorgehensweise noch einmal an einem sehr einfachen Beispiel erläutert.</font>  \n",
    "  \n",
    "  1. Lade, wie schon in Übung 2, Aufgabe 2.A den Titanic-Datensatz in ein ```Pandas``` DataFrame. Erzeuge eine Tabelle, die nur die Einträge von überlebenden Passagier\\*innen enthält. Wieviele sind es jeweils?\n",
    "  2. Erzeuge basierend auf der Tabelle mit Überlebenden zwei weitere Tabellen, die nur die überlebenden Männer bzw. Frauen enthalten.\n",
    "  3. Finde heraus, wie viele Frauen und Männer ursprünglich an Board waren und wieviele jeweils Überlebt haben.\n",
    "  4. Was war für einen Mann oder eine Frau an Board der Titanic die Chance, zu überleben? \n",
    "  5. Wie kannst du dir erklären, dass es so einen großen Unterschied zwischen den Geschlechtern gibt? Wie kannst du dein historisches oder gesellschaftliches Wissen (domain knowledge) benutzen, um eine Kausalität zwischen Geschlecht und Überlebenschance herzustellen? Was für alternative Erklärungen könnte es geben, wenn du dein domain knowledge nicht verwendest?\n",
    "  6. **(Optional)**: mache die selbe Auswertung wie oben, nur diesmal nach Klasse (```pclass``` oder ```class```). Was für Unterschiede gibt es?"
   ]
  },
  {
   "cell_type": "markdown",
   "metadata": {},
   "source": [
    "### Exkurs: filtern eines DataFrames\n",
    "Ein DataFrame nach Einträgen zu filtern, die einem bestimmten Kriterium entsprechen, ist eine extrem wichtige Technik in der Datenanalyse."
   ]
  },
  {
   "cell_type": "code",
   "execution_count": 2,
   "metadata": {},
   "outputs": [
    {
     "data": {
      "text/html": [
       "<div>\n",
       "<style scoped>\n",
       "    .dataframe tbody tr th:only-of-type {\n",
       "        vertical-align: middle;\n",
       "    }\n",
       "\n",
       "    .dataframe tbody tr th {\n",
       "        vertical-align: top;\n",
       "    }\n",
       "\n",
       "    .dataframe thead th {\n",
       "        text-align: right;\n",
       "    }\n",
       "</style>\n",
       "<table border=\"1\" class=\"dataframe\">\n",
       "  <thead>\n",
       "    <tr style=\"text-align: right;\">\n",
       "      <th></th>\n",
       "      <th>alter</th>\n",
       "      <th>name</th>\n",
       "    </tr>\n",
       "  </thead>\n",
       "  <tbody>\n",
       "    <tr>\n",
       "      <th>0</th>\n",
       "      <td>31</td>\n",
       "      <td>tim</td>\n",
       "    </tr>\n",
       "    <tr>\n",
       "      <th>1</th>\n",
       "      <td>52</td>\n",
       "      <td>olaf</td>\n",
       "    </tr>\n",
       "    <tr>\n",
       "      <th>2</th>\n",
       "      <td>14</td>\n",
       "      <td>nina</td>\n",
       "    </tr>\n",
       "    <tr>\n",
       "      <th>3</th>\n",
       "      <td>46</td>\n",
       "      <td>andrea</td>\n",
       "    </tr>\n",
       "    <tr>\n",
       "      <th>4</th>\n",
       "      <td>28</td>\n",
       "      <td>jana</td>\n",
       "    </tr>\n",
       "    <tr>\n",
       "      <th>5</th>\n",
       "      <td>3</td>\n",
       "      <td>miro</td>\n",
       "    </tr>\n",
       "  </tbody>\n",
       "</table>\n",
       "</div>"
      ],
      "text/plain": [
       "   alter    name\n",
       "0     31     tim\n",
       "1     52    olaf\n",
       "2     14    nina\n",
       "3     46  andrea\n",
       "4     28    jana\n",
       "5      3    miro"
      ]
     },
     "execution_count": 2,
     "metadata": {},
     "output_type": "execute_result"
    }
   ],
   "source": [
    "# importiere Pandas unter dem Kürzel \"pd\"\n",
    "import pandas as pd\n",
    "\n",
    "# wir erstellen eine Tabelle zum Testen, die Namen\n",
    "# (Strings) und Alter (Zahlen) enthält \n",
    "\n",
    "# zuerst erstellen wir die Liste \"namen\" und\n",
    "# die Liste \"alter\"\n",
    "namen = ['tim','olaf','nina','andrea','jana', 'miro']\n",
    "alter = [31, 52, 14, 46, 28, 3]\n",
    "\n",
    "# dann erstellen wir die Tabelle \"personen\"\n",
    "# (ein DataFrame) und übergeben die beiden \n",
    "# Listen als Spalten der Tabelle\n",
    "personen = pd.DataFrame({'name':namen, 'alter':alter})\n",
    "\n",
    "# schließlich zeigen wir die ersten sechs Einträge\n",
    "# der Tabelle an\n",
    "personen.head(6)"
   ]
  },
  {
   "cell_type": "markdown",
   "metadata": {},
   "source": [
    "Um nur bestimmte Einträge der Tabelle anzuzeigen können wir eine \"Maske\" definieren, die festlegt, welche Zeilen angezeigt werden und welche nicht. Die Maske besteht aus einer Liste von Wahrheitswerten (```True``` und ```False```), die genauso viele Einträge umfasst, wie die Tabelle Zeilen hat:"
   ]
  },
  {
   "cell_type": "code",
   "execution_count": 3,
   "metadata": {},
   "outputs": [
    {
     "data": {
      "text/html": [
       "<div>\n",
       "<style scoped>\n",
       "    .dataframe tbody tr th:only-of-type {\n",
       "        vertical-align: middle;\n",
       "    }\n",
       "\n",
       "    .dataframe tbody tr th {\n",
       "        vertical-align: top;\n",
       "    }\n",
       "\n",
       "    .dataframe thead th {\n",
       "        text-align: right;\n",
       "    }\n",
       "</style>\n",
       "<table border=\"1\" class=\"dataframe\">\n",
       "  <thead>\n",
       "    <tr style=\"text-align: right;\">\n",
       "      <th></th>\n",
       "      <th>alter</th>\n",
       "      <th>name</th>\n",
       "    </tr>\n",
       "  </thead>\n",
       "  <tbody>\n",
       "    <tr>\n",
       "      <th>1</th>\n",
       "      <td>52</td>\n",
       "      <td>olaf</td>\n",
       "    </tr>\n",
       "    <tr>\n",
       "      <th>3</th>\n",
       "      <td>46</td>\n",
       "      <td>andrea</td>\n",
       "    </tr>\n",
       "    <tr>\n",
       "      <th>5</th>\n",
       "      <td>3</td>\n",
       "      <td>miro</td>\n",
       "    </tr>\n",
       "  </tbody>\n",
       "</table>\n",
       "</div>"
      ],
      "text/plain": [
       "   alter    name\n",
       "1     52    olaf\n",
       "3     46  andrea\n",
       "5      3    miro"
      ]
     },
     "execution_count": 3,
     "metadata": {},
     "output_type": "execute_result"
    }
   ],
   "source": [
    "# hier erstellen wir die Maske\n",
    "maske = [False, True, False, True, False, True]\n",
    "\n",
    "# wir können die Maske jetzt benutzen, um nur gewisse\n",
    "# einträge in der Tabelle auszuwählen:\n",
    "personen[maske]"
   ]
  },
  {
   "cell_type": "code",
   "execution_count": 4,
   "metadata": {},
   "outputs": [
    {
     "data": {
      "text/html": [
       "<div>\n",
       "<style scoped>\n",
       "    .dataframe tbody tr th:only-of-type {\n",
       "        vertical-align: middle;\n",
       "    }\n",
       "\n",
       "    .dataframe tbody tr th {\n",
       "        vertical-align: top;\n",
       "    }\n",
       "\n",
       "    .dataframe thead th {\n",
       "        text-align: right;\n",
       "    }\n",
       "</style>\n",
       "<table border=\"1\" class=\"dataframe\">\n",
       "  <thead>\n",
       "    <tr style=\"text-align: right;\">\n",
       "      <th></th>\n",
       "      <th>alter</th>\n",
       "      <th>name</th>\n",
       "    </tr>\n",
       "  </thead>\n",
       "  <tbody>\n",
       "    <tr>\n",
       "      <th>1</th>\n",
       "      <td>52</td>\n",
       "      <td>olaf</td>\n",
       "    </tr>\n",
       "    <tr>\n",
       "      <th>3</th>\n",
       "      <td>46</td>\n",
       "      <td>andrea</td>\n",
       "    </tr>\n",
       "    <tr>\n",
       "      <th>5</th>\n",
       "      <td>3</td>\n",
       "      <td>miro</td>\n",
       "    </tr>\n",
       "  </tbody>\n",
       "</table>\n",
       "</div>"
      ],
      "text/plain": [
       "   alter    name\n",
       "1     52    olaf\n",
       "3     46  andrea\n",
       "5      3    miro"
      ]
     },
     "execution_count": 4,
     "metadata": {},
     "output_type": "execute_result"
    }
   ],
   "source": [
    "# natürlich können wir die so \"gefilterte\" Tabelle\n",
    "# auch in einer neuen Variable speichern\n",
    "gefilterte_tabelle = personen[maske]\n",
    "gefilterte_tabelle.head()"
   ]
  },
  {
   "cell_type": "markdown",
   "metadata": {},
   "source": [
    "Als nächsten Schritt erzeugen wir auch die Maske automatisch. Wir möchten wissen, welche Personen in der Tabelle älter als 30 Jahre sind. Das fragen wir mit Hilfe des \"größer-oder-gleich\" Operators ```>=``` ab:"
   ]
  },
  {
   "cell_type": "code",
   "execution_count": 5,
   "metadata": {},
   "outputs": [
    {
     "data": {
      "text/plain": [
       "0     True\n",
       "1     True\n",
       "2    False\n",
       "3     True\n",
       "4    False\n",
       "5    False\n",
       "Name: alter, dtype: bool"
      ]
     },
     "execution_count": 5,
     "metadata": {},
     "output_type": "execute_result"
    }
   ],
   "source": [
    "personen['alter'] >= 30"
   ]
  },
  {
   "cell_type": "code",
   "execution_count": 6,
   "metadata": {},
   "outputs": [
    {
     "data": {
      "text/html": [
       "<div>\n",
       "<style scoped>\n",
       "    .dataframe tbody tr th:only-of-type {\n",
       "        vertical-align: middle;\n",
       "    }\n",
       "\n",
       "    .dataframe tbody tr th {\n",
       "        vertical-align: top;\n",
       "    }\n",
       "\n",
       "    .dataframe thead th {\n",
       "        text-align: right;\n",
       "    }\n",
       "</style>\n",
       "<table border=\"1\" class=\"dataframe\">\n",
       "  <thead>\n",
       "    <tr style=\"text-align: right;\">\n",
       "      <th></th>\n",
       "      <th>alter</th>\n",
       "      <th>name</th>\n",
       "    </tr>\n",
       "  </thead>\n",
       "  <tbody>\n",
       "    <tr>\n",
       "      <th>0</th>\n",
       "      <td>31</td>\n",
       "      <td>tim</td>\n",
       "    </tr>\n",
       "    <tr>\n",
       "      <th>1</th>\n",
       "      <td>52</td>\n",
       "      <td>olaf</td>\n",
       "    </tr>\n",
       "    <tr>\n",
       "      <th>3</th>\n",
       "      <td>46</td>\n",
       "      <td>andrea</td>\n",
       "    </tr>\n",
       "  </tbody>\n",
       "</table>\n",
       "</div>"
      ],
      "text/plain": [
       "   alter    name\n",
       "0     31     tim\n",
       "1     52    olaf\n",
       "3     46  andrea"
      ]
     },
     "execution_count": 6,
     "metadata": {},
     "output_type": "execute_result"
    }
   ],
   "source": [
    "# diese Maske speichern wir wieder in \n",
    "# einer Variablen\n",
    "maske_alt = personen['alter'] >= 30\n",
    "\n",
    "# und filtern die Tabelle mit Hilfe der\n",
    "# neu erstellten Maske\n",
    "alte_leute = personen[maske_alt]\n",
    "alte_leute.head()"
   ]
  },
  {
   "cell_type": "markdown",
   "metadata": {},
   "source": [
    "Genauso können wir natürlich auch die jungen Leute finden, indem wir den \"kleiner\"-Operator ```<``` einsetzen:"
   ]
  },
  {
   "cell_type": "code",
   "execution_count": 7,
   "metadata": {},
   "outputs": [
    {
     "data": {
      "text/html": [
       "<div>\n",
       "<style scoped>\n",
       "    .dataframe tbody tr th:only-of-type {\n",
       "        vertical-align: middle;\n",
       "    }\n",
       "\n",
       "    .dataframe tbody tr th {\n",
       "        vertical-align: top;\n",
       "    }\n",
       "\n",
       "    .dataframe thead th {\n",
       "        text-align: right;\n",
       "    }\n",
       "</style>\n",
       "<table border=\"1\" class=\"dataframe\">\n",
       "  <thead>\n",
       "    <tr style=\"text-align: right;\">\n",
       "      <th></th>\n",
       "      <th>alter</th>\n",
       "      <th>name</th>\n",
       "    </tr>\n",
       "  </thead>\n",
       "  <tbody>\n",
       "    <tr>\n",
       "      <th>2</th>\n",
       "      <td>14</td>\n",
       "      <td>nina</td>\n",
       "    </tr>\n",
       "    <tr>\n",
       "      <th>4</th>\n",
       "      <td>28</td>\n",
       "      <td>jana</td>\n",
       "    </tr>\n",
       "    <tr>\n",
       "      <th>5</th>\n",
       "      <td>3</td>\n",
       "      <td>miro</td>\n",
       "    </tr>\n",
       "  </tbody>\n",
       "</table>\n",
       "</div>"
      ],
      "text/plain": [
       "   alter  name\n",
       "2     14  nina\n",
       "4     28  jana\n",
       "5      3  miro"
      ]
     },
     "execution_count": 7,
     "metadata": {},
     "output_type": "execute_result"
    }
   ],
   "source": [
    "# erstelle die Maske\n",
    "maske_jung = personen['alter'] < 30\n",
    "\n",
    "# filtere die Tabelle\n",
    "junge_leute = personen[maske_jung]\n",
    "junge_leute"
   ]
  },
  {
   "cell_type": "markdown",
   "metadata": {},
   "source": [
    "Oder die Personen mit kurzen Namen (wir benutzen den \"kleiner-oder-gleich\"-Operator ```<=```):"
   ]
  },
  {
   "cell_type": "code",
   "execution_count": 8,
   "metadata": {},
   "outputs": [
    {
     "data": {
      "text/html": [
       "<div>\n",
       "<style scoped>\n",
       "    .dataframe tbody tr th:only-of-type {\n",
       "        vertical-align: middle;\n",
       "    }\n",
       "\n",
       "    .dataframe tbody tr th {\n",
       "        vertical-align: top;\n",
       "    }\n",
       "\n",
       "    .dataframe thead th {\n",
       "        text-align: right;\n",
       "    }\n",
       "</style>\n",
       "<table border=\"1\" class=\"dataframe\">\n",
       "  <thead>\n",
       "    <tr style=\"text-align: right;\">\n",
       "      <th></th>\n",
       "      <th>alter</th>\n",
       "      <th>name</th>\n",
       "    </tr>\n",
       "  </thead>\n",
       "  <tbody>\n",
       "    <tr>\n",
       "      <th>0</th>\n",
       "      <td>31</td>\n",
       "      <td>tim</td>\n",
       "    </tr>\n",
       "    <tr>\n",
       "      <th>1</th>\n",
       "      <td>52</td>\n",
       "      <td>olaf</td>\n",
       "    </tr>\n",
       "    <tr>\n",
       "      <th>2</th>\n",
       "      <td>14</td>\n",
       "      <td>nina</td>\n",
       "    </tr>\n",
       "    <tr>\n",
       "      <th>4</th>\n",
       "      <td>28</td>\n",
       "      <td>jana</td>\n",
       "    </tr>\n",
       "    <tr>\n",
       "      <th>5</th>\n",
       "      <td>3</td>\n",
       "      <td>miro</td>\n",
       "    </tr>\n",
       "  </tbody>\n",
       "</table>\n",
       "</div>"
      ],
      "text/plain": [
       "   alter  name\n",
       "0     31   tim\n",
       "1     52  olaf\n",
       "2     14  nina\n",
       "4     28  jana\n",
       "5      3  miro"
      ]
     },
     "execution_count": 8,
     "metadata": {},
     "output_type": "execute_result"
    }
   ],
   "source": [
    "# überprüfe die Länge des Strings in der Spalte \"name\"\n",
    "maske_kurzer_name = personen['name'].str.len() <= 4\n",
    "\n",
    "# filtere die Tabelle mit der Maske\n",
    "kurzer_name = personen[maske_kurzer_name]\n",
    "kurzer_name.head()"
   ]
  },
  {
   "cell_type": "markdown",
   "metadata": {},
   "source": [
    "Die selben Prinzipien kannst du auf jedes DataFrame und insbesondere auch auf den Titanic-Datensatz anwenden, um nach bestimmten Eigenschaften der Passagier*innen zu filtern und interessante Erkenntnisse zu gewinnen."
   ]
  }
 ],
 "metadata": {
  "kernelspec": {
   "display_name": "Python 3",
   "language": "python",
   "name": "python3"
  },
  "language_info": {
   "codemirror_mode": {
    "name": "ipython",
    "version": 3
   },
   "file_extension": ".py",
   "mimetype": "text/x-python",
   "name": "python",
   "nbconvert_exporter": "python",
   "pygments_lexer": "ipython3",
   "version": "3.5.2"
  }
 },
 "nbformat": 4,
 "nbformat_minor": 2
}
