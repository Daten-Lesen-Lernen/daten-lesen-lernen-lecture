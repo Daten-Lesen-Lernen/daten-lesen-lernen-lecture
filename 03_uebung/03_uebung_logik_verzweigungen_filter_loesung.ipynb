{
 "cells": [
  {
   "cell_type": "markdown",
   "metadata": {},
   "source": [
    "_Lizenz: Das folgende Lehrmaterial kann unter einer [CC-BY-SA 4.0](https://creativecommons.org/licenses/by/4.0/legalcode) Lizenz frei verwendet, verbreitet und modifiziert werden._   \n",
    " _Authoren: Jana Lasser (jana.lasser@ds.mpg.de)_  \n",
    " _Das Lehrmaterial wurde im Zuge des Projektes \"Daten Lesen Lernen\", gefördert vom Stifterverband und der Heinz Nixdorf Stiftung erstellt._"
   ]
  },
  {
   "cell_type": "markdown",
   "metadata": {},
   "source": [
    "# Lösungen zu Übung 3: Logik, Verzweigungen und Filter"
   ]
  },
  {
   "cell_type": "markdown",
   "metadata": {},
   "source": [
    "### Logik"
   ]
  },
  {
   "cell_type": "code",
   "execution_count": 1,
   "metadata": {},
   "outputs": [
    {
     "name": "stdout",
     "output_type": "stream",
     "text": [
      "Buchstabe \"e\" in Wort?\n",
      "False\n",
      "\n",
      "Wort kürzer als 5 Buchstaben?\n",
      "False\n"
     ]
    }
   ],
   "source": [
    "# 1.A\n",
    "wort = 'Python'\n",
    "\n",
    "# überprüfe, ob der Buchstabe \"e\" in dem\n",
    "# Wort enthalten ist\n",
    "print('Buchstabe \"e\" in Wort?')\n",
    "print('e' in wort)\n",
    "\n",
    "# gib eine leere Zeile aus\n",
    "print()\n",
    "\n",
    "# überprüfe, ob das Wort kürzer als 5 \n",
    "# Buchstaben ist\n",
    "print('Wort kürzer als 5 Buchstaben?')\n",
    "print(len(wort) < 5)"
   ]
  },
  {
   "cell_type": "code",
   "execution_count": 2,
   "metadata": {},
   "outputs": [
    {
     "name": "stdout",
     "output_type": "stream",
     "text": [
      "10 ist gerade\n"
     ]
    }
   ],
   "source": [
    "# 1.B\n",
    "zahl = 10\n",
    "\n",
    "if zahl % 2 == 0:\n",
    "    print('{} ist gerade'.format(zahl))\n",
    "else:\n",
    "    print('{} ist ungerade'.format(zahl))"
   ]
  },
  {
   "cell_type": "markdown",
   "metadata": {},
   "source": [
    "### Verzweigungen"
   ]
  },
  {
   "cell_type": "code",
   "execution_count": 3,
   "metadata": {},
   "outputs": [
    {
     "name": "stdout",
     "output_type": "stream",
     "text": [
      "[0, 1, 2, 3, 4, 5, 6, 7, 8, 9, 10, 11, 12, 13, 14, 15, 16, 17, 18, 19, 20]\n"
     ]
    }
   ],
   "source": [
    "# 2.A\n",
    "# 3. \n",
    "zahlen_liste = list(range(0,21))\n",
    "print(zahlen_liste)"
   ]
  },
  {
   "cell_type": "code",
   "execution_count": 4,
   "metadata": {},
   "outputs": [
    {
     "name": "stdout",
     "output_type": "stream",
     "text": [
      "0\n",
      "2\n",
      "4\n",
      "6\n",
      "8\n",
      "10\n",
      "12\n",
      "14\n",
      "16\n",
      "18\n",
      "5.0\n",
      "5.5\n",
      "6.0\n",
      "6.5\n",
      "7.0\n",
      "Achtung: Zahl 15 erreicht!\n",
      "8.0\n",
      "8.5\n",
      "9.0\n",
      "9.5\n",
      "10.0\n"
     ]
    }
   ],
   "source": [
    "# 2.B\n",
    "# iteriere über alle Zahlen in zahlen_liste\n",
    "for zahl in zahlen_liste:\n",
    "    \n",
    "    # überprüfe, ob eine Zahl kleiner 10 ist\n",
    "    if zahl < 10:\n",
    "        print(zahl * 2)\n",
    "    \n",
    "    # Spezialfall für die Zahl 15\n",
    "    elif zahl == 15:\n",
    "        print(\"Achtung: Zahl 15 erreicht!\")\n",
    "    \n",
    "    # für alle anderen Zahlen gilt zahl >= 10\n",
    "    # und zahl != 15\n",
    "    else:\n",
    "        print(zahl / 2)"
   ]
  },
  {
   "cell_type": "markdown",
   "metadata": {},
   "source": [
    "### Filter"
   ]
  },
  {
   "cell_type": "markdown",
   "metadata": {},
   "source": [
    "Wir möchten eine Tabelle erzeugen, die nur die Einträge von überlebenden Passagier\\*innen enthält. Wir erinnern uns: bei Überlebenden steht in der Spalte \"survived\" eine Eins. Wie oben beschrieben, erzeugen wir jetzt eine Maske, um die gestorbenen Passagier*innen wegzufiltern:"
   ]
  },
  {
   "cell_type": "code",
   "execution_count": 5,
   "metadata": {},
   "outputs": [
    {
     "data": {
      "text/html": [
       "<div>\n",
       "<style scoped>\n",
       "    .dataframe tbody tr th:only-of-type {\n",
       "        vertical-align: middle;\n",
       "    }\n",
       "\n",
       "    .dataframe tbody tr th {\n",
       "        vertical-align: top;\n",
       "    }\n",
       "\n",
       "    .dataframe thead th {\n",
       "        text-align: right;\n",
       "    }\n",
       "</style>\n",
       "<table border=\"1\" class=\"dataframe\">\n",
       "  <thead>\n",
       "    <tr style=\"text-align: right;\">\n",
       "      <th></th>\n",
       "      <th>survived</th>\n",
       "      <th>pclass</th>\n",
       "      <th>sex</th>\n",
       "      <th>age</th>\n",
       "      <th>sibsp</th>\n",
       "      <th>parch</th>\n",
       "      <th>fare</th>\n",
       "      <th>embarked</th>\n",
       "      <th>class</th>\n",
       "      <th>who</th>\n",
       "      <th>adult_male</th>\n",
       "      <th>deck</th>\n",
       "      <th>embark_town</th>\n",
       "      <th>alive</th>\n",
       "      <th>alone</th>\n",
       "    </tr>\n",
       "  </thead>\n",
       "  <tbody>\n",
       "    <tr>\n",
       "      <th>1</th>\n",
       "      <td>1</td>\n",
       "      <td>1</td>\n",
       "      <td>female</td>\n",
       "      <td>38.0</td>\n",
       "      <td>1</td>\n",
       "      <td>0</td>\n",
       "      <td>71.2833</td>\n",
       "      <td>C</td>\n",
       "      <td>First</td>\n",
       "      <td>woman</td>\n",
       "      <td>False</td>\n",
       "      <td>C</td>\n",
       "      <td>Cherbourg</td>\n",
       "      <td>yes</td>\n",
       "      <td>False</td>\n",
       "    </tr>\n",
       "    <tr>\n",
       "      <th>2</th>\n",
       "      <td>1</td>\n",
       "      <td>3</td>\n",
       "      <td>female</td>\n",
       "      <td>26.0</td>\n",
       "      <td>0</td>\n",
       "      <td>0</td>\n",
       "      <td>7.9250</td>\n",
       "      <td>S</td>\n",
       "      <td>Third</td>\n",
       "      <td>woman</td>\n",
       "      <td>False</td>\n",
       "      <td>NaN</td>\n",
       "      <td>Southampton</td>\n",
       "      <td>yes</td>\n",
       "      <td>True</td>\n",
       "    </tr>\n",
       "    <tr>\n",
       "      <th>3</th>\n",
       "      <td>1</td>\n",
       "      <td>1</td>\n",
       "      <td>female</td>\n",
       "      <td>35.0</td>\n",
       "      <td>1</td>\n",
       "      <td>0</td>\n",
       "      <td>53.1000</td>\n",
       "      <td>S</td>\n",
       "      <td>First</td>\n",
       "      <td>woman</td>\n",
       "      <td>False</td>\n",
       "      <td>C</td>\n",
       "      <td>Southampton</td>\n",
       "      <td>yes</td>\n",
       "      <td>False</td>\n",
       "    </tr>\n",
       "    <tr>\n",
       "      <th>8</th>\n",
       "      <td>1</td>\n",
       "      <td>3</td>\n",
       "      <td>female</td>\n",
       "      <td>27.0</td>\n",
       "      <td>0</td>\n",
       "      <td>2</td>\n",
       "      <td>11.1333</td>\n",
       "      <td>S</td>\n",
       "      <td>Third</td>\n",
       "      <td>woman</td>\n",
       "      <td>False</td>\n",
       "      <td>NaN</td>\n",
       "      <td>Southampton</td>\n",
       "      <td>yes</td>\n",
       "      <td>False</td>\n",
       "    </tr>\n",
       "    <tr>\n",
       "      <th>9</th>\n",
       "      <td>1</td>\n",
       "      <td>2</td>\n",
       "      <td>female</td>\n",
       "      <td>14.0</td>\n",
       "      <td>1</td>\n",
       "      <td>0</td>\n",
       "      <td>30.0708</td>\n",
       "      <td>C</td>\n",
       "      <td>Second</td>\n",
       "      <td>child</td>\n",
       "      <td>False</td>\n",
       "      <td>NaN</td>\n",
       "      <td>Cherbourg</td>\n",
       "      <td>yes</td>\n",
       "      <td>False</td>\n",
       "    </tr>\n",
       "  </tbody>\n",
       "</table>\n",
       "</div>"
      ],
      "text/plain": [
       "   survived  pclass     sex   age  sibsp  parch     fare embarked   class  \\\n",
       "1         1       1  female  38.0      1      0  71.2833        C   First   \n",
       "2         1       3  female  26.0      0      0   7.9250        S   Third   \n",
       "3         1       1  female  35.0      1      0  53.1000        S   First   \n",
       "8         1       3  female  27.0      0      2  11.1333        S   Third   \n",
       "9         1       2  female  14.0      1      0  30.0708        C  Second   \n",
       "\n",
       "     who  adult_male deck  embark_town alive  alone  \n",
       "1  woman       False    C    Cherbourg   yes  False  \n",
       "2  woman       False  NaN  Southampton   yes   True  \n",
       "3  woman       False    C  Southampton   yes  False  \n",
       "8  woman       False  NaN  Southampton   yes  False  \n",
       "9  child       False  NaN    Cherbourg   yes  False  "
      ]
     },
     "execution_count": 5,
     "metadata": {},
     "output_type": "execute_result"
    }
   ],
   "source": [
    "# 3.A\n",
    "# importiere pandas\n",
    "import pandas as pd\n",
    "\n",
    "# lade den Datensatz \n",
    "titanic_data = pd.read_csv('../data/titanic.csv')\n",
    "\n",
    "# erzeuge die Maske\n",
    "maske_lebend = titanic_data['survived'] == 1\n",
    "\n",
    "# filtere den Datensatz\n",
    "lebend = titanic_data[maske_lebend]\n",
    "lebend.head()"
   ]
  },
  {
   "cell_type": "markdown",
   "metadata": {},
   "source": [
    "Jetzt möchten wir außerdem noch nach Geschlecht filtern und separate Tabellen für die überlebenden Frauen und Männer erzeugen. Dazu filtern wir die Einträge in der Spalte \"sex\" nach dem Geschlecht \"female\" oder \"male\":"
   ]
  },
  {
   "cell_type": "code",
   "execution_count": 6,
   "metadata": {},
   "outputs": [
    {
     "name": "stdout",
     "output_type": "stream",
     "text": [
      "Es haben 233 Frauen überlebt.\n",
      "Es haben 109 Männer überlebt.\n"
     ]
    }
   ],
   "source": [
    "# 3.B überlebende Männer & Frauen\n",
    "\n",
    "# erzeuge eine Maske für die überlebenden Frauen\n",
    "# und filtere die Tabelle. Speichere das Ergebnis\n",
    "# in der Variable \"lebend_frau\"\n",
    "maske_lebend_frau = lebend['sex'] == 'female'\n",
    "lebend_frau = lebend[maske_lebend_frau]\n",
    "\n",
    "# erzeuge eine Maske für die überlebenden Männer\n",
    "# und filtere die Tabelle. Speichere das Ergebnis\n",
    "# in der Variable \"lebend_mann\"\n",
    "maske_lebend_mann = lebend['sex'] == 'male'\n",
    "lebend_mann = lebend[maske_lebend_mann]\n",
    "\n",
    "# zähle die Anzahl der Überlebenden Frauen\n",
    "# und Männer mit hilfe der \"len()\"-Funktion\n",
    "anzahl_lebend_frau = len(lebend_frau)\n",
    "anzahl_lebend_mann = len(lebend_mann)\n",
    "\n",
    "print('Es haben {} Frauen überlebt.'.format(anzahl_lebend_frau))\n",
    "print('Es haben {} Männer überlebt.'.format(anzahl_lebend_mann))"
   ]
  },
  {
   "cell_type": "markdown",
   "metadata": {},
   "source": [
    "Jetzt wollen wir noch wissen, wieviele Frauen und Männer unter allen Passagier*innen (also auch den gestorbenen) waren, um uns ein Bild davon zu machen, wieviele Männer und Frauen jeweils überlebt haben:"
   ]
  },
  {
   "cell_type": "code",
   "execution_count": 7,
   "metadata": {},
   "outputs": [
    {
     "name": "stdout",
     "output_type": "stream",
     "text": [
      "Auf der Titanic waren 314 Frauen und 577 Männer\n",
      "Davon haben 233 Frauen und 109 Männer überlebt\n"
     ]
    }
   ],
   "source": [
    "# 3.C ursprüngliche Passagier*innen der Titanic\n",
    "# nach Geschlecht\n",
    "\n",
    "# wir erzeugen wieder zwei Masken für die\n",
    "# beiden Geschlechter\n",
    "maske_frau = titanic_data['sex'] == 'female'\n",
    "maske_mann = titanic_data['sex'] == 'male'\n",
    "\n",
    "# die nach Frauen und Männern gefilterten\n",
    "# Tabellen erhalten wir durch Anwenden der Maske\n",
    "insg_frau = titanic_data[maske_frau]\n",
    "insg_mann = titanic_data[maske_mann]\n",
    "\n",
    "# die Anzahl erhalten wir, indem wir die Zeilen\n",
    "# in den beiden gefilterten Tabellen zählen\n",
    "anzahl_frau = len(insg_frau)\n",
    "anzahl_mann = len(insg_mann)\n",
    "\n",
    "print('Auf der Titanic waren {} Frauen und {} Männer'\\\n",
    "     .format(anzahl_frau, anzahl_mann))\n",
    "\n",
    "print('Davon haben {} Frauen und {} Männer überlebt'\\\n",
    "     .format(anzahl_lebend_frau, anzahl_lebend_mann))"
   ]
  },
  {
   "cell_type": "code",
   "execution_count": 8,
   "metadata": {},
   "outputs": [
    {
     "name": "stdout",
     "output_type": "stream",
     "text": [
      "Es haben 74.2% der Frauen und 18.9% der Männer überlebt.\n"
     ]
    }
   ],
   "source": [
    "# 3.D Überlebenschance\n",
    "\n",
    "# schließlich rechnen wir noch die Prozentanzahl der \n",
    "# überlebenden Frauen und Männer aus:\n",
    "prozent_lebend_frau = anzahl_lebend_frau / anzahl_frau * 100\n",
    "prozent_lebend_mann = anzahl_lebend_mann / anzahl_mann * 100\n",
    "\n",
    "print('Es haben {:1.1f}% der Frauen und {:1.1f}% der Männer überlebt.'\\\n",
    "     .format(prozent_lebend_frau, prozent_lebend_mann))"
   ]
  },
  {
   "cell_type": "markdown",
   "metadata": {},
   "source": [
    "3.E) Bei Schiffsunglücken verlassen Frauen und Kinder das sinkende Schiff zuerst. Damit lässt sich erklären, dass deutlich mehr Frauen als Männer den Untergang der Titanic überlebt haben. Alternative Erklärungen die einem einfallen könnten, wenn man dieses Wissen nicht hat wären z.B.:\n",
    "* Frauen können besser Schwimmen\n",
    "* Frauen können lauter schreien und wurden deswegen von den zur Rettung heraneilenden Schiffen schneller gefunden\n",
    "* Frauen sind dicker und überleben deswegen länger im Eiswasser\n",
    "* ..."
   ]
  },
  {
   "cell_type": "code",
   "execution_count": 9,
   "metadata": {},
   "outputs": [
    {
     "data": {
      "text/html": [
       "<div>\n",
       "<style scoped>\n",
       "    .dataframe tbody tr th:only-of-type {\n",
       "        vertical-align: middle;\n",
       "    }\n",
       "\n",
       "    .dataframe tbody tr th {\n",
       "        vertical-align: top;\n",
       "    }\n",
       "\n",
       "    .dataframe thead th {\n",
       "        text-align: right;\n",
       "    }\n",
       "</style>\n",
       "<table border=\"1\" class=\"dataframe\">\n",
       "  <thead>\n",
       "    <tr style=\"text-align: right;\">\n",
       "      <th></th>\n",
       "      <th>survived</th>\n",
       "      <th>pclass</th>\n",
       "      <th>sex</th>\n",
       "      <th>age</th>\n",
       "      <th>sibsp</th>\n",
       "      <th>parch</th>\n",
       "      <th>fare</th>\n",
       "      <th>embarked</th>\n",
       "      <th>class</th>\n",
       "      <th>who</th>\n",
       "      <th>adult_male</th>\n",
       "      <th>deck</th>\n",
       "      <th>embark_town</th>\n",
       "      <th>alive</th>\n",
       "      <th>alone</th>\n",
       "    </tr>\n",
       "  </thead>\n",
       "  <tbody>\n",
       "    <tr>\n",
       "      <th>0</th>\n",
       "      <td>0</td>\n",
       "      <td>3</td>\n",
       "      <td>male</td>\n",
       "      <td>22.0</td>\n",
       "      <td>1</td>\n",
       "      <td>0</td>\n",
       "      <td>7.2500</td>\n",
       "      <td>S</td>\n",
       "      <td>Third</td>\n",
       "      <td>man</td>\n",
       "      <td>True</td>\n",
       "      <td>NaN</td>\n",
       "      <td>Southampton</td>\n",
       "      <td>no</td>\n",
       "      <td>False</td>\n",
       "    </tr>\n",
       "    <tr>\n",
       "      <th>1</th>\n",
       "      <td>1</td>\n",
       "      <td>1</td>\n",
       "      <td>female</td>\n",
       "      <td>38.0</td>\n",
       "      <td>1</td>\n",
       "      <td>0</td>\n",
       "      <td>71.2833</td>\n",
       "      <td>C</td>\n",
       "      <td>First</td>\n",
       "      <td>woman</td>\n",
       "      <td>False</td>\n",
       "      <td>C</td>\n",
       "      <td>Cherbourg</td>\n",
       "      <td>yes</td>\n",
       "      <td>False</td>\n",
       "    </tr>\n",
       "    <tr>\n",
       "      <th>2</th>\n",
       "      <td>1</td>\n",
       "      <td>3</td>\n",
       "      <td>female</td>\n",
       "      <td>26.0</td>\n",
       "      <td>0</td>\n",
       "      <td>0</td>\n",
       "      <td>7.9250</td>\n",
       "      <td>S</td>\n",
       "      <td>Third</td>\n",
       "      <td>woman</td>\n",
       "      <td>False</td>\n",
       "      <td>NaN</td>\n",
       "      <td>Southampton</td>\n",
       "      <td>yes</td>\n",
       "      <td>True</td>\n",
       "    </tr>\n",
       "    <tr>\n",
       "      <th>3</th>\n",
       "      <td>1</td>\n",
       "      <td>1</td>\n",
       "      <td>female</td>\n",
       "      <td>35.0</td>\n",
       "      <td>1</td>\n",
       "      <td>0</td>\n",
       "      <td>53.1000</td>\n",
       "      <td>S</td>\n",
       "      <td>First</td>\n",
       "      <td>woman</td>\n",
       "      <td>False</td>\n",
       "      <td>C</td>\n",
       "      <td>Southampton</td>\n",
       "      <td>yes</td>\n",
       "      <td>False</td>\n",
       "    </tr>\n",
       "    <tr>\n",
       "      <th>4</th>\n",
       "      <td>0</td>\n",
       "      <td>3</td>\n",
       "      <td>male</td>\n",
       "      <td>35.0</td>\n",
       "      <td>0</td>\n",
       "      <td>0</td>\n",
       "      <td>8.0500</td>\n",
       "      <td>S</td>\n",
       "      <td>Third</td>\n",
       "      <td>man</td>\n",
       "      <td>True</td>\n",
       "      <td>NaN</td>\n",
       "      <td>Southampton</td>\n",
       "      <td>no</td>\n",
       "      <td>True</td>\n",
       "    </tr>\n",
       "  </tbody>\n",
       "</table>\n",
       "</div>"
      ],
      "text/plain": [
       "   survived  pclass     sex   age  sibsp  parch     fare embarked  class  \\\n",
       "0         0       3    male  22.0      1      0   7.2500        S  Third   \n",
       "1         1       1  female  38.0      1      0  71.2833        C  First   \n",
       "2         1       3  female  26.0      0      0   7.9250        S  Third   \n",
       "3         1       1  female  35.0      1      0  53.1000        S  First   \n",
       "4         0       3    male  35.0      0      0   8.0500        S  Third   \n",
       "\n",
       "     who  adult_male deck  embark_town alive  alone  \n",
       "0    man        True  NaN  Southampton    no  False  \n",
       "1  woman       False    C    Cherbourg   yes  False  \n",
       "2  woman       False  NaN  Southampton   yes   True  \n",
       "3  woman       False    C  Southampton   yes  False  \n",
       "4    man        True  NaN  Southampton    no   True  "
      ]
     },
     "execution_count": 9,
     "metadata": {},
     "output_type": "execute_result"
    }
   ],
   "source": [
    "# 3.F\n",
    "titanic_data.head()"
   ]
  },
  {
   "cell_type": "code",
   "execution_count": 10,
   "metadata": {},
   "outputs": [
    {
     "name": "stdout",
     "output_type": "stream",
     "text": [
      "**Passagiere**\n",
      "Klasse 1: 216, Klasse 2: 184, Klasse 3: 491\n",
      "\n",
      "**Überlebende Passagiere**\n",
      "Klasse 1: 136, Klasse 2: 87, Klasse 3: 119\n",
      "\n",
      "**Überlebenschance je Klasse**\n",
      "Klasse 1: 62.96, Klasse 2: 47.28, Klasse 3: 24.24\n"
     ]
    }
   ],
   "source": [
    "# Passagiere in den Klassen 1, 2 und 3\n",
    "\n",
    "# erstelle die Masken\n",
    "maske_class1 = titanic_data['pclass'] == 1\n",
    "maske_class2 = titanic_data['pclass'] == 2\n",
    "maske_class3 = titanic_data['pclass'] == 3\n",
    "\n",
    "# filtere die Tabelle\n",
    "insg_class1 = titanic_data[maske_class1]\n",
    "insg_class2 = titanic_data[maske_class2]\n",
    "insg_class3 = titanic_data[maske_class3]\n",
    "\n",
    "# Anzahl der Passagiere in allen drei Klassen\n",
    "anzahl_class1 = len(insg_class1)\n",
    "anzahl_class2 = len(insg_class2)\n",
    "anzahl_class3 = len(insg_class3)\n",
    "\n",
    "# Ausgabe Zwischenergebnis\n",
    "print('**Passagiere**')\n",
    "print('Klasse 1: {}, Klasse 2: {}, Klasse 3: {}'\\\n",
    "     .format(anzahl_class1, anzahl_class2, anzahl_class3))\n",
    "\n",
    "# Überlebende\n",
    "# erzeuge die Maske\n",
    "maske_lebend = titanic_data['survived'] == 1\n",
    "\n",
    "# filtere den Datensatz\n",
    "lebend = titanic_data[maske_lebend]\n",
    "\n",
    "# Masken für die Überlebende in allen drei Klassen\n",
    "maske_lebend_class1 = lebend['pclass'] == 1\n",
    "maske_lebend_class2 = lebend['pclass'] == 2\n",
    "maske_lebend_class3 = lebend['pclass'] == 3\n",
    "\n",
    "# filtere die Tabelle der Überlebenden nach Klassen\n",
    "lebend_class1 = lebend[maske_lebend_class1]\n",
    "lebend_class2 = lebend[maske_lebend_class2]\n",
    "lebend_class3 = lebend[maske_lebend_class3]\n",
    "\n",
    "# rechne die Anzahl der Überlebenden nach Klasse aus\n",
    "anzahl_lebend_class1 = len(lebend_class1)\n",
    "anzahl_lebend_class2 = len(lebend_class2)\n",
    "anzahl_lebend_class3 = len(lebend_class3)\n",
    "\n",
    "# Ausgabe Zwischenergebnis\n",
    "print()\n",
    "print('**Überlebende Passagiere**')\n",
    "print('Klasse 1: {}, Klasse 2: {}, Klasse 3: {}'\\\n",
    "     .format(anzahl_lebend_class1, \\\n",
    "             anzahl_lebend_class2, \\\n",
    "             anzahl_lebend_class3))\n",
    "\n",
    "# Berechne, wieviel % je Klasse überlebt haben\n",
    "prozent_lebend_class1 = anzahl_lebend_class1 / anzahl_class1 * 100\n",
    "prozent_lebend_class2 = anzahl_lebend_class2 / anzahl_class2 * 100\n",
    "prozent_lebend_class3 = anzahl_lebend_class3 / anzahl_class3 * 100\n",
    "\n",
    "# Ausgabe Endergebnis\n",
    "print()\n",
    "print('**Überlebenschance je Klasse**')\n",
    "print('Klasse 1: {:1.2f}, Klasse 2: {:1.2f}, Klasse 3: {:1.2f}'\\\n",
    "     .format(prozent_lebend_class1, \\\n",
    "             prozent_lebend_class2, \\\n",
    "             prozent_lebend_class3))"
   ]
  },
  {
   "cell_type": "code",
   "execution_count": 11,
   "metadata": {},
   "outputs": [
    {
     "data": {
      "image/png": "[encoded data removed]",
      "text/plain": [
       "<Figure size 432x288 with 1 Axes>"
      ]
     },
     "metadata": {},
     "output_type": "display_data"
    }
   ],
   "source": [
    "# Bonus: Visualisierung\n",
    "\n",
    "# importiere matplotlib.pyplot unter dem Kürzel \"plt\"\n",
    "# für die Visualisierung\n",
    "import matplotlib.pyplot as plt\n",
    "%matplotlib inline\n",
    "\n",
    "# Die Klassen werden auf der X-Achse dargestellt.\n",
    "# Dafür erstellen wir eine Liste der Klassen\n",
    "klassen = [1, 2, 3]\n",
    "\n",
    "# Die Überlebenschance wird auf der Y-Achse dargestellt,\n",
    "# Dafür erstellen wir eine Liste der oben ausgerechneten\n",
    "# Werte\n",
    "ueberlebenschance = [prozent_lebend_class1, \\\n",
    "                     prozent_lebend_class2, \\\n",
    "                     prozent_lebend_class3]\n",
    "\n",
    "# Die Funktion \"scatter()\" erstellt einen \"Scatterplot\",\n",
    "# also eine Ansicht der Datenpunkte auf einer Ebene\n",
    "# aufgespannt von der x-Achse und der y-Achse\n",
    "# Wir übergeben der Funktion die oben erstellten Listen:\n",
    "# erst die Liste, die der x-Koordinate (Klassen) entspricht,\n",
    "# dann die Liste, die der y-Koordinate (Überlebensschance)\n",
    "# entspricht\n",
    "plt.scatter(klassen, ueberlebenschance)\n",
    "\n",
    "# mit der Funktion \"title()\" geben wir der Abbildung\n",
    "# eine Überschrift\n",
    "plt.title('Überlebenschance nach Klasse auf der Titanic')\n",
    "\n",
    "# mit den Funktionen \"xlabel()\" und \"ylabel()\"\n",
    "# beschriften wir die Achsen der Abbildung. Achsen\n",
    "# von Abbildungen müssen IMMER beschriftet werden, \n",
    "# damit klar, ist, was eigentlich abgebildet wird\n",
    "plt.xlabel('Klasse')\n",
    "plt.ylabel('Überlebenschance / %')\n",
    "\n",
    "# mit dieser Zeile wird noch die Einteilung der\n",
    "# x-Achse angepasst, damit sie mehr Sinn ergibt.\n",
    "# Versuche einmal, diese Zeile zu entfernen\n",
    "# (am besten mit \"#\" auskommentieren) und sieh\n",
    "# dir an, wie die x-Achse ohne aussieht.\n",
    "plt.gca().set_xticks([1,2,3]);"
   ]
  }
 ],
 "metadata": {
  "kernelspec": {
   "display_name": "Python 3",
   "language": "python",
   "name": "python3"
  },
  "language_info": {
   "codemirror_mode": {
    "name": "ipython",
    "version": 3
   },
   "file_extension": ".py",
   "mimetype": "text/x-python",
   "name": "python",
   "nbconvert_exporter": "python",
   "pygments_lexer": "ipython3",
   "version": "3.5.2"
  }
 },
 "nbformat": 4,
 "nbformat_minor": 2
}
