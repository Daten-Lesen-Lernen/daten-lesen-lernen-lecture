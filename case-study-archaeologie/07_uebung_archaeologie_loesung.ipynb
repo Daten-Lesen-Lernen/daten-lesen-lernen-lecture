{
 "cells": [
  {
   "cell_type": "markdown",
   "metadata": {},
   "source": [
    "_Lizenz: Das folgende Lehrmaterial kann unter einer [CC-BY-SA 4.0](https://creativecommons.org/licenses/by/4.0/legalcode) Lizenz frei verwendet, verbreitet und modifiziert werden._   \n",
    " _Authoren: Jana Lasser (jana.lasser@ds.mpg.de)_  \n",
    " _Das Lehrmaterial wurde im Zuge des Projektes \"Daten Lesen Lernen\", gefördert vom Stifterverband und der Heinz Nixdorf Stiftung erstellt._"
   ]
  },
  {
   "cell_type": "markdown",
   "metadata": {},
   "source": [
    "# Lösung Übung 07 - Archäologie: Visualisierung über einer Landkarte\n",
    "### Praktische Hinweise\n",
    "$\\rightarrow$ Übungen sind dafür gedacht, dass ihr sie euch daheim anseht und versucht, ein paar Aufgaben selbst zu lösen. In den Tutorien könnt ihr euch weiter mit dem Lösungen der Aufgaben beschäftigen und dabei Hilfe von den Tutor*innen bekommen.  \n",
    "\n",
    "$\\rightarrow$ Wenn ein Fehler auftritt:\n",
    "1. Fehlermeldung _lesen_ und _verstehen_\n",
    "2. Versuchen, selbst eine Lösung zu finden ($\\rightarrow$ hier findet das Lernen statt!)\n",
    "3. Das Problem googlen (Stichwort: Stackoverflow) oder den/die Nachbar*in fragen\n",
    "4. Tutor*in fragen\n",
    "\n",
    "$\\rightarrow$ Unter <font color='green'>**HINWEIS**</font> werden Hinweise gegeben, die für die Lösung der Aufgabe hilfreich sind und oftmals auch weiterführende Informationen zur Aufgabe liefern.\n",
    "\n",
    "$\\rightarrow$ Mit **(Optional)** gekennzeichnete Übungsteile sind für besonders schnelle Menschen :-)."
   ]
  },
  {
   "cell_type": "markdown",
   "metadata": {},
   "source": [
    "<a name=\"top\"></a>Inhalt\n",
    "---\n",
    "In diesem Tutorium möchten wir uns damit beschäftigen, Daten denen eine Räumliche Information zugeordnet ist auf einer Landkarte zu visualisieren. Dafür beschäftigen wir uns zuerst mit sog. \"Scatterplots\", die es uns erlauben, Datenpunkte anhand ihrer x- und y-Koordinaten darzustellen. Dieses Wissen wenden wir dann an, um die Anzahl der Fundstücke im Mittelmehrraum graphisch darzustellen.\n",
    "\n",
    "Das Tutorial gliedert sich in\n",
    "* [Scatterplots und Orte](#spatterplots)\n",
    "* [Landkarten](#landkarten)"
   ]
  },
  {
   "cell_type": "markdown",
   "metadata": {},
   "source": [
    "<a name=\"scatterplots\"></a>1. Scatterplots und Orte\n",
    "---\n",
    "Die Funktion ```plt.scatter(x,y)``` ([Dokumentation](https://matplotlib.org/3.1.0/api/_as_gen/matplotlib.pyplot.scatter.html)) erlaubt es uns, einen einfachen Scatterplot zu erstellen:"
   ]
  },
  {
   "cell_type": "code",
   "execution_count": 1,
   "metadata": {
    "run_control": {
     "frozen": false,
     "read_only": false
    }
   },
   "outputs": [
    {
     "data": {
      "text/plain": [
       "<matplotlib.collections.PathCollection at 0x11afe8b70>"
      ]
     },
     "execution_count": 1,
     "metadata": {},
     "output_type": "execute_result"
    },
    {
     "data": {
      "image/png": "[encoded data removed]",
      "text/plain": [
       "<Figure size 432x288 with 1 Axes>"
      ]
     },
     "metadata": {},
     "output_type": "display_data"
    }
   ],
   "source": [
    "import matplotlib.pyplot as plt\n",
    "%matplotlib inline\n",
    "\n",
    "x = [3,5,7,4]\n",
    "y = [1,3,2,4]\n",
    "\n",
    "plt.scatter(x,y)"
   ]
  },
  {
   "cell_type": "markdown",
   "metadata": {},
   "source": [
    "**A.** Mache dich mit den Verschiedenen Argumenten der Funktion ```scatter()``` vertraut. Du kannst der Funktion z.B. mit dem Argument ```s``` eine Liste an Größen und mit dem Argument ```c``` eine Liste an Farben übergeben, um die Größe und Farbe der einzelnen dargestellten Punkte zu modifizieren."
   ]
  },
  {
   "cell_type": "code",
   "execution_count": 2,
   "metadata": {
    "run_control": {
     "frozen": false,
     "read_only": false
    }
   },
   "outputs": [
    {
     "data": {
      "text/plain": [
       "<matplotlib.collections.PathCollection at 0x11b160ba8>"
      ]
     },
     "execution_count": 2,
     "metadata": {},
     "output_type": "execute_result"
    },
    {
     "data": {
      "image/png": "[encoded data removed]",
      "text/plain": [
       "<Figure size 432x288 with 1 Axes>"
      ]
     },
     "metadata": {},
     "output_type": "display_data"
    }
   ],
   "source": [
    "sizes = [10,20,40,80]\n",
    "colors = ['red', 'green', 'blue', 'orange']\n",
    "\n",
    "plt.scatter(x,y, s=sizes, c=colors)"
   ]
  },
  {
   "cell_type": "markdown",
   "metadata": {},
   "source": [
    "Wir laden den Fundstücke-Katalog und die Tabelle ```ÌCRATES_LOCATION.csv```, in der die Längen- und Breitengrade der verschiedenen Fundorte vermerkt sind:"
   ]
  },
  {
   "cell_type": "code",
   "execution_count": 3,
   "metadata": {
    "run_control": {
     "frozen": false,
     "read_only": false
    }
   },
   "outputs": [
    {
     "name": "stderr",
     "output_type": "stream",
     "text": [
      "/anaconda/envs/networks/lib/python3.6/site-packages/IPython/core/interactiveshell.py:2698: DtypeWarning: Columns (17,34,36,40) have mixed types. Specify dtype option on import or set low_memory=False.\n",
      "  interactivity=interactivity, compiler=compiler, result=result)\n"
     ]
    },
    {
     "data": {
      "text/html": [
       "<div>\n",
       "<style scoped>\n",
       "    .dataframe tbody tr th:only-of-type {\n",
       "        vertical-align: middle;\n",
       "    }\n",
       "\n",
       "    .dataframe tbody tr th {\n",
       "        vertical-align: top;\n",
       "    }\n",
       "\n",
       "    .dataframe thead th {\n",
       "        text-align: right;\n",
       "    }\n",
       "</style>\n",
       "<table border=\"1\" class=\"dataframe\">\n",
       "  <thead>\n",
       "    <tr style=\"text-align: right;\">\n",
       "      <th></th>\n",
       "      <th>Unnamed: 0</th>\n",
       "      <th>Location_ID</th>\n",
       "      <th>Location_simple</th>\n",
       "      <th>Longitude</th>\n",
       "      <th>Latitude</th>\n",
       "      <th>Coordinates_uncertain</th>\n",
       "      <th>Harbour</th>\n",
       "      <th>Sea</th>\n",
       "      <th>River</th>\n",
       "      <th>River_navigability</th>\n",
       "      <th>...</th>\n",
       "      <th>Modern_country</th>\n",
       "      <th>Late_Hellenistic_Area_Provincia</th>\n",
       "      <th>Early_Imperial_Province</th>\n",
       "      <th>Middle_Imperial_Province</th>\n",
       "      <th>Early_Byzantine_region</th>\n",
       "      <th>Comment_Remarks</th>\n",
       "      <th>BA_map_reference</th>\n",
       "      <th>BA_Rank</th>\n",
       "      <th>BA_rank_uncertain</th>\n",
       "      <th>Pleiades_URL</th>\n",
       "    </tr>\n",
       "  </thead>\n",
       "  <tbody>\n",
       "    <tr>\n",
       "      <td>0</td>\n",
       "      <td>0</td>\n",
       "      <td>1</td>\n",
       "      <td>aazaz</td>\n",
       "      <td>37.004606</td>\n",
       "      <td>36.519218</td>\n",
       "      <td>0</td>\n",
       "      <td>0</td>\n",
       "      <td>not_available</td>\n",
       "      <td>not_available</td>\n",
       "      <td>not_available</td>\n",
       "      <td>...</td>\n",
       "      <td>Syria</td>\n",
       "      <td>Syria</td>\n",
       "      <td>Syria</td>\n",
       "      <td>not_available</td>\n",
       "      <td>not_available</td>\n",
       "      <td>none</td>\n",
       "      <td>not_available</td>\n",
       "      <td>4</td>\n",
       "      <td>0</td>\n",
       "      <td>not_available</td>\n",
       "    </tr>\n",
       "    <tr>\n",
       "      <td>1</td>\n",
       "      <td>1</td>\n",
       "      <td>2</td>\n",
       "      <td>abdera</td>\n",
       "      <td>24.973047</td>\n",
       "      <td>40.933650</td>\n",
       "      <td>0</td>\n",
       "      <td>1</td>\n",
       "      <td>Thracium/Macedonicum_Mare</td>\n",
       "      <td>not_available</td>\n",
       "      <td>not_available</td>\n",
       "      <td>...</td>\n",
       "      <td>Greece</td>\n",
       "      <td>not_available</td>\n",
       "      <td>Thracia</td>\n",
       "      <td>Thracia_Rhodope</td>\n",
       "      <td>not_available</td>\n",
       "      <td>none</td>\n",
       "      <td>51_D3</td>\n",
       "      <td>4</td>\n",
       "      <td>0</td>\n",
       "      <td>https://pleiades.stoa.org/places/501323</td>\n",
       "    </tr>\n",
       "    <tr>\n",
       "      <td>2</td>\n",
       "      <td>2</td>\n",
       "      <td>3</td>\n",
       "      <td>abu_jiffa</td>\n",
       "      <td>0.000000</td>\n",
       "      <td>0.000000</td>\n",
       "      <td>1</td>\n",
       "      <td>0</td>\n",
       "      <td>not_available</td>\n",
       "      <td>not_available</td>\n",
       "      <td>not_available</td>\n",
       "      <td>...</td>\n",
       "      <td>Israel</td>\n",
       "      <td>not_available</td>\n",
       "      <td>Arabia</td>\n",
       "      <td>not_available</td>\n",
       "      <td>Palaistine_III</td>\n",
       "      <td>none</td>\n",
       "      <td>not_available</td>\n",
       "      <td>0</td>\n",
       "      <td>1</td>\n",
       "      <td>not_available</td>\n",
       "    </tr>\n",
       "    <tr>\n",
       "      <td>3</td>\n",
       "      <td>3</td>\n",
       "      <td>6</td>\n",
       "      <td>adulis</td>\n",
       "      <td>39.663840</td>\n",
       "      <td>15.244510</td>\n",
       "      <td>0</td>\n",
       "      <td>1</td>\n",
       "      <td>Red_Sea</td>\n",
       "      <td>not_available</td>\n",
       "      <td>not_available</td>\n",
       "      <td>...</td>\n",
       "      <td>Eritrea</td>\n",
       "      <td>Barbaricum</td>\n",
       "      <td>Barbaricum</td>\n",
       "      <td>Barbaricum</td>\n",
       "      <td>Barbaricum</td>\n",
       "      <td>Study of the coastal change since Antiquity su...</td>\n",
       "      <td>not_available</td>\n",
       "      <td>3</td>\n",
       "      <td>1</td>\n",
       "      <td>not_available</td>\n",
       "    </tr>\n",
       "    <tr>\n",
       "      <td>4</td>\n",
       "      <td>4</td>\n",
       "      <td>10</td>\n",
       "      <td>agioi_pandes</td>\n",
       "      <td>21.679860</td>\n",
       "      <td>38.661422</td>\n",
       "      <td>0</td>\n",
       "      <td>0</td>\n",
       "      <td>not_available</td>\n",
       "      <td>not_available</td>\n",
       "      <td>not_available</td>\n",
       "      <td>...</td>\n",
       "      <td>Greece</td>\n",
       "      <td>Achaia</td>\n",
       "      <td>Achaia</td>\n",
       "      <td>Achaia</td>\n",
       "      <td>Hellas</td>\n",
       "      <td>none</td>\n",
       "      <td>not_available</td>\n",
       "      <td>4</td>\n",
       "      <td>1</td>\n",
       "      <td>not_available</td>\n",
       "    </tr>\n",
       "  </tbody>\n",
       "</table>\n",
       "<p>5 rows × 22 columns</p>\n",
       "</div>"
      ],
      "text/plain": [
       "   Unnamed: 0  Location_ID Location_simple  Longitude   Latitude  \\\n",
       "0           0            1           aazaz  37.004606  36.519218   \n",
       "1           1            2          abdera  24.973047  40.933650   \n",
       "2           2            3       abu_jiffa   0.000000   0.000000   \n",
       "3           3            6          adulis  39.663840  15.244510   \n",
       "4           4           10    agioi_pandes  21.679860  38.661422   \n",
       "\n",
       "   Coordinates_uncertain  Harbour                        Sea          River  \\\n",
       "0                      0        0              not_available  not_available   \n",
       "1                      0        1  Thracium/Macedonicum_Mare  not_available   \n",
       "2                      1        0              not_available  not_available   \n",
       "3                      0        1                    Red_Sea  not_available   \n",
       "4                      0        0              not_available  not_available   \n",
       "\n",
       "  River_navigability  ... Modern_country Late_Hellenistic_Area_Provincia  \\\n",
       "0      not_available  ...          Syria                           Syria   \n",
       "1      not_available  ...         Greece                   not_available   \n",
       "2      not_available  ...         Israel                   not_available   \n",
       "3      not_available  ...        Eritrea                      Barbaricum   \n",
       "4      not_available  ...         Greece                          Achaia   \n",
       "\n",
       "  Early_Imperial_Province Middle_Imperial_Province Early_Byzantine_region  \\\n",
       "0                   Syria            not_available          not_available   \n",
       "1                 Thracia          Thracia_Rhodope          not_available   \n",
       "2                  Arabia            not_available         Palaistine_III   \n",
       "3              Barbaricum               Barbaricum             Barbaricum   \n",
       "4                  Achaia                   Achaia                 Hellas   \n",
       "\n",
       "                                     Comment_Remarks BA_map_reference BA_Rank  \\\n",
       "0                                               none    not_available       4   \n",
       "1                                               none            51_D3       4   \n",
       "2                                               none    not_available       0   \n",
       "3  Study of the coastal change since Antiquity su...    not_available       3   \n",
       "4                                               none    not_available       4   \n",
       "\n",
       "  BA_rank_uncertain                             Pleiades_URL  \n",
       "0                 0                            not_available  \n",
       "1                 0  https://pleiades.stoa.org/places/501323  \n",
       "2                 1                            not_available  \n",
       "3                 1                            not_available  \n",
       "4                 1                            not_available  \n",
       "\n",
       "[5 rows x 22 columns]"
      ]
     },
     "execution_count": 3,
     "metadata": {},
     "output_type": "execute_result"
    }
   ],
   "source": [
    "import pandas as pd\n",
    "catalogue = pd.read_csv(\"data/ICRATES_CATALOGUE.csv\", encoding='ISO-8859-1')\n",
    "location = pd.read_csv('data/ICRATES_LOCATION.csv', encoding = \"ISO-8859-1\", low_memory=False)\n",
    "location.head()"
   ]
  },
  {
   "cell_type": "markdown",
   "metadata": {},
   "source": [
    "**B.** Wieviele verschiedene Fundorte gibt es? In welchen (modernen) Ländergrenzen liegen sie?"
   ]
  },
  {
   "cell_type": "code",
   "execution_count": 4,
   "metadata": {
    "run_control": {
     "frozen": false,
     "read_only": false
    }
   },
   "outputs": [
    {
     "name": "stdout",
     "output_type": "stream",
     "text": [
      "Es gibt 275 verschiedene Fundorte\n",
      "Die Fundorte liegen in:\n"
     ]
    },
    {
     "data": {
      "text/plain": [
       "array(['Syria', 'Greece', 'Israel', 'Eritrea', 'Turkey', 'Egypt', 'Italy',\n",
       "       'Cyprus', 'Jordan', 'Libya', 'India', 'Ethiopia', 'Iraq',\n",
       "       'Lebanon', 'Albania', 'Tunisia', 'United_Arab_Emirates', 'Sudan',\n",
       "       'Malta', 'Yemen', 'Macedonia', 'Oman'], dtype=object)"
      ]
     },
     "execution_count": 4,
     "metadata": {},
     "output_type": "execute_result"
    }
   ],
   "source": [
    "print('Es gibt {} verschiedene Fundorte'.format(len(location)))\n",
    "print('Die Fundorte liegen in:')\n",
    "location.Modern_country.unique()"
   ]
  },
  {
   "cell_type": "markdown",
   "metadata": {},
   "source": [
    "**C.** Stelle die Fundorte als Scatterplot dar. In welchem Bereich (Längen- und Breitengrad) liegen die Datenpunkte? Was hat es mit dem Punkt bei (0,0) auf sich?"
   ]
  },
  {
   "cell_type": "code",
   "execution_count": 5,
   "metadata": {
    "run_control": {
     "frozen": false,
     "read_only": false
    }
   },
   "outputs": [
    {
     "data": {
      "text/plain": [
       "Text(0.5, 1.0, 'Scherbenfundorte im Mittelmeerraum')"
      ]
     },
     "execution_count": 5,
     "metadata": {},
     "output_type": "execute_result"
    },
    {
     "data": {
      "image/png": "[encoded data removed]",
      "text/plain": [
       "<Figure size 432x288 with 1 Axes>"
      ]
     },
     "metadata": {},
     "output_type": "display_data"
    }
   ],
   "source": [
    "x = location['Longitude']\n",
    "y = location['Latitude']\n",
    "\n",
    "plt.scatter(x,y)\n",
    "plt.xlabel('Längengrad')\n",
    "plt.ylabel('Breitengrad')\n",
    "plt.title('Scherbenfundorte im Mittelmeerraum')"
   ]
  },
  {
   "cell_type": "code",
   "execution_count": 6,
   "metadata": {
    "collapsed": true,
    "run_control": {
     "frozen": false,
     "read_only": false
    }
   },
   "outputs": [],
   "source": [
    "# Einträge mit Longitude = 0 und Latitude = 0 stellen offensichtlich Fundorte\n",
    "# dar, bei denen Längen- und Breitengrad unbekannt sind. Wir können alle Nullen\n",
    "# mit NaN ersetzen, damit wir im Folgenden einfacher mit diesen Spalten rechnen\n",
    "# können\n",
    "\n",
    "# importiere die Bibliothek NumPy, die uns den NaN Wert zur Verfügung stellt\n",
    "import numpy as np\n",
    "# ersezte alle Nullen mit np.nan (inplace=True gibt an, dass die\n",
    "# Ersetzung direkt (inplace) erfolgen soll, und keine Kopie des\n",
    "# DataFrame dabei erstellt werden soll).\n",
    "location['Longitude'].replace(0, np.nan, inplace=True)\n",
    "location['Latitude'].replace(0, np.nan, inplace=True)"
   ]
  },
  {
   "cell_type": "code",
   "execution_count": 7,
   "metadata": {
    "run_control": {
     "frozen": false,
     "read_only": false
    }
   },
   "outputs": [
    {
     "name": "stdout",
     "output_type": "stream",
     "text": [
      "Es gibt 233 Fundorte mit bekannten Koordinaten\n",
      "Der Längengrad liegt zwischen 10.32 und 79.82\n",
      "Der Breitengrad liegt zwischen 10.15 und 45.56\n"
     ]
    }
   ],
   "source": [
    "# sind die fehlenden Einträge erst einmal herausgefiltert, lassen sich\n",
    "# z.B. der minimale und maximale Längengrad (und Breitengrad) sehr leicht herausfinden\n",
    "print('Es gibt {} Fundorte mit bekannten Koordinaten'.format(len(location.dropna())))\n",
    "print('Der Längengrad liegt zwischen {:1.2f} und {:1.2f}'\\\n",
    "      .format(location['Longitude'].min(), location['Longitude'].max()))\n",
    "print('Der Breitengrad liegt zwischen {:1.2f} und {:1.2f}'\\\n",
    "      .format(location['Latitude'].min(), location['Latitude'].max()))"
   ]
  },
  {
   "cell_type": "markdown",
   "metadata": {},
   "source": [
    "Um herauszufinden, wieviele Fundstücke es pro Fundort gibt, müssen wir den Katalog nach der ```Location_ID``` filtern. Um z.B. die Anzahl der Fundstücke mit der ID 1 zu finden, gehen wir wie folgt vor:"
   ]
  },
  {
   "cell_type": "code",
   "execution_count": 8,
   "metadata": {
    "run_control": {
     "frozen": false,
     "read_only": false
    }
   },
   "outputs": [
    {
     "name": "stdout",
     "output_type": "stream",
     "text": [
      "Am Fundort aazaz (ID 1) wurden 9 Fundstücke gefunden.\n"
     ]
    }
   ],
   "source": [
    "# nach dieser ID suchen wir\n",
    "ID = 1\n",
    "\n",
    "# wir wollen auch direkt den Namen des Fundortes herausfinden, dafür\n",
    "# erstellen wir eine Maske \n",
    "name_mask = location['Location_ID'] == ID\n",
    "# und filtern dann dass \"location\" DataFrame entsprechend\n",
    "location_name = location[name_mask]['Location_simple'][0]\n",
    "\n",
    "# um alle Fundstücke, die an einem bestimmten Fundort mit einer\n",
    "# gegebenen ID gefunden wurden im Katalog zu finden, erstellen\n",
    "# wir ebenfalls eine Maske\n",
    "location_id_mask = catalogue['Location_ID'] == ID\n",
    "\n",
    "# wir filtern den Katalog mit Hilfe der Maske...\n",
    "filtered = catalogue[location_id_mask]\n",
    "# ...und zählen die Fundstücke\n",
    "count = len(filtered)\n",
    "\n",
    "print('Am Fundort {} (ID {}) wurden {} Fundstücke gefunden.'\\\n",
    "      .format(location_name, ID, count))"
   ]
  },
  {
   "cell_type": "markdown",
   "metadata": {},
   "source": [
    "**D.** Iteriere über alle Location IDs in der ```location``` Tabelle. Finde für jeden Fundort heraus, wieviele Fundstücke dort gefunden wurden. Speichere die Ergebnisse in einer neuen Liste, füge die Liste dem ```location``` DataFrame als neue Spalte hinzu."
   ]
  },
  {
   "cell_type": "code",
   "execution_count": 9,
   "metadata": {
    "collapsed": true,
    "run_control": {
     "frozen": false,
     "read_only": false
    }
   },
   "outputs": [],
   "source": [
    "sherd_count = []\n",
    "for ID in location['Location_ID']:\n",
    "    location_id_mask = catalogue['Location_ID'] == ID\n",
    "    filtered = catalogue[location_id_mask]\n",
    "    count = len(filtered)\n",
    "    sherd_count.append(count)\n",
    "    \n",
    "location['Sherd_Count'] = sherd_count"
   ]
  },
  {
   "cell_type": "markdown",
   "metadata": {},
   "source": [
    "<a name=\"landkarten\"></a>2. Landkarten\n",
    "---\n",
    "Der in Aufgabe **1.C** erstellte Scatterplot der Fundorte ist schwer zu interpretieren. Insbesondere fehlt uns der Kontext der Geographie wie Ländergrenzen, Landmassen und Wasser. Um die Darstellung zu verbessern, ist es z.B. sinnvoll, im Hintergrund des Scatterplots eine Landkarte der Gegend darzustellen. "
   ]
  },
  {
   "cell_type": "markdown",
   "metadata": {},
   "source": [
    "### Exkurs zu Geopandas\n",
    "Um Landkarten darzustellen, gibt es in ```Python``` die spezialisierte Bibliothek ```geopandas```, mit der sehr einfach Landkarten dargestellt werden können. Da die Bibliothek auf dem JupyterHub noch nicht vorinstalliert ist, müssen wir sie erst einmal selbst herunterladen und installieren:"
   ]
  },
  {
   "cell_type": "code",
   "execution_count": 10,
   "metadata": {
    "run_control": {
     "frozen": false,
     "read_only": false
    }
   },
   "outputs": [
    {
     "name": "stdout",
     "output_type": "stream",
     "text": [
      "Collecting geopandas\n",
      "\u001b[?25l  Downloading https://files.pythonhosted.org/packages/51/10/9b2f2f6e35cc0e427f43faf59c56931709996ad2ffe4440fda2f5c53554f/geopandas-0.6.0-py2.py3-none-any.whl (918kB)\n",
      "\u001b[K     |████████████████████████████████| 921kB 3.2MB/s eta 0:00:01\n",
      "\u001b[?25hRequirement already satisfied: pandas>=0.23.0 in /anaconda/envs/networks/lib/python3.6/site-packages (from geopandas) (0.25.1)\n",
      "Collecting pyproj (from geopandas)\n",
      "\u001b[?25l  Downloading https://files.pythonhosted.org/packages/c5/e6/0e5abb70cc6900e9cfe3e8bdbce7a3caff13675e077a85595e8ae0a6b38f/pyproj-2.4.0-cp36-cp36m-macosx_10_6_intel.macosx_10_9_intel.macosx_10_9_x86_64.macosx_10_10_intel.macosx_10_10_x86_64.whl (13.4MB)\n",
      "\u001b[K     |████████████████████████████████| 13.4MB 4.4MB/s eta 0:00:01    |██▏                             | 921kB 6.7MB/s eta 0:00:02     |███                             | 1.2MB 6.7MB/s eta 0:00:02     |██████▋                         | 2.8MB 6.7MB/s eta 0:00:02     |█████████████████████████▋      | 10.7MB 4.4MB/s eta 0:00:01\n",
      "\u001b[?25hCollecting shapely (from geopandas)\n",
      "\u001b[?25l  Downloading https://files.pythonhosted.org/packages/cf/f8/110690b7c44b9418f573e351084c23d33d782f84416bdb179f1b0f9f401c/Shapely-1.6.4.post2-cp36-cp36m-macosx_10_9_x86_64.whl (1.6MB)\n",
      "\u001b[K     |████████████████████████████████| 1.6MB 6.4MB/s eta 0:00:01�█████▊                    | 573kB 6.4MB/s eta 0:00:01��████████▏     | 1.3MB 6.4MB/s eta 0:00:01\n",
      "\u001b[?25hCollecting fiona (from geopandas)\n",
      "\u001b[?25l  Downloading https://files.pythonhosted.org/packages/5c/0f/be6c292d752eb057df369d303e8b21c014524475502798c315a266a84015/Fiona-1.8.8-1-cp36-cp36m-macosx_10_6_intel.macosx_10_9_intel.macosx_10_9_x86_64.macosx_10_10_intel.macosx_10_10_x86_64.whl (18.0MB)\n",
      "\u001b[K     |████████████████████████████████| 18.0MB 316kB/s  eta 0:00:01    |████████████████                | 9.1MB 15.2MB/s eta 0:00:01     |██████████████████████▋         | 12.8MB 28.3MB/s eta 0:00:01     |█████████████████████████▋      | 14.4MB 28.3MB/s eta 0:00:01     |████████████████████████████▌   | 16.0MB 28.3MB/s eta 0:00:01     |███████████████████████████████ | 17.5MB 28.3MB/s eta 0:00:01\n",
      "\u001b[?25hRequirement already satisfied: numpy>=1.13.3 in /anaconda/envs/networks/lib/python3.6/site-packages (from pandas>=0.23.0->geopandas) (1.15.0)\n",
      "Requirement already satisfied: pytz>=2017.2 in /anaconda/envs/networks/lib/python3.6/site-packages (from pandas>=0.23.0->geopandas) (2017.2)\n",
      "Requirement already satisfied: python-dateutil>=2.6.1 in /anaconda/envs/networks/lib/python3.6/site-packages (from pandas>=0.23.0->geopandas) (2.8.0)\n",
      "Requirement already satisfied: attrs>=17 in /anaconda/envs/networks/lib/python3.6/site-packages (from fiona->geopandas) (17.4.0)\n",
      "Collecting click-plugins>=1.0 (from fiona->geopandas)\n",
      "  Downloading https://files.pythonhosted.org/packages/e9/da/824b92d9942f4e472702488857914bdd50f73021efea15b4cad9aca8ecef/click_plugins-1.1.1-py2.py3-none-any.whl\n",
      "Requirement already satisfied: six>=1.7 in /anaconda/envs/networks/lib/python3.6/site-packages (from fiona->geopandas) (1.11.0)\n",
      "Collecting click<8,>=4.0 (from fiona->geopandas)\n",
      "\u001b[?25l  Downloading https://files.pythonhosted.org/packages/fa/37/45185cb5abbc30d7257104c434fe0b07e5a195a6847506c074527aa599ec/Click-7.0-py2.py3-none-any.whl (81kB)\n",
      "\u001b[K     |████████████████████████████████| 81kB 2.6MB/s eta 0:00:01\n",
      "\u001b[?25hCollecting cligj>=0.5 (from fiona->geopandas)\n",
      "  Downloading https://files.pythonhosted.org/packages/e4/be/30a58b4b0733850280d01f8bd132591b4668ed5c7046761098d665ac2174/cligj-0.5.0-py3-none-any.whl\n",
      "Collecting munch (from fiona->geopandas)\n",
      "  Downloading https://files.pythonhosted.org/packages/68/f4/260ec98ea840757a0da09e0ed8135333d59b8dfebe9752a365b04857660a/munch-2.3.2.tar.gz\n",
      "Building wheels for collected packages: munch\n",
      "  Building wheel for munch (setup.py) ... \u001b[?25ldone\n",
      "\u001b[?25h  Created wheel for munch: filename=munch-2.3.2-py2.py3-none-any.whl size=5793 sha256=92f0cf0f756df885e33a8334b99c4758f94f33a71d0b442ff4e35ad519899916\n",
      "  Stored in directory: /Users/deborah/Library/Caches/pip/wheels/db/bf/bc/06a3e1bfe0ab27d2e720ceb3cff3159398d92644c0cec2c125\n",
      "Successfully built munch\n",
      "Installing collected packages: pyproj, shapely, click, click-plugins, cligj, munch, fiona, geopandas\n",
      "Successfully installed click-7.0 click-plugins-1.1.1 cligj-0.5.0 fiona-1.8.8 geopandas-0.6.0 munch-2.3.2 pyproj-2.4.0 shapely-1.6.4.post2\n"
     ]
    }
   ],
   "source": [
    "# die nachfolgenden Kommandos musst du dir nicht merken. Falls du jemals eine\n",
    "# eigene Bibliothek nachinstallieren willst, ersezte \"geopandas\" mit dem\n",
    "# Namen der von dir benötigten Bibliothek\n",
    "\n",
    "# die Bibliothek \"sys\" gibt uns Zugriff auf Funktionen des Betriebssystems\n",
    "# mit dem Operator \"!\" führen wir Code nicht im Python-Interpreter sondern\n",
    "# auf der Kommandozeile aus. \n",
    "import sys\n",
    "!{sys.executable} -m pip install geopandas\n",
    "\n",
    "# importiere das frisch installierte geopandas unter dem Kürzel \"gpd\"\n",
    "import geopandas as gpd"
   ]
  },
  {
   "cell_type": "markdown",
   "metadata": {},
   "source": [
    "Um Landkarten darstellen zu können, brauchen wir erst einmal Informationen über den Verlauf der Ländergrezen. Diese sind standardisiert in sog. \"shape-files\" abgelegt. shape-files sind vielfach öffentlich zum Download verfügbar, z.B. auf [dieser](https://gadm.org/download_country_v3.html) Website. Die shape-files für Deutschland haben wir im Ordner ```gadm36_DEU_sh``` im StudIP hochgeladen. Der Ordner enthält eine Reihe von verschiedenen Dateien, die geopandas benötigt, um das shape-file korrekt einzulesen. Informationen liegen außerdem in verschiedenen \"Ebenen\" vor:\n",
    "* Ebene 0 ist die Ländergrenze von Deutschland\n",
    "* Ebene 1 ist enthält außerdem die Grenzen der Bundesländer\n",
    "* Ebene 2 enthält die Grenzen der Landkreise\n",
    "* Ebene 3 enthält die Grenzen der Gemeinden\n",
    "\n",
    "Wast du die Informationen über die Grenzen heruntergeladen, kannst du es sie geopandas einlesen:"
   ]
  },
  {
   "cell_type": "code",
   "execution_count": 11,
   "metadata": {
    "run_control": {
     "frozen": false,
     "read_only": false
    }
   },
   "outputs": [
    {
     "ename": "DriverError",
     "evalue": "data/gadm36_DEU_shp/gadm36_DEU_1.shp: No such file or directory",
     "output_type": "error",
     "traceback": [
      "\u001b[0;31m---------------------------------------------------------------------------\u001b[0m",
      "\u001b[0;31mCPLE_OpenFailedError\u001b[0m                      Traceback (most recent call last)",
      "\u001b[0;32mfiona/_shim.pyx\u001b[0m in \u001b[0;36mfiona._shim.gdal_open_vector\u001b[0;34m()\u001b[0m\n",
      "\u001b[0;32mfiona/_err.pyx\u001b[0m in \u001b[0;36mfiona._err.exc_wrap_pointer\u001b[0;34m()\u001b[0m\n",
      "\u001b[0;31mCPLE_OpenFailedError\u001b[0m: data/gadm36_DEU_shp/gadm36_DEU_1.shp: No such file or directory",
      "\nDuring handling of the above exception, another exception occurred:\n",
      "\u001b[0;31mDriverError\u001b[0m                               Traceback (most recent call last)",
      "\u001b[0;32m<ipython-input-11-b923dd10f65b>\u001b[0m in \u001b[0;36m<module>\u001b[0;34m()\u001b[0m\n\u001b[1;32m      1\u001b[0m \u001b[0;31m# lies das shape-file ein\u001b[0m\u001b[0;34m\u001b[0m\u001b[0;34m\u001b[0m\u001b[0m\n\u001b[0;32m----> 2\u001b[0;31m \u001b[0mDEU_map\u001b[0m \u001b[0;34m=\u001b[0m \u001b[0mgpd\u001b[0m\u001b[0;34m.\u001b[0m\u001b[0mread_file\u001b[0m\u001b[0;34m(\u001b[0m\u001b[0;34m'data/gadm36_DEU_shp/gadm36_DEU_1.shp'\u001b[0m\u001b[0;34m)\u001b[0m\u001b[0;34m\u001b[0m\u001b[0m\n\u001b[0m\u001b[1;32m      3\u001b[0m \u001b[0;34m\u001b[0m\u001b[0m\n\u001b[1;32m      4\u001b[0m \u001b[0;31m# das shape-file bzw. die darin enthaltene Karte verhält sich wie ein DataFrame\u001b[0m\u001b[0;34m\u001b[0m\u001b[0;34m\u001b[0m\u001b[0m\n\u001b[1;32m      5\u001b[0m \u001b[0mDEU_map\u001b[0m\u001b[0;34m.\u001b[0m\u001b[0mhead\u001b[0m\u001b[0;34m(\u001b[0m\u001b[0;34m)\u001b[0m\u001b[0;34m\u001b[0m\u001b[0m\n",
      "\u001b[0;32m/anaconda/envs/networks/lib/python3.6/site-packages/geopandas/io/file.py\u001b[0m in \u001b[0;36mread_file\u001b[0;34m(filename, bbox, **kwargs)\u001b[0m\n\u001b[1;32m     74\u001b[0m \u001b[0;34m\u001b[0m\u001b[0m\n\u001b[1;32m     75\u001b[0m     \u001b[0;32mwith\u001b[0m \u001b[0mfiona_env\u001b[0m\u001b[0;34m(\u001b[0m\u001b[0;34m)\u001b[0m\u001b[0;34m:\u001b[0m\u001b[0;34m\u001b[0m\u001b[0m\n\u001b[0;32m---> 76\u001b[0;31m         \u001b[0;32mwith\u001b[0m \u001b[0mreader\u001b[0m\u001b[0;34m(\u001b[0m\u001b[0mpath_or_bytes\u001b[0m\u001b[0;34m,\u001b[0m \u001b[0;34m**\u001b[0m\u001b[0mkwargs\u001b[0m\u001b[0;34m)\u001b[0m \u001b[0;32mas\u001b[0m \u001b[0mfeatures\u001b[0m\u001b[0;34m:\u001b[0m\u001b[0;34m\u001b[0m\u001b[0m\n\u001b[0m\u001b[1;32m     77\u001b[0m \u001b[0;34m\u001b[0m\u001b[0m\n\u001b[1;32m     78\u001b[0m             \u001b[0;31m# In a future Fiona release the crs attribute of features will\u001b[0m\u001b[0;34m\u001b[0m\u001b[0;34m\u001b[0m\u001b[0m\n",
      "\u001b[0;32m/anaconda/envs/networks/lib/python3.6/site-packages/fiona/env.py\u001b[0m in \u001b[0;36mwrapper\u001b[0;34m(*args, **kwargs)\u001b[0m\n\u001b[1;32m    395\u001b[0m     \u001b[0;32mdef\u001b[0m \u001b[0mwrapper\u001b[0m\u001b[0;34m(\u001b[0m\u001b[0;34m*\u001b[0m\u001b[0margs\u001b[0m\u001b[0;34m,\u001b[0m \u001b[0;34m**\u001b[0m\u001b[0mkwargs\u001b[0m\u001b[0;34m)\u001b[0m\u001b[0;34m:\u001b[0m\u001b[0;34m\u001b[0m\u001b[0m\n\u001b[1;32m    396\u001b[0m         \u001b[0;32mif\u001b[0m \u001b[0mlocal\u001b[0m\u001b[0;34m.\u001b[0m\u001b[0m_env\u001b[0m\u001b[0;34m:\u001b[0m\u001b[0;34m\u001b[0m\u001b[0m\n\u001b[0;32m--> 397\u001b[0;31m             \u001b[0;32mreturn\u001b[0m \u001b[0mf\u001b[0m\u001b[0;34m(\u001b[0m\u001b[0;34m*\u001b[0m\u001b[0margs\u001b[0m\u001b[0;34m,\u001b[0m \u001b[0;34m**\u001b[0m\u001b[0mkwargs\u001b[0m\u001b[0;34m)\u001b[0m\u001b[0;34m\u001b[0m\u001b[0m\n\u001b[0m\u001b[1;32m    398\u001b[0m         \u001b[0;32melse\u001b[0m\u001b[0;34m:\u001b[0m\u001b[0;34m\u001b[0m\u001b[0m\n\u001b[1;32m    399\u001b[0m             \u001b[0;32mif\u001b[0m \u001b[0misinstance\u001b[0m\u001b[0;34m(\u001b[0m\u001b[0margs\u001b[0m\u001b[0;34m[\u001b[0m\u001b[0;36m0\u001b[0m\u001b[0;34m]\u001b[0m\u001b[0;34m,\u001b[0m \u001b[0mstr\u001b[0m\u001b[0;34m)\u001b[0m\u001b[0;34m:\u001b[0m\u001b[0;34m\u001b[0m\u001b[0m\n",
      "\u001b[0;32m/anaconda/envs/networks/lib/python3.6/site-packages/fiona/__init__.py\u001b[0m in \u001b[0;36mopen\u001b[0;34m(fp, mode, driver, schema, crs, encoding, layer, vfs, enabled_drivers, crs_wkt, **kwargs)\u001b[0m\n\u001b[1;32m    251\u001b[0m         \u001b[0;32mif\u001b[0m \u001b[0mmode\u001b[0m \u001b[0;32min\u001b[0m \u001b[0;34m(\u001b[0m\u001b[0;34m'a'\u001b[0m\u001b[0;34m,\u001b[0m \u001b[0;34m'r'\u001b[0m\u001b[0;34m)\u001b[0m\u001b[0;34m:\u001b[0m\u001b[0;34m\u001b[0m\u001b[0m\n\u001b[1;32m    252\u001b[0m             c = Collection(path, mode, driver=driver, encoding=encoding,\n\u001b[0;32m--> 253\u001b[0;31m                            layer=layer, enabled_drivers=enabled_drivers, **kwargs)\n\u001b[0m\u001b[1;32m    254\u001b[0m         \u001b[0;32melif\u001b[0m \u001b[0mmode\u001b[0m \u001b[0;34m==\u001b[0m \u001b[0;34m'w'\u001b[0m\u001b[0;34m:\u001b[0m\u001b[0;34m\u001b[0m\u001b[0m\n\u001b[1;32m    255\u001b[0m             \u001b[0;32mif\u001b[0m \u001b[0mschema\u001b[0m\u001b[0;34m:\u001b[0m\u001b[0;34m\u001b[0m\u001b[0m\n",
      "\u001b[0;32m/anaconda/envs/networks/lib/python3.6/site-packages/fiona/collection.py\u001b[0m in \u001b[0;36m__init__\u001b[0;34m(self, path, mode, driver, schema, crs, encoding, layer, vsi, archive, enabled_drivers, crs_wkt, ignore_fields, ignore_geometry, **kwargs)\u001b[0m\n\u001b[1;32m    157\u001b[0m             \u001b[0;32mif\u001b[0m \u001b[0mself\u001b[0m\u001b[0;34m.\u001b[0m\u001b[0mmode\u001b[0m \u001b[0;34m==\u001b[0m \u001b[0;34m'r'\u001b[0m\u001b[0;34m:\u001b[0m\u001b[0;34m\u001b[0m\u001b[0m\n\u001b[1;32m    158\u001b[0m                 \u001b[0mself\u001b[0m\u001b[0;34m.\u001b[0m\u001b[0msession\u001b[0m \u001b[0;34m=\u001b[0m \u001b[0mSession\u001b[0m\u001b[0;34m(\u001b[0m\u001b[0;34m)\u001b[0m\u001b[0;34m\u001b[0m\u001b[0m\n\u001b[0;32m--> 159\u001b[0;31m                 \u001b[0mself\u001b[0m\u001b[0;34m.\u001b[0m\u001b[0msession\u001b[0m\u001b[0;34m.\u001b[0m\u001b[0mstart\u001b[0m\u001b[0;34m(\u001b[0m\u001b[0mself\u001b[0m\u001b[0;34m,\u001b[0m \u001b[0;34m**\u001b[0m\u001b[0mkwargs\u001b[0m\u001b[0;34m)\u001b[0m\u001b[0;34m\u001b[0m\u001b[0m\n\u001b[0m\u001b[1;32m    160\u001b[0m             \u001b[0;32melif\u001b[0m \u001b[0mself\u001b[0m\u001b[0;34m.\u001b[0m\u001b[0mmode\u001b[0m \u001b[0;32min\u001b[0m \u001b[0;34m(\u001b[0m\u001b[0;34m'a'\u001b[0m\u001b[0;34m,\u001b[0m \u001b[0;34m'w'\u001b[0m\u001b[0;34m)\u001b[0m\u001b[0;34m:\u001b[0m\u001b[0;34m\u001b[0m\u001b[0m\n\u001b[1;32m    161\u001b[0m                 \u001b[0mself\u001b[0m\u001b[0;34m.\u001b[0m\u001b[0msession\u001b[0m \u001b[0;34m=\u001b[0m \u001b[0mWritingSession\u001b[0m\u001b[0;34m(\u001b[0m\u001b[0;34m)\u001b[0m\u001b[0;34m\u001b[0m\u001b[0m\n",
      "\u001b[0;32mfiona/ogrext.pyx\u001b[0m in \u001b[0;36mfiona.ogrext.Session.start\u001b[0;34m()\u001b[0m\n",
      "\u001b[0;32mfiona/_shim.pyx\u001b[0m in \u001b[0;36mfiona._shim.gdal_open_vector\u001b[0;34m()\u001b[0m\n",
      "\u001b[0;31mDriverError\u001b[0m: data/gadm36_DEU_shp/gadm36_DEU_1.shp: No such file or directory"
     ]
    }
   ],
   "source": [
    "# lies das shape-file ein\n",
    "DEU_map = gpd.read_file('data/gadm36_DEU_shp/gadm36_DEU_1.shp')\n",
    "\n",
    "# das shape-file bzw. die darin enthaltene Karte verhält sich wie ein DataFrame\n",
    "DEU_map.head()"
   ]
  },
  {
   "cell_type": "markdown",
   "metadata": {},
   "source": [
    "Wir können die Landkarte ganz einfach darstellen (dabei wird im Hintergrund auf die Funktionalität der Bibliothek ```matplotlib``` zurückgegriffen:"
   ]
  },
  {
   "cell_type": "code",
   "execution_count": null,
   "metadata": {
    "run_control": {
     "frozen": false,
     "read_only": false
    }
   },
   "outputs": [],
   "source": [
    "# Darstellen der Landkarte\n",
    "DEU_map.plot()"
   ]
  },
  {
   "cell_type": "markdown",
   "metadata": {},
   "source": [
    "Um einen Punkt auf der Landkarte darzustellen, müssen wir uns das Achsen-Objekt, auf dem der aktuelle Plot dargestellt ist, von matplotlib geben lassen. Das machen wir mit der Funktion ```gca()``` (für \"get current axis\"). Mit diesem Achsen-Objekt können wir dann wie gewohlt die Funktion ```scatter()``` ausführen:"
   ]
  },
  {
   "cell_type": "code",
   "execution_count": null,
   "metadata": {
    "run_control": {
     "frozen": false,
     "read_only": false
    }
   },
   "outputs": [],
   "source": [
    "# Darstellen der Landkarte\n",
    "DEU_map.plot()\n",
    "# Achsenobjekt liefern lassen\n",
    "ax = plt.gca()\n",
    "# einen roten Punkt auf der Landkarte darstellen\n",
    "ax.scatter(8, 51, color='red')"
   ]
  },
  {
   "cell_type": "markdown",
   "metadata": {},
   "source": [
    "Damit haben wir alle nötigen Zutaten, um die Fundorte der Fundstücke auf einer Landkarte darzustellen!"
   ]
  },
  {
   "cell_type": "markdown",
   "metadata": {},
   "source": [
    "**A.** Lade die shape-files von Griechenland herunter. Stelle die level 1 Karte (Bundesländer) wie oben für Deutschland gezeigt dar. Zeichne einen Punkt an der Position von Athen ein."
   ]
  },
  {
   "cell_type": "markdown",
   "metadata": {},
   "source": [
    "Die shape-files finden wir [hier](https://biogeo.ucdavis.edu/data/gadm3.6/shp/gadm36_GRC_shp.zip), die Koordinaten von Athen finden wir z.B. [hier](https://de.wikipedia.org/wiki/Athen). "
   ]
  },
  {
   "cell_type": "code",
   "execution_count": null,
   "metadata": {
    "run_control": {
     "frozen": false,
     "read_only": false
    }
   },
   "outputs": [],
   "source": [
    "# lies das shape-file ein\n",
    "GRC_map = gpd.read_file('data/gadm36_GRC_shp/gadm36_GRC_1.shp')\n",
    "\n",
    "# das shape-file bzw. die darin enthaltene Karte verhält sich wie ein DataFrame\n",
    "GRC_map.head()"
   ]
  },
  {
   "cell_type": "code",
   "execution_count": null,
   "metadata": {
    "run_control": {
     "frozen": false,
     "read_only": false
    }
   },
   "outputs": [],
   "source": [
    "# wichtig hierbei: die Längen- und Breitengrade werden auf Wikipedia\n",
    "# in Graden, Minuten und Sekunden angegeben. Diese müssen wir erst in \n",
    "# Dezimalstellen konvertieren. Die hier angegebenen Werten sind bereits\n",
    "# konvertiert\n",
    "lat_athens = 37.983\n",
    "lon_athens = 23.733\n",
    "\n",
    "# stelle die Karte dar, mit dem Argument \"alpha=0.7\"\n",
    "# können wir die Karte etwas transparenter machen, um\n",
    "# andere Dinge auf der Darstellung leichter erkennbar\n",
    "# zu machen\n",
    "GRC_map.plot(alpha=0.7)\n",
    "ax = plt.gca()\n",
    "\n",
    "# roter Punkt an der Stelle von Athen\n",
    "ax.scatter(lon_athens, lat_athens, color='red') \n",
    "\n",
    "# außerdem können wir mit der Funktion \"text()\" noch\n",
    "# eine Beschriftung hinzufügen\n",
    "ax.text(lon_athens + 0.1, lat_athens + 0.1, 'Athen', fontsize=16)"
   ]
  },
  {
   "cell_type": "markdown",
   "metadata": {},
   "source": [
    "**B.** Wir wollen im Folgenden nur die Fundorte betrachten, die in und um Griechenland liegen. Eine kurze Suche mit Google Maps zeigt  \n",
    "\n",
    "Ort | Beschreibung | Breitengrad | Längengrad\n",
    "--- | -------------| -----------| -----------  \n",
    "Othoni | westlichster Punkt | 39.851232 | 19.391932\n",
    "Trigono | nörtlichster Punkt | 41.746835 | 26.174643  \n",
    "Rodos | östlichster Punkt (Zypern ausgenommen) | 36.438004 | 28.241690\n",
    "Gavdos | südlichster Punkt | 34.803067 | 24.122037\n",
    "\n",
    "Filtere die Location-Tabelle, so dass nur die Orte innerhalb Griechenlands verbleiben (du  kannst davon ausgehen, dass die \"Ländergrenzen\" von Griechenland vom nördlichsten, südlichsten, östlichsten und westlichsten Punkt des Landes aufgespannt werden)."
   ]
  },
  {
   "cell_type": "code",
   "execution_count": null,
   "metadata": {
    "run_control": {
     "frozen": false,
     "read_only": false
    }
   },
   "outputs": [],
   "source": [
    "# erstelle einen Filter mit den oben angegeben Koordinaten\n",
    "# (liegen schon als Dezimalzahlen vor)\n",
    "filter_greece = (location['Longitude'] > 19.39) & \\\n",
    "                (location['Longitude'] < 28.25) & \\\n",
    "                (location['Latitude'] > 34.8) & \\\n",
    "                (location['Latitude'] < 41.75)\n",
    "\n",
    "# filtere das location-DataFrame\n",
    "locations_greece = location[filter_greece]\n",
    "locations_greece.head()"
   ]
  },
  {
   "cell_type": "markdown",
   "metadata": {},
   "source": [
    "**C.** Stelle alle Fundorte in Griechenland auf der Griechenland-Karte als Punkte dar."
   ]
  },
  {
   "cell_type": "code",
   "execution_count": null,
   "metadata": {
    "run_control": {
     "frozen": false,
     "read_only": false
    }
   },
   "outputs": [],
   "source": [
    "GRC_map.plot(alpha=0.7)\n",
    "\n",
    "ax = plt.gca()\n",
    "ax.scatter(locations_greece['Longitude'], locations_greece['Latitude'],\\\n",
    "          color='red')"
   ]
  },
  {
   "cell_type": "markdown",
   "metadata": {},
   "source": [
    "**D.** Als letzten Schritt skaliere nun die Größe der Punkte der Fundorte mit der Anzahl der gefundenen Fundstücke. Benutze dafür das Argument ```s``` der Funktion ```scatter()```, dem du eine Liste der Größen übergeben kannst. Dafür kannst du die in Aufgabe **1.D** erstellte Liste der Funstückanzahl je Fundort verwenden."
   ]
  },
  {
   "cell_type": "code",
   "execution_count": null,
   "metadata": {
    "run_control": {
     "frozen": false,
     "read_only": false
    }
   },
   "outputs": [],
   "source": [
    "GRC_map.plot(alpha=0.7)\n",
    "ax = plt.gca()\n",
    "ax.scatter(locations_greece['Longitude'], locations_greece['Latitude'],\\\n",
    "          s=locations_greece['Sherd_Count'],color='red',alpha=0.3,\\\n",
    "          label='Anzahl')\n",
    "ax.set_xlabel('Längengrad')\n",
    "ax.set_ylabel('Breitengrad')\n",
    "ax.set_title('Anzahl an Fundstücken in Griechenland')\n",
    "ax.legend()"
   ]
  },
  {
   "cell_type": "markdown",
   "metadata": {},
   "source": [
    "**E.** An welchen Orten wurden die meisten Fundstücke gefunden? Woran kann das deiner Meinung nach liegen?"
   ]
  },
  {
   "cell_type": "markdown",
   "metadata": {},
   "source": [
    "**F. (optional)** Darstellen der Fundorte im gesamten Mittelmeerraum:\n",
    "* Finde heraus, in welchen 10 (modernen) Ländern die meisten Fundstücke gefunden wurden\n",
    "* Lade die shape-files dieser Länder herunter.\n",
    "* Stelle die Landkarten dieser Länder in einer Darstellung dar  <font color='green'>**HINWEIS:** Du kannst der Funktion ```plot()``` mit dem Argument ```ax=``` eine spezifische Achse mitgeben, auf der die Darstellung geplottet werden soll. </font>.\n",
    "* Stelle alle Fundorte in diesen Ländern mit Kreuzen dar."
   ]
  },
  {
   "cell_type": "code",
   "execution_count": null,
   "metadata": {
    "collapsed": true,
    "run_control": {
     "frozen": false,
     "read_only": false
    }
   },
   "outputs": [],
   "source": [
    "# leere Liste\n",
    "mod_countries = []\n",
    "\n",
    "# wir iterieren über alle Location IDs\n",
    "for loc_ID in catalogue.Location_ID:\n",
    "    if pd.isna(loc_ID): # wenn keine ID verfuegbar ist, packen wir nan in die liste\n",
    "        mod_countries.append(np.nan)\n",
    "    else:           # sonst den passenden Wert aus der Formen Tabelle\n",
    "        mod_country = location[location['Location_ID'] == loc_ID]['Modern_country']\n",
    "        #print(mod_country.item())\n",
    "        mod_countries.append(mod_country.item())\n",
    "        \n",
    "catalogue['Modern_country'] = mod_countries"
   ]
  },
  {
   "cell_type": "code",
   "execution_count": null,
   "metadata": {
    "run_control": {
     "frozen": false,
     "read_only": false
    }
   },
   "outputs": [],
   "source": [
    "country_counts = []\n",
    "\n",
    "for country in location.Modern_country.unique():\n",
    "    country_mask = catalogue['Modern_country'] == country\n",
    "    count = len(catalogue[country_mask])\n",
    "    country_counts.append(count)\n",
    "    \n",
    "country_counts = pd.DataFrame({'Modern_country':location.Modern_country.unique(),\\\n",
    "                              'count':country_counts})\n",
    "\n",
    "# die 10 Länder mit den meisten Fundstücken sind Griechenland, \n",
    "# die Türkei und Israel\n",
    "country_counts.sort_values('count', ascending=False, inplace=True)\n",
    "country_counts.head(10)"
   ]
  },
  {
   "cell_type": "code",
   "execution_count": null,
   "metadata": {
    "collapsed": true,
    "run_control": {
     "frozen": false,
     "read_only": false
    }
   },
   "outputs": [],
   "source": [
    "countries = ['GRC', 'TUR', 'ISR', 'SYR', 'CYP', 'LBY', 'TUN', 'EGY', 'MKD', 'JOR']\n",
    "countries.extend([np.nan] * (len(country_counts) - len(countries)))\n",
    "country_counts['Country_code'] = countries\n",
    "country_dict = {}\n",
    "\n",
    "for c in country_counts['Country_code'][0:10]:\n",
    "    filepath = 'data/gadm36_{}_shp/gadm36_{}_1.shp'.format(c,c)\n",
    "    country_dict.update({c: gpd.read_file(filepath)})"
   ]
  },
  {
   "cell_type": "code",
   "execution_count": null,
   "metadata": {
    "run_control": {
     "frozen": false,
     "read_only": false
    }
   },
   "outputs": [],
   "source": [
    "GRC_map.plot(alpha=0.7)\n",
    "ax = plt.gca()\n",
    "\n",
    "for c in country_counts['Country_code'][1:10]:\n",
    "    country_dict[c].plot(ax = ax, alpha=0.7)"
   ]
  },
  {
   "cell_type": "code",
   "execution_count": null,
   "metadata": {
    "run_control": {
     "frozen": false,
     "read_only": false
    }
   },
   "outputs": [],
   "source": [
    "location['Modern_country'][0] in list(country_counts['Modern_country'])"
   ]
  },
  {
   "cell_type": "code",
   "execution_count": null,
   "metadata": {
    "run_control": {
     "frozen": false,
     "read_only": false
    }
   },
   "outputs": [],
   "source": [
    "fig, ax = plt.subplots(figsize=(10,10))\n",
    "\n",
    "for c in country_counts['Country_code'][0:10]:\n",
    "    country_dict[c].plot(ax = ax, alpha=0.7)\n",
    "\n",
    "for i,row in location.iterrows():\n",
    "    if row['Modern_country'] in list(country_counts['Modern_country'][0:10]):\n",
    "        ax.scatter(row['Longitude'], row['Latitude'], marker='x', s=10, color='red')\n",
    "    "
   ]
  },
  {
   "cell_type": "code",
   "execution_count": null,
   "metadata": {
    "collapsed": true,
    "run_control": {
     "frozen": false,
     "read_only": false
    }
   },
   "outputs": [],
   "source": []
  }
 ],
 "metadata": {
  "kernelspec": {
   "display_name": "Python 3",
   "language": "python",
   "name": "python3"
  },
  "language_info": {
   "codemirror_mode": {
    "name": "ipython",
    "version": 3
   },
   "file_extension": ".py",
   "mimetype": "text/x-python",
   "name": "python",
   "nbconvert_exporter": "python",
   "pygments_lexer": "ipython3",
   "version": "3.6.1"
  },
  "latex_envs": {
   "bibliofile": "biblio.bib",
   "cite_by": "apalike",
   "current_citInitial": 1,
   "eqLabelWithNumbers": true,
   "eqNumInitial": 0
  }
 },
 "nbformat": 4,
 "nbformat_minor": 2
}
