{
 "cells": [
  {
   "cell_type": "markdown",
   "metadata": {},
   "source": [
    "_Lizenz: Das folgende Lehrmaterial kann unter einer [CC-BY-SA 4.0](https://creativecommons.org/licenses/by/4.0/legalcode) Lizenz frei verwendet, verbreitet und modifiziert werden._   \n",
    " _Authoren: Jana Lasser (jana.lasser@ds.mpg.de), Max Vossel_  \n",
    " _Das Lehrmaterial wurde im Zuge des Projektes \"Daten Lesen Lernen\", gefördert vom Stifterverband und der Heinz Nixdorf Stiftung erstellt._"
   ]
  },
  {
   "cell_type": "markdown",
   "metadata": {},
   "source": [
    "# Lösung Übung 06 - Archäologie: Histogramme, deskriptive Statistik und Zeitreihen\n",
    "### Praktische Hinweise\n",
    "$\\rightarrow$ Übungen sind dafür gedacht, dass ihr sie euch daheim anseht und versucht, ein paar Aufgaben selbst zu lösen. In den Tutorien könnt ihr euch weiter mit dem Lösungen der Aufgaben beschäftigen und dabei Hilfe von den Tutor*innen bekommen.  \n",
    "\n",
    "$\\rightarrow$ Wenn ein Fehler auftritt:\n",
    "1. Fehlermeldung _lesen_ und _verstehen_\n",
    "2. Versuchen, selbst eine Lösung zu finden ($\\rightarrow$ hier findet das Lernen statt!)\n",
    "3. Das Problem googlen (Stichwort: Stackoverflow) oder den/die Nachbar*in fragen\n",
    "4. Tutor*in fragen\n",
    "\n",
    "$\\rightarrow$ Unter <font color='green'>**HINWEIS**</font> werden Hinweise gegeben, die für die Lösung der Aufgabe hilfreich sind und oftmals auch weiterführende Informationen zur Aufgabe liefern.\n",
    "\n",
    "$\\rightarrow$ Mit **(Optional)** gekennzeichnete Übungsteile sind für besonders schnelle Menschen :-)."
   ]
  },
  {
   "cell_type": "markdown",
   "metadata": {},
   "source": [
    "<a name=\"top\"></a>Inhalt\n",
    "---\n",
    "In der folgenden Übung werden wir uns die Eigenschaften der Geschirr-Fundstücke etwas genauer ansehen. Insbesondere interessieren wir uns für die Größe des Geschirrs und sein Alter. Dafür benutzen wir neben der Haupttabelle, die den Katalog der Fundstücke enthält, auch eine zweite Tabelle aus dem Datensatz, die uns zusätzliche Informationen über das Alter von verschiedenen Geschirr-Typen liefert. Da die letzte Übung etwas lang war, wiederholen wir den Teil über die Histogramme aus der letzten Übung hier noch einmal. \n",
    "\n",
    "Die aktuelle Übung gliedert sich in drei Teile:\n",
    "* [Histogramme](#histogramme)\n",
    "* [Größe des Geschirrs](#geschirrgroesse)\n",
    "* [Alter der Fundstücke](#fundstueckalter)  \n"
   ]
  },
  {
   "cell_type": "markdown",
   "metadata": {},
   "source": [
    "<a name=\"histogramme\"></a>1. Histogramme\n",
    "---\n",
    "Im folgenden Abschnitt werden wir damit beginnen, die in den Daten enthaltenen Informationen zu visualisieren. Eine sehr einfache Visualisierung ist das Histogramm, eine graphische Darstellung der Häufigkeit eines Merkmals. Zur Illustration erstellen wir eine kleine Visualisierung der Verteilung von Werten in einer Liste:"
   ]
  },
  {
   "cell_type": "code",
   "execution_count": 1,
   "metadata": {
    "collapsed": true,
    "run_control": {
     "frozen": false,
     "read_only": false
    }
   },
   "outputs": [],
   "source": [
    "# eine Liste mit 30 Ganzzahlen, die z.B. das Alter von Personen in einer\n",
    "# Gruppe darstellen können\n",
    "alter = [37, 20, 84,  2, 11, 89, 52, 65, 90, 21, 30, 12, 17, 53, 62, 45, 37,\n",
    "        3,  6, 64, 85,  6, 95, 73, 68, 55, 86, 83, 91,  1]\n",
    "\n",
    "# für Visualisierungen benutzen wir die Blbiothek \"matplotlib.pyplot\"\n",
    "import matplotlib.pyplot as plt\n",
    "\n",
    "# Histogramme lassen sich einfach mit der Funktion plt.hist() erstellen\n",
    "plt.hist(alter);"
   ]
  },
  {
   "cell_type": "markdown",
   "metadata": {},
   "source": [
    "Visualisierungen sollten immer mit Achsenbeschriftungen versehen werden. Dafür verwenden wir die Funktionen ```plt.xlabel()``` und ```plt.ylabel```. Außerdem können wir der Abbildung mit ```plt.title()``` einen Titel geben. Mit verschiedenen optionalen Argumenten lässt sich das Verhalten von ```plt.hist()``` anpassen:\n",
    "* ```bins``` ändert die Anzahl der Bins\n",
    "* ```range``` ändert den dargestellten Bereich auf der x-Achse\n",
    "* ```rwidth``` ändert die dargestellte bin-Weite \n",
    "* ```color``` ändert die Farbe\n",
    "* ```alpha``` ändert den Alpha-Wert (Durchsichtigkeit) der dargestellten Balken.\n",
    "\n",
    "Plot-Funktionen haben oftmals sehr viele optionale Argumente (auch \"keyword arguments\" genannt). Um herauszufinden, wass die jeweiligen Funktionen alles können, lohnt sich ein Blick in die [Dokumentation](https://matplotlib.org/api/_as_gen/matplotlib.pyplot.hist.html). Außerdem sollte jede Darstellung *immer* mit Achsenbeschriftungen und eventuell einem Titel versehen werden:"
   ]
  },
  {
   "cell_type": "code",
   "execution_count": 2,
   "metadata": {
    "run_control": {
     "frozen": false,
     "read_only": false
    }
   },
   "outputs": [],
   "source": [
    "plt.hist(alter, color='darkred', rwidth=0.8, range=[0,100], bins=10, label='alter')\n",
    "plt.xlabel('Alter')\n",
    "plt.ylabel('Anzahl')\n",
    "plt.title('Verteilung des Alters');"
   ]
  },
  {
   "cell_type": "markdown",
   "metadata": {},
   "source": [
    "[Anfang](#top)"
   ]
  },
  {
   "cell_type": "markdown",
   "metadata": {},
   "source": [
    "<a name=\"geschirrgroesse\"></a>2. Größe des Geschirrs\n",
    "---\n",
    "Als Vorbereitung lesen wir den Datensatz der Fundstücke, den wir in der letzten Übung lokal gespeichert haben wieder ein:"
   ]
  },
  {
   "cell_type": "code",
   "execution_count": 3,
   "metadata": {
    "run_control": {
     "frozen": false,
     "read_only": false
    }
   },
   "outputs": [
    {
     "name": "stderr",
     "output_type": "stream",
     "text": [
      "/anaconda/envs/networks/lib/python3.6/site-packages/IPython/core/interactiveshell.py:2698: DtypeWarning: Columns (16,33,35) have mixed types. Specify dtype option on import or set low_memory=False.\n",
      "  interactivity=interactivity, compiler=compiler, result=result)\n"
     ]
    }
   ],
   "source": [
    "# importiere pandas\n",
    "import pandas as pd\n",
    "\n",
    "# Hinweis: falls du die Datei im Unterordner \"daten\" abgelegt hast,\n",
    "# musst du als Pfad \"daten/ICRATES_CATALOGUE.csv\" angeben\n",
    "catalogue = pd.read_csv(\"data/ICRATES_CATALOGUE.csv\", encoding='ISO-8859-1')"
   ]
  },
  {
   "cell_type": "markdown",
   "metadata": {},
   "source": [
    "**A.** Erstelle ein Histogramm der in der Spalte ```Min_Rim_Diameter_mm``` enthaltenen Durchmesser. <font color='green'>**HINWEIS:** Damit das funktioniert, musst du mit der Funktion ```dropna()``` alle ```NaN```-Werte entfernen.</font>  "
   ]
  },
  {
   "cell_type": "code",
   "execution_count": 4,
   "metadata": {
    "run_control": {
     "frozen": false,
     "read_only": false
    }
   },
   "outputs": [
    {
     "data": {
      "image/png": "[encoded data removed]",
      "text/plain": [
       "<Figure size 432x288 with 1 Axes>"
      ]
     },
     "metadata": {},
     "output_type": "display_data"
    }
   ],
   "source": [
    "plt.hist(catalogue.Min_Rim_Diameter_mm.dropna() )\n",
    "plt.show()"
   ]
  },
  {
   "cell_type": "markdown",
   "metadata": {},
   "source": [
    "**B.** Mache dich mit den unterschiedlichen Argumenten der Funktion ```plt.hist()``` vertraut, indem du verschiedene Werte und Kombinationen für die Daten ausprobierst. Finde Werte, die die Daten deiner Meinung nach gut und verständlich darstellen. Worauf kommt es dabei an? Versieh die Darstellung mit passenden Beschriftungen.  "
   ]
  },
  {
   "cell_type": "code",
   "execution_count": 5,
   "metadata": {
    "run_control": {
     "frozen": false,
     "read_only": false
    }
   },
   "outputs": [],
   "source": [
    "plt.figure(figsize=(15,5))\n",
    "plt.hist(catalogue.Min_Rim_Diameter_mm.dropna(), color='darkred', rwidth=0.8, bins=25, label='ICRATES Catalogue')\n",
    "plt.xlabel('Min_Rim_Diameter [mm]')\n",
    "plt.ylabel('Counts')\n",
    "plt.legend()\n",
    "plt.title('Verteilung der Randdurchmesser');"
   ]
  },
  {
   "cell_type": "code",
   "execution_count": 6,
   "metadata": {
    "run_control": {
     "frozen": false,
     "read_only": false
    }
   },
   "outputs": [
    {
     "data": {
      "image/png": "[encoded data removed]",
      "text/plain": [
       "<Figure size 1080x360 with 1 Axes>"
      ]
     },
     "metadata": {},
     "output_type": "display_data"
    }
   ],
   "source": [
    "plt.hist(catalogue.Min_Rim_Diameter_mm.dropna(), bins=100)\n",
    "plt.show()"
   ]
  },
  {
   "cell_type": "code",
   "execution_count": 7,
   "metadata": {
    "run_control": {
     "frozen": false,
     "read_only": false
    }
   },
   "outputs": [
    {
     "data": {
      "image/png": "[encoded data removed]",
      "text/plain": [
       "<Figure size 432x288 with 1 Axes>"
      ]
     },
     "metadata": {},
     "output_type": "display_data"
    }
   ],
   "source": [
    "plt.hist(catalogue.Min_Rim_Diameter_mm.dropna(), bins=100, histtype='step')\n",
    "plt.show()"
   ]
  },
  {
   "cell_type": "markdown",
   "metadata": {},
   "source": [
    "**C.** Insbesondere das Argument ```bins``` verändert die Darstellung des Histogrammes sehr stark. Was kann schiefgehen, wenn ```bins``` zu niedrig oder zu hoch gewählt wird? Was ist eine gute Wahl für einen (diesen) Datensatz?  "
   ]
  },
  {
   "cell_type": "code",
   "execution_count": 8,
   "metadata": {
    "run_control": {
     "frozen": false,
     "read_only": false
    }
   },
   "outputs": [
    {
     "data": {
      "image/png": "[encoded data removed]",
      "text/plain": [
       "<Figure size 432x288 with 1 Axes>"
      ]
     },
     "metadata": {},
     "output_type": "display_data"
    },
    {
     "data": {
      "image/png": "[encoded data removed]",
      "text/plain": [
       "<Figure size 432x288 with 1 Axes>"
      ]
     },
     "metadata": {},
     "output_type": "display_data"
    },
    {
     "data": {
      "image/png": "[encoded data removed]",
      "text/plain": [
       "<Figure size 432x288 with 1 Axes>"
      ]
     },
     "metadata": {},
     "output_type": "display_data"
    },
    {
     "data": {
      "image/png": "[encoded data removed]",
      "text/plain": [
       "<Figure size 432x288 with 1 Axes>"
      ]
     },
     "metadata": {},
     "output_type": "display_data"
    },
    {
     "data": {
      "image/png": "[encoded data removed]",
      "text/plain": [
       "<Figure size 432x288 with 1 Axes>"
      ]
     },
     "metadata": {},
     "output_type": "display_data"
    },
    {
     "data": {
      "image/png": "[encoded data removed]",
      "text/plain": [
       "<Figure size 432x288 with 1 Axes>"
      ]
     },
     "metadata": {},
     "output_type": "display_data"
    }
   ],
   "source": [
    "plt.hist(catalogue.Min_Rim_Diameter_mm.dropna(), 5)\n",
    "plt.show()\n",
    "\n",
    "plt.hist(catalogue.Min_Rim_Diameter_mm.dropna(), 25)\n",
    "plt.show()\n",
    "\n",
    "plt.hist(catalogue.Min_Rim_Diameter_mm.dropna(), 50)\n",
    "plt.show()\n",
    "\n",
    "plt.hist(catalogue.Min_Rim_Diameter_mm.dropna(), 100)\n",
    "plt.show()\n",
    "\n",
    "plt.hist(catalogue.Min_Rim_Diameter_mm.dropna(), 250)\n",
    "plt.show()\n",
    "\n",
    "plt.hist(catalogue.Min_Rim_Diameter_mm.dropna(), 2500)\n",
    "plt.show()"
   ]
  },
  {
   "cell_type": "markdown",
   "metadata": {},
   "source": [
    "Wählen wir die bin - Anzahl zu klein, verlieren wir Informationen, weil wir zu viele unterschiedliche Informationen zusammen fassen. Bei zu großen Werten im Gegensatz zeigen wir mehr oder weniger die einzelnen Werte für die Durchmesser direkt an. Beides erlaubt uns nicht, einen Trend in den Daten zu finden.\n",
    "Ein guter Wert, um einen Trend zu finden, ist hier zwischen 25 und 50, wir erkennen deutlich 2 Maxima in den Durchmessern."
   ]
  },
  {
   "cell_type": "markdown",
   "metadata": {},
   "source": [
    "**D.** Visualisiere die Durchmesser an der Gefäßbasis (```Min_Base_Diameter_mm```) im selben Histogram. Was für Aussagen über die Gefäße kannst du aus dieser Visualisierung ableiten? <font color='green'>**HINWEIS:** Wenn du der Funktion ```plt.hist()``` nicht nur eine Liste von Werten sondern eine Liste von Listen übergibst, z.B. ```list_of_lists = [lower_date_list, upper_date_list]```, dann werden die Balken der beiden Listen im Histogramm nebeneinander dargestellt. Alternativ kannst du einfach in der selben Code-Zelle zwei mal hintereinander die Funktion ```plt.hist()``` (natürlich mit unterschiedlichen Daten) aufrufen, um die Daten übereinandergelegt darzustellen. Du kannst mit der Funktion ```plt.legend()``` eine Legende zur Abbildung hinzufügen. Damit das funktioniert, musst du den einzelen plot-Befehlen vorher ein entsprechendes ```label``` Argument mitgeben.</font> Was fällt dir auf? Worauf musst du achten, damit die in beiden Histogrammen dargestellten Werte vergleichbar sind? Warum ist diese Darstellung eventuell irreführend?  "
   ]
  },
  {
   "cell_type": "code",
   "execution_count": 9,
   "metadata": {
    "run_control": {
     "frozen": false,
     "read_only": false
    }
   },
   "outputs": [
    {
     "data": {
      "image/png": "[encoded data removed]",
      "text/plain": [
       "<Figure size 432x288 with 1 Axes>"
      ]
     },
     "metadata": {},
     "output_type": "display_data"
    }
   ],
   "source": [
    "plt.hist(catalogue.Min_Rim_Diameter_mm.dropna(), bins=40, range=[0,800], label='Rim')\n",
    "plt.hist(catalogue.Min_Base_Diameter_mm.dropna(), bins=40, range=[0,800], label='Base')\n",
    "plt.legend()\n",
    "plt.show()"
   ]
  },
  {
   "cell_type": "markdown",
   "metadata": {},
   "source": [
    "* Damit die beiden Histogramme vergleichbar sind, bietet es sich an, jeweils die gleiche Anzahl an bins und den gleichen Bereich (```range=[min,manx]```) abzubilden. \n",
    "* In dieser Darstellung sieht es so aus, als ob die Gefäße an der Basis im Schnitt deutlich kleiner sind als am oberen Rand. \n",
    "* In dem Datensatz gibt es wesentlich weniger Einträge zu Basis-Durchbessern als zu Durchmessern vom oberen Rand. Das darsgestellte Ergebnis könnte als zum einen daran liegen, dass die Gefäße an der Basis tatsächlich kleiner sind. Eine alternative Erklärung wäre, dass eher Stücke von kleinen Gefäßen, aus denen sich der Basis-Durchmesser errechnen lässt, erhalten sind."
   ]
  },
  {
   "cell_type": "markdown",
   "metadata": {},
   "source": [
    "**E. (Optional)** Was hat es mit den beiden keyword arguments ```density``` und ```cumulative``` auf sich? Wie verändert sich das Histogram und wie kann die Darstellung dann interpretiert werden?"
   ]
  },
  {
   "cell_type": "markdown",
   "metadata": {},
   "source": [
    "Die Dokumentation (```Shift + Tab```) zeigt uns folgendes:\n",
    "\n",
    "**density**:\n",
    "_the counts normalized to form a probability density, i.e., the area (or integral) under the histogram will sum to 1_\n",
    "    \n",
    "**cumulative**:\n",
    "_each bin gives the counts in that bin plus all bins for smaller values. The last bin gives the total number of datapoints_\n",
    "\n"
   ]
  },
  {
   "cell_type": "code",
   "execution_count": 10,
   "metadata": {
    "run_control": {
     "frozen": false,
     "read_only": false
    }
   },
   "outputs": [
    {
     "data": {
      "image/png": "[encoded data removed]",
      "text/plain": [
       "<Figure size 432x288 with 1 Axes>"
      ]
     },
     "metadata": {},
     "output_type": "display_data"
    }
   ],
   "source": [
    "plt.hist(catalogue.Min_Rim_Diameter_mm.dropna(), density=True)\n",
    "plt.show()"
   ]
  },
  {
   "cell_type": "code",
   "execution_count": 11,
   "metadata": {
    "run_control": {
     "frozen": false,
     "read_only": false
    }
   },
   "outputs": [
    {
     "data": {
      "image/png": "[encoded data removed]",
      "text/plain": [
       "<Figure size 432x288 with 1 Axes>"
      ]
     },
     "metadata": {},
     "output_type": "display_data"
    }
   ],
   "source": [
    "plt.hist(catalogue.Min_Rim_Diameter_mm.dropna(), density=True, bins=100, cumulative=True)\n",
    "plt.show()"
   ]
  },
  {
   "cell_type": "code",
   "execution_count": 12,
   "metadata": {
    "run_control": {
     "frozen": false,
     "read_only": false
    }
   },
   "outputs": [
    {
     "data": {
      "image/png": "[encoded data removed]",
      "text/plain": [
       "<Figure size 432x288 with 1 Axes>"
      ]
     },
     "metadata": {},
     "output_type": "display_data"
    }
   ],
   "source": [
    "plt.hist(catalogue.Min_Rim_Diameter_mm.dropna(), bins=40, range=[0,800], alpha=.5, density=True, label='Rim')\n",
    "plt.hist(catalogue.Min_Base_Diameter_mm.dropna(), bins=40, range=[0,800], alpha=.5, density=True, label='Base')\n",
    "plt.legend()\n",
    "plt.show()"
   ]
  },
  {
   "cell_type": "markdown",
   "metadata": {},
   "source": [
    "[Anfang](#top)"
   ]
  },
  {
   "cell_type": "markdown",
   "metadata": {},
   "source": [
    "<a name=\"fundstueckalter\"></a>3. Alter der Fundstücke\n",
    "---\n",
    "Gefäße werden anhand ihrer Form und ihres Aussehens einer bestimmten Typologie zugeordnet. In der Tabelle ```ICRATES_STANDARD_FORM.csv``` sind Informationen über die Haupt-Typologien der Gefäße enthalten: Jede Typologie hat eine ID sowie einen Zeitraum, indem die Typologie in der Mittelmeerregion verbreitet war. Der Zeitraum ist durch eine untere und eine obere Jahresgrenze in der Tabelle dargestellt. Zusammen mit der Tabelle und der im Katalog für jedes Fundstück hinterlegten ```Standard_Form_ID``` lassen sich Rückschlüsse auf das Alter der Fundstücke ziehen. Auf der [Website des Datensatzes](https://archaeologydataservice.ac.uk/archives/view/icrates_lt_2018/overview.cfm) ist dokumentiert, wie der Datenbestand aufgebaut ist. Außerdem gibt es eine schöne Visualisierung, die die Zusammenhänge zwischen den verschiedenen Tabellen sehr deutlich macht:\n",
    "\n",
    "![Bild](https://archaeologydataservice.ac.uk/archives/view/icrates_lt_2018/images/ICRATES_ER.png)"
   ]
  },
  {
   "cell_type": "code",
   "execution_count": 13,
   "metadata": {
    "run_control": {
     "frozen": false,
     "read_only": false
    }
   },
   "outputs": [],
   "source": [
    "# Wir laden die Tabelle mit den Standard Formen:\n",
    "standard_form = pd.read_csv(\"data/ICRATES_STANDARD_FORM.csv\")#, index_col='Standard_Form_ID')"
   ]
  },
  {
   "cell_type": "markdown",
   "metadata": {},
   "source": [
    "**A. (optional)** Kannst du Beispiele (vielleicht sogar Bilder?) für die Typologien finden und erklären, woran man sie erkennt? <font color='green'>**HINWEIS:** Diese Aufgabe ist insbesondere für Archäologie-Student*innen gedacht, die in ihrem Studium eventuell schon mit diesem domain-knowledge (Fachwissen) in Berührung gekommen sind.</font>  "
   ]
  },
  {
   "cell_type": "markdown",
   "metadata": {},
   "source": [
    "# <font color='red'>  Solution unavailable </font>"
   ]
  },
  {
   "cell_type": "markdown",
   "metadata": {},
   "source": [
    "**B.** Finde für jedes Fundstück im Katalog den Zeitraum, aus dem das Fundstück stammt:\n",
    "* Iteriere über alle Fundstücke des Kataloges\n",
    "* Finde heraus, welche ```Standard_Form_ID``` dem Fundstück zugewiesen ist. <font color='green'>**HINWEIS:** Nicht allen Fundstücken ist eine \"Standard Form\" zugewiesen. Deswegen solltest du überprüfen, ob der Eintrag vorhanden ist. Das geht mit der Funktion ```pd.isna(wert)```. </font> \n",
    "* Benutze die ```Standard_Form_ID```, um in der Tabelle der Standard Forms die untere und obere Grenze des Zeitraumes herauszufinden, aus dem das Fundstück stammt.\n",
    "* Speichere diese Information in zwei Listen ab.\n",
    "* Füge die Listen dem Katalog hinzu. <font color='green'>**HINWEIS:** Damit das funktioniert, müssen die Listen genauso viele Einträge enthalten wie der Katalog Zeilen hat. Entsprechend musst du für Fundstücke, denen keine Standard Form zugewiesen ist ```nan``` in der Liste speichern.</font>"
   ]
  },
  {
   "cell_type": "code",
   "execution_count": 14,
   "metadata": {
    "run_control": {
     "frozen": false,
     "read_only": false
    }
   },
   "outputs": [
    {
     "data": {
      "text/plain": [
       "nan"
      ]
     },
     "execution_count": 14,
     "metadata": {},
     "output_type": "execute_result"
    }
   ],
   "source": [
    "# den nan-Wert besorgen wir uns aus der Bibliothek numpy:\n",
    "import numpy as np\n",
    "np.nan"
   ]
  },
  {
   "cell_type": "code",
   "execution_count": 15,
   "metadata": {
    "run_control": {
     "frozen": false,
     "read_only": false
    }
   },
   "outputs": [
    {
     "name": "stderr",
     "output_type": "stream",
     "text": [
      "/anaconda/envs/networks/lib/python3.6/site-packages/ipykernel_launcher.py:12: FutureWarning: `item` has been deprecated and will be removed in a future version\n",
      "  if sys.path[0] == '':\n",
      "/anaconda/envs/networks/lib/python3.6/site-packages/ipykernel_launcher.py:13: FutureWarning: `item` has been deprecated and will be removed in a future version\n",
      "  del sys.path[0]\n"
     ]
    }
   ],
   "source": [
    "# zwei leere Listen:\n",
    "upper = []\n",
    "lower = []\n",
    "\n",
    "# wir iterieren ueber alle Standard Form IDs\n",
    "for ID in catalogue.Standard_Form_ID:\n",
    "    if pd.isna(ID): # wenn keine ID verfuegbar ist, packen wir nan in die liste\n",
    "        upper.append(np.nan)\n",
    "        lower.append(np.nan)\n",
    "    else:           # sonst den passenden Wert aus der Formen Tabelle\n",
    "        mask = standard_form['Standard_Form_ID'] == ID\n",
    "        u = standard_form[mask]['Standard_Typo_chronological_Upper_Date'].item()\n",
    "        l = standard_form[mask]['Standard_Typo_chronological_Lower_Date'].item()\n",
    "        upper.append(u)\n",
    "        lower.append(l)"
   ]
  },
  {
   "cell_type": "code",
   "execution_count": 16,
   "metadata": {
    "collapsed": true,
    "run_control": {
     "frozen": false,
     "read_only": false
    }
   },
   "outputs": [],
   "source": [
    "# Die beiden Listen koennen wir nun als weitere Spalten in den Katalog anhaengen\n",
    "# google/duckduckgo: pandas cheat sheet ;) \n",
    "catalogue['upper'] = upper\n",
    "catalogue['lower'] = lower\n",
    "catalogue.to_csv(\"data/ICRATES_CATALOGUE.csv\")"
   ]
  },
  {
   "cell_type": "markdown",
   "metadata": {},
   "source": [
    "**C.** Was ist das mittlere geschätzte Alter der Fundstücke?"
   ]
  },
  {
   "cell_type": "code",
   "execution_count": 17,
   "metadata": {
    "run_control": {
     "frozen": false,
     "read_only": false
    }
   },
   "outputs": [
    {
     "data": {
      "text/html": [
       "<div>\n",
       "<style scoped>\n",
       "    .dataframe tbody tr th:only-of-type {\n",
       "        vertical-align: middle;\n",
       "    }\n",
       "\n",
       "    .dataframe tbody tr th {\n",
       "        vertical-align: top;\n",
       "    }\n",
       "\n",
       "    .dataframe thead th {\n",
       "        text-align: right;\n",
       "    }\n",
       "</style>\n",
       "<table border=\"1\" class=\"dataframe\">\n",
       "  <thead>\n",
       "    <tr style=\"text-align: right;\">\n",
       "      <th></th>\n",
       "      <th>upper</th>\n",
       "      <th>lower</th>\n",
       "    </tr>\n",
       "  </thead>\n",
       "  <tbody>\n",
       "    <tr>\n",
       "      <td>6</td>\n",
       "      <td>125.0</td>\n",
       "      <td>-25.0</td>\n",
       "    </tr>\n",
       "    <tr>\n",
       "      <td>7</td>\n",
       "      <td>125.0</td>\n",
       "      <td>-25.0</td>\n",
       "    </tr>\n",
       "    <tr>\n",
       "      <td>8</td>\n",
       "      <td>75.0</td>\n",
       "      <td>-75.0</td>\n",
       "    </tr>\n",
       "    <tr>\n",
       "      <td>9</td>\n",
       "      <td>75.0</td>\n",
       "      <td>-25.0</td>\n",
       "    </tr>\n",
       "    <tr>\n",
       "      <td>10</td>\n",
       "      <td>75.0</td>\n",
       "      <td>-25.0</td>\n",
       "    </tr>\n",
       "  </tbody>\n",
       "</table>\n",
       "</div>"
      ],
      "text/plain": [
       "    upper  lower\n",
       "6   125.0  -25.0\n",
       "7   125.0  -25.0\n",
       "8    75.0  -75.0\n",
       "9    75.0  -25.0\n",
       "10   75.0  -25.0"
      ]
     },
     "execution_count": 17,
     "metadata": {},
     "output_type": "execute_result"
    }
   ],
   "source": [
    "# ein kurzer Blick in den Katalog mit den neuen Spalten:\n",
    "catalogue.loc[:10,['upper', 'lower']].dropna()"
   ]
  },
  {
   "cell_type": "code",
   "execution_count": 18,
   "metadata": {
    "collapsed": true,
    "run_control": {
     "frozen": false,
     "read_only": false
    }
   },
   "outputs": [],
   "source": [
    "# aktuelles Datum\n",
    "import datetime\n",
    "now = datetime.datetime.now()"
   ]
  },
  {
   "cell_type": "code",
   "execution_count": 19,
   "metadata": {
    "collapsed": true,
    "run_control": {
     "frozen": false,
     "read_only": false
    }
   },
   "outputs": [],
   "source": [
    "# alter ist dieses Jahr - Jahr der Herstellung\n",
    "age = now.year - ( catalogue.loc[:,'upper'] + catalogue.loc[:,'lower'] )/2"
   ]
  },
  {
   "cell_type": "code",
   "execution_count": 20,
   "metadata": {
    "run_control": {
     "frozen": false,
     "read_only": false
    }
   },
   "outputs": [
    {
     "data": {
      "text/plain": [
       "6     1969.0\n",
       "7     1969.0\n",
       "8     2019.0\n",
       "9     1994.0\n",
       "10    1994.0\n",
       "12    2006.5\n",
       "13    2006.5\n",
       "14    1994.0\n",
       "15    1994.0\n",
       "16    1994.0\n",
       "dtype: float64"
      ]
     },
     "execution_count": 20,
     "metadata": {},
     "output_type": "execute_result"
    }
   ],
   "source": [
    "# ein paar Alter:\n",
    "age.dropna()[:10]"
   ]
  },
  {
   "cell_type": "code",
   "execution_count": 21,
   "metadata": {
    "run_control": {
     "frozen": false,
     "read_only": false
    }
   },
   "outputs": [
    {
     "data": {
      "text/plain": [
       "1799.9883249652169"
      ]
     },
     "execution_count": 21,
     "metadata": {},
     "output_type": "execute_result"
    }
   ],
   "source": [
    "# Mittleres Alter:\n",
    "age.mean()"
   ]
  },
  {
   "cell_type": "markdown",
   "metadata": {},
   "source": [
    "**D. (optional)** Was ist die mittlere Länge der in der Standard Form Tabelle hinterlegten Zeiträume?"
   ]
  },
  {
   "cell_type": "code",
   "execution_count": 22,
   "metadata": {
    "run_control": {
     "frozen": false,
     "read_only": false
    }
   },
   "outputs": [
    {
     "data": {
      "text/plain": [
       "6     150.0\n",
       "7     150.0\n",
       "8     150.0\n",
       "9     100.0\n",
       "10    100.0\n",
       "12    125.0\n",
       "13    125.0\n",
       "14    100.0\n",
       "15    100.0\n",
       "16    100.0\n",
       "dtype: float64"
      ]
     },
     "execution_count": 22,
     "metadata": {},
     "output_type": "execute_result"
    }
   ],
   "source": [
    "# Zeitraumlaenge:\n",
    "diff = catalogue.loc[:,'upper'] - catalogue.loc[:,'lower']\n",
    "diff.dropna()[:10]"
   ]
  },
  {
   "cell_type": "code",
   "execution_count": 23,
   "metadata": {
    "run_control": {
     "frozen": false,
     "read_only": false
    }
   },
   "outputs": [
    {
     "data": {
      "text/plain": [
       "86.5"
      ]
     },
     "execution_count": 23,
     "metadata": {},
     "output_type": "execute_result"
    }
   ],
   "source": [
    "# Mittlere Laenge:\n",
    "round(diff.mean(),1)"
   ]
  },
  {
   "cell_type": "markdown",
   "metadata": {},
   "source": [
    "**E.** Visualisiere die Verteilung der oberen Zeitraumsgrenzen in einem Histogram. Visualisiere die Verteilung der unteren Zeitraumsgrenzen in einem Histogram. Vergiss nicht auf Achsenbeschriftungen etc., achte darauf, dass ```bins``` sinnvoll gewählt ist."
   ]
  },
  {
   "cell_type": "code",
   "execution_count": 24,
   "metadata": {
    "run_control": {
     "frozen": false,
     "read_only": false
    }
   },
   "outputs": [
    {
     "data": {
      "text/plain": [
       "400.0"
      ]
     },
     "execution_count": 24,
     "metadata": {},
     "output_type": "execute_result"
    }
   ],
   "source": [
    "max(diff.dropna())"
   ]
  },
  {
   "cell_type": "code",
   "execution_count": 25,
   "metadata": {
    "run_control": {
     "frozen": false,
     "read_only": false
    }
   },
   "outputs": [
    {
     "data": {
      "image/png": "[encoded data removed]",
      "text/plain": [
       "<Figure size 1080x360 with 1 Axes>"
      ]
     },
     "metadata": {},
     "output_type": "display_data"
    }
   ],
   "source": [
    "plt.figure(figsize=(15,5))\n",
    "plt.hist(diff.dropna(), color='darkred', rwidth=0.8, bins=40, label='Hinterlegte Zeitraeume')\n",
    "plt.xlabel('Zeitraum [Jahre]')\n",
    "plt.ylabel('Counts')\n",
    "# plt.yscale('log')\n",
    "plt.legend()\n",
    "# plt.title('Hinterlegte Zeitraeume');\n",
    "plt.show()"
   ]
  },
  {
   "cell_type": "code",
   "execution_count": 26,
   "metadata": {
    "run_control": {
     "frozen": false,
     "read_only": false
    }
   },
   "outputs": [
    {
     "data": {
      "image/png": "[encoded data removed]",
      "text/plain": [
       "<Figure size 1080x360 with 1 Axes>"
      ]
     },
     "metadata": {},
     "output_type": "display_data"
    }
   ],
   "source": [
    "plt.figure(figsize=(15,5))\n",
    "plt.hist(age.dropna(), color='darkred', rwidth=0.8, bins=50, label='Alter der Scherben')\n",
    "plt.xlabel('Alter [Jahre]')\n",
    "plt.ylabel('Counts')\n",
    "# plt.yscale('log')\n",
    "plt.legend()\n",
    "# plt.title('Alter der Scherben');\n",
    "plt.show()"
   ]
  },
  {
   "cell_type": "markdown",
   "metadata": {},
   "source": [
    "**F.** Interpretiere die Visualisierung: Kannst du dein Wissen über historische Ereignisse (oder über die Art und Weise, wie Grabungen durchgeführt werden) dafür benutzen, um das Ergebnis zu erklären?"
   ]
  },
  {
   "cell_type": "markdown",
   "metadata": {},
   "source": [
    "# <font color='red'>  Solution unavailable </font>"
   ]
  },
  {
   "cell_type": "code",
   "execution_count": null,
   "metadata": {
    "collapsed": true,
    "run_control": {
     "frozen": false,
     "read_only": false
    }
   },
   "outputs": [],
   "source": []
  },
  {
   "cell_type": "markdown",
   "metadata": {},
   "source": [
    "[Anfang](#top)"
   ]
  }
 ],
 "metadata": {
  "jupytext": {
   "formats": "ipynb,py:light"
  },
  "kernelspec": {
   "display_name": "Python 3",
   "language": "python",
   "name": "python3"
  },
  "language_info": {
   "codemirror_mode": {
    "name": "ipython",
    "version": 3
   },
   "file_extension": ".py",
   "mimetype": "text/x-python",
   "name": "python",
   "nbconvert_exporter": "python",
   "pygments_lexer": "ipython3",
   "version": "3.6.1"
  },
  "latex_envs": {
   "bibliofile": "biblio.bib",
   "cite_by": "apalike",
   "current_citInitial": 1,
   "eqLabelWithNumbers": true,
   "eqNumInitial": 0
  },
  "toc": {
   "toc_cell": false,
   "toc_number_sections": true,
   "toc_threshold": 6,
   "toc_window_display": false
  }
 },
 "nbformat": 4,
 "nbformat_minor": 2
}
