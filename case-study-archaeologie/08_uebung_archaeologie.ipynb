{
 "cells": [
  {
   "cell_type": "markdown",
   "metadata": {},
   "source": [
    "_Lizenz: Das folgende Lehrmaterial kann unter einer [CC-BY-SA 4.0](https://creativecommons.org/licenses/by/4.0/legalcode) Lizenz frei verwendet, verbreitet und modifiziert werden._   \n",
    " _Authoren: Jana Lasser (jana.lasser@ds.mpg.de)_  \n",
    " _Das Lehrmaterial wurde im Zuge des Projektes \"Daten Lesen Lernen\", gefördert vom Stifterverband und der Heinz Nixdorf Stiftung erstellt._"
   ]
  },
  {
   "cell_type": "markdown",
   "metadata": {},
   "source": [
    "# Übung 08 - Archäologie: Werden die Gefäße größer?\n",
    "### Praktische Hinweise\n",
    "$\\rightarrow$ Übungen sind dafür gedacht, dass ihr sie euch daheim anseht und versucht, ein paar Aufgaben selbst zu lösen. In den Tutorien könnt ihr euch weiter mit dem Lösungen der Aufgaben beschäftigen und dabei Hilfe von den Tutor*innen bekommen.  \n",
    "\n",
    "$\\rightarrow$ Wenn ein Fehler auftritt:\n",
    "1. Fehlermeldung _lesen_ und _verstehen_\n",
    "2. Versuchen, selbst eine Lösung zu finden ($\\rightarrow$ hier findet das Lernen statt!)\n",
    "3. Das Problem googlen (Stichwort: Stackoverflow) oder den/die Nachbar*in fragen\n",
    "4. Tutor*in fragen\n",
    "\n",
    "$\\rightarrow$ Unter <font color='green'>**HINWEIS**</font> werden Hinweise gegeben, die für die Lösung der Aufgabe hilfreich sind und oftmals auch weiterführende Informationen zur Aufgabe liefern.\n",
    "\n",
    "$\\rightarrow$ Mit **(Optional)** gekennzeichnete Übungsteile sind für besonders schnelle Menschen :-)."
   ]
  },
  {
   "cell_type": "markdown",
   "metadata": {},
   "source": [
    "<a name=\"top\"></a>Inhalt\n",
    "--- \n",
    "\n",
    "Im letzten Tutorium wollen wir die Hypothese aufstellen, dass die Gefäße mit der Zeit größer werden und dann überprüfen, ob die Hypothese richtig oder falsch ist. Dies tun wir, indem wir eine lineare Regression durchführen und ihre statistische Signifikanz überprüfen. Die Ergebnisse stellen wir in sog. Scatterplots dar die es uns erlauben, den Zusammenhang zwischen zwei Variablen zu visualisieren.\n",
    "* [Scatterplots](#scatterplots)\n",
    "* [Werden die Gefäße größer?](#gefaesse_groesser)"
   ]
  },
  {
   "cell_type": "markdown",
   "metadata": {},
   "source": [
    "<a name=\"datenquellen\"></a>1. Scatterplots\n",
    "---\n",
    "Als Vorbereitung laden wir wieder den Katalog in das Notebook. WICHTIG: wir brauchen eine Version des Katalogs, die bereits Spalten für das Alter der Scherben (aus Übung 06, Aufgabe **3.B**) enthält, da wir diese für die folgende Analyse brauchen. Für den Fall, dass Ihr die entsprechende Übung nicht gemacht habt und die Datei nicht gespeichert habt, ist eine aktuelle Version der Datei im StudIP hochgeladen."
   ]
  },
  {
   "cell_type": "code",
   "execution_count": 1,
   "metadata": {},
   "outputs": [
    {
     "name": "stderr",
     "output_type": "stream",
     "text": [
      "/home/dmanik/venvs/teaching/lib/python3.5/site-packages/IPython/core/interactiveshell.py:2728: DtypeWarning: Columns (17,34,36,40) have mixed types. Specify dtype option on import or set low_memory=False.\n",
      "  interactivity=interactivity, compiler=compiler, result=result)\n"
     ]
    },
    {
     "data": {
      "text/html": [
       "<div>\n",
       "<style scoped>\n",
       "    .dataframe tbody tr th:only-of-type {\n",
       "        vertical-align: middle;\n",
       "    }\n",
       "\n",
       "    .dataframe tbody tr th {\n",
       "        vertical-align: top;\n",
       "    }\n",
       "\n",
       "    .dataframe thead th {\n",
       "        text-align: right;\n",
       "    }\n",
       "</style>\n",
       "<table border=\"1\" class=\"dataframe\">\n",
       "  <thead>\n",
       "    <tr style=\"text-align: right;\">\n",
       "      <th></th>\n",
       "      <th>Unnamed: 0</th>\n",
       "      <th>Unnamed: 0.1</th>\n",
       "      <th>ICRATES_ID</th>\n",
       "      <th>Publication_ID</th>\n",
       "      <th>Deposit_ID</th>\n",
       "      <th>Location_ID</th>\n",
       "      <th>Location_specific</th>\n",
       "      <th>Fabric_ID</th>\n",
       "      <th>Fabric</th>\n",
       "      <th>Fabric_Uncertain</th>\n",
       "      <th>...</th>\n",
       "      <th>Graffito_Reading</th>\n",
       "      <th>Reading_Uncertain</th>\n",
       "      <th>Location_of_Graffito</th>\n",
       "      <th>Comment_Remarks_Graffito</th>\n",
       "      <th>Bibliographic_Reference_Parallels</th>\n",
       "      <th>Comment_Remarks</th>\n",
       "      <th>General_Shape</th>\n",
       "      <th>Function</th>\n",
       "      <th>upper</th>\n",
       "      <th>lower</th>\n",
       "    </tr>\n",
       "  </thead>\n",
       "  <tbody>\n",
       "    <tr>\n",
       "      <th>0</th>\n",
       "      <td>0</td>\n",
       "      <td>0</td>\n",
       "      <td>1</td>\n",
       "      <td>328.0</td>\n",
       "      <td>1705.0</td>\n",
       "      <td>40.0</td>\n",
       "      <td>Assos</td>\n",
       "      <td>51.0</td>\n",
       "      <td>ESC</td>\n",
       "      <td>0</td>\n",
       "      <td>...</td>\n",
       "      <td>NaN</td>\n",
       "      <td>NaN</td>\n",
       "      <td>NaN</td>\n",
       "      <td>NaN</td>\n",
       "      <td>NaN</td>\n",
       "      <td>-</td>\n",
       "      <td>NaN</td>\n",
       "      <td>NaN</td>\n",
       "      <td>NaN</td>\n",
       "      <td>NaN</td>\n",
       "    </tr>\n",
       "    <tr>\n",
       "      <th>1</th>\n",
       "      <td>1</td>\n",
       "      <td>1</td>\n",
       "      <td>2</td>\n",
       "      <td>328.0</td>\n",
       "      <td>1705.0</td>\n",
       "      <td>40.0</td>\n",
       "      <td>Assos</td>\n",
       "      <td>51.0</td>\n",
       "      <td>ESC</td>\n",
       "      <td>0</td>\n",
       "      <td>...</td>\n",
       "      <td>NaN</td>\n",
       "      <td>NaN</td>\n",
       "      <td>NaN</td>\n",
       "      <td>NaN</td>\n",
       "      <td>NaN</td>\n",
       "      <td>-</td>\n",
       "      <td>NaN</td>\n",
       "      <td>NaN</td>\n",
       "      <td>NaN</td>\n",
       "      <td>NaN</td>\n",
       "    </tr>\n",
       "    <tr>\n",
       "      <th>2</th>\n",
       "      <td>2</td>\n",
       "      <td>2</td>\n",
       "      <td>3</td>\n",
       "      <td>328.0</td>\n",
       "      <td>1705.0</td>\n",
       "      <td>40.0</td>\n",
       "      <td>Assos</td>\n",
       "      <td>51.0</td>\n",
       "      <td>ESC</td>\n",
       "      <td>0</td>\n",
       "      <td>...</td>\n",
       "      <td>NaN</td>\n",
       "      <td>NaN</td>\n",
       "      <td>NaN</td>\n",
       "      <td>NaN</td>\n",
       "      <td>NaN</td>\n",
       "      <td>-</td>\n",
       "      <td>NaN</td>\n",
       "      <td>NaN</td>\n",
       "      <td>NaN</td>\n",
       "      <td>NaN</td>\n",
       "    </tr>\n",
       "    <tr>\n",
       "      <th>3</th>\n",
       "      <td>3</td>\n",
       "      <td>3</td>\n",
       "      <td>4</td>\n",
       "      <td>328.0</td>\n",
       "      <td>1705.0</td>\n",
       "      <td>40.0</td>\n",
       "      <td>Assos</td>\n",
       "      <td>51.0</td>\n",
       "      <td>ESC</td>\n",
       "      <td>0</td>\n",
       "      <td>...</td>\n",
       "      <td>NaN</td>\n",
       "      <td>NaN</td>\n",
       "      <td>NaN</td>\n",
       "      <td>NaN</td>\n",
       "      <td>NaN</td>\n",
       "      <td>-</td>\n",
       "      <td>NaN</td>\n",
       "      <td>NaN</td>\n",
       "      <td>NaN</td>\n",
       "      <td>NaN</td>\n",
       "    </tr>\n",
       "    <tr>\n",
       "      <th>4</th>\n",
       "      <td>4</td>\n",
       "      <td>4</td>\n",
       "      <td>5</td>\n",
       "      <td>328.0</td>\n",
       "      <td>1705.0</td>\n",
       "      <td>40.0</td>\n",
       "      <td>Assos</td>\n",
       "      <td>51.0</td>\n",
       "      <td>ESC</td>\n",
       "      <td>0</td>\n",
       "      <td>...</td>\n",
       "      <td>NaN</td>\n",
       "      <td>NaN</td>\n",
       "      <td>NaN</td>\n",
       "      <td>NaN</td>\n",
       "      <td>NaN</td>\n",
       "      <td>-</td>\n",
       "      <td>NaN</td>\n",
       "      <td>NaN</td>\n",
       "      <td>NaN</td>\n",
       "      <td>NaN</td>\n",
       "    </tr>\n",
       "  </tbody>\n",
       "</table>\n",
       "<p>5 rows × 64 columns</p>\n",
       "</div>"
      ],
      "text/plain": [
       "   Unnamed: 0  Unnamed: 0.1  ICRATES_ID  Publication_ID  Deposit_ID  \\\n",
       "0           0             0           1           328.0      1705.0   \n",
       "1           1             1           2           328.0      1705.0   \n",
       "2           2             2           3           328.0      1705.0   \n",
       "3           3             3           4           328.0      1705.0   \n",
       "4           4             4           5           328.0      1705.0   \n",
       "\n",
       "   Location_ID Location_specific  Fabric_ID Fabric  Fabric_Uncertain  ...  \\\n",
       "0         40.0             Assos       51.0    ESC                 0  ...   \n",
       "1         40.0             Assos       51.0    ESC                 0  ...   \n",
       "2         40.0             Assos       51.0    ESC                 0  ...   \n",
       "3         40.0             Assos       51.0    ESC                 0  ...   \n",
       "4         40.0             Assos       51.0    ESC                 0  ...   \n",
       "\n",
       "   Graffito_Reading  Reading_Uncertain Location_of_Graffito  \\\n",
       "0               NaN                NaN                  NaN   \n",
       "1               NaN                NaN                  NaN   \n",
       "2               NaN                NaN                  NaN   \n",
       "3               NaN                NaN                  NaN   \n",
       "4               NaN                NaN                  NaN   \n",
       "\n",
       "   Comment_Remarks_Graffito  Bibliographic_Reference_Parallels  \\\n",
       "0                       NaN                                NaN   \n",
       "1                       NaN                                NaN   \n",
       "2                       NaN                                NaN   \n",
       "3                       NaN                                NaN   \n",
       "4                       NaN                                NaN   \n",
       "\n",
       "   Comment_Remarks  General_Shape Function upper lower  \n",
       "0                -            NaN      NaN   NaN   NaN  \n",
       "1                -            NaN      NaN   NaN   NaN  \n",
       "2                -            NaN      NaN   NaN   NaN  \n",
       "3                -            NaN      NaN   NaN   NaN  \n",
       "4                -            NaN      NaN   NaN   NaN  \n",
       "\n",
       "[5 rows x 64 columns]"
      ]
     },
     "execution_count": 1,
     "metadata": {},
     "output_type": "execute_result"
    }
   ],
   "source": [
    "import pandas as pd\n",
    "catalogue = pd.read_csv(\"data/ICRATES_CATALOGUE.csv\", encoding='ISO-8859-1')\n",
    "catalogue.head()"
   ]
  },
  {
   "cell_type": "markdown",
   "metadata": {},
   "source": [
    "Um statistische Zusammenhänge zwischen Beobachtungen darzustellen, eignet sich der Scatterplot. Die Funktion ```plt.scatter(x,y)``` ([Dokumentation](https://matplotlib.org/3.1.0/api/_as_gen/matplotlib.pyplot.scatter.html)) erlaubt es uns, einen einfachen Scatterplot zu erstellen:"
   ]
  },
  {
   "cell_type": "code",
   "execution_count": 2,
   "metadata": {},
   "outputs": [
    {
     "data": {
      "text/plain": [
       "<matplotlib.collections.PathCollection at 0x7faa70642c50>"
      ]
     },
     "execution_count": 2,
     "metadata": {},
     "output_type": "execute_result"
    }
   ],
   "source": [
    "import matplotlib.pyplot as plt\n",
    "%matplotlib inline\n",
    "\n",
    "x = [3,5,7,4]\n",
    "y = [1,3,2,4]\n",
    "\n",
    "plt.scatter(x,y)"
   ]
  },
  {
   "cell_type": "markdown",
   "metadata": {},
   "source": [
    "**A.** Identifiziere alle Spalten im Katalog, die Beobachtungen zur Größe der Gefäße beinhalten."
   ]
  },
  {
   "cell_type": "markdown",
   "metadata": {},
   "source": [
    "**B.** Stelle den Gefäßdurchmesser (```Min_Rim_Diameter_mm```) über dem Gefäßalter (```upper_age```) dar. Vergiss nicht auf die Beschriftungen."
   ]
  },
  {
   "cell_type": "markdown",
   "metadata": {},
   "source": [
    "Der Katalog enthält auch Informationen zur Typologie der Fundstücke in der Spalte ```Fabric``` (siehe Tutorium 06, Aufgabe **3.A**). Wir wollen im Folgenden den Zeitraum, in dem die verschiedenen Typologien hauptsächlich vorkommen, graphisch darstellen.\n",
    "\n",
    "**C.** Erstelle ein neues DataFrame, in dem die verschiedenen Typologien und die Anzahl der Fundstücke mit der jeweiligen Typologie enthalten sind.\n",
    "* Iteriere dazu über alle Typologien\n",
    "* Filtere in jeder Iteration den Katalog nach allen Einträgen mit der aktuellen Typologie und zähle sie\n",
    "* Speichere die Anzahl in einer Liste"
   ]
  },
  {
   "cell_type": "markdown",
   "metadata": {},
   "source": [
    "**D. (optional)** Stelle die Verteilung der Fundstücke auf die Typologien in einem Histogram dar. Was Fällt dir auf?"
   ]
  },
  {
   "cell_type": "markdown",
   "metadata": {},
   "source": [
    "**E.** Sortiere das neu erstellte DataFrame nach Anzahl der Fundstücke in absteigender Reiheinfolge.  <font color='green'>**HINWEIS** Du kannst dafür die Funktion ```df.sort_values()``` ([Dokumentation](https://pandas.pydata.org/pandas-docs/stable/reference/api/pandas.DataFrame.sort_values.html)) verwenden. </font> Wieviele verschiedene Typologien gibt es? Was sind die 10 Typologien mit den meisten Fundstücken?"
   ]
  },
  {
   "cell_type": "markdown",
   "metadata": {},
   "source": [
    "**F.** Erstelle den selben Scatterplot wie in Aufgabe **1.B** noch einmal, aber diesmal nur für die Fundstücke der 10 häufigsten Typologien, mit einer eigenen Farbe und einem eigenen Legendeneintrag je Typologie.\n",
    "* Iteriere dafür über die ersten 10 Typologien im Typologie-DataFrame\n",
    "* Filtere den Katalog nach Einträgen mit der aktuellen Typologie\n",
    "* Nutze den gefilterten Katalog um einen Scatterplot der Fundstücke der aktuellen Typologie zu machen.\n",
    "* Vergiss nicht, dem Plot ein label mit der aktuellen Typologie zu geben.  \n",
    "\n",
    "Was fält dir auf?  \n",
    "\n",
    "<font color='green'>**HINWEIS** Rufst du in der selben Code-Zelle mehrfach eine plot-Funktion (wie z. B. ```plt.scatter()``` auf, benutzt ```matplotlib``` automatisch unterschiedliche Farben für die verschiedenen Datenpunkte im selben Plot. </font>."
   ]
  },
  {
   "cell_type": "markdown",
   "metadata": {},
   "source": [
    "[Anfang](#top)"
   ]
  },
  {
   "cell_type": "markdown",
   "metadata": {},
   "source": [
    "<a name=\"gefaesse_groesser\"></a>2. (optional) Werden die Gefäße größer?\n",
    "---\n",
    "In den Scatterplots aus Aufgabe **1.B** und **1.E** ist zu erkennen, dass die Gefäßdurchmesser mit der Zeit größer zu werden scheinen. Während wir solch einen Trend mit freiem Auge zwar in solch einer Abbildung vermuten können, ist es dlch sehr schwierig festzustellen, ob dieser Trend tatsächlich da oder nur eine optische Täuschung ist oder in der relativ großen Streuung der Daten untergeht. Im Folgenden wollen wir deswegen mit der linearen Regression ein Verfahren anwenden, welches uns erlaubt, solch einen vermuteten Trend zu quantifizieren und festzustellen, ob der Trend \"statistisch signifikant\" ist, oder nicht."
   ]
  },
  {
   "cell_type": "markdown",
   "metadata": {},
   "source": [
    "**A. (optional)** Mache dich mit der Funktion ```linregress()``` der Bibliothek SciPy vertraut ([Dokumentation](https://docs.scipy.org/doc/scipy/reference/generated/scipy.stats.linregress.html)). Was für Eingabewerte verlangt die Funktion? Was für Werte gibt sie aus?"
   ]
  },
  {
   "cell_type": "markdown",
   "metadata": {},
   "source": [
    "**B. (optional)** Führe eine lineare Regression des Gefäßdurchmessers über dem Gefäßalter durch. Gib die resultierenden Werte aus. Was bedeuten sie? <font color='green'>**HINWEIS** Die Funktion ```linregress()``` bekommt Probleme, wenn die Daten ```NaN``` Werte enthalten. Deswegen musst du die vorher entfernen. Am besten machst du das mit der Funktion ```dropna()```, die alle Zeilen mit ```NaN```-Werten in einem DataFrame entfernt. Da der Katalog aber in praktisch jeder Zeile irgendwo einen ```NaN``` Wert enthält, ist es sinnvoll, wenn du vorher eine Kopie erstellst, die nur die Spalten beinhaltet, die du auch wirklich brauchst:"
   ]
  },
  {
   "cell_type": "markdown",
   "metadata": {},
   "source": [
    "**C. (optional)** Die lineare Regression beschreibt eine Linie mit Steigund ```slope``` und Achsenabschnitt ```intercept```. Stelle diese Linie graphisch im selben Scatterplot wie in Aufgabe **1.B** dar. <font color='green'>**HINWEIS** mit der Funktion ```plt.plot(x, y)``` kannst du eine Linie plotten </font>."
   ]
  },
  {
   "cell_type": "markdown",
   "metadata": {},
   "source": [
    "**D. (optional)** Es gibt verschiedene Maße für die Gefäßdurchmesser und auch verschiedene Abschätzungen für das Alter. Teste ein paar andere Kombinationen aus Gefäßdurchmesser und Alter und überprüfe, ob weiterhin eine Korrelation besteht."
   ]
  },
  {
   "cell_type": "markdown",
   "metadata": {},
   "source": [
    "**E. (optional)** Es gibt auch die beiden Maße für die Gefäßhöhe: ```Min_Height_mm``` und ```Max_Height_mm```. Teste auch diese beiden Maße auf Korrelation mit dem Alter der Gefäße. Was schließt du aus den Ergebnissen?"
   ]
  },
  {
   "cell_type": "markdown",
   "metadata": {},
   "source": [
    "[Anfang](#top)"
   ]
  }
 ],
 "metadata": {
  "kernelspec": {
   "display_name": "Python 3",
   "language": "python",
   "name": "python3"
  },
  "language_info": {
   "codemirror_mode": {
    "name": "ipython",
    "version": 3
   },
   "file_extension": ".py",
   "mimetype": "text/x-python",
   "name": "python",
   "nbconvert_exporter": "python",
   "pygments_lexer": "ipython3",
   "version": "3.6.5"
  }
 },
 "nbformat": 4,
 "nbformat_minor": 2
}
