{
 "cells": [
  {
   "cell_type": "markdown",
   "metadata": {},
   "source": [
    "_Lizenz: Das folgende Lehrmaterial kann unter einer [CC-BY-SA 4.0](https://creativecommons.org/licenses/by/4.0/legalcode) Lizenz frei verwendet, verbreitet und modifiziert werden._   \n",
    " _Authoren: Jana Lasser (jana.lasser@ds.mpg.de)_  \n",
    " _Das Lehrmaterial wurde im Zuge des Projektes \"Daten Lesen Lernen\", gefördert vom Stifterverband und der Heinz Nixdorf Stiftung erstellt._"
   ]
  },
  {
   "cell_type": "markdown",
   "metadata": {},
   "source": [
    "# Übung 06 - Archäologie: Histogramme, deskriptive Statistik und Zeitreihen\n",
    "### Praktische Hinweise\n",
    "$\\rightarrow$ Übungen sind dafür gedacht, dass ihr sie euch daheim anseht und versucht, ein paar Aufgaben selbst zu lösen. In den Tutorien könnt ihr euch weiter mit dem Lösungen der Aufgaben beschäftigen und dabei Hilfe von den Tutor*innen bekommen.  \n",
    "\n",
    "$\\rightarrow$ Wenn ein Fehler auftritt:\n",
    "1. Fehlermeldung _lesen_ und _verstehen_\n",
    "2. Versuchen, selbst eine Lösung zu finden ($\\rightarrow$ hier findet das Lernen statt!)\n",
    "3. Das Problem googlen (Stichwort: Stackoverflow) oder den/die Nachbar*in fragen\n",
    "4. Tutor*in fragen\n",
    "\n",
    "$\\rightarrow$ Unter <font color='green'>**HINWEIS**</font> werden Hinweise gegeben, die für die Lösung der Aufgabe hilfreich sind und oftmals auch weiterführende Informationen zur Aufgabe liefern.\n",
    "\n",
    "$\\rightarrow$ Mit **(Optional)** gekennzeichnete Übungsteile sind für besonders schnelle Menschen :-)."
   ]
  },
  {
   "cell_type": "markdown",
   "metadata": {},
   "source": [
    "<a name=\"top\"></a>Inhalt\n",
    "---\n",
    "In der folgenden Übung werden wir uns die Eigenschaften der Geschirr-Fundstücke etwas genauer ansehen. Insbesondere interessieren wir uns für die Größe des Geschirrs und sein Alter. Dafür benutzen wir neben der Haupttabelle, die den Katalog der Fundstücke enthält, auch eine zweite Tabelle aus dem Datensatz, die uns zusätzliche Informationen über das Alter von verschiedenen Geschirr-Typen liefert. Da die letzte Übung etwas lang war, wiederholen wir den Teil über die Histogramme aus der letzten Übung hier noch einmal. \n",
    "\n",
    "Die aktuelle Übung gliedert sich in drei Teile:\n",
    "* [Histogramme](#histogramme)\n",
    "* [Größe des Geschirrs](#geschirrgroesse)\n",
    "* [Alter der Fundstücke](#fundstueckalter)  \n"
   ]
  },
  {
   "cell_type": "markdown",
   "metadata": {},
   "source": [
    "<a name=\"histogramme\"></a>1. Histogramme\n",
    "---\n",
    "Im folgenden Abschnitt werden wir damit beginnen, die in den Daten enthaltenen Informationen zu visualisieren. Eine sehr einfache Visualisierung ist das Histogramm, eine graphische Darstellung der Häufigkeit eines Merkmals. Zur Illustration erstellen wir eine kleine Visualisierung der Verteilung von Werten in einer Liste:"
   ]
  },
  {
   "cell_type": "code",
   "execution_count": 1,
   "metadata": {},
   "outputs": [],
   "source": [
    "# eine Liste mit 30 Ganzzahlen, die z.B. das Alter von Personen in einer\n",
    "# Gruppe darstellen können\n",
    "alter = [37, 20, 84,  2, 11, 89, 52, 65, 90, 21, 30, 12, 17, 53, 62, 45, 37,\n",
    "        3,  6, 64, 85,  6, 95, 73, 68, 55, 86, 83, 91,  1]\n",
    "\n",
    "# für Visualisierungen benutzen wir die Blbiothek \"matplotlib.pyplot\"\n",
    "import matplotlib.pyplot as plt\n",
    "\n",
    "# Histogramme lassen sich einfach mit der Funktion plt.hist() erstellen\n",
    "plt.hist(alter);"
   ]
  },
  {
   "cell_type": "markdown",
   "metadata": {},
   "source": [
    "Visualisierungen sollten immer mit Achsenbeschriftungen versehen werden. Dafür verwenden wir die Funktionen ```plt.xlabel()``` und ```plt.ylabel```. Außerdem können wir der Abbildung mit ```plt.title()``` einen Titel geben. Mit verschiedenen optionalen Argumenten lässt sich das Verhalten von ```plt.hist()``` anpassen:\n",
    "* ```bins``` ändert die Anzahl der Bins\n",
    "* ```range``` ändert den dargestellten Bereich auf der x-Achse\n",
    "* ```rwidth``` ändert die dargestellte bin-Weite \n",
    "* ```color``` ändert die Farbe\n",
    "* ```alpha``` ändert den Alpha-Wert (Durchsichtigkeit) der dargestellten Balken.\n",
    "\n",
    "Plot-Funktionen haben oftmals sehr viele optionale Argumente (auch \"keyword arguments\" genannt). Um herauszufinden, wass die jeweiligen Funktionen alles können, lohnt sich ein Blick in die [Dokumentation](https://matplotlib.org/api/_as_gen/matplotlib.pyplot.hist.html). Außerdem sollte jede Darstellung *immer* mit Achsenbeschriftungen und eventuell einem Titel versehen werden:"
   ]
  },
  {
   "cell_type": "code",
   "execution_count": 2,
   "metadata": {},
   "outputs": [
    {
     "data": {
      "image/png": "[encoded data removed]",
      "text/plain": [
       "<Figure size 432x288 with 1 Axes>"
      ]
     },
     "metadata": {},
     "output_type": "display_data"
    }
   ],
   "source": [
    "plt.hist(alter, color='red', rwidth=0.8, range=[0,100], bins=10, label='alter')\n",
    "plt.xlabel('Alter')\n",
    "plt.ylabel('Anzahl')\n",
    "plt.title('Verteilung des Alters');"
   ]
  },
  {
   "cell_type": "markdown",
   "metadata": {},
   "source": [
    "[Anfang](#top)"
   ]
  },
  {
   "cell_type": "markdown",
   "metadata": {},
   "source": [
    "<a name=\"geschirrgroesse\"></a>2. Größe des Geschirrs\n",
    "---\n",
    "Als Vorbereitung lesen wir den Datensatz der Fundstücke, den wir in der letzten Übung lokal gespeichert haben wieder ein:"
   ]
  },
  {
   "cell_type": "code",
   "execution_count": 3,
   "metadata": {},
   "outputs": [
    {
     "name": "stderr",
     "output_type": "stream",
     "text": [
      "/home/dmanik/venvs/teaching/lib/python3.5/site-packages/IPython/core/interactiveshell.py:2728: DtypeWarning: Columns (16,33,35) have mixed types. Specify dtype option on import or set low_memory=False.\n",
      "  interactivity=interactivity, compiler=compiler, result=result)\n"
     ]
    }
   ],
   "source": [
    "# importiere pandas\n",
    "import pandas as pd\n",
    "\n",
    "# Hinweis: falls du die Datei im Unterordner \"daten\" abgelegt hast,\n",
    "# musst du als Pfad \"daten/ICRATES_CATALOGUE.csv\" angeben\n",
    "catalogue = pd.read_csv(\"data/ICRATES_CATALOGUE.csv\")"
   ]
  },
  {
   "cell_type": "markdown",
   "metadata": {},
   "source": [
    "\n",
    "**A.** Erstelle ein Histogramm der in der Spalte ```Min_Rim_Diameter_mm``` enthaltenen Durchmesser. <font color='green'>**HINWEIS:** Damit das funktioniert, musst du mit der Funktion ```dropna()``` alle ```NaN```-Werte entfernen.</font>  \n",
    "\n",
    "**B.** Mache dich mit den unterschiedlichen Argumenten der Funktion ```plt.hist()``` vertraut, indem du verschiedene Werte und Kombinationen für die Daten ausprobierst. Finde Werte, die die Daten deiner Meinung nach gut und verständlich darstellen. Worauf kommt es dabei an? Versieh die Darstellung mit passenden Beschriftungen.  \n",
    "\n",
    "**C.** Insbesondere das Argument ```bins``` verändert die Darstellung des Histogrammes sehr stark. Was kann schiefgehen, wenn ```bins``` zu niedrig oder zu hoch gewählt wird? Was ist eine gute Wahl für einen (diesen) Datensatz?  \n",
    "\n",
    "**D.** Visualisiere die Durchmesser an der Gefäßbasis (```Min_Base_Diameter_mm```) im selben Histogram. Was für Aussagen über die Gefäße kannst du aus dieser Visualisierung ableiten? <font color='green'>**HINWEIS:** Wenn du der Funktion ```plt.hist()``` nicht nur eine Liste von Werten sondern eine Liste von Listen übergibst, z.B. ```list_of_lists = [lower_date_list, upper_date_list]```, dann werden die Balken der beiden Listen im Histogramm nebeneinander dargestellt. Alternativ kannst du einfach in der selben Code-Zelle zwei mal hintereinander die Funktion ```plt.hist()``` (natürlich mit unterschiedlichen Daten) aufrufen, um die Daten übereinandergelegt darzustellen. Du kannst mit der Funktion ```plt.legend()``` eine Legende zur Abbildung hinzufügen. Damit das funktioniert, musst du den einzelen plot-Befehlen vorher ein entsprechendes ```label``` Argument mitgeben.</font> Was fällt dir auf? Worauf musst du achten, damit die in beiden Histogrammen dargestellten Werte vergleichbar sind? Warum ist diese Darstellung eventuell irreführend?  \n",
    "\n",
    "**E. (Optional)** Was hat es mit den beiden keyword arguments ```density``` und ```cumulative``` auf sich? Wie verändert sich das Histogram und wie kann die Darstellung dann interpretiert werden?"
   ]
  },
  {
   "cell_type": "markdown",
   "metadata": {},
   "source": [
    "[Anfang](#top)"
   ]
  },
  {
   "cell_type": "markdown",
   "metadata": {},
   "source": [
    "<a name=\"fundstueckalter\"></a>3. Alter der Fundstücke\n",
    "---\n",
    "Gefäße werden anhand ihrer Form und ihres Aussehens einer bestimmten Typologie zugeordnet. In der Tabelle ```ICRATES_STANDARD_FORM.csv``` sind Informationen über die Haupt-Typologien der Gefäße enthalten: Jede Typologie hat eine ID sowie einen Zeitraum, indem die Typologie in der Mittelmeerregion verbreitet war. Der Zeitraum ist durch eine untere und eine obere Jahresgrenze in der Tabelle dargestellt. Zusammen mit der Tabelle und der im Katalog für jedes Fundstück hinterlegten ```Standard_Form_ID``` lassen sich Rückschlüsse auf das Alter der Fundstücke ziehen. Auf der [Website des Datensatzes](https://archaeologydataservice.ac.uk/archives/view/icrates_lt_2018/overview.cfm) ist dokumentiert, wie der Datenbestand aufgebaut ist. Außerdem gibt es eine schöne Visualisierung, die die Zusammenhänge zwischen den verschiedenen Tabellen sehr deutlich macht:\n",
    "\n",
    "![Bild](https://archaeologydataservice.ac.uk/archives/view/icrates_lt_2018/images/ICRATES_ER.png)"
   ]
  },
  {
   "cell_type": "markdown",
   "metadata": {},
   "source": [
    "**A. (optional)** Kannst du Beispiele (vielleicht sogar Bilder?) für die Typologien finden und erklären, woran man sie erkennt? <font color='green'>**HINWEIS:** Diese Aufgabe ist insbesondere für Archäologie-Student*innen gedacht, die in ihrem Studium eventuell schon mit diesem domain-knowledge (Fachwissen) in Berührung gekommen sind.</font>  \n",
    "\n",
    "**B.** Finde für jedes Fundstück im Katalog den Zeitraum, aus dem das Fundstück stammt:\n",
    "* Iteriere über alle Fundstücke des Kataloges\n",
    "* Finde heraus, welche ```Standard_Form_ID``` dem Fundstück zugewiesen ist. <font color='green'>**HINWEIS:** Nicht allen Fundstücken ist eine \"Standard Form\" zugewiesen. Deswegen solltest du überprüfen, ob der Eintrag vorhanden ist. Das geht mit der Funktion ```pd.isna(wert)```. </font> \n",
    "* Benutze die ```Standard_Form_ID```, um in der Tabelle der Standard Forms die untere und obere Grenze des Zeitraumes herauszufinden, aus dem das Fundstück stammt.\n",
    "* Speichere diese Information in zwei Listen ab.\n",
    "* Füge die Listen dem Katalog hinzu. <font color='green'>**HINWEIS:** Damit das funktioniert, müssen die Listen genauso viele Einträge enthalten wie der Katalog Zeilen hat. Entsprechend musst du für Fundstücke, denen keine Standard Form zugewiesen ist ```nan``` in der Liste speichern.</font>\n",
    "* Speichere den Katalog mit der Funktion ```catalogue.to_csv()``` ab."
   ]
  },
  {
   "cell_type": "code",
   "execution_count": 4,
   "metadata": {},
   "outputs": [
    {
     "data": {
      "text/plain": [
       "nan"
      ]
     },
     "execution_count": 4,
     "metadata": {},
     "output_type": "execute_result"
    }
   ],
   "source": [
    "# den nan-Wert besorgen wir uns aus der Bibliothek numpy:\n",
    "import numpy as np\n",
    "np.nan"
   ]
  },
  {
   "cell_type": "markdown",
   "metadata": {},
   "source": [
    "**C.** Was ist das mittlere geschätzte Alter der Fundstücke?\n",
    "\n",
    "**D. (optional)** Was ist die mittlere Länge der in der Standard Form Tabelle hinterlegten Zeiträume?\n",
    "\n",
    "**E.** Visualisiere die Verteilung der oberen Zeitraumsgrenzen in einem Histogram. Visualisiere die Verteilung der unteren Zeitraumsgrenzen in einem Histogram. Vergiss nicht auf Achsenbeschriftungen etc., achte darauf, dass ```bins``` sinnvoll gewählt ist.\n",
    "\n",
    "**F.** Interpretiere die Visualisierung: Kannst du dein Wissen über historische Ereignisse (oder über die Art und Weise, wie Grabungen durchgeführt werden) dafür benutzen, um das Ergebnis zu erklären?"
   ]
  },
  {
   "cell_type": "markdown",
   "metadata": {},
   "source": [
    "[Anfang](#top)"
   ]
  }
 ],
 "metadata": {
  "jupytext": {
   "formats": "ipynb,py:light"
  },
  "kernelspec": {
   "display_name": "Python 3",
   "language": "python",
   "name": "python3"
  },
  "language_info": {
   "codemirror_mode": {
    "name": "ipython",
    "version": 3
   },
   "file_extension": ".py",
   "mimetype": "text/x-python",
   "name": "python",
   "nbconvert_exporter": "python",
   "pygments_lexer": "ipython3",
   "version": "3.5.2"
  }
 },
 "nbformat": 4,
 "nbformat_minor": 2
}
