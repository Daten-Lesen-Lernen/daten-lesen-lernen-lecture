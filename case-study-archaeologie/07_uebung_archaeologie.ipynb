{
 "cells": [
  {
   "cell_type": "markdown",
   "metadata": {},
   "source": [
    "_Lizenz: Das folgende Lehrmaterial kann unter einer [CC-BY-SA 4.0](https://creativecommons.org/licenses/by/4.0/legalcode) Lizenz frei verwendet, verbreitet und modifiziert werden._   \n",
    " _Authoren: Jana Lasser (jana.lasser@ds.mpg.de)_  \n",
    " _Das Lehrmaterial wurde im Zuge des Projektes \"Daten Lesen Lernen\", gefördert vom Stifterverband und der Heinz Nixdorf Stiftung erstellt._"
   ]
  },
  {
   "cell_type": "markdown",
   "metadata": {},
   "source": [
    "# Übung 07 - Archäologie: Visualisierung über einer Landkarte\n",
    "### Praktische Hinweise\n",
    "$\\rightarrow$ Übungen sind dafür gedacht, dass ihr sie euch daheim anseht und versucht, ein paar Aufgaben selbst zu lösen. In den Tutorien könnt ihr euch weiter mit dem Lösungen der Aufgaben beschäftigen und dabei Hilfe von den Tutor*innen bekommen.  \n",
    "\n",
    "$\\rightarrow$ Wenn ein Fehler auftritt:\n",
    "1. Fehlermeldung _lesen_ und _verstehen_\n",
    "2. Versuchen, selbst eine Lösung zu finden ($\\rightarrow$ hier findet das Lernen statt!)\n",
    "3. Das Problem googlen (Stichwort: Stackoverflow) oder den/die Nachbar*in fragen\n",
    "4. Tutor*in fragen\n",
    "\n",
    "$\\rightarrow$ Unter <font color='green'>**HINWEIS**</font> werden Hinweise gegeben, die für die Lösung der Aufgabe hilfreich sind und oftmals auch weiterführende Informationen zur Aufgabe liefern.\n",
    "\n",
    "$\\rightarrow$ Mit **(Optional)** gekennzeichnete Übungsteile sind für besonders schnelle Menschen :-)."
   ]
  },
  {
   "cell_type": "markdown",
   "metadata": {},
   "source": [
    "<a name=\"top\"></a>Inhalt\n",
    "---\n",
    "In diesem Tutorium möchten wir uns damit beschäftigen, Daten denen eine Räumliche Information zugeordnet ist auf einer Landkarte zu visualisieren. Dafür beschäftigen wir uns zuerst mit sog. \"Scatterplots\", die es uns erlauben, Datenpunkte anhand ihrer x- und y-Koordinaten darzustellen. Dieses Wissen wenden wir dann an, um die Anzahl der Fundstücke im Mittelmehrraum graphisch darzustellen.\n",
    "\n",
    "Das Tutorial gliedert sich in\n",
    "* [Scatterplots und Orte](#spatterplots)\n",
    "* [Landkarten](#landkarten)"
   ]
  },
  {
   "cell_type": "markdown",
   "metadata": {},
   "source": [
    "<a name=\"scatterplots\"></a>1. Scatterplots und Orte\n",
    "---\n",
    "Die Funktion ```plt.scatter(x,y)``` ([Dokumentation](https://matplotlib.org/3.1.0/api/_as_gen/matplotlib.pyplot.scatter.html)) erlaubt es uns, einen einfachen Scatterplot zu erstellen:"
   ]
  },
  {
   "cell_type": "code",
   "execution_count": 1,
   "metadata": {},
   "outputs": [
    {
     "data": {
      "text/plain": [
       "<matplotlib.collections.PathCollection at 0x7ff721e63940>"
      ]
     },
     "execution_count": 1,
     "metadata": {},
     "output_type": "execute_result"
    },
    {
     "data": {
      "image/png": "[encoded data removed]",
      "text/plain": [
       "<Figure size 432x288 with 1 Axes>"
      ]
     },
     "metadata": {},
     "output_type": "display_data"
    }
   ],
   "source": [
    "import matplotlib.pyplot as plt\n",
    "%matplotlib inline\n",
    "\n",
    "x = [3,5,7,4]\n",
    "y = [1,3,2,4]\n",
    "\n",
    "plt.scatter(x,y)"
   ]
  },
  {
   "cell_type": "markdown",
   "metadata": {},
   "source": [
    "**A.** Mache dich mit den Verschiedenen Argumenten der Funktion ```scatter()``` vertraut. Du kannst der Funktion z.B. mit dem Argument ```s``` eine Liste an Größen und mit dem Argument ```c``` eine Liste an Farben übergeben, um die Größe und Farbe der einzelnen dargestellten Punkte zu modifizieren."
   ]
  },
  {
   "cell_type": "markdown",
   "metadata": {},
   "source": [
    "Wir laden den Fundstücke-Katalog und die Tabelle ```ÌCRATES_LOCATION.csv```, in der die Längen- und Breitengrade der verschiedenen Fundorte vermerkt sind:"
   ]
  },
  {
   "cell_type": "code",
   "execution_count": 3,
   "metadata": {},
   "outputs": [
    {
     "name": "stderr",
     "output_type": "stream",
     "text": [
      "/home/dmanik/venvs/teaching/lib/python3.5/site-packages/IPython/core/interactiveshell.py:2728: DtypeWarning: Columns (17,34,36,40) have mixed types. Specify dtype option on import or set low_memory=False.\n",
      "  interactivity=interactivity, compiler=compiler, result=result)\n"
     ]
    },
    {
     "data": {
      "text/html": [
       "<div>\n",
       "<style scoped>\n",
       "    .dataframe tbody tr th:only-of-type {\n",
       "        vertical-align: middle;\n",
       "    }\n",
       "\n",
       "    .dataframe tbody tr th {\n",
       "        vertical-align: top;\n",
       "    }\n",
       "\n",
       "    .dataframe thead th {\n",
       "        text-align: right;\n",
       "    }\n",
       "</style>\n",
       "<table border=\"1\" class=\"dataframe\">\n",
       "  <thead>\n",
       "    <tr style=\"text-align: right;\">\n",
       "      <th></th>\n",
       "      <th>Unnamed: 0</th>\n",
       "      <th>Location_ID</th>\n",
       "      <th>Location_simple</th>\n",
       "      <th>Longitude</th>\n",
       "      <th>Latitude</th>\n",
       "      <th>Coordinates_uncertain</th>\n",
       "      <th>Harbour</th>\n",
       "      <th>Sea</th>\n",
       "      <th>River</th>\n",
       "      <th>River_navigability</th>\n",
       "      <th>...</th>\n",
       "      <th>Modern_country</th>\n",
       "      <th>Late_Hellenistic_Area_Provincia</th>\n",
       "      <th>Early_Imperial_Province</th>\n",
       "      <th>Middle_Imperial_Province</th>\n",
       "      <th>Early_Byzantine_region</th>\n",
       "      <th>Comment_Remarks</th>\n",
       "      <th>BA_map_reference</th>\n",
       "      <th>BA_Rank</th>\n",
       "      <th>BA_rank_uncertain</th>\n",
       "      <th>Pleiades_URL</th>\n",
       "    </tr>\n",
       "  </thead>\n",
       "  <tbody>\n",
       "    <tr>\n",
       "      <th>0</th>\n",
       "      <td>0</td>\n",
       "      <td>1</td>\n",
       "      <td>aazaz</td>\n",
       "      <td>37.004606</td>\n",
       "      <td>36.519218</td>\n",
       "      <td>0</td>\n",
       "      <td>0</td>\n",
       "      <td>not_available</td>\n",
       "      <td>not_available</td>\n",
       "      <td>not_available</td>\n",
       "      <td>...</td>\n",
       "      <td>Syria</td>\n",
       "      <td>Syria</td>\n",
       "      <td>Syria</td>\n",
       "      <td>not_available</td>\n",
       "      <td>not_available</td>\n",
       "      <td>none</td>\n",
       "      <td>not_available</td>\n",
       "      <td>4</td>\n",
       "      <td>0</td>\n",
       "      <td>not_available</td>\n",
       "    </tr>\n",
       "    <tr>\n",
       "      <th>1</th>\n",
       "      <td>1</td>\n",
       "      <td>2</td>\n",
       "      <td>abdera</td>\n",
       "      <td>24.973047</td>\n",
       "      <td>40.933650</td>\n",
       "      <td>0</td>\n",
       "      <td>1</td>\n",
       "      <td>Thracium/Macedonicum_Mare</td>\n",
       "      <td>not_available</td>\n",
       "      <td>not_available</td>\n",
       "      <td>...</td>\n",
       "      <td>Greece</td>\n",
       "      <td>not_available</td>\n",
       "      <td>Thracia</td>\n",
       "      <td>Thracia_Rhodope</td>\n",
       "      <td>not_available</td>\n",
       "      <td>none</td>\n",
       "      <td>51_D3</td>\n",
       "      <td>4</td>\n",
       "      <td>0</td>\n",
       "      <td>https://pleiades.stoa.org/places/501323</td>\n",
       "    </tr>\n",
       "    <tr>\n",
       "      <th>2</th>\n",
       "      <td>2</td>\n",
       "      <td>3</td>\n",
       "      <td>abu_jiffa</td>\n",
       "      <td>0.000000</td>\n",
       "      <td>0.000000</td>\n",
       "      <td>1</td>\n",
       "      <td>0</td>\n",
       "      <td>not_available</td>\n",
       "      <td>not_available</td>\n",
       "      <td>not_available</td>\n",
       "      <td>...</td>\n",
       "      <td>Israel</td>\n",
       "      <td>not_available</td>\n",
       "      <td>Arabia</td>\n",
       "      <td>not_available</td>\n",
       "      <td>Palaistine_III</td>\n",
       "      <td>none</td>\n",
       "      <td>not_available</td>\n",
       "      <td>0</td>\n",
       "      <td>1</td>\n",
       "      <td>not_available</td>\n",
       "    </tr>\n",
       "    <tr>\n",
       "      <th>3</th>\n",
       "      <td>3</td>\n",
       "      <td>6</td>\n",
       "      <td>adulis</td>\n",
       "      <td>39.663840</td>\n",
       "      <td>15.244510</td>\n",
       "      <td>0</td>\n",
       "      <td>1</td>\n",
       "      <td>Red_Sea</td>\n",
       "      <td>not_available</td>\n",
       "      <td>not_available</td>\n",
       "      <td>...</td>\n",
       "      <td>Eritrea</td>\n",
       "      <td>Barbaricum</td>\n",
       "      <td>Barbaricum</td>\n",
       "      <td>Barbaricum</td>\n",
       "      <td>Barbaricum</td>\n",
       "      <td>Study of the coastal change since Antiquity su...</td>\n",
       "      <td>not_available</td>\n",
       "      <td>3</td>\n",
       "      <td>1</td>\n",
       "      <td>not_available</td>\n",
       "    </tr>\n",
       "    <tr>\n",
       "      <th>4</th>\n",
       "      <td>4</td>\n",
       "      <td>10</td>\n",
       "      <td>agioi_pandes</td>\n",
       "      <td>21.679860</td>\n",
       "      <td>38.661422</td>\n",
       "      <td>0</td>\n",
       "      <td>0</td>\n",
       "      <td>not_available</td>\n",
       "      <td>not_available</td>\n",
       "      <td>not_available</td>\n",
       "      <td>...</td>\n",
       "      <td>Greece</td>\n",
       "      <td>Achaia</td>\n",
       "      <td>Achaia</td>\n",
       "      <td>Achaia</td>\n",
       "      <td>Hellas</td>\n",
       "      <td>none</td>\n",
       "      <td>not_available</td>\n",
       "      <td>4</td>\n",
       "      <td>1</td>\n",
       "      <td>not_available</td>\n",
       "    </tr>\n",
       "  </tbody>\n",
       "</table>\n",
       "<p>5 rows × 22 columns</p>\n",
       "</div>"
      ],
      "text/plain": [
       "   Unnamed: 0  Location_ID Location_simple  Longitude   Latitude  \\\n",
       "0           0            1           aazaz  37.004606  36.519218   \n",
       "1           1            2          abdera  24.973047  40.933650   \n",
       "2           2            3       abu_jiffa   0.000000   0.000000   \n",
       "3           3            6          adulis  39.663840  15.244510   \n",
       "4           4           10    agioi_pandes  21.679860  38.661422   \n",
       "\n",
       "   Coordinates_uncertain  Harbour                        Sea          River  \\\n",
       "0                      0        0              not_available  not_available   \n",
       "1                      0        1  Thracium/Macedonicum_Mare  not_available   \n",
       "2                      1        0              not_available  not_available   \n",
       "3                      0        1                    Red_Sea  not_available   \n",
       "4                      0        0              not_available  not_available   \n",
       "\n",
       "  River_navigability  ... Modern_country Late_Hellenistic_Area_Provincia  \\\n",
       "0      not_available  ...          Syria                           Syria   \n",
       "1      not_available  ...         Greece                   not_available   \n",
       "2      not_available  ...         Israel                   not_available   \n",
       "3      not_available  ...        Eritrea                      Barbaricum   \n",
       "4      not_available  ...         Greece                          Achaia   \n",
       "\n",
       "  Early_Imperial_Province Middle_Imperial_Province Early_Byzantine_region  \\\n",
       "0                   Syria            not_available          not_available   \n",
       "1                 Thracia          Thracia_Rhodope          not_available   \n",
       "2                  Arabia            not_available         Palaistine_III   \n",
       "3              Barbaricum               Barbaricum             Barbaricum   \n",
       "4                  Achaia                   Achaia                 Hellas   \n",
       "\n",
       "                                     Comment_Remarks BA_map_reference BA_Rank  \\\n",
       "0                                               none    not_available       4   \n",
       "1                                               none            51_D3       4   \n",
       "2                                               none    not_available       0   \n",
       "3  Study of the coastal change since Antiquity su...    not_available       3   \n",
       "4                                               none    not_available       4   \n",
       "\n",
       "  BA_rank_uncertain                             Pleiades_URL  \n",
       "0                 0                            not_available  \n",
       "1                 0  https://pleiades.stoa.org/places/501323  \n",
       "2                 1                            not_available  \n",
       "3                 1                            not_available  \n",
       "4                 1                            not_available  \n",
       "\n",
       "[5 rows x 22 columns]"
      ]
     },
     "execution_count": 3,
     "metadata": {},
     "output_type": "execute_result"
    }
   ],
   "source": [
    "import pandas as pd\n",
    "catalogue = pd.read_csv(\"data/ICRATES_CATALOGUE.csv\", encoding='ISO-8859-1')\n",
    "location = pd.read_csv('data/ICRATES_LOCATION.csv', encoding = \"ISO-8859-1\", low_memory=False)\n",
    "location.head()"
   ]
  },
  {
   "cell_type": "markdown",
   "metadata": {},
   "source": [
    "**B.** Wieviele verschiedene Fundorte gibt es? In welchen (modernen) Ländergrenzen liegen sie?"
   ]
  },
  {
   "cell_type": "markdown",
   "metadata": {},
   "source": [
    "**C.** Stelle die Fundorte als Scatterplot dar. In welchem Bereich (Längen- und Breitengrad) liegen die Datenpunkte? Was hat es mit dem Punkt bei (0,0) auf sich?"
   ]
  },
  {
   "cell_type": "markdown",
   "metadata": {},
   "source": [
    "Um herauszufinden, wieviele Fundstücke es pro Fundort gibt, müssen wir den Katalog nach der ```Location_ID``` filtern. Um z.B. die Anzahl der Fundstücke mit der ID 1 zu finden, gehen wir wie folgt vor:"
   ]
  },
  {
   "cell_type": "code",
   "execution_count": 4,
   "metadata": {},
   "outputs": [
    {
     "name": "stdout",
     "output_type": "stream",
     "text": [
      "Am Fundort aazaz (ID 1) wurden 9 Fundstücke gefunden.\n"
     ]
    }
   ],
   "source": [
    "# nach dieser ID suchen wir\n",
    "ID = 1\n",
    "\n",
    "# wir wollen auch direkt den Namen des Fundortes herausfinden, dafür\n",
    "# erstellen wir eine Maske \n",
    "name_mask = location['Location_ID'] == ID\n",
    "# und filtern dann dass \"location\" DataFrame entsprechend\n",
    "location_name = location[name_mask]['Location_simple'][0]\n",
    "\n",
    "# um alle Fundstücke, die an einem bestimmten Fundort mit einer\n",
    "# gegebenen ID gefunden wurden im Katalog zu finden, erstellen\n",
    "# wir ebenfalls eine Maske\n",
    "location_id_mask = catalogue['Location_ID'] == ID\n",
    "\n",
    "# wir filtern den Katalog mit Hilfe der Maske...\n",
    "filtered = catalogue[location_id_mask]\n",
    "# ...und zählen die Fundstücke\n",
    "count = len(filtered)\n",
    "\n",
    "print('Am Fundort {} (ID {}) wurden {} Fundstücke gefunden.'\\\n",
    "      .format(location_name, ID, count))"
   ]
  },
  {
   "cell_type": "markdown",
   "metadata": {},
   "source": [
    "**D.** Iteriere über alle Location IDs in der ```location``` Tabelle. Finde für jeden Fundort heraus, wieviele Fundstücke dort gefunden wurden. Speichere die Ergebnisse in einer neuen Liste, füge die Liste dem ```location``` DataFrame als neue Spalte hinzu."
   ]
  },
  {
   "cell_type": "markdown",
   "metadata": {},
   "source": [
    "<a name=\"landkarten\"></a>2. Landkarten\n",
    "---\n",
    "Der in Aufgabe **1.C** erstellte Scatterplot der Fundorte ist schwer zu interpretieren. Insbesondere fehlt uns der Kontext der Geographie wie Ländergrenzen, Landmassen und Wasser. Um die Darstellung zu verbessern, ist es z.B. sinnvoll, im Hintergrund des Scatterplots eine Landkarte der Gegend darzustellen. "
   ]
  },
  {
   "cell_type": "markdown",
   "metadata": {},
   "source": [
    "### Exkurs zu Geopandas\n",
    "Um Landkarten darzustellen, gibt es in ```Python``` die spezialisierte Bibliothek ```geopandas```, mit der sehr einfach Landkarten dargestellt werden können. Da die Bibliothek auf dem JupyterHub noch nicht vorinstalliert ist, müssen wir sie erst einmal selbst herunterladen und installieren:"
   ]
  },
  {
   "cell_type": "code",
   "execution_count": 5,
   "metadata": {},
   "outputs": [
    {
     "name": "stdout",
     "output_type": "stream",
     "text": [
      "Requirement already satisfied: geopandas in /home/dmanik/venvs/teaching/lib/python3.5/site-packages (0.5.1)\n",
      "Requirement already satisfied: fiona in /home/dmanik/venvs/teaching/lib/python3.5/site-packages (from geopandas) (1.8.6)\n",
      "Requirement already satisfied: pandas in /home/dmanik/venvs/teaching/lib/python3.5/site-packages (from geopandas) (0.24.2)\n",
      "Requirement already satisfied: pyproj in /home/dmanik/venvs/teaching/lib/python3.5/site-packages (from geopandas) (2.2.1)\n",
      "Requirement already satisfied: shapely in /home/dmanik/venvs/teaching/lib/python3.5/site-packages (from geopandas) (1.6.4.post2)\n",
      "Requirement already satisfied: click<8,>=4.0 in /home/dmanik/venvs/teaching/lib/python3.5/site-packages (from fiona->geopandas) (7.0)\n",
      "Requirement already satisfied: click-plugins>=1.0 in /home/dmanik/venvs/teaching/lib/python3.5/site-packages (from fiona->geopandas) (1.1.1)\n",
      "Requirement already satisfied: munch in /home/dmanik/venvs/teaching/lib/python3.5/site-packages (from fiona->geopandas) (2.3.2)\n",
      "Requirement already satisfied: attrs>=17 in /home/dmanik/venvs/teaching/lib/python3.5/site-packages (from fiona->geopandas) (19.1.0)\n",
      "Requirement already satisfied: six>=1.7 in /home/dmanik/venvs/teaching/lib/python3.5/site-packages (from fiona->geopandas) (1.11.0)\n",
      "Requirement already satisfied: cligj>=0.5 in /home/dmanik/venvs/teaching/lib/python3.5/site-packages (from fiona->geopandas) (0.5.0)\n",
      "Requirement already satisfied: pytz>=2011k in /home/dmanik/venvs/teaching/lib/python3.5/site-packages (from pandas->geopandas) (2018.3)\n",
      "Requirement already satisfied: numpy>=1.12.0 in /home/dmanik/venvs/teaching/lib/python3.5/site-packages (from pandas->geopandas) (1.17.0)\n",
      "Requirement already satisfied: python-dateutil>=2.5.0 in /home/dmanik/venvs/teaching/lib/python3.5/site-packages (from pandas->geopandas) (2.6.1)\n",
      "Requirement already satisfied: aenum; python_version < \"3.6\" in /home/dmanik/venvs/teaching/lib/python3.5/site-packages (from pyproj->geopandas) (2.2.1)\n",
      "\u001b[33mYou are using pip version 18.1, however version 19.2.3 is available.\n",
      "You should consider upgrading via the 'pip install --upgrade pip' command.\u001b[0m\n"
     ]
    }
   ],
   "source": [
    "# die nachfolgenden Kommandos musst du dir nicht merken. Falls du jemals eine\n",
    "# eigene Bibliothek nachinstallieren willst, ersezte \"geopandas\" mit dem\n",
    "# Namen der von dir benötigten Bibliothek\n",
    "\n",
    "# die Bibliothek \"sys\" gibt uns Zugriff auf Funktionen des Betriebssystems\n",
    "# mit dem Operator \"!\" führen wir Code nicht im Python-Interpreter sondern\n",
    "# auf der Kommandozeile aus. \n",
    "import sys\n",
    "!{sys.executable} -m pip install geopandas\n",
    "\n",
    "# importiere das frisch installierte geopandas unter dem Kürzel \"gpd\"\n",
    "import geopandas as gpd"
   ]
  },
  {
   "cell_type": "markdown",
   "metadata": {},
   "source": [
    "Um Landkarten darstellen zu können, brauchen wir erst einmal Informationen über den Verlauf der Ländergrezen. Diese sind standardisiert in sog. \"shape-files\" abgelegt. shape-files sind vielfach öffentlich zum Download verfügbar, z.B. auf [dieser](https://gadm.org/download_country_v3.html) Website. Die shape-files für Deutschland haben wir im Ordner ```gadm36_DEU_sh``` im StudIP hochgeladen. Der Ordner enthält eine Reihe von verschiedenen Dateien, die geopandas benötigt, um das shape-file korrekt einzulesen. Informationen liegen außerdem in verschiedenen \"Ebenen\" vor:\n",
    "* Ebene 0 ist die Ländergrenze von Deutschland\n",
    "* Ebene 1 ist enthält außerdem die Grenzen der Bundesländer\n",
    "* Ebene 2 enthält die Grenzen der Landkreise\n",
    "* Ebene 3 enthält die Grenzen der Gemeinden\n",
    "\n",
    "Wast du die Informationen über die Grenzen heruntergeladen, kannst du es sie geopandas einlesen:"
   ]
  },
  {
   "cell_type": "code",
   "execution_count": 13,
   "metadata": {},
   "outputs": [
    {
     "data": {
      "text/html": [
       "<div>\n",
       "<style scoped>\n",
       "    .dataframe tbody tr th:only-of-type {\n",
       "        vertical-align: middle;\n",
       "    }\n",
       "\n",
       "    .dataframe tbody tr th {\n",
       "        vertical-align: top;\n",
       "    }\n",
       "\n",
       "    .dataframe thead th {\n",
       "        text-align: right;\n",
       "    }\n",
       "</style>\n",
       "<table border=\"1\" class=\"dataframe\">\n",
       "  <thead>\n",
       "    <tr style=\"text-align: right;\">\n",
       "      <th></th>\n",
       "      <th>GID_0</th>\n",
       "      <th>NAME_0</th>\n",
       "      <th>GID_1</th>\n",
       "      <th>NAME_1</th>\n",
       "      <th>VARNAME_1</th>\n",
       "      <th>NL_NAME_1</th>\n",
       "      <th>TYPE_1</th>\n",
       "      <th>ENGTYPE_1</th>\n",
       "      <th>CC_1</th>\n",
       "      <th>HASC_1</th>\n",
       "      <th>geometry</th>\n",
       "    </tr>\n",
       "  </thead>\n",
       "  <tbody>\n",
       "    <tr>\n",
       "      <th>0</th>\n",
       "      <td>DEU</td>\n",
       "      <td>Germany</td>\n",
       "      <td>DEU.1_1</td>\n",
       "      <td>Baden-Württemberg</td>\n",
       "      <td>None</td>\n",
       "      <td>None</td>\n",
       "      <td>Land</td>\n",
       "      <td>State</td>\n",
       "      <td>08</td>\n",
       "      <td>DE.BW</td>\n",
       "      <td>(POLYGON ((8.708021159999999 47.6895752, 8.707...</td>\n",
       "    </tr>\n",
       "    <tr>\n",
       "      <th>1</th>\n",
       "      <td>DEU</td>\n",
       "      <td>Germany</td>\n",
       "      <td>DEU.2_1</td>\n",
       "      <td>Bayern</td>\n",
       "      <td>Bavaria</td>\n",
       "      <td>None</td>\n",
       "      <td>Freistaat</td>\n",
       "      <td>None</td>\n",
       "      <td>09</td>\n",
       "      <td>DE.BY</td>\n",
       "      <td>POLYGON ((9.740663530000001 47.55353546, 9.740...</td>\n",
       "    </tr>\n",
       "    <tr>\n",
       "      <th>2</th>\n",
       "      <td>DEU</td>\n",
       "      <td>Germany</td>\n",
       "      <td>DEU.3_1</td>\n",
       "      <td>Berlin</td>\n",
       "      <td>None</td>\n",
       "      <td>None</td>\n",
       "      <td>Land</td>\n",
       "      <td>State</td>\n",
       "      <td>11</td>\n",
       "      <td>DE.BE</td>\n",
       "      <td>POLYGON ((13.17135715 52.3977623, 13.17135334 ...</td>\n",
       "    </tr>\n",
       "    <tr>\n",
       "      <th>3</th>\n",
       "      <td>DEU</td>\n",
       "      <td>Germany</td>\n",
       "      <td>DEU.4_1</td>\n",
       "      <td>Brandenburg</td>\n",
       "      <td>None</td>\n",
       "      <td>None</td>\n",
       "      <td>Land</td>\n",
       "      <td>State</td>\n",
       "      <td>12</td>\n",
       "      <td>DE.BR</td>\n",
       "      <td>(POLYGON ((12.26715565 52.2313118, 12.27047348...</td>\n",
       "    </tr>\n",
       "    <tr>\n",
       "      <th>4</th>\n",
       "      <td>DEU</td>\n",
       "      <td>Germany</td>\n",
       "      <td>DEU.5_1</td>\n",
       "      <td>Bremen</td>\n",
       "      <td>None</td>\n",
       "      <td>None</td>\n",
       "      <td>Freie Hansestadt</td>\n",
       "      <td>State</td>\n",
       "      <td>04</td>\n",
       "      <td>DE.HB</td>\n",
       "      <td>(POLYGON ((8.711423870000001 53.04463196, 8.71...</td>\n",
       "    </tr>\n",
       "  </tbody>\n",
       "</table>\n",
       "</div>"
      ],
      "text/plain": [
       "  GID_0   NAME_0    GID_1             NAME_1 VARNAME_1 NL_NAME_1  \\\n",
       "0   DEU  Germany  DEU.1_1  Baden-Württemberg      None      None   \n",
       "1   DEU  Germany  DEU.2_1             Bayern   Bavaria      None   \n",
       "2   DEU  Germany  DEU.3_1             Berlin      None      None   \n",
       "3   DEU  Germany  DEU.4_1        Brandenburg      None      None   \n",
       "4   DEU  Germany  DEU.5_1             Bremen      None      None   \n",
       "\n",
       "             TYPE_1 ENGTYPE_1 CC_1 HASC_1  \\\n",
       "0              Land     State   08  DE.BW   \n",
       "1         Freistaat      None   09  DE.BY   \n",
       "2              Land     State   11  DE.BE   \n",
       "3              Land     State   12  DE.BR   \n",
       "4  Freie Hansestadt     State   04  DE.HB   \n",
       "\n",
       "                                            geometry  \n",
       "0  (POLYGON ((8.708021159999999 47.6895752, 8.707...  \n",
       "1  POLYGON ((9.740663530000001 47.55353546, 9.740...  \n",
       "2  POLYGON ((13.17135715 52.3977623, 13.17135334 ...  \n",
       "3  (POLYGON ((12.26715565 52.2313118, 12.27047348...  \n",
       "4  (POLYGON ((8.711423870000001 53.04463196, 8.71...  "
      ]
     },
     "execution_count": 13,
     "metadata": {},
     "output_type": "execute_result"
    }
   ],
   "source": [
    "# lies das shape-file ein\n",
    "DEU_map = gpd.read_file('data/gadm36_DEU_shp/gadm36_DEU_1.shp')\n",
    "\n",
    "# das shape-file bzw. die darin enthaltene Karte verhält sich wie ein DataFrame\n",
    "DEU_map.head()"
   ]
  },
  {
   "cell_type": "markdown",
   "metadata": {},
   "source": [
    "Wir können die Landkarte ganz einfach darstellen (dabei wird im Hintergrund auf die Funktionalität der Bibliothek ```matplotlib``` zurückgegriffen:"
   ]
  },
  {
   "cell_type": "code",
   "execution_count": 14,
   "metadata": {},
   "outputs": [
    {
     "data": {
      "text/plain": [
       "<matplotlib.axes._subplots.AxesSubplot at 0x7ff71989a940>"
      ]
     },
     "execution_count": 14,
     "metadata": {},
     "output_type": "execute_result"
    },
    {
     "data": {
      "image/png": "[encoded data removed]",
      "text/plain": [
       "<Figure size 432x288 with 1 Axes>"
      ]
     },
     "metadata": {},
     "output_type": "display_data"
    }
   ],
   "source": [
    "# Darstellen der Landkarte\n",
    "DEU_map.plot()"
   ]
  },
  {
   "cell_type": "markdown",
   "metadata": {},
   "source": [
    "Um einen Punkt auf der Landkarte darzustellen, müssen wir uns das Achsen-Objekt, auf dem der aktuelle Plot dargestellt ist, von matplotlib geben lassen. Das machen wir mit der Funktion ```gca()``` (für \"get current axis\"). Mit diesem Achsen-Objekt können wir dann wie gewohlt die Funktion ```scatter()``` ausführen:"
   ]
  },
  {
   "cell_type": "code",
   "execution_count": 15,
   "metadata": {},
   "outputs": [
    {
     "data": {
      "text/plain": [
       "<matplotlib.collections.PathCollection at 0x7ff7198c1a20>"
      ]
     },
     "execution_count": 15,
     "metadata": {},
     "output_type": "execute_result"
    },
    {
     "data": {
      "image/png": "[encoded data removed]",
      "text/plain": [
       "<Figure size 432x288 with 1 Axes>"
      ]
     },
     "metadata": {},
     "output_type": "display_data"
    }
   ],
   "source": [
    "# Darstellen der Landkarte\n",
    "DEU_map.plot()\n",
    "# Achsenobjekt liefern lassen\n",
    "ax = plt.gca()\n",
    "# einen roten Punkt auf der Landkarte darstellen\n",
    "ax.scatter(8, 51, color='red')"
   ]
  },
  {
   "cell_type": "markdown",
   "metadata": {},
   "source": [
    "Damit haben wir alle nötigen Zutaten, um die Fundorte der Fundstücke auf einer Landkarte darzustellen!"
   ]
  },
  {
   "cell_type": "markdown",
   "metadata": {},
   "source": [
    "**A.** Lade die shape-files von Griechenland herunter. Stelle die level 1 Karte (Bundesländer) wie oben für Deutschland gezeigt dar. Zeichne einen Punkt an der Position von Athen ein."
   ]
  },
  {
   "cell_type": "markdown",
   "metadata": {},
   "source": [
    "**B.** Wir wollen im Folgenden nur die Fundorte betrachten, die in und um Griechenland liegen. Eine kurze Suche mit Google Maps zeigt  \n",
    "\n",
    "Ort | Beschreibung | Breitengrad | Längengrad\n",
    "--- | -------------| -----------| -----------  \n",
    "Othoni | westlichster Punkt | 39.851232 | 19.391932\n",
    "Trigono | nörtlichster Punkt | 41.746835 | 26.174643  \n",
    "Rodos | östlichster Punkt (Zypern ausgenommen) | 36.438004 | 28.241690\n",
    "Gavdos | südlichster Punkt | 34.803067 | 24.122037\n",
    "\n",
    "Filtere die Location-Tabelle, so dass nur die Orte innerhalb Griechenlands verbleiben (du  kannst davon ausgehen, dass die \"Ländergrenzen\" von Griechenland vom nördlichsten, südlichsten, östlichsten und westlichsten Punkt des Landes aufgespannt werden)."
   ]
  },
  {
   "cell_type": "markdown",
   "metadata": {},
   "source": [
    "**C.** Stelle alle Fundorte in Griechenland auf der Griechenland-Karte als Punkte dar."
   ]
  },
  {
   "cell_type": "markdown",
   "metadata": {},
   "source": [
    "**D.** Als letzten Schritt skaliere nun die Größe der Punkte der Fundorte mit der Anzahl der gefundenen Fundstücke. Benutze dafür das Argument ```s``` der Funktion ```scatter()```, dem du eine Liste der Größen übergeben kannst. Dafür kannst du die in Aufgabe **1.D** erstellte Liste der Funstückanzahl je Fundort verwenden."
   ]
  },
  {
   "cell_type": "markdown",
   "metadata": {},
   "source": [
    "**E.** An welchen Orten wurden die meisten Fundstücke gefunden? Woran kann das deiner Meinung nach liegen?"
   ]
  },
  {
   "cell_type": "markdown",
   "metadata": {},
   "source": [
    "**F. (optional)** Darstellen der Fundorte im gesamten Mittelmeerraum:\n",
    "* Finde heraus, in welchen 10 (modernen) Ländern die meisten Fundstücke gefunden wurden\n",
    "* Lade die shape-files dieser Länder herunter.\n",
    "* Stelle die Landkarten dieser Länder in einer Darstellung dar  <font color='green'>**HINWEIS:** Du kannst der Funktion ```plot()``` mit dem Argument ```ax=``` eine spezifische Achse mitgeben, auf der die Darstellung geplottet werden soll. </font>.\n",
    "* Stelle alle Fundorte in diesen Ländern mit Kreuzen dar."
   ]
  }
 ],
 "metadata": {
  "kernelspec": {
   "display_name": "Python 3",
   "language": "python",
   "name": "python3"
  },
  "language_info": {
   "codemirror_mode": {
    "name": "ipython",
    "version": 3
   },
   "file_extension": ".py",
   "mimetype": "text/x-python",
   "name": "python",
   "nbconvert_exporter": "python",
   "pygments_lexer": "ipython3",
   "version": "3.5.2"
  }
 },
 "nbformat": 4,
 "nbformat_minor": 2
}
