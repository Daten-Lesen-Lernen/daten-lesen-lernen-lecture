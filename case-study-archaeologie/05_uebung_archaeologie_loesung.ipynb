{
 "cells": [
  {
   "cell_type": "markdown",
   "metadata": {},
   "source": [
    "_Lizenz: Das folgende Lehrmaterial kann unter einer [CC-BY-SA 4.0](https://creativecommons.org/licenses/by/4.0/legalcode) Lizenz frei verwendet, verbreitet und modifiziert werden._   \n",
    " _Authoren: Jana Lasser (jana.lasser@ds.mpg.de)_  \n",
    " _Das Lehrmaterial wurde im Zuge des Projektes \"Daten Lesen Lernen\", gefördert vom Stifterverband und der Heinz Nixdorf Stiftung erstellt._"
   ]
  },
  {
   "cell_type": "markdown",
   "metadata": {},
   "source": [
    "# Lösung zu Übung 05 - Archäologie: Daten finden, einlesen und mit Histogrammen visualisieren\n",
    "### Praktische Hinweise\n",
    "$\\rightarrow$ Übungen sind dafür gedacht, dass ihr sie euch daheim anseht und versucht, ein paar Aufgaben selbst zu lösen. In den Tutorien könnt ihr euch weiter mit dem Lösungen der Aufgaben beschäftigen und dabei Hilfe von den Tutor*innen bekommen.  \n",
    "\n",
    "$\\rightarrow$ Wenn ein Fehler auftritt:\n",
    "1. Fehlermeldung _lesen_ und _verstehen_\n",
    "2. Versuchen, selbst eine Lösung zu finden ($\\rightarrow$ hier findet das Lernen statt!)\n",
    "3. Das Problem googlen (Stichwort: Stackoverflow) oder den/die Nachbar*in fragen\n",
    "4. Tutor*in fragen\n",
    "\n",
    "$\\rightarrow$ Unter <font color='green'>**HINWEIS**</font> werden Hinweise gegeben, die für die Lösung der Aufgabe hilfreich sind und oftmals auch weiterführende Informationen zur Aufgabe liefern.\n",
    "\n",
    "$\\rightarrow$ Mit **(Optional)** gekennzeichnete Übungsteile sind für besonders schnelle Menschen :-)."
   ]
  },
  {
   "cell_type": "markdown",
   "metadata": {},
   "source": [
    "<a name=\"top\"></a>Inhalt\n",
    "---\n",
    " Mit dieser Übung beginnen wir eine Fallstudie, die sich mit einem Datensatz aus der Archäologie beschäftigt: dem [\"Inventory of Crafts and Trade in the Roman East - database of tableware\" (ICRATES)](https://archaeologydataservice.ac.uk/archives/view/icrates_lt_2018/downloads.cfm). Außerdem werden wir uns damit beschäftigen, wie wir die gewonnenen Informationen am besten visualisieren können. Die aktuelle Übung gliedert sich in drei Teile:\n",
    "* [Daten beschaffen](#daten_beschaffen)\n",
    "* [Daten erkunden & bereinigen](#daten_erkunden)\n",
    "* [Histogramme](#histogramme)  \n",
    "\n",
    "Für die folgenden Übungen gibt es kein Lehrvideo. Deswegen wird es in den Jupyter-Notebooks zu den Übungen mehr Erklärungen und Zwischenschritte geben. Darüber hinaus haben ab dieser Woche auch nicht mehr alle Übungen der verschiedenen Übungsgruppen den exakt gleichen Inhalt, da einige Themenbereiche etwas unterschiedliche Werkzeuge brauchen als andere. Das Konzept ist aber überall das gleiche."
   ]
  },
  {
   "cell_type": "markdown",
   "metadata": {},
   "source": [
    "<a name=\"daten_beschaffen\"></a>1. Daten beschaffen\n",
    "---\n",
    "**A.** Mache dich mit der Datenquelle und ihrem Aufbau vertraut: Wer hat die Daten gesammelt und in welchem Kontext publiziert? Was für Informationen finden sich im ```ICRATES_CATALOGUE``` und wie sind sie mit den anderen Tabellen wie ```ICRATES_LOCATION``` verknüpft?  \n",
    "\n",
    "Wir können den Datensatz direkt aus dem Internet herunterladen:"
   ]
  },
  {
   "cell_type": "code",
   "execution_count": 1,
   "metadata": {},
   "outputs": [],
   "source": [
    "# Bibliotheken zum Laden von Daten aus dem Internet\n",
    "import requests \n",
    "import io\n",
    "\n",
    "# die URL unter der der Datensatz zu finden ist\n",
    "pfad_database = \"https://archaeologydataservice.ac.uk/catalogue/adsdata/arch-3268-1/dissemination/csv/\""
   ]
  },
  {
   "cell_type": "code",
   "execution_count": 2,
   "metadata": {},
   "outputs": [
    {
     "name": "stdout",
     "output_type": "stream",
     "text": [
      "File Name,Description,Creation date,Software used,Software version,Entity relationship diagram file name (this should be enclosed separately),Supporting documentation file name (this should be enclosed separately),,\r\n",
      "ICRATES_CATALOGUE.csv,ICRATES catalogue table: Information about each sherd of tableware included in the database.,07-Jun-18,MS Excel for Mac,15.21.1,ICRATES_ER.png,ICRATES_METADATA.xlsx,,\r\n",
      "ICRATES_LOCATION.csv,ICRATES location table: Information about each site for which tableware is included in the CATALOGUE table,07-Jun-18,MS Excel for Mac,15.21.1,ICRATES_ER.png,ICRATES_METADATA.xlsx,,\r\n",
      "ICRATES_PUBLICATION.csv,ICRATES publication table: Information about each publication from which published tableware evidence was recorded in the CATALOGUE table,07-Jun-18,MS Excel for Mac,15.21.1,ICRATES_ER.png,ICRATES_METADATA.xlsx,,\r\n",
      "ICRATES_DEPOSIT.csv,ICRATES deposit table: Information about each archaeological deposit in which tableware included in the CATALOGUE table was found.,07-Jun-18,MS Excel for Mac,15.21.1,ICRATES_ER.png,ICRATES_METADATA.xlsx,,\r\n",
      "ICRATES_STANDARD_FORM.csv,\"ICRATES standard form table: typological and chronological information for the major tableware typologies:  ESA, ESB, ESC, ESD, Candarli, ITS, ARSW, CRSW, PRSW\",07-Jun-18,MS Excel for Mac,15.21.1,ICRATES_ER.png,ICRATES_METADATA.xlsx,,\r\n",
      "ICRATES_OCK.csv,ICRATES OCK table: chronological information of ITS stamps,07-Jun-18,MS Excel for Mac,15.21.1,ICRATES_ER.png,ICRATES_METADATA.xlsx,,\r\n",
      "ICRATES_LRP.csv,\"ICRATES LRP table: chronological information about late roman pottery stamps for the following wares: ARSW, CRSW, PRSW, ERSW\",07-Jun-18,MS Excel for Mac,15.21.1,ICRATES_ER.png,ICRATES_METADATA.xlsx,,\r\n",
      ",,,,,,,,\r\n",
      "Table Name,Table Description,Primary Key,Foreign Key,Field Name,\"Field Description (inc. units of measurements, description of codes, etc. used within each field).\",Field Data Type,Field Length,\r\n",
      "ICRATES_CATALOGUE.csv,ICRATES catalogue table: Information about each sherd of tableware included in the database.,ICRATES_ID,\"Location_ID, Deposit_ID, Standard_Form_ID, Publication_ID, OCK_ID, LRP_ID\",ICRATES_ID,Unique identifier for each sherd entry in the ICRATES database,integer,6,\r\n",
      ",,,,Publication_ID,Foreign key referring to the ICRATES_PUBLICATION table. Unique identifier for the publication in which the sherd entry is published.,integer,5,\r\n",
      ",,,,Deposit_ID,Foreign key referring to the ICRATES_DEPOSIT table. Unique identifier for the deposit from which the sherd entry was recovered,integer,5,\r\n",
      ",,,,Location_ID,Foreign key referring to the ICRATES_LOCATION table. Unique identifier for the location where the sherd entry was excavated,integer,5,\r\n",
      ",,,,Location_specific,\"The name of the location/site/trench. In many cases this is the same as the location of the site recorded as the 'location_simple' field in the ICRATES_LOCATION table. However, in some cases the 'location_specific' describes a part/section/trench/area of an excavation/site/survey. In cases where the publication of a site or suvey distinguishes between different areas, trenches, sections etc. the 'location_specific' will state the area/trench/section where the sherd was excacated and the 'location_simple' in the ICRATES_LOCATION table indicates the site/survey as a whole.\",text,100,\r\n",
      ",,,,Fabric_ID,The fabric of the sherd. Each fabric listed in the 'Fabric' field has a numerical identifier associated with it in the 'Fabric_ID' field e.g. ESC = 51,integer,5,\r\n",
      ",,,,Fabric,The fabric of the sherd. Each fabric listed in this field has a numerical identifier associated with it in the 'Fabric_ID' field e.g. ESC = 51,text,100,\r\n",
      ",,,,Fabric_Uncertain,is the fabric identification of the sherd uncertain? 1=yes,integer,1,\r\n",
      ",,,,Standard_Form_ID,\"Foreign key referring to the ICRATES_STANDARD_FORM table. Unique identifier for the standard typological form of the sherd entry. Only for the following major wares are established standard typologies available and included: ESA, ESB, ESC, ESD, Candarli, Pontic Sigillata, ITS, ARSW, CRSW, PRSW.\",integer,5,\r\n",
      ",,,,Standard_Form_Publication_Uncertain,\"Is the standard form identification published in the publication where the sherd appears uncertain or does no standard typology exist for the identified ware? 1=yes, 0=no\",integer,1,\r\n",
      ",,,,Standard_Form_ICRATES,If based on the provided published description and figures of the sherd the published typological identification can be doubted and an alternative typology can be suggested by ICRATES team members then this is included in this field.,text,100,\r\n",
      ",,,,OCK_ID,A unique identifier for the OCK stamp numbers of ITS sherds stored in the ICRATES_OCK table.,integer,5,\r\n",
      ",,,,OCK_Number_Uncertain,\"Is the OCK number identification in field 'OCK_ID' uncertain? 1=yes, 0=no or not applicable\",integer,1,\r\n",
      ",,,,LRP_ID,\"A unique identifier for the LRP stamp numbers of ARSW, PRSW, CRSW, ERSW sherds stored in the ICRATES_LRP table.\",integer,5,\r\n",
      ",,,,LRP_Stamp_Publication_Uncertain,\"Is the LRP number identification in the publication uncertain? 1=yes, 0=no or not applicable\",integer,1,\r\n",
      ",,,,LRP_Stamp_ICRATES,If based on the provided published description and figures of the sherd the published LRP stamp identification can be doubted and an alternative LRP stamp typology can be suggested by ICRATES team members then this is included in this field.,text,100,\r\n",
      ",,,,Catalogue_Number,\"The catalogue number as published, preceded by the abbreviation of the site and year of publication. In case no straightforward catalogue number is published, a new catalogue number was systematically created following the abbreviation of the site and the year of publication.\",text,200,\r\n",
      ",,,,Illustration,\"A reference to the published illustration of the sherd, in case this exists.\",text,200,\r\n",
      ",,,,Pages,The page(s) of the publication where the catalogue entry can be found:  every page whereupon the specific entry is mentioned and/or discussed.,text,200,\r\n",
      ",,,,Min_Rim_Diameter_mm,\"The minimum rim diameter in mm. In general, the rim diameter is measured at the upper lip of the rim, or in the case of a horizontal rim, at the outer point. Thus no confusion arises. But in some cases, for example with flanged bowls or plates, the diameter is measured at that flange and usually mentioned. In such cases we do not enter the diameter.\",integer,5,\r\n",
      ",,,,Max_Rim_Diameter_mm,\"The maximum rim diameter in mm. In general, the rim diameter is measured at the upper lip of the rim, or in the case of a horizontal rim, at the outer point. Thus no confusion arises. But in some cases, for example with flanged bowls or plates, the diameter is measured at that flange and usually mentioned. In such cases we do not enter the diameter.\",integer,5,\r\n",
      ",,,,Min_Base_Diameter_mm,\"The minimum base diameter in mm. Measured at the outer end in the case of a broad base ring, in the case of a thin base ring this is generally clear.\",integer,5,\r\n",
      ",,,,Max_Base_Diameter_mm,\"The maximum base diameter in mm. Measured at the outer end in the case of a broad base ring, in the case of a thin base ring this is generally clear.\",integer,5,\r\n",
      ",,,,Min_Height_mm,\"The minimum height of a vessel in mm. The height of a vessel is only entered if it pertains to the height of the entire vessel, thus from rim to base.\",integer,5,\r\n",
      ",,,,Max_Height_mm,\"The maximum height of a vessel in mm. The height of a vessel is only entered if it pertains to the height of the entire vessel, thus from rim to base.\",integer,5,\r\n",
      ",,,,Fragment,\"What part of the vessel is the published fragment from? One can choose from a whole range of possibilities, but basically will come down whether the rim is preserved, the rim-body, the body-base or the rim-base. In the latter case the entire profile is known. Other possibilities that do occur are rim-neck or rim-shoulder (both in the case of jugs), a handle, etc.\",text,200,\r\n",
      ",,,,Specific_Shape,Shape of the vessel,text,200,\r\n",
      ",,,,Rouletting,\"Is rouletting decoration present? 1=yes, 0=no\",integer,1,\r\n",
      ",,,,Place_of_Rouletting,The place where rouletting decoration is applied,text,200,\r\n",
      ",,,,Moulded,\"Is moulded decoration present? 1=yes, 0=no\",integer,1,\r\n",
      ",,,,Stamped,\"Is stamped decoration present? 1=yes, 0=no\",integer,1,\r\n",
      ",,,,Epigraphic_Anepigraphic_Empty,\"Is the stamp epigraphic (such as for a potter's stamp), anepigraphic but including decorational features, or is it an empty stamp?\",text,100,\r\n",
      ",,,,Retrograde_Ligature,\"Is the stamp retrograde, ligature or both\",text,100,\r\n",
      ",,,,Place_of_Stamped_Decoration,Where on the vessel is the stamped decoration applied?,text,200,\r\n",
      ",,,,Potters_Stamp,\"Transcription of the potter's stamp. Only those characters which are preserved are included, both for ITS as for Eastern Sigillatas. For characters that are unreadable or broken off squared brackets [] are used\",text,200,\r\n",
      ",,,,Suggested_Reading,Suggested reading of the potter's stamp,text,200,\r\n",
      ",,,,Stamp_Shape,The shape of the stamp,text,200,\r\n",
      ",,,,Applique,\"Is applique decoration present? 1=yes, 0=no\",integer,1,\r\n",
      ",,,,Place_of_Applique,place of the applique decoration.,text,200,\r\n",
      ",,,,Gouged,\"Is gouged decoration present? 1=yes, 0=no\",integer,1,\r\n",
      ",,,,Sanded,\"Is sanded decoration present? 1=yes, 0=no\",integer,1,\r\n",
      ",,,,Painted,\"Is painted decoration present? 1=yes, 0=no\",integer,1,\r\n",
      ",,,,Incised,\"Is incised decoration present? 1=yes, 0=no\",integer,1,\r\n",
      ",,,,Repaired,\"Is there evidence of repair of the vessel? 1=yes, 0=no\",integer,1,\r\n",
      ",,,,Glazed,\"Is glazing present? 1=yes, 0=no\",integer,1,\r\n",
      ",,,,Barbotine,\"Is barbotine decoration present? 1=yes, 0=no\",integer,1,\r\n",
      ",,,,Burnished,\"Is the vessel burnished? 1=yes, 0=no\",integer,1,\r\n",
      ",,,,Combed,\"Is combed decoration present? 1=yes, 0=no\",integer,1,\r\n",
      ",,,,Description_of_Decoration,A free description of the decoration present on the vessel,text,500,\r\n",
      ",,,,Graffito,\"Is a graffito present? 1=yes, 0=no\",integer,1,\r\n",
      ",,,,Epigraphic_Anepigraphic,\"Is the graffito epigraphic, anepigraphic or both?\",text,200,\r\n",
      ",,,,Complete,Is the graffito complete?,text,200,\r\n",
      ",,,,Graffito_Reading,A description and (if possible) transcription of the graffito,text,200,\r\n",
      ",,,,Reading_Uncertain,Is the graffito reading uncertain? 1=yes,integer,1,\r\n",
      ",,,,Location_of_Graffito,Where is the graffito located on the vessel?,text,200,\r\n",
      ",,,,Comment_Remarks_Graffito,Comments and remarks about the graffito on the vessel,text,1000,\r\n",
      ",,,,Bibliographic_Reference_Parallels,Bibliographic references of parallels given by the author or from personal observation,text,1000,\r\n",
      ",,,,Comment_Remarks,\"Comments or remarks about the sherd. Descriptions, discussions and additional interpretations from the publication are added here.\",text,2000,\r\n",
      ",,,,General_Shape,Is the shape open or closed?,text,100,\r\n",
      ",,,,Function,\"An interpretation of the general function of the vessel when possible: beverage, cooking, food, food preparation, mixing, ritual, seasoning, serving, storage, writing\",text,100,\r\n",
      "ICRATES_LOCATION.csv,ICRATES location table: Information about each site for which tableware is included in the CATALOGUE table,Location_ID,,Location_ID,Unique identifier for each location,integer,5,\r\n",
      ",,,,Location_simple,\"The name of the site without any special characters, spaces or capitalization. The ancient name is used when known, else the modern name is used.\",text,100,\r\n",
      ",,,,Longitude,Longitude coordinate of location,decimal,15,\r\n",
      ",,,,Latitude,Latitude coordinate of location,decimal,15,\r\n",
      ",,,,Coordinates_uncertain,\"Are the coordinates of this location stored in the Longitude and Latitude fields unknown or uncertain? 0=no, 1=yes\",integer,1,\r\n",
      ",,,,Harbour,\"Was the location a harbour, did it possess a harbour or was it extremely close to a harbour? 0=no, 1=yes\",integer,1,\r\n",
      ",,,,Sea,\"The Sea along which the location was positioned, if any. not_available indicates this information is not included in the database for this location\",text,100,\r\n",
      ",,,,River,\"The river along which the location was positioned, if any. not_available indicates this information is not included in the database for this location\",text,100,\r\n",
      ",,,,River_navigability,\"If the location lies along a river, is it navigabel or not: Navigable=yes, Non-navigable=no, not_available indicates this information is not included in the database for this location\",text,100,\r\n",
      ",,,,Road,\"The road along which the location was positioned, if any. not_available indicates this information is not included in the database for this location\",text,100,\r\n",
      ",,,,Topographic_features,\"A general description of the topography of the location: Coastal_plain, Hilly, Mountainous, River_bank, not_available indicates this information is not included in the database for this location\",text,100,\r\n",
      ",,,,Modern_country,The modern country in which the location is positioned,text,100,\r\n",
      ",,,,Late_Hellenistic_Area_Provincia,The area or province in which the location was positioned during the late Hellenistic era around the first century BC,text,100,\r\n",
      ",,,,Early_Imperial_Province,The province in which the location was positioned during the Early imperial era around the early second century AD,text,100,\r\n",
      ",,,,Middle_Imperial_Province,The province in which the location was positioned during the Middle imperial era around the fourth century AD,text,100,\r\n",
      ",,,,Early_Byzantine_region,The region in which the location was positioned during the early Byzantine era around the late fifth century AD,text,100,\r\n",
      ",,,,Comment_Remarks,Comments or remarks about this location,text,1000,\r\n",
      ",,,,BA_map_reference,The map and square where this location can be found in the Barrington Atlas (Talbert et al. 2000). not_available indicates this information is not included in the database for this location,text,10,\r\n",
      ",,,,BA_Rank,\"The rank of the location as recorded in the Barrington Atlas (Talbert et al. 2000). This refers to the differences in font style and size used in the Atlas to distinguish between location ranks. There are a totle of five ranks (1,2,3,4,5) but in practice ranks 4 and 5 are hardly distinguishable in the atlas, hence locations of rank 4 and 5 are indicated by the number 4 here. The number 0 indicates that the location is not included in the Barrington Atlas or could not be identified in it.\",integer,1,\r\n",
      ",,,,BA_rank_uncertain,\"Is the BA_Rank identified uncertain or unknown? 0=no, 1=yes\",integer,1,\r\n",
      ",,,,Pleiades_URL,The unique URL that links to this located as it is recorded in Pleiades. This field enables linking the ICRATES data based on places through services such as Pelagios.,text,200,\r\n",
      "ICRATES_DEPOSIT.csv,ICRATES deposit table: Information about each archaeological deposit in which tableware included in the CATALOGUE table was found.,Deposit_ID,,Deposit_ID,Unique identifier for each deposit,integer,5,\r\n",
      ",,,,Deposit,Name of the deposit as it appears in the publication. If no name of the deposit is published then a structured name was constructed consisting of an abbreviation of the site name and the date of publication. NOT_SPECIFIED refers to cases where a deposit is mentioned but not further specified. 'NOT_MENTIONED refers to cases no deposit is referred to whatsoever.,text,200,\r\n",
      ",,,,Lower_Date,The chronological lower date of the deposit as it is published. If no clear date is given then this field is left blank.,integer,5,\r\n",
      ",,,,Upper_Date,The chronological upper date of the deposit as it is published. If no clear date is given then this field is left blank.,integer,5,\r\n",
      ",,,,Archaeological_Context,\"Short description of the archaeological context of the deposit, e.g. what site, area of site, trench, it is part of.\",text,500,\r\n",
      ",,,,Urban_nature,\"Description whether this deposit is in an urban public area or not. not_available indicates this information is not included for this deposit in the database. The possible values for this field are \"\"not_available\"\" \"\"Non-urban_(Non-public)\"\" \"\"Non-urban_(public)\"\" \"\"Non-urban_(Semi-public)\"\" \"\"Urban (Non-public)\"\" \"\"Urban (Public)\"\" \"\"Urban (Semi-public)\"\"\",text,100,\r\n",
      ",,,,Site_type_1,\"Type of site of which the deposit is part, referring to the site as a whole: e.g. shipwreck, street, agora, etc\",text,100,\r\n",
      ",,,,Site_type_2,\"Type of site of which the deposit is part, referring to a more specific area than Site_type_1: e.g. Space/room, Pit, Courtyard, etc\",text,100,\r\n",
      ",,,,Nature_Deposit,\"the basic quality of the archaeological deposit: either open, closed or mixed. Most deposits are considered as open, containing intrusive or residual material. Mixed deposits are not common, and indicate such deposits wherein clear different chronological groups can be identified. Thirdly, closed deposits are also not common and of course are the most important deposits from a typo-chronological perspective.\",text,100,\r\n",
      ",,,,Formation_Deposit,\"primary, secondary or mixed depositioning of material. A primary deposit is rare, but may of course be identified in case of destruction or collapse and the material that was left behind was not touched upon till excavated. In principle the material is considered to be secondary because a deposit wherein all vessels found are entirely complete is very rare. What can also occur is that a deposit is mixed, and contains material that can be considered to be primary as well material that may be secondary\",text,100,\r\n",
      ",,,,Comment_Remarks,Comments or remarks about this deposit,text,1000,\r\n",
      "ICRATES_PUBLICATION.csv,ICRATES publication table: Information about each publication from which published tableware evidence was recorded in the CATALOGUE table,Publication_ID,,Publication_ID,Unique identifier for each publication,integer,5,\r\n",
      ",,,,Publication,\"the surname of the author combined with the year of publication. In some cases, an author may have multiple publications from one year, in which case a or b can be added after the year \",text,500,\r\n",
      ",,,,Authors,\"surname of the first (and, if present, second) author\",text,500,\r\n",
      ",,,,Year_of_Publication,year of publication,integer,5,\r\n",
      ",,,,Bibliographic_Reference,\"the bibliographic reference. In the case of a journal, the title and the journal wherein it appeared are also entered. In the case of a monograph, the title and perhaps the series volume. In the case of an edited volume or conference proceedings, the title and the volume or Acta wherein it appeared.\",text,5000,\r\n",
      ",,,,Excavation,\"Material from an excavation? 1=yes, 0=no\",integer,1,\r\n",
      ",,,,Survey,\"Material from a survey? 1=yes, 0=no\",integer,1,\r\n",
      ",,,,Catalogue,Is the publication a catalogue describing individual ceramics and ceramic type?,integer,1,\r\n",
      ",,,,Quantification,Is the publication a quantification summarising the ceramics and ceramic types found?,integer,1,\r\n",
      ",,,,Years_of_Activity,The years in which the excavation or survey was active,text,100,\r\n",
      ",,,,Comment_Remarks,Comments or remarks about this publication,text,1000,\r\n",
      ",,,,Team,nationality of the team that undertook the archaeological investigations. This may concern a cooperation between two or perhaps even more nationalities,text,500,\r\n",
      ",,,,Bibl_Abr,\"The first characters of the bibliographic reference field, abbreviated from the Bibliographic_Reference field\",text,1000,\r\n",
      "ICRATES_STANDARD_FORM.csv,\"ICRATES standard form table: typological and chronological information for the major tableware typologies:  ESA, ESB, ESC, ESD, Candarli, ITS, ARSW, CRSW, PRSW\",Standard_Form_ID,,Standard_Form_ID,Unique identifier for each standard typo-chronological form,integer,5,\r\n",
      ",,,,Standard_Form,\"The following abbreviations are used, followed by the Form or Type number: ESA, ESB, ESD and Pontic Sigillata = EAA (for example, ESA Hayes Form 44 is EAA44), ESC (normally Meyer-Schlichtmann 1988) = M-S, again followed by the Form number, Candarli = LRP, ITS = Consp, In the case of a stamp on ITS = OCK, ARSW, CRSW and PRSW = LRP (for example, ARSW Hayes Form 84 is LRP84). All other wares do not have a typo-chronology at our disposal, although Gaulish Sigillata and thin-walled wares may be linked to Dragendorff and Marabini-Moevs respectively.\",text,200,\r\n",
      ",,,,Fabric,fabric of the sherd,text,200,\r\n",
      ",,,,Standard_Typo_chronological_Lower_Date,The lower chronological date associate with this standard form according to the typology,integer,5,\r\n",
      ",,,,Standard_Typo_chronological_Upper_Date,The upper chronological date associate with this standard form according to the typology,integer,5,\r\n",
      "ICRATES_OCK.csv,ICRATES OCK table: chronological information of ITS stamps,OCK_ID,,OCK_ID,Unique identifier per OCK stamp type,integer,5,\r\n",
      ",,,,OCK_Number,OCK number of ITS stamps,text,100,\r\n",
      ",,,,OCK_Lower_Date,The lower chronological date associate with this OCK stamp,integer,5,\r\n",
      ",,,,OCK_Upper_Date,The upper chronological date associate with this OCK stamp,integer,5,\r\n",
      "ICRATES_LRP.csv,\"ICRATES LRP table: chronological information about late roman pottery stamps for the following wares: ARSW, CRSW, PRSW, ERSW\",LRP_ID,,LRP_ID,Unique identifier per LRP stamp type,integer,5,\r\n",
      ",,,,Standard_LRP_Stamp,\"LRP number of ARSW, CRSW, PRSW, ERSW stamps\",text,100,\r\n",
      ",,,,Sort_of_Stamp,Description and decoration of stamp type,text,500,\r\n",
      ",,,,LRP_Stamp_Lower_Date,The lower chronological date associate with this LRP stamp,integer,5,\r\n",
      ",,,,LRP_Stamp_Upper_Date,The upper chronological date associate with this LRP stamp,integer,5,\r\n",
      ",,,,,,,,\r\n",
      "\n"
     ]
    }
   ],
   "source": [
    "\n",
    "# lies die Information von der in der URL hinterlegten Website aus\n",
    "# Der Dateiname der'ICRATES_METADATA.csv' liegt im Ordner 'documentation' (Steht in der URL ganz am Ende)\n",
    "\n",
    "antwort_metadata = requests.get(pfad_database + 'documentation/'+'ICRATES_METADATA.csv').content\n",
    "\n",
    "# Ein kurzer Blick in die Metadata Datei gibt uns an, wann und wie der gesamte Datensatz publiziert wurde\n",
    "# und wie verschiedenen Dateien miteinander Verknuepft sind:\n",
    "# diesmal geben wir das encoding schon an dieser Stelle an\n",
    "\n",
    "print(antwort_metadata.decode('ISO-8859-1'))"
   ]
  },
  {
   "cell_type": "code",
   "execution_count": 3,
   "metadata": {},
   "outputs": [],
   "source": [
    "# Der Dateiname der wichtigsten (und groessten) Datei, des Katalogs:\n",
    "name_catalogue = \"ICRATES_CATALOGUE.csv\"\n",
    "antwort_catalogue = requests.get(pfad_database + name_catalogue).content\n",
    "inhalt_catalogue = io.StringIO(antwort_catalogue.decode('ISO-8859-1'))"
   ]
  },
  {
   "cell_type": "code",
   "execution_count": 4,
   "metadata": {},
   "outputs": [
    {
     "name": "stderr",
     "output_type": "stream",
     "text": [
      "/home/dmanik/venvs/teaching/lib/python3.5/site-packages/IPython/core/interactiveshell.py:2728: DtypeWarning: Columns (15,32,34) have mixed types. Specify dtype option on import or set low_memory=False.\n",
      "  interactivity=interactivity, compiler=compiler, result=result)\n"
     ]
    },
    {
     "data": {
      "text/html": [
       "<div>\n",
       "<style scoped>\n",
       "    .dataframe tbody tr th:only-of-type {\n",
       "        vertical-align: middle;\n",
       "    }\n",
       "\n",
       "    .dataframe tbody tr th {\n",
       "        vertical-align: top;\n",
       "    }\n",
       "\n",
       "    .dataframe thead th {\n",
       "        text-align: right;\n",
       "    }\n",
       "</style>\n",
       "<table border=\"1\" class=\"dataframe\">\n",
       "  <thead>\n",
       "    <tr style=\"text-align: right;\">\n",
       "      <th></th>\n",
       "      <th>ICRATES_ID</th>\n",
       "      <th>Publication_ID</th>\n",
       "      <th>Deposit_ID</th>\n",
       "      <th>Location_ID</th>\n",
       "      <th>Location_specific</th>\n",
       "      <th>Fabric_ID</th>\n",
       "      <th>Fabric</th>\n",
       "      <th>Fabric_Uncertain</th>\n",
       "      <th>Standard_Form_ID</th>\n",
       "      <th>Standard_Form_Publication_Uncertain</th>\n",
       "      <th>...</th>\n",
       "      <th>Epigraphic_Anepigraphic</th>\n",
       "      <th>Complete</th>\n",
       "      <th>Graffito_Reading</th>\n",
       "      <th>Reading_Uncertain</th>\n",
       "      <th>Location_of_Graffito</th>\n",
       "      <th>Comment_Remarks_Graffito</th>\n",
       "      <th>Bibliographic_Reference_Parallels</th>\n",
       "      <th>Comment_Remarks</th>\n",
       "      <th>General_Shape</th>\n",
       "      <th>Function</th>\n",
       "    </tr>\n",
       "  </thead>\n",
       "  <tbody>\n",
       "    <tr>\n",
       "      <th>0</th>\n",
       "      <td>1</td>\n",
       "      <td>328.0</td>\n",
       "      <td>1705.0</td>\n",
       "      <td>40.0</td>\n",
       "      <td>Assos</td>\n",
       "      <td>51.0</td>\n",
       "      <td>ESC</td>\n",
       "      <td>0</td>\n",
       "      <td>1180.0</td>\n",
       "      <td>0</td>\n",
       "      <td>...</td>\n",
       "      <td>NaN</td>\n",
       "      <td>NaN</td>\n",
       "      <td>NaN</td>\n",
       "      <td>NaN</td>\n",
       "      <td>NaN</td>\n",
       "      <td>NaN</td>\n",
       "      <td>NaN</td>\n",
       "      <td>-</td>\n",
       "      <td>NaN</td>\n",
       "      <td>NaN</td>\n",
       "    </tr>\n",
       "    <tr>\n",
       "      <th>1</th>\n",
       "      <td>2</td>\n",
       "      <td>328.0</td>\n",
       "      <td>1705.0</td>\n",
       "      <td>40.0</td>\n",
       "      <td>Assos</td>\n",
       "      <td>51.0</td>\n",
       "      <td>ESC</td>\n",
       "      <td>0</td>\n",
       "      <td>1180.0</td>\n",
       "      <td>0</td>\n",
       "      <td>...</td>\n",
       "      <td>NaN</td>\n",
       "      <td>NaN</td>\n",
       "      <td>NaN</td>\n",
       "      <td>NaN</td>\n",
       "      <td>NaN</td>\n",
       "      <td>NaN</td>\n",
       "      <td>NaN</td>\n",
       "      <td>-</td>\n",
       "      <td>NaN</td>\n",
       "      <td>NaN</td>\n",
       "    </tr>\n",
       "    <tr>\n",
       "      <th>2</th>\n",
       "      <td>3</td>\n",
       "      <td>328.0</td>\n",
       "      <td>1705.0</td>\n",
       "      <td>40.0</td>\n",
       "      <td>Assos</td>\n",
       "      <td>51.0</td>\n",
       "      <td>ESC</td>\n",
       "      <td>0</td>\n",
       "      <td>1180.0</td>\n",
       "      <td>0</td>\n",
       "      <td>...</td>\n",
       "      <td>NaN</td>\n",
       "      <td>NaN</td>\n",
       "      <td>NaN</td>\n",
       "      <td>NaN</td>\n",
       "      <td>NaN</td>\n",
       "      <td>NaN</td>\n",
       "      <td>NaN</td>\n",
       "      <td>-</td>\n",
       "      <td>NaN</td>\n",
       "      <td>NaN</td>\n",
       "    </tr>\n",
       "    <tr>\n",
       "      <th>3</th>\n",
       "      <td>4</td>\n",
       "      <td>328.0</td>\n",
       "      <td>1705.0</td>\n",
       "      <td>40.0</td>\n",
       "      <td>Assos</td>\n",
       "      <td>51.0</td>\n",
       "      <td>ESC</td>\n",
       "      <td>0</td>\n",
       "      <td>1180.0</td>\n",
       "      <td>0</td>\n",
       "      <td>...</td>\n",
       "      <td>NaN</td>\n",
       "      <td>NaN</td>\n",
       "      <td>NaN</td>\n",
       "      <td>NaN</td>\n",
       "      <td>NaN</td>\n",
       "      <td>NaN</td>\n",
       "      <td>NaN</td>\n",
       "      <td>-</td>\n",
       "      <td>NaN</td>\n",
       "      <td>NaN</td>\n",
       "    </tr>\n",
       "    <tr>\n",
       "      <th>4</th>\n",
       "      <td>5</td>\n",
       "      <td>328.0</td>\n",
       "      <td>1705.0</td>\n",
       "      <td>40.0</td>\n",
       "      <td>Assos</td>\n",
       "      <td>51.0</td>\n",
       "      <td>ESC</td>\n",
       "      <td>0</td>\n",
       "      <td>1180.0</td>\n",
       "      <td>0</td>\n",
       "      <td>...</td>\n",
       "      <td>NaN</td>\n",
       "      <td>NaN</td>\n",
       "      <td>NaN</td>\n",
       "      <td>NaN</td>\n",
       "      <td>NaN</td>\n",
       "      <td>NaN</td>\n",
       "      <td>NaN</td>\n",
       "      <td>-</td>\n",
       "      <td>NaN</td>\n",
       "      <td>NaN</td>\n",
       "    </tr>\n",
       "  </tbody>\n",
       "</table>\n",
       "<p>5 rows × 60 columns</p>\n",
       "</div>"
      ],
      "text/plain": [
       "   ICRATES_ID  Publication_ID  Deposit_ID  Location_ID Location_specific  \\\n",
       "0           1           328.0      1705.0         40.0             Assos   \n",
       "1           2           328.0      1705.0         40.0             Assos   \n",
       "2           3           328.0      1705.0         40.0             Assos   \n",
       "3           4           328.0      1705.0         40.0             Assos   \n",
       "4           5           328.0      1705.0         40.0             Assos   \n",
       "\n",
       "   Fabric_ID Fabric  Fabric_Uncertain  Standard_Form_ID  \\\n",
       "0       51.0    ESC                 0            1180.0   \n",
       "1       51.0    ESC                 0            1180.0   \n",
       "2       51.0    ESC                 0            1180.0   \n",
       "3       51.0    ESC                 0            1180.0   \n",
       "4       51.0    ESC                 0            1180.0   \n",
       "\n",
       "   Standard_Form_Publication_Uncertain  ... Epigraphic_Anepigraphic  Complete  \\\n",
       "0                                    0  ...                     NaN       NaN   \n",
       "1                                    0  ...                     NaN       NaN   \n",
       "2                                    0  ...                     NaN       NaN   \n",
       "3                                    0  ...                     NaN       NaN   \n",
       "4                                    0  ...                     NaN       NaN   \n",
       "\n",
       "   Graffito_Reading  Reading_Uncertain  Location_of_Graffito  \\\n",
       "0               NaN                NaN                   NaN   \n",
       "1               NaN                NaN                   NaN   \n",
       "2               NaN                NaN                   NaN   \n",
       "3               NaN                NaN                   NaN   \n",
       "4               NaN                NaN                   NaN   \n",
       "\n",
       "  Comment_Remarks_Graffito Bibliographic_Reference_Parallels Comment_Remarks  \\\n",
       "0                      NaN                               NaN               -   \n",
       "1                      NaN                               NaN               -   \n",
       "2                      NaN                               NaN               -   \n",
       "3                      NaN                               NaN               -   \n",
       "4                      NaN                               NaN               -   \n",
       "\n",
       "  General_Shape  Function  \n",
       "0           NaN       NaN  \n",
       "1           NaN       NaN  \n",
       "2           NaN       NaN  \n",
       "3           NaN       NaN  \n",
       "4           NaN       NaN  \n",
       "\n",
       "[5 rows x 60 columns]"
      ]
     },
     "execution_count": 4,
     "metadata": {},
     "output_type": "execute_result"
    }
   ],
   "source": [
    "# lade die Daten in ein DataFrame und zeige die ersten paar Zeilen an\n",
    "import pandas as pd\n",
    "catalogue = pd.read_csv(inhalt_catalogue)\n",
    "catalogue.head()"
   ]
  },
  {
   "cell_type": "markdown",
   "metadata": {},
   "source": [
    "**B.** Lade auch die anderen zur Datenbasis gehörenden Tabellen wie oben (oder von Hand) herunter.  \n",
    "<font color='green'>**HINWEIS:** Du kannst die Tabellen mit der funktion ```DataFrame.to_csv()``` lokal speichern (Funktionsweise siehe [Dokumentation](https://pandas.pydata.org/pandas-docs/stable/reference/api/pandas.DataFrame.to_csv.html) ).</font>"
   ]
  },
  {
   "cell_type": "code",
   "execution_count": 5,
   "metadata": {},
   "outputs": [],
   "source": [
    "catalogue.to_csv(\"data/\" + name_catalogue)"
   ]
  },
  {
   "cell_type": "code",
   "execution_count": 6,
   "metadata": {},
   "outputs": [],
   "source": [
    "# Namen aller anderen verfuegbaren Dateien:\n",
    "\n",
    "name_DEPOSIT       = \"ICRATES_DEPOSIT\"\n",
    "name_LOCATION      = \"ICRATES_LOCATION\"\n",
    "name_LRP           = \"ICRATES_LRP\"\n",
    "name_OCK           = \"ICRATES_OCK\"\n",
    "name_PUBLICATION   = \"ICRATES_PUBLICATION\"\n",
    "name_STANDARD_FORM = \"ICRATES_STANDARD_FORM\"\n",
    "\n",
    "# in einer Liste:\n",
    "namen = [  \n",
    "   name_DEPOSIT,   \n",
    "   name_LOCATION,   \n",
    "   name_LRP,   \n",
    "   name_OCK,   \n",
    "   name_PUBLICATION,   \n",
    "   name_STANDARD_FORM \n",
    "]"
   ]
  },
  {
   "cell_type": "code",
   "execution_count": 7,
   "metadata": {},
   "outputs": [
    {
     "name": "stdout",
     "output_type": "stream",
     "text": [
      "Lade Datei ICRATES_DEPOSIT herunter.\n",
      "Lade Datei ICRATES_LOCATION herunter.\n",
      "Lade Datei ICRATES_LRP herunter.\n",
      "Lade Datei ICRATES_OCK herunter.\n",
      "Lade Datei ICRATES_PUBLICATION herunter.\n",
      "Lade Datei ICRATES_STANDARD_FORM herunter.\n"
     ]
    }
   ],
   "source": [
    "# Wir laden alle Dateien in ein 'Dictionary'\n",
    "# Dictionaries sind aehnlich wie Listen, aber die Eintraege sind aufrufbar mit einem Namen\n",
    "inhalte = {}\n",
    "\n",
    "# Somit sparen wir uns das Herunterladen der Dateien einzeln:\n",
    "for name in namen:\n",
    "    print('Lade Datei {} herunter.'.format(name))\n",
    "    antwort_tmp = requests.get(pfad_database + name+'.csv').content\n",
    "    inhalt_tmp = io.StringIO(antwort_tmp.decode('ISO-8859-1'))\n",
    "    inhalte[name] = pd.read_csv(inhalt_tmp)"
   ]
  },
  {
   "cell_type": "code",
   "execution_count": 8,
   "metadata": {},
   "outputs": [
    {
     "data": {
      "text/html": [
       "<div>\n",
       "<style scoped>\n",
       "    .dataframe tbody tr th:only-of-type {\n",
       "        vertical-align: middle;\n",
       "    }\n",
       "\n",
       "    .dataframe tbody tr th {\n",
       "        vertical-align: top;\n",
       "    }\n",
       "\n",
       "    .dataframe thead th {\n",
       "        text-align: right;\n",
       "    }\n",
       "</style>\n",
       "<table border=\"1\" class=\"dataframe\">\n",
       "  <thead>\n",
       "    <tr style=\"text-align: right;\">\n",
       "      <th></th>\n",
       "      <th>Deposit_ID</th>\n",
       "      <th>Deposit</th>\n",
       "      <th>Lower_Date</th>\n",
       "      <th>Upper_Date</th>\n",
       "      <th>Archaeological_Context</th>\n",
       "      <th>Urban_nature</th>\n",
       "      <th>Site_type_1</th>\n",
       "      <th>Site_type_2</th>\n",
       "      <th>Nature_Deposit</th>\n",
       "      <th>Formation_Deposit</th>\n",
       "      <th>type_deposit</th>\n",
       "      <th>Comment_Remarks</th>\n",
       "    </tr>\n",
       "  </thead>\n",
       "  <tbody>\n",
       "    <tr>\n",
       "      <th>0</th>\n",
       "      <td>348</td>\n",
       "      <td>BERY04-BEY 006.12300/12237</td>\n",
       "      <td>65.0</td>\n",
       "      <td>75.0</td>\n",
       "      <td>Cistern 12300/122237.</td>\n",
       "      <td>Urban_(Semi-public)</td>\n",
       "      <td>Commercial</td>\n",
       "      <td>Taberna</td>\n",
       "      <td>closed</td>\n",
       "      <td>secondary</td>\n",
       "      <td>Fill</td>\n",
       "      <td>This date is based upon the assumption that th...</td>\n",
       "    </tr>\n",
       "    <tr>\n",
       "      <th>1</th>\n",
       "      <td>3698</td>\n",
       "      <td>ATH_97_A 14:2_midlle fill</td>\n",
       "      <td>-100.0</td>\n",
       "      <td>-1.0</td>\n",
       "      <td>Roman, with some residual material including: ...</td>\n",
       "      <td>Urban_(Public)</td>\n",
       "      <td>Agora/Forum</td>\n",
       "      <td>Cistern</td>\n",
       "      <td>Mixed</td>\n",
       "      <td>NaN</td>\n",
       "      <td>Fill</td>\n",
       "      <td>NaN</td>\n",
       "    </tr>\n",
       "    <tr>\n",
       "      <th>2</th>\n",
       "      <td>3700</td>\n",
       "      <td>ATH_97_A 18:1(+)_lower fill</td>\n",
       "      <td>-275.0</td>\n",
       "      <td>-200.0</td>\n",
       "      <td>Hellenistic fill in lowest 0.50 cm., seperated...</td>\n",
       "      <td>Urban_(Public)</td>\n",
       "      <td>Agora/Forum</td>\n",
       "      <td>Cistern</td>\n",
       "      <td>closed</td>\n",
       "      <td>NaN</td>\n",
       "      <td>Fill</td>\n",
       "      <td>NaN</td>\n",
       "    </tr>\n",
       "    <tr>\n",
       "      <th>3</th>\n",
       "      <td>3704</td>\n",
       "      <td>ATH_97_B 12:2(+)_Drawshaft</td>\n",
       "      <td>-275.0</td>\n",
       "      <td>-200.0</td>\n",
       "      <td>System with one chamber and two drawshafts. B ...</td>\n",
       "      <td>Urban_(Public)</td>\n",
       "      <td>Agora/Forum</td>\n",
       "      <td>Shaft</td>\n",
       "      <td>closed</td>\n",
       "      <td>NaN</td>\n",
       "      <td>NaN</td>\n",
       "      <td>NaN</td>\n",
       "    </tr>\n",
       "    <tr>\n",
       "      <th>4</th>\n",
       "      <td>3705</td>\n",
       "      <td>ATH_97_B 13:1(+)_Cistern</td>\n",
       "      <td>-300.0</td>\n",
       "      <td>-200.0</td>\n",
       "      <td>Cistern. Latest amphora handle names the Rhodi...</td>\n",
       "      <td>Urban_(Public)</td>\n",
       "      <td>Agora/Forum</td>\n",
       "      <td>Cistern</td>\n",
       "      <td>closed</td>\n",
       "      <td>NaN</td>\n",
       "      <td>NaN</td>\n",
       "      <td>NaN</td>\n",
       "    </tr>\n",
       "    <tr>\n",
       "      <th>5</th>\n",
       "      <td>3706</td>\n",
       "      <td>ATH_97_B 13:3(+)_Drawshaft</td>\n",
       "      <td>-260.0</td>\n",
       "      <td>-200.0</td>\n",
       "      <td>Rhodian amphora handle of the term of the epon...</td>\n",
       "      <td>Urban_(Public)</td>\n",
       "      <td>Agora/Forum</td>\n",
       "      <td>Cistern shaft</td>\n",
       "      <td>closed</td>\n",
       "      <td>NaN</td>\n",
       "      <td>NaN</td>\n",
       "      <td>NaN</td>\n",
       "    </tr>\n",
       "    <tr>\n",
       "      <th>6</th>\n",
       "      <td>3712</td>\n",
       "      <td>ATH_97_B 14:3</td>\n",
       "      <td>1.0</td>\n",
       "      <td>100.0</td>\n",
       "      <td>Dumped fill discarded in second half of 1st ce...</td>\n",
       "      <td>Urban_(Public)</td>\n",
       "      <td>Agora/Forum</td>\n",
       "      <td>Cistern</td>\n",
       "      <td>Mixed</td>\n",
       "      <td>secondary</td>\n",
       "      <td>Fill</td>\n",
       "      <td>NaN</td>\n",
       "    </tr>\n",
       "    <tr>\n",
       "      <th>7</th>\n",
       "      <td>3727</td>\n",
       "      <td>ATH_97_B 21:25</td>\n",
       "      <td>-150.0</td>\n",
       "      <td>-100.0</td>\n",
       "      <td>Collapsed cistern chamber with Roman material ...</td>\n",
       "      <td>Urban_(Public)</td>\n",
       "      <td>Agora/Forum</td>\n",
       "      <td>Cistern</td>\n",
       "      <td>Mixed</td>\n",
       "      <td>NaN</td>\n",
       "      <td>Fill</td>\n",
       "      <td>NaN</td>\n",
       "    </tr>\n",
       "    <tr>\n",
       "      <th>8</th>\n",
       "      <td>3737</td>\n",
       "      <td>ATH_97_C 20:3</td>\n",
       "      <td>-700.0</td>\n",
       "      <td>-1.0</td>\n",
       "      <td>Chamber with two short blind tunnels; uniform ...</td>\n",
       "      <td>Urban_(Public)</td>\n",
       "      <td>Agora/Forum</td>\n",
       "      <td>Cistern</td>\n",
       "      <td>Mixed</td>\n",
       "      <td>NaN</td>\n",
       "      <td>Fill</td>\n",
       "      <td>NaN</td>\n",
       "    </tr>\n",
       "    <tr>\n",
       "      <th>9</th>\n",
       "      <td>3738</td>\n",
       "      <td>ATH_97_D 4:1_Layer II</td>\n",
       "      <td>0.0</td>\n",
       "      <td>100.0</td>\n",
       "      <td>Connected by tunnel to another chamber (E 5:1)...</td>\n",
       "      <td>Urban_(Public)</td>\n",
       "      <td>Agora/Forum</td>\n",
       "      <td>Cistern</td>\n",
       "      <td>NaN</td>\n",
       "      <td>secondary</td>\n",
       "      <td>Dump &amp; fill</td>\n",
       "      <td>NaN</td>\n",
       "    </tr>\n",
       "  </tbody>\n",
       "</table>\n",
       "</div>"
      ],
      "text/plain": [
       "   Deposit_ID                      Deposit  Lower_Date  Upper_Date  \\\n",
       "0         348   BERY04-BEY 006.12300/12237        65.0        75.0   \n",
       "1        3698    ATH_97_A 14:2_midlle fill      -100.0        -1.0   \n",
       "2        3700  ATH_97_A 18:1(+)_lower fill      -275.0      -200.0   \n",
       "3        3704   ATH_97_B 12:2(+)_Drawshaft      -275.0      -200.0   \n",
       "4        3705     ATH_97_B 13:1(+)_Cistern      -300.0      -200.0   \n",
       "5        3706   ATH_97_B 13:3(+)_Drawshaft      -260.0      -200.0   \n",
       "6        3712                ATH_97_B 14:3         1.0       100.0   \n",
       "7        3727               ATH_97_B 21:25      -150.0      -100.0   \n",
       "8        3737                ATH_97_C 20:3      -700.0        -1.0   \n",
       "9        3738        ATH_97_D 4:1_Layer II         0.0       100.0   \n",
       "\n",
       "                              Archaeological_Context         Urban_nature  \\\n",
       "0                              Cistern 12300/122237.  Urban_(Semi-public)   \n",
       "1  Roman, with some residual material including: ...       Urban_(Public)   \n",
       "2  Hellenistic fill in lowest 0.50 cm., seperated...       Urban_(Public)   \n",
       "3  System with one chamber and two drawshafts. B ...       Urban_(Public)   \n",
       "4  Cistern. Latest amphora handle names the Rhodi...       Urban_(Public)   \n",
       "5  Rhodian amphora handle of the term of the epon...       Urban_(Public)   \n",
       "6  Dumped fill discarded in second half of 1st ce...       Urban_(Public)   \n",
       "7  Collapsed cistern chamber with Roman material ...       Urban_(Public)   \n",
       "8  Chamber with two short blind tunnels; uniform ...       Urban_(Public)   \n",
       "9  Connected by tunnel to another chamber (E 5:1)...       Urban_(Public)   \n",
       "\n",
       "   Site_type_1    Site_type_2 Nature_Deposit Formation_Deposit type_deposit  \\\n",
       "0   Commercial        Taberna         closed         secondary         Fill   \n",
       "1  Agora/Forum        Cistern          Mixed               NaN         Fill   \n",
       "2  Agora/Forum        Cistern         closed               NaN         Fill   \n",
       "3  Agora/Forum          Shaft         closed               NaN          NaN   \n",
       "4  Agora/Forum        Cistern         closed               NaN          NaN   \n",
       "5  Agora/Forum  Cistern shaft         closed               NaN          NaN   \n",
       "6  Agora/Forum        Cistern          Mixed         secondary         Fill   \n",
       "7  Agora/Forum        Cistern          Mixed               NaN         Fill   \n",
       "8  Agora/Forum        Cistern          Mixed               NaN         Fill   \n",
       "9  Agora/Forum        Cistern            NaN         secondary  Dump & fill   \n",
       "\n",
       "                                     Comment_Remarks  \n",
       "0  This date is based upon the assumption that th...  \n",
       "1                                                NaN  \n",
       "2                                                NaN  \n",
       "3                                                NaN  \n",
       "4                                                NaN  \n",
       "5                                                NaN  \n",
       "6                                                NaN  \n",
       "7                                                NaN  \n",
       "8                                                NaN  \n",
       "9                                                NaN  "
      ]
     },
     "execution_count": 8,
     "metadata": {},
     "output_type": "execute_result"
    }
   ],
   "source": [
    "# Auf die einzelnen DataFrames in 'inhalte' koennen wir ueber die 'namen' zugreifen\n",
    "# Zeige die ersten 10 Einträge an\n",
    "inhalte['ICRATES_DEPOSIT'][0:10]"
   ]
  },
  {
   "cell_type": "code",
   "execution_count": 9,
   "metadata": {},
   "outputs": [],
   "source": [
    "# Speichern aller Datein lokal als .csv\n",
    "for name, inhalt in inhalte.items():\n",
    "    inhalt.to_csv(\"data/ICRATES\" + name+'.csv')"
   ]
  },
  {
   "cell_type": "code",
   "execution_count": 10,
   "metadata": {},
   "outputs": [],
   "source": [
    "# So koennen wir die Dateien auch ohne Internetverbindung laden:\n",
    "inhalte = {name: pd.read_csv(\"data/ICRATES\" + name + '.csv') for name in namen}"
   ]
  },
  {
   "cell_type": "markdown",
   "metadata": {},
   "source": [
    "[Anfang](#top)"
   ]
  },
  {
   "cell_type": "markdown",
   "metadata": {},
   "source": [
    "<a name=\"daten_erkunden\"></a>2. Daten erkunden & bereinigen\n",
    "---\n",
    "Zu Beginn möchten wir ein paar grundlegende Dinge über den Datensatz herausfinden: z.B. die enthaltene Information in den Spalten und die Anzahl der Einträge.\n",
    "Die Namen der Spalten eines DataFrame lassen sich über die Variable ```columns``` des DataFrames ansehen:"
   ]
  },
  {
   "cell_type": "code",
   "execution_count": 11,
   "metadata": {},
   "outputs": [
    {
     "data": {
      "text/plain": [
       "Index(['ICRATES_ID', 'Publication_ID', 'Deposit_ID', 'Location_ID',\n",
       "       'Location_specific', 'Fabric_ID', 'Fabric', 'Fabric_Uncertain',\n",
       "       'Standard_Form_ID', 'Standard_Form_Publication_Uncertain',\n",
       "       'Standard_Form_ICRATES', 'OCK_ID', 'OCK_Number_Uncertain', 'LRP_ID',\n",
       "       'LRP_Stamp_Publication_Uncertain', 'Standard_LRP_Stamp_ICRATES',\n",
       "       'Catalogue_Number', 'Illustration', 'Pages', 'Min_Rim_Diameter_mm',\n",
       "       'Max_Rim_Diameter_mm', 'Min_Base_Diameter_mm', 'Max_Base_Diameter_mm',\n",
       "       'Min_Height_mm', 'Max_Height_mm', 'Fragment', 'Specific_Shape',\n",
       "       'Rouletting', 'Place_of_Rouletting', 'Moulded', 'Stamped',\n",
       "       'Epigraphic_Anepigraphic_Empty', 'Retrograde_Ligature',\n",
       "       'Place_of_Stamped_Decoration', 'Potters_Stamp', 'Suggested_Reading',\n",
       "       'Stamp_Shape', 'Applique', 'Place_of_Applique', 'Gouged', 'Sanded',\n",
       "       'Painted', 'Incised', 'Repaired', 'Glazed', 'Barbotine', 'Burnished',\n",
       "       'Combed', 'Description_of_Decoration', 'Graffito',\n",
       "       'Epigraphic_Anepigraphic', 'Complete', 'Graffito_Reading',\n",
       "       'Reading_Uncertain', 'Location_of_Graffito', 'Comment_Remarks_Graffito',\n",
       "       'Bibliographic_Reference_Parallels', 'Comment_Remarks', 'General_Shape',\n",
       "       'Function'],\n",
       "      dtype='object')"
      ]
     },
     "execution_count": 11,
     "metadata": {},
     "output_type": "execute_result"
    }
   ],
   "source": [
    "# eine Liste der im DataFrame \"catalogue\" enthaltenen Spalten\n",
    "catalogue.columns"
   ]
  },
  {
   "cell_type": "markdown",
   "metadata": {},
   "source": [
    "In einem DataFrame können wir auf eine bestimmte Spalte mit ihrem Namen zugreifen:"
   ]
  },
  {
   "cell_type": "code",
   "execution_count": 12,
   "metadata": {},
   "outputs": [
    {
     "data": {
      "text/plain": [
       "0          Assos\n",
       "1          Assos\n",
       "2          Assos\n",
       "3          Assos\n",
       "4          Assos\n",
       "5          Assos\n",
       "6          Assos\n",
       "7          Assos\n",
       "8          Assos\n",
       "9          Assos\n",
       "10         Assos\n",
       "11         Assos\n",
       "12         Assos\n",
       "13         Assos\n",
       "14         Assos\n",
       "15         Assos\n",
       "16         Assos\n",
       "17         Assos\n",
       "18         Assos\n",
       "19         Assos\n",
       "20         Assos\n",
       "21         Assos\n",
       "22         Assos\n",
       "23         Assos\n",
       "24         Assos\n",
       "25         Assos\n",
       "26         Assos\n",
       "27         Assos\n",
       "28         Assos\n",
       "29         Assos\n",
       "          ...   \n",
       "33909    Knossos\n",
       "33910    Knossos\n",
       "33911    Knossos\n",
       "33912    Knossos\n",
       "33913    Knossos\n",
       "33914    Knossos\n",
       "33915    Knossos\n",
       "33916    Knossos\n",
       "33917    Knossos\n",
       "33918    Knossos\n",
       "33919    Knossos\n",
       "33920    Knossos\n",
       "33921    Knossos\n",
       "33922    Knossos\n",
       "33923    Knossos\n",
       "33924    Knossos\n",
       "33925    Knossos\n",
       "33926    Knossos\n",
       "33927    Knossos\n",
       "33928    Knossos\n",
       "33929    Knossos\n",
       "33930    Knossos\n",
       "33931    Knossos\n",
       "33932    Knossos\n",
       "33933    Knossos\n",
       "33934    Knossos\n",
       "33935    Knossos\n",
       "33936    Knossos\n",
       "33937    Knossos\n",
       "33938    Knossos\n",
       "Name: Location_specific, Length: 33939, dtype: object"
      ]
     },
     "execution_count": 12,
     "metadata": {},
     "output_type": "execute_result"
    }
   ],
   "source": [
    "# zeigt die Spalte mit dem Namen \"Location_specific\" im DataFrame \n",
    "# \"catalogue\" an\n",
    "catalogue.Location_specific \n",
    "\n",
    "# auch moeglich:\n",
    "catalogue['Location_specific']"
   ]
  },
  {
   "cell_type": "markdown",
   "metadata": {},
   "source": [
    "Mit der Funktion ```unique()``` lassen sich die einzigartigen Einträge in einer Spalte herausfinden:"
   ]
  },
  {
   "cell_type": "code",
   "execution_count": 13,
   "metadata": {},
   "outputs": [
    {
     "data": {
      "text/plain": [
       "array(['Assos', 'Antiocheia ad Orontem', 'Constantinople', 'Patras',\n",
       "       'Athens', 'Aigeira', 'Sparta', 'Olympia', 'Eretria', 'Veloukovo',\n",
       "       'Delphi', 'Delos', 'Butrint', 'Corinth', 'Argos', 'Zeugma',\n",
       "       'Tarsos', 'Stobi', nan, 'MS001', 'MS007', 'MS008', 'MS009',\n",
       "       'MS010', 'MS013', 'MS017', 'MS019', 'MS020', 'MS025', 'MS051',\n",
       "       'MS052', 'MS053', 'MS054', 'Isthmia', 'Kenchreai', 'Marades (6)',\n",
       "       'Mylopotamos (15)', 'Roukounas (18)', 'Fotimari (24)',\n",
       "       'Roukounas (25)', 'Eisodei tis Theotokou kai Ayios Petros (26)',\n",
       "       'Mavrou (31)', 'Vourkari (33)', 'Vourkari (42)', 'Vourkari (43)',\n",
       "       'Ayia Varvara (45)', 'Larna (51)', 'Diaseli Otzia (55)',\n",
       "       'Diaseli Otzia (56)', 'Otzias (62)', 'Otzias (63)', 'Otzias (64)',\n",
       "       'Apamea', 'Resafa', 'Aizanoi', 'Samosata', 'Kommos', 'Amygdalea',\n",
       "       'Diakopion', 'Glyfada', 'Kallion', 'Kallithea', 'Kallydon',\n",
       "       'Koniakos', 'Maladrino', 'Sykea', 'Tolophon', 'Karamildan',\n",
       "       'Maroni Petrera', 'MP.24', 'B29iv', 'B29ii', 'Lidar H_yék',\n",
       "       'Agioi Pandes', 'Palai-83E-126', 'Palaipaphos Area', 'Palai-86E-2',\n",
       "       'Palai-83E-67', 'Paphos', 'Knossos', 'Palai-83E-124',\n",
       "       'Palai-86E-1', 'Palai-79X-1', 'Palai-79D-10', 'Palai-83E-68',\n",
       "       'Palai-86K-4', 'Palai-86E-126', 'Palai-79D-9', 'Palai-80E-48',\n",
       "       'Palai-80E-4', 'Palai-86D-22', 'Palai-86E-24', 'Palai-83E-20',\n",
       "       'Palai-86D-59', 'Palai-86E-68', 'Palai-79X-2', 'Palai-83E-130',\n",
       "       'Palai-86E-5', 'Palai-80E-30', 'Palai-86E-4', 'Palai-80E-28',\n",
       "       'Palai-83D-58', 'Palai-83E-128', 'Palai-83D-23', 'Palai-86D-16',\n",
       "       'Palai-80E-41', 'Palai-83D-27', 'Palai-80E-22', 'Palai-86K-10',\n",
       "       'Palai-79D-12', 'Palai-83E-53', 'Palai-80X-8', 'Palai-79D-7',\n",
       "       'Palai-83E-18', 'Palai-83E-63', 'Palai-83X-7', 'Palai-83E-26',\n",
       "       'Palai-80E-30.6', 'Palai-83E-4', 'Palai-79D-4', 'Palai-83D-11',\n",
       "       'Palai-86E-3', 'Palai-83E-127', 'Palai-83E-44', 'Palai-83E-106',\n",
       "       'Palai-83E-59', 'Palai-80E-53.4', 'Palai-83E-105',\n",
       "       'Palai-83E-20.12', 'Palai-80E-47', 'Palai-83D-54', 'Palai-86D-48',\n",
       "       'Palai-80X-12', 'Palai-80X-21', 'Palai-80E-6', 'Palai-86K-13',\n",
       "       'Palai-79D-1', 'Palai-83E-61', 'Palai-86D-34', 'Palai-86D-36',\n",
       "       'Palai-86D-23', 'Palai-80E-53', 'Palai-86D-50', 'Palai-86D-24',\n",
       "       'Palai-80E-53.1', 'Palai-86D-20', 'Palai-83E-6', 'Palai-83D-56',\n",
       "       'Palai-86D-47', 'Palai-83E-16', 'Palai-83D-35', 'Palai-80E-25.2',\n",
       "       'Palai-83E-125', 'Palai-80X-9', 'Palai-83E-123', 'Palai-83E-79',\n",
       "       'Palai-79X-5', 'Palai-86X-1', 'Palai-80E-58', 'Palai-86E-30',\n",
       "       'Palai-86D-17', 'Palai-00D-17', 'Palai-86E-21', 'Palai-00X-13',\n",
       "       'Palai-86D-54', 'Palai-80E-53.6', 'Palai-80X-27',\n",
       "       'Palai-80E-53.30', 'Palai-00D-7', 'Epiphaneia', 'Leukos Limen',\n",
       "       'Tel Anafa', 'Halikarnassos', 'Gortyn', 'Kopetra', 'Berytus',\n",
       "       'Porsuk', 'Yassi Ada shipwreck', 'CN 3', 'Apollonia', 'Pylos',\n",
       "       'Panayia Ematousa', 'Emporio', 'Emporio-Pindakas', 'Kourion',\n",
       "       'Gadara', 'Ké\\x8dék Burnaz', 'Asea Valley', 'Phalasarna',\n",
       "       'Kythera', 'Alahan', 'Alexandreia', 'Priene', 'Troia/Ilion',\n",
       "       'Labraunda', 'Tenos', 'Apollo Smintheion', 'Domuztepe', 'Pinar_zé',\n",
       "       '_unur', 'Karatepe-Saridéz', 'Asagi-Dikenli', 'Danakaya',\n",
       "       'Myoupolis/Oinoe', 'Gyphtokastro', 'Ashkelon', 'Perge',\n",
       "       'Jerusalem', 'Nessana', 'Ammata', 'Tanagra', 'Scythopolis',\n",
       "       'Kululu', 'Xanthos', 'Caesarea Maritima', 'Notion', 'Halieis',\n",
       "       'Didyma', 'Amathous', 'MeroÇ', 'Gebel Barkal', 'Carthage', 'IS3',\n",
       "       'APh2', 'SP1B', 'PN3:1', 'OL7W', 'KK1', 'TM10', 'Zone 4', 'SK5',\n",
       "       'PP1', 'AC1', 'SP1A', 'APh3', 'OL1B', 'OL2', 'PI2', 'SK1', 'SK7',\n",
       "       'TM2', 'TM4', 'VN1', 'Karan\\x80g', 'Cyrene', 'Thespiae',\n",
       "       'Samaria-Sebaste', 'Arsameia am Nymphaios', 'Eski K_hta',\n",
       "       'Ephesos', \"Oumm el-'Amed\", 'Arikamedu', 'Methymna',\n",
       "       'Halabiyya-Zenobia', 'ST141', 'Sultantepe', 'Tel Mevorakh',\n",
       "       'Oboda', 'Sumhuram', \"Timna'\", 'APh8', 'OL3', 'OL6', 'TM1',\n",
       "       'VK6/8', 'OL9', 'IM3', 'SP2', 'X-17', 'SP3', 'PV3', 'AC5',\n",
       "       'Antiocheia ad Pisidiam', 'Damaskos', 'Byblos', \"Horvat 'Eleq\",\n",
       "       'Dor', 'Qusair as-Saila', 'Soura', \"Qal'at Gabbar\", 'Berenike',\n",
       "       'Nikopolis', 'Sabratha', 'Berenice', 'Samos (Heraion)', 'Sardis',\n",
       "       'Dura Europos', 'Jericho', 'Tell Aar', 'El Aareime', 'Aazaz',\n",
       "       'Tell Akhtareine', 'Aleppo', 'Tell Archaq', 'Tell Ares',\n",
       "       'Tell Bahouerte', 'Tell Banat', 'Tell Bararhite', 'Beka',\n",
       "       'Tell Berne (West)', 'Tell Bouhaira', 'Tell Fafine',\n",
       "       'Tell Hailane', 'Hammamet', 'Haouar enn Nahr', 'Tell Haourane',\n",
       "       'Tell Ilbol', 'Tell Jaadiyeh', 'Jekke', 'Tell el Jijane',\n",
       "       'Tell Kadrich', 'Tell Kaffine', 'Tell Kassiha', 'Tell Khibi',\n",
       "       'Tell Mouslimiye', 'Tell Nef', 'Nisbine', 'Tell Noubbol',\n",
       "       'Ouardiye', 'Qara Keupru', 'Qara Mazraa', 'Tell Qaramel',\n",
       "       'Qol Srouj', 'Tell el Qoubli', 'Rasm', 'Tell Sidjaraz',\n",
       "       'Tell Sourane', 'Tourhleu', 'Yel Baba', 'Tell Zaitane',\n",
       "       'Khirbet ez Souaine', 'Tell Aarane', 'Bab', 'Tell Botnan',\n",
       "       'Tell Maksour', 'Tell Rahhal', 'Tell Soussiane', \"Tell Rifa'at\",\n",
       "       'Thasos', 'Abdera', 'Amphipolis', 'Gindaros', 'Kepia', 'Limassol',\n",
       "       'Petra', 'Pella', 'Azotos (Ashdod)', 'Tell Aajar',\n",
       "       \"Palaityr/Tell 'Arqa\", 'Kozluca', 'Hippos-Sussita',\n",
       "       'ORO01-90/3 Vlastos/Hydragogeio', 'ORO01-91/9 Ayios Nikolaos',\n",
       "       'ORO01-91/14', 'ORO01-91/18', 'ORO01-93/6 Alepovouni', 'Nabratein',\n",
       "       'Samothrace-Hieron', 'Kition', 'Qana', 'Salamis/Constantia',\n",
       "       \"'Ain Dara\", 'Kallirhoe', \"'Ein Najila\", 'Shaqif ed-Deir',\n",
       "       'Deir Abu Mghar', \"Wadi Fra'iya\", 'Wadi Jibal', 'Sigilliya',\n",
       "       'Sufsufa', 'Et-Tur', 'Abu Jiffa', 'Serbal', 'Khirbet ed-Deir',\n",
       "       'Ramat Rahel', 'Kydonia', 'Siphnos', 'Philadelphia', 'Pergamon',\n",
       "       'Marina el-Alamein', 'Kastro Tigani', 'D_h\\x8fs',\n",
       "       'Tall _eh Hamad/Magdala', 'Upper Zohar', 'Hammath Tiberias',\n",
       "       'Rehovot-in-the-Negev', 'Myos Hormos', 'Tanagra-TS2',\n",
       "       'Tanagra-TS3', 'Umm el-Tlel', 'Jebel Khalid', 'Kabirion',\n",
       "       'Tell Atrib', 'Tanagra-TS7', 'Tanagra-TS26', 'Tanagra-TS32',\n",
       "       'Tanagra-TSG', 'Tanagra-TS17', 'Tanagra-TS31', 'Tanagra-TS21',\n",
       "       'Athis (Neocaesareia _ Qasrin _ Dibsi Faraj)', 'Babylon', 'Uruk',\n",
       "       'Amorion', 'Seleukeia ad Tigrim', 'Axum', 'Magen', 'Taucheira',\n",
       "       'Diokaesareia', 'Mutatio Heldua', 'Porphyreon', 'Tanagra-TS18',\n",
       "       'Kellia', 'En Boqeq', 'Iasos', 'Hammat Gader', \"Sountha (Sa'neh)\",\n",
       "       'Ed-Dur', 'Doliche', 'Pelusium', 'Khirbet al-Karak', 'Muziris',\n",
       "       'Adulis-Diodoros Island', 'Adulis-Dese A', 'Adulis-Dese B',\n",
       "       'Adulis', 'Kanatha', 'Lepcis Magna', 'Altinum', 'Minturnae',\n",
       "       'Tanagra-TS4', 'Tanagra-TS9', 'Tanagra-TS28', 'Tanagra-TS39',\n",
       "       'Tanagra-TS42', 'Tanagra-Transects', 'Gerasa', 'Phlius',\n",
       "       'NEM90-Site 7', 'Tell Fakhariyah', 'Mampsis',\n",
       "       'BERB96-Findspot 8/Tract 31', 'BERB96-Findspot 517',\n",
       "       'BERB96-Findspot 425', 'BERB96-Findspot 420/Tract 443',\n",
       "       'BERB96-Findspots 500-522', 'Antikythera shipwreck',\n",
       "       'Ayios Philon', 'El-Haditha', 'SWC67-A.3', 'SWC67-A.6',\n",
       "       'SWC67-B.4', 'SWC67-B.5', 'SWC67-B.6', 'SWC67-B.7', 'Palaipaphos',\n",
       "       'Malta', 'Tell Keisan', 'MS055', 'MS056', 'MS057', 'MS060',\n",
       "       'MS062', 'MS067', 'MS069', 'MS101', 'MS109', 'MS112', 'MS114',\n",
       "       'MS116', 'MS117', 'MS120', 'MS122', 'MS124', 'MS204', 'MS205',\n",
       "       'MS209', 'MS210', 'MS211', 'MS214', 'MS216', 'MS218', 'Jalame',\n",
       "       'Anemorion', 'Phaselis shipwreck', 'BEY002',\n",
       "       'EPH-Hanghaus 2-Wohneinheit 4', 'EPH-Stiegengasse3-Kanal',\n",
       "       'EPH-Alytarchenstoa', 'EPH-Kuretenstrasse', 'EPH-Heroon',\n",
       "       'EPH-Oktogon', 'KOU-EpiscopalPrecinct',\n",
       "       'EPH-Hanghaus 2-Wohneinheit 1', 'Halos', 'Mycenae', 'Ilion'],\n",
       "      dtype=object)"
      ]
     },
     "execution_count": 13,
     "metadata": {},
     "output_type": "execute_result"
    }
   ],
   "source": [
    "# eine Liste der Fundorte, wobei jeder Fundort genau einmal\n",
    "# vorkommt\n",
    "catalogue.Location_specific.unique()"
   ]
  },
  {
   "cell_type": "markdown",
   "metadata": {},
   "source": [
    "[Anfang](#top)"
   ]
  },
  {
   "cell_type": "markdown",
   "metadata": {},
   "source": [
    "### Aufgaben\n",
    "**A.** Wie heißen die Spalten in den Datensätzen ```ICRATES_LOCATION```, ```ICRATES_DEPOSIT``` und ```ICRATES_STANDARD_FORM``` und welche Informationen enthalten sie?  \n",
    "**B.** Sieh dir ein paar Einträge aus dem Katalog an, indem du auf den Index zugreifst.  \n",
    "**C.** Wieviele Fundstücke und Fundorte enthält der Katalog? Was ist die mittlere Anzahl an Fundstücken je Fundort?  \n",
    "**D.** Die Spalte ```Min_Rim_Diameter_mm``` enthält eine Abschätzung des Umfanges der Tongefäße am oberen Rand. Berechne den mittleren Umfang und den Median des Umfangs. Berechne auch den Modus des Umfangs. Wie kannst du dir das Ergebnis erklären?  \n",
    "**E.** Manche Spalten enthalten nur sporadisch Einträge und sind sonst leer. Fehlende Einträge werden im ```DataFrame``` als ```NaN``` ([not a number](https://de.wikipedia.org/wiki/NaN)) dargestellt. Spalten wie ```Gouged``` oder ```Glazed``` enthalten Nullen und Einsen. Wie sind diese zu interpretieren? \n",
    "\n",
    "Die Anzahl der ```NaN```-Einträge lässt sich mit der Funktion ```isna()``` herausfinden:"
   ]
  },
  {
   "cell_type": "markdown",
   "metadata": {},
   "source": [
    "**A.** Wie heißen die Spalten in den Datensätzen ```ICRATES_LOCATION```, ```ICRATES_DEPOSIT``` und ```ICRATES_STANDARD_FORM``` und welche Informationen enthalten sie?  \n"
   ]
  },
  {
   "cell_type": "code",
   "execution_count": 14,
   "metadata": {},
   "outputs": [
    {
     "data": {
      "text/plain": [
       "Index(['Unnamed: 0', 'Location_ID', 'Location_simple', 'Longitude', 'Latitude',\n",
       "       'Coordinates_uncertain', 'Harbour', 'Sea', 'River',\n",
       "       'River_navigability', 'Road', 'Topographic_features', 'Modern_country',\n",
       "       'Late_Hellenistic_Area_Provincia', 'Early_Imperial_Province',\n",
       "       'Middle_Imperial_Province', 'Early_Byzantine_region', 'Comment_Remarks',\n",
       "       'BA_map_reference', 'BA_Rank', 'BA_rank_uncertain', 'Pleiades_URL'],\n",
       "      dtype='object')"
      ]
     },
     "execution_count": 14,
     "metadata": {},
     "output_type": "execute_result"
    }
   ],
   "source": [
    "inhalte['ICRATES_LOCATION'].columns"
   ]
  },
  {
   "cell_type": "markdown",
   "metadata": {},
   "source": [
    "Wir greifen hier beispielsweise auf die Spalten in der Datenbank zu, die fü\n",
    "r die Zeilen 11 bis 13 die Namen der Fundorte zu unterschiedlichen Zeiten anzeigen."
   ]
  },
  {
   "cell_type": "code",
   "execution_count": 15,
   "metadata": {},
   "outputs": [
    {
     "data": {
      "text/html": [
       "<div>\n",
       "<style scoped>\n",
       "    .dataframe tbody tr th:only-of-type {\n",
       "        vertical-align: middle;\n",
       "    }\n",
       "\n",
       "    .dataframe tbody tr th {\n",
       "        vertical-align: top;\n",
       "    }\n",
       "\n",
       "    .dataframe thead th {\n",
       "        text-align: right;\n",
       "    }\n",
       "</style>\n",
       "<table border=\"1\" class=\"dataframe\">\n",
       "  <thead>\n",
       "    <tr style=\"text-align: right;\">\n",
       "      <th></th>\n",
       "      <th>Early_Imperial_Province</th>\n",
       "      <th>Early_Byzantine_region</th>\n",
       "      <th>Middle_Imperial_Province</th>\n",
       "      <th>Modern_country</th>\n",
       "    </tr>\n",
       "  </thead>\n",
       "  <tbody>\n",
       "    <tr>\n",
       "      <th>11</th>\n",
       "      <td>Hellespontus</td>\n",
       "      <td>Hellespontos</td>\n",
       "      <td>Hellespontus</td>\n",
       "      <td>Turkey</td>\n",
       "    </tr>\n",
       "    <tr>\n",
       "      <th>12</th>\n",
       "      <td>Italia_X_(Venetia_et_Histria)</td>\n",
       "      <td>not_available</td>\n",
       "      <td>not_available</td>\n",
       "      <td>Italy</td>\n",
       "    </tr>\n",
       "    <tr>\n",
       "      <th>13</th>\n",
       "      <td>Cyprus</td>\n",
       "      <td>Kypros</td>\n",
       "      <td>Cyprus</td>\n",
       "      <td>Cyprus</td>\n",
       "    </tr>\n",
       "  </tbody>\n",
       "</table>\n",
       "</div>"
      ],
      "text/plain": [
       "          Early_Imperial_Province Early_Byzantine_region  \\\n",
       "11                   Hellespontus           Hellespontos   \n",
       "12  Italia_X_(Venetia_et_Histria)          not_available   \n",
       "13                         Cyprus                 Kypros   \n",
       "\n",
       "   Middle_Imperial_Province Modern_country  \n",
       "11             Hellespontus         Turkey  \n",
       "12            not_available          Italy  \n",
       "13                   Cyprus         Cyprus  "
      ]
     },
     "execution_count": 15,
     "metadata": {},
     "output_type": "execute_result"
    }
   ],
   "source": [
    "inhalte['ICRATES_LOCATION'][ ['Early_Imperial_Province', \n",
    "                              'Early_Byzantine_region',\n",
    "                              'Middle_Imperial_Province', \n",
    "                              'Modern_country'] \n",
    "                           ].loc[11:13]"
   ]
  },
  {
   "cell_type": "markdown",
   "metadata": {},
   "source": [
    "In den Spalten der Datensaetze findet man weitergehende Informationen zu den Orten der Fundstücke, wie zum Beispiel welche Flüsse oder Meere in der Nähe liegen, oder wie der Fundort zu unterschiedlichen Zeitraeumen benannt war."
   ]
  },
  {
   "cell_type": "code",
   "execution_count": 16,
   "metadata": {},
   "outputs": [
    {
     "data": {
      "text/plain": [
       "Index(['Unnamed: 0', 'Deposit_ID', 'Deposit', 'Lower_Date', 'Upper_Date',\n",
       "       'Archaeological_Context', 'Urban_nature', 'Site_type_1', 'Site_type_2',\n",
       "       'Nature_Deposit', 'Formation_Deposit', 'type_deposit',\n",
       "       'Comment_Remarks'],\n",
       "      dtype='object')"
      ]
     },
     "execution_count": 16,
     "metadata": {},
     "output_type": "execute_result"
    }
   ],
   "source": [
    "\n",
    "inhalte['ICRATES_DEPOSIT'].columns"
   ]
  },
  {
   "cell_type": "code",
   "execution_count": 17,
   "metadata": {},
   "outputs": [
    {
     "data": {
      "text/plain": [
       "Index(['Unnamed: 0', 'Standard_Form_ID', 'Standard_Form', 'Fabric',\n",
       "       'Standard_Typo_chronological_Lower_Date',\n",
       "       'Standard_Typo_chronological_Upper_Date'],\n",
       "      dtype='object')"
      ]
     },
     "execution_count": 17,
     "metadata": {},
     "output_type": "execute_result"
    }
   ],
   "source": [
    "inhalte['ICRATES_STANDARD_FORM'].columns"
   ]
  },
  {
   "cell_type": "code",
   "execution_count": 18,
   "metadata": {},
   "outputs": [
    {
     "data": {
      "text/plain": [
       "0                        ITS\n",
       "1                 ITS Arezzo\n",
       "2                ITS Arezzo?\n",
       "3       ITS Arezzo-Pisa-Lyon\n",
       "4       ITS Arezzo-Po Valley\n",
       "5          ITS Central Italy\n",
       "6         ITS Central Italy?\n",
       "7               ITS Etruria?\n",
       "8           ITS Etruria-Lyon\n",
       "9                   ITS Lyon\n",
       "10                  ITS Pisa\n",
       "11                 ITS Pisa?\n",
       "12             ITS Pisa-Lyon\n",
       "13             ITS Po Valley\n",
       "14               ITS Puteoli\n",
       "15              ITS Puteoli?\n",
       "16      ITS Torrita di Siena\n",
       "17             ITS Vasanello\n",
       "18                       ITS\n",
       "19                       ITS\n",
       "20                       ITS\n",
       "21                       ITS\n",
       "22                       ITS\n",
       "23                       ITS\n",
       "24                       ITS\n",
       "25                ITS Arezzo\n",
       "26                       ITS\n",
       "27                       ITS\n",
       "28                       ITS\n",
       "29                       ITS\n",
       "                ...         \n",
       "1367                 BSP-ESA\n",
       "1368                 BSP-ESA\n",
       "1369                 BSP-ESA\n",
       "1370                 BSP-ESA\n",
       "1371                 BSP-ESA\n",
       "1372                 BSP-ESA\n",
       "1373                 BSP-ESA\n",
       "1374                 BSP-ESA\n",
       "1375                 Cypriot\n",
       "1376                 BSP-ESA\n",
       "1377                 BSP-ESA\n",
       "1378                 BSP-ESA\n",
       "1379                 BSP-ESA\n",
       "1380                 BSP-ESA\n",
       "1381                 BSP-ESA\n",
       "1382                 Cypriot\n",
       "1383                 Cypriot\n",
       "1384                 BSP-ESA\n",
       "1385                    SRSW\n",
       "1386                     ESC\n",
       "1387                 BSP-ESA\n",
       "1388                    CRSW\n",
       "1389                     ITS\n",
       "1390                     ITS\n",
       "1391                     ITS\n",
       "1392        Pontic Sigillata\n",
       "1393        Pontic Sigillata\n",
       "1394                     ESC\n",
       "1395                     ESC\n",
       "1396                   ESBII\n",
       "Name: Fabric, Length: 1397, dtype: object"
      ]
     },
     "execution_count": 18,
     "metadata": {},
     "output_type": "execute_result"
    }
   ],
   "source": [
    "inhalte['ICRATES_STANDARD_FORM'].Fabric"
   ]
  },
  {
   "cell_type": "markdown",
   "metadata": {},
   "source": [
    "Die Spalte \"Fabric\" zeigt beispielsweise das Herstellungsverfahrung an, das fuer einen bestimmten Ort typisch war und dadurch eventuell Rueckschuesse auf den Zeitraum liefert, zu dem die Technik dort angewendet wurde."
   ]
  },
  {
   "cell_type": "code",
   "execution_count": 19,
   "metadata": {},
   "outputs": [
    {
     "data": {
      "text/plain": [
       "array(['Consp', 'Consp1.1-2', 'Consp10.1', ..., 'M-SN30', 'M-SN11',\n",
       "       'EAA62A-B'], dtype=object)"
      ]
     },
     "execution_count": 19,
     "metadata": {},
     "output_type": "execute_result"
    }
   ],
   "source": [
    "inhalte['ICRATES_STANDARD_FORM'].Standard_Form.unique()"
   ]
  },
  {
   "cell_type": "markdown",
   "metadata": {},
   "source": [
    "Die Spalte \"Standard_Form\" zeigt vermutlich Abkuerzungen fuer bestimmte Formtypen der Keramik an."
   ]
  },
  {
   "cell_type": "markdown",
   "metadata": {},
   "source": [
    "**B.** Sieh dir ein paar Einträge aus dem Katalog an, indem du auf den Index zugreifst.  "
   ]
  },
  {
   "cell_type": "markdown",
   "metadata": {},
   "source": [
    "Wir schauen uns einfach mal die Eintraege 100 bis 110 an. "
   ]
  },
  {
   "cell_type": "code",
   "execution_count": 20,
   "metadata": {},
   "outputs": [
    {
     "data": {
      "text/html": [
       "<div>\n",
       "<style scoped>\n",
       "    .dataframe tbody tr th:only-of-type {\n",
       "        vertical-align: middle;\n",
       "    }\n",
       "\n",
       "    .dataframe tbody tr th {\n",
       "        vertical-align: top;\n",
       "    }\n",
       "\n",
       "    .dataframe thead th {\n",
       "        text-align: right;\n",
       "    }\n",
       "</style>\n",
       "<table border=\"1\" class=\"dataframe\">\n",
       "  <thead>\n",
       "    <tr style=\"text-align: right;\">\n",
       "      <th></th>\n",
       "      <th>ICRATES_ID</th>\n",
       "      <th>Publication_ID</th>\n",
       "      <th>Deposit_ID</th>\n",
       "      <th>Location_ID</th>\n",
       "      <th>Location_specific</th>\n",
       "      <th>Fabric_ID</th>\n",
       "      <th>Fabric</th>\n",
       "      <th>Fabric_Uncertain</th>\n",
       "      <th>Standard_Form_ID</th>\n",
       "      <th>Standard_Form_Publication_Uncertain</th>\n",
       "      <th>...</th>\n",
       "      <th>Epigraphic_Anepigraphic</th>\n",
       "      <th>Complete</th>\n",
       "      <th>Graffito_Reading</th>\n",
       "      <th>Reading_Uncertain</th>\n",
       "      <th>Location_of_Graffito</th>\n",
       "      <th>Comment_Remarks_Graffito</th>\n",
       "      <th>Bibliographic_Reference_Parallels</th>\n",
       "      <th>Comment_Remarks</th>\n",
       "      <th>General_Shape</th>\n",
       "      <th>Function</th>\n",
       "    </tr>\n",
       "  </thead>\n",
       "  <tbody>\n",
       "    <tr>\n",
       "      <th>100</th>\n",
       "      <td>101</td>\n",
       "      <td>328.0</td>\n",
       "      <td>1705.0</td>\n",
       "      <td>40.0</td>\n",
       "      <td>Assos</td>\n",
       "      <td>51.0</td>\n",
       "      <td>ESC</td>\n",
       "      <td>0</td>\n",
       "      <td>1180.0</td>\n",
       "      <td>0</td>\n",
       "      <td>...</td>\n",
       "      <td>NaN</td>\n",
       "      <td>NaN</td>\n",
       "      <td>NaN</td>\n",
       "      <td>NaN</td>\n",
       "      <td>NaN</td>\n",
       "      <td>NaN</td>\n",
       "      <td>NaN</td>\n",
       "      <td>-</td>\n",
       "      <td>NaN</td>\n",
       "      <td>Serving</td>\n",
       "    </tr>\n",
       "    <tr>\n",
       "      <th>101</th>\n",
       "      <td>102</td>\n",
       "      <td>328.0</td>\n",
       "      <td>1705.0</td>\n",
       "      <td>40.0</td>\n",
       "      <td>Assos</td>\n",
       "      <td>51.0</td>\n",
       "      <td>ESC</td>\n",
       "      <td>0</td>\n",
       "      <td>1180.0</td>\n",
       "      <td>0</td>\n",
       "      <td>...</td>\n",
       "      <td>NaN</td>\n",
       "      <td>NaN</td>\n",
       "      <td>NaN</td>\n",
       "      <td>NaN</td>\n",
       "      <td>NaN</td>\n",
       "      <td>NaN</td>\n",
       "      <td>NaN</td>\n",
       "      <td>-</td>\n",
       "      <td>NaN</td>\n",
       "      <td>Serving</td>\n",
       "    </tr>\n",
       "    <tr>\n",
       "      <th>102</th>\n",
       "      <td>103</td>\n",
       "      <td>328.0</td>\n",
       "      <td>1705.0</td>\n",
       "      <td>40.0</td>\n",
       "      <td>Assos</td>\n",
       "      <td>51.0</td>\n",
       "      <td>ESC</td>\n",
       "      <td>0</td>\n",
       "      <td>1180.0</td>\n",
       "      <td>0</td>\n",
       "      <td>...</td>\n",
       "      <td>NaN</td>\n",
       "      <td>NaN</td>\n",
       "      <td>NaN</td>\n",
       "      <td>NaN</td>\n",
       "      <td>NaN</td>\n",
       "      <td>NaN</td>\n",
       "      <td>NaN</td>\n",
       "      <td>-</td>\n",
       "      <td>NaN</td>\n",
       "      <td>Serving</td>\n",
       "    </tr>\n",
       "    <tr>\n",
       "      <th>103</th>\n",
       "      <td>104</td>\n",
       "      <td>328.0</td>\n",
       "      <td>1705.0</td>\n",
       "      <td>40.0</td>\n",
       "      <td>Assos</td>\n",
       "      <td>51.0</td>\n",
       "      <td>ESC</td>\n",
       "      <td>0</td>\n",
       "      <td>1180.0</td>\n",
       "      <td>0</td>\n",
       "      <td>...</td>\n",
       "      <td>NaN</td>\n",
       "      <td>NaN</td>\n",
       "      <td>NaN</td>\n",
       "      <td>NaN</td>\n",
       "      <td>NaN</td>\n",
       "      <td>NaN</td>\n",
       "      <td>NaN</td>\n",
       "      <td>-</td>\n",
       "      <td>NaN</td>\n",
       "      <td>NaN</td>\n",
       "    </tr>\n",
       "    <tr>\n",
       "      <th>104</th>\n",
       "      <td>105</td>\n",
       "      <td>328.0</td>\n",
       "      <td>1705.0</td>\n",
       "      <td>40.0</td>\n",
       "      <td>Assos</td>\n",
       "      <td>51.0</td>\n",
       "      <td>ESC</td>\n",
       "      <td>0</td>\n",
       "      <td>1180.0</td>\n",
       "      <td>0</td>\n",
       "      <td>...</td>\n",
       "      <td>NaN</td>\n",
       "      <td>NaN</td>\n",
       "      <td>NaN</td>\n",
       "      <td>NaN</td>\n",
       "      <td>NaN</td>\n",
       "      <td>NaN</td>\n",
       "      <td>NaN</td>\n",
       "      <td>-</td>\n",
       "      <td>NaN</td>\n",
       "      <td>Cooking</td>\n",
       "    </tr>\n",
       "    <tr>\n",
       "      <th>105</th>\n",
       "      <td>106</td>\n",
       "      <td>328.0</td>\n",
       "      <td>1705.0</td>\n",
       "      <td>40.0</td>\n",
       "      <td>Assos</td>\n",
       "      <td>51.0</td>\n",
       "      <td>ESC</td>\n",
       "      <td>0</td>\n",
       "      <td>1180.0</td>\n",
       "      <td>0</td>\n",
       "      <td>...</td>\n",
       "      <td>NaN</td>\n",
       "      <td>NaN</td>\n",
       "      <td>NaN</td>\n",
       "      <td>NaN</td>\n",
       "      <td>NaN</td>\n",
       "      <td>NaN</td>\n",
       "      <td>NaN</td>\n",
       "      <td>-</td>\n",
       "      <td>NaN</td>\n",
       "      <td>NaN</td>\n",
       "    </tr>\n",
       "    <tr>\n",
       "      <th>106</th>\n",
       "      <td>107</td>\n",
       "      <td>328.0</td>\n",
       "      <td>1705.0</td>\n",
       "      <td>40.0</td>\n",
       "      <td>Assos</td>\n",
       "      <td>51.0</td>\n",
       "      <td>ESC</td>\n",
       "      <td>0</td>\n",
       "      <td>1180.0</td>\n",
       "      <td>0</td>\n",
       "      <td>...</td>\n",
       "      <td>NaN</td>\n",
       "      <td>NaN</td>\n",
       "      <td>NaN</td>\n",
       "      <td>NaN</td>\n",
       "      <td>NaN</td>\n",
       "      <td>NaN</td>\n",
       "      <td>NaN</td>\n",
       "      <td>-</td>\n",
       "      <td>NaN</td>\n",
       "      <td>NaN</td>\n",
       "    </tr>\n",
       "    <tr>\n",
       "      <th>107</th>\n",
       "      <td>108</td>\n",
       "      <td>328.0</td>\n",
       "      <td>1705.0</td>\n",
       "      <td>40.0</td>\n",
       "      <td>Assos</td>\n",
       "      <td>51.0</td>\n",
       "      <td>ESC</td>\n",
       "      <td>0</td>\n",
       "      <td>1180.0</td>\n",
       "      <td>0</td>\n",
       "      <td>...</td>\n",
       "      <td>NaN</td>\n",
       "      <td>NaN</td>\n",
       "      <td>NaN</td>\n",
       "      <td>NaN</td>\n",
       "      <td>NaN</td>\n",
       "      <td>NaN</td>\n",
       "      <td>NaN</td>\n",
       "      <td>Egg list, decoration not certain, could be gar...</td>\n",
       "      <td>NaN</td>\n",
       "      <td>NaN</td>\n",
       "    </tr>\n",
       "    <tr>\n",
       "      <th>108</th>\n",
       "      <td>109</td>\n",
       "      <td>328.0</td>\n",
       "      <td>1705.0</td>\n",
       "      <td>40.0</td>\n",
       "      <td>Assos</td>\n",
       "      <td>51.0</td>\n",
       "      <td>ESC</td>\n",
       "      <td>0</td>\n",
       "      <td>1180.0</td>\n",
       "      <td>0</td>\n",
       "      <td>...</td>\n",
       "      <td>NaN</td>\n",
       "      <td>NaN</td>\n",
       "      <td>NaN</td>\n",
       "      <td>NaN</td>\n",
       "      <td>NaN</td>\n",
       "      <td>NaN</td>\n",
       "      <td>NaN</td>\n",
       "      <td>Deer jumping over bush, for full description s...</td>\n",
       "      <td>NaN</td>\n",
       "      <td>NaN</td>\n",
       "    </tr>\n",
       "    <tr>\n",
       "      <th>109</th>\n",
       "      <td>110</td>\n",
       "      <td>328.0</td>\n",
       "      <td>1705.0</td>\n",
       "      <td>40.0</td>\n",
       "      <td>Assos</td>\n",
       "      <td>51.0</td>\n",
       "      <td>ESC</td>\n",
       "      <td>0</td>\n",
       "      <td>1180.0</td>\n",
       "      <td>0</td>\n",
       "      <td>...</td>\n",
       "      <td>NaN</td>\n",
       "      <td>NaN</td>\n",
       "      <td>NaN</td>\n",
       "      <td>NaN</td>\n",
       "      <td>NaN</td>\n",
       "      <td>NaN</td>\n",
       "      <td>NaN</td>\n",
       "      <td>Garlands joined through flowers.</td>\n",
       "      <td>NaN</td>\n",
       "      <td>NaN</td>\n",
       "    </tr>\n",
       "    <tr>\n",
       "      <th>110</th>\n",
       "      <td>111</td>\n",
       "      <td>328.0</td>\n",
       "      <td>1705.0</td>\n",
       "      <td>40.0</td>\n",
       "      <td>Assos</td>\n",
       "      <td>51.0</td>\n",
       "      <td>ESC</td>\n",
       "      <td>0</td>\n",
       "      <td>1180.0</td>\n",
       "      <td>0</td>\n",
       "      <td>...</td>\n",
       "      <td>NaN</td>\n",
       "      <td>NaN</td>\n",
       "      <td>NaN</td>\n",
       "      <td>NaN</td>\n",
       "      <td>NaN</td>\n",
       "      <td>NaN</td>\n",
       "      <td>NaN</td>\n",
       "      <td>Rosettes and garlands.</td>\n",
       "      <td>NaN</td>\n",
       "      <td>NaN</td>\n",
       "    </tr>\n",
       "  </tbody>\n",
       "</table>\n",
       "<p>11 rows × 60 columns</p>\n",
       "</div>"
      ],
      "text/plain": [
       "     ICRATES_ID  Publication_ID  Deposit_ID  Location_ID Location_specific  \\\n",
       "100         101           328.0      1705.0         40.0             Assos   \n",
       "101         102           328.0      1705.0         40.0             Assos   \n",
       "102         103           328.0      1705.0         40.0             Assos   \n",
       "103         104           328.0      1705.0         40.0             Assos   \n",
       "104         105           328.0      1705.0         40.0             Assos   \n",
       "105         106           328.0      1705.0         40.0             Assos   \n",
       "106         107           328.0      1705.0         40.0             Assos   \n",
       "107         108           328.0      1705.0         40.0             Assos   \n",
       "108         109           328.0      1705.0         40.0             Assos   \n",
       "109         110           328.0      1705.0         40.0             Assos   \n",
       "110         111           328.0      1705.0         40.0             Assos   \n",
       "\n",
       "     Fabric_ID Fabric  Fabric_Uncertain  Standard_Form_ID  \\\n",
       "100       51.0    ESC                 0            1180.0   \n",
       "101       51.0    ESC                 0            1180.0   \n",
       "102       51.0    ESC                 0            1180.0   \n",
       "103       51.0    ESC                 0            1180.0   \n",
       "104       51.0    ESC                 0            1180.0   \n",
       "105       51.0    ESC                 0            1180.0   \n",
       "106       51.0    ESC                 0            1180.0   \n",
       "107       51.0    ESC                 0            1180.0   \n",
       "108       51.0    ESC                 0            1180.0   \n",
       "109       51.0    ESC                 0            1180.0   \n",
       "110       51.0    ESC                 0            1180.0   \n",
       "\n",
       "     Standard_Form_Publication_Uncertain  ... Epigraphic_Anepigraphic  \\\n",
       "100                                    0  ...                     NaN   \n",
       "101                                    0  ...                     NaN   \n",
       "102                                    0  ...                     NaN   \n",
       "103                                    0  ...                     NaN   \n",
       "104                                    0  ...                     NaN   \n",
       "105                                    0  ...                     NaN   \n",
       "106                                    0  ...                     NaN   \n",
       "107                                    0  ...                     NaN   \n",
       "108                                    0  ...                     NaN   \n",
       "109                                    0  ...                     NaN   \n",
       "110                                    0  ...                     NaN   \n",
       "\n",
       "     Complete  Graffito_Reading  Reading_Uncertain  Location_of_Graffito  \\\n",
       "100       NaN               NaN                NaN                   NaN   \n",
       "101       NaN               NaN                NaN                   NaN   \n",
       "102       NaN               NaN                NaN                   NaN   \n",
       "103       NaN               NaN                NaN                   NaN   \n",
       "104       NaN               NaN                NaN                   NaN   \n",
       "105       NaN               NaN                NaN                   NaN   \n",
       "106       NaN               NaN                NaN                   NaN   \n",
       "107       NaN               NaN                NaN                   NaN   \n",
       "108       NaN               NaN                NaN                   NaN   \n",
       "109       NaN               NaN                NaN                   NaN   \n",
       "110       NaN               NaN                NaN                   NaN   \n",
       "\n",
       "    Comment_Remarks_Graffito Bibliographic_Reference_Parallels  \\\n",
       "100                      NaN                               NaN   \n",
       "101                      NaN                               NaN   \n",
       "102                      NaN                               NaN   \n",
       "103                      NaN                               NaN   \n",
       "104                      NaN                               NaN   \n",
       "105                      NaN                               NaN   \n",
       "106                      NaN                               NaN   \n",
       "107                      NaN                               NaN   \n",
       "108                      NaN                               NaN   \n",
       "109                      NaN                               NaN   \n",
       "110                      NaN                               NaN   \n",
       "\n",
       "                                       Comment_Remarks General_Shape  Function  \n",
       "100                                                  -           NaN   Serving  \n",
       "101                                                  -           NaN   Serving  \n",
       "102                                                  -           NaN   Serving  \n",
       "103                                                  -           NaN       NaN  \n",
       "104                                                  -           NaN   Cooking  \n",
       "105                                                  -           NaN       NaN  \n",
       "106                                                  -           NaN       NaN  \n",
       "107  Egg list, decoration not certain, could be gar...           NaN       NaN  \n",
       "108  Deer jumping over bush, for full description s...           NaN       NaN  \n",
       "109                   Garlands joined through flowers.           NaN       NaN  \n",
       "110                             Rosettes and garlands.           NaN       NaN  \n",
       "\n",
       "[11 rows x 60 columns]"
      ]
     },
     "execution_count": 20,
     "metadata": {},
     "output_type": "execute_result"
    }
   ],
   "source": [
    "catalogue.loc[100:110]"
   ]
  },
  {
   "cell_type": "markdown",
   "metadata": {},
   "source": [
    "**C.** Wieviele Fundstücke und Fundorte enthält der Katalog? Was ist die mittlere Anzahl an Fundstücken je Fundort?  \n"
   ]
  },
  {
   "cell_type": "markdown",
   "metadata": {},
   "source": [
    "Die Anzahl der Fundstuecke bekommen wir, indem wir zaehlen, wie viele verschiedene ```ICRATES_ID```s es gibt:"
   ]
  },
  {
   "cell_type": "code",
   "execution_count": 21,
   "metadata": {},
   "outputs": [
    {
     "data": {
      "text/plain": [
       "array([    1,     2,     3, ..., 34294, 34295, 34296])"
      ]
     },
     "execution_count": 21,
     "metadata": {},
     "output_type": "execute_result"
    }
   ],
   "source": [
    "catalogue.ICRATES_ID.unique()"
   ]
  },
  {
   "cell_type": "markdown",
   "metadata": {},
   "source": [
    "```.unique()``` gibt einen numpy array zurück (für unsere Zwecke verhält sich das gleich wie eine Liste), wenn wir die Länge dieses arrays wissen wollen, schauen wir uns mit ```len``` die Grösse dessen an."
   ]
  },
  {
   "cell_type": "code",
   "execution_count": 22,
   "metadata": {},
   "outputs": [
    {
     "data": {
      "text/plain": [
       "33939"
      ]
     },
     "execution_count": 22,
     "metadata": {},
     "output_type": "execute_result"
    }
   ],
   "source": [
    "len(catalogue.ICRATES_ID.unique())"
   ]
  },
  {
   "cell_type": "markdown",
   "metadata": {},
   "source": [
    "Das gleiche fuer die Fundorte:"
   ]
  },
  {
   "cell_type": "code",
   "execution_count": 23,
   "metadata": {},
   "outputs": [
    {
     "data": {
      "text/plain": [
       "273"
      ]
     },
     "execution_count": 23,
     "metadata": {},
     "output_type": "execute_result"
    }
   ],
   "source": [
    "len(catalogue.Location_ID.unique())"
   ]
  },
  {
   "cell_type": "markdown",
   "metadata": {},
   "source": [
    "**D.** Die Spalte ```Min_Rim_Diameter_mm``` enthält eine Abschätzung des Umfanges der Tongefäße am oberen Rand. Berechne den mittleren Umfang und den Median des Umfangs. Berechne auch den Modus des Umfangs. Wie kannst du dir das Ergebnis erklären?  "
   ]
  },
  {
   "cell_type": "code",
   "execution_count": 24,
   "metadata": {},
   "outputs": [
    {
     "data": {
      "text/plain": [
       "188.64960192556933"
      ]
     },
     "execution_count": 24,
     "metadata": {},
     "output_type": "execute_result"
    }
   ],
   "source": [
    "catalogue.Min_Rim_Diameter_mm.mean()"
   ]
  },
  {
   "cell_type": "code",
   "execution_count": 25,
   "metadata": {},
   "outputs": [
    {
     "data": {
      "text/plain": [
       "180.0"
      ]
     },
     "execution_count": 25,
     "metadata": {},
     "output_type": "execute_result"
    }
   ],
   "source": [
    "catalogue.Min_Rim_Diameter_mm.median()"
   ]
  },
  {
   "cell_type": "code",
   "execution_count": 26,
   "metadata": {},
   "outputs": [
    {
     "data": {
      "text/plain": [
       "0    0.0\n",
       "dtype: float64"
      ]
     },
     "execution_count": 26,
     "metadata": {},
     "output_type": "execute_result"
    }
   ],
   "source": [
    "catalogue.Min_Rim_Diameter_mm.mode()"
   ]
  },
  {
   "cell_type": "markdown",
   "metadata": {},
   "source": [
    "Der Modus ist ```0.0```. Diese offensichtlich keinen Durchmesser darstellende Zahl taucht am oeftesten auf,  Sie koennte verwendet worden sein, wenn man keine Rueckschuesse ueber den Randdurchmesser der Fundstuecks ziehen konnte. Diese eintraege verzerren die Statistik, sie ziehen Mittelwert und Median zu kleineren Zahlen."
   ]
  },
  {
   "cell_type": "markdown",
   "metadata": {},
   "source": [
    "**E.** Manche Spalten enthalten nur sporadisch Einträge und sind sonst leer. Fehlende Einträge werden im ```DataFrame``` als ```NaN``` ([not a number](https://de.wikipedia.org/wiki/NaN)) dargestellt.\n",
    "\n",
    "Die Anzahl der ```NaN```-Einträge lässt sich mit der Funktion ```isna()``` herausfinden:"
   ]
  },
  {
   "cell_type": "code",
   "execution_count": 27,
   "metadata": {},
   "outputs": [
    {
     "data": {
      "text/plain": [
       "23137"
      ]
     },
     "execution_count": 27,
     "metadata": {},
     "output_type": "execute_result"
    }
   ],
   "source": [
    "# in der Spalte \"Min_Rim_Diameter_mm\" des Katalogs z.B.\n",
    "# gibt es 23137 fehlende Einträge\n",
    "catalogue.Min_Rim_Diameter_mm.isna().sum()"
   ]
  },
  {
   "cell_type": "code",
   "execution_count": 28,
   "metadata": {},
   "outputs": [
    {
     "data": {
      "text/plain": [
       "30322"
      ]
     },
     "execution_count": 28,
     "metadata": {},
     "output_type": "execute_result"
    }
   ],
   "source": [
    "catalogue.Min_Base_Diameter_mm.isna().sum()"
   ]
  },
  {
   "cell_type": "markdown",
   "metadata": {},
   "source": [
    "Spalten wie ```Gouged``` oder ```Glazed``` enthalten Nullen und Einsen. Wie sind diese zu interpretieren? "
   ]
  },
  {
   "cell_type": "markdown",
   "metadata": {},
   "source": [
    "Mit ```0``` wird nein codiert, ```1``` steht fuer ja, dies ist die speicherfreundlichste Art ja/nein Informationen anzugeben."
   ]
  },
  {
   "cell_type": "markdown",
   "metadata": {},
   "source": [
    "**F. (Optional)** Die Nullen in der Spalte ```Min_Rim_Diameter_mm``` sind offensichtlich als \"fehlender Eintrag\" gemeint. Ersetze alle Nullen in dieser Spalte durch ```NaN```. Speichere die bereinigte Datei mit der Funktion ```catalogue.to_csv()``` ab. Wie verändert sich der Mittelwert, Median und Modus der Spalte?  \n",
    "<font color='green'>**HINWEIS:** dafür musst du das \"NaN-Objekt\" das von der Bibliothek ```NumPy``` bereit gestellt wird benutzen:</font> "
   ]
  },
  {
   "cell_type": "code",
   "execution_count": 29,
   "metadata": {},
   "outputs": [
    {
     "data": {
      "text/plain": [
       "nan"
      ]
     },
     "execution_count": 29,
     "metadata": {},
     "output_type": "execute_result"
    }
   ],
   "source": [
    "import numpy as np\n",
    "np.nan"
   ]
  },
  {
   "cell_type": "code",
   "execution_count": 30,
   "metadata": {},
   "outputs": [],
   "source": [
    "# Zuerst suchen wir alle Werte raus, die identisch 0 sind\n",
    "hier_gleich_0 = catalogue.Min_Rim_Diameter_mm == 0"
   ]
  },
  {
   "cell_type": "code",
   "execution_count": 31,
   "metadata": {},
   "outputs": [
    {
     "data": {
      "text/plain": [
       "21525    0.0\n",
       "21526    0.0\n",
       "21527    0.0\n",
       "21528    0.0\n",
       "21529    0.0\n",
       "21530    0.0\n",
       "21531    0.0\n",
       "21532    0.0\n",
       "21533    0.0\n",
       "21534    0.0\n",
       "21535    0.0\n",
       "21536    0.0\n",
       "21537    0.0\n",
       "21538    0.0\n",
       "21539    0.0\n",
       "21540    0.0\n",
       "21541    0.0\n",
       "21542    0.0\n",
       "21543    0.0\n",
       "21544    0.0\n",
       "21545    0.0\n",
       "21546    0.0\n",
       "21547    0.0\n",
       "21548    0.0\n",
       "21549    0.0\n",
       "21550    0.0\n",
       "21551    0.0\n",
       "21552    0.0\n",
       "21553    0.0\n",
       "21554    0.0\n",
       "        ... \n",
       "23601    0.0\n",
       "23602    0.0\n",
       "23603    0.0\n",
       "23604    0.0\n",
       "23605    0.0\n",
       "23606    0.0\n",
       "23609    0.0\n",
       "23610    0.0\n",
       "23613    0.0\n",
       "23614    0.0\n",
       "23615    0.0\n",
       "23616    0.0\n",
       "23617    0.0\n",
       "23618    0.0\n",
       "23619    0.0\n",
       "23620    0.0\n",
       "23621    0.0\n",
       "23622    0.0\n",
       "23623    0.0\n",
       "23624    0.0\n",
       "23625    0.0\n",
       "23626    0.0\n",
       "23629    0.0\n",
       "23630    0.0\n",
       "23631    0.0\n",
       "23632    0.0\n",
       "23633    0.0\n",
       "23634    0.0\n",
       "23635    0.0\n",
       "23636    0.0\n",
       "Name: Min_Rim_Diameter_mm, Length: 693, dtype: float64"
      ]
     },
     "execution_count": 31,
     "metadata": {},
     "output_type": "execute_result"
    }
   ],
   "source": [
    "# ein kurzer Check, wir lassen uns hiermit nur die Werte rausgeben, die =0 sind:\n",
    "catalogue.Min_Rim_Diameter_mm[hier_gleich_0]"
   ]
  },
  {
   "cell_type": "markdown",
   "metadata": {},
   "source": [
    "Bevor wir an den Daten arbeiten, lieber eine Sicherheitskopie machen\n",
    "cat = catalogue.copy()"
   ]
  },
  {
   "cell_type": "code",
   "execution_count": 32,
   "metadata": {},
   "outputs": [
    {
     "name": "stderr",
     "output_type": "stream",
     "text": [
      "/home/dmanik/venvs/teaching/lib/python3.5/site-packages/ipykernel_launcher.py:2: SettingWithCopyWarning: \n",
      "A value is trying to be set on a copy of a slice from a DataFrame\n",
      "\n",
      "See the caveats in the documentation: http://pandas.pydata.org/pandas-docs/stable/indexing.html#indexing-view-versus-copy\n",
      "  \n"
     ]
    }
   ],
   "source": [
    "# Erste Idee: alle Werte gleich NaN setzen:\n",
    "catalogue.Min_Rim_Diameter_mm[hier_gleich_0] = np.NaN"
   ]
  },
  {
   "cell_type": "code",
   "execution_count": 33,
   "metadata": {},
   "outputs": [],
   "source": [
    "# dies ^ scheint eine Warnung hervorzurufen, pandas weist uns darauf hin,  \n",
    "# dass der Wert NaN hier einer Kopie des Ausschnitts von 'cat' zugewiesen werden soll. \n",
    "# Manchmal kann das wohl zu Fehlern führen, die in der Dokumentation empfohlene Methode\n",
    "# ist die Folgende:\n",
    "\n",
    "catalogue.loc[hier_gleich_0,('Min_Rim_Diameter_mm')] = np.NaN"
   ]
  },
  {
   "cell_type": "code",
   "execution_count": 34,
   "metadata": {},
   "outputs": [],
   "source": [
    "catalogue.to_csv(\"data/ICRATES_CATALOGUE.csv\")"
   ]
  },
  {
   "cell_type": "code",
   "execution_count": 35,
   "metadata": {},
   "outputs": [
    {
     "data": {
      "text/plain": [
       "201.58205559402512"
      ]
     },
     "execution_count": 35,
     "metadata": {},
     "output_type": "execute_result"
    }
   ],
   "source": [
    "catalogue.Min_Rim_Diameter_mm.mean()"
   ]
  },
  {
   "cell_type": "code",
   "execution_count": 36,
   "metadata": {},
   "outputs": [
    {
     "data": {
      "text/plain": [
       "186.0"
      ]
     },
     "execution_count": 36,
     "metadata": {},
     "output_type": "execute_result"
    }
   ],
   "source": [
    "catalogue.Min_Rim_Diameter_mm.median()"
   ]
  },
  {
   "cell_type": "code",
   "execution_count": 37,
   "metadata": {},
   "outputs": [
    {
     "data": {
      "text/plain": [
       "0    120.0\n",
       "dtype: float64"
      ]
     },
     "execution_count": 37,
     "metadata": {},
     "output_type": "execute_result"
    }
   ],
   "source": [
    "catalogue.Min_Rim_Diameter_mm.mode()"
   ]
  },
  {
   "cell_type": "markdown",
   "metadata": {},
   "source": [
    "Offensichtlich hat das entfernen aller ```0.0``` Einträge die Statistik verändert. Der Modus ist nun nicht mehr ```0.0``` und auch Mittelwert und Median liegen bei höheren (vermutlich korrekten) Werten."
   ]
  },
  {
   "cell_type": "markdown",
   "metadata": {},
   "source": [
    "  **G.** Finde für jede Spalte des Katalogs heraus, wieviele (fehlende) Einträge es in der Spalte gibt. Erstelle ein neues ```DataFrame```, das jeweils den Spaltennamen und die Anzahl der Einträge enthält.  "
   ]
  },
  {
   "cell_type": "code",
   "execution_count": 38,
   "metadata": {},
   "outputs": [
    {
     "data": {
      "text/plain": [
       "ICRATES_ID                                 0\n",
       "Publication_ID                           111\n",
       "Deposit_ID                               257\n",
       "Location_ID                              111\n",
       "Location_specific                        111\n",
       "Fabric_ID                                930\n",
       "Fabric                                   930\n",
       "Fabric_Uncertain                           0\n",
       "Standard_Form_ID                        7987\n",
       "Standard_Form_Publication_Uncertain        0\n",
       "Standard_Form_ICRATES                  33248\n",
       "OCK_ID                                 32995\n",
       "OCK_Number_Uncertain                       0\n",
       "LRP_ID                                 33628\n",
       "LRP_Stamp_Publication_Uncertain            0\n",
       "Standard_LRP_Stamp_ICRATES             33922\n",
       "Catalogue_Number                         112\n",
       "Illustration                            8322\n",
       "Pages                                   3689\n",
       "Min_Rim_Diameter_mm                    23830\n",
       "Max_Rim_Diameter_mm                    31356\n",
       "Min_Base_Diameter_mm                   30322\n",
       "Max_Base_Diameter_mm                   32707\n",
       "Min_Height_mm                          30454\n",
       "Max_Height_mm                          31794\n",
       "Fragment                                5787\n",
       "Specific_Shape                         17338\n",
       "Rouletting                                 0\n",
       "Place_of_Rouletting                    32832\n",
       "Moulded                                    0\n",
       "Stamped                                    0\n",
       "Epigraphic_Anepigraphic_Empty          32929\n",
       "Retrograde_Ligature                    33819\n",
       "Place_of_Stamped_Decoration            31755\n",
       "Potters_Stamp                          33575\n",
       "Suggested_Reading                      33703\n",
       "Stamp_Shape                            30782\n",
       "Applique                                   0\n",
       "Place_of_Applique                      33572\n",
       "Gouged                                     0\n",
       "Sanded                                     0\n",
       "Painted                                    0\n",
       "Incised                                    0\n",
       "Repaired                                   0\n",
       "Glazed                                     0\n",
       "Barbotine                                  0\n",
       "Burnished                                  0\n",
       "Combed                                     0\n",
       "Description_of_Decoration              29025\n",
       "Graffito                                   0\n",
       "Epigraphic_Anepigraphic                33843\n",
       "Complete                               33869\n",
       "Graffito_Reading                       33763\n",
       "Reading_Uncertain                      33907\n",
       "Location_of_Graffito                   33760\n",
       "Comment_Remarks_Graffito               33891\n",
       "Bibliographic_Reference_Parallels      31005\n",
       "Comment_Remarks                         2672\n",
       "General_Shape                          22832\n",
       "Function                               24098\n",
       "dtype: int64"
      ]
     },
     "execution_count": 38,
     "metadata": {},
     "output_type": "execute_result"
    }
   ],
   "source": [
    "# Die Summe lauft automatisch uber alle Spalten, auch wenn wir \n",
    "# vorher eine andere Funktion auf das DataFrame anwenden\n",
    "catalogue.isna().sum()"
   ]
  },
  {
   "cell_type": "markdown",
   "metadata": {},
   "source": [
    "**H.** Welche Spalten haben keine fehlenden Einträge? In welchen Spalten ist am wenigsten Information enthalten?  "
   ]
  },
  {
   "cell_type": "code",
   "execution_count": 39,
   "metadata": {},
   "outputs": [
    {
     "data": {
      "text/plain": [
       "Index(['ICRATES_ID', 'Fabric_Uncertain', 'Standard_Form_Publication_Uncertain',\n",
       "       'OCK_Number_Uncertain', 'LRP_Stamp_Publication_Uncertain', 'Rouletting',\n",
       "       'Moulded', 'Stamped', 'Applique', 'Gouged', 'Sanded', 'Painted',\n",
       "       'Incised', 'Repaired', 'Glazed', 'Barbotine', 'Burnished', 'Combed',\n",
       "       'Graffito'],\n",
       "      dtype='object')"
      ]
     },
     "execution_count": 39,
     "metadata": {},
     "output_type": "execute_result"
    }
   ],
   "source": [
    "# Wenn die Summe der fehlenden Eintraege gleich 0 ist, enthalten die Spalten keine fehlenden Eintraege:\n",
    "catalogue.columns[catalogue.isna().sum() == 0]"
   ]
  },
  {
   "cell_type": "code",
   "execution_count": 40,
   "metadata": {},
   "outputs": [
    {
     "data": {
      "text/plain": [
       "'Standard_LRP_Stamp_ICRATES'"
      ]
     },
     "execution_count": 40,
     "metadata": {},
     "output_type": "execute_result"
    }
   ],
   "source": [
    "# pandas hat die Funktion 'idxmax()', welche uns den Eintrag mit den maximalen Eintraegen zurueck gibt:\n",
    "catalogue.isna().sum().idxmax()"
   ]
  },
  {
   "cell_type": "markdown",
   "metadata": {},
   "source": [
    "**I. (Optional)** Erstelle mit Hilfe der Bibliothek ```matplotlib.pyplot``` ein sog. \"bar-chart\", in dem die Anzahl der fehlenden Einträge je Spalte visualisiert sind.  \n",
    "<font color='green'>**HINWEIS:** [Hier](https://pythonspot.com/matplotlib-bar-chart/) findest du ein Beispiel für ein bar-chart und [Hier](https://matplotlib.org/api/_as_gen/matplotlib.pyplot.bar.html) ist die Funktion ```bar()``` dokumentiert. </font>"
   ]
  },
  {
   "cell_type": "code",
   "execution_count": 41,
   "metadata": {},
   "outputs": [],
   "source": [
    "import matplotlib.pyplot as plt"
   ]
  },
  {
   "cell_type": "code",
   "execution_count": 42,
   "metadata": {},
   "outputs": [],
   "source": [
    "# Für einen bar plot brauchen wir eine Nummerierung der einzelnen Spalten:\n",
    "columns_id = list(range(len(catalogue.columns)))\n",
    "\n",
    "# Die Angaben von oben packen wir auch in eine Variable:\n",
    "columns_num_of_nan = catalogue.isna().sum()"
   ]
  },
  {
   "cell_type": "code",
   "execution_count": 43,
   "metadata": {},
   "outputs": [
    {
     "data": {
      "image/png": "[encoded data removed]",
      "text/plain": [
       "<Figure size 432x288 with 1 Axes>"
      ]
     },
     "metadata": {},
     "output_type": "display_data"
    }
   ],
   "source": [
    "plt.bar(columns_id, columns_num_of_nan)\n",
    "plt.show()"
   ]
  },
  {
   "cell_type": "code",
   "execution_count": 44,
   "metadata": {},
   "outputs": [
    {
     "data": {
      "image/png": "[encoded data removed]",
      "text/plain": [
       "<Figure size 1800x360 with 1 Axes>"
      ]
     },
     "metadata": {},
     "output_type": "display_data"
    }
   ],
   "source": [
    "# ein bisschen schoener und aufschlussreicher:\n",
    "fig, ax = plt.subplots(1,1, figsize=(25,5))\n",
    "ax.bar(columns_id, columns_num_of_nan)\n",
    "ax.set_xticks(columns_id)\n",
    "ax.set_xticklabels(catalogue.columns, rotation=90, fontsize=10)\n",
    "plt.show()"
   ]
  },
  {
   "cell_type": "markdown",
   "metadata": {},
   "source": [
    "[Anfang](#top)"
   ]
  },
  {
   "cell_type": "markdown",
   "metadata": {},
   "source": [
    "<a name=\"histogramme\"></a>4. Histogramme\n",
    "---\n",
    "Im folgenden Abschnitt werden wir damit beginnen, die in den Daten enthaltenen Informationen zu visualisieren. Eine sehr einfache Visualisierung ist das Histogramm, eine graphische Darstellung der Häufigkeit eines Merkmals. Zur Illustration erstellen wir eine kleine Visualisierung der Verteilung von Werten in einer Liste:"
   ]
  },
  {
   "cell_type": "code",
   "execution_count": 45,
   "metadata": {},
   "outputs": [
    {
     "data": {
      "image/png": "[encoded data removed]",
      "text/plain": [
       "<Figure size 432x288 with 1 Axes>"
      ]
     },
     "metadata": {},
     "output_type": "display_data"
    }
   ],
   "source": [
    "# eine Liste mit 30 Ganzzahlen, die z.B. das Alter von Personen in einer\n",
    "# Gruppe darstellen können\n",
    "alter = [37, 20, 84,  2, 11, 89, 52, 65, 90, 21, 30, 12, 17, 53, 62, 45, 37,\n",
    "        3,  6, 64, 85,  6, 95, 73, 68, 55, 86, 83, 91,  1]\n",
    "\n",
    "# für Visualisierungen benutzen wir die Blbiothek \"matplotlib.pyplot\"\n",
    "import matplotlib.pyplot as plt\n",
    "\n",
    "# Histogramme lassen sich einfach mit der Funktion plt.hist() erstellen\n",
    "plt.hist(alter);"
   ]
  },
  {
   "cell_type": "markdown",
   "metadata": {},
   "source": [
    "Visualisierungen sollten immer mit Achsenbeschriftungen versehen werden. Dafür verwenden wir die Funktionen ```plt.xlabel()``` und ```plt.ylabel```. Außerdem können wir der Abbildung mit ```plt.title()``` einen Titel geben. Mit verschiedenen optionalen Argumenten lässt sich das Verhalten von ```plt.hist()``` anpassen:\n",
    "* ```bins``` ändert die Anzahl der Bins\n",
    "* ```range``` ändert den dargestellten Bereich auf der x-Achse\n",
    "* ```rwidth``` ändert die dargestellte bin-Weite \n",
    "* ```color``` ändert die Farbe\n",
    "* ```alpha``` ändert den Alpha-Wert (Durchsichtigkeit) der dargestellten Balken.\n",
    "\n",
    "Plot-Funktionen haben oftmals sehr viele optionale Argumente (auch \"keyword arguments\" genannt). Um herauszufinden, wass die jeweiligen Funktionen alles können, lohnt sich ein Blick in die [Dokumentation](https://matplotlib.org/api/_as_gen/matplotlib.pyplot.hist.html). Außerdem sollte jede Darstellung *immer* mit Achsenbeschriftungen und eventuell einem Titel versehen werden:"
   ]
  },
  {
   "cell_type": "code",
   "execution_count": 46,
   "metadata": {},
   "outputs": [
    {
     "data": {
      "image/png": "[encoded data removed]",
      "text/plain": [
       "<Figure size 432x288 with 1 Axes>"
      ]
     },
     "metadata": {},
     "output_type": "display_data"
    }
   ],
   "source": [
    "plt.hist(alter, color='red', rwidth=0.8, range=[0,100], bins=10, label='alter')\n",
    "plt.xlabel('Alter')\n",
    "plt.ylabel('Anzahl')\n",
    "plt.legend()\n",
    "plt.title('Verteilung des Alters');"
   ]
  },
  {
   "cell_type": "markdown",
   "metadata": {},
   "source": [
    "[Anfang](#top)"
   ]
  },
  {
   "cell_type": "markdown",
   "metadata": {},
   "source": [
    "### Aufgaben\n",
    "**A.** Erstelle ein Histogramm der in der Spalte ```Min_Rim_Diameter_mm``` enthaltenen Durchmesser. <font color='green'>**HINWEIS:** Damit das funktioniert, musst du mit der Funktion ```dropna()``` alle ```NaN```-Werte entfernen.</font>  "
   ]
  },
  {
   "cell_type": "code",
   "execution_count": 47,
   "metadata": {},
   "outputs": [
    {
     "data": {
      "image/png": "[encoded data removed]",
      "text/plain": [
       "<Figure size 432x288 with 1 Axes>"
      ]
     },
     "metadata": {},
     "output_type": "display_data"
    }
   ],
   "source": [
    "plt.hist(catalogue.Min_Rim_Diameter_mm.dropna() )\n",
    "plt.show()"
   ]
  },
  {
   "cell_type": "markdown",
   "metadata": {},
   "source": [
    "**B.** Mache dich mit den unterschiedlichen Argumenten der Funktion ```plt.hist()``` vertraut, indem du verschiedene Werte und Kombinationen für die Daten ausprobierst. Finde Werte, die die Daten deiner Meinung nach gut und verständlich darstellen. Worauf kommt es dabei an? Versieh die Darstellung mit passenden Beschriftungen.  "
   ]
  },
  {
   "cell_type": "code",
   "execution_count": 48,
   "metadata": {},
   "outputs": [
    {
     "data": {
      "image/png": "[encoded data removed]",
      "text/plain": [
       "<Figure size 1080x360 with 1 Axes>"
      ]
     },
     "metadata": {},
     "output_type": "display_data"
    }
   ],
   "source": [
    "plt.figure(figsize=(15,5))\n",
    "plt.hist(catalogue.Min_Rim_Diameter_mm.dropna(), color='darkred', rwidth=0.8, bins=25, label='ICRATES Catalogue')\n",
    "plt.xlabel('Min_Rim_Diameter [mm]')\n",
    "plt.ylabel('Counts')\n",
    "plt.legend()\n",
    "plt.title('Verteilung der Randdurchmesser');"
   ]
  },
  {
   "cell_type": "code",
   "execution_count": 49,
   "metadata": {},
   "outputs": [
    {
     "data": {
      "image/png": "[encoded data removed]",
      "text/plain": [
       "<Figure size 432x288 with 1 Axes>"
      ]
     },
     "metadata": {},
     "output_type": "display_data"
    }
   ],
   "source": [
    "plt.hist(catalogue.Min_Rim_Diameter_mm.dropna(), bins=100)\n",
    "plt.show()"
   ]
  },
  {
   "cell_type": "code",
   "execution_count": 50,
   "metadata": {},
   "outputs": [
    {
     "data": {
      "image/png": "[encoded data removed]",
      "text/plain": [
       "<Figure size 432x288 with 1 Axes>"
      ]
     },
     "metadata": {},
     "output_type": "display_data"
    }
   ],
   "source": [
    "plt.hist(catalogue.Min_Rim_Diameter_mm.dropna(), bins=100, histtype='step')\n",
    "plt.show()"
   ]
  },
  {
   "cell_type": "markdown",
   "metadata": {},
   "source": [
    "**C.** Insbesondere das Argument ```bins``` verändert die Darstellung des Histogrammes sehr stark. Was kann schiefgehen, wenn ```bins``` zu niedrig oder zu hoch gewählt wird? Was ist eine gute Wahl für einen (diesen) Datensatz?  "
   ]
  },
  {
   "cell_type": "code",
   "execution_count": 51,
   "metadata": {},
   "outputs": [
    {
     "data": {
      "image/png": "[encoded data removed]",
      "text/plain": [
       "<Figure size 432x288 with 1 Axes>"
      ]
     },
     "metadata": {},
     "output_type": "display_data"
    },
    {
     "data": {
      "image/png": "[encoded data removed]",
      "text/plain": [
       "<Figure size 432x288 with 1 Axes>"
      ]
     },
     "metadata": {},
     "output_type": "display_data"
    },
    {
     "data": {
      "image/png": "[encoded data removed]",
      "text/plain": [
       "<Figure size 432x288 with 1 Axes>"
      ]
     },
     "metadata": {},
     "output_type": "display_data"
    },
    {
     "data": {
      "image/png": "[encoded data removed]",
      "text/plain": [
       "<Figure size 432x288 with 1 Axes>"
      ]
     },
     "metadata": {},
     "output_type": "display_data"
    },
    {
     "data": {
      "image/png": "[encoded data removed]",
      "text/plain": [
       "<Figure size 432x288 with 1 Axes>"
      ]
     },
     "metadata": {},
     "output_type": "display_data"
    },
    {
     "data": {
      "image/png": "[encoded data removed]",
      "text/plain": [
       "<Figure size 432x288 with 1 Axes>"
      ]
     },
     "metadata": {},
     "output_type": "display_data"
    }
   ],
   "source": [
    "plt.hist(catalogue.Min_Rim_Diameter_mm.dropna(), 5)\n",
    "plt.show()\n",
    "\n",
    "plt.hist(catalogue.Min_Rim_Diameter_mm.dropna(), 25)\n",
    "plt.show()\n",
    "\n",
    "plt.hist(catalogue.Min_Rim_Diameter_mm.dropna(), 50)\n",
    "plt.show()\n",
    "\n",
    "plt.hist(catalogue.Min_Rim_Diameter_mm.dropna(), 100)\n",
    "plt.show()\n",
    "\n",
    "plt.hist(catalogue.Min_Rim_Diameter_mm.dropna(), 250)\n",
    "plt.show()\n",
    "\n",
    "plt.hist(catalogue.Min_Rim_Diameter_mm.dropna(), 2500)\n",
    "plt.show()"
   ]
  },
  {
   "cell_type": "markdown",
   "metadata": {},
   "source": [
    "Wählen wir die bin - Anzahl zu klein, verlieren wir Informationen, weil wir zu viele unterschiedliche Informationen zusammen fassen. Bei zu großen Werten im Gegensatz zeigen wir mehr oder weniger die einzelnen Werte für die Durchmesser direkt an. Beides erlaubt uns nicht, einen Trend in den Daten zu finden.\n",
    "Ein guter Wert, um einen Trend zu finden, ist hier zwischen 25 und 50, wir erkennen deutlich 2 Maxima in den Durchmessern."
   ]
  },
  {
   "cell_type": "markdown",
   "metadata": {},
   "source": [
    "**D.** Visualisiere die Durchmesser an der Gefäßbasis (```Min_Base_Diameter_mm```) im selben Histogram. Was für Aussagen über die Gefäße kannst du aus dieser Visualisierung ableiten? <font color='green'>**HINWEIS:** Du kannst einfach in der selben Code-Zelle zwei mal hintereinander die Funktion ```plt.hist()``` (natürlich mit unterschiedlichen Daten) aufrufen, um die Daten übereinandergelegt darzustellen. Du kannst mit der Funktion ```plt.legend()``` eine Legende zur Abbildung hinzufügen. Damit das funktioniert, musst du den einzelen plot-Befehlen vorher ein entsprechendes ```label``` Argument mitgeben.</font> Was fällt dir auf? Worauf musst du achten, damit die in beiden Histogrammen dargestellten Werte vergleichbar sind? Warum ist diese Darstellung eventuell irreführend?  "
   ]
  },
  {
   "cell_type": "code",
   "execution_count": 53,
   "metadata": {},
   "outputs": [
    {
     "data": {
      "image/png": "[encoded data removed]",
      "text/plain": [
       "<Figure size 432x288 with 1 Axes>"
      ]
     },
     "metadata": {},
     "output_type": "display_data"
    }
   ],
   "source": [
    "plt.hist(catalogue.Min_Rim_Diameter_mm.dropna(), bins=40, range=[0,800], label='Rim')\n",
    "plt.hist(catalogue.Min_Base_Diameter_mm.dropna(), bins=40, range=[0,800], label='Base')\n",
    "plt.legend()\n",
    "plt.show()"
   ]
  },
  {
   "cell_type": "markdown",
   "metadata": {},
   "source": [
    "* Damit die beiden Histogramme vergleichbar sind, bietet es sich an, jeweils die gleiche Anzahl an bins und den gleichen Bereich (```range=[min,manx]```) abzubilden. \n",
    "* In dieser Darstellung sieht es so aus, als ob die Gefäße an der Basis im Schnitt deutlich kleiner sind als am oberen Rand. \n",
    "* In dem Datensatz gibt es wesentlich weniger Einträge zu Basis-Durchbessern als zu Durchmessern vom oberen Rand. Das darsgestellte Ergebnis könnte als zum einen daran liegen, dass die Gefäße an der Basis tatsächlich kleiner sind. Eine alternative Erklärung wäre, dass eher Stücke von kleinen Gefäßen, aus denen sich der Basis-Durchmesser errechnen lässt, erhalten sind."
   ]
  },
  {
   "cell_type": "markdown",
   "metadata": {},
   "source": [
    "**E. (Optional)** Was hat es mit den beiden keyword arguments ```density``` und ```cumulative``` auf sich? Wie verändert sich das Histogram und wie kann die Darstellung dann interpretiert werden?"
   ]
  },
  {
   "cell_type": "markdown",
   "metadata": {},
   "source": [
    "Die Dokumentation (```Shift + Tab```) zeigt uns folgendes:\n",
    "\n",
    "**density**:\n",
    "_the counts normalized to form a probability density, i.e., the area (or integral) under the histogram will sum to 1_\n",
    "    \n",
    "**cumulative**:\n",
    "_each bin gives the counts in that bin plus all bins for smaller values. The last bin gives the total number of datapoints_\n",
    "\n"
   ]
  },
  {
   "cell_type": "code",
   "execution_count": 54,
   "metadata": {},
   "outputs": [
    {
     "data": {
      "image/png": "[encoded data removed]",
      "text/plain": [
       "<Figure size 432x288 with 1 Axes>"
      ]
     },
     "metadata": {},
     "output_type": "display_data"
    }
   ],
   "source": [
    "plt.hist(catalogue.Min_Rim_Diameter_mm.dropna(), density=True)\n",
    "plt.show()"
   ]
  },
  {
   "cell_type": "code",
   "execution_count": 55,
   "metadata": {},
   "outputs": [
    {
     "data": {
      "image/png": "[encoded data removed]",
      "text/plain": [
       "<Figure size 432x288 with 1 Axes>"
      ]
     },
     "metadata": {},
     "output_type": "display_data"
    }
   ],
   "source": [
    "plt.hist(catalogue.Min_Rim_Diameter_mm.dropna(), density=True, bins=100, cumulative=True)\n",
    "plt.show()"
   ]
  },
  {
   "cell_type": "code",
   "execution_count": 56,
   "metadata": {},
   "outputs": [
    {
     "data": {
      "image/png": "[encoded data removed]",
      "text/plain": [
       "<Figure size 432x288 with 1 Axes>"
      ]
     },
     "metadata": {},
     "output_type": "display_data"
    }
   ],
   "source": [
    "plt.hist(catalogue.Min_Rim_Diameter_mm.dropna(), bins=40, range=[0,800], alpha=.5, density=True, label='Rim')\n",
    "plt.hist(catalogue.Min_Base_Diameter_mm.dropna(), bins=40, range=[0,800], alpha=.5, density=True, label='Base')\n",
    "plt.legend()\n",
    "plt.show()"
   ]
  },
  {
   "cell_type": "markdown",
   "metadata": {},
   "source": [
    "[Anfang](#top)"
   ]
  }
 ],
 "metadata": {
  "jupytext": {
   "formats": "ipynb,py:light"
  },
  "kernelspec": {
   "display_name": "Python 3",
   "language": "python",
   "name": "python3"
  },
  "language_info": {
   "codemirror_mode": {
    "name": "ipython",
    "version": 3
   },
   "file_extension": ".py",
   "mimetype": "text/x-python",
   "name": "python",
   "nbconvert_exporter": "python",
   "pygments_lexer": "ipython3",
   "version": "3.5.2"
  }
 },
 "nbformat": 4,
 "nbformat_minor": 2
}
