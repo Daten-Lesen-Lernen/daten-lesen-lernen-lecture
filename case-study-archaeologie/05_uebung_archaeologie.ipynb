{
 "cells": [
  {
   "cell_type": "markdown",
   "metadata": {},
   "source": [
    "_Lizenz: Das folgende Lehrmaterial kann unter einer [CC-BY-SA 4.0](https://creativecommons.org/licenses/by/4.0/legalcode) Lizenz frei verwendet, verbreitet und modifiziert werden._   \n",
    " _Authoren: Jana Lasser (jana.lasser@ds.mpg.de)_  \n",
    " _Das Lehrmaterial wurde im Zuge des Projektes \"Daten Lesen Lernen\", gefördert vom Stifterverband und der Heinz Nixdorf Stiftung erstellt._"
   ]
  },
  {
   "cell_type": "markdown",
   "metadata": {},
   "source": [
    "# Übung 05 - Archäologie: Daten finden und einlesen\n",
    "### Praktische Hinweise\n",
    "$\\rightarrow$ Übungen sind dafür gedacht, dass ihr sie euch daheim anseht und versucht, ein paar Aufgaben selbst zu lösen. In den Tutorien könnt ihr euch weiter mit dem Lösungen der Aufgaben beschäftigen und dabei Hilfe von den Tutor*innen bekommen.  \n",
    "\n",
    "$\\rightarrow$ Wenn ein Fehler auftritt:\n",
    "1. Fehlermeldung _lesen_ und _verstehen_\n",
    "2. Versuchen, selbst eine Lösung zu finden ($\\rightarrow$ hier findet das Lernen statt!)\n",
    "3. Das Problem googlen (Stichwort: Stackoverflow) oder den/die Nachbar*in fragen\n",
    "4. Tutor*in fragen\n",
    "\n",
    "$\\rightarrow$ Unter <font color='green'>**HINWEIS**</font> werden Hinweise gegeben, die für die Lösung der Aufgabe hilfreich sind und oftmals auch weiterführende Informationen zur Aufgabe liefern.\n",
    "\n",
    "$\\rightarrow$ Mit **(Optional)** gekennzeichnete Übungsteile sind für besonders schnelle Menschen :-)."
   ]
  },
  {
   "cell_type": "markdown",
   "metadata": {},
   "source": [
    "<a name=\"top\"></a>Inhalt\n",
    "---\n",
    " Mit dieser Übung beginnen wir eine Fallstudie, die sich mit einem Datensatz aus der Archäologie beschäftigt: dem [\"Inventory of Crafts and Trade in the Roman East - database of tableware\" (ICRATES)](https://archaeologydataservice.ac.uk/archives/view/icrates_lt_2018/downloads.cfm). Außerdem werden wir uns damit beschäftigen, wie wir die gewonnenen Informationen am besten visualisieren können. Die aktuelle Übung gliedert sich in drei Teile:\n",
    "* [Daten beschaffen](#daten_beschaffen)\n",
    "* [Daten erkunden & bereinigen](#daten_erkunden) \n",
    "\n",
    "Für die folgenden Übungen gibt es kein Lehrvideo. Deswegen wird es in den Jupyter-Notebooks zu den Übungen mehr Erklärungen und Zwischenschritte geben. Darüber hinaus haben ab dieser Woche auch nicht mehr alle Übungen der verschiedenen Übungsgruppen den exakt gleichen Inhalt, da einige Themenbereiche etwas unterschiedliche Werkzeuge brauchen als andere. Das Konzept ist aber überall das gleiche."
   ]
  },
  {
   "cell_type": "markdown",
   "metadata": {},
   "source": [
    "<a name=\"daten_beschaffen\"></a>1. Daten beschaffen\n",
    "---\n",
    "**A.** Mache dich mit der Datenquelle und ihrem Aufbau vertraut: Wer hat die Daten gesammelt und in welchem Kontext publiziert? Was für Informationen finden sich im ```ICRATES_CATALOGUE``` und wie sind sie mit den anderen Tabellen wie ```ICRATES_LOCATION``` verknüpft?  \n",
    "\n",
    "Wir können den Datensatz direkt aus dem Internet herunterladen:"
   ]
  },
  {
   "cell_type": "code",
   "execution_count": 1,
   "metadata": {},
   "outputs": [
    {
     "name": "stderr",
     "output_type": "stream",
     "text": [
      "/home/dmanik/venvs/teaching/lib/python3.5/site-packages/IPython/core/interactiveshell.py:2728: DtypeWarning: Columns (15,32,34) have mixed types. Specify dtype option on import or set low_memory=False.\n",
      "  interactivity=interactivity, compiler=compiler, result=result)\n"
     ]
    },
    {
     "data": {
      "text/html": [
       "<div>\n",
       "<style scoped>\n",
       "    .dataframe tbody tr th:only-of-type {\n",
       "        vertical-align: middle;\n",
       "    }\n",
       "\n",
       "    .dataframe tbody tr th {\n",
       "        vertical-align: top;\n",
       "    }\n",
       "\n",
       "    .dataframe thead th {\n",
       "        text-align: right;\n",
       "    }\n",
       "</style>\n",
       "<table border=\"1\" class=\"dataframe\">\n",
       "  <thead>\n",
       "    <tr style=\"text-align: right;\">\n",
       "      <th></th>\n",
       "      <th>ICRATES_ID</th>\n",
       "      <th>Publication_ID</th>\n",
       "      <th>Deposit_ID</th>\n",
       "      <th>Location_ID</th>\n",
       "      <th>Location_specific</th>\n",
       "      <th>Fabric_ID</th>\n",
       "      <th>Fabric</th>\n",
       "      <th>Fabric_Uncertain</th>\n",
       "      <th>Standard_Form_ID</th>\n",
       "      <th>Standard_Form_Publication_Uncertain</th>\n",
       "      <th>...</th>\n",
       "      <th>Epigraphic_Anepigraphic</th>\n",
       "      <th>Complete</th>\n",
       "      <th>Graffito_Reading</th>\n",
       "      <th>Reading_Uncertain</th>\n",
       "      <th>Location_of_Graffito</th>\n",
       "      <th>Comment_Remarks_Graffito</th>\n",
       "      <th>Bibliographic_Reference_Parallels</th>\n",
       "      <th>Comment_Remarks</th>\n",
       "      <th>General_Shape</th>\n",
       "      <th>Function</th>\n",
       "    </tr>\n",
       "  </thead>\n",
       "  <tbody>\n",
       "    <tr>\n",
       "      <th>0</th>\n",
       "      <td>1</td>\n",
       "      <td>328.0</td>\n",
       "      <td>1705.0</td>\n",
       "      <td>40.0</td>\n",
       "      <td>Assos</td>\n",
       "      <td>51.0</td>\n",
       "      <td>ESC</td>\n",
       "      <td>0</td>\n",
       "      <td>1180.0</td>\n",
       "      <td>0</td>\n",
       "      <td>...</td>\n",
       "      <td>NaN</td>\n",
       "      <td>NaN</td>\n",
       "      <td>NaN</td>\n",
       "      <td>NaN</td>\n",
       "      <td>NaN</td>\n",
       "      <td>NaN</td>\n",
       "      <td>NaN</td>\n",
       "      <td>-</td>\n",
       "      <td>NaN</td>\n",
       "      <td>NaN</td>\n",
       "    </tr>\n",
       "    <tr>\n",
       "      <th>1</th>\n",
       "      <td>2</td>\n",
       "      <td>328.0</td>\n",
       "      <td>1705.0</td>\n",
       "      <td>40.0</td>\n",
       "      <td>Assos</td>\n",
       "      <td>51.0</td>\n",
       "      <td>ESC</td>\n",
       "      <td>0</td>\n",
       "      <td>1180.0</td>\n",
       "      <td>0</td>\n",
       "      <td>...</td>\n",
       "      <td>NaN</td>\n",
       "      <td>NaN</td>\n",
       "      <td>NaN</td>\n",
       "      <td>NaN</td>\n",
       "      <td>NaN</td>\n",
       "      <td>NaN</td>\n",
       "      <td>NaN</td>\n",
       "      <td>-</td>\n",
       "      <td>NaN</td>\n",
       "      <td>NaN</td>\n",
       "    </tr>\n",
       "    <tr>\n",
       "      <th>2</th>\n",
       "      <td>3</td>\n",
       "      <td>328.0</td>\n",
       "      <td>1705.0</td>\n",
       "      <td>40.0</td>\n",
       "      <td>Assos</td>\n",
       "      <td>51.0</td>\n",
       "      <td>ESC</td>\n",
       "      <td>0</td>\n",
       "      <td>1180.0</td>\n",
       "      <td>0</td>\n",
       "      <td>...</td>\n",
       "      <td>NaN</td>\n",
       "      <td>NaN</td>\n",
       "      <td>NaN</td>\n",
       "      <td>NaN</td>\n",
       "      <td>NaN</td>\n",
       "      <td>NaN</td>\n",
       "      <td>NaN</td>\n",
       "      <td>-</td>\n",
       "      <td>NaN</td>\n",
       "      <td>NaN</td>\n",
       "    </tr>\n",
       "    <tr>\n",
       "      <th>3</th>\n",
       "      <td>4</td>\n",
       "      <td>328.0</td>\n",
       "      <td>1705.0</td>\n",
       "      <td>40.0</td>\n",
       "      <td>Assos</td>\n",
       "      <td>51.0</td>\n",
       "      <td>ESC</td>\n",
       "      <td>0</td>\n",
       "      <td>1180.0</td>\n",
       "      <td>0</td>\n",
       "      <td>...</td>\n",
       "      <td>NaN</td>\n",
       "      <td>NaN</td>\n",
       "      <td>NaN</td>\n",
       "      <td>NaN</td>\n",
       "      <td>NaN</td>\n",
       "      <td>NaN</td>\n",
       "      <td>NaN</td>\n",
       "      <td>-</td>\n",
       "      <td>NaN</td>\n",
       "      <td>NaN</td>\n",
       "    </tr>\n",
       "    <tr>\n",
       "      <th>4</th>\n",
       "      <td>5</td>\n",
       "      <td>328.0</td>\n",
       "      <td>1705.0</td>\n",
       "      <td>40.0</td>\n",
       "      <td>Assos</td>\n",
       "      <td>51.0</td>\n",
       "      <td>ESC</td>\n",
       "      <td>0</td>\n",
       "      <td>1180.0</td>\n",
       "      <td>0</td>\n",
       "      <td>...</td>\n",
       "      <td>NaN</td>\n",
       "      <td>NaN</td>\n",
       "      <td>NaN</td>\n",
       "      <td>NaN</td>\n",
       "      <td>NaN</td>\n",
       "      <td>NaN</td>\n",
       "      <td>NaN</td>\n",
       "      <td>-</td>\n",
       "      <td>NaN</td>\n",
       "      <td>NaN</td>\n",
       "    </tr>\n",
       "  </tbody>\n",
       "</table>\n",
       "<p>5 rows × 60 columns</p>\n",
       "</div>"
      ],
      "text/plain": [
       "   ICRATES_ID  Publication_ID  Deposit_ID  Location_ID Location_specific  \\\n",
       "0           1           328.0      1705.0         40.0             Assos   \n",
       "1           2           328.0      1705.0         40.0             Assos   \n",
       "2           3           328.0      1705.0         40.0             Assos   \n",
       "3           4           328.0      1705.0         40.0             Assos   \n",
       "4           5           328.0      1705.0         40.0             Assos   \n",
       "\n",
       "   Fabric_ID Fabric  Fabric_Uncertain  Standard_Form_ID  \\\n",
       "0       51.0    ESC                 0            1180.0   \n",
       "1       51.0    ESC                 0            1180.0   \n",
       "2       51.0    ESC                 0            1180.0   \n",
       "3       51.0    ESC                 0            1180.0   \n",
       "4       51.0    ESC                 0            1180.0   \n",
       "\n",
       "   Standard_Form_Publication_Uncertain  ... Epigraphic_Anepigraphic  Complete  \\\n",
       "0                                    0  ...                     NaN       NaN   \n",
       "1                                    0  ...                     NaN       NaN   \n",
       "2                                    0  ...                     NaN       NaN   \n",
       "3                                    0  ...                     NaN       NaN   \n",
       "4                                    0  ...                     NaN       NaN   \n",
       "\n",
       "   Graffito_Reading  Reading_Uncertain  Location_of_Graffito  \\\n",
       "0               NaN                NaN                   NaN   \n",
       "1               NaN                NaN                   NaN   \n",
       "2               NaN                NaN                   NaN   \n",
       "3               NaN                NaN                   NaN   \n",
       "4               NaN                NaN                   NaN   \n",
       "\n",
       "  Comment_Remarks_Graffito Bibliographic_Reference_Parallels Comment_Remarks  \\\n",
       "0                      NaN                               NaN               -   \n",
       "1                      NaN                               NaN               -   \n",
       "2                      NaN                               NaN               -   \n",
       "3                      NaN                               NaN               -   \n",
       "4                      NaN                               NaN               -   \n",
       "\n",
       "  General_Shape  Function  \n",
       "0           NaN       NaN  \n",
       "1           NaN       NaN  \n",
       "2           NaN       NaN  \n",
       "3           NaN       NaN  \n",
       "4           NaN       NaN  \n",
       "\n",
       "[5 rows x 60 columns]"
      ]
     },
     "execution_count": 1,
     "metadata": {},
     "output_type": "execute_result"
    }
   ],
   "source": [
    "# Bibliotheken zum Laden von Daten aus dem Internet\n",
    "import requests \n",
    "import io\n",
    "\n",
    "# die URL unter der der Datensatz zu finden ist\n",
    "pfad_database = \"https://archaeologydataservice.ac.uk/catalogue/adsdata/arch-3268-1/dissemination/csv/\"\n",
    "\n",
    "# die Dateinamen der einzelnen Dateien\n",
    "name_catalogue = \"ICRATES_CATALOGUE.csv\"\n",
    "\n",
    "# lies die Information von der in der URL hinterlegten Website aus\n",
    "# diesmal geben wir das encoding schon an dieser Stelle an\n",
    "antwort_catalogue = requests.get(pfad_database + name_catalogue).content\n",
    "inhalt_catalogue = io.StringIO(antwort_catalogue.decode('ISO-8859-1'))\n",
    "\n",
    "# lade die Daten in ein DataFrame und zeige die ersten paar Zeilen an\n",
    "import pandas as pd\n",
    "catalogue = pd.read_csv(inhalt_catalogue)\n",
    "catalogue.head()"
   ]
  },
  {
   "cell_type": "markdown",
   "metadata": {},
   "source": [
    "**B.** Lade auch die anderen zur Datenbasis gehörenden Tabellen wie oben (oder von Hand) herunter.  \n",
    "<font color='green'>**HINWEIS:** Du kannst die Tabellen mit der Funktion ```DataFrame.to_csv()``` lokal speichern (Funktionsweise siehe [Dokumentation](https://pandas.pydata.org/pandas-docs/stable/reference/api/pandas.DataFrame.to_csv.html). </font>"
   ]
  },
  {
   "cell_type": "markdown",
   "metadata": {},
   "source": [
    "[Anfang](#top)"
   ]
  },
  {
   "cell_type": "markdown",
   "metadata": {},
   "source": [
    "<a name=\"daten_erkunden\"></a>2. Daten erkunden & bereinigen\n",
    "---\n",
    "Zu Beginn möchten wir ein paar grundlegende Dinge über den Datensatz herausfinden: z.B. die enthaltene Information in den Spalten und die Anzahl der Einträge.\n",
    "Die Namen der Spalten eines DataFrame lassen sich über die Variable ```columns``` des DataFrames ansehen:"
   ]
  },
  {
   "cell_type": "code",
   "execution_count": 2,
   "metadata": {},
   "outputs": [],
   "source": [
    "catalogue.to_csv(\"data/ICRATES_CATALOGUE.csv\")"
   ]
  },
  {
   "cell_type": "code",
   "execution_count": 3,
   "metadata": {},
   "outputs": [
    {
     "data": {
      "text/plain": [
       "Index(['ICRATES_ID', 'Publication_ID', 'Deposit_ID', 'Location_ID',\n",
       "       'Location_specific', 'Fabric_ID', 'Fabric', 'Fabric_Uncertain',\n",
       "       'Standard_Form_ID', 'Standard_Form_Publication_Uncertain',\n",
       "       'Standard_Form_ICRATES', 'OCK_ID', 'OCK_Number_Uncertain', 'LRP_ID',\n",
       "       'LRP_Stamp_Publication_Uncertain', 'Standard_LRP_Stamp_ICRATES',\n",
       "       'Catalogue_Number', 'Illustration', 'Pages', 'Min_Rim_Diameter_mm',\n",
       "       'Max_Rim_Diameter_mm', 'Min_Base_Diameter_mm', 'Max_Base_Diameter_mm',\n",
       "       'Min_Height_mm', 'Max_Height_mm', 'Fragment', 'Specific_Shape',\n",
       "       'Rouletting', 'Place_of_Rouletting', 'Moulded', 'Stamped',\n",
       "       'Epigraphic_Anepigraphic_Empty', 'Retrograde_Ligature',\n",
       "       'Place_of_Stamped_Decoration', 'Potters_Stamp', 'Suggested_Reading',\n",
       "       'Stamp_Shape', 'Applique', 'Place_of_Applique', 'Gouged', 'Sanded',\n",
       "       'Painted', 'Incised', 'Repaired', 'Glazed', 'Barbotine', 'Burnished',\n",
       "       'Combed', 'Description_of_Decoration', 'Graffito',\n",
       "       'Epigraphic_Anepigraphic', 'Complete', 'Graffito_Reading',\n",
       "       'Reading_Uncertain', 'Location_of_Graffito', 'Comment_Remarks_Graffito',\n",
       "       'Bibliographic_Reference_Parallels', 'Comment_Remarks', 'General_Shape',\n",
       "       'Function'],\n",
       "      dtype='object')"
      ]
     },
     "execution_count": 3,
     "metadata": {},
     "output_type": "execute_result"
    }
   ],
   "source": [
    "# eine Liste der im DataFrame \"catalogue\" enthaltenen Spalten\n",
    "catalogue.columns"
   ]
  },
  {
   "cell_type": "markdown",
   "metadata": {},
   "source": [
    "In einem DataFrame können wir auf eine bestimmte Spalte mit ihrem Namen zugreifen:"
   ]
  },
  {
   "cell_type": "code",
   "execution_count": 4,
   "metadata": {},
   "outputs": [
    {
     "data": {
      "text/plain": [
       "0          Assos\n",
       "1          Assos\n",
       "2          Assos\n",
       "3          Assos\n",
       "4          Assos\n",
       "5          Assos\n",
       "6          Assos\n",
       "7          Assos\n",
       "8          Assos\n",
       "9          Assos\n",
       "10         Assos\n",
       "11         Assos\n",
       "12         Assos\n",
       "13         Assos\n",
       "14         Assos\n",
       "15         Assos\n",
       "16         Assos\n",
       "17         Assos\n",
       "18         Assos\n",
       "19         Assos\n",
       "20         Assos\n",
       "21         Assos\n",
       "22         Assos\n",
       "23         Assos\n",
       "24         Assos\n",
       "25         Assos\n",
       "26         Assos\n",
       "27         Assos\n",
       "28         Assos\n",
       "29         Assos\n",
       "          ...   \n",
       "33909    Knossos\n",
       "33910    Knossos\n",
       "33911    Knossos\n",
       "33912    Knossos\n",
       "33913    Knossos\n",
       "33914    Knossos\n",
       "33915    Knossos\n",
       "33916    Knossos\n",
       "33917    Knossos\n",
       "33918    Knossos\n",
       "33919    Knossos\n",
       "33920    Knossos\n",
       "33921    Knossos\n",
       "33922    Knossos\n",
       "33923    Knossos\n",
       "33924    Knossos\n",
       "33925    Knossos\n",
       "33926    Knossos\n",
       "33927    Knossos\n",
       "33928    Knossos\n",
       "33929    Knossos\n",
       "33930    Knossos\n",
       "33931    Knossos\n",
       "33932    Knossos\n",
       "33933    Knossos\n",
       "33934    Knossos\n",
       "33935    Knossos\n",
       "33936    Knossos\n",
       "33937    Knossos\n",
       "33938    Knossos\n",
       "Name: Location_specific, Length: 33939, dtype: object"
      ]
     },
     "execution_count": 4,
     "metadata": {},
     "output_type": "execute_result"
    }
   ],
   "source": [
    "# zeigt die Spalte mit dem Namen \"Location_specific\" im DataFrame \n",
    "# \"tweets_troll_raw\" an\n",
    "catalogue.Location_specific"
   ]
  },
  {
   "cell_type": "markdown",
   "metadata": {},
   "source": [
    "Mit der Funktion ```unique()``` lassen sich die einzigartigen Einträge in einer Spalte herausfinden:"
   ]
  },
  {
   "cell_type": "code",
   "execution_count": 5,
   "metadata": {
    "scrolled": false
   },
   "outputs": [
    {
     "data": {
      "text/plain": [
       "array(['Assos', 'Antiocheia ad Orontem', 'Constantinople', 'Patras',\n",
       "       'Athens', 'Aigeira', 'Sparta', 'Olympia', 'Eretria', 'Veloukovo',\n",
       "       'Delphi', 'Delos', 'Butrint', 'Corinth', 'Argos', 'Zeugma',\n",
       "       'Tarsos', 'Stobi', nan, 'MS001', 'MS007', 'MS008', 'MS009',\n",
       "       'MS010', 'MS013', 'MS017', 'MS019', 'MS020', 'MS025', 'MS051',\n",
       "       'MS052', 'MS053', 'MS054', 'Isthmia', 'Kenchreai', 'Marades (6)',\n",
       "       'Mylopotamos (15)', 'Roukounas (18)', 'Fotimari (24)',\n",
       "       'Roukounas (25)', 'Eisodei tis Theotokou kai Ayios Petros (26)',\n",
       "       'Mavrou (31)', 'Vourkari (33)', 'Vourkari (42)', 'Vourkari (43)',\n",
       "       'Ayia Varvara (45)', 'Larna (51)', 'Diaseli Otzia (55)',\n",
       "       'Diaseli Otzia (56)', 'Otzias (62)', 'Otzias (63)', 'Otzias (64)',\n",
       "       'Apamea', 'Resafa', 'Aizanoi', 'Samosata', 'Kommos', 'Amygdalea',\n",
       "       'Diakopion', 'Glyfada', 'Kallion', 'Kallithea', 'Kallydon',\n",
       "       'Koniakos', 'Maladrino', 'Sykea', 'Tolophon', 'Karamildan',\n",
       "       'Maroni Petrera', 'MP.24', 'B29iv', 'B29ii', 'Lidar H_yék',\n",
       "       'Agioi Pandes', 'Palai-83E-126', 'Palaipaphos Area', 'Palai-86E-2',\n",
       "       'Palai-83E-67', 'Paphos', 'Knossos', 'Palai-83E-124',\n",
       "       'Palai-86E-1', 'Palai-79X-1', 'Palai-79D-10', 'Palai-83E-68',\n",
       "       'Palai-86K-4', 'Palai-86E-126', 'Palai-79D-9', 'Palai-80E-48',\n",
       "       'Palai-80E-4', 'Palai-86D-22', 'Palai-86E-24', 'Palai-83E-20',\n",
       "       'Palai-86D-59', 'Palai-86E-68', 'Palai-79X-2', 'Palai-83E-130',\n",
       "       'Palai-86E-5', 'Palai-80E-30', 'Palai-86E-4', 'Palai-80E-28',\n",
       "       'Palai-83D-58', 'Palai-83E-128', 'Palai-83D-23', 'Palai-86D-16',\n",
       "       'Palai-80E-41', 'Palai-83D-27', 'Palai-80E-22', 'Palai-86K-10',\n",
       "       'Palai-79D-12', 'Palai-83E-53', 'Palai-80X-8', 'Palai-79D-7',\n",
       "       'Palai-83E-18', 'Palai-83E-63', 'Palai-83X-7', 'Palai-83E-26',\n",
       "       'Palai-80E-30.6', 'Palai-83E-4', 'Palai-79D-4', 'Palai-83D-11',\n",
       "       'Palai-86E-3', 'Palai-83E-127', 'Palai-83E-44', 'Palai-83E-106',\n",
       "       'Palai-83E-59', 'Palai-80E-53.4', 'Palai-83E-105',\n",
       "       'Palai-83E-20.12', 'Palai-80E-47', 'Palai-83D-54', 'Palai-86D-48',\n",
       "       'Palai-80X-12', 'Palai-80X-21', 'Palai-80E-6', 'Palai-86K-13',\n",
       "       'Palai-79D-1', 'Palai-83E-61', 'Palai-86D-34', 'Palai-86D-36',\n",
       "       'Palai-86D-23', 'Palai-80E-53', 'Palai-86D-50', 'Palai-86D-24',\n",
       "       'Palai-80E-53.1', 'Palai-86D-20', 'Palai-83E-6', 'Palai-83D-56',\n",
       "       'Palai-86D-47', 'Palai-83E-16', 'Palai-83D-35', 'Palai-80E-25.2',\n",
       "       'Palai-83E-125', 'Palai-80X-9', 'Palai-83E-123', 'Palai-83E-79',\n",
       "       'Palai-79X-5', 'Palai-86X-1', 'Palai-80E-58', 'Palai-86E-30',\n",
       "       'Palai-86D-17', 'Palai-00D-17', 'Palai-86E-21', 'Palai-00X-13',\n",
       "       'Palai-86D-54', 'Palai-80E-53.6', 'Palai-80X-27',\n",
       "       'Palai-80E-53.30', 'Palai-00D-7', 'Epiphaneia', 'Leukos Limen',\n",
       "       'Tel Anafa', 'Halikarnassos', 'Gortyn', 'Kopetra', 'Berytus',\n",
       "       'Porsuk', 'Yassi Ada shipwreck', 'CN 3', 'Apollonia', 'Pylos',\n",
       "       'Panayia Ematousa', 'Emporio', 'Emporio-Pindakas', 'Kourion',\n",
       "       'Gadara', 'Ké\\x8dék Burnaz', 'Asea Valley', 'Phalasarna',\n",
       "       'Kythera', 'Alahan', 'Alexandreia', 'Priene', 'Troia/Ilion',\n",
       "       'Labraunda', 'Tenos', 'Apollo Smintheion', 'Domuztepe', 'Pinar_zé',\n",
       "       '_unur', 'Karatepe-Saridéz', 'Asagi-Dikenli', 'Danakaya',\n",
       "       'Myoupolis/Oinoe', 'Gyphtokastro', 'Ashkelon', 'Perge',\n",
       "       'Jerusalem', 'Nessana', 'Ammata', 'Tanagra', 'Scythopolis',\n",
       "       'Kululu', 'Xanthos', 'Caesarea Maritima', 'Notion', 'Halieis',\n",
       "       'Didyma', 'Amathous', 'MeroÇ', 'Gebel Barkal', 'Carthage', 'IS3',\n",
       "       'APh2', 'SP1B', 'PN3:1', 'OL7W', 'KK1', 'TM10', 'Zone 4', 'SK5',\n",
       "       'PP1', 'AC1', 'SP1A', 'APh3', 'OL1B', 'OL2', 'PI2', 'SK1', 'SK7',\n",
       "       'TM2', 'TM4', 'VN1', 'Karan\\x80g', 'Cyrene', 'Thespiae',\n",
       "       'Samaria-Sebaste', 'Arsameia am Nymphaios', 'Eski K_hta',\n",
       "       'Ephesos', \"Oumm el-'Amed\", 'Arikamedu', 'Methymna',\n",
       "       'Halabiyya-Zenobia', 'ST141', 'Sultantepe', 'Tel Mevorakh',\n",
       "       'Oboda', 'Sumhuram', \"Timna'\", 'APh8', 'OL3', 'OL6', 'TM1',\n",
       "       'VK6/8', 'OL9', 'IM3', 'SP2', 'X-17', 'SP3', 'PV3', 'AC5',\n",
       "       'Antiocheia ad Pisidiam', 'Damaskos', 'Byblos', \"Horvat 'Eleq\",\n",
       "       'Dor', 'Qusair as-Saila', 'Soura', \"Qal'at Gabbar\", 'Berenike',\n",
       "       'Nikopolis', 'Sabratha', 'Berenice', 'Samos (Heraion)', 'Sardis',\n",
       "       'Dura Europos', 'Jericho', 'Tell Aar', 'El Aareime', 'Aazaz',\n",
       "       'Tell Akhtareine', 'Aleppo', 'Tell Archaq', 'Tell Ares',\n",
       "       'Tell Bahouerte', 'Tell Banat', 'Tell Bararhite', 'Beka',\n",
       "       'Tell Berne (West)', 'Tell Bouhaira', 'Tell Fafine',\n",
       "       'Tell Hailane', 'Hammamet', 'Haouar enn Nahr', 'Tell Haourane',\n",
       "       'Tell Ilbol', 'Tell Jaadiyeh', 'Jekke', 'Tell el Jijane',\n",
       "       'Tell Kadrich', 'Tell Kaffine', 'Tell Kassiha', 'Tell Khibi',\n",
       "       'Tell Mouslimiye', 'Tell Nef', 'Nisbine', 'Tell Noubbol',\n",
       "       'Ouardiye', 'Qara Keupru', 'Qara Mazraa', 'Tell Qaramel',\n",
       "       'Qol Srouj', 'Tell el Qoubli', 'Rasm', 'Tell Sidjaraz',\n",
       "       'Tell Sourane', 'Tourhleu', 'Yel Baba', 'Tell Zaitane',\n",
       "       'Khirbet ez Souaine', 'Tell Aarane', 'Bab', 'Tell Botnan',\n",
       "       'Tell Maksour', 'Tell Rahhal', 'Tell Soussiane', \"Tell Rifa'at\",\n",
       "       'Thasos', 'Abdera', 'Amphipolis', 'Gindaros', 'Kepia', 'Limassol',\n",
       "       'Petra', 'Pella', 'Azotos (Ashdod)', 'Tell Aajar',\n",
       "       \"Palaityr/Tell 'Arqa\", 'Kozluca', 'Hippos-Sussita',\n",
       "       'ORO01-90/3 Vlastos/Hydragogeio', 'ORO01-91/9 Ayios Nikolaos',\n",
       "       'ORO01-91/14', 'ORO01-91/18', 'ORO01-93/6 Alepovouni', 'Nabratein',\n",
       "       'Samothrace-Hieron', 'Kition', 'Qana', 'Salamis/Constantia',\n",
       "       \"'Ain Dara\", 'Kallirhoe', \"'Ein Najila\", 'Shaqif ed-Deir',\n",
       "       'Deir Abu Mghar', \"Wadi Fra'iya\", 'Wadi Jibal', 'Sigilliya',\n",
       "       'Sufsufa', 'Et-Tur', 'Abu Jiffa', 'Serbal', 'Khirbet ed-Deir',\n",
       "       'Ramat Rahel', 'Kydonia', 'Siphnos', 'Philadelphia', 'Pergamon',\n",
       "       'Marina el-Alamein', 'Kastro Tigani', 'D_h\\x8fs',\n",
       "       'Tall _eh Hamad/Magdala', 'Upper Zohar', 'Hammath Tiberias',\n",
       "       'Rehovot-in-the-Negev', 'Myos Hormos', 'Tanagra-TS2',\n",
       "       'Tanagra-TS3', 'Umm el-Tlel', 'Jebel Khalid', 'Kabirion',\n",
       "       'Tell Atrib', 'Tanagra-TS7', 'Tanagra-TS26', 'Tanagra-TS32',\n",
       "       'Tanagra-TSG', 'Tanagra-TS17', 'Tanagra-TS31', 'Tanagra-TS21',\n",
       "       'Athis (Neocaesareia _ Qasrin _ Dibsi Faraj)', 'Babylon', 'Uruk',\n",
       "       'Amorion', 'Seleukeia ad Tigrim', 'Axum', 'Magen', 'Taucheira',\n",
       "       'Diokaesareia', 'Mutatio Heldua', 'Porphyreon', 'Tanagra-TS18',\n",
       "       'Kellia', 'En Boqeq', 'Iasos', 'Hammat Gader', \"Sountha (Sa'neh)\",\n",
       "       'Ed-Dur', 'Doliche', 'Pelusium', 'Khirbet al-Karak', 'Muziris',\n",
       "       'Adulis-Diodoros Island', 'Adulis-Dese A', 'Adulis-Dese B',\n",
       "       'Adulis', 'Kanatha', 'Lepcis Magna', 'Altinum', 'Minturnae',\n",
       "       'Tanagra-TS4', 'Tanagra-TS9', 'Tanagra-TS28', 'Tanagra-TS39',\n",
       "       'Tanagra-TS42', 'Tanagra-Transects', 'Gerasa', 'Phlius',\n",
       "       'NEM90-Site 7', 'Tell Fakhariyah', 'Mampsis',\n",
       "       'BERB96-Findspot 8/Tract 31', 'BERB96-Findspot 517',\n",
       "       'BERB96-Findspot 425', 'BERB96-Findspot 420/Tract 443',\n",
       "       'BERB96-Findspots 500-522', 'Antikythera shipwreck',\n",
       "       'Ayios Philon', 'El-Haditha', 'SWC67-A.3', 'SWC67-A.6',\n",
       "       'SWC67-B.4', 'SWC67-B.5', 'SWC67-B.6', 'SWC67-B.7', 'Palaipaphos',\n",
       "       'Malta', 'Tell Keisan', 'MS055', 'MS056', 'MS057', 'MS060',\n",
       "       'MS062', 'MS067', 'MS069', 'MS101', 'MS109', 'MS112', 'MS114',\n",
       "       'MS116', 'MS117', 'MS120', 'MS122', 'MS124', 'MS204', 'MS205',\n",
       "       'MS209', 'MS210', 'MS211', 'MS214', 'MS216', 'MS218', 'Jalame',\n",
       "       'Anemorion', 'Phaselis shipwreck', 'BEY002',\n",
       "       'EPH-Hanghaus 2-Wohneinheit 4', 'EPH-Stiegengasse3-Kanal',\n",
       "       'EPH-Alytarchenstoa', 'EPH-Kuretenstrasse', 'EPH-Heroon',\n",
       "       'EPH-Oktogon', 'KOU-EpiscopalPrecinct',\n",
       "       'EPH-Hanghaus 2-Wohneinheit 1', 'Halos', 'Mycenae', 'Ilion'],\n",
       "      dtype=object)"
      ]
     },
     "execution_count": 5,
     "metadata": {},
     "output_type": "execute_result"
    }
   ],
   "source": [
    "# eine Liste der Fundorte, wobei jeder Fundort genau einmal\n",
    "# vorkommt\n",
    "catalogue.Location_specific.unique()"
   ]
  },
  {
   "cell_type": "markdown",
   "metadata": {},
   "source": [
    "[Anfang](#top)"
   ]
  },
  {
   "cell_type": "markdown",
   "metadata": {},
   "source": [
    "### Aufgaben\n",
    "**A.** Wie heißen die Spalten in den Datensätzen ```ICRATES_LOCATION```, ```ICRATES_DEPOSIT``` und ```ICRATES_STANDARD_FORM``` und welche Informationen enthalten sie?  \n",
    "**B.** Sieh dir ein paar Einträge aus dem Katalog an, indem du auf den Index zugreifst.  \n",
    "**C.** Wieviele Fundstücke und Fundorte enthält der Katalog? Was ist die mittlere Anzahl an Fundstücken je Fundort?  \n",
    "**D.** Die Spalte ```Min_Rim_Diameter_mm``` enthält eine Abschätzung des Umfanges der Tongefäße am oberen Rand. Berechne den mittleren Umfang und den Median des Umfangs. Berechne auch den Modus des Umfangs. Wie kannst du dir das Ergebnis erklären?  \n",
    "**E.** Manche Spalten enthalten nur sporadisch Einträge und sind sonst leer. Fehlende Einträge werden im ```DataFrame``` als ```NaN``` ([not a number](https://de.wikipedia.org/wiki/NaN)) dargestellt. Spalten wie ```Gouged``` oder ```Glazed``` enthalten Nullen und Einsen. Wie sind diese zu interpretieren? \n",
    "\n",
    "Die Anzahl der ```NaN```-Einträge lässt sich mit der Funktion ```isna()``` herausfinden:"
   ]
  },
  {
   "cell_type": "code",
   "execution_count": 6,
   "metadata": {},
   "outputs": [
    {
     "data": {
      "text/plain": [
       "23137"
      ]
     },
     "execution_count": 6,
     "metadata": {},
     "output_type": "execute_result"
    }
   ],
   "source": [
    "# in der Spalte \"Min_Rim_Diameter_mm\" des Katalogs z.B.\n",
    "# gibt es 23137 fehlende Einträge\n",
    "catalogue.Min_Rim_Diameter_mm.isna().sum()"
   ]
  },
  {
   "cell_type": "markdown",
   "metadata": {},
   "source": [
    "**F. (Optional)** Die Nullen in der Spalte ```Min_Rim_Diameter_mm``` sind offensichtlich als \"fehlender Eintrag\" gemeint. Ersetze alle Nullen in dieser Spalte durch ```NaN```. Speichere die bereinigte Datei mit der Funktion ```catalogue.to_csv()``` ab. Wie verändert sich der Mittelwert, Median und Modus der Spalte?  \n",
    "<font color='green'>**HINWEIS:** dafür musst du das \"NaN-Objekt\" das von der Bibliothek ```NumPy``` bereit gestellt wird benutzen:</font> "
   ]
  },
  {
   "cell_type": "code",
   "execution_count": 7,
   "metadata": {},
   "outputs": [
    {
     "data": {
      "text/plain": [
       "nan"
      ]
     },
     "execution_count": 7,
     "metadata": {},
     "output_type": "execute_result"
    }
   ],
   "source": [
    "import numpy as np\n",
    "np.nan"
   ]
  },
  {
   "cell_type": "markdown",
   "metadata": {},
   "source": [
    "**G.** Finde für jede Spalte des Katalogs heraus, wieviele (fehlende) Einträge es in der Spalte gibt. Erstelle ein neues ```DataFrame```, das jeweils den Spaltennamen und die Anzahl der Einträge enthält.  \n",
    "**H.** Welche Spalten haben keine fehlenden Einträge? In welchen Spalten ist am wenigsten Information enthalten?  \n",
    "**I. (Optional)** Erstelle mit Hilfe der Bibliothek ```matplotlib.pyplot``` ein sog. \"bar-chart\", in dem die Anzahl der fehlenden Einträge je Spalte visualisiert sind.  \n",
    "<font color='green'>**HINWEIS:** [Hier](https://pythonspot.com/matplotlib-bar-chart/) findest du ein Beispiel für ein bar-chart und [Hier](https://matplotlib.org/api/_as_gen/matplotlib.pyplot.bar.html) ist die Funktion ```bar()``` dokumentiert. </font>"
   ]
  },
  {
   "cell_type": "markdown",
   "metadata": {},
   "source": [
    "[Anfang](#top)"
   ]
  }
 ],
 "metadata": {
  "jupytext": {
   "formats": "ipynb,py:light"
  },
  "kernelspec": {
   "display_name": "Python 3",
   "language": "python",
   "name": "python3"
  },
  "language_info": {
   "codemirror_mode": {
    "name": "ipython",
    "version": 3
   },
   "file_extension": ".py",
   "mimetype": "text/x-python",
   "name": "python",
   "nbconvert_exporter": "python",
   "pygments_lexer": "ipython3",
   "version": "3.6.5"
  }
 },
 "nbformat": 4,
 "nbformat_minor": 2
}
