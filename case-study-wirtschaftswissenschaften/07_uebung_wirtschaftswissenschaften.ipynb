{
 "cells": [
  {
   "cell_type": "markdown",
   "metadata": {},
   "source": [
    "_Lizenz: Das folgende Lehrmaterial kann unter einer [CC-BY-SA 4.0](https://creativecommons.org/licenses/by/4.0/legalcode) Lizenz frei verwendet, verbreitet und modifiziert werden._   \n",
    " _Authoren: Jana Lasser (jana.lasser@ds.mpg.de)_  \n",
    " _Das Lehrmaterial wurde im Zuge des Projektes \"Daten Lesen Lernen\", gefördert vom Stifterverband und der Heinz Nixdorf Stiftung erstellt._"
   ]
  },
  {
   "cell_type": "markdown",
   "metadata": {},
   "source": [
    "# Übung 07 - Wirtschaftswissenschaften: Mittelwert, Median und Standardabweichung\n",
    "### Praktische Hinweise\n",
    "$\\rightarrow$ Übungen sind dafür gedacht, dass ihr sie euch daheim anseht und versucht, ein paar Aufgaben selbst zu lösen. In den Tutorien könnt ihr euch weiter mit dem Lösungen der Aufgaben beschäftigen und dabei Hilfe von den Tutor*innen bekommen.  \n",
    "\n",
    "$\\rightarrow$ Wenn ein Fehler auftritt:\n",
    "1. Fehlermeldung _lesen_ und _verstehen_\n",
    "2. Versuchen, selbst eine Lösung zu finden ($\\rightarrow$ hier findet das Lernen statt!)\n",
    "3. Das Problem googlen (Stichwort: Stackoverflow) oder den/die Nachbar*in fragen\n",
    "4. Tutor*in fragen\n",
    "\n",
    "$\\rightarrow$ Unter <font color='green'>**HINWEIS**</font> werden Hinweise gegeben, die für die Lösung der Aufgabe hilfreich sind und oftmals auch weiterführende Informationen zur Aufgabe liefern.\n",
    "\n",
    "$\\rightarrow$ Mit **(Optional)** gekennzeichnete Übungsteile sind für besonders schnelle Menschen :-)."
   ]
  },
  {
   "cell_type": "markdown",
   "metadata": {},
   "source": [
    "<a name=\"top\"></a>Inhalt\n",
    "---\n",
    "In diesem Tutorium berechnen wir ein paar einfache Kenngrößen wie den Mittelwert, Median und die Standardabweichung der Streikanzahl für ein spezifisches Jahr und versuchen, Trends aus dem Datensatz mit politischen Entwicklungen oder historischen Ereignissen zu erklären. \n",
    "\n",
    "Das Tutorial gliedert sich in\n",
    "* [Mittelwert und Median](#mittelwert_und_median)\n",
    "* [Standardabweichung](#standardabweichung)"
   ]
  },
  {
   "cell_type": "markdown",
   "metadata": {},
   "source": [
    "<a name=\"deskriptive_statistik\"></a>1. Mittelwert und Median\n",
    "---\n",
    "Zur Vorbereitung laden wir die Streik-Tabelle in ein ```DataFrame```:"
   ]
  },
  {
   "cell_type": "code",
   "execution_count": 1,
   "metadata": {
    "collapsed": true,
    "run_control": {
     "frozen": false,
     "read_only": false
    }
   },
   "outputs": [],
   "source": [
    "# die Funktion \"join()\" brauchen wir, um Pfade im Dateisystem\n",
    "# sicher zu handhaben\n",
    "from os.path import join\n",
    "\n",
    "# die Bibliothek Pandas liefert uns das DataFrame\n",
    "import pandas as pd\n",
    "\n",
    "# Dateiname \n",
    "fname_streiks = 'NumberofLabourDisputes_Broad.xlsx'\n",
    "\n",
    "# lade die Datei als pandas DataFrame\n",
    "streiks = pd.read_excel(join(\"daten/\", fname_streiks), sheet_name='Data Long Format')"
   ]
  },
  {
   "cell_type": "markdown",
   "metadata": {},
   "source": [
    "Die mittlere Anzahl an Streiks in einem spezifischen Jahr lässt sich folgendermaßen berechnen:"
   ]
  },
  {
   "cell_type": "code",
   "execution_count": 2,
   "metadata": {
    "run_control": {
     "frozen": false,
     "read_only": false
    }
   },
   "outputs": [
    {
     "name": "stdout",
     "output_type": "stream",
     "text": [
      "Die mittlere Anzahl an Streiks im Jahr 1990 ist 259.4.\n"
     ]
    }
   ],
   "source": [
    "jahr = 1990\n",
    "filter_jahr = streiks['year'] == jahr\n",
    "streiks_jahr = streiks[filter_jahr]['value']\n",
    "mean = streiks_jahr.mean()\n",
    "print('Die mittlere Anzahl an Streiks im Jahr {} ist {:1.1f}.'.format(jahr, mean))"
   ]
  },
  {
   "cell_type": "markdown",
   "metadata": {},
   "source": [
    "**A.** Berechne die mittlere Anzahl an Streiks über alle Länder (für die Daten vorhanden sind) für die Zeitspanne zwischen 1970 und 2006. Speichere die Ergebnisse in einer Liste. Berechne auch den Median und speichere ihn ebenfalls in einer Liste.   \n",
    "**B.** Visualisiere die mittlere Anzahl der Streiks in der oben genannten Zeitspanne als Zeitreihe (wie in Aufgabe **1.B**). Achte auf Titel, Achsenbeschriftungen und Legende.  \n",
    "**C.** Visualisisere Verlauf des Mittelwerts und des Medians in der selben Abbildung. Was ist der Unterschied zwischen Mittelwert und Median und wie wirkt er sich auf deine Ergebnisse aus?  \n",
    "**D.** Was für einem Trend folgt die mittlere Anzahl der Streiks? Lässt sich der selbe Trend in der Anzahl der streikenden Arbeiter und/oder der Anzahl der gestreikten Tage wiederfinden?  \n",
    "**E.** Erstelle ein neues DataFrame, das für jedes Jahr die mittlere Anzahl an Streiks, Streiktagen und streikenden Arbeitern enthält. Speichere das DataFrame.   \n",
    "**F.** Visualisiere die Anzahl der Streikenden bzw. die Anzahl der Streiktage pro Streik über die Zeit. Was für Trends kannst du ausmachen?  \n",
    "**G. (optional)** Stelle eine Hypothese auf, um die Trends, die du in Aufgabe **2.F** gesehen hast, zu erklären. Was für Daten würdest du benötigen, um diese Hypothese zu überprüfen? Wo könntest du solche Daten finden?  \n",
    "**H. (optional)** Beschaffe die Daten aus Aufgabe **2.G** und versuche, sie mit mit den Daten zu den Streiks zusammenzuführen. Versuche, deine Hypothese mit einer Visualisierung zu belegen oder zu widerlegen."
   ]
  },
  {
   "cell_type": "markdown",
   "metadata": {},
   "source": [
    "[Anfang](#top)"
   ]
  },
  {
   "cell_type": "markdown",
   "metadata": {},
   "source": [
    "<a name=\"standardabweichung\"></a>2. Standardabweichung\n",
    "---\n",
    "Die Standardabweichung der Streiks in einem Spezifischen Jahr lässt sich wie folgt berechnen:"
   ]
  },
  {
   "cell_type": "code",
   "execution_count": 3,
   "metadata": {
    "run_control": {
     "frozen": false,
     "read_only": false
    }
   },
   "outputs": [
    {
     "name": "stdout",
     "output_type": "stream",
     "text": [
      "Die Standardabweichung der Streiks im Jahr 1990 ist 459.5.\n"
     ]
    }
   ],
   "source": [
    "jahr = 1990\n",
    "filter_jahr = streiks['year'] == jahr\n",
    "streiks_jahr = streiks[filter_jahr]['value']\n",
    "std = streiks_jahr.std()\n",
    "print('Die Standardabweichung der Streiks im Jahr {} ist {:1.1f}.'.format(jahr, std))"
   ]
  },
  {
   "cell_type": "markdown",
   "metadata": {},
   "source": [
    "**A.** Was ist die Bedeutung der Standardabweichung für den Streik-Datensatz?  \n",
    "**B.** Berechne die Standardabweichung der Streik-Anzahl für den Zeitraum zwischen 1970 und 2006 (wie den Mittelwert in Aufgabe **2.A**) und füge die Werte zum in Aufgabe **2.E** erstellten DataFrame hinzu.  \n",
    "**C.** Visualisiere den zeitlichen Verlauf der Standardabweichung in der selben Abbildung wie den Mittelwert und den Median. Was fällt dir auf?  \n",
    "**D. (optional)** Berechne Mittelwert und Standardabweichung der Streiks für den Zeitraum 1970 bis 2006, aber diesmal für einzelne Länder (also: was ist die mittlere Anzahl an Streiks in Frankreich im Zeitraum zwischen 1970 und 2006?).  \n",
    "**E. (optional)** Welche Länder haben im Zeitraum zwischen 1970 und 2006 mehr als 30 Datenpunkte? Welches dieser Länder hat die niedrigste mittlere Streikanzahl und welches die höchste? Welches Land hat die niedrigste Standardabweichung der Anzahl der Streiks, welches die höchste? Lassen sich diese Ergebnisse mit politischen Entwicklungen erklären? Wenn du ein Unternehmer wärst, was wäre dir wichtiger: eine niedrige mittlere Anzahl an Streiks oder eine niedrige Standardabweichung? Warum?"
   ]
  },
  {
   "cell_type": "markdown",
   "metadata": {},
   "source": [
    "[Anfang](#top)"
   ]
  }
 ],
 "metadata": {
  "jupytext": {
   "encoding": "# -*- coding: utf-8 -*-"
  },
  "kernelspec": {
   "display_name": "Python 3",
   "language": "python",
   "name": "python3"
  },
  "language_info": {
   "codemirror_mode": {
    "name": "ipython",
    "version": 3
   },
   "file_extension": ".py",
   "mimetype": "text/x-python",
   "name": "python",
   "nbconvert_exporter": "python",
   "pygments_lexer": "ipython3",
   "version": "3.6.1"
  },
  "latex_envs": {
   "bibliofile": "biblio.bib",
   "cite_by": "apalike",
   "current_citInitial": 1,
   "eqLabelWithNumbers": true,
   "eqNumInitial": 0
  },
  "toc": {
   "toc_cell": false,
   "toc_number_sections": true,
   "toc_threshold": 6,
   "toc_window_display": false
  }
 },
 "nbformat": 4,
 "nbformat_minor": 2
}
