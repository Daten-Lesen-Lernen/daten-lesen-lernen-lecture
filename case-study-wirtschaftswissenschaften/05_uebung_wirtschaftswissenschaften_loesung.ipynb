{
 "cells": [
  {
   "cell_type": "markdown",
   "metadata": {},
   "source": [
    "_Lizenz: Das folgende Lehrmaterial kann unter einer [CC-BY-SA 4.0](https://creativecommons.org/licenses/by/4.0/legalcode) Lizenz frei verwendet, verbreitet und modifiziert werden._   \n",
    " _Authoren: Jana Lasser (jana.lasser@ds.mpg.de)_  \n",
    " _Das Lehrmaterial wurde im Zuge des Projektes \"Daten Lesen Lernen\", gefördert vom Stifterverband und der Heinz Nixdorf Stiftung erstellt._"
   ]
  },
  {
   "cell_type": "markdown",
   "metadata": {},
   "source": [
    "# Lösung zu Übung 05 - Wirtschaftswissenschaften: Daten finden, einlesen und mit Histogrammen visualisieren"
   ]
  },
  {
   "cell_type": "markdown",
   "metadata": {},
   "source": [
    "<a name=\"top\"></a>Inhalt\n",
    "---\n",
    "* [Daten beschaffen](#daten_beschaffen)\n",
    "* [Daten erkunden](#daten_erkunden)\n",
    "* [Histogramme](#histogramme)  "
   ]
  },
  {
   "cell_type": "markdown",
   "metadata": {},
   "source": [
    "<a name=\"daten_beschaffen\"></a>1. Daten beschaffen\n",
    "---\n",
    "**1.A** Die Datensätze stammen aus einer Datenbank, die historische Datensätze aus den Wirtschafts- Politik- und Sozialwissenschaften zusammenstellt, kuratiert und veröffentlicht. Beispiele sind Datensätze zu\n",
    "* Landwirtschaft\n",
    "* Demographie\n",
    "* Geschlechtergerechtigkeit\n",
    "* Produktion\n",
    "* Arbeit (die wir in dieser Übung verwenden)  \n",
    "\n",
    "Die hier verwendeten Daten zur Arbeit wurden von Sjaak van der Velden vom [International Institute of Social History](https://iisg.amsterdam/en) zusammengestellt. Als Quellen der Daten werden angegeben:\n",
    "* ILO Yearbook of Labour Statistics 1935-1989 (1927-1989)\n",
    "* http://laborsta.ilo.org/ (1969-2008)\n",
    "* http://www.ilo.org/ilostat/faces/home/ (1969-2013)"
   ]
  },
  {
   "cell_type": "code",
   "execution_count": 23,
   "metadata": {
    "collapsed": true
   },
   "outputs": [],
   "source": [
    "%matplotlib inline"
   ]
  },
  {
   "cell_type": "code",
   "execution_count": 24,
   "metadata": {},
   "outputs": [
    {
     "data": {
      "text/html": [
       "<div>\n",
       "<style scoped>\n",
       "    .dataframe tbody tr th:only-of-type {\n",
       "        vertical-align: middle;\n",
       "    }\n",
       "\n",
       "    .dataframe tbody tr th {\n",
       "        vertical-align: top;\n",
       "    }\n",
       "\n",
       "    .dataframe thead th {\n",
       "        text-align: right;\n",
       "    }\n",
       "</style>\n",
       "<table border=\"1\" class=\"dataframe\">\n",
       "  <thead>\n",
       "    <tr style=\"text-align: right;\">\n",
       "      <th></th>\n",
       "      <th>ccode</th>\n",
       "      <th>country name</th>\n",
       "      <th>1500</th>\n",
       "      <th>1501</th>\n",
       "      <th>1502</th>\n",
       "      <th>1503</th>\n",
       "      <th>1504</th>\n",
       "      <th>1505</th>\n",
       "      <th>1506</th>\n",
       "      <th>1507</th>\n",
       "      <th>...</th>\n",
       "      <th>2006</th>\n",
       "      <th>2007</th>\n",
       "      <th>2008</th>\n",
       "      <th>2009</th>\n",
       "      <th>2010</th>\n",
       "      <th>2011</th>\n",
       "      <th>2012</th>\n",
       "      <th>2013</th>\n",
       "      <th>2014</th>\n",
       "      <th>2015</th>\n",
       "    </tr>\n",
       "  </thead>\n",
       "  <tbody>\n",
       "    <tr>\n",
       "      <td>0</td>\n",
       "      <td>4.0</td>\n",
       "      <td>Afghanistan</td>\n",
       "      <td>NaN</td>\n",
       "      <td>NaN</td>\n",
       "      <td>NaN</td>\n",
       "      <td>NaN</td>\n",
       "      <td>NaN</td>\n",
       "      <td>NaN</td>\n",
       "      <td>NaN</td>\n",
       "      <td>NaN</td>\n",
       "      <td>...</td>\n",
       "      <td>NaN</td>\n",
       "      <td>NaN</td>\n",
       "      <td>NaN</td>\n",
       "      <td>NaN</td>\n",
       "      <td>NaN</td>\n",
       "      <td>NaN</td>\n",
       "      <td>NaN</td>\n",
       "      <td>NaN</td>\n",
       "      <td>NaN</td>\n",
       "      <td>NaN</td>\n",
       "    </tr>\n",
       "    <tr>\n",
       "      <td>1</td>\n",
       "      <td>8.0</td>\n",
       "      <td>Albania</td>\n",
       "      <td>NaN</td>\n",
       "      <td>NaN</td>\n",
       "      <td>NaN</td>\n",
       "      <td>NaN</td>\n",
       "      <td>NaN</td>\n",
       "      <td>NaN</td>\n",
       "      <td>NaN</td>\n",
       "      <td>NaN</td>\n",
       "      <td>...</td>\n",
       "      <td>NaN</td>\n",
       "      <td>NaN</td>\n",
       "      <td>NaN</td>\n",
       "      <td>NaN</td>\n",
       "      <td>NaN</td>\n",
       "      <td>NaN</td>\n",
       "      <td>NaN</td>\n",
       "      <td>NaN</td>\n",
       "      <td>NaN</td>\n",
       "      <td>NaN</td>\n",
       "    </tr>\n",
       "    <tr>\n",
       "      <td>2</td>\n",
       "      <td>12.0</td>\n",
       "      <td>Algeria</td>\n",
       "      <td>NaN</td>\n",
       "      <td>NaN</td>\n",
       "      <td>NaN</td>\n",
       "      <td>NaN</td>\n",
       "      <td>NaN</td>\n",
       "      <td>NaN</td>\n",
       "      <td>NaN</td>\n",
       "      <td>NaN</td>\n",
       "      <td>...</td>\n",
       "      <td>NaN</td>\n",
       "      <td>NaN</td>\n",
       "      <td>NaN</td>\n",
       "      <td>NaN</td>\n",
       "      <td>NaN</td>\n",
       "      <td>NaN</td>\n",
       "      <td>NaN</td>\n",
       "      <td>NaN</td>\n",
       "      <td>NaN</td>\n",
       "      <td>NaN</td>\n",
       "    </tr>\n",
       "    <tr>\n",
       "      <td>3</td>\n",
       "      <td>20.0</td>\n",
       "      <td>Andorra</td>\n",
       "      <td>NaN</td>\n",
       "      <td>NaN</td>\n",
       "      <td>NaN</td>\n",
       "      <td>NaN</td>\n",
       "      <td>NaN</td>\n",
       "      <td>NaN</td>\n",
       "      <td>NaN</td>\n",
       "      <td>NaN</td>\n",
       "      <td>...</td>\n",
       "      <td>NaN</td>\n",
       "      <td>NaN</td>\n",
       "      <td>NaN</td>\n",
       "      <td>NaN</td>\n",
       "      <td>NaN</td>\n",
       "      <td>NaN</td>\n",
       "      <td>NaN</td>\n",
       "      <td>NaN</td>\n",
       "      <td>NaN</td>\n",
       "      <td>NaN</td>\n",
       "    </tr>\n",
       "    <tr>\n",
       "      <td>4</td>\n",
       "      <td>24.0</td>\n",
       "      <td>Angola</td>\n",
       "      <td>NaN</td>\n",
       "      <td>NaN</td>\n",
       "      <td>NaN</td>\n",
       "      <td>NaN</td>\n",
       "      <td>NaN</td>\n",
       "      <td>NaN</td>\n",
       "      <td>NaN</td>\n",
       "      <td>NaN</td>\n",
       "      <td>...</td>\n",
       "      <td>NaN</td>\n",
       "      <td>NaN</td>\n",
       "      <td>NaN</td>\n",
       "      <td>NaN</td>\n",
       "      <td>NaN</td>\n",
       "      <td>NaN</td>\n",
       "      <td>NaN</td>\n",
       "      <td>NaN</td>\n",
       "      <td>NaN</td>\n",
       "      <td>NaN</td>\n",
       "    </tr>\n",
       "  </tbody>\n",
       "</table>\n",
       "<p>5 rows × 518 columns</p>\n",
       "</div>"
      ],
      "text/plain": [
       "   ccode country name  1500  1501  1502  1503  1504  1505  1506  1507  ...  \\\n",
       "0    4.0  Afghanistan   NaN   NaN   NaN   NaN   NaN   NaN   NaN   NaN  ...   \n",
       "1    8.0      Albania   NaN   NaN   NaN   NaN   NaN   NaN   NaN   NaN  ...   \n",
       "2   12.0      Algeria   NaN   NaN   NaN   NaN   NaN   NaN   NaN   NaN  ...   \n",
       "3   20.0      Andorra   NaN   NaN   NaN   NaN   NaN   NaN   NaN   NaN  ...   \n",
       "4   24.0       Angola   NaN   NaN   NaN   NaN   NaN   NaN   NaN   NaN  ...   \n",
       "\n",
       "   2006  2007  2008  2009  2010  2011  2012  2013  2014  2015  \n",
       "0   NaN   NaN   NaN   NaN   NaN   NaN   NaN   NaN   NaN   NaN  \n",
       "1   NaN   NaN   NaN   NaN   NaN   NaN   NaN   NaN   NaN   NaN  \n",
       "2   NaN   NaN   NaN   NaN   NaN   NaN   NaN   NaN   NaN   NaN  \n",
       "3   NaN   NaN   NaN   NaN   NaN   NaN   NaN   NaN   NaN   NaN  \n",
       "4   NaN   NaN   NaN   NaN   NaN   NaN   NaN   NaN   NaN   NaN  \n",
       "\n",
       "[5 rows x 518 columns]"
      ]
     },
     "execution_count": 24,
     "metadata": {},
     "output_type": "execute_result"
    }
   ],
   "source": [
    "# 1.B\n",
    "# um die Tabellen in DataFrames zu speichern, importieren wir\n",
    "# die Bibliothek Pandas\n",
    "import pandas as pd\n",
    "\n",
    "# um Pfade zu Dateien in unserem System besser managen zu können,\n",
    "# importieren wir die Funktion join() der Bibliothek os.path\n",
    "# \"join\" fügt Teile eines Pfades zusammen und benutzt dabei den\n",
    "# richtigen Trenner (back-slash unter Windows, forward-slash\n",
    "# unter Unix. Das ist praktisch, weil man sosnt die Pfad-Namen auf\n",
    "# jedem Betriebssystem umschreiben müsste\n",
    "from os.path import join\n",
    "\n",
    "fname_streiks = 'NumberofLabourDisputes_Broad.xlsx'\n",
    "fname_arbeiter = 'NumberofWorkersInvolvedinLabourDisputes_Broad.xlsx'\n",
    "fname_tage = 'NumberofDaysLostinLabourDisputes_Broad.xlsx'\n",
    "\n",
    "streiks = pd.read_excel(join(\"daten/\", fname_streiks))\n",
    "arbeiter = pd.read_excel(join(\"daten/\", fname_arbeiter))\n",
    "tage = pd.read_excel(join(\"daten/\", fname_tage))\n",
    "\n",
    "streiks.head()"
   ]
  },
  {
   "cell_type": "code",
   "execution_count": 25,
   "metadata": {},
   "outputs": [
    {
     "name": "stdout",
     "output_type": "stream",
     "text": [
      "Index(['ccode', 'country name', '1500', '1501', '1502', '1503', '1504', '1505',\n",
      "       '1506', '1507',\n",
      "       ...\n",
      "       '2006', '2007', '2008', '2009', '2010', '2011', '2012', '2013', '2014',\n",
      "       '2015'],\n",
      "      dtype='object', length=518)\n"
     ]
    }
   ],
   "source": [
    "# 1.C\n",
    "spalten = streiks.columns\n",
    "print(spalten)"
   ]
  },
  {
   "cell_type": "markdown",
   "metadata": {},
   "source": [
    "* Die erste Spalte ```ccode``` enthält eine Ganzzahl, der den [Ländercode](https://en.wikipedia.org/wiki/ISO_3166-1) darstellt. \n",
    "* Die zweite Spalte ```country name``` enhält den Namen des Landes als String. \n",
    "* Alle weiteren Spalten enthalten die anzahl der Streiks in einem bestimmten Jahr."
   ]
  },
  {
   "cell_type": "markdown",
   "metadata": {},
   "source": [
    "[Anfang](#top)"
   ]
  },
  {
   "cell_type": "markdown",
   "metadata": {},
   "source": [
    "<a name=\"daten_beschaffen\"></a>2. Daten erkunden\n",
    "---"
   ]
  },
  {
   "cell_type": "code",
   "execution_count": 26,
   "metadata": {},
   "outputs": [
    {
     "name": "stdout",
     "output_type": "stream",
     "text": [
      "Zeile mit Index 0\n",
      "ccode                     4\n",
      "country name    Afghanistan\n",
      "1500                    NaN\n",
      "1501                    NaN\n",
      "1502                    NaN\n",
      "                   ...     \n",
      "2011                    NaN\n",
      "2012                    NaN\n",
      "2013                    NaN\n",
      "2014                    NaN\n",
      "2015                    NaN\n",
      "Name: 0, Length: 518, dtype: object\n",
      "\n",
      "Zeile mit Index 100\n",
      "ccode                 807\n",
      "country name    Macedonia\n",
      "1500                  NaN\n",
      "1501                  NaN\n",
      "1502                  NaN\n",
      "                  ...    \n",
      "2011                  NaN\n",
      "2012                  NaN\n",
      "2013                  NaN\n",
      "2014                  NaN\n",
      "2015                  NaN\n",
      "Name: 100, Length: 518, dtype: object\n",
      "\n",
      "Letzte Zeile\n",
      "ccode                716\n",
      "country name    Zimbabwe\n",
      "1500                 NaN\n",
      "1501                 NaN\n",
      "1502                 NaN\n",
      "                  ...   \n",
      "2011                 NaN\n",
      "2012                 NaN\n",
      "2013                 NaN\n",
      "2014                 NaN\n",
      "2015                 NaN\n",
      "Name: 197, Length: 518, dtype: object\n"
     ]
    }
   ],
   "source": [
    "# 2.A\n",
    "print('Zeile mit Index 0')\n",
    "print(streiks.loc[0])\n",
    "print()\n",
    "print('Zeile mit Index 100')\n",
    "print(streiks.loc[100])\n",
    "print()\n",
    "print('Letzte Zeile')\n",
    "print(streiks.loc[len(streiks) - 1])"
   ]
  },
  {
   "cell_type": "code",
   "execution_count": 27,
   "metadata": {},
   "outputs": [
    {
     "name": "stdout",
     "output_type": "stream",
     "text": [
      "Startzeitpunkt: 1500 \n",
      "Endzeitpunkt: 2015\n"
     ]
    }
   ],
   "source": [
    "# 2.B\n",
    "# alle spalten bis auf die ersten beiden enthalten Jahreszahlen\n",
    "zeit = spalten[2:]\n",
    "\n",
    "# der Start des im Datensatz enthaltenen Zeitraums ist der erste\n",
    "# Eintrag in der Liste mit den Zeiten, der Endzeitpunkt der letzte\n",
    "# Eintrag\n",
    "print('Startzeitpunkt: {} \\nEndzeitpunkt: {}'\\\n",
    "     .format(zeit[0], zeit[-1]))"
   ]
  },
  {
   "cell_type": "code",
   "execution_count": 28,
   "metadata": {},
   "outputs": [
    {
     "name": "stdout",
     "output_type": "stream",
     "text": [
      "Der Streik-Datensatz enthält Einträge für 195 verschiedene Länder\n",
      "Der Datensatz enthält 198 Einträge\n"
     ]
    },
    {
     "data": {
      "text/html": [
       "<div>\n",
       "<style scoped>\n",
       "    .dataframe tbody tr th:only-of-type {\n",
       "        vertical-align: middle;\n",
       "    }\n",
       "\n",
       "    .dataframe tbody tr th {\n",
       "        vertical-align: top;\n",
       "    }\n",
       "\n",
       "    .dataframe thead th {\n",
       "        text-align: right;\n",
       "    }\n",
       "</style>\n",
       "<table border=\"1\" class=\"dataframe\">\n",
       "  <thead>\n",
       "    <tr style=\"text-align: right;\">\n",
       "      <th></th>\n",
       "      <th>ccode</th>\n",
       "      <th>country name</th>\n",
       "      <th>1500</th>\n",
       "      <th>1501</th>\n",
       "      <th>1502</th>\n",
       "      <th>1503</th>\n",
       "      <th>1504</th>\n",
       "      <th>1505</th>\n",
       "      <th>1506</th>\n",
       "      <th>1507</th>\n",
       "      <th>...</th>\n",
       "      <th>2006</th>\n",
       "      <th>2007</th>\n",
       "      <th>2008</th>\n",
       "      <th>2009</th>\n",
       "      <th>2010</th>\n",
       "      <th>2011</th>\n",
       "      <th>2012</th>\n",
       "      <th>2013</th>\n",
       "      <th>2014</th>\n",
       "      <th>2015</th>\n",
       "    </tr>\n",
       "  </thead>\n",
       "  <tbody>\n",
       "    <tr>\n",
       "      <td>30</td>\n",
       "      <td>NaN</td>\n",
       "      <td>Canada</td>\n",
       "      <td>NaN</td>\n",
       "      <td>NaN</td>\n",
       "      <td>NaN</td>\n",
       "      <td>NaN</td>\n",
       "      <td>NaN</td>\n",
       "      <td>NaN</td>\n",
       "      <td>NaN</td>\n",
       "      <td>NaN</td>\n",
       "      <td>...</td>\n",
       "      <td>NaN</td>\n",
       "      <td>NaN</td>\n",
       "      <td>NaN</td>\n",
       "      <td>NaN</td>\n",
       "      <td>NaN</td>\n",
       "      <td>NaN</td>\n",
       "      <td>NaN</td>\n",
       "      <td>NaN</td>\n",
       "      <td>NaN</td>\n",
       "      <td>NaN</td>\n",
       "    </tr>\n",
       "    <tr>\n",
       "      <td>31</td>\n",
       "      <td>124.0</td>\n",
       "      <td>Canada</td>\n",
       "      <td>NaN</td>\n",
       "      <td>NaN</td>\n",
       "      <td>NaN</td>\n",
       "      <td>NaN</td>\n",
       "      <td>NaN</td>\n",
       "      <td>NaN</td>\n",
       "      <td>NaN</td>\n",
       "      <td>NaN</td>\n",
       "      <td>...</td>\n",
       "      <td>151.0</td>\n",
       "      <td>206.0</td>\n",
       "      <td>187.0</td>\n",
       "      <td>NaN</td>\n",
       "      <td>NaN</td>\n",
       "      <td>148.0</td>\n",
       "      <td>282.0</td>\n",
       "      <td>NaN</td>\n",
       "      <td>NaN</td>\n",
       "      <td>NaN</td>\n",
       "    </tr>\n",
       "    <tr>\n",
       "      <td>116</td>\n",
       "      <td>NaN</td>\n",
       "      <td>Morocco</td>\n",
       "      <td>NaN</td>\n",
       "      <td>NaN</td>\n",
       "      <td>NaN</td>\n",
       "      <td>NaN</td>\n",
       "      <td>NaN</td>\n",
       "      <td>NaN</td>\n",
       "      <td>NaN</td>\n",
       "      <td>NaN</td>\n",
       "      <td>...</td>\n",
       "      <td>NaN</td>\n",
       "      <td>NaN</td>\n",
       "      <td>NaN</td>\n",
       "      <td>NaN</td>\n",
       "      <td>NaN</td>\n",
       "      <td>NaN</td>\n",
       "      <td>NaN</td>\n",
       "      <td>NaN</td>\n",
       "      <td>NaN</td>\n",
       "      <td>NaN</td>\n",
       "    </tr>\n",
       "    <tr>\n",
       "      <td>117</td>\n",
       "      <td>504.0</td>\n",
       "      <td>Morocco</td>\n",
       "      <td>NaN</td>\n",
       "      <td>NaN</td>\n",
       "      <td>NaN</td>\n",
       "      <td>NaN</td>\n",
       "      <td>NaN</td>\n",
       "      <td>NaN</td>\n",
       "      <td>NaN</td>\n",
       "      <td>NaN</td>\n",
       "      <td>...</td>\n",
       "      <td>NaN</td>\n",
       "      <td>NaN</td>\n",
       "      <td>NaN</td>\n",
       "      <td>NaN</td>\n",
       "      <td>NaN</td>\n",
       "      <td>NaN</td>\n",
       "      <td>NaN</td>\n",
       "      <td>NaN</td>\n",
       "      <td>NaN</td>\n",
       "      <td>NaN</td>\n",
       "    </tr>\n",
       "    <tr>\n",
       "      <td>165</td>\n",
       "      <td>NaN</td>\n",
       "      <td>Sudan</td>\n",
       "      <td>NaN</td>\n",
       "      <td>NaN</td>\n",
       "      <td>NaN</td>\n",
       "      <td>NaN</td>\n",
       "      <td>NaN</td>\n",
       "      <td>NaN</td>\n",
       "      <td>NaN</td>\n",
       "      <td>NaN</td>\n",
       "      <td>...</td>\n",
       "      <td>NaN</td>\n",
       "      <td>NaN</td>\n",
       "      <td>NaN</td>\n",
       "      <td>NaN</td>\n",
       "      <td>NaN</td>\n",
       "      <td>NaN</td>\n",
       "      <td>NaN</td>\n",
       "      <td>NaN</td>\n",
       "      <td>NaN</td>\n",
       "      <td>NaN</td>\n",
       "    </tr>\n",
       "    <tr>\n",
       "      <td>166</td>\n",
       "      <td>729.0</td>\n",
       "      <td>Sudan</td>\n",
       "      <td>NaN</td>\n",
       "      <td>NaN</td>\n",
       "      <td>NaN</td>\n",
       "      <td>NaN</td>\n",
       "      <td>NaN</td>\n",
       "      <td>NaN</td>\n",
       "      <td>NaN</td>\n",
       "      <td>NaN</td>\n",
       "      <td>...</td>\n",
       "      <td>NaN</td>\n",
       "      <td>NaN</td>\n",
       "      <td>NaN</td>\n",
       "      <td>NaN</td>\n",
       "      <td>NaN</td>\n",
       "      <td>NaN</td>\n",
       "      <td>NaN</td>\n",
       "      <td>NaN</td>\n",
       "      <td>NaN</td>\n",
       "      <td>NaN</td>\n",
       "    </tr>\n",
       "  </tbody>\n",
       "</table>\n",
       "<p>6 rows × 518 columns</p>\n",
       "</div>"
      ],
      "text/plain": [
       "     ccode country name  1500  1501  1502  1503  1504  1505  1506  1507  ...  \\\n",
       "30     NaN       Canada   NaN   NaN   NaN   NaN   NaN   NaN   NaN   NaN  ...   \n",
       "31   124.0       Canada   NaN   NaN   NaN   NaN   NaN   NaN   NaN   NaN  ...   \n",
       "116    NaN      Morocco   NaN   NaN   NaN   NaN   NaN   NaN   NaN   NaN  ...   \n",
       "117  504.0      Morocco   NaN   NaN   NaN   NaN   NaN   NaN   NaN   NaN  ...   \n",
       "165    NaN        Sudan   NaN   NaN   NaN   NaN   NaN   NaN   NaN   NaN  ...   \n",
       "166  729.0        Sudan   NaN   NaN   NaN   NaN   NaN   NaN   NaN   NaN  ...   \n",
       "\n",
       "      2006   2007   2008  2009  2010   2011   2012  2013  2014  2015  \n",
       "30     NaN    NaN    NaN   NaN   NaN    NaN    NaN   NaN   NaN   NaN  \n",
       "31   151.0  206.0  187.0   NaN   NaN  148.0  282.0   NaN   NaN   NaN  \n",
       "116    NaN    NaN    NaN   NaN   NaN    NaN    NaN   NaN   NaN   NaN  \n",
       "117    NaN    NaN    NaN   NaN   NaN    NaN    NaN   NaN   NaN   NaN  \n",
       "165    NaN    NaN    NaN   NaN   NaN    NaN    NaN   NaN   NaN   NaN  \n",
       "166    NaN    NaN    NaN   NaN   NaN    NaN    NaN   NaN   NaN   NaN  \n",
       "\n",
       "[6 rows x 518 columns]"
      ]
     },
     "execution_count": 28,
     "metadata": {},
     "output_type": "execute_result"
    }
   ],
   "source": [
    "# 2.C Duplikat-Suche\n",
    "# alle einzigartigen Einträge in der Spalte \"country name\"\n",
    "laender = streiks['country name'].unique()\n",
    "print('Der Streik-Datensatz enthält Einträge für {} verschiedene Länder'\\\n",
    "     .format(len(laender)))\n",
    "\n",
    "# die Länge (also Anzahl der Zeilen) im Datensatz\n",
    "anzahl_zeilen = len(streiks)\n",
    "print('Der Datensatz enthält {} Einträge'.format(anzahl_zeilen))\n",
    "\n",
    "# es muss also drei Einträge geben, die Duplikate sind!\n",
    "\n",
    "# um die Duplikate zu finden, benutzen wir die Funktion \"duplicated()\",\n",
    "# die das DataFrame mitliefert. Die Funktion gibt eine Maske (also eine\n",
    "# Liste von \"True\" und \"False\" Werten) zurück, die die Duplikate im\n",
    "# DataFrame markiert\n",
    "maske_duplikate = streiks.duplicated(subset='country name',keep=False)\n",
    "\n",
    "# die Duplikate können wir nun finden, indem wir mit dieser Maske filtern\n",
    "duplikate = streiks[maske_duplikate]\n",
    "duplikate.head(10)"
   ]
  },
  {
   "cell_type": "code",
   "execution_count": 29,
   "metadata": {},
   "outputs": [
    {
     "name": "stdout",
     "output_type": "stream",
     "text": [
      "Der erste Eintrag für Kanada enthält 1 Datenpunkt(e).\n",
      "Der zweite Eintrag für Kanada enthält 86 Datenpunkt(e).\n",
      "\n",
      "Der erste Eintrag für Marokko enthält 1 Datenpunkt(e).\n",
      "Der zweite Eintrag für Marokko enthält 51 Datenpunkt(e).\n",
      "\n",
      "Der erste Eintrag für Sudan enthält 1 Datenpunkt(e).\n",
      "Der zweite Eintrag für Sudan enthält 2 Datenpunkt(e).\n",
      "\n",
      "Einträge im gesäuberten DataFrame: 195\n",
      "Entfernte Einträge: 3\n"
     ]
    }
   ],
   "source": [
    "# 2.D Duplikat-Analyse\n",
    "\n",
    "# Anzahl aller Einträge in einer Zeile\n",
    "data_points = len(streiks.columns)\n",
    "\n",
    "# aus Aufgabe 2.B entnehmen wir, dass die Duplikate an den Indices\n",
    "# 30, 31 sowie 116, 117 und 165, 166 im DataFrame stehen\n",
    "\n",
    "# Kanada\n",
    "# errechne die Anzahl der Datenpunkte in Zeile 30\n",
    "kanaca1_data = data_points - streiks.loc[30].isna().sum()\n",
    "# errechne die Anzahl der Datenpunkte in Zeile 31\n",
    "kanaca2_data = data_points - streiks.loc[31].isna().sum()\n",
    "print('Der erste Eintrag für Kanada enthält {} Datenpunkt(e).'.format(kanaca1_data))\n",
    "print('Der zweite Eintrag für Kanada enthält {} Datenpunkt(e).'.format(kanaca2_data))\n",
    "\n",
    "# Marokko\n",
    "print() # Leerzeile\n",
    "marokko1_data = data_points - streiks.loc[116].isna().sum()\n",
    "marokko2_data = data_points - streiks.loc[117].isna().sum()\n",
    "print('Der erste Eintrag für Marokko enthält {} Datenpunkt(e).'.format(marokko1_data))\n",
    "print('Der zweite Eintrag für Marokko enthält {} Datenpunkt(e).'.format(marokko2_data))\n",
    "\n",
    "# Sudan\n",
    "print() # Leerzeile\n",
    "sudan1_data = data_points - streiks.loc[165].isna().sum()\n",
    "sudan2_data = data_points - streiks.loc[166].isna().sum()\n",
    "print('Der erste Eintrag für Sudan enthält {} Datenpunkt(e).'.format(sudan1_data))\n",
    "print('Der zweite Eintrag für Sudan enthält {} Datenpunkt(e).'.format(sudan2_data))\n",
    "\n",
    "# der zweite Eintrag scheint jeweils verlässlicher zu sein, da der erste\n",
    "# Eintrag außer dem Landesnamen keine Information enthält\n",
    "\n",
    "# entferne die Zeile mit Index 30, 116 und 166 aus dem DataFrame\n",
    "# im Folgenden arbeiten wir mit dem so bereinigten DataFrame weiter\n",
    "streiks_clean = streiks.drop([30, 116, 166])\n",
    "print()\n",
    "print('Einträge im gesäuberten DataFrame: {}'.format(len(streiks_clean)))\n",
    "print('Entfernte Einträge: {}'.format(len(streiks) - len(streiks_clean)))"
   ]
  },
  {
   "cell_type": "code",
   "execution_count": 30,
   "metadata": {},
   "outputs": [
    {
     "data": {
      "text/html": [
       "<div>\n",
       "<style scoped>\n",
       "    .dataframe tbody tr th:only-of-type {\n",
       "        vertical-align: middle;\n",
       "    }\n",
       "\n",
       "    .dataframe tbody tr th {\n",
       "        vertical-align: top;\n",
       "    }\n",
       "\n",
       "    .dataframe thead th {\n",
       "        text-align: right;\n",
       "    }\n",
       "</style>\n",
       "<table border=\"1\" class=\"dataframe\">\n",
       "  <thead>\n",
       "    <tr style=\"text-align: right;\">\n",
       "      <th></th>\n",
       "      <th>country name</th>\n",
       "      <th>data points</th>\n",
       "    </tr>\n",
       "  </thead>\n",
       "  <tbody>\n",
       "    <tr>\n",
       "      <td>0</td>\n",
       "      <td>Afghanistan</td>\n",
       "      <td>2</td>\n",
       "    </tr>\n",
       "    <tr>\n",
       "      <td>1</td>\n",
       "      <td>Albania</td>\n",
       "      <td>2</td>\n",
       "    </tr>\n",
       "    <tr>\n",
       "      <td>2</td>\n",
       "      <td>Algeria</td>\n",
       "      <td>26</td>\n",
       "    </tr>\n",
       "    <tr>\n",
       "      <td>3</td>\n",
       "      <td>Andorra</td>\n",
       "      <td>2</td>\n",
       "    </tr>\n",
       "    <tr>\n",
       "      <td>4</td>\n",
       "      <td>Angola</td>\n",
       "      <td>2</td>\n",
       "    </tr>\n",
       "  </tbody>\n",
       "</table>\n",
       "</div>"
      ],
      "text/plain": [
       "  country name  data points\n",
       "0  Afghanistan            2\n",
       "1      Albania            2\n",
       "2      Algeria           26\n",
       "3      Andorra            2\n",
       "4       Angola            2"
      ]
     },
     "execution_count": 30,
     "metadata": {},
     "output_type": "execute_result"
    }
   ],
   "source": [
    "# 2.E\n",
    "# Anzahl aller Einträge in einer Zeile\n",
    "data_points = len(streiks_clean.columns)\n",
    "\n",
    "# leere Liste zum Speichern der Einträge pro Land\n",
    "eintraege = []\n",
    "\n",
    "# iteriere über alle Zeilen des DataFrame\n",
    "# WICHTIG: da wir in Aufgabe 2.D das originale DataFrame\n",
    "# gefiltert und die Zeilen mit den Indices 30, 116 und 166\n",
    "# hinausgeworfen haben, ist der Zeilenindex nicht mehr \n",
    "# durchgängig, d.h. im DataFrame streiks_clean fehlen die\n",
    "# Indices 30, 116 und 166. Um Probleme bei der Iteration zu\n",
    "# vermeiden, verwenden wir die Funktion iterrows(), da diese\n",
    "# automatisch nur existierende Indices zurückliefert.\n",
    "for index, row in streiks_clean.iterrows():\n",
    "    leer = streiks_clean.loc[index].isna().sum()\n",
    "    eintraege.append(data_points - leer)\n",
    "\n",
    "# erstelle ein neues DataFrame mit zwei Spalten:\n",
    "# dem Landesnamen \"country name\" und der Anzahl an\n",
    "# Datenpunkten für jedes Land \"data points\"\n",
    "laender_eintraege = pd.DataFrame({'country name': streiks_clean['country name'],\\\n",
    "                                 'data points': eintraege})\n",
    "# zeite die ersten paar Einträge des neuen DataFrames an\n",
    "laender_eintraege.head()"
   ]
  },
  {
   "cell_type": "code",
   "execution_count": 31,
   "metadata": {},
   "outputs": [
    {
     "name": "stdout",
     "output_type": "stream",
     "text": [
      "Die maximale Anzahl an Einträgen für ein Land ist 89.\n",
      "Die folgenden Länder haben die maximale Anzahl an Einträgen:\n",
      "       country name  data points\n",
      "47          Denmark           89\n",
      "157    South Africa           89\n",
      "169          Sweden           89\n",
      "170     Switzerland           89\n",
      "188  United Kingdom           89\n",
      "189   United States           89\n",
      "\n",
      "Die minimale Anzahl an Einträgen für ein Land ist 1.\n",
      "Die folgenden Länder haben die minimale Anzahl an Einträgen:\n",
      "    country name  data points\n",
      "88        Kosovo            1\n",
      "165        Sudan            1\n"
     ]
    }
   ],
   "source": [
    "# 2.F\n",
    "### Maximum\n",
    "# was ist die maximale Anzahl der Einträge für ein Land?\n",
    "\n",
    "# berechne das Maximum in der Spalte \"data points\"\n",
    "max_info = laender_eintraege['data points'].max()\n",
    "print('Die maximale Anzahl an Einträgen für ein Land ist {}.'.\\\n",
    "     format(max_info))\n",
    "\n",
    "# finde den Index des Landes (oder der Länder)\n",
    "# mit den meisten Einträgen:\n",
    "\n",
    "# erstelle einen Filter, der die Länder mit der maximalen\n",
    "# Anzahl an Einträgen herausfiltert\n",
    "filter_max = laender_eintraege['data points'] == max_info\n",
    "# wende den Filter an\n",
    "max_info_land = laender_eintraege[filter_max]\n",
    "# diese Länder haben alle 89 Einträge\n",
    "print('Die folgenden Länder haben die maximale Anzahl an Einträgen:')\n",
    "print(max_info_land)\n",
    "\n",
    "### Minimum\n",
    "print()\n",
    "# was ist die minimale Anzahl der Einträge für ein Land?\n",
    "\n",
    "# berechne das Minimum in der Spalte \"data points\"\n",
    "min_info = laender_eintraege['data points'].min()\n",
    "print('Die minimale Anzahl an Einträgen für ein Land ist {}.'.\\\n",
    "     format(min_info))\n",
    "\n",
    "# finde den Index des Landes (oder der Länder)\n",
    "# mit den wenigsten Einträgen:\n",
    "\n",
    "# erstelle einen Filter, der die Länder mit der minimalen\n",
    "# Anzahl an Einträgen herausfiltert\n",
    "filter_min = laender_eintraege['data points'] == min_info\n",
    "# wende den Filter an\n",
    "min_info_land = laender_eintraege[filter_min]\n",
    "# diese Länder haben alle nur einen Eintrag\n",
    "print('Die folgenden Länder haben die minimale Anzahl an Einträgen:')\n",
    "print(min_info_land)"
   ]
  },
  {
   "cell_type": "code",
   "execution_count": 32,
   "metadata": {
    "collapsed": true
   },
   "outputs": [],
   "source": [
    "# 2.G\n",
    "# Anzahl aller Einträge in einer Spalte\n",
    "data_points = len(streiks_clean)\n",
    "\n",
    "# Spalten mit Jahreszahlen\n",
    "zeiten = list(streiks_clean.columns[2:])\n",
    "\n",
    "# leere Liste zum Speichern der Einträge pro Jahr\n",
    "eintraege = []\n",
    "\n",
    "# iteriere über alle Spalten des DataFrame, die eine\n",
    "# Jahreszahl enthalten\n",
    "for jahr in zeiten:\n",
    "    leer = streiks_clean[jahr].isna().sum()\n",
    "    eintraege.append(data_points - leer)\n",
    "\n",
    "# erstelle ein neues DataFrame mit zwei Spalten:\n",
    "# dem Jahr \"year\" und der Anzahl an\n",
    "# Datenpunkten für jedes Jahr \"data points\"\n",
    "jahre_eintraege = pd.DataFrame({'year': zeiten,\\\n",
    "                                 'data points': eintraege})\n",
    "# zeige die ersten paar Einträge des neuen DataFrames an\n",
    "jahre_eintraege.head()\n",
    "\n",
    "# die Einträge in der Spalte \"Jahr\" sind jetzt noch Strings,\n",
    "# da sie original Spaltennamen waren\n",
    "# Jahreszahlen sind aber Ganzzahlen, und als solche auch \n",
    "# wesentlich einfacher zu handhaben. Deswegen konvertieren\n",
    "# wir die Einträge in der Spalte \"yera\" noch zu Ganzzahlen\n",
    "# (also \"integer\"), indem wir die Funktion \"astype()\" des \n",
    "# DataFrames verwenden:\n",
    "jahre_eintraege['year'] = jahre_eintraege['year'].astype(int)"
   ]
  },
  {
   "cell_type": "code",
   "execution_count": 33,
   "metadata": {},
   "outputs": [
    {
     "data": {
      "image/png": "[encoded data removed]",
      "text/plain": [
       "<Figure size 432x288 with 1 Axes>"
      ]
     },
     "metadata": {},
     "output_type": "display_data"
    }
   ],
   "source": [
    "# 2.H\n",
    "# importiere die Bibliothek matplotlib.pyplot unter\n",
    "# dem Kürzel \"plt\"\n",
    "import matplotlib.pyplot as plt\n",
    "# mit diesem Kommando teilen wir dem Jupyter-Notebook mit,\n",
    "# dass es Grafiken direkt im Notebook anzeigen soll\n",
    "%matplotlib inline\n",
    "\n",
    "# erstelle eine einfache Visualisierung (lineplot) der Anzahl\n",
    "# an Datenpunkten über die Jahre\n",
    "plt.plot(jahre_eintraege['year'], jahre_eintraege['data points'])\n",
    "plt.ylabel('Anzahl Datenpunkte')\n",
    "plt.xlabel('Jahr')\n",
    "plt.title('Anzahl der Datenpunkte im Streik-Datensatz');"
   ]
  },
  {
   "cell_type": "markdown",
   "metadata": {},
   "source": [
    "**Trends:** \n",
    "* Es ist ein offensichtlich, dass Daten zu Streiks erst in der jüngeren Geschichte, also ab etwa 1910 verfügbar sind. Die Jahre vor 1910 beinhalten praktisch keine Datenpunkte. \n",
    "* Um den zweiten Weltkrieg herum, gibt es einen kleinen Einbruch in der Verfügbarkeit der Daten.\n",
    "* In der zweiten Hälfte des 20. Jahrhunderts ist die Datenlage relativ gut. Allerdings haben zu keinem Zeitpunkt mehr als 90 Länder gleichzeitig einen Eintrag (das ist weniger als die Hälfte der 195 Länder im Datensatz).\n",
    "* Ab 2010 bricht die Datenverfügbarkeit wieder ein. Dies könnte damit erklärt werden, dass die Daten zwar verfügbar sind, aber noch nicht in diesem Datensatz aggregiert werden konnten."
   ]
  },
  {
   "cell_type": "code",
   "execution_count": 34,
   "metadata": {},
   "outputs": [
    {
     "data": {
      "text/html": [
       "<div>\n",
       "<style scoped>\n",
       "    .dataframe tbody tr th:only-of-type {\n",
       "        vertical-align: middle;\n",
       "    }\n",
       "\n",
       "    .dataframe tbody tr th {\n",
       "        vertical-align: top;\n",
       "    }\n",
       "\n",
       "    .dataframe thead th {\n",
       "        text-align: right;\n",
       "    }\n",
       "</style>\n",
       "<table border=\"1\" class=\"dataframe\">\n",
       "  <thead>\n",
       "    <tr style=\"text-align: right;\">\n",
       "      <th></th>\n",
       "      <th>country name</th>\n",
       "      <th>data points</th>\n",
       "    </tr>\n",
       "  </thead>\n",
       "  <tbody>\n",
       "    <tr>\n",
       "      <td>188</td>\n",
       "      <td>United Kingdom</td>\n",
       "      <td>89</td>\n",
       "    </tr>\n",
       "    <tr>\n",
       "      <td>189</td>\n",
       "      <td>United States</td>\n",
       "      <td>89</td>\n",
       "    </tr>\n",
       "    <tr>\n",
       "      <td>47</td>\n",
       "      <td>Denmark</td>\n",
       "      <td>89</td>\n",
       "    </tr>\n",
       "    <tr>\n",
       "      <td>157</td>\n",
       "      <td>South Africa</td>\n",
       "      <td>89</td>\n",
       "    </tr>\n",
       "    <tr>\n",
       "      <td>170</td>\n",
       "      <td>Switzerland</td>\n",
       "      <td>89</td>\n",
       "    </tr>\n",
       "    <tr>\n",
       "      <td>169</td>\n",
       "      <td>Sweden</td>\n",
       "      <td>89</td>\n",
       "    </tr>\n",
       "    <tr>\n",
       "      <td>80</td>\n",
       "      <td>Israel</td>\n",
       "      <td>88</td>\n",
       "    </tr>\n",
       "    <tr>\n",
       "      <td>124</td>\n",
       "      <td>New Zealand</td>\n",
       "      <td>88</td>\n",
       "    </tr>\n",
       "    <tr>\n",
       "      <td>31</td>\n",
       "      <td>Canada</td>\n",
       "      <td>86</td>\n",
       "    </tr>\n",
       "    <tr>\n",
       "      <td>59</td>\n",
       "      <td>Finland</td>\n",
       "      <td>86</td>\n",
       "    </tr>\n",
       "    <tr>\n",
       "      <td>75</td>\n",
       "      <td>India</td>\n",
       "      <td>86</td>\n",
       "    </tr>\n",
       "    <tr>\n",
       "      <td>8</td>\n",
       "      <td>Australia</td>\n",
       "      <td>85</td>\n",
       "    </tr>\n",
       "    <tr>\n",
       "      <td>79</td>\n",
       "      <td>Ireland</td>\n",
       "      <td>84</td>\n",
       "    </tr>\n",
       "    <tr>\n",
       "      <td>83</td>\n",
       "      <td>Japan</td>\n",
       "      <td>83</td>\n",
       "    </tr>\n",
       "    <tr>\n",
       "      <td>137</td>\n",
       "      <td>Philippines</td>\n",
       "      <td>82</td>\n",
       "    </tr>\n",
       "    <tr>\n",
       "      <td>129</td>\n",
       "      <td>Norway</td>\n",
       "      <td>80</td>\n",
       "    </tr>\n",
       "    <tr>\n",
       "      <td>123</td>\n",
       "      <td>Netherlands</td>\n",
       "      <td>80</td>\n",
       "    </tr>\n",
       "    <tr>\n",
       "      <td>110</td>\n",
       "      <td>Mexico</td>\n",
       "      <td>79</td>\n",
       "    </tr>\n",
       "    <tr>\n",
       "      <td>161</td>\n",
       "      <td>Sri Lanka</td>\n",
       "      <td>77</td>\n",
       "    </tr>\n",
       "    <tr>\n",
       "      <td>35</td>\n",
       "      <td>Chile</td>\n",
       "      <td>74</td>\n",
       "    </tr>\n",
       "  </tbody>\n",
       "</table>\n",
       "</div>"
      ],
      "text/plain": [
       "       country name  data points\n",
       "188  United Kingdom           89\n",
       "189   United States           89\n",
       "47          Denmark           89\n",
       "157    South Africa           89\n",
       "170     Switzerland           89\n",
       "169          Sweden           89\n",
       "80           Israel           88\n",
       "124     New Zealand           88\n",
       "31           Canada           86\n",
       "59          Finland           86\n",
       "75            India           86\n",
       "8         Australia           85\n",
       "79          Ireland           84\n",
       "83            Japan           83\n",
       "137     Philippines           82\n",
       "129          Norway           80\n",
       "123     Netherlands           80\n",
       "110          Mexico           79\n",
       "161       Sri Lanka           77\n",
       "35            Chile           74"
      ]
     },
     "execution_count": 34,
     "metadata": {},
     "output_type": "execute_result"
    }
   ],
   "source": [
    "# 2.I\n",
    "# Um die Visualisierung etwas übersichtlicher zu halten, beschränken wir \n",
    "# uns auf die 20 Länder mit den meisten Einträgen. Dazu sortieren wir das\n",
    "# DataFrame in absteigender Reihenfolge nach dem Wert in der Spalte \"data points\"\n",
    "sortiert = laender_eintraege.sort_values(by=['data points'],ascending=False)[0:20]\n",
    "sortiert"
   ]
  },
  {
   "cell_type": "code",
   "execution_count": 35,
   "metadata": {},
   "outputs": [
    {
     "data": {
      "image/png": "[encoded data removed]",
      "text/plain": [
       "<Figure size 432x288 with 1 Axes>"
      ]
     },
     "metadata": {},
     "output_type": "display_data"
    }
   ],
   "source": [
    "# nun erstellen wir ein bar-chart\n",
    "plt.bar(sortiert['country name'], sortiert['data points'])\n",
    "plt.ylabel('Anzahl an Datenpunkten')\n",
    "# um die Beschriftung der einelnen Balken besser lesbar zu machen,\n",
    "# rotieren wir die Beschriftungen um 90 Grad\n",
    "plt.xticks(rotation='vertical');"
   ]
  },
  {
   "cell_type": "markdown",
   "metadata": {},
   "source": [
    "**2.J** Jahreszahlen sind Zahlen und damit natürlich sortierbar (das Jahr 1991 folgt auf das Jahr 1990). Damit eignet sich eine zweidimensionale Darstellung der Beobachtung \"Einträge\" über einer Variablen (Zeit).  \n",
    "Ländernamen hingegen kategorische Variablen - jedes Land ist seine eigene Kategorie. Die Kategorien lassen sich nicht natürlich sortieren, deswegen eignet sich eine eindimensionale Darstellung der Beobachtung \"Einträge\" in jeder Kategorie."
   ]
  },
  {
   "cell_type": "markdown",
   "metadata": {},
   "source": [
    "[Anfang](#top)"
   ]
  },
  {
   "cell_type": "markdown",
   "metadata": {},
   "source": [
    "<a name=\"daten_beschaffen\"></a>3. Histogramme\n",
    "---"
   ]
  },
  {
   "cell_type": "code",
   "execution_count": 36,
   "metadata": {},
   "outputs": [
    {
     "data": {
      "image/png": "[encoded data removed]",
      "text/plain": [
       "<Figure size 432x288 with 1 Axes>"
      ]
     },
     "metadata": {},
     "output_type": "display_data"
    }
   ],
   "source": [
    "# 3.A\n",
    "# importiere das Untermodul pyplot aus der Bibliothek\n",
    "# matplotlib zum darstellen von Grafiken\n",
    "import matplotlib.pyplot as plt\n",
    "# mit diesem Kommando teilen wir dem Jupyter-Notebook mit,\n",
    "# dass es Grafiken direkt im Notebook anzeigen soll\n",
    "%matplotlib inline\n",
    "\n",
    "# erstelle ein einfaches Histogram der Streiks im Jahr 2010\n",
    "plt.hist(streiks_clean['2010'].dropna());"
   ]
  },
  {
   "cell_type": "code",
   "execution_count": 37,
   "metadata": {},
   "outputs": [
    {
     "data": {
      "image/png": "[encoded data removed]",
      "text/plain": [
       "<Figure size 432x288 with 1 Axes>"
      ]
     },
     "metadata": {},
     "output_type": "display_data"
    }
   ],
   "source": [
    "# 3.Ba\n",
    "# die Werte liegen alle in einem Bereich von 0 bis 1100 Streiks\n",
    "# indem wir die \"range\" entsprechend festlegen und die Anzahl der Bins\n",
    "# auf 11 setzen, liegen die einzelnen Bins zwischen \"glatten\" Vielfachen\n",
    "# von 100. Das ist anschaulich in einfach zu interpretieren. Diese \n",
    "# Darstellung lässt z.B. direkt ablesen, dass in den meisten Ländern zwischen\n",
    "# 0 und 100 Streiks stattgefunden haben. Allerdings geht auch viel Information\n",
    "# über den Bereich mit wenigen Streiks (0-100) verloren, da hier alle\n",
    "# Länder in einen einzigen bin aggregiert werden\n",
    "\n",
    "# die rwidth auf einen Wert kleiner 1.0 zu setzen ist auch eine gute Idee,\n",
    "# da es die einzelen bins in der Darstellung besser voneinander abgrenzt.\n",
    "\n",
    "# Histogram\n",
    "plt.hist(streiks_clean['2010'].dropna(), range=[0,1100], bins=11, rwidth=0.8)\n",
    "\n",
    "# Achsenbeschriftungen und Titel\n",
    "plt.xlabel('Anzahl Streiks')\n",
    "plt.ylabel('Anzahl Länder')\n",
    "plt.title('Anzahl der Streiks pro Land im Jahr 2010');"
   ]
  },
  {
   "cell_type": "code",
   "execution_count": 38,
   "metadata": {},
   "outputs": [
    {
     "data": {
      "image/png": "[encoded data removed]",
      "text/plain": [
       "<Figure size 432x288 with 1 Axes>"
      ]
     },
     "metadata": {},
     "output_type": "display_data"
    }
   ],
   "source": [
    "# 3.Bb\n",
    "# um den Bereich zwischen 0 und 100 genauer zu betrachten, setzen wir die\n",
    "# range entsprechend und schrauben die Anzahl der bins nach oben:\n",
    "\n",
    "# Histogram\n",
    "plt.hist(streiks_clean['2010'].dropna(), range=[0,100], bins=20, rwidth=0.8)\n",
    "\n",
    "# Achsenbeschriftungen und Titel\n",
    "plt.xlabel('Anzahl Streiks')\n",
    "plt.ylabel('Anzahl Länder')\n",
    "plt.title('Anzahl der Streiks pro Land im Jahr 2010 \\nfür Länder mit <= 100 Streiks');"
   ]
  },
  {
   "cell_type": "code",
   "execution_count": 39,
   "metadata": {},
   "outputs": [
    {
     "data": {
      "image/png": "[encoded data removed]",
      "text/plain": [
       "<Figure size 432x288 with 1 Axes>"
      ]
     },
     "metadata": {},
     "output_type": "display_data"
    }
   ],
   "source": [
    "# 3.C wenige bins\n",
    "# hier geht (wie schon oben beschrieben) viel Information verloren\n",
    "\n",
    "# Histogram\n",
    "plt.hist(streiks_clean['2010'].dropna(), range=[0,100], bins=3, rwidth=0.8)\n",
    "\n",
    "# Achsenbeschriftungen und Titel\n",
    "plt.xlabel('Anzahl Streiks')\n",
    "plt.ylabel('Anzahl Länder')\n",
    "plt.title('Anzahl der Streiks pro Land im Jahr 2010 \\nfür Länder mit <= 100 Streiks');"
   ]
  },
  {
   "cell_type": "code",
   "execution_count": 40,
   "metadata": {},
   "outputs": [
    {
     "data": {
      "image/png": "[encoded data removed]",
      "text/plain": [
       "<Figure size 432x288 with 1 Axes>"
      ]
     },
     "metadata": {},
     "output_type": "display_data"
    }
   ],
   "source": [
    "# 3.C viele bins\n",
    "# hier geht der Vorteil der Aggregierten Information verloren und es\n",
    "# ist schwierig, aus der Darstellung allgemeinere Erkenntnisse zu extrahieren\n",
    "\n",
    "# Histogram\n",
    "plt.hist(streiks_clean['2010'].dropna(), range=[0,100], bins=100, rwidth=0.8)\n",
    "\n",
    "# Achsenbeschriftungen und Titel\n",
    "plt.xlabel('Anzahl Streiks')\n",
    "plt.ylabel('Anzahl Länder')\n",
    "plt.title('Anzahl der Streiks pro Land im Jahr 2010 \\nfür Länder mit <= 100 Streiks');\n",
    "\n",
    "# ein guter Wert für den Bereich 0-100 Streiks ist (wie in 3.B) z.B. bins=20"
   ]
  },
  {
   "cell_type": "code",
   "execution_count": 41,
   "metadata": {},
   "outputs": [
    {
     "data": {
      "image/png": "[encoded data removed]",
      "text/plain": [
       "<Figure size 432x288 with 1 Axes>"
      ]
     },
     "metadata": {},
     "output_type": "display_data"
    }
   ],
   "source": [
    "# 3.D\n",
    "# im Jahr 1950 gab es einige Länder mit einer deutlich höheren Anzahl\n",
    "# an Streiks. Entsprechend müssen wir die range des Histograms anpassen.\n",
    "\n",
    "# Um die beiden plots zu vergleichen ist es hilfreich, range und bins\n",
    "# jeweils gleich zu wählen.\n",
    "\n",
    "# Um die Lesbarkeit der Visualisierung zu verbesern, setzen wir den\n",
    "# alpha-wert (Durchsichtigkeit) der Balken auf 50% - da sonst die\n",
    "# größeren Balken die dahinterliegenden Balken verdecken\n",
    "\n",
    "# HINWEIS: mit dem Argument \"label\" weisen wir jedem der beiden\n",
    "# Histogramme einen \"Namen\" zu, der später in der Legende aufscheint\n",
    "\n",
    "# Histogramm der Streiks im Jahr 2010\n",
    "plt.hist(streiks_clean['2010'].dropna(), range=[0,1500], bins=15, rwidth=0.8, \\\n",
    "         alpha=0.5, label='2010')\n",
    "\n",
    "# Histogram der Streiks im Jahr 1950\n",
    "plt.hist(streiks_clean['1950'].dropna(), range=[0,1500], bins=15, rwidth=0.8, \\\n",
    "         alpha=0.5, label='1950')\n",
    "\n",
    "# Achsenbeschriftungen und Titel\n",
    "plt.xlabel('Anzahl Streiks')\n",
    "plt.ylabel('Anzahl Länder')\n",
    "plt.title('Anzahl der Streiks pro Land im Jahr 2010')\n",
    "\n",
    "# Legende\n",
    "plt.legend();"
   ]
  },
  {
   "cell_type": "code",
   "execution_count": 42,
   "metadata": {},
   "outputs": [
    {
     "data": {
      "text/plain": [
       "<matplotlib.legend.Legend at 0x10ec44630>"
      ]
     },
     "execution_count": 42,
     "metadata": {},
     "output_type": "execute_result"
    },
    {
     "data": {
      "image/png": "[encoded data removed]",
      "text/plain": [
       "<Figure size 432x288 with 1 Axes>"
      ]
     },
     "metadata": {},
     "output_type": "display_data"
    }
   ],
   "source": [
    "# 3.E (density)\n",
    "# das Argument \"density\" verändert die Darstellung der Beobachtungen auf der y-Achse. \n",
    "# Vorher war die absolute Anzahl der Beobachtungen abgebildet, mit density=True\n",
    "# wird die normierte Anzahl der beobachtungen abgebildet, die als Wahrscheinlichkeits-\n",
    "# dichte interpretiert werden kann\n",
    "plt.hist(streiks_clean['2010'].dropna(), range=[0,1500], bins=15,\\\n",
    "         rwidth=0.8, alpha=0.5, label='2010', density=True)\n",
    "plt.hist(streiks_clean['1950'].dropna(), range=[0,1500], bins=15,\\\n",
    "         rwidth=0.8, alpha=0.5, label='1950', density=True)\n",
    "plt.xlabel('Anzahl Streiks')\n",
    "plt.ylabel('Wahrscheinlichkeitsdichte')\n",
    "plt.title('Wahrscheinlichkeitsdichte der Streiks pro Land im Jahr 2010')\n",
    "plt.legend()"
   ]
  },
  {
   "cell_type": "code",
   "execution_count": 43,
   "metadata": {},
   "outputs": [
    {
     "data": {
      "text/plain": [
       "<matplotlib.legend.Legend at 0x10412a7b8>"
      ]
     },
     "execution_count": 43,
     "metadata": {},
     "output_type": "execute_result"
    },
    {
     "data": {
      "image/png": "[encoded data removed]",
      "text/plain": [
       "<Figure size 432x288 with 1 Axes>"
      ]
     },
     "metadata": {},
     "output_type": "display_data"
    }
   ],
   "source": [
    "# 3.E (cumulative)\n",
    "# wenn cumulative=True, dann zeigt jeder bin nicht nur die Anzahl der Beobachtungen\n",
    "# in ebendiesem bin sondern die Anzahl in dem bin PLUS die Anzahl der Beobachtungen\n",
    "# in allen Vorangegangenen bins. Die Anzahl der Beobachtungen im letzten Bin entspricht\n",
    "# also immer der Gesamtanzahl der Beobachtungen.\n",
    "plt.hist(streiks_clean['2010'].dropna(), range=[0,1500], bins=15,\\\n",
    "         rwidth=0.8, alpha=0.5, label='2010', cumulative=True)\n",
    "plt.hist(streiks_clean['1950'].dropna(), range=[0,1500], bins=15,\\\n",
    "         rwidth=0.8, alpha=0.5, label='1950', cumulative=True)\n",
    "plt.xlabel('Anzahl Streiks')\n",
    "plt.ylabel('Anzahl Länder')\n",
    "plt.title('Kumulative Verteilung der Streiks pro Land im Jahr 2010')\n",
    "plt.legend()\n",
    "\n",
    "# wir können ablesen, dass im Jahr 1950 zwar mehr länder eine Höhere\n",
    "# Anzahl an Streiks hatten, insgesamt aber aus weniger Ländern Streiks\n",
    "# gemeldet wurden. Da wir oben schon gesehen haben, dass die Datenlage\n",
    "# insbesondere um den zweiten Weltkrieg herum nicht besonders gut ist,\n",
    "# stellt sich die Frage, ob dieses Ergebnis der Realität entspricht oder\n",
    "# der schlechten Datenlage geschuldet ist."
   ]
  },
  {
   "cell_type": "code",
   "execution_count": 44,
   "metadata": {},
   "outputs": [
    {
     "data": {
      "text/plain": [
       "<matplotlib.legend.Legend at 0x1178c6470>"
      ]
     },
     "execution_count": 44,
     "metadata": {},
     "output_type": "execute_result"
    },
    {
     "data": {
      "image/png": "[encoded data removed]",
      "text/plain": [
       "<Figure size 432x288 with 1 Axes>"
      ]
     },
     "metadata": {},
     "output_type": "display_data"
    }
   ],
   "source": [
    "# 3.E (density & cumulative)\n",
    "# ist sowohl density=True als auch cumulative=True, dann lässt sich schön beobachten,\n",
    "# dass die Wahrscheinlichkeitsdichte auf 1 normiert ist, dass heißt die kumulierten \n",
    "# Wahrscheinlichkeiten, eine Beobachtung in einem Bin zu finden ist im letzten bin gleich 1\n",
    "plt.hist(streiks_clean['2010'].dropna(), range=[0,1500], bins=15,\\\n",
    "         rwidth=0.8, alpha=0.5, label='2010', cumulative=True, density=True)\n",
    "plt.hist(streiks_clean['1950'].dropna(), range=[0,1500], bins=15,\\\n",
    "         rwidth=0.8, alpha=0.5, label='1950', cumulative=True, density=True)\n",
    "plt.xlabel('Anzahl Streiks')\n",
    "plt.ylabel('Wahrscheinlichkeitsdichte')\n",
    "plt.title('Kumulative Verteilung der Wahrscheinlichkeitsdichte der \\nStreiks pro Land im Jahr 2010')\n",
    "plt.legend()"
   ]
  },
  {
   "cell_type": "markdown",
   "metadata": {},
   "source": [
    "[Anfang](#top)"
   ]
  }
 ],
 "metadata": {
  "jupytext": {
   "encoding": "# -*- coding: utf-8 -*-"
  },
  "kernelspec": {
   "display_name": "Python 3",
   "language": "python",
   "name": "python3"
  },
  "language_info": {
   "codemirror_mode": {
    "name": "ipython",
    "version": 3
   },
   "file_extension": ".py",
   "mimetype": "text/x-python",
   "name": "python",
   "nbconvert_exporter": "python",
   "pygments_lexer": "ipython3",
   "version": "3.6.1"
  },
  "latex_envs": {
   "bibliofile": "biblio.bib",
   "cite_by": "apalike",
   "current_citInitial": 1,
   "eqLabelWithNumbers": true,
   "eqNumInitial": 0
  },
  "toc": {
   "toc_cell": false,
   "toc_number_sections": true,
   "toc_threshold": 6,
   "toc_window_display": false
  }
 },
 "nbformat": 4,
 "nbformat_minor": 2
}
