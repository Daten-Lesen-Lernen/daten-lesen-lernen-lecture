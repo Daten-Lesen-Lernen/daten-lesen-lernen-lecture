{
 "cells": [
  {
   "cell_type": "markdown",
   "metadata": {},
   "source": [
    "_Lizenz: Das folgende Lehrmaterial kann unter einer [CC-BY-SA 4.0](https://creativecommons.org/licenses/by/4.0/legalcode) Lizenz frei verwendet, verbreitet und modifiziert werden._   \n",
    " _Authoren: Jana Lasser (jana.lasser@ds.mpg.de)_  \n",
    " _Das Lehrmaterial wurde im Zuge des Projektes \"Daten Lesen Lernen\", gefördert vom Stifterverband und der Heinz Nixdorf Stiftung erstellt._"
   ]
  },
  {
   "cell_type": "markdown",
   "metadata": {},
   "source": [
    "# Lösung zu Übung 08 - Wirtschaftswissenschaften: Bruttoinlandsprodukt und Inferenz\n",
    "### Praktische Hinweise\n",
    "$\\rightarrow$ Übungen sind dafür gedacht, dass ihr sie euch daheim anseht und versucht, ein paar Aufgaben selbst zu lösen. In den Tutorien könnt ihr euch weiter mit dem Lösungen der Aufgaben beschäftigen und dabei Hilfe von den Tutor*innen bekommen.  \n",
    "\n",
    "$\\rightarrow$ Wenn ein Fehler auftritt:\n",
    "1. Fehlermeldung _lesen_ und _verstehen_\n",
    "2. Versuchen, selbst eine Lösung zu finden ($\\rightarrow$ hier findet das Lernen statt!)\n",
    "3. Das Problem googlen (Stichwort: Stackoverflow) oder den/die Nachbar*in fragen\n",
    "4. Tutor*in fragen\n",
    "\n",
    "$\\rightarrow$ Unter <font color='green'>**HINWEIS**</font> werden Hinweise gegeben, die für die Lösung der Aufgabe hilfreich sind und oftmals auch weiterführende Informationen zur Aufgabe liefern.\n",
    "\n",
    "$\\rightarrow$ Mit **(Optional)** gekennzeichnete Übungsteile sind für besonders schnelle Menschen :-)."
   ]
  },
  {
   "cell_type": "markdown",
   "metadata": {},
   "source": [
    "<a name=\"top\"></a>Inhalt\n",
    "--- \n",
    "\n",
    "* [Datenquellen aggregieren](#datenquellen)\n",
    "* [Pro-Kopf Streiktage](#pro_kopf_streiktage)\n",
    "* [(optional) Sinkt das BIP durch Streiks?](#inferenz)"
   ]
  },
  {
   "cell_type": "markdown",
   "metadata": {},
   "source": [
    "<a name=\"datenquellen\"></a>1. Datenquellen aggregieren\n",
    "---\n",
    "Im ersten Schritt laden wir alle benötigten Daten in das Notebook. Wir benutzten für die folgende Analyse das \"broad\" Format der Tabellen, da dieses für unsere Zwecke einfacher zu handhaben ist. Die Tabelle mit den Streiktagen haben wir schon gespeichert und können sie einfach laden:"
   ]
  },
  {
   "cell_type": "code",
   "execution_count": 1,
   "metadata": {
    "run_control": {
     "frozen": false,
     "read_only": false
    }
   },
   "outputs": [
    {
     "data": {
      "text/html": [
       "<div>\n",
       "<style scoped>\n",
       "    .dataframe tbody tr th:only-of-type {\n",
       "        vertical-align: middle;\n",
       "    }\n",
       "\n",
       "    .dataframe tbody tr th {\n",
       "        vertical-align: top;\n",
       "    }\n",
       "\n",
       "    .dataframe thead th {\n",
       "        text-align: right;\n",
       "    }\n",
       "</style>\n",
       "<table border=\"1\" class=\"dataframe\">\n",
       "  <thead>\n",
       "    <tr style=\"text-align: right;\">\n",
       "      <th></th>\n",
       "      <th>ccode</th>\n",
       "      <th>country name</th>\n",
       "      <th>1500</th>\n",
       "      <th>1501</th>\n",
       "      <th>1502</th>\n",
       "      <th>1503</th>\n",
       "      <th>1504</th>\n",
       "      <th>1505</th>\n",
       "      <th>1506</th>\n",
       "      <th>1507</th>\n",
       "      <th>...</th>\n",
       "      <th>2006</th>\n",
       "      <th>2007</th>\n",
       "      <th>2008</th>\n",
       "      <th>2009</th>\n",
       "      <th>2010</th>\n",
       "      <th>2011</th>\n",
       "      <th>2012</th>\n",
       "      <th>2013</th>\n",
       "      <th>2014</th>\n",
       "      <th>2015</th>\n",
       "    </tr>\n",
       "  </thead>\n",
       "  <tbody>\n",
       "    <tr>\n",
       "      <td>0</td>\n",
       "      <td>4.0</td>\n",
       "      <td>Afghanistan</td>\n",
       "      <td>NaN</td>\n",
       "      <td>NaN</td>\n",
       "      <td>NaN</td>\n",
       "      <td>NaN</td>\n",
       "      <td>NaN</td>\n",
       "      <td>NaN</td>\n",
       "      <td>NaN</td>\n",
       "      <td>NaN</td>\n",
       "      <td>...</td>\n",
       "      <td>NaN</td>\n",
       "      <td>NaN</td>\n",
       "      <td>NaN</td>\n",
       "      <td>NaN</td>\n",
       "      <td>NaN</td>\n",
       "      <td>NaN</td>\n",
       "      <td>NaN</td>\n",
       "      <td>NaN</td>\n",
       "      <td>NaN</td>\n",
       "      <td>NaN</td>\n",
       "    </tr>\n",
       "    <tr>\n",
       "      <td>1</td>\n",
       "      <td>8.0</td>\n",
       "      <td>Albania</td>\n",
       "      <td>NaN</td>\n",
       "      <td>NaN</td>\n",
       "      <td>NaN</td>\n",
       "      <td>NaN</td>\n",
       "      <td>NaN</td>\n",
       "      <td>NaN</td>\n",
       "      <td>NaN</td>\n",
       "      <td>NaN</td>\n",
       "      <td>...</td>\n",
       "      <td>NaN</td>\n",
       "      <td>NaN</td>\n",
       "      <td>NaN</td>\n",
       "      <td>NaN</td>\n",
       "      <td>NaN</td>\n",
       "      <td>NaN</td>\n",
       "      <td>NaN</td>\n",
       "      <td>NaN</td>\n",
       "      <td>NaN</td>\n",
       "      <td>NaN</td>\n",
       "    </tr>\n",
       "    <tr>\n",
       "      <td>2</td>\n",
       "      <td>12.0</td>\n",
       "      <td>Algeria</td>\n",
       "      <td>NaN</td>\n",
       "      <td>NaN</td>\n",
       "      <td>NaN</td>\n",
       "      <td>NaN</td>\n",
       "      <td>NaN</td>\n",
       "      <td>NaN</td>\n",
       "      <td>NaN</td>\n",
       "      <td>NaN</td>\n",
       "      <td>...</td>\n",
       "      <td>NaN</td>\n",
       "      <td>NaN</td>\n",
       "      <td>NaN</td>\n",
       "      <td>NaN</td>\n",
       "      <td>NaN</td>\n",
       "      <td>NaN</td>\n",
       "      <td>NaN</td>\n",
       "      <td>NaN</td>\n",
       "      <td>NaN</td>\n",
       "      <td>NaN</td>\n",
       "    </tr>\n",
       "  </tbody>\n",
       "</table>\n",
       "<p>3 rows × 518 columns</p>\n",
       "</div>"
      ],
      "text/plain": [
       "   ccode country name  1500  1501  1502  1503  1504  1505  1506  1507  ...  \\\n",
       "0    4.0  Afghanistan   NaN   NaN   NaN   NaN   NaN   NaN   NaN   NaN  ...   \n",
       "1    8.0      Albania   NaN   NaN   NaN   NaN   NaN   NaN   NaN   NaN  ...   \n",
       "2   12.0      Algeria   NaN   NaN   NaN   NaN   NaN   NaN   NaN   NaN  ...   \n",
       "\n",
       "   2006  2007  2008  2009  2010  2011  2012  2013  2014  2015  \n",
       "0   NaN   NaN   NaN   NaN   NaN   NaN   NaN   NaN   NaN   NaN  \n",
       "1   NaN   NaN   NaN   NaN   NaN   NaN   NaN   NaN   NaN   NaN  \n",
       "2   NaN   NaN   NaN   NaN   NaN   NaN   NaN   NaN   NaN   NaN  \n",
       "\n",
       "[3 rows x 518 columns]"
      ]
     },
     "execution_count": 1,
     "metadata": {},
     "output_type": "execute_result"
    }
   ],
   "source": [
    "# importieren der benötigten Module\n",
    "from os.path import join\n",
    "import pandas as pd\n",
    "\n",
    "# laden der Streiktage-Daten \n",
    "fname_tage = 'NumberofDaysLostinLabourDisputes_Broad.xlsx'\n",
    "tage = pd.read_excel(join(\"daten/\", fname_tage))\n",
    "tage.head(3)"
   ]
  },
  {
   "cell_type": "markdown",
   "metadata": {},
   "source": [
    "Die Tabelle mit dem Zeitverlauf des Bruttolinlandsproduktes musst du erst [hier](https://clio-infra.eu/data/GDPperCapita_Broad.xlsx) herunterladen, in den JupyterHub hochladen und dann mit pandas als DataFrame laden:"
   ]
  },
  {
   "cell_type": "code",
   "execution_count": 2,
   "metadata": {
    "run_control": {
     "frozen": false,
     "read_only": false
    }
   },
   "outputs": [
    {
     "data": {
      "text/html": [
       "<div>\n",
       "<style scoped>\n",
       "    .dataframe tbody tr th:only-of-type {\n",
       "        vertical-align: middle;\n",
       "    }\n",
       "\n",
       "    .dataframe tbody tr th {\n",
       "        vertical-align: top;\n",
       "    }\n",
       "\n",
       "    .dataframe thead th {\n",
       "        text-align: right;\n",
       "    }\n",
       "</style>\n",
       "<table border=\"1\" class=\"dataframe\">\n",
       "  <thead>\n",
       "    <tr style=\"text-align: right;\">\n",
       "      <th></th>\n",
       "      <th>ccode</th>\n",
       "      <th>country name</th>\n",
       "      <th>1500</th>\n",
       "      <th>1501</th>\n",
       "      <th>1502</th>\n",
       "      <th>1503</th>\n",
       "      <th>1504</th>\n",
       "      <th>1505</th>\n",
       "      <th>1506</th>\n",
       "      <th>1507</th>\n",
       "      <th>...</th>\n",
       "      <th>2006</th>\n",
       "      <th>2007</th>\n",
       "      <th>2008</th>\n",
       "      <th>2009</th>\n",
       "      <th>2010</th>\n",
       "      <th>2011</th>\n",
       "      <th>2012</th>\n",
       "      <th>2013</th>\n",
       "      <th>2014</th>\n",
       "      <th>2015</th>\n",
       "    </tr>\n",
       "  </thead>\n",
       "  <tbody>\n",
       "    <tr>\n",
       "      <td>0</td>\n",
       "      <td>4.0</td>\n",
       "      <td>Afghanistan</td>\n",
       "      <td>NaN</td>\n",
       "      <td>NaN</td>\n",
       "      <td>NaN</td>\n",
       "      <td>NaN</td>\n",
       "      <td>NaN</td>\n",
       "      <td>NaN</td>\n",
       "      <td>NaN</td>\n",
       "      <td>NaN</td>\n",
       "      <td>...</td>\n",
       "      <td>790.0000</td>\n",
       "      <td>863.0000</td>\n",
       "      <td>869.0000</td>\n",
       "      <td>NaN</td>\n",
       "      <td>NaN</td>\n",
       "      <td>NaN</td>\n",
       "      <td>NaN</td>\n",
       "      <td>NaN</td>\n",
       "      <td>NaN</td>\n",
       "      <td>NaN</td>\n",
       "    </tr>\n",
       "    <tr>\n",
       "      <td>1</td>\n",
       "      <td>8.0</td>\n",
       "      <td>Albania</td>\n",
       "      <td>NaN</td>\n",
       "      <td>NaN</td>\n",
       "      <td>NaN</td>\n",
       "      <td>NaN</td>\n",
       "      <td>NaN</td>\n",
       "      <td>NaN</td>\n",
       "      <td>NaN</td>\n",
       "      <td>NaN</td>\n",
       "      <td>...</td>\n",
       "      <td>4367.4382</td>\n",
       "      <td>4647.3138</td>\n",
       "      <td>5010.0318</td>\n",
       "      <td>5178.8669</td>\n",
       "      <td>5374.9908</td>\n",
       "      <td>NaN</td>\n",
       "      <td>NaN</td>\n",
       "      <td>NaN</td>\n",
       "      <td>NaN</td>\n",
       "      <td>NaN</td>\n",
       "    </tr>\n",
       "    <tr>\n",
       "      <td>2</td>\n",
       "      <td>12.0</td>\n",
       "      <td>Algeria</td>\n",
       "      <td>NaN</td>\n",
       "      <td>NaN</td>\n",
       "      <td>NaN</td>\n",
       "      <td>NaN</td>\n",
       "      <td>NaN</td>\n",
       "      <td>NaN</td>\n",
       "      <td>NaN</td>\n",
       "      <td>NaN</td>\n",
       "      <td>...</td>\n",
       "      <td>3385.7719</td>\n",
       "      <td>3427.7116</td>\n",
       "      <td>3447.4191</td>\n",
       "      <td>3466.5426</td>\n",
       "      <td>3512.5807</td>\n",
       "      <td>NaN</td>\n",
       "      <td>NaN</td>\n",
       "      <td>NaN</td>\n",
       "      <td>NaN</td>\n",
       "      <td>NaN</td>\n",
       "    </tr>\n",
       "  </tbody>\n",
       "</table>\n",
       "<p>3 rows × 518 columns</p>\n",
       "</div>"
      ],
      "text/plain": [
       "   ccode country name  1500  1501  1502  1503  1504  1505  1506  1507  ...  \\\n",
       "0    4.0  Afghanistan   NaN   NaN   NaN   NaN   NaN   NaN   NaN   NaN  ...   \n",
       "1    8.0      Albania   NaN   NaN   NaN   NaN   NaN   NaN   NaN   NaN  ...   \n",
       "2   12.0      Algeria   NaN   NaN   NaN   NaN   NaN   NaN   NaN   NaN  ...   \n",
       "\n",
       "        2006       2007       2008       2009       2010  2011  2012  2013  \\\n",
       "0   790.0000   863.0000   869.0000        NaN        NaN   NaN   NaN   NaN   \n",
       "1  4367.4382  4647.3138  5010.0318  5178.8669  5374.9908   NaN   NaN   NaN   \n",
       "2  3385.7719  3427.7116  3447.4191  3466.5426  3512.5807   NaN   NaN   NaN   \n",
       "\n",
       "   2014  2015  \n",
       "0   NaN   NaN  \n",
       "1   NaN   NaN  \n",
       "2   NaN   NaN  \n",
       "\n",
       "[3 rows x 518 columns]"
      ]
     },
     "execution_count": 2,
     "metadata": {},
     "output_type": "execute_result"
    }
   ],
   "source": [
    "# laden der GDP-Daten\n",
    "fname_GDP = 'GDPperCapita_Broad.xlsx'\n",
    "GDP = pd.read_excel(join(\"daten/\", fname_GDP))\n",
    "GDP.head(3)"
   ]
  },
  {
   "cell_type": "markdown",
   "metadata": {},
   "source": [
    "Die Tabelle ```Data_Extract_From_World_Development_Indicators.xlsx'``` mit den Daten zur Landesbevölkerung kannst du aus dem StudIP herunterladen. Die Daten stammen aus [dieser](https://databank.worldbank.org/data/reports.aspx?source=2&series=SP.POP.TOTL&country=) Quelle."
   ]
  },
  {
   "cell_type": "code",
   "execution_count": 3,
   "metadata": {
    "run_control": {
     "frozen": false,
     "read_only": false
    }
   },
   "outputs": [
    {
     "data": {
      "text/html": [
       "<div>\n",
       "<style scoped>\n",
       "    .dataframe tbody tr th:only-of-type {\n",
       "        vertical-align: middle;\n",
       "    }\n",
       "\n",
       "    .dataframe tbody tr th {\n",
       "        vertical-align: top;\n",
       "    }\n",
       "\n",
       "    .dataframe thead th {\n",
       "        text-align: right;\n",
       "    }\n",
       "</style>\n",
       "<table border=\"1\" class=\"dataframe\">\n",
       "  <thead>\n",
       "    <tr style=\"text-align: right;\">\n",
       "      <th></th>\n",
       "      <th>Unnamed: 0</th>\n",
       "      <th>country name</th>\n",
       "      <th>1960_pop</th>\n",
       "      <th>1961_pop</th>\n",
       "      <th>1962_pop</th>\n",
       "      <th>1963_pop</th>\n",
       "      <th>1964_pop</th>\n",
       "      <th>1965_pop</th>\n",
       "      <th>1966_pop</th>\n",
       "      <th>1967_pop</th>\n",
       "      <th>...</th>\n",
       "      <th>2006_pop</th>\n",
       "      <th>2007_pop</th>\n",
       "      <th>2008_pop</th>\n",
       "      <th>2009_pop</th>\n",
       "      <th>2010_pop</th>\n",
       "      <th>2011_pop</th>\n",
       "      <th>2012_pop</th>\n",
       "      <th>2013_pop</th>\n",
       "      <th>2014_pop</th>\n",
       "      <th>2015_pop</th>\n",
       "    </tr>\n",
       "  </thead>\n",
       "  <tbody>\n",
       "    <tr>\n",
       "      <td>0</td>\n",
       "      <td>0</td>\n",
       "      <td>Afghanistan</td>\n",
       "      <td>8996351.0</td>\n",
       "      <td>9166764.0</td>\n",
       "      <td>9345868.0</td>\n",
       "      <td>9533954.0</td>\n",
       "      <td>9731361.0</td>\n",
       "      <td>9938414.0</td>\n",
       "      <td>10152331.0</td>\n",
       "      <td>10372630.0</td>\n",
       "      <td>...</td>\n",
       "      <td>25893450.0</td>\n",
       "      <td>26616792.0</td>\n",
       "      <td>27294031.0</td>\n",
       "      <td>28004331.0</td>\n",
       "      <td>28803167.0</td>\n",
       "      <td>29708599.0</td>\n",
       "      <td>30696958.0</td>\n",
       "      <td>31731688.0</td>\n",
       "      <td>32758020.0</td>\n",
       "      <td>33736494.0</td>\n",
       "    </tr>\n",
       "    <tr>\n",
       "      <td>1</td>\n",
       "      <td>1</td>\n",
       "      <td>Albania</td>\n",
       "      <td>1608800.0</td>\n",
       "      <td>1659800.0</td>\n",
       "      <td>1711319.0</td>\n",
       "      <td>1762621.0</td>\n",
       "      <td>1814135.0</td>\n",
       "      <td>1864791.0</td>\n",
       "      <td>1914573.0</td>\n",
       "      <td>1965598.0</td>\n",
       "      <td>...</td>\n",
       "      <td>2992547.0</td>\n",
       "      <td>2970017.0</td>\n",
       "      <td>2947314.0</td>\n",
       "      <td>2927519.0</td>\n",
       "      <td>2913021.0</td>\n",
       "      <td>2905195.0</td>\n",
       "      <td>2900401.0</td>\n",
       "      <td>2895092.0</td>\n",
       "      <td>2889104.0</td>\n",
       "      <td>2880703.0</td>\n",
       "    </tr>\n",
       "    <tr>\n",
       "      <td>2</td>\n",
       "      <td>2</td>\n",
       "      <td>Algeria</td>\n",
       "      <td>11124888.0</td>\n",
       "      <td>11404859.0</td>\n",
       "      <td>11690153.0</td>\n",
       "      <td>11985136.0</td>\n",
       "      <td>12295970.0</td>\n",
       "      <td>12626952.0</td>\n",
       "      <td>12980267.0</td>\n",
       "      <td>13354197.0</td>\n",
       "      <td>...</td>\n",
       "      <td>33777915.0</td>\n",
       "      <td>34300076.0</td>\n",
       "      <td>34860715.0</td>\n",
       "      <td>35465760.0</td>\n",
       "      <td>36117637.0</td>\n",
       "      <td>36819558.0</td>\n",
       "      <td>37565847.0</td>\n",
       "      <td>38338562.0</td>\n",
       "      <td>39113313.0</td>\n",
       "      <td>39871528.0</td>\n",
       "    </tr>\n",
       "  </tbody>\n",
       "</table>\n",
       "<p>3 rows × 58 columns</p>\n",
       "</div>"
      ],
      "text/plain": [
       "   Unnamed: 0 country name    1960_pop    1961_pop    1962_pop    1963_pop  \\\n",
       "0           0  Afghanistan   8996351.0   9166764.0   9345868.0   9533954.0   \n",
       "1           1      Albania   1608800.0   1659800.0   1711319.0   1762621.0   \n",
       "2           2      Algeria  11124888.0  11404859.0  11690153.0  11985136.0   \n",
       "\n",
       "     1964_pop    1965_pop    1966_pop    1967_pop  ...    2006_pop  \\\n",
       "0   9731361.0   9938414.0  10152331.0  10372630.0  ...  25893450.0   \n",
       "1   1814135.0   1864791.0   1914573.0   1965598.0  ...   2992547.0   \n",
       "2  12295970.0  12626952.0  12980267.0  13354197.0  ...  33777915.0   \n",
       "\n",
       "     2007_pop    2008_pop    2009_pop    2010_pop    2011_pop    2012_pop  \\\n",
       "0  26616792.0  27294031.0  28004331.0  28803167.0  29708599.0  30696958.0   \n",
       "1   2970017.0   2947314.0   2927519.0   2913021.0   2905195.0   2900401.0   \n",
       "2  34300076.0  34860715.0  35465760.0  36117637.0  36819558.0  37565847.0   \n",
       "\n",
       "     2013_pop    2014_pop    2015_pop  \n",
       "0  31731688.0  32758020.0  33736494.0  \n",
       "1   2895092.0   2889104.0   2880703.0  \n",
       "2  38338562.0  39113313.0  39871528.0  \n",
       "\n",
       "[3 rows x 58 columns]"
      ]
     },
     "execution_count": 3,
     "metadata": {},
     "output_type": "execute_result"
    }
   ],
   "source": [
    "# laden der Populationsdaten \n",
    "fname_pop = 'Data_Extract_From_World_Development_Indicators.xlsx'\n",
    "pop = pd.read_excel(join(\"daten/\", fname_pop))\n",
    "pop.head(3)"
   ]
  },
  {
   "cell_type": "markdown",
   "metadata": {},
   "source": [
    "Unser Ziel ist es, die drei Tabellen zu einer einzigen Tabelle zusammenzuführen. Da die Populationsdaten nur ab 1960 vorliegen, können wir die Einträge vor 1960 in den anderen beiden Datensätzen getrost entfernen:"
   ]
  },
  {
   "cell_type": "code",
   "execution_count": 4,
   "metadata": {
    "collapsed": true,
    "run_control": {
     "frozen": false,
     "read_only": false
    }
   },
   "outputs": [],
   "source": [
    "obsolete_spalten= ['{}'.format(i) for i in range(1500, 1960)]\n",
    "GDP.drop(columns = obsolete_spalten, inplace=True)\n",
    "tage.drop(columns = obsolete_spalten, inplace=True)"
   ]
  },
  {
   "cell_type": "markdown",
   "metadata": {},
   "source": [
    "**A.** Entferne auch die Spalten ```ccode``` aus den beiden DataFrames. Entferne mit der Funktion ```drop_duplicates()``` alle Duplikate ([Dokumentation](https://pandas.pydata.org/pandas-docs/stable/reference/api/pandas.DataFrame.drop_duplicates.html)) aus allen drei DataFrames."
   ]
  },
  {
   "cell_type": "code",
   "execution_count": 5,
   "metadata": {
    "collapsed": true,
    "run_control": {
     "frozen": false,
     "read_only": false
    }
   },
   "outputs": [],
   "source": [
    "tage.drop(columns=['ccode'], inplace=True)\n",
    "GDP.drop(columns=['ccode'], inplace=True)"
   ]
  },
  {
   "cell_type": "code",
   "execution_count": 6,
   "metadata": {
    "collapsed": true,
    "run_control": {
     "frozen": false,
     "read_only": false
    }
   },
   "outputs": [],
   "source": [
    "tage.drop_duplicates(subset = 'country name', inplace = True)\n",
    "GDP.drop_duplicates(subset = 'country name', inplace = True)\n",
    "pop.drop_duplicates(subset = 'country name', inplace = True)"
   ]
  },
  {
   "cell_type": "markdown",
   "metadata": {},
   "source": [
    "Nun wollen wir noch die Spalten so umbenennen, dass selbst nachdem wir die DataFrames zusammengeführt haben klar ist, was die Zahlen bedeuten. Dafür hängen wir an die Jahreszahlen den Suffix ```_GDP``` an."
   ]
  },
  {
   "cell_type": "code",
   "execution_count": 7,
   "metadata": {
    "run_control": {
     "frozen": false,
     "read_only": false
    }
   },
   "outputs": [
    {
     "data": {
      "text/html": [
       "<div>\n",
       "<style scoped>\n",
       "    .dataframe tbody tr th:only-of-type {\n",
       "        vertical-align: middle;\n",
       "    }\n",
       "\n",
       "    .dataframe tbody tr th {\n",
       "        vertical-align: top;\n",
       "    }\n",
       "\n",
       "    .dataframe thead th {\n",
       "        text-align: right;\n",
       "    }\n",
       "</style>\n",
       "<table border=\"1\" class=\"dataframe\">\n",
       "  <thead>\n",
       "    <tr style=\"text-align: right;\">\n",
       "      <th></th>\n",
       "      <th>country name</th>\n",
       "      <th>1960_GDP</th>\n",
       "      <th>1961_GDP</th>\n",
       "      <th>1962_GDP</th>\n",
       "      <th>1963_GDP</th>\n",
       "      <th>1964_GDP</th>\n",
       "      <th>1965_GDP</th>\n",
       "      <th>1966_GDP</th>\n",
       "      <th>1967_GDP</th>\n",
       "      <th>1968_GDP</th>\n",
       "      <th>...</th>\n",
       "      <th>2006_GDP</th>\n",
       "      <th>2007_GDP</th>\n",
       "      <th>2008_GDP</th>\n",
       "      <th>2009_GDP</th>\n",
       "      <th>2010_GDP</th>\n",
       "      <th>2011_GDP</th>\n",
       "      <th>2012_GDP</th>\n",
       "      <th>2013_GDP</th>\n",
       "      <th>2014_GDP</th>\n",
       "      <th>2015_GDP</th>\n",
       "    </tr>\n",
       "  </thead>\n",
       "  <tbody>\n",
       "    <tr>\n",
       "      <td>0</td>\n",
       "      <td>Afghanistan</td>\n",
       "      <td>739.0</td>\n",
       "      <td>730.0</td>\n",
       "      <td>726.0</td>\n",
       "      <td>723.0</td>\n",
       "      <td>720.0</td>\n",
       "      <td>720.0</td>\n",
       "      <td>710.0</td>\n",
       "      <td>712.0</td>\n",
       "      <td>719.0</td>\n",
       "      <td>...</td>\n",
       "      <td>790.0000</td>\n",
       "      <td>863.0000</td>\n",
       "      <td>869.0000</td>\n",
       "      <td>NaN</td>\n",
       "      <td>NaN</td>\n",
       "      <td>NaN</td>\n",
       "      <td>NaN</td>\n",
       "      <td>NaN</td>\n",
       "      <td>NaN</td>\n",
       "      <td>NaN</td>\n",
       "    </tr>\n",
       "    <tr>\n",
       "      <td>1</td>\n",
       "      <td>Albania</td>\n",
       "      <td>1451.0</td>\n",
       "      <td>1463.0</td>\n",
       "      <td>1511.0</td>\n",
       "      <td>1563.0</td>\n",
       "      <td>1616.0</td>\n",
       "      <td>1675.0</td>\n",
       "      <td>1738.0</td>\n",
       "      <td>1804.0</td>\n",
       "      <td>1869.0</td>\n",
       "      <td>...</td>\n",
       "      <td>4367.4382</td>\n",
       "      <td>4647.3138</td>\n",
       "      <td>5010.0318</td>\n",
       "      <td>5178.8669</td>\n",
       "      <td>5374.9908</td>\n",
       "      <td>NaN</td>\n",
       "      <td>NaN</td>\n",
       "      <td>NaN</td>\n",
       "      <td>NaN</td>\n",
       "      <td>NaN</td>\n",
       "    </tr>\n",
       "    <tr>\n",
       "      <td>2</td>\n",
       "      <td>Algeria</td>\n",
       "      <td>2088.0</td>\n",
       "      <td>1799.0</td>\n",
       "      <td>1433.0</td>\n",
       "      <td>1768.0</td>\n",
       "      <td>1806.0</td>\n",
       "      <td>1870.0</td>\n",
       "      <td>1725.0</td>\n",
       "      <td>1824.0</td>\n",
       "      <td>1977.0</td>\n",
       "      <td>...</td>\n",
       "      <td>3385.7719</td>\n",
       "      <td>3427.7116</td>\n",
       "      <td>3447.4191</td>\n",
       "      <td>3466.5426</td>\n",
       "      <td>3512.5807</td>\n",
       "      <td>NaN</td>\n",
       "      <td>NaN</td>\n",
       "      <td>NaN</td>\n",
       "      <td>NaN</td>\n",
       "      <td>NaN</td>\n",
       "    </tr>\n",
       "  </tbody>\n",
       "</table>\n",
       "<p>3 rows × 57 columns</p>\n",
       "</div>"
      ],
      "text/plain": [
       "  country name  1960_GDP  1961_GDP  1962_GDP  1963_GDP  1964_GDP  1965_GDP  \\\n",
       "0  Afghanistan     739.0     730.0     726.0     723.0     720.0     720.0   \n",
       "1      Albania    1451.0    1463.0    1511.0    1563.0    1616.0    1675.0   \n",
       "2      Algeria    2088.0    1799.0    1433.0    1768.0    1806.0    1870.0   \n",
       "\n",
       "   1966_GDP  1967_GDP  1968_GDP  ...   2006_GDP   2007_GDP   2008_GDP  \\\n",
       "0     710.0     712.0     719.0  ...   790.0000   863.0000   869.0000   \n",
       "1    1738.0    1804.0    1869.0  ...  4367.4382  4647.3138  5010.0318   \n",
       "2    1725.0    1824.0    1977.0  ...  3385.7719  3427.7116  3447.4191   \n",
       "\n",
       "    2009_GDP   2010_GDP  2011_GDP  2012_GDP  2013_GDP  2014_GDP  2015_GDP  \n",
       "0        NaN        NaN       NaN       NaN       NaN       NaN       NaN  \n",
       "1  5178.8669  5374.9908       NaN       NaN       NaN       NaN       NaN  \n",
       "2  3466.5426  3512.5807       NaN       NaN       NaN       NaN       NaN  \n",
       "\n",
       "[3 rows x 57 columns]"
      ]
     },
     "execution_count": 7,
     "metadata": {},
     "output_type": "execute_result"
    }
   ],
   "source": [
    "GDP.rename(columns={'{}'.format(i):'{}_GDP'.format(i) for i in range(1960, 2016)}, inplace=True)\n",
    "GDP.head(3)"
   ]
  },
  {
   "cell_type": "markdown",
   "metadata": {},
   "source": [
    "**B.** Benenne auch die Spalten im ```tage```-DataFrame entsprechend um, indem du den suffix ```_days``` an die Spaltennamen hängst."
   ]
  },
  {
   "cell_type": "code",
   "execution_count": 8,
   "metadata": {
    "run_control": {
     "frozen": false,
     "read_only": false
    }
   },
   "outputs": [
    {
     "name": "stdout",
     "output_type": "stream",
     "text": [
      "Anzahl Zeilen (Länder): 195\n"
     ]
    },
    {
     "data": {
      "text/html": [
       "<div>\n",
       "<style scoped>\n",
       "    .dataframe tbody tr th:only-of-type {\n",
       "        vertical-align: middle;\n",
       "    }\n",
       "\n",
       "    .dataframe tbody tr th {\n",
       "        vertical-align: top;\n",
       "    }\n",
       "\n",
       "    .dataframe thead th {\n",
       "        text-align: right;\n",
       "    }\n",
       "</style>\n",
       "<table border=\"1\" class=\"dataframe\">\n",
       "  <thead>\n",
       "    <tr style=\"text-align: right;\">\n",
       "      <th></th>\n",
       "      <th>country name</th>\n",
       "      <th>1960_days</th>\n",
       "      <th>1961_days</th>\n",
       "      <th>1962_days</th>\n",
       "      <th>1963_days</th>\n",
       "      <th>1964_days</th>\n",
       "      <th>1965_days</th>\n",
       "      <th>1966_days</th>\n",
       "      <th>1967_days</th>\n",
       "      <th>1968_days</th>\n",
       "      <th>...</th>\n",
       "      <th>2006_days</th>\n",
       "      <th>2007_days</th>\n",
       "      <th>2008_days</th>\n",
       "      <th>2009_days</th>\n",
       "      <th>2010_days</th>\n",
       "      <th>2011_days</th>\n",
       "      <th>2012_days</th>\n",
       "      <th>2013_days</th>\n",
       "      <th>2014_days</th>\n",
       "      <th>2015_days</th>\n",
       "    </tr>\n",
       "  </thead>\n",
       "  <tbody>\n",
       "    <tr>\n",
       "      <td>0</td>\n",
       "      <td>Afghanistan</td>\n",
       "      <td>NaN</td>\n",
       "      <td>NaN</td>\n",
       "      <td>NaN</td>\n",
       "      <td>NaN</td>\n",
       "      <td>NaN</td>\n",
       "      <td>NaN</td>\n",
       "      <td>NaN</td>\n",
       "      <td>NaN</td>\n",
       "      <td>NaN</td>\n",
       "      <td>...</td>\n",
       "      <td>NaN</td>\n",
       "      <td>NaN</td>\n",
       "      <td>NaN</td>\n",
       "      <td>NaN</td>\n",
       "      <td>NaN</td>\n",
       "      <td>NaN</td>\n",
       "      <td>NaN</td>\n",
       "      <td>NaN</td>\n",
       "      <td>NaN</td>\n",
       "      <td>NaN</td>\n",
       "    </tr>\n",
       "    <tr>\n",
       "      <td>1</td>\n",
       "      <td>Albania</td>\n",
       "      <td>NaN</td>\n",
       "      <td>NaN</td>\n",
       "      <td>NaN</td>\n",
       "      <td>NaN</td>\n",
       "      <td>NaN</td>\n",
       "      <td>NaN</td>\n",
       "      <td>NaN</td>\n",
       "      <td>NaN</td>\n",
       "      <td>NaN</td>\n",
       "      <td>...</td>\n",
       "      <td>NaN</td>\n",
       "      <td>NaN</td>\n",
       "      <td>NaN</td>\n",
       "      <td>NaN</td>\n",
       "      <td>NaN</td>\n",
       "      <td>NaN</td>\n",
       "      <td>NaN</td>\n",
       "      <td>NaN</td>\n",
       "      <td>NaN</td>\n",
       "      <td>NaN</td>\n",
       "    </tr>\n",
       "    <tr>\n",
       "      <td>2</td>\n",
       "      <td>Algeria</td>\n",
       "      <td>NaN</td>\n",
       "      <td>NaN</td>\n",
       "      <td>NaN</td>\n",
       "      <td>NaN</td>\n",
       "      <td>NaN</td>\n",
       "      <td>NaN</td>\n",
       "      <td>NaN</td>\n",
       "      <td>NaN</td>\n",
       "      <td>NaN</td>\n",
       "      <td>...</td>\n",
       "      <td>NaN</td>\n",
       "      <td>NaN</td>\n",
       "      <td>NaN</td>\n",
       "      <td>NaN</td>\n",
       "      <td>NaN</td>\n",
       "      <td>NaN</td>\n",
       "      <td>NaN</td>\n",
       "      <td>NaN</td>\n",
       "      <td>NaN</td>\n",
       "      <td>NaN</td>\n",
       "    </tr>\n",
       "  </tbody>\n",
       "</table>\n",
       "<p>3 rows × 57 columns</p>\n",
       "</div>"
      ],
      "text/plain": [
       "  country name  1960_days  1961_days  1962_days  1963_days  1964_days  \\\n",
       "0  Afghanistan        NaN        NaN        NaN        NaN        NaN   \n",
       "1      Albania        NaN        NaN        NaN        NaN        NaN   \n",
       "2      Algeria        NaN        NaN        NaN        NaN        NaN   \n",
       "\n",
       "   1965_days  1966_days  1967_days  1968_days  ...  2006_days  2007_days  \\\n",
       "0        NaN        NaN        NaN        NaN  ...        NaN        NaN   \n",
       "1        NaN        NaN        NaN        NaN  ...        NaN        NaN   \n",
       "2        NaN        NaN        NaN        NaN  ...        NaN        NaN   \n",
       "\n",
       "   2008_days  2009_days  2010_days  2011_days  2012_days  2013_days  \\\n",
       "0        NaN        NaN        NaN        NaN        NaN        NaN   \n",
       "1        NaN        NaN        NaN        NaN        NaN        NaN   \n",
       "2        NaN        NaN        NaN        NaN        NaN        NaN   \n",
       "\n",
       "   2014_days  2015_days  \n",
       "0        NaN        NaN  \n",
       "1        NaN        NaN  \n",
       "2        NaN        NaN  \n",
       "\n",
       "[3 rows x 57 columns]"
      ]
     },
     "execution_count": 8,
     "metadata": {},
     "output_type": "execute_result"
    }
   ],
   "source": [
    "tage.rename(columns={'{}'.format(i):'{}_days'.format(i) for i in range(1960, 2016)}, inplace=True)\n",
    "print('Anzahl Zeilen (Länder): {}'.format(len(tage)))\n",
    "tage.head(3)"
   ]
  },
  {
   "cell_type": "markdown",
   "metadata": {},
   "source": [
    "Zwei DataFrames lassen sich mit Hilfe der Funktion ```DataFrame.merge()``` zusammenführen (siehe [Dokumentation](https://pandas.pydata.org/pandas-docs/stable/reference/api/pandas.DataFrame.merge.html)). Dabei bezeichnet das Argument ```on``` die Spalte, anhand derer die DataFrames zusammengeführt werden. Bei uns wird das die Spalte ```country name``` sein, da diese als einzige in allen drei DataFrames gleich ist. Das Argument ```how``` gibt an, wie die DataFrames zusammengeführt werden. Währen wir ```how=inner``` dann wird die Schnittmenge der Einträge in der Spalte, anhand derer wir die DataFrames zusammenführen, genommen. Das heißt, Zeilen, die nur in einem DataFrame vorhanden sind aber nicht in dem zweiten, fallen weg."
   ]
  },
  {
   "cell_type": "code",
   "execution_count": 9,
   "metadata": {
    "run_control": {
     "frozen": false,
     "read_only": false
    }
   },
   "outputs": [
    {
     "name": "stdout",
     "output_type": "stream",
     "text": [
      "Anzahl Zeilen (Länder): 171\n"
     ]
    },
    {
     "data": {
      "text/html": [
       "<div>\n",
       "<style scoped>\n",
       "    .dataframe tbody tr th:only-of-type {\n",
       "        vertical-align: middle;\n",
       "    }\n",
       "\n",
       "    .dataframe tbody tr th {\n",
       "        vertical-align: top;\n",
       "    }\n",
       "\n",
       "    .dataframe thead th {\n",
       "        text-align: right;\n",
       "    }\n",
       "</style>\n",
       "<table border=\"1\" class=\"dataframe\">\n",
       "  <thead>\n",
       "    <tr style=\"text-align: right;\">\n",
       "      <th></th>\n",
       "      <th>country name</th>\n",
       "      <th>1960_days</th>\n",
       "      <th>1961_days</th>\n",
       "      <th>1962_days</th>\n",
       "      <th>1963_days</th>\n",
       "      <th>1964_days</th>\n",
       "      <th>1965_days</th>\n",
       "      <th>1966_days</th>\n",
       "      <th>1967_days</th>\n",
       "      <th>1968_days</th>\n",
       "      <th>...</th>\n",
       "      <th>2006_pop</th>\n",
       "      <th>2007_pop</th>\n",
       "      <th>2008_pop</th>\n",
       "      <th>2009_pop</th>\n",
       "      <th>2010_pop</th>\n",
       "      <th>2011_pop</th>\n",
       "      <th>2012_pop</th>\n",
       "      <th>2013_pop</th>\n",
       "      <th>2014_pop</th>\n",
       "      <th>2015_pop</th>\n",
       "    </tr>\n",
       "  </thead>\n",
       "  <tbody>\n",
       "    <tr>\n",
       "      <td>0</td>\n",
       "      <td>Afghanistan</td>\n",
       "      <td>NaN</td>\n",
       "      <td>NaN</td>\n",
       "      <td>NaN</td>\n",
       "      <td>NaN</td>\n",
       "      <td>NaN</td>\n",
       "      <td>NaN</td>\n",
       "      <td>NaN</td>\n",
       "      <td>NaN</td>\n",
       "      <td>NaN</td>\n",
       "      <td>...</td>\n",
       "      <td>25893450.0</td>\n",
       "      <td>26616792.0</td>\n",
       "      <td>27294031.0</td>\n",
       "      <td>28004331.0</td>\n",
       "      <td>28803167.0</td>\n",
       "      <td>29708599.0</td>\n",
       "      <td>30696958.0</td>\n",
       "      <td>31731688.0</td>\n",
       "      <td>32758020.0</td>\n",
       "      <td>33736494.0</td>\n",
       "    </tr>\n",
       "    <tr>\n",
       "      <td>1</td>\n",
       "      <td>Albania</td>\n",
       "      <td>NaN</td>\n",
       "      <td>NaN</td>\n",
       "      <td>NaN</td>\n",
       "      <td>NaN</td>\n",
       "      <td>NaN</td>\n",
       "      <td>NaN</td>\n",
       "      <td>NaN</td>\n",
       "      <td>NaN</td>\n",
       "      <td>NaN</td>\n",
       "      <td>...</td>\n",
       "      <td>2992547.0</td>\n",
       "      <td>2970017.0</td>\n",
       "      <td>2947314.0</td>\n",
       "      <td>2927519.0</td>\n",
       "      <td>2913021.0</td>\n",
       "      <td>2905195.0</td>\n",
       "      <td>2900401.0</td>\n",
       "      <td>2895092.0</td>\n",
       "      <td>2889104.0</td>\n",
       "      <td>2880703.0</td>\n",
       "    </tr>\n",
       "    <tr>\n",
       "      <td>2</td>\n",
       "      <td>Algeria</td>\n",
       "      <td>NaN</td>\n",
       "      <td>NaN</td>\n",
       "      <td>NaN</td>\n",
       "      <td>NaN</td>\n",
       "      <td>NaN</td>\n",
       "      <td>NaN</td>\n",
       "      <td>NaN</td>\n",
       "      <td>NaN</td>\n",
       "      <td>NaN</td>\n",
       "      <td>...</td>\n",
       "      <td>33777915.0</td>\n",
       "      <td>34300076.0</td>\n",
       "      <td>34860715.0</td>\n",
       "      <td>35465760.0</td>\n",
       "      <td>36117637.0</td>\n",
       "      <td>36819558.0</td>\n",
       "      <td>37565847.0</td>\n",
       "      <td>38338562.0</td>\n",
       "      <td>39113313.0</td>\n",
       "      <td>39871528.0</td>\n",
       "    </tr>\n",
       "  </tbody>\n",
       "</table>\n",
       "<p>3 rows × 114 columns</p>\n",
       "</div>"
      ],
      "text/plain": [
       "  country name  1960_days  1961_days  1962_days  1963_days  1964_days  \\\n",
       "0  Afghanistan        NaN        NaN        NaN        NaN        NaN   \n",
       "1      Albania        NaN        NaN        NaN        NaN        NaN   \n",
       "2      Algeria        NaN        NaN        NaN        NaN        NaN   \n",
       "\n",
       "   1965_days  1966_days  1967_days  1968_days  ...    2006_pop    2007_pop  \\\n",
       "0        NaN        NaN        NaN        NaN  ...  25893450.0  26616792.0   \n",
       "1        NaN        NaN        NaN        NaN  ...   2992547.0   2970017.0   \n",
       "2        NaN        NaN        NaN        NaN  ...  33777915.0  34300076.0   \n",
       "\n",
       "     2008_pop    2009_pop    2010_pop    2011_pop    2012_pop    2013_pop  \\\n",
       "0  27294031.0  28004331.0  28803167.0  29708599.0  30696958.0  31731688.0   \n",
       "1   2947314.0   2927519.0   2913021.0   2905195.0   2900401.0   2895092.0   \n",
       "2  34860715.0  35465760.0  36117637.0  36819558.0  37565847.0  38338562.0   \n",
       "\n",
       "     2014_pop    2015_pop  \n",
       "0  32758020.0  33736494.0  \n",
       "1   2889104.0   2880703.0  \n",
       "2  39113313.0  39871528.0  \n",
       "\n",
       "[3 rows x 114 columns]"
      ]
     },
     "execution_count": 9,
     "metadata": {},
     "output_type": "execute_result"
    }
   ],
   "source": [
    "# zusammenfügen der DataFrames mit den Daten zu den Streiktagen und der Bevölkerung\n",
    "data = tage.merge(pop, on = 'country name', how = 'inner')\n",
    "# wir sehen, dass 24 Länder weggefallen sind, da sie nur im \"tage\", nicht\n",
    "# aber im \"pop\"-DataFrame vorhanden waren\n",
    "print('Anzahl Zeilen (Länder): {}'.format(len(data)))\n",
    "data.head(3)"
   ]
  },
  {
   "cell_type": "markdown",
   "metadata": {},
   "source": [
    "**C.** Füge das neu geschaffene DataFrame ```data``` mit dem verbleibenden DataFrame ```GDP``` zusammen."
   ]
  },
  {
   "cell_type": "code",
   "execution_count": 10,
   "metadata": {
    "run_control": {
     "frozen": false,
     "read_only": false
    }
   },
   "outputs": [
    {
     "data": {
      "text/html": [
       "<div>\n",
       "<style scoped>\n",
       "    .dataframe tbody tr th:only-of-type {\n",
       "        vertical-align: middle;\n",
       "    }\n",
       "\n",
       "    .dataframe tbody tr th {\n",
       "        vertical-align: top;\n",
       "    }\n",
       "\n",
       "    .dataframe thead th {\n",
       "        text-align: right;\n",
       "    }\n",
       "</style>\n",
       "<table border=\"1\" class=\"dataframe\">\n",
       "  <thead>\n",
       "    <tr style=\"text-align: right;\">\n",
       "      <th></th>\n",
       "      <th>country name</th>\n",
       "      <th>1960_days</th>\n",
       "      <th>1961_days</th>\n",
       "      <th>1962_days</th>\n",
       "      <th>1963_days</th>\n",
       "      <th>1964_days</th>\n",
       "      <th>1965_days</th>\n",
       "      <th>1966_days</th>\n",
       "      <th>1967_days</th>\n",
       "      <th>1968_days</th>\n",
       "      <th>...</th>\n",
       "      <th>2006_GDP</th>\n",
       "      <th>2007_GDP</th>\n",
       "      <th>2008_GDP</th>\n",
       "      <th>2009_GDP</th>\n",
       "      <th>2010_GDP</th>\n",
       "      <th>2011_GDP</th>\n",
       "      <th>2012_GDP</th>\n",
       "      <th>2013_GDP</th>\n",
       "      <th>2014_GDP</th>\n",
       "      <th>2015_GDP</th>\n",
       "    </tr>\n",
       "  </thead>\n",
       "  <tbody>\n",
       "    <tr>\n",
       "      <td>0</td>\n",
       "      <td>Afghanistan</td>\n",
       "      <td>NaN</td>\n",
       "      <td>NaN</td>\n",
       "      <td>NaN</td>\n",
       "      <td>NaN</td>\n",
       "      <td>NaN</td>\n",
       "      <td>NaN</td>\n",
       "      <td>NaN</td>\n",
       "      <td>NaN</td>\n",
       "      <td>NaN</td>\n",
       "      <td>...</td>\n",
       "      <td>790.0000</td>\n",
       "      <td>863.0000</td>\n",
       "      <td>869.0000</td>\n",
       "      <td>NaN</td>\n",
       "      <td>NaN</td>\n",
       "      <td>NaN</td>\n",
       "      <td>NaN</td>\n",
       "      <td>NaN</td>\n",
       "      <td>NaN</td>\n",
       "      <td>NaN</td>\n",
       "    </tr>\n",
       "    <tr>\n",
       "      <td>1</td>\n",
       "      <td>Albania</td>\n",
       "      <td>NaN</td>\n",
       "      <td>NaN</td>\n",
       "      <td>NaN</td>\n",
       "      <td>NaN</td>\n",
       "      <td>NaN</td>\n",
       "      <td>NaN</td>\n",
       "      <td>NaN</td>\n",
       "      <td>NaN</td>\n",
       "      <td>NaN</td>\n",
       "      <td>...</td>\n",
       "      <td>4367.4382</td>\n",
       "      <td>4647.3138</td>\n",
       "      <td>5010.0318</td>\n",
       "      <td>5178.8669</td>\n",
       "      <td>5374.9908</td>\n",
       "      <td>NaN</td>\n",
       "      <td>NaN</td>\n",
       "      <td>NaN</td>\n",
       "      <td>NaN</td>\n",
       "      <td>NaN</td>\n",
       "    </tr>\n",
       "    <tr>\n",
       "      <td>2</td>\n",
       "      <td>Algeria</td>\n",
       "      <td>NaN</td>\n",
       "      <td>NaN</td>\n",
       "      <td>NaN</td>\n",
       "      <td>NaN</td>\n",
       "      <td>NaN</td>\n",
       "      <td>NaN</td>\n",
       "      <td>NaN</td>\n",
       "      <td>NaN</td>\n",
       "      <td>NaN</td>\n",
       "      <td>...</td>\n",
       "      <td>3385.7719</td>\n",
       "      <td>3427.7116</td>\n",
       "      <td>3447.4191</td>\n",
       "      <td>3466.5426</td>\n",
       "      <td>3512.5807</td>\n",
       "      <td>NaN</td>\n",
       "      <td>NaN</td>\n",
       "      <td>NaN</td>\n",
       "      <td>NaN</td>\n",
       "      <td>NaN</td>\n",
       "    </tr>\n",
       "  </tbody>\n",
       "</table>\n",
       "<p>3 rows × 170 columns</p>\n",
       "</div>"
      ],
      "text/plain": [
       "  country name  1960_days  1961_days  1962_days  1963_days  1964_days  \\\n",
       "0  Afghanistan        NaN        NaN        NaN        NaN        NaN   \n",
       "1      Albania        NaN        NaN        NaN        NaN        NaN   \n",
       "2      Algeria        NaN        NaN        NaN        NaN        NaN   \n",
       "\n",
       "   1965_days  1966_days  1967_days  1968_days  ...   2006_GDP   2007_GDP  \\\n",
       "0        NaN        NaN        NaN        NaN  ...   790.0000   863.0000   \n",
       "1        NaN        NaN        NaN        NaN  ...  4367.4382  4647.3138   \n",
       "2        NaN        NaN        NaN        NaN  ...  3385.7719  3427.7116   \n",
       "\n",
       "    2008_GDP   2009_GDP   2010_GDP  2011_GDP  2012_GDP  2013_GDP  2014_GDP  \\\n",
       "0   869.0000        NaN        NaN       NaN       NaN       NaN       NaN   \n",
       "1  5010.0318  5178.8669  5374.9908       NaN       NaN       NaN       NaN   \n",
       "2  3447.4191  3466.5426  3512.5807       NaN       NaN       NaN       NaN   \n",
       "\n",
       "   2015_GDP  \n",
       "0       NaN  \n",
       "1       NaN  \n",
       "2       NaN  \n",
       "\n",
       "[3 rows x 170 columns]"
      ]
     },
     "execution_count": 10,
     "metadata": {},
     "output_type": "execute_result"
    }
   ],
   "source": [
    "data = data.merge(GDP, on = 'country name', how = 'inner')\n",
    "data.head(3)"
   ]
  },
  {
   "cell_type": "markdown",
   "metadata": {},
   "source": [
    "[Anfang](#top)"
   ]
  },
  {
   "cell_type": "markdown",
   "metadata": {},
   "source": [
    "<a name=\"pro_kopf_streiktage\"></a>2. Pro-Kopf Streiktage\n",
    "---\n",
    "Aktuell liegt die Anzahl der Streiktage für ein Jahr in einem Land als absoluter Wert vor. Natürlich haben größere Ländern tendentiell mehr Streiktage als kleinere."
   ]
  },
  {
   "cell_type": "markdown",
   "metadata": {},
   "source": [
    "**A. (optional)** Überprüfe diese Aussage, indem du analysierst, ob die mittlere Anzahl der Streiktage zwischen 1980 und 2000 tatsälich mit der mittleren Bevölkerungsanzahl in diesen Jahren korreliert. Benutze dafür die in Teil **3** vorgestellte lineare Regression."
   ]
  },
  {
   "cell_type": "code",
   "execution_count": 24,
   "metadata": {
    "run_control": {
     "frozen": false,
     "read_only": false
    }
   },
   "outputs": [
    {
     "name": "stdout",
     "output_type": "stream",
     "text": [
      "Verbleibende Länder im Zeitraum 1980 bis 2000: 96\n"
     ]
    },
    {
     "name": "stderr",
     "output_type": "stream",
     "text": [
      "/anaconda/envs/networks/lib/python3.6/site-packages/IPython/core/pylabtools.py:121: UserWarning: Creating legend with loc=\"best\" can be slow with large amounts of data.\n",
      "  fig.canvas.print_figure(bytes_io, **kw)\n"
     ]
    },
    {
     "data": {
      "image/png": "[encoded data removed]",
      "text/plain": [
       "<Figure size 864x720 with 1 Axes>"
      ]
     },
     "metadata": {},
     "output_type": "display_data"
    }
   ],
   "source": [
    "import matplotlib.pyplot as plt\n",
    "import scipy.stats\n",
    "import numpy as np\n",
    "%matplotlib inline\n",
    "\n",
    "plt.figure(figsize=(12,10))\n",
    "# start-Jahr ab dem gemittelt wird\n",
    "start = 1980\n",
    "# Zeitraum (in Jahren) über den gemittelt wird\n",
    "window = 20\n",
    "\n",
    "# mittlere Streikanzahl im Zeitraum\n",
    "strike_columns = ['{}_days'.format(i) for i in range(start, start + window)]\n",
    "average_strikes = data[strike_columns].mean(axis=1)\n",
    "\n",
    "# mittlere Bevölkerungszahl im Zeitraum\n",
    "pop_columns = ['{}_pop'.format(i) for i in range(start, start + window)]\n",
    "average_pop = data[pop_columns].mean(axis=1)\n",
    "\n",
    "# temporäres DataFrame zum speichern der Werte\n",
    "temp_df = pd.DataFrame({'country name':data['country name'],\\\n",
    "                        'strikes':average_strikes,\\\n",
    "                        'population':average_pop})\n",
    "\n",
    "# entferne alle Einträge, die fehlende Werte aufweisen\n",
    "temp_df.dropna(inplace=True)\n",
    "print('Verbleibende Länder im Zeitraum {} bis {}: {}'\\\n",
    "      .format(start, start + window, len(temp_df)))\n",
    "\n",
    "# lineare Regression der Streiktage über der Bevölkerungszahl\n",
    "slope, intercept, rvalue, pvalue, stderr = \\\n",
    "    scipy.stats.linregress(temp_df['population'], temp_df['strikes'].astype(float))\n",
    "\n",
    "# Scatterplot der mittleren Streiktage über der mittleren\n",
    "# Bevölkerungsanzahl\n",
    "plt.scatter(temp_df['population'], temp_df['strikes'], label='Daten')\n",
    "x = np.arange(temp_df['population'].min(), temp_df['population'].max(), 1e3)\n",
    "y = intercept + slope * x\n",
    "plt.plot(x, y, '--', color='red', label='Regression')\n",
    "\n",
    "# Beschriftung der Datenpunkte mit Ländernamen\n",
    "for name, y, x in zip(temp_df['country name'], temp_df['strikes'], temp_df['population']):\n",
    "    plt.text(x, y + 1e6, name, fontsize=8)\n",
    "    \n",
    "# Beschriftung mit Werten aus der linearen Regression\n",
    "plt.text(1e5, 2*1e7, 'Korrelationskoeffizient: {:1.2f}'.format(rvalue))\n",
    "plt.text(1e5, 1.75*1e7, 'p-Wert: {:1.2f}'.format(pvalue))\n",
    "    \n",
    "# Beschriftung des Plots\n",
    "plt.ylabel('Mittlere Anzahl Streiktage')\n",
    "plt.xlabel('Mittlere Bevölkerungsanzahl')\n",
    "plt.title('Streiktage über Bevölkerung,\\n gemittelt von {} bis {}'\\\n",
    "          .format(start, start + window))\n",
    "plt.legend()\n",
    "\n",
    "# logarithmische x-achse, damit überhaupt irgendetwas zu erkennen ist\n",
    "plt.xscale('log')"
   ]
  },
  {
   "cell_type": "markdown",
   "metadata": {},
   "source": [
    "**B.** Teile für jedes Jahr die Anzahl der Streiktage durch die Bevölkerungszahl und füge die resultierende genormte Anzahl an Streiktagen dem DataFrame als neue Spalten hinzu."
   ]
  },
  {
   "cell_type": "code",
   "execution_count": 12,
   "metadata": {
    "run_control": {
     "frozen": false,
     "read_only": false
    }
   },
   "outputs": [
    {
     "data": {
      "text/html": [
       "<div>\n",
       "<style scoped>\n",
       "    .dataframe tbody tr th:only-of-type {\n",
       "        vertical-align: middle;\n",
       "    }\n",
       "\n",
       "    .dataframe tbody tr th {\n",
       "        vertical-align: top;\n",
       "    }\n",
       "\n",
       "    .dataframe thead th {\n",
       "        text-align: right;\n",
       "    }\n",
       "</style>\n",
       "<table border=\"1\" class=\"dataframe\">\n",
       "  <thead>\n",
       "    <tr style=\"text-align: right;\">\n",
       "      <th></th>\n",
       "      <th>country name</th>\n",
       "      <th>1960_days</th>\n",
       "      <th>1961_days</th>\n",
       "      <th>1962_days</th>\n",
       "      <th>1963_days</th>\n",
       "      <th>1964_days</th>\n",
       "      <th>1965_days</th>\n",
       "      <th>1966_days</th>\n",
       "      <th>1967_days</th>\n",
       "      <th>1968_days</th>\n",
       "      <th>...</th>\n",
       "      <th>2006_norm</th>\n",
       "      <th>2007_norm</th>\n",
       "      <th>2008_norm</th>\n",
       "      <th>2009_norm</th>\n",
       "      <th>2010_norm</th>\n",
       "      <th>2011_norm</th>\n",
       "      <th>2012_norm</th>\n",
       "      <th>2013_norm</th>\n",
       "      <th>2014_norm</th>\n",
       "      <th>2015_norm</th>\n",
       "    </tr>\n",
       "  </thead>\n",
       "  <tbody>\n",
       "    <tr>\n",
       "      <td>0</td>\n",
       "      <td>Afghanistan</td>\n",
       "      <td>NaN</td>\n",
       "      <td>NaN</td>\n",
       "      <td>NaN</td>\n",
       "      <td>NaN</td>\n",
       "      <td>NaN</td>\n",
       "      <td>NaN</td>\n",
       "      <td>NaN</td>\n",
       "      <td>NaN</td>\n",
       "      <td>NaN</td>\n",
       "      <td>...</td>\n",
       "      <td>NaN</td>\n",
       "      <td>NaN</td>\n",
       "      <td>NaN</td>\n",
       "      <td>NaN</td>\n",
       "      <td>NaN</td>\n",
       "      <td>NaN</td>\n",
       "      <td>NaN</td>\n",
       "      <td>NaN</td>\n",
       "      <td>NaN</td>\n",
       "      <td>NaN</td>\n",
       "    </tr>\n",
       "    <tr>\n",
       "      <td>1</td>\n",
       "      <td>Albania</td>\n",
       "      <td>NaN</td>\n",
       "      <td>NaN</td>\n",
       "      <td>NaN</td>\n",
       "      <td>NaN</td>\n",
       "      <td>NaN</td>\n",
       "      <td>NaN</td>\n",
       "      <td>NaN</td>\n",
       "      <td>NaN</td>\n",
       "      <td>NaN</td>\n",
       "      <td>...</td>\n",
       "      <td>NaN</td>\n",
       "      <td>NaN</td>\n",
       "      <td>NaN</td>\n",
       "      <td>NaN</td>\n",
       "      <td>NaN</td>\n",
       "      <td>NaN</td>\n",
       "      <td>NaN</td>\n",
       "      <td>NaN</td>\n",
       "      <td>NaN</td>\n",
       "      <td>NaN</td>\n",
       "    </tr>\n",
       "    <tr>\n",
       "      <td>2</td>\n",
       "      <td>Algeria</td>\n",
       "      <td>NaN</td>\n",
       "      <td>NaN</td>\n",
       "      <td>NaN</td>\n",
       "      <td>NaN</td>\n",
       "      <td>NaN</td>\n",
       "      <td>NaN</td>\n",
       "      <td>NaN</td>\n",
       "      <td>NaN</td>\n",
       "      <td>NaN</td>\n",
       "      <td>...</td>\n",
       "      <td>NaN</td>\n",
       "      <td>NaN</td>\n",
       "      <td>NaN</td>\n",
       "      <td>NaN</td>\n",
       "      <td>NaN</td>\n",
       "      <td>NaN</td>\n",
       "      <td>NaN</td>\n",
       "      <td>NaN</td>\n",
       "      <td>NaN</td>\n",
       "      <td>NaN</td>\n",
       "    </tr>\n",
       "  </tbody>\n",
       "</table>\n",
       "<p>3 rows × 226 columns</p>\n",
       "</div>"
      ],
      "text/plain": [
       "  country name  1960_days  1961_days  1962_days  1963_days  1964_days  \\\n",
       "0  Afghanistan        NaN        NaN        NaN        NaN        NaN   \n",
       "1      Albania        NaN        NaN        NaN        NaN        NaN   \n",
       "2      Algeria        NaN        NaN        NaN        NaN        NaN   \n",
       "\n",
       "   1965_days  1966_days  1967_days  1968_days  ...  2006_norm  2007_norm  \\\n",
       "0        NaN        NaN        NaN        NaN  ...        NaN        NaN   \n",
       "1        NaN        NaN        NaN        NaN  ...        NaN        NaN   \n",
       "2        NaN        NaN        NaN        NaN  ...        NaN        NaN   \n",
       "\n",
       "   2008_norm  2009_norm  2010_norm  2011_norm  2012_norm  2013_norm  \\\n",
       "0        NaN        NaN        NaN        NaN        NaN        NaN   \n",
       "1        NaN        NaN        NaN        NaN        NaN        NaN   \n",
       "2        NaN        NaN        NaN        NaN        NaN        NaN   \n",
       "\n",
       "   2014_norm  2015_norm  \n",
       "0        NaN        NaN  \n",
       "1        NaN        NaN  \n",
       "2        NaN        NaN  \n",
       "\n",
       "[3 rows x 226 columns]"
      ]
     },
     "execution_count": 12,
     "metadata": {},
     "output_type": "execute_result"
    }
   ],
   "source": [
    "# normalisierte Streiktage\n",
    "for i in range(1960, 2016):\n",
    "    data['{}_norm'.format(i)] = data['{}_days'.format(i)] / data['{}_pop'.format(i)]\n",
    "    \n",
    "data.head(3)"
   ]
  },
  {
   "cell_type": "markdown",
   "metadata": {},
   "source": [
    "Wie gewohnt, können wir das DataFrame nach einzelnen Ländern filtern. Die der Verlauf der absoluten Anzahl der Streiktage lässt sich dann einfach als Zeitreihe visualisieren:"
   ]
  },
  {
   "cell_type": "code",
   "execution_count": 13,
   "metadata": {
    "run_control": {
     "frozen": false,
     "read_only": false
    }
   },
   "outputs": [
    {
     "data": {
      "text/html": [
       "<div>\n",
       "<style scoped>\n",
       "    .dataframe tbody tr th:only-of-type {\n",
       "        vertical-align: middle;\n",
       "    }\n",
       "\n",
       "    .dataframe tbody tr th {\n",
       "        vertical-align: top;\n",
       "    }\n",
       "\n",
       "    .dataframe thead th {\n",
       "        text-align: right;\n",
       "    }\n",
       "</style>\n",
       "<table border=\"1\" class=\"dataframe\">\n",
       "  <thead>\n",
       "    <tr style=\"text-align: right;\">\n",
       "      <th></th>\n",
       "      <th>country name</th>\n",
       "      <th>1960_days</th>\n",
       "      <th>1961_days</th>\n",
       "      <th>1962_days</th>\n",
       "      <th>1963_days</th>\n",
       "      <th>1964_days</th>\n",
       "      <th>1965_days</th>\n",
       "      <th>1966_days</th>\n",
       "      <th>1967_days</th>\n",
       "      <th>1968_days</th>\n",
       "      <th>...</th>\n",
       "      <th>2006_norm</th>\n",
       "      <th>2007_norm</th>\n",
       "      <th>2008_norm</th>\n",
       "      <th>2009_norm</th>\n",
       "      <th>2010_norm</th>\n",
       "      <th>2011_norm</th>\n",
       "      <th>2012_norm</th>\n",
       "      <th>2013_norm</th>\n",
       "      <th>2014_norm</th>\n",
       "      <th>2015_norm</th>\n",
       "    </tr>\n",
       "  </thead>\n",
       "  <tbody>\n",
       "    <tr>\n",
       "      <td>163</td>\n",
       "      <td>United Kingdom</td>\n",
       "      <td>3024000.0</td>\n",
       "      <td>3046000.0</td>\n",
       "      <td>5798000.0</td>\n",
       "      <td>1755000.0</td>\n",
       "      <td>2277000.0</td>\n",
       "      <td>2925000.0</td>\n",
       "      <td>2398000.0</td>\n",
       "      <td>2787000.0</td>\n",
       "      <td>4690000.0</td>\n",
       "      <td>...</td>\n",
       "      <td>0.0124</td>\n",
       "      <td>0.016977</td>\n",
       "      <td>0.012278</td>\n",
       "      <td>0.007309</td>\n",
       "      <td>0.00582</td>\n",
       "      <td>0.021973</td>\n",
       "      <td>0.003909</td>\n",
       "      <td>0.006917</td>\n",
       "      <td>NaN</td>\n",
       "      <td>NaN</td>\n",
       "    </tr>\n",
       "  </tbody>\n",
       "</table>\n",
       "<p>1 rows × 226 columns</p>\n",
       "</div>"
      ],
      "text/plain": [
       "       country name  1960_days  1961_days  1962_days  1963_days  1964_days  \\\n",
       "163  United Kingdom  3024000.0  3046000.0  5798000.0  1755000.0  2277000.0   \n",
       "\n",
       "     1965_days  1966_days  1967_days  1968_days  ...  2006_norm  2007_norm  \\\n",
       "163  2925000.0  2398000.0  2787000.0  4690000.0  ...     0.0124   0.016977   \n",
       "\n",
       "     2008_norm  2009_norm  2010_norm  2011_norm  2012_norm  2013_norm  \\\n",
       "163   0.012278   0.007309    0.00582   0.021973   0.003909   0.006917   \n",
       "\n",
       "     2014_norm  2015_norm  \n",
       "163        NaN        NaN  \n",
       "\n",
       "[1 rows x 226 columns]"
      ]
     },
     "execution_count": 13,
     "metadata": {},
     "output_type": "execute_result"
    }
   ],
   "source": [
    "country = 'United Kingdom'\n",
    "filter_country = data['country name'] == country\n",
    "data_country = data[filter_country]\n",
    "data_country.head()"
   ]
  },
  {
   "cell_type": "code",
   "execution_count": 14,
   "metadata": {
    "run_control": {
     "frozen": false,
     "read_only": false
    }
   },
   "outputs": [
    {
     "data": {
      "text/plain": [
       "Text(0.5, 1.0, 'United Kingdom')"
      ]
     },
     "execution_count": 14,
     "metadata": {},
     "output_type": "execute_result"
    },
    {
     "data": {
      "image/png": "[encoded data removed]",
      "text/plain": [
       "<Figure size 432x288 with 1 Axes>"
      ]
     },
     "metadata": {},
     "output_type": "display_data"
    }
   ],
   "source": [
    "import matplotlib.pyplot as plt\n",
    "%matplotlib inline\n",
    "\n",
    "years = list(range(1960, 2015))\n",
    "y = data_country[['{}_days'.format(i) for i in years]].values[0]\n",
    "plt.plot(years, y)\n",
    "plt.xlabel('Jahr')\n",
    "plt.ylabel('absolute Anzahl Streiktage')\n",
    "plt.title('{}'.format(country))"
   ]
  },
  {
   "cell_type": "markdown",
   "metadata": {},
   "source": [
    "**C.** Nachdem wir die Streiktage normalisiert haben, sind auch Länder mit drastisch unterschiedlicher Bevölkerungszahl verlgeichbar. Stelle für drei Länder deiner Wahl, deren Bevölkerungszahl sich stark unterscheidet, den Zeitverlauf der mit der Bevölkerungszahl normalisierten Streiktage dar. "
   ]
  },
  {
   "cell_type": "code",
   "execution_count": 15,
   "metadata": {
    "run_control": {
     "frozen": false,
     "read_only": false
    }
   },
   "outputs": [
    {
     "data": {
      "text/plain": [
       "<matplotlib.legend.Legend at 0x122b5d390>"
      ]
     },
     "execution_count": 15,
     "metadata": {},
     "output_type": "execute_result"
    },
    {
     "data": {
      "image/png": "[encoded data removed]",
      "text/plain": [
       "<Figure size 432x288 with 1 Axes>"
      ]
     },
     "metadata": {},
     "output_type": "display_data"
    }
   ],
   "source": [
    "# drei Länder\n",
    "countries = ['India', 'Spain', 'Austria']\n",
    "# filter\n",
    "country_filters = [data['country name'] == c for c in countries]\n",
    "# nach Ländern gefilterte DataFrames\n",
    "country_data = [data[f] for f in country_filters]\n",
    "\n",
    "# Zeitraum\n",
    "years = list(range(1960, 2015))\n",
    "\n",
    "# Liniendiagramme der Zeitreihen für die drei Länder\n",
    "for c, d in zip(countries, country_data):\n",
    "    y = d[['{}_norm'.format(i) for i in years]].values[0]\n",
    "    plt.plot(years, y, label = c)\n",
    "\n",
    "# Beschriftungen\n",
    "plt.xlabel('Jahr')\n",
    "plt.ylabel('Streiktage / Einwohner')\n",
    "plt.legend()"
   ]
  },
  {
   "cell_type": "markdown",
   "metadata": {},
   "source": [
    "**D. (optional)** Aktuell normalisieren wir die Anzahl der Streiktage in einem Jahr mit der Bevölkerungszahl im selben Jahr. Untersuche anhand des Beispiels von einem Land, wie groß der Unterschied zwischen dieser Vorgehensweise und einer Normalisierung aller Jahre mit der Bevölkerungszahl im Jahr 1960 bzw. 2015 is."
   ]
  },
  {
   "cell_type": "code",
   "execution_count": 16,
   "metadata": {
    "run_control": {
     "frozen": false,
     "read_only": false
    }
   },
   "outputs": [
    {
     "data": {
      "text/plain": [
       "<matplotlib.legend.Legend at 0x111ae8da0>"
      ]
     },
     "execution_count": 16,
     "metadata": {},
     "output_type": "execute_result"
    },
    {
     "data": {
      "image/png": "[encoded data removed]",
      "text/plain": [
       "<Figure size 432x288 with 1 Axes>"
      ]
     },
     "metadata": {},
     "output_type": "display_data"
    }
   ],
   "source": [
    "# wähle ein Land aus\n",
    "country = 'India'\n",
    "country_filter = data['country name'] == country\n",
    "country_data = data[country_filter]\n",
    "\n",
    "# Zeitraum\n",
    "years = list(range(1960, 2015))\n",
    "\n",
    "# Zeitverlauf der Bevölkerungszahl\n",
    "country_pop = country_data[['{}_pop'.format(i) for i in years]].values[0]\n",
    "# Zeitverlauf der (nicht normalisierten) Streiktage\n",
    "country_days = country_data[['{}_days'.format(i) for i in years]].values[0]\n",
    "\n",
    "# mit dem Verlauf der Bevölkerungsanzahl normalisierter Verlauf der Streiktage\n",
    "y1 = country_data[['{}_norm'.format(i) for i in years]].values[0]\n",
    "# mit der Bevölkerungszahl aus 1960 normalisierter Verlauf der Streiktage\n",
    "y2 = country_days / country_pop[0]\n",
    "# mit der Bevölkerungszahl aus 2015 normalisierter Verlauf der Streiktage\n",
    "y3 = country_days / country_pop[-1]\n",
    "\n",
    "# plotte drei Liniendiagramme für die drei Zeitreihen\n",
    "plt.plot(years, y1, label='mit Bevölkerungsverlauf normalisiert')\n",
    "plt.plot(years, y2, label='mit Bevölkerungswert von 1960 normalisiert')\n",
    "plt.plot(years, y3, label='mit Bevölkerungswert von 2015 normalisiert')\n",
    "\n",
    "# Beschriftungen\n",
    "plt.xlabel('Jahr')\n",
    "plt.ylabel('Streiktage / Bewohner')\n",
    "plt.legend(fontsize=8)"
   ]
  },
  {
   "cell_type": "markdown",
   "metadata": {},
   "source": [
    "**E.** Stelle für die selben drei Länder wie in Aufgabe **2.C** den Verlauf der Bevölkerungszahl über die Zeit dar. <font color='green'>**HINWEIS:**  mit ```plt.yscale('log')``` stellst du die y-Achse auf logarithmische Darstellung um.</font> "
   ]
  },
  {
   "cell_type": "code",
   "execution_count": 17,
   "metadata": {
    "run_control": {
     "frozen": false,
     "read_only": false
    }
   },
   "outputs": [
    {
     "data": {
      "text/plain": [
       "<matplotlib.legend.Legend at 0x111ae1898>"
      ]
     },
     "execution_count": 17,
     "metadata": {},
     "output_type": "execute_result"
    },
    {
     "data": {
      "image/png": "[encoded data removed]",
      "text/plain": [
       "<Figure size 432x288 with 1 Axes>"
      ]
     },
     "metadata": {},
     "output_type": "display_data"
    }
   ],
   "source": [
    "# drei Länder\n",
    "countries = ['India', 'Spain', 'Austria']\n",
    "# filter\n",
    "country_filters = [data['country name'] == c for c in countries]\n",
    "# nach Ländern gefilterte DataFrames\n",
    "country_data = [data[f] for f in country_filters]\n",
    "\n",
    "# Liniendiagramme der Zeitreihen für die drei Länder\n",
    "for c, d in zip(countries, country_data):\n",
    "    y = d[['{}_pop'.format(i) for i in years]].values[0]\n",
    "    plt.plot(years, y, label = c)\n",
    "\n",
    "# y-Achse auf logarithmische Darstellung umstellen\n",
    "plt.yscale('log')\n",
    "    \n",
    "# Beschriftungen\n",
    "plt.xlabel('Jahr')\n",
    "plt.ylabel('Einwohner')\n",
    "plt.legend()"
   ]
  },
  {
   "cell_type": "markdown",
   "metadata": {},
   "source": [
    "[Anfang](#top)"
   ]
  },
  {
   "cell_type": "markdown",
   "metadata": {},
   "source": [
    "<a name=\"inferenz\"></a>3. (optional) Sinkt das BIP durch Streiks?\n",
    "---\n",
    "Schlussendlich wollen wir uns ansehen, ob wir einen statistisch signifikanten Zusammenhang zwischen BIP und (normalisierter) Anzahl der Streiktage in einem Land feststellen können. Um solche Zusammenhänge zwischen Beobachtungen darzustellen, eignet sich der Scatterplot. Die Funktion ```plt.scatter(x,y)``` ([Dokumentation](https://matplotlib.org/3.1.0/api/_as_gen/matplotlib.pyplot.scatter.html)) erlaubt es uns, einen einfachen Scatterplot zu erstellen:"
   ]
  },
  {
   "cell_type": "code",
   "execution_count": 18,
   "metadata": {
    "run_control": {
     "frozen": false,
     "read_only": false
    }
   },
   "outputs": [
    {
     "data": {
      "text/plain": [
       "<matplotlib.collections.PathCollection at 0x11d8f47b8>"
      ]
     },
     "execution_count": 18,
     "metadata": {},
     "output_type": "execute_result"
    },
    {
     "data": {
      "image/png": "[encoded data removed]",
      "text/plain": [
       "<Figure size 432x288 with 1 Axes>"
      ]
     },
     "metadata": {},
     "output_type": "display_data"
    }
   ],
   "source": [
    "x = [3,5,7,4]\n",
    "y = [1,3,2,4]\n",
    "\n",
    "plt.scatter(x,y)"
   ]
  },
  {
   "cell_type": "markdown",
   "metadata": {},
   "source": [
    "**A. (optional)** Berechne die mittlere Anzahl an Streiktagen pro Person zwischen 1960 und 1970. Speichere berechneten genormten Streiktage zusammen mit dem BIP und dem Ländernamen in einem neuen DataFrame. Entferne mit der Funktion ```df.dropna()``` alle fehlenden Einträge aus dem DataFrame."
   ]
  },
  {
   "cell_type": "code",
   "execution_count": 19,
   "metadata": {
    "run_control": {
     "frozen": false,
     "read_only": false
    }
   },
   "outputs": [
    {
     "name": "stdout",
     "output_type": "stream",
     "text": [
      "Verbleibende Länder im Zeitraum 1960 bis 1970: 64\n"
     ]
    }
   ],
   "source": [
    "# start-Jahr ab dem gemittelt wird\n",
    "start = 1960\n",
    "# Zeitraum (in Jahren) über den gemittelt wird\n",
    "window = 10\n",
    "\n",
    "# mittlere Streiktage / Bewohner im Zeitraum\n",
    "strike_columns = ['{}_norm'.format(i) for i in range(start, start + window)]\n",
    "average_strikes = data[strike_columns].mean(axis=1)\n",
    "\n",
    "# temporäres DataFrame zum speichern der Werte\n",
    "temp_df = pd.DataFrame({'country name':data['country name'],\\\n",
    "                        'strikes':average_strikes,\\\n",
    "                        '{}_GDP'.format(start + window):data['{}_GDP'.format(start + window)]})\n",
    "\n",
    "# entferne alle Einträge, die fehlende Werte aufweisen\n",
    "temp_df.dropna(inplace=True)\n",
    "print('Verbleibende Länder im Zeitraum {} bis {}: {}'\\\n",
    "      .format(start, start + window, len(temp_df)))"
   ]
  },
  {
   "cell_type": "markdown",
   "metadata": {},
   "source": [
    "**B. (optional)** Stelle das BIP im Jahr 1990 über der mittleren Anzahl an Streiktagen in diesem Zeitraum dar. Benutze dafür das neu erstellte DataFrame."
   ]
  },
  {
   "cell_type": "code",
   "execution_count": 23,
   "metadata": {
    "run_control": {
     "frozen": false,
     "read_only": false
    }
   },
   "outputs": [
    {
     "data": {
      "text/plain": [
       "<matplotlib.legend.Legend at 0x11b402550>"
      ]
     },
     "execution_count": 23,
     "metadata": {},
     "output_type": "execute_result"
    },
    {
     "data": {
      "image/png": "[encoded data removed]",
      "text/plain": [
       "<Figure size 864x720 with 1 Axes>"
      ]
     },
     "metadata": {},
     "output_type": "display_data"
    }
   ],
   "source": [
    "# Scatterplot der mittleren Streiktage über der mittleren\n",
    "# Bevölkerungsanzahl\n",
    "plt.figure(figsize=(12,10))\n",
    "plt.scatter(temp_df['strikes'], temp_df['{}_GDP'.format(start + window)], label='Daten')\n",
    "\n",
    "# Beschriftung der Datenpunkte mit Ländernamen\n",
    "for name, x, y in zip(temp_df['country name'], temp_df['strikes'],\\\n",
    "                      temp_df['{}_GDP'.format(start + window)]):\n",
    "    plt.text(x, y, name, fontsize=8)\n",
    "    \n",
    "# Beschriftung des Plots\n",
    "plt.ylabel('Mittlere Anzahl Streiktage')\n",
    "plt.xlabel('Mittlere Bevölkerungsanzahl')\n",
    "plt.title('Streiktage über Bevölkerung,\\n gemittelt von {} bis {}'\\\n",
    "          .format(start, start + window))\n",
    "plt.legend()"
   ]
  },
  {
   "cell_type": "markdown",
   "metadata": {},
   "source": [
    "**C. (optional)** Mache dich mit der Funktion ```linregress()``` der Bibliothek SciPy vertraut ([Dokumentation](https://docs.scipy.org/doc/scipy/reference/generated/scipy.stats.linregress.html)). Was für Eingabewerte verlangt die Funktion? Was für Werte gibt sie aus?"
   ]
  },
  {
   "cell_type": "markdown",
   "metadata": {},
   "source": [
    "**Eingabewerte:**\n",
    "* _die unabhängige Variable ```x``` (in unserem Fall die Tweet-Länge in Zeichen)_\n",
    "* _die abhängige Variable ```y``` (in unserem Fall die Anzahl der Worte je Tweet)_\n",
    "\n",
    "**Ausgabewerte:**\n",
    "Die Ausgabewerte der Funktion beschreiben eine Gerade, sowie Maße für die Unsicherheit der Regression\n",
    "* _```slope``` ist die Steigung der Geraden._\n",
    "* _```intercept``` ist der Achsenabschnitt der Geraden._\n",
    "* _der ```rvalue``` ist der \"Korrelationskoeffizient\" und gibt an, wie stark die abhängige Größe mit der unabhängigen korreliert. Ist ```rvalue=1```, dann steigt die abhängige Größe immer dann, wenn die unabhängige auch steigt. Ist ```rvalue=0```, dann sind die beiden Größen unabhängig voneinander. Ist ```rvalue=-1```, dann sinkt die abhängige größe, wenn die unabhängige Größe steigt (anti-korreliert)._\n",
    "* _der ```pvalue``` ([p-Wert](https://de.wikipedia.org/wiki/P-Wert)) gibt an wie wahrscheinlich es ist eine Testgröße zu erhalten die noch unwahrscheinlicher ist als die beobachtete, unter der Annahme, dass die Nullhypothese (keine Korrelation) wahr ist.._\n",
    "* _der ```stderr``` ist der [Standardfehler](https://de.wikipedia.org/wiki/Standardfehler) der Steigung._"
   ]
  },
  {
   "cell_type": "markdown",
   "metadata": {},
   "source": [
    "**D. (optional)** führe eine lineare Regression des BIP über den mittleren Streiktagen pro Person im vorangegangenen Jahrzehnt durch. Gib die resultierenden Werte aus. Was bedeuten sie? "
   ]
  },
  {
   "cell_type": "code",
   "execution_count": 21,
   "metadata": {
    "run_control": {
     "frozen": false,
     "read_only": false
    }
   },
   "outputs": [
    {
     "name": "stdout",
     "output_type": "stream",
     "text": [
      "Resultierende Gerade: y(x) = 3624.75 + (30590.71 +- 9918.52) * x\n",
      "Korrelationskoeffizient: 0.36, p-Wert: 0.003\n"
     ]
    }
   ],
   "source": [
    "# importieren des Untermoduls \"stats\" von SciPy\n",
    "from scipy import stats\n",
    "\n",
    "# Lineare Regression des BIP über den Streiktagen.\n",
    "# Die resultierenden fünf Werte werden direkt fünf Variablen zugeordnet\n",
    "slope, intercept, rvalue, pvalue, stderr = \\\n",
    "    scipy.stats.linregress(temp_df['strikes'], temp_df['{}_GDP'.format(start + window)])\n",
    "\n",
    "# Ausgabe der Ergebnisse\n",
    "print('Resultierende Gerade: y(x) = {:1.2f} + ({:1.2f} +- {:1.2f}) * x'.format(intercept, slope, stderr))\n",
    "print('Korrelationskoeffizient: {:1.2f}, p-Wert: {:1.3f}'.format(rvalue, pvalue))"
   ]
  },
  {
   "cell_type": "markdown",
   "metadata": {},
   "source": [
    "* _Der Korrelationskoeffizient sagt uns, dass das BIP leicht **positiv** mit den Streiktagen pro Person korreliert. Länder mit höherem BIP haben also auch tendentiell mehr Streiktage._\n",
    "* _Der p-Wert sagt uns, dass dieses Ergebnis signifikant ist, wenn wir $p=0.05$ als Signifikanzlevel annehmen. Ein p-Wert von 0.05 bedeutet, dass jeder zwanzigste Versuch, die Datenpunkte zufällig zu verteilen einen p-Wert kleiner als 0.05 produzieren wird. Bei einem niedrigeren p-Wert ist die Chance, das Ergebniss zufällig zu bekommen entsprechend geringer._\n",
    "* _Das Ergebnis (positive Korrelation des BIP mit Streiktagen) ist nicht intuitiv. In erster Näherung würde ich davon ausgehen, dass Streiks das BIP negativ beeinflussen. Eventuell lässt sich die Korrelation damit erklären, dass Länder mit höheren BIP eine stärker organisierte Industrie (Gewerkschaften) aufweisen, und damit auch anfälliger für Streiks sind._"
   ]
  },
  {
   "cell_type": "markdown",
   "metadata": {},
   "source": [
    "**E. (optional)** Stelle die aus der statistischen Regression resultierende Linie über dem Scatterplot aus Aufgabe **2.B** dar."
   ]
  },
  {
   "cell_type": "code",
   "execution_count": 22,
   "metadata": {
    "run_control": {
     "frozen": false,
     "read_only": false
    }
   },
   "outputs": [
    {
     "data": {
      "text/plain": [
       "<matplotlib.legend.Legend at 0x11b068400>"
      ]
     },
     "execution_count": 22,
     "metadata": {},
     "output_type": "execute_result"
    },
    {
     "data": {
      "image/png": "[encoded data removed]",
      "text/plain": [
       "<Figure size 432x288 with 1 Axes>"
      ]
     },
     "metadata": {},
     "output_type": "display_data"
    }
   ],
   "source": [
    "# Scatterplot der mittleren Streiktage über der mittleren\n",
    "# Bevölkerungsanzahl\n",
    "plt.scatter( temp_df['strikes'], temp_df['{}_GDP'.format(start + window)], label='Daten')\n",
    "x = np.arange(temp_df['strikes'].min(), temp_df['strikes'].max(), 0.01)\n",
    "y = intercept + slope * x\n",
    "plt.plot(x, y, '--', color='red', label='Regression')\n",
    "    \n",
    "# Beschriftung mit Werten aus der linearen Regression\n",
    "plt.text(0.16, 7*1e3, 'Korrelationskoeffizient: {:1.2f}'.format(rvalue))\n",
    "plt.text(0.16, 5.5*1e3, 'p-Wert: {:1.3f}'.format(pvalue))\n",
    "    \n",
    "# Beschriftung des Plots\n",
    "plt.ylabel('BIP im Jahr {}'.format(start + window))\n",
    "plt.xlabel('Mittlere Anzahl Streiktage / Person')\n",
    "plt.title('BIP über Streiktage,\\n gemittelt von {} bis {}'\\\n",
    "          .format(start, start + window))\n",
    "plt.legend()\n"
   ]
  },
  {
   "cell_type": "markdown",
   "metadata": {},
   "source": [
    "[Anfang](#top)"
   ]
  }
 ],
 "metadata": {
  "jupytext": {
   "encoding": "# -*- coding: utf-8 -*-"
  },
  "kernelspec": {
   "display_name": "Python 3",
   "language": "python",
   "name": "python3"
  },
  "language_info": {
   "codemirror_mode": {
    "name": "ipython",
    "version": 3
   },
   "file_extension": ".py",
   "mimetype": "text/x-python",
   "name": "python",
   "nbconvert_exporter": "python",
   "pygments_lexer": "ipython3",
   "version": "3.6.1"
  },
  "latex_envs": {
   "bibliofile": "biblio.bib",
   "cite_by": "apalike",
   "current_citInitial": 1,
   "eqLabelWithNumbers": true,
   "eqNumInitial": 0
  },
  "toc": {
   "toc_cell": false,
   "toc_number_sections": true,
   "toc_threshold": 6,
   "toc_window_display": false
  }
 },
 "nbformat": 4,
 "nbformat_minor": 2
}
