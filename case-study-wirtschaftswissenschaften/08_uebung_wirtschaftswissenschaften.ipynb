{
 "cells": [
  {
   "cell_type": "markdown",
   "metadata": {},
   "source": [
    "_Lizenz: Das folgende Lehrmaterial kann unter einer [CC-BY-SA 4.0](https://creativecommons.org/licenses/by/4.0/legalcode) Lizenz frei verwendet, verbreitet und modifiziert werden._   \n",
    " _Authoren: Jana Lasser (jana.lasser@ds.mpg.de)_  \n",
    " _Das Lehrmaterial wurde im Zuge des Projektes \"Daten Lesen Lernen\", gefördert vom Stifterverband und der Heinz Nixdorf Stiftung erstellt._"
   ]
  },
  {
   "cell_type": "markdown",
   "metadata": {},
   "source": [
    "# Übung 08 - Wirtschaftswissenschaften: Bruttoinlandsprodukt und Inferenz\n",
    "### Praktische Hinweise\n",
    "$\\rightarrow$ Übungen sind dafür gedacht, dass ihr sie euch daheim anseht und versucht, ein paar Aufgaben selbst zu lösen. In den Tutorien könnt ihr euch weiter mit dem Lösungen der Aufgaben beschäftigen und dabei Hilfe von den Tutor*innen bekommen.  \n",
    "\n",
    "$\\rightarrow$ Wenn ein Fehler auftritt:\n",
    "1. Fehlermeldung _lesen_ und _verstehen_\n",
    "2. Versuchen, selbst eine Lösung zu finden ($\\rightarrow$ hier findet das Lernen statt!)\n",
    "3. Das Problem googlen (Stichwort: Stackoverflow) oder den/die Nachbar*in fragen\n",
    "4. Tutor*in fragen\n",
    "\n",
    "$\\rightarrow$ Unter <font color='green'>**HINWEIS**</font> werden Hinweise gegeben, die für die Lösung der Aufgabe hilfreich sind und oftmals auch weiterführende Informationen zur Aufgabe liefern.\n",
    "\n",
    "$\\rightarrow$ Mit **(Optional)** gekennzeichnete Übungsteile sind für besonders schnelle Menschen :-)."
   ]
  },
  {
   "cell_type": "markdown",
   "metadata": {},
   "source": [
    "<a name=\"top\"></a>Inhalt\n",
    "--- \n",
    "\n",
    "In den vergangenen Tutorien haben wir uns viel mit Streiks und Streiktagen beschäftigt. Im letzten Tutorium möchten wir quantifizieren, ob und wie sich Streiktage auf die Wirtschaft bzw. die Wirtschaft auf die Anzahl der Streiktage auswirken. Dazu ziehen wir zusätzliche Daten zum Bruttoinlandsprodukt der Länder sowie zu deren Bevölkerung heran. In einem ersten Schritt aggregieren wir die Daten aus den verschiedenen Quellen. Um die Werte für die Streiktage vergleichbar zu machen, müssen wir sie mit der Bevölkerungszahl in den Ländern verrechnen (normalisieren). Schlussendlich können wir untersuchen, ob es einen statistisch signifikanten Zusammenhang zwischen Bruttoinlandsprodukt und Streiktagen gibt. Das Tutorium gliedert sich in drei Teile:\n",
    "* [Datenquellen aggregieren](#datenquellen)\n",
    "* [Pro-Kopf Streiktage](#pro_kopf_streiktage)\n",
    "* [Sinkt das BIP durch Streiks?](#inferenz)"
   ]
  },
  {
   "cell_type": "markdown",
   "metadata": {},
   "source": [
    "<a name=\"datenquellen\"></a>1. Datenquellen aggregieren\n",
    "---\n",
    "Im ersten Schritt laden wir alle benötigten Daten in das Notebook. Wir benutzten für die folgende Analyse das \"broad\" Format der Tabellen, da dieses für unsere Zwecke einfacher zu handhaben ist. Die Tabelle mit den Streiktagen haben wir schon gespeichert und können sie einfach laden:"
   ]
  },
  {
   "cell_type": "code",
   "execution_count": 1,
   "metadata": {
    "run_control": {
     "frozen": false,
     "read_only": false
    }
   },
   "outputs": [
    {
     "data": {
      "text/html": [
       "<div>\n",
       "<style scoped>\n",
       "    .dataframe tbody tr th:only-of-type {\n",
       "        vertical-align: middle;\n",
       "    }\n",
       "\n",
       "    .dataframe tbody tr th {\n",
       "        vertical-align: top;\n",
       "    }\n",
       "\n",
       "    .dataframe thead th {\n",
       "        text-align: right;\n",
       "    }\n",
       "</style>\n",
       "<table border=\"1\" class=\"dataframe\">\n",
       "  <thead>\n",
       "    <tr style=\"text-align: right;\">\n",
       "      <th></th>\n",
       "      <th>ccode</th>\n",
       "      <th>country name</th>\n",
       "      <th>1500</th>\n",
       "      <th>1501</th>\n",
       "      <th>1502</th>\n",
       "      <th>1503</th>\n",
       "      <th>1504</th>\n",
       "      <th>1505</th>\n",
       "      <th>1506</th>\n",
       "      <th>1507</th>\n",
       "      <th>...</th>\n",
       "      <th>2006</th>\n",
       "      <th>2007</th>\n",
       "      <th>2008</th>\n",
       "      <th>2009</th>\n",
       "      <th>2010</th>\n",
       "      <th>2011</th>\n",
       "      <th>2012</th>\n",
       "      <th>2013</th>\n",
       "      <th>2014</th>\n",
       "      <th>2015</th>\n",
       "    </tr>\n",
       "  </thead>\n",
       "  <tbody>\n",
       "    <tr>\n",
       "      <td>0</td>\n",
       "      <td>4.0</td>\n",
       "      <td>Afghanistan</td>\n",
       "      <td>NaN</td>\n",
       "      <td>NaN</td>\n",
       "      <td>NaN</td>\n",
       "      <td>NaN</td>\n",
       "      <td>NaN</td>\n",
       "      <td>NaN</td>\n",
       "      <td>NaN</td>\n",
       "      <td>NaN</td>\n",
       "      <td>...</td>\n",
       "      <td>NaN</td>\n",
       "      <td>NaN</td>\n",
       "      <td>NaN</td>\n",
       "      <td>NaN</td>\n",
       "      <td>NaN</td>\n",
       "      <td>NaN</td>\n",
       "      <td>NaN</td>\n",
       "      <td>NaN</td>\n",
       "      <td>NaN</td>\n",
       "      <td>NaN</td>\n",
       "    </tr>\n",
       "    <tr>\n",
       "      <td>1</td>\n",
       "      <td>8.0</td>\n",
       "      <td>Albania</td>\n",
       "      <td>NaN</td>\n",
       "      <td>NaN</td>\n",
       "      <td>NaN</td>\n",
       "      <td>NaN</td>\n",
       "      <td>NaN</td>\n",
       "      <td>NaN</td>\n",
       "      <td>NaN</td>\n",
       "      <td>NaN</td>\n",
       "      <td>...</td>\n",
       "      <td>NaN</td>\n",
       "      <td>NaN</td>\n",
       "      <td>NaN</td>\n",
       "      <td>NaN</td>\n",
       "      <td>NaN</td>\n",
       "      <td>NaN</td>\n",
       "      <td>NaN</td>\n",
       "      <td>NaN</td>\n",
       "      <td>NaN</td>\n",
       "      <td>NaN</td>\n",
       "    </tr>\n",
       "    <tr>\n",
       "      <td>2</td>\n",
       "      <td>12.0</td>\n",
       "      <td>Algeria</td>\n",
       "      <td>NaN</td>\n",
       "      <td>NaN</td>\n",
       "      <td>NaN</td>\n",
       "      <td>NaN</td>\n",
       "      <td>NaN</td>\n",
       "      <td>NaN</td>\n",
       "      <td>NaN</td>\n",
       "      <td>NaN</td>\n",
       "      <td>...</td>\n",
       "      <td>NaN</td>\n",
       "      <td>NaN</td>\n",
       "      <td>NaN</td>\n",
       "      <td>NaN</td>\n",
       "      <td>NaN</td>\n",
       "      <td>NaN</td>\n",
       "      <td>NaN</td>\n",
       "      <td>NaN</td>\n",
       "      <td>NaN</td>\n",
       "      <td>NaN</td>\n",
       "    </tr>\n",
       "  </tbody>\n",
       "</table>\n",
       "<p>3 rows × 518 columns</p>\n",
       "</div>"
      ],
      "text/plain": [
       "   ccode country name  1500  1501  1502  1503  1504  1505  1506  1507  ...  \\\n",
       "0    4.0  Afghanistan   NaN   NaN   NaN   NaN   NaN   NaN   NaN   NaN  ...   \n",
       "1    8.0      Albania   NaN   NaN   NaN   NaN   NaN   NaN   NaN   NaN  ...   \n",
       "2   12.0      Algeria   NaN   NaN   NaN   NaN   NaN   NaN   NaN   NaN  ...   \n",
       "\n",
       "   2006  2007  2008  2009  2010  2011  2012  2013  2014  2015  \n",
       "0   NaN   NaN   NaN   NaN   NaN   NaN   NaN   NaN   NaN   NaN  \n",
       "1   NaN   NaN   NaN   NaN   NaN   NaN   NaN   NaN   NaN   NaN  \n",
       "2   NaN   NaN   NaN   NaN   NaN   NaN   NaN   NaN   NaN   NaN  \n",
       "\n",
       "[3 rows x 518 columns]"
      ]
     },
     "execution_count": 1,
     "metadata": {},
     "output_type": "execute_result"
    }
   ],
   "source": [
    "# importieren der benötigten Module\n",
    "from os.path import join\n",
    "import pandas as pd\n",
    "\n",
    "# laden der Streiktage-Daten \n",
    "fname_tage = 'NumberofDaysLostinLabourDisputes_Broad.xlsx'\n",
    "tage = pd.read_excel(join(\"daten/\", fname_tage))\n",
    "tage.head(3)"
   ]
  },
  {
   "cell_type": "markdown",
   "metadata": {},
   "source": [
    "Die Tabelle mit dem Zeitverlauf des Bruttolinlandsproduktes musst du erst [hier](https://clio-infra.eu/data/GDPperCapita_Broad.xlsx) herunterladen, in den JupyterHub hochladen und dann mit pandas als DataFrame laden:"
   ]
  },
  {
   "cell_type": "code",
   "execution_count": 2,
   "metadata": {},
   "outputs": [
    {
     "name": "stdout",
     "output_type": "stream",
     "text": [
      "Data_Extract_From_World_Development_Indicators.xlsx\r\n",
      "GDPperCapita_Broad.xlsx\r\n",
      "NumberofDaysLostinLabourDisputes_Broad.xlsx\r\n",
      "NumberofLabourDisputes_Broad.xlsx\r\n",
      "NumberofWorkersInvolvedinLabourDisputes_Broad.xlsx\r\n",
      "global_strikes.csv\r\n",
      "global_strikes.xlsx\r\n"
     ]
    }
   ],
   "source": [
    "ls daten/"
   ]
  },
  {
   "cell_type": "code",
   "execution_count": 3,
   "metadata": {
    "run_control": {
     "frozen": false,
     "read_only": false
    }
   },
   "outputs": [
    {
     "data": {
      "text/html": [
       "<div>\n",
       "<style scoped>\n",
       "    .dataframe tbody tr th:only-of-type {\n",
       "        vertical-align: middle;\n",
       "    }\n",
       "\n",
       "    .dataframe tbody tr th {\n",
       "        vertical-align: top;\n",
       "    }\n",
       "\n",
       "    .dataframe thead th {\n",
       "        text-align: right;\n",
       "    }\n",
       "</style>\n",
       "<table border=\"1\" class=\"dataframe\">\n",
       "  <thead>\n",
       "    <tr style=\"text-align: right;\">\n",
       "      <th></th>\n",
       "      <th>ccode</th>\n",
       "      <th>country name</th>\n",
       "      <th>1500</th>\n",
       "      <th>1501</th>\n",
       "      <th>1502</th>\n",
       "      <th>1503</th>\n",
       "      <th>1504</th>\n",
       "      <th>1505</th>\n",
       "      <th>1506</th>\n",
       "      <th>1507</th>\n",
       "      <th>...</th>\n",
       "      <th>2006</th>\n",
       "      <th>2007</th>\n",
       "      <th>2008</th>\n",
       "      <th>2009</th>\n",
       "      <th>2010</th>\n",
       "      <th>2011</th>\n",
       "      <th>2012</th>\n",
       "      <th>2013</th>\n",
       "      <th>2014</th>\n",
       "      <th>2015</th>\n",
       "    </tr>\n",
       "  </thead>\n",
       "  <tbody>\n",
       "    <tr>\n",
       "      <td>0</td>\n",
       "      <td>4.0</td>\n",
       "      <td>Afghanistan</td>\n",
       "      <td>NaN</td>\n",
       "      <td>NaN</td>\n",
       "      <td>NaN</td>\n",
       "      <td>NaN</td>\n",
       "      <td>NaN</td>\n",
       "      <td>NaN</td>\n",
       "      <td>NaN</td>\n",
       "      <td>NaN</td>\n",
       "      <td>...</td>\n",
       "      <td>790.0000</td>\n",
       "      <td>863.0000</td>\n",
       "      <td>869.0000</td>\n",
       "      <td>NaN</td>\n",
       "      <td>NaN</td>\n",
       "      <td>NaN</td>\n",
       "      <td>NaN</td>\n",
       "      <td>NaN</td>\n",
       "      <td>NaN</td>\n",
       "      <td>NaN</td>\n",
       "    </tr>\n",
       "    <tr>\n",
       "      <td>1</td>\n",
       "      <td>8.0</td>\n",
       "      <td>Albania</td>\n",
       "      <td>NaN</td>\n",
       "      <td>NaN</td>\n",
       "      <td>NaN</td>\n",
       "      <td>NaN</td>\n",
       "      <td>NaN</td>\n",
       "      <td>NaN</td>\n",
       "      <td>NaN</td>\n",
       "      <td>NaN</td>\n",
       "      <td>...</td>\n",
       "      <td>4367.4382</td>\n",
       "      <td>4647.3138</td>\n",
       "      <td>5010.0318</td>\n",
       "      <td>5178.8669</td>\n",
       "      <td>5374.9908</td>\n",
       "      <td>NaN</td>\n",
       "      <td>NaN</td>\n",
       "      <td>NaN</td>\n",
       "      <td>NaN</td>\n",
       "      <td>NaN</td>\n",
       "    </tr>\n",
       "    <tr>\n",
       "      <td>2</td>\n",
       "      <td>12.0</td>\n",
       "      <td>Algeria</td>\n",
       "      <td>NaN</td>\n",
       "      <td>NaN</td>\n",
       "      <td>NaN</td>\n",
       "      <td>NaN</td>\n",
       "      <td>NaN</td>\n",
       "      <td>NaN</td>\n",
       "      <td>NaN</td>\n",
       "      <td>NaN</td>\n",
       "      <td>...</td>\n",
       "      <td>3385.7719</td>\n",
       "      <td>3427.7116</td>\n",
       "      <td>3447.4191</td>\n",
       "      <td>3466.5426</td>\n",
       "      <td>3512.5807</td>\n",
       "      <td>NaN</td>\n",
       "      <td>NaN</td>\n",
       "      <td>NaN</td>\n",
       "      <td>NaN</td>\n",
       "      <td>NaN</td>\n",
       "    </tr>\n",
       "  </tbody>\n",
       "</table>\n",
       "<p>3 rows × 518 columns</p>\n",
       "</div>"
      ],
      "text/plain": [
       "   ccode country name  1500  1501  1502  1503  1504  1505  1506  1507  ...  \\\n",
       "0    4.0  Afghanistan   NaN   NaN   NaN   NaN   NaN   NaN   NaN   NaN  ...   \n",
       "1    8.0      Albania   NaN   NaN   NaN   NaN   NaN   NaN   NaN   NaN  ...   \n",
       "2   12.0      Algeria   NaN   NaN   NaN   NaN   NaN   NaN   NaN   NaN  ...   \n",
       "\n",
       "        2006       2007       2008       2009       2010  2011  2012  2013  \\\n",
       "0   790.0000   863.0000   869.0000        NaN        NaN   NaN   NaN   NaN   \n",
       "1  4367.4382  4647.3138  5010.0318  5178.8669  5374.9908   NaN   NaN   NaN   \n",
       "2  3385.7719  3427.7116  3447.4191  3466.5426  3512.5807   NaN   NaN   NaN   \n",
       "\n",
       "   2014  2015  \n",
       "0   NaN   NaN  \n",
       "1   NaN   NaN  \n",
       "2   NaN   NaN  \n",
       "\n",
       "[3 rows x 518 columns]"
      ]
     },
     "execution_count": 3,
     "metadata": {},
     "output_type": "execute_result"
    }
   ],
   "source": [
    "# laden der GDP-Daten\n",
    "fname_GDP = 'GDPperCapita_Broad.xlsx'\n",
    "GDP = pd.read_excel(join(\"daten/\", fname_GDP))\n",
    "GDP.head(3)"
   ]
  },
  {
   "cell_type": "markdown",
   "metadata": {},
   "source": [
    "Die Tabelle ```Data_Extract_From_World_Development_Indicators.xlsx'``` mit den Daten zur Landesbevölkerung kannst du aus dem StudIP herunterladen. Die Daten stammen aus [dieser](https://databank.worldbank.org/data/reports.aspx?source=2&series=SP.POP.TOTL&country=) Quelle."
   ]
  },
  {
   "cell_type": "code",
   "execution_count": 4,
   "metadata": {
    "run_control": {
     "frozen": false,
     "read_only": false
    }
   },
   "outputs": [
    {
     "data": {
      "text/html": [
       "<div>\n",
       "<style scoped>\n",
       "    .dataframe tbody tr th:only-of-type {\n",
       "        vertical-align: middle;\n",
       "    }\n",
       "\n",
       "    .dataframe tbody tr th {\n",
       "        vertical-align: top;\n",
       "    }\n",
       "\n",
       "    .dataframe thead th {\n",
       "        text-align: right;\n",
       "    }\n",
       "</style>\n",
       "<table border=\"1\" class=\"dataframe\">\n",
       "  <thead>\n",
       "    <tr style=\"text-align: right;\">\n",
       "      <th></th>\n",
       "      <th>Unnamed: 0</th>\n",
       "      <th>country name</th>\n",
       "      <th>1960_pop</th>\n",
       "      <th>1961_pop</th>\n",
       "      <th>1962_pop</th>\n",
       "      <th>1963_pop</th>\n",
       "      <th>1964_pop</th>\n",
       "      <th>1965_pop</th>\n",
       "      <th>1966_pop</th>\n",
       "      <th>1967_pop</th>\n",
       "      <th>...</th>\n",
       "      <th>2006_pop</th>\n",
       "      <th>2007_pop</th>\n",
       "      <th>2008_pop</th>\n",
       "      <th>2009_pop</th>\n",
       "      <th>2010_pop</th>\n",
       "      <th>2011_pop</th>\n",
       "      <th>2012_pop</th>\n",
       "      <th>2013_pop</th>\n",
       "      <th>2014_pop</th>\n",
       "      <th>2015_pop</th>\n",
       "    </tr>\n",
       "  </thead>\n",
       "  <tbody>\n",
       "    <tr>\n",
       "      <td>0</td>\n",
       "      <td>0</td>\n",
       "      <td>Afghanistan</td>\n",
       "      <td>8996351.0</td>\n",
       "      <td>9166764.0</td>\n",
       "      <td>9345868.0</td>\n",
       "      <td>9533954.0</td>\n",
       "      <td>9731361.0</td>\n",
       "      <td>9938414.0</td>\n",
       "      <td>10152331.0</td>\n",
       "      <td>10372630.0</td>\n",
       "      <td>...</td>\n",
       "      <td>25893450.0</td>\n",
       "      <td>26616792.0</td>\n",
       "      <td>27294031.0</td>\n",
       "      <td>28004331.0</td>\n",
       "      <td>28803167.0</td>\n",
       "      <td>29708599.0</td>\n",
       "      <td>30696958.0</td>\n",
       "      <td>31731688.0</td>\n",
       "      <td>32758020.0</td>\n",
       "      <td>33736494.0</td>\n",
       "    </tr>\n",
       "    <tr>\n",
       "      <td>1</td>\n",
       "      <td>1</td>\n",
       "      <td>Albania</td>\n",
       "      <td>1608800.0</td>\n",
       "      <td>1659800.0</td>\n",
       "      <td>1711319.0</td>\n",
       "      <td>1762621.0</td>\n",
       "      <td>1814135.0</td>\n",
       "      <td>1864791.0</td>\n",
       "      <td>1914573.0</td>\n",
       "      <td>1965598.0</td>\n",
       "      <td>...</td>\n",
       "      <td>2992547.0</td>\n",
       "      <td>2970017.0</td>\n",
       "      <td>2947314.0</td>\n",
       "      <td>2927519.0</td>\n",
       "      <td>2913021.0</td>\n",
       "      <td>2905195.0</td>\n",
       "      <td>2900401.0</td>\n",
       "      <td>2895092.0</td>\n",
       "      <td>2889104.0</td>\n",
       "      <td>2880703.0</td>\n",
       "    </tr>\n",
       "    <tr>\n",
       "      <td>2</td>\n",
       "      <td>2</td>\n",
       "      <td>Algeria</td>\n",
       "      <td>11124888.0</td>\n",
       "      <td>11404859.0</td>\n",
       "      <td>11690153.0</td>\n",
       "      <td>11985136.0</td>\n",
       "      <td>12295970.0</td>\n",
       "      <td>12626952.0</td>\n",
       "      <td>12980267.0</td>\n",
       "      <td>13354197.0</td>\n",
       "      <td>...</td>\n",
       "      <td>33777915.0</td>\n",
       "      <td>34300076.0</td>\n",
       "      <td>34860715.0</td>\n",
       "      <td>35465760.0</td>\n",
       "      <td>36117637.0</td>\n",
       "      <td>36819558.0</td>\n",
       "      <td>37565847.0</td>\n",
       "      <td>38338562.0</td>\n",
       "      <td>39113313.0</td>\n",
       "      <td>39871528.0</td>\n",
       "    </tr>\n",
       "  </tbody>\n",
       "</table>\n",
       "<p>3 rows × 58 columns</p>\n",
       "</div>"
      ],
      "text/plain": [
       "   Unnamed: 0 country name    1960_pop    1961_pop    1962_pop    1963_pop  \\\n",
       "0           0  Afghanistan   8996351.0   9166764.0   9345868.0   9533954.0   \n",
       "1           1      Albania   1608800.0   1659800.0   1711319.0   1762621.0   \n",
       "2           2      Algeria  11124888.0  11404859.0  11690153.0  11985136.0   \n",
       "\n",
       "     1964_pop    1965_pop    1966_pop    1967_pop  ...    2006_pop  \\\n",
       "0   9731361.0   9938414.0  10152331.0  10372630.0  ...  25893450.0   \n",
       "1   1814135.0   1864791.0   1914573.0   1965598.0  ...   2992547.0   \n",
       "2  12295970.0  12626952.0  12980267.0  13354197.0  ...  33777915.0   \n",
       "\n",
       "     2007_pop    2008_pop    2009_pop    2010_pop    2011_pop    2012_pop  \\\n",
       "0  26616792.0  27294031.0  28004331.0  28803167.0  29708599.0  30696958.0   \n",
       "1   2970017.0   2947314.0   2927519.0   2913021.0   2905195.0   2900401.0   \n",
       "2  34300076.0  34860715.0  35465760.0  36117637.0  36819558.0  37565847.0   \n",
       "\n",
       "     2013_pop    2014_pop    2015_pop  \n",
       "0  31731688.0  32758020.0  33736494.0  \n",
       "1   2895092.0   2889104.0   2880703.0  \n",
       "2  38338562.0  39113313.0  39871528.0  \n",
       "\n",
       "[3 rows x 58 columns]"
      ]
     },
     "execution_count": 4,
     "metadata": {},
     "output_type": "execute_result"
    }
   ],
   "source": [
    "# laden der Populationsdaten \n",
    "fname_pop = 'Data_Extract_From_World_Development_Indicators.xlsx'\n",
    "pop = pd.read_excel(join(\"daten/\", fname_pop))\n",
    "pop.head(3)"
   ]
  },
  {
   "cell_type": "markdown",
   "metadata": {},
   "source": [
    "Unser Ziel ist es, die drei Tabellen zu einer einzigen Tabelle zusammenzuführen. Da die Populationsdaten nur ab 1960 vorliegen, können wir die Einträge vor 1960 in den anderen beiden Datensätzen getrost entfernen:"
   ]
  },
  {
   "cell_type": "code",
   "execution_count": 5,
   "metadata": {
    "collapsed": true,
    "run_control": {
     "frozen": false,
     "read_only": false
    }
   },
   "outputs": [],
   "source": [
    "obsolete_spalten= ['{}'.format(i) for i in range(1500, 1960)]\n",
    "GDP.drop(columns = obsolete_spalten, inplace=True)\n",
    "tage.drop(columns = obsolete_spalten, inplace=True)"
   ]
  },
  {
   "cell_type": "markdown",
   "metadata": {},
   "source": [
    "**A.** Entferne auch die Spalten ```ccode``` aus den beiden DataFrames. Entferne mit der Funktion ```drop_duplicates()``` alle Duplikate ([Dokumentation](https://pandas.pydata.org/pandas-docs/stable/reference/api/pandas.DataFrame.drop_duplicates.html)) aus allen drei DataFrames."
   ]
  },
  {
   "cell_type": "markdown",
   "metadata": {},
   "source": [
    "Nun wollen wir noch die Spalten so umbenennen, dass selbst nachdem wir die DataFrames zusammengeführt haben klar ist, was die Zahlen bedeuten. Dafür hängen wir an die Jahreszahlen der Streiktage-Tabelle den Suffix ```_days``` an."
   ]
  },
  {
   "cell_type": "code",
   "execution_count": 6,
   "metadata": {
    "run_control": {
     "frozen": false,
     "read_only": false
    }
   },
   "outputs": [
    {
     "data": {
      "text/html": [
       "<div>\n",
       "<style scoped>\n",
       "    .dataframe tbody tr th:only-of-type {\n",
       "        vertical-align: middle;\n",
       "    }\n",
       "\n",
       "    .dataframe tbody tr th {\n",
       "        vertical-align: top;\n",
       "    }\n",
       "\n",
       "    .dataframe thead th {\n",
       "        text-align: right;\n",
       "    }\n",
       "</style>\n",
       "<table border=\"1\" class=\"dataframe\">\n",
       "  <thead>\n",
       "    <tr style=\"text-align: right;\">\n",
       "      <th></th>\n",
       "      <th>ccode</th>\n",
       "      <th>country name</th>\n",
       "      <th>1960_days</th>\n",
       "      <th>1961_days</th>\n",
       "      <th>1962_days</th>\n",
       "      <th>1963_days</th>\n",
       "      <th>1964_days</th>\n",
       "      <th>1965_days</th>\n",
       "      <th>1966_days</th>\n",
       "      <th>1967_days</th>\n",
       "      <th>...</th>\n",
       "      <th>2006_days</th>\n",
       "      <th>2007_days</th>\n",
       "      <th>2008_days</th>\n",
       "      <th>2009_days</th>\n",
       "      <th>2010_days</th>\n",
       "      <th>2011_days</th>\n",
       "      <th>2012_days</th>\n",
       "      <th>2013_days</th>\n",
       "      <th>2014_days</th>\n",
       "      <th>2015_days</th>\n",
       "    </tr>\n",
       "  </thead>\n",
       "  <tbody>\n",
       "    <tr>\n",
       "      <td>0</td>\n",
       "      <td>4.0</td>\n",
       "      <td>Afghanistan</td>\n",
       "      <td>NaN</td>\n",
       "      <td>NaN</td>\n",
       "      <td>NaN</td>\n",
       "      <td>NaN</td>\n",
       "      <td>NaN</td>\n",
       "      <td>NaN</td>\n",
       "      <td>NaN</td>\n",
       "      <td>NaN</td>\n",
       "      <td>...</td>\n",
       "      <td>NaN</td>\n",
       "      <td>NaN</td>\n",
       "      <td>NaN</td>\n",
       "      <td>NaN</td>\n",
       "      <td>NaN</td>\n",
       "      <td>NaN</td>\n",
       "      <td>NaN</td>\n",
       "      <td>NaN</td>\n",
       "      <td>NaN</td>\n",
       "      <td>NaN</td>\n",
       "    </tr>\n",
       "    <tr>\n",
       "      <td>1</td>\n",
       "      <td>8.0</td>\n",
       "      <td>Albania</td>\n",
       "      <td>NaN</td>\n",
       "      <td>NaN</td>\n",
       "      <td>NaN</td>\n",
       "      <td>NaN</td>\n",
       "      <td>NaN</td>\n",
       "      <td>NaN</td>\n",
       "      <td>NaN</td>\n",
       "      <td>NaN</td>\n",
       "      <td>...</td>\n",
       "      <td>NaN</td>\n",
       "      <td>NaN</td>\n",
       "      <td>NaN</td>\n",
       "      <td>NaN</td>\n",
       "      <td>NaN</td>\n",
       "      <td>NaN</td>\n",
       "      <td>NaN</td>\n",
       "      <td>NaN</td>\n",
       "      <td>NaN</td>\n",
       "      <td>NaN</td>\n",
       "    </tr>\n",
       "    <tr>\n",
       "      <td>2</td>\n",
       "      <td>12.0</td>\n",
       "      <td>Algeria</td>\n",
       "      <td>NaN</td>\n",
       "      <td>NaN</td>\n",
       "      <td>NaN</td>\n",
       "      <td>NaN</td>\n",
       "      <td>NaN</td>\n",
       "      <td>NaN</td>\n",
       "      <td>NaN</td>\n",
       "      <td>NaN</td>\n",
       "      <td>...</td>\n",
       "      <td>NaN</td>\n",
       "      <td>NaN</td>\n",
       "      <td>NaN</td>\n",
       "      <td>NaN</td>\n",
       "      <td>NaN</td>\n",
       "      <td>NaN</td>\n",
       "      <td>NaN</td>\n",
       "      <td>NaN</td>\n",
       "      <td>NaN</td>\n",
       "      <td>NaN</td>\n",
       "    </tr>\n",
       "  </tbody>\n",
       "</table>\n",
       "<p>3 rows × 58 columns</p>\n",
       "</div>"
      ],
      "text/plain": [
       "   ccode country name  1960_days  1961_days  1962_days  1963_days  1964_days  \\\n",
       "0    4.0  Afghanistan        NaN        NaN        NaN        NaN        NaN   \n",
       "1    8.0      Albania        NaN        NaN        NaN        NaN        NaN   \n",
       "2   12.0      Algeria        NaN        NaN        NaN        NaN        NaN   \n",
       "\n",
       "   1965_days  1966_days  1967_days  ...  2006_days  2007_days  2008_days  \\\n",
       "0        NaN        NaN        NaN  ...        NaN        NaN        NaN   \n",
       "1        NaN        NaN        NaN  ...        NaN        NaN        NaN   \n",
       "2        NaN        NaN        NaN  ...        NaN        NaN        NaN   \n",
       "\n",
       "   2009_days  2010_days  2011_days  2012_days  2013_days  2014_days  2015_days  \n",
       "0        NaN        NaN        NaN        NaN        NaN        NaN        NaN  \n",
       "1        NaN        NaN        NaN        NaN        NaN        NaN        NaN  \n",
       "2        NaN        NaN        NaN        NaN        NaN        NaN        NaN  \n",
       "\n",
       "[3 rows x 58 columns]"
      ]
     },
     "execution_count": 6,
     "metadata": {},
     "output_type": "execute_result"
    }
   ],
   "source": [
    "tage.rename(columns={'{}'.format(i):'{}_days'.format(i) for i in range(1960, 2016)}, inplace=True)\n",
    "tage.head(3)"
   ]
  },
  {
   "cell_type": "markdown",
   "metadata": {},
   "source": [
    "**B.** Benenne auch die Spalten im ```GDP```-DataFrame entsprechend um, indem du den suffix ```_GDP``` an die Spaltennamen hängst."
   ]
  },
  {
   "cell_type": "markdown",
   "metadata": {},
   "source": [
    "Zwei DataFrames lassen sich mit Hilfe der Funktion ```DataFrame.merge()``` zusammenführen (siehe [Dokumentation](https://pandas.pydata.org/pandas-docs/stable/reference/api/pandas.DataFrame.merge.html)). Dabei bezeichnet das Argument ```on``` die Spalte, anhand derer die DataFrames zusammengeführt werden. Bei uns wird das die Spalte ```country name``` sein, da diese als einzige in allen drei DataFrames gleich ist. Das Argument ```how``` gibt an, wie die DataFrames zusammengeführt werden. Währen wir ```how=inner``` dann wird die Schnittmenge der Einträge in der Spalte, anhand derer wir die DataFrames zusammenführen, genommen. Das heißt, Zeilen, die nur in einem DataFrame vorhanden sind aber nicht in dem zweiten, fallen weg."
   ]
  },
  {
   "cell_type": "code",
   "execution_count": 7,
   "metadata": {
    "run_control": {
     "frozen": false,
     "read_only": false
    }
   },
   "outputs": [
    {
     "name": "stdout",
     "output_type": "stream",
     "text": [
      "Anzahl Zeilen (Länder): 174\n"
     ]
    },
    {
     "data": {
      "text/html": [
       "<div>\n",
       "<style scoped>\n",
       "    .dataframe tbody tr th:only-of-type {\n",
       "        vertical-align: middle;\n",
       "    }\n",
       "\n",
       "    .dataframe tbody tr th {\n",
       "        vertical-align: top;\n",
       "    }\n",
       "\n",
       "    .dataframe thead th {\n",
       "        text-align: right;\n",
       "    }\n",
       "</style>\n",
       "<table border=\"1\" class=\"dataframe\">\n",
       "  <thead>\n",
       "    <tr style=\"text-align: right;\">\n",
       "      <th></th>\n",
       "      <th>ccode</th>\n",
       "      <th>country name</th>\n",
       "      <th>1960_days</th>\n",
       "      <th>1961_days</th>\n",
       "      <th>1962_days</th>\n",
       "      <th>1963_days</th>\n",
       "      <th>1964_days</th>\n",
       "      <th>1965_days</th>\n",
       "      <th>1966_days</th>\n",
       "      <th>1967_days</th>\n",
       "      <th>...</th>\n",
       "      <th>2006_pop</th>\n",
       "      <th>2007_pop</th>\n",
       "      <th>2008_pop</th>\n",
       "      <th>2009_pop</th>\n",
       "      <th>2010_pop</th>\n",
       "      <th>2011_pop</th>\n",
       "      <th>2012_pop</th>\n",
       "      <th>2013_pop</th>\n",
       "      <th>2014_pop</th>\n",
       "      <th>2015_pop</th>\n",
       "    </tr>\n",
       "  </thead>\n",
       "  <tbody>\n",
       "    <tr>\n",
       "      <td>0</td>\n",
       "      <td>4.0</td>\n",
       "      <td>Afghanistan</td>\n",
       "      <td>NaN</td>\n",
       "      <td>NaN</td>\n",
       "      <td>NaN</td>\n",
       "      <td>NaN</td>\n",
       "      <td>NaN</td>\n",
       "      <td>NaN</td>\n",
       "      <td>NaN</td>\n",
       "      <td>NaN</td>\n",
       "      <td>...</td>\n",
       "      <td>25893450.0</td>\n",
       "      <td>26616792.0</td>\n",
       "      <td>27294031.0</td>\n",
       "      <td>28004331.0</td>\n",
       "      <td>28803167.0</td>\n",
       "      <td>29708599.0</td>\n",
       "      <td>30696958.0</td>\n",
       "      <td>31731688.0</td>\n",
       "      <td>32758020.0</td>\n",
       "      <td>33736494.0</td>\n",
       "    </tr>\n",
       "    <tr>\n",
       "      <td>1</td>\n",
       "      <td>8.0</td>\n",
       "      <td>Albania</td>\n",
       "      <td>NaN</td>\n",
       "      <td>NaN</td>\n",
       "      <td>NaN</td>\n",
       "      <td>NaN</td>\n",
       "      <td>NaN</td>\n",
       "      <td>NaN</td>\n",
       "      <td>NaN</td>\n",
       "      <td>NaN</td>\n",
       "      <td>...</td>\n",
       "      <td>2992547.0</td>\n",
       "      <td>2970017.0</td>\n",
       "      <td>2947314.0</td>\n",
       "      <td>2927519.0</td>\n",
       "      <td>2913021.0</td>\n",
       "      <td>2905195.0</td>\n",
       "      <td>2900401.0</td>\n",
       "      <td>2895092.0</td>\n",
       "      <td>2889104.0</td>\n",
       "      <td>2880703.0</td>\n",
       "    </tr>\n",
       "    <tr>\n",
       "      <td>2</td>\n",
       "      <td>12.0</td>\n",
       "      <td>Algeria</td>\n",
       "      <td>NaN</td>\n",
       "      <td>NaN</td>\n",
       "      <td>NaN</td>\n",
       "      <td>NaN</td>\n",
       "      <td>NaN</td>\n",
       "      <td>NaN</td>\n",
       "      <td>NaN</td>\n",
       "      <td>NaN</td>\n",
       "      <td>...</td>\n",
       "      <td>33777915.0</td>\n",
       "      <td>34300076.0</td>\n",
       "      <td>34860715.0</td>\n",
       "      <td>35465760.0</td>\n",
       "      <td>36117637.0</td>\n",
       "      <td>36819558.0</td>\n",
       "      <td>37565847.0</td>\n",
       "      <td>38338562.0</td>\n",
       "      <td>39113313.0</td>\n",
       "      <td>39871528.0</td>\n",
       "    </tr>\n",
       "  </tbody>\n",
       "</table>\n",
       "<p>3 rows × 115 columns</p>\n",
       "</div>"
      ],
      "text/plain": [
       "   ccode country name  1960_days  1961_days  1962_days  1963_days  1964_days  \\\n",
       "0    4.0  Afghanistan        NaN        NaN        NaN        NaN        NaN   \n",
       "1    8.0      Albania        NaN        NaN        NaN        NaN        NaN   \n",
       "2   12.0      Algeria        NaN        NaN        NaN        NaN        NaN   \n",
       "\n",
       "   1965_days  1966_days  1967_days  ...    2006_pop    2007_pop    2008_pop  \\\n",
       "0        NaN        NaN        NaN  ...  25893450.0  26616792.0  27294031.0   \n",
       "1        NaN        NaN        NaN  ...   2992547.0   2970017.0   2947314.0   \n",
       "2        NaN        NaN        NaN  ...  33777915.0  34300076.0  34860715.0   \n",
       "\n",
       "     2009_pop    2010_pop    2011_pop    2012_pop    2013_pop    2014_pop  \\\n",
       "0  28004331.0  28803167.0  29708599.0  30696958.0  31731688.0  32758020.0   \n",
       "1   2927519.0   2913021.0   2905195.0   2900401.0   2895092.0   2889104.0   \n",
       "2  35465760.0  36117637.0  36819558.0  37565847.0  38338562.0  39113313.0   \n",
       "\n",
       "     2015_pop  \n",
       "0  33736494.0  \n",
       "1   2880703.0  \n",
       "2  39871528.0  \n",
       "\n",
       "[3 rows x 115 columns]"
      ]
     },
     "execution_count": 7,
     "metadata": {},
     "output_type": "execute_result"
    }
   ],
   "source": [
    "# zusammenfügen der DataFrames mit den Daten zu den Streiktagen und der Bevölkerung\n",
    "data = tage.merge(pop, on = 'country name', how = 'inner')\n",
    "# wir sehen, dass 24 Länder weggefallen sind, da sie nur im \"tage\", nicht\n",
    "# aber im \"pop\"-DataFrame vorhanden waren\n",
    "print('Anzahl Zeilen (Länder): {}'.format(len(data)))\n",
    "data.head(3)"
   ]
  },
  {
   "cell_type": "markdown",
   "metadata": {},
   "source": [
    "**C.** Füge das neu geschaffene DataFrame ```data``` mit dem verbleibenden DataFrame ```GDP``` zusammen."
   ]
  },
  {
   "cell_type": "markdown",
   "metadata": {},
   "source": [
    "[Anfang](#top)"
   ]
  },
  {
   "cell_type": "markdown",
   "metadata": {},
   "source": [
    "<a name=\"pro_kopf_streiktage\"></a>2. Pro-Kopf Streiktage\n",
    "---\n",
    "Aktuell liegt die Anzahl der Streiktage für ein Jahr in einem Land als absoluter Wert vor. Natürlich haben größere Ländern tendentiell mehr Streiktage als kleinere."
   ]
  },
  {
   "cell_type": "markdown",
   "metadata": {},
   "source": [
    "**A. (optional)** Überprüfe diese Aussage, indem du analysierst, ob die mittlere Anzahl der Streiktage zwischen 1980 und 2000 tatsälich mit der mittleren Bevölkerungsanzahl in diesen Jahren korreliert. Stelle deine Ergebnisse graphisch dar. <font color='green'>**HINWEIS**</font> Benutze dafür die in Teil **3** vorgestellte lineare Regression. Am besten bearbeitest du diese Aufgabe erst, nachdem du Abschnitt **3** bearbeitet hast. </font>"
   ]
  },
  {
   "cell_type": "markdown",
   "metadata": {},
   "source": [
    "**B.** Teile für jedes Jahr die Anzahl der Streiktage durch die Bevölkerungszahl und füge die resultierende genormte Anzahl an Streiktagen dem DataFrame als neue Spalten hinzu."
   ]
  },
  {
   "cell_type": "markdown",
   "metadata": {},
   "source": [
    "Wie gewohnt, können wir das DataFrame nach einzelnen Ländern filtern. Die der Verlauf der absoluten Anzahl der Streiktage lässt sich dann einfach als Zeitreihe visualisieren:"
   ]
  },
  {
   "cell_type": "code",
   "execution_count": 8,
   "metadata": {
    "run_control": {
     "frozen": false,
     "read_only": false
    }
   },
   "outputs": [
    {
     "data": {
      "text/html": [
       "<div>\n",
       "<style scoped>\n",
       "    .dataframe tbody tr th:only-of-type {\n",
       "        vertical-align: middle;\n",
       "    }\n",
       "\n",
       "    .dataframe tbody tr th {\n",
       "        vertical-align: top;\n",
       "    }\n",
       "\n",
       "    .dataframe thead th {\n",
       "        text-align: right;\n",
       "    }\n",
       "</style>\n",
       "<table border=\"1\" class=\"dataframe\">\n",
       "  <thead>\n",
       "    <tr style=\"text-align: right;\">\n",
       "      <th></th>\n",
       "      <th>ccode</th>\n",
       "      <th>country name</th>\n",
       "      <th>1960_days</th>\n",
       "      <th>1961_days</th>\n",
       "      <th>1962_days</th>\n",
       "      <th>1963_days</th>\n",
       "      <th>1964_days</th>\n",
       "      <th>1965_days</th>\n",
       "      <th>1966_days</th>\n",
       "      <th>1967_days</th>\n",
       "      <th>...</th>\n",
       "      <th>2006_pop</th>\n",
       "      <th>2007_pop</th>\n",
       "      <th>2008_pop</th>\n",
       "      <th>2009_pop</th>\n",
       "      <th>2010_pop</th>\n",
       "      <th>2011_pop</th>\n",
       "      <th>2012_pop</th>\n",
       "      <th>2013_pop</th>\n",
       "      <th>2014_pop</th>\n",
       "      <th>2015_pop</th>\n",
       "    </tr>\n",
       "  </thead>\n",
       "  <tbody>\n",
       "    <tr>\n",
       "      <td>166</td>\n",
       "      <td>826.0</td>\n",
       "      <td>United Kingdom</td>\n",
       "      <td>3024000.0</td>\n",
       "      <td>3046000.0</td>\n",
       "      <td>5798000.0</td>\n",
       "      <td>1755000.0</td>\n",
       "      <td>2277000.0</td>\n",
       "      <td>2925000.0</td>\n",
       "      <td>2398000.0</td>\n",
       "      <td>2787000.0</td>\n",
       "      <td>...</td>\n",
       "      <td>60846820.0</td>\n",
       "      <td>61322463.0</td>\n",
       "      <td>61806995.0</td>\n",
       "      <td>62276270.0</td>\n",
       "      <td>62766365.0</td>\n",
       "      <td>63258918.0</td>\n",
       "      <td>63700300.0</td>\n",
       "      <td>64128226.0</td>\n",
       "      <td>64613160.0</td>\n",
       "      <td>65128861.0</td>\n",
       "    </tr>\n",
       "  </tbody>\n",
       "</table>\n",
       "<p>1 rows × 115 columns</p>\n",
       "</div>"
      ],
      "text/plain": [
       "     ccode    country name  1960_days  1961_days  1962_days  1963_days  \\\n",
       "166  826.0  United Kingdom  3024000.0  3046000.0  5798000.0  1755000.0   \n",
       "\n",
       "     1964_days  1965_days  1966_days  1967_days  ...    2006_pop    2007_pop  \\\n",
       "166  2277000.0  2925000.0  2398000.0  2787000.0  ...  60846820.0  61322463.0   \n",
       "\n",
       "       2008_pop    2009_pop    2010_pop    2011_pop    2012_pop    2013_pop  \\\n",
       "166  61806995.0  62276270.0  62766365.0  63258918.0  63700300.0  64128226.0   \n",
       "\n",
       "       2014_pop    2015_pop  \n",
       "166  64613160.0  65128861.0  \n",
       "\n",
       "[1 rows x 115 columns]"
      ]
     },
     "execution_count": 8,
     "metadata": {},
     "output_type": "execute_result"
    }
   ],
   "source": [
    "country = 'United Kingdom'\n",
    "filter_country = data['country name'] == country\n",
    "data_country = data[filter_country]\n",
    "data_country.head()"
   ]
  },
  {
   "cell_type": "code",
   "execution_count": 9,
   "metadata": {
    "run_control": {
     "frozen": false,
     "read_only": false
    }
   },
   "outputs": [
    {
     "data": {
      "text/plain": [
       "Text(0.5, 1.0, 'United Kingdom')"
      ]
     },
     "execution_count": 9,
     "metadata": {},
     "output_type": "execute_result"
    },
    {
     "data": {
      "image/png": "[encoded data removed]",
      "text/plain": [
       "<Figure size 432x288 with 1 Axes>"
      ]
     },
     "metadata": {},
     "output_type": "display_data"
    }
   ],
   "source": [
    "import matplotlib.pyplot as plt\n",
    "%matplotlib inline\n",
    "\n",
    "years = list(range(1960, 2015))\n",
    "y = data_country[['{}_days'.format(i) for i in years]].values[0]\n",
    "plt.plot(years, y)\n",
    "plt.xlabel('Jahr')\n",
    "plt.ylabel('absolute Anzahl Streiktage')\n",
    "plt.title('{}'.format(country))"
   ]
  },
  {
   "cell_type": "markdown",
   "metadata": {},
   "source": [
    "**C.** Nachdem wir die Streiktage normalisiert haben, sind auch Länder mit drastisch unterschiedlicher Bevölkerungszahl verlgeichbar. Stelle für drei Länder deiner Wahl, deren Bevölkerungszahl sich stark unterscheidet, den Zeitverlauf der mit der Bevölkerungszahl normalisierten Streiktage dar. "
   ]
  },
  {
   "cell_type": "markdown",
   "metadata": {},
   "source": [
    "**D. (optional)** Aktuell normalisieren wir die Anzahl der Streiktage in einem Jahr mit der Bevölkerungszahl im selben Jahr. Untersuche anhand des Beispiels von einem Land, wie groß der Unterschied zwischen dieser Vorgehensweise und einer Normalisierung aller Jahre mit der Bevölkerungszahl im Jahr 1960 bzw. 2015 is."
   ]
  },
  {
   "cell_type": "markdown",
   "metadata": {},
   "source": [
    "**E.** Stelle für die selben drei Länder wie in Aufgabe **2.C** den Verlauf der Bevölkerungszahl über die Zeit dar. <font color='green'>**HINWEIS:**  mit ```plt.yscale('log')``` stellst du die y-Achse auf logarithmische Darstellung um.</font> "
   ]
  },
  {
   "cell_type": "markdown",
   "metadata": {},
   "source": [
    "<a name=\"inferenz\"></a>3. (optional) Sinkt das BIP durch Streiks?\n",
    "---\n",
    "Schlussendlich wollen wir uns ansehen, ob wir einen statistisch signifikanten Zusammenhang zwischen BIP und (normalisierter) Anzahl der Streiktage in einem Land feststellen können. Um solche Zusammenhänge zwischen Beobachtungen darzustellen, eignet sich der Scatterplot. Die Funktion ```plt.scatter(x,y)``` ([Dokumentation](https://matplotlib.org/3.1.0/api/_as_gen/matplotlib.pyplot.scatter.html)) erlaubt es uns, einen einfachen Scatterplot zu erstellen:"
   ]
  },
  {
   "cell_type": "code",
   "execution_count": 10,
   "metadata": {
    "run_control": {
     "frozen": false,
     "read_only": false
    }
   },
   "outputs": [
    {
     "data": {
      "text/plain": [
       "<matplotlib.collections.PathCollection at 0x11b83ee80>"
      ]
     },
     "execution_count": 10,
     "metadata": {},
     "output_type": "execute_result"
    },
    {
     "data": {
      "image/png": "[encoded data removed]",
      "text/plain": [
       "<Figure size 432x288 with 1 Axes>"
      ]
     },
     "metadata": {},
     "output_type": "display_data"
    }
   ],
   "source": [
    "x = [3,5,7,4]\n",
    "y = [1,3,2,4]\n",
    "\n",
    "plt.scatter(x,y)"
   ]
  },
  {
   "cell_type": "markdown",
   "metadata": {},
   "source": [
    "**A. (optional)** Berechne die mittlere Anzahl an Streiktagen pro Person zwischen 1980 und 1990. Speichere berechneten genormten Streiktage zusammen mit dem BIP und dem Ländernamen in einem neuen DataFrame. Entferne mit der Funktion ```df.dropna()``` alle fehlenden Einträge aus dem DataFrame."
   ]
  },
  {
   "cell_type": "markdown",
   "metadata": {},
   "source": [
    "**B. (optional)** Stelle das BIP im Jahr 1990 über der mittleren Anzahl an Streiktagen in diesem Zeitraum dar. Benutze dafür das neu erstellte DataFrame."
   ]
  },
  {
   "cell_type": "markdown",
   "metadata": {},
   "source": [
    "**C. (optional)** Mache dich mit der Funktion ```linregress()``` der Bibliothek SciPy vertraut ([Dokumentation](https://docs.scipy.org/doc/scipy/reference/generated/scipy.stats.linregress.html)). Was für Eingabewerte verlangt die Funktion? Was für Werte gibt sie aus?"
   ]
  },
  {
   "cell_type": "markdown",
   "metadata": {},
   "source": [
    "**D. (optional)** führe eine lineare Regression des BIP über den mittleren Streiktagen pro person im vorangegangenen Jahrzehnt durch. Gib die resultierenden Werte aus. Was bedeuten sie? "
   ]
  },
  {
   "cell_type": "markdown",
   "metadata": {},
   "source": [
    "**E. (optional)** Stelle die aus der statistischen Regression resultierende Linie über dem Scatterplot aus Aufgabe **2.B** dar."
   ]
  },
  {
   "cell_type": "markdown",
   "metadata": {},
   "source": [
    "[Anfang](#top)"
   ]
  }
 ],
 "metadata": {
  "jupytext": {
   "encoding": "# -*- coding: utf-8 -*-"
  },
  "kernelspec": {
   "display_name": "Python 3",
   "language": "python",
   "name": "python3"
  },
  "language_info": {
   "codemirror_mode": {
    "name": "ipython",
    "version": 3
   },
   "file_extension": ".py",
   "mimetype": "text/x-python",
   "name": "python",
   "nbconvert_exporter": "python",
   "pygments_lexer": "ipython3",
   "version": "3.6.1"
  },
  "latex_envs": {
   "bibliofile": "biblio.bib",
   "cite_by": "apalike",
   "current_citInitial": 1,
   "eqLabelWithNumbers": true,
   "eqNumInitial": 0
  },
  "toc": {
   "toc_cell": false,
   "toc_number_sections": true,
   "toc_threshold": 6,
   "toc_window_display": false
  }
 },
 "nbformat": 4,
 "nbformat_minor": 2
}
