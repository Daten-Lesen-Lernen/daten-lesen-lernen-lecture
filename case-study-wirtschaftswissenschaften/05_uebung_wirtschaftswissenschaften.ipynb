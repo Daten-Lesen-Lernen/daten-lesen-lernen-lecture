{
 "cells": [
  {
   "cell_type": "markdown",
   "metadata": {},
   "source": [
    "_Lizenz: Das folgende Lehrmaterial kann unter einer [CC-BY-SA 4.0](https://creativecommons.org/licenses/by/4.0/legalcode) Lizenz frei verwendet, verbreitet und modifiziert werden._   \n",
    " _Authoren: Jana Lasser (jana.lasser@ds.mpg.de)_  \n",
    " _Das Lehrmaterial wurde im Zuge des Projektes \"Daten Lesen Lernen\", gefördert vom Stifterverband und der Heinz Nixdorf Stiftung erstellt._"
   ]
  },
  {
   "cell_type": "markdown",
   "metadata": {},
   "source": [
    "# Übung 05 - Wirtschaftswissenschaften: Daten finden, einlesen und mit Histogrammen visualisieren\n",
    "### Praktische Hinweise\n",
    "$\\rightarrow$ Übungen sind dafür gedacht, dass ihr sie euch daheim anseht und versucht, ein paar Aufgaben selbst zu lösen. In den Tutorien könnt ihr euch weiter mit dem Lösungen der Aufgaben beschäftigen und dabei Hilfe von den Tutor*innen bekommen.  \n",
    "\n",
    "$\\rightarrow$ Wenn ein Fehler auftritt:\n",
    "1. Fehlermeldung _lesen_ und _verstehen_\n",
    "2. Versuchen, selbst eine Lösung zu finden ($\\rightarrow$ hier findet das Lernen statt!)\n",
    "3. Das Problem googlen (Stichwort: Stackoverflow) oder den/die Nachbar*in fragen\n",
    "4. Tutor*in fragen\n",
    "\n",
    "$\\rightarrow$ Unter <font color='green'>**HINWEIS**</font> werden Hinweise gegeben, die für die Lösung der Aufgabe hilfreich sind und oftmals auch weiterführende Informationen zur Aufgabe liefern.\n",
    "\n",
    "$\\rightarrow$ Mit **(Optional)** gekennzeichnete Übungsteile sind für besonders schnelle Menschen :-)."
   ]
  },
  {
   "cell_type": "markdown",
   "metadata": {},
   "source": [
    "<a name=\"top\"></a>Inhalt\n",
    "---\n",
    " Mit dieser Übung beginnen wir eine Fallstudie, die sich mit (historischen) Datensätzen aus den Wirtschaftswissenschaften beschäftigt. Alle verwendeten Datensätze sind [hier](https://clio-infra.eu/) öffentlich verfügbar. Außerdem werden wir uns damit beschäftigen, wie wir die gewonnenen Informationen am besten visualisieren können. Die aktuelle Übung gliedert sich in drei Teile:\n",
    "* [Daten beschaffen](#daten_beschaffen)\n",
    "* [Daten erkunden](#daten_erkunden)\n",
    "* [Histogramme](#histogramme)  \n",
    "\n",
    "Für die folgenden Übungen gibt es kein Lehrvideo. Deswegen wird es in den Jupyter-Notebooks zu den Übungen mehr Erklärungen und Zwischenschritte geben. Darüber hinaus haben ab dieser Woche auch nicht mehr alle Übungen der verschiedenen Übungsgruppen den exakt gleichen Inhalt, da einige Themenbereiche etwas unterschiedliche Werkzeuge brauchen als andere. Das Konzept ist aber überall das gleiche."
   ]
  },
  {
   "cell_type": "markdown",
   "metadata": {},
   "source": [
    "<a name=\"daten_beschaffen\"></a>1. Daten beschaffen\n",
    "---\n",
    "**A.** Mache dich mit der Datenquelle vertraut: Wer hat die Daten gesammelt und in welchem Kontext publiziert?   \n",
    "**B.** Laden der Daten: lade die folgenden drei Datensätze (jeweils im \"broad\" Format) herunter und speichere sie in einem Unterordner ```daten```:\n",
    "* [Number of Days Lost in Labour Disputes](https://clio-infra.eu/data/NumberofDaysLostinLabourDisputes_Broad.xlsx)\n",
    "* [Number of Labour Disputes](https://clio-infra.eu/data/NumberofLabourDisputes_Broad.xlsx)\n",
    "* [Number of Workers Involved in Labour Disputes](https://clio-infra.eu/data/NumberofWorkersInvolvedinLabourDisputes_Broad.xlsx)"
   ]
  },
  {
   "cell_type": "markdown",
   "metadata": {},
   "source": [
    "Die Dateien liegen im ```.xlsx``` Format vor. Wir können sie mit Hilfe der Funktion ```read_excel()``` der Bibliothek ```pandas``` laden:"
   ]
  },
  {
   "cell_type": "code",
   "execution_count": 3,
   "metadata": {
    "run_control": {
     "frozen": false,
     "read_only": false
    }
   },
   "outputs": [
    {
     "data": {
      "text/html": [
       "<div>\n",
       "<style scoped>\n",
       "    .dataframe tbody tr th:only-of-type {\n",
       "        vertical-align: middle;\n",
       "    }\n",
       "\n",
       "    .dataframe tbody tr th {\n",
       "        vertical-align: top;\n",
       "    }\n",
       "\n",
       "    .dataframe thead th {\n",
       "        text-align: right;\n",
       "    }\n",
       "</style>\n",
       "<table border=\"1\" class=\"dataframe\">\n",
       "  <thead>\n",
       "    <tr style=\"text-align: right;\">\n",
       "      <th></th>\n",
       "      <th>ccode</th>\n",
       "      <th>country name</th>\n",
       "      <th>1500</th>\n",
       "      <th>1501</th>\n",
       "      <th>1502</th>\n",
       "      <th>1503</th>\n",
       "      <th>1504</th>\n",
       "      <th>1505</th>\n",
       "      <th>1506</th>\n",
       "      <th>1507</th>\n",
       "      <th>...</th>\n",
       "      <th>2006</th>\n",
       "      <th>2007</th>\n",
       "      <th>2008</th>\n",
       "      <th>2009</th>\n",
       "      <th>2010</th>\n",
       "      <th>2011</th>\n",
       "      <th>2012</th>\n",
       "      <th>2013</th>\n",
       "      <th>2014</th>\n",
       "      <th>2015</th>\n",
       "    </tr>\n",
       "  </thead>\n",
       "  <tbody>\n",
       "    <tr>\n",
       "      <td>0</td>\n",
       "      <td>4.0</td>\n",
       "      <td>Afghanistan</td>\n",
       "      <td>NaN</td>\n",
       "      <td>NaN</td>\n",
       "      <td>NaN</td>\n",
       "      <td>NaN</td>\n",
       "      <td>NaN</td>\n",
       "      <td>NaN</td>\n",
       "      <td>NaN</td>\n",
       "      <td>NaN</td>\n",
       "      <td>...</td>\n",
       "      <td>NaN</td>\n",
       "      <td>NaN</td>\n",
       "      <td>NaN</td>\n",
       "      <td>NaN</td>\n",
       "      <td>NaN</td>\n",
       "      <td>NaN</td>\n",
       "      <td>NaN</td>\n",
       "      <td>NaN</td>\n",
       "      <td>NaN</td>\n",
       "      <td>NaN</td>\n",
       "    </tr>\n",
       "    <tr>\n",
       "      <td>1</td>\n",
       "      <td>8.0</td>\n",
       "      <td>Albania</td>\n",
       "      <td>NaN</td>\n",
       "      <td>NaN</td>\n",
       "      <td>NaN</td>\n",
       "      <td>NaN</td>\n",
       "      <td>NaN</td>\n",
       "      <td>NaN</td>\n",
       "      <td>NaN</td>\n",
       "      <td>NaN</td>\n",
       "      <td>...</td>\n",
       "      <td>NaN</td>\n",
       "      <td>NaN</td>\n",
       "      <td>NaN</td>\n",
       "      <td>NaN</td>\n",
       "      <td>NaN</td>\n",
       "      <td>NaN</td>\n",
       "      <td>NaN</td>\n",
       "      <td>NaN</td>\n",
       "      <td>NaN</td>\n",
       "      <td>NaN</td>\n",
       "    </tr>\n",
       "    <tr>\n",
       "      <td>2</td>\n",
       "      <td>12.0</td>\n",
       "      <td>Algeria</td>\n",
       "      <td>NaN</td>\n",
       "      <td>NaN</td>\n",
       "      <td>NaN</td>\n",
       "      <td>NaN</td>\n",
       "      <td>NaN</td>\n",
       "      <td>NaN</td>\n",
       "      <td>NaN</td>\n",
       "      <td>NaN</td>\n",
       "      <td>...</td>\n",
       "      <td>NaN</td>\n",
       "      <td>NaN</td>\n",
       "      <td>NaN</td>\n",
       "      <td>NaN</td>\n",
       "      <td>NaN</td>\n",
       "      <td>NaN</td>\n",
       "      <td>NaN</td>\n",
       "      <td>NaN</td>\n",
       "      <td>NaN</td>\n",
       "      <td>NaN</td>\n",
       "    </tr>\n",
       "    <tr>\n",
       "      <td>3</td>\n",
       "      <td>20.0</td>\n",
       "      <td>Andorra</td>\n",
       "      <td>NaN</td>\n",
       "      <td>NaN</td>\n",
       "      <td>NaN</td>\n",
       "      <td>NaN</td>\n",
       "      <td>NaN</td>\n",
       "      <td>NaN</td>\n",
       "      <td>NaN</td>\n",
       "      <td>NaN</td>\n",
       "      <td>...</td>\n",
       "      <td>NaN</td>\n",
       "      <td>NaN</td>\n",
       "      <td>NaN</td>\n",
       "      <td>NaN</td>\n",
       "      <td>NaN</td>\n",
       "      <td>NaN</td>\n",
       "      <td>NaN</td>\n",
       "      <td>NaN</td>\n",
       "      <td>NaN</td>\n",
       "      <td>NaN</td>\n",
       "    </tr>\n",
       "    <tr>\n",
       "      <td>4</td>\n",
       "      <td>24.0</td>\n",
       "      <td>Angola</td>\n",
       "      <td>NaN</td>\n",
       "      <td>NaN</td>\n",
       "      <td>NaN</td>\n",
       "      <td>NaN</td>\n",
       "      <td>NaN</td>\n",
       "      <td>NaN</td>\n",
       "      <td>NaN</td>\n",
       "      <td>NaN</td>\n",
       "      <td>...</td>\n",
       "      <td>NaN</td>\n",
       "      <td>NaN</td>\n",
       "      <td>NaN</td>\n",
       "      <td>NaN</td>\n",
       "      <td>NaN</td>\n",
       "      <td>NaN</td>\n",
       "      <td>NaN</td>\n",
       "      <td>NaN</td>\n",
       "      <td>NaN</td>\n",
       "      <td>NaN</td>\n",
       "    </tr>\n",
       "  </tbody>\n",
       "</table>\n",
       "<p>5 rows × 518 columns</p>\n",
       "</div>"
      ],
      "text/plain": [
       "   ccode country name  1500  1501  1502  1503  1504  1505  1506  1507  ...  \\\n",
       "0    4.0  Afghanistan   NaN   NaN   NaN   NaN   NaN   NaN   NaN   NaN  ...   \n",
       "1    8.0      Albania   NaN   NaN   NaN   NaN   NaN   NaN   NaN   NaN  ...   \n",
       "2   12.0      Algeria   NaN   NaN   NaN   NaN   NaN   NaN   NaN   NaN  ...   \n",
       "3   20.0      Andorra   NaN   NaN   NaN   NaN   NaN   NaN   NaN   NaN  ...   \n",
       "4   24.0       Angola   NaN   NaN   NaN   NaN   NaN   NaN   NaN   NaN  ...   \n",
       "\n",
       "   2006  2007  2008  2009  2010  2011  2012  2013  2014  2015  \n",
       "0   NaN   NaN   NaN   NaN   NaN   NaN   NaN   NaN   NaN   NaN  \n",
       "1   NaN   NaN   NaN   NaN   NaN   NaN   NaN   NaN   NaN   NaN  \n",
       "2   NaN   NaN   NaN   NaN   NaN   NaN   NaN   NaN   NaN   NaN  \n",
       "3   NaN   NaN   NaN   NaN   NaN   NaN   NaN   NaN   NaN   NaN  \n",
       "4   NaN   NaN   NaN   NaN   NaN   NaN   NaN   NaN   NaN   NaN  \n",
       "\n",
       "[5 rows x 518 columns]"
      ]
     },
     "execution_count": 3,
     "metadata": {},
     "output_type": "execute_result"
    }
   ],
   "source": [
    "# importiere die Bibliothek pandas zum laden der\n",
    "# Datensätze als DataFrame\n",
    "import pandas as pd\n",
    "\n",
    "# Dateiname \n",
    "fname_streiks = 'NumberofLabourDisputes_Broad.xlsx'\n",
    "# lade die Datei als pandas DataFrame\n",
    "streiks = pd.read_excel(\"daten/\" + fname_streiks)\n",
    "streiks.head()"
   ]
  },
  {
   "cell_type": "markdown",
   "metadata": {},
   "source": [
    "**C.** Welche Informationen enthalten die einzelnen Spalten?"
   ]
  },
  {
   "cell_type": "markdown",
   "metadata": {},
   "source": [
    "[Anfang](#top)"
   ]
  },
  {
   "cell_type": "markdown",
   "metadata": {},
   "source": [
    "<a name=\"daten_erkunden\"></a>2. Daten erkunden\n",
    "---\n",
    "Zu Beginn möchten wir ein paar grundlegende Dinge über den Datensatz herausfinden: z.B. die Anzahl der Länder und der erfasste Zeitraum.  \n",
    "Die Namen der Spalten eines DataFrame lassen sich über die Variable ```columns``` des DataFrames ausgeben:"
   ]
  },
  {
   "cell_type": "code",
   "execution_count": 4,
   "metadata": {
    "run_control": {
     "frozen": false,
     "read_only": false
    }
   },
   "outputs": [
    {
     "data": {
      "text/plain": [
       "Index(['ccode', 'country name', '1500', '1501', '1502', '1503', '1504', '1505',\n",
       "       '1506', '1507',\n",
       "       ...\n",
       "       '2006', '2007', '2008', '2009', '2010', '2011', '2012', '2013', '2014',\n",
       "       '2015'],\n",
       "      dtype='object', length=518)"
      ]
     },
     "execution_count": 4,
     "metadata": {},
     "output_type": "execute_result"
    }
   ],
   "source": [
    "# eine Liste der im DataFrame enthaltenen Spalten\n",
    "streiks.columns"
   ]
  },
  {
   "cell_type": "markdown",
   "metadata": {},
   "source": [
    "In einem DataFrame können wir auf eine bestimmte Spalte mit ihrem Namen zugreifen:"
   ]
  },
  {
   "cell_type": "code",
   "execution_count": 5,
   "metadata": {
    "run_control": {
     "frozen": false,
     "read_only": false
    }
   },
   "outputs": [
    {
     "data": {
      "text/plain": [
       "0      Afghanistan\n",
       "1          Albania\n",
       "2          Algeria\n",
       "3          Andorra\n",
       "4           Angola\n",
       "          ...     \n",
       "193      Venezuela\n",
       "194        Vietnam\n",
       "195          Yemen\n",
       "196         Zambia\n",
       "197       Zimbabwe\n",
       "Name: country name, Length: 198, dtype: object"
      ]
     },
     "execution_count": 5,
     "metadata": {},
     "output_type": "execute_result"
    }
   ],
   "source": [
    "# zeigt die Spalte mit dem Namen \"country name\" an\n",
    "streiks['country name']"
   ]
  },
  {
   "cell_type": "markdown",
   "metadata": {},
   "source": [
    "### Aufgaben\n",
    "**A.** Sieh dir ein paar Einträge aus dem Datensatz an, indem du auf den Index zugreifst. <font color='green'>**HINWEIS:** Um auf eine Zeile direkt zuzugreifen, kannst du ```DataFrame.loc[index]``` (siehe [Dokumentation](https://pandas.pydata.org/pandas-docs/stable/reference/api/pandas.DataFrame.loc.html) für Beispiele) benutzen.</font>  \n",
    "**B.** Welche Zeitspanne deckt der Datensatz ab?  \n",
    "**C.** Wieviele verschiedene Länder befinden sich im Streik-Datensatz? Gibt es Länder-Duplikate (also kommen Länder zwei mal vor)? <font color='green'>**HINWEIS:** das ```DataFrame``` hält hier eine praktische [Funktion](https://pandas.pydata.org/pandas-docs/stable/reference/api/pandas.DataFrame.duplicated.html) vor, mit der sich nach Duplikaten filtern lässt. </font>  \n",
    "**D. (Optional)** Hast du eine Idee, warum der Datensatz diese Duplikate enthält? Finde heraus, welcher der Duplikat-Einträge verlässlicher erscheint und behalte ihn, entferne die anderen Duplikat-Einträge aus dem Datensatz.  <font color='green'>**HINWEIS:** die Funktionen ```isna()``` (siehe Aufgabe **2.E**) und ```drop()``` (siehe [Dokumentation](https://pandas.pydata.org/pandas-docs/stable/reference/api/pandas.DataFrame.drop.html) könnte hier hilfreich sein. </font>   \n",
    "\n",
    "Manche Spalten enthalten nur sporadisch Einträge und sind sonst leer. Fehlende Einträge werden im ```DataFrame``` als ```NaN``` ([not a number](https://de.wikipedia.org/wiki/NaN)) dargestellt. Insbesondere für Jahre, die weit in der Vergangenheit liegen ist die Datenlage sehr dünn. Die Anzahl der ```NaN```-Einträge lässt sich mit der Funktion ```isna()``` herausfinden:"
   ]
  },
  {
   "cell_type": "code",
   "execution_count": 6,
   "metadata": {
    "run_control": {
     "frozen": false,
     "read_only": false
    }
   },
   "outputs": [
    {
     "data": {
      "text/plain": [
       "198"
      ]
     },
     "execution_count": 6,
     "metadata": {},
     "output_type": "execute_result"
    }
   ],
   "source": [
    "# in der Spalte \"1500\" des Datensatzes z.B.\n",
    "# gibt es 198 fehlende Einträge (also alle)\n",
    "streiks[\"1500\"].isna().sum()"
   ]
  },
  {
   "cell_type": "code",
   "execution_count": 7,
   "metadata": {
    "run_control": {
     "frozen": false,
     "read_only": false
    }
   },
   "outputs": [
    {
     "data": {
      "text/plain": [
       "516"
      ]
     },
     "execution_count": 7,
     "metadata": {},
     "output_type": "execute_result"
    }
   ],
   "source": [
    "# in der Zeile 0 des Datensatzes (Afghanistan)\n",
    "# gibt es 516 fehlende Einträge\n",
    "streiks.loc[0].isna().sum()"
   ]
  },
  {
   "cell_type": "markdown",
   "metadata": {},
   "source": [
    "**E.** Finde für jedes Land heraus, wieviele (fehlende) Einträge es gibt. Erstelle ein neues ```DataFrame```, das jeweils das Land  und die Anzahl der Einträge enthält.  \n",
    "**F.** Welche Länder haben die meisten Einträge? In für welche Länder ist am wenigsten Information enthalten?  \n",
    "**G. (Optional)** Analysiere die Anzahl der fehlenden Einträge auch für die verschiedenen Jahre: für welche Jahre ist am wenigsten/meisten Information vorhanden?    \n",
    "**H. (Optional)** Erstelle mit Hilfe der Bibliothek ```matplotlib.pyplot``` eine Visualisierung, in der die Anzahl der fehlenden Einträge über den Verlauf der Jahre dargestellt sind (ein sog. \"line-plot\"). Gibt es einen Trend und wie lässt sich dieser evtl. erklären? <font color='green'>**HINWEIS:** [Hier](https://matplotlib.org/tutorials/introductory/pyplot.html) findest du ein Beispiel für so eine Darstellung [Hier](https://matplotlib.org/api/_as_gen/matplotlib.pyplot.plot.html) ist die Funktion ```plot()``` dokumentiert. </font>  \n",
    "**I. (Optional)** Erstelle (ebenfalls mit ```matplotlib.pyplot```) ein sog. \"bar-chart\", in dem die Anzahl der  Einträge je Land visualisiert sind. <font color='green'>**HINWEIS:** [Hier](https://pythonspot.com/matplotlib-bar-chart/) findest du ein Beispiel für ein bar-chart und [Hier](https://matplotlib.org/api/_as_gen/matplotlib.pyplot.bar.html) ist die Funktion ```bar()``` dokumentiert. </font>  \n",
    "**J. (Optional)** Warum eignet sich ein bar-chart für die Darstellung der Datenlage der Länder während für die Darstellung der Datenlage über die Zeit ein line-plot besser geeignet ist?"
   ]
  },
  {
   "cell_type": "markdown",
   "metadata": {},
   "source": [
    "[Anfang](#top)"
   ]
  },
  {
   "cell_type": "markdown",
   "metadata": {},
   "source": [
    "<a name=\"histogramme\"></a>3. Histogramme\n",
    "---\n",
    "Im folgenden Abschnitt werden wir damit beginnen, die gewonnenen Informationen zu visualisieren. Eine sehr einfache Visualisierung ist das Histogramm, eine graphische Darstellung der Häufigkeit eines Merkmals. Zur Illustration erstellen wir eine kleine Visualisierung der Verteilung von Werten in einer Liste:"
   ]
  },
  {
   "cell_type": "code",
   "execution_count": 10,
   "metadata": {
    "collapsed": true
   },
   "outputs": [],
   "source": [
    "%matplotlib inline"
   ]
  },
  {
   "cell_type": "code",
   "execution_count": 11,
   "metadata": {
    "run_control": {
     "frozen": false,
     "read_only": false
    }
   },
   "outputs": [
    {
     "data": {
      "image/png": "[encoded data removed]",
      "text/plain": [
       "<Figure size 432x288 with 1 Axes>"
      ]
     },
     "metadata": {},
     "output_type": "display_data"
    }
   ],
   "source": [
    "# eine Liste mit 30 Ganzzahlen, die z.B. das Alter von Personen in einer\n",
    "# Gruppe darstellen können\n",
    "alter = [37, 20, 84,  2, 11, 89, 52, 65, 90, 21, 30, 12, 17, 53, 62, 45, 37,\n",
    "        3,  6, 64, 85,  6, 95, 73, 68, 55, 86, 83, 91,  1]\n",
    "\n",
    "# für Visualisierungen benutzen wir die Blbiothek \"matplotlib.pyplot\"\n",
    "import matplotlib.pyplot as plt\n",
    "\n",
    "# Histogramme lassen sich einfach mit der Funktion plt.hist() erstellen\n",
    "plt.hist(alter);"
   ]
  },
  {
   "cell_type": "markdown",
   "metadata": {},
   "source": [
    "Visualisierungen sollten immer mit Achsenbeschriftungen versehen werden. Dafür verwenden wir die Funktionen ```plt.xlabel()``` und ```plt.ylabel```. Außerdem können wir der Abbildung mit ```plt.title()``` einen Titel geben. Mit verschiedenen optionalen Argumenten lässt sich das Verhalten von ```plt.hist()``` anpassen:\n",
    "* ```bins``` ändert die Anzahl der Bins\n",
    "* ```range``` ändert den dargestellten Bereich auf der x-Achse\n",
    "* ```rwidth``` ändert die dargestellte bin-Weite \n",
    "* ```color``` ändert die Farbe\n",
    "* ```alpha``` ändert den Alpha-Wert (Durchsichtigkeit) der dargestellten Balken.\n",
    "\n",
    "Plot-Funktionen haben oftmals sehr viele optionale Argumente (auch \"keyword arguments\" genannt). Um herauszufinden, wass die jeweiligen Funktionen alles können, lohnt sich ein Blick in die [Dokumentation](https://matplotlib.org/api/_as_gen/matplotlib.pyplot.hist.html). Außerdem sollte jede Darstellung *immer* mit Achsenbeschriftungen und eventuell einem Titel versehen werden:"
   ]
  },
  {
   "cell_type": "code",
   "execution_count": 12,
   "metadata": {
    "run_control": {
     "frozen": false,
     "read_only": false
    }
   },
   "outputs": [
    {
     "data": {
      "image/png": "[encoded data removed]",
      "text/plain": [
       "<Figure size 432x288 with 1 Axes>"
      ]
     },
     "metadata": {},
     "output_type": "display_data"
    }
   ],
   "source": [
    "plt.hist(alter, color='red', rwidth=0.8, range=[0,100], bins=10, label='alter')\n",
    "plt.xlabel('Alter')\n",
    "plt.ylabel('Anzahl')\n",
    "plt.title('Verteilung des Alters');"
   ]
  },
  {
   "cell_type": "markdown",
   "metadata": {},
   "source": [
    "### Aufgaben\n",
    "**A.** Erstelle ein Histogramm der Anzahl der Streiks im Jahr 2010.  <font color='green'>**HINWEIS:** Damit das funktioniert, musst du mit der Funktion ```dropna()``` alle ```NaN```-Werte entfernen.</font>   \n",
    "**B.** Mache dich mit den unterschiedlichen Argumenten der Funktion ```plt.hist()``` vertraut, indem du verschiedene Werte und Kombinationen für die Daten ausprobierst. Finde Werte, die die Daten deiner Meinung nach gut und verständlich darstellen. Worauf kommt es dabei an? Versieh die Darstellung mit passenden Beschriftungen.  \n",
    "**C.** Insbesondere das Argument ```bins``` verändert die Darstellung des Histogrammes sehr stark. Was kann schiefgehen, wenn ```bins``` zu niedrig oder zu hoch gewählt wird? Was ist eine gute Wahl für einen Datensatz?  \n",
    "**D.** Visualisiere die Anzahl der Streiks im Jahr 1950 im selben Histogram. Kannst du eine Aussage über die Entwicklung des Streikverhaltens ableiten? <font color='green'>**HINWEIS:** Du kannst einfach in der selben Code-Zelle zwei mal hintereinander die Funktion ```plt.hist()``` (natürlich mit unterschiedlichen Daten) aufrufen, um die Daten übereinandergelegt darzustellen. Du kannst mit der Funktion ```plt.legend()``` eine Legende zur Abbildung hinzufügen. Damit das funktioniert, musst du den einzelen plot-Befehlen vorher ein entsprechendes ```label``` Argument mitgeben.</font> Was fällt dir auf? Worauf musst du achten, damit die beiden Histogramme vergleichbar sind?  \n",
    "**E. (Optional)** Was hat es mit den beiden keyword arguments ```density``` und ```cumulative``` auf sich? Wie verändert sich das Histogram und wie kann die Darstellung dann interpretiert werden?"
   ]
  },
  {
   "cell_type": "markdown",
   "metadata": {},
   "source": [
    "[Anfang](#top)"
   ]
  },
  {
   "cell_type": "code",
   "execution_count": null,
   "metadata": {
    "collapsed": true
   },
   "outputs": [],
   "source": []
  }
 ],
 "metadata": {
  "jupytext": {
   "encoding": "# -*- coding: utf-8 -*-"
  },
  "kernelspec": {
   "display_name": "Python 3",
   "language": "python",
   "name": "python3"
  },
  "language_info": {
   "codemirror_mode": {
    "name": "ipython",
    "version": 3
   },
   "file_extension": ".py",
   "mimetype": "text/x-python",
   "name": "python",
   "nbconvert_exporter": "python",
   "pygments_lexer": "ipython3",
   "version": "3.6.1"
  },
  "latex_envs": {
   "bibliofile": "biblio.bib",
   "cite_by": "apalike",
   "current_citInitial": 1,
   "eqLabelWithNumbers": true,
   "eqNumInitial": 0
  },
  "toc": {
   "toc_cell": false,
   "toc_number_sections": true,
   "toc_threshold": 6,
   "toc_window_display": false
  }
 },
 "nbformat": 4,
 "nbformat_minor": 2
}
