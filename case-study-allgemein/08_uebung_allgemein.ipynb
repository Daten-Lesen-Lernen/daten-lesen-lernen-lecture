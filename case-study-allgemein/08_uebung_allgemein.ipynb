{
 "cells": [
  {
   "cell_type": "markdown",
   "metadata": {},
   "source": [
    "_Lizenz: Das folgende Lehrmaterial kann unter einer [CC-BY-SA 4.0](https://creativecommons.org/licenses/by/4.0/legalcode) Lizenz frei verwendet, verbreitet und modifiziert werden._   \n",
    " _Authoren: Jana Lasser (jana.lasser@ds.mpg.de)_  \n",
    " _Das Lehrmaterial wurde im Zuge des Projektes \"Daten Lesen Lernen\", gefördert vom Stifterverband und der Heinz Nixdorf Stiftung erstellt._"
   ]
  },
  {
   "cell_type": "markdown",
   "metadata": {},
   "source": [
    "# Übung 08 - Allgemein: All the best words...\n",
    "### Praktische Hinweise\n",
    "$\\rightarrow$ Übungen sind dafür gedacht, dass ihr sie euch daheim anseht und versucht, ein paar Aufgaben selbst zu lösen. In den Tutorien könnt ihr euch weiter mit dem Lösungen der Aufgaben beschäftigen und dabei Hilfe von den Tutor*innen bekommen.  \n",
    "\n",
    "$\\rightarrow$ Wenn ein Fehler auftritt:\n",
    "1. Fehlermeldung _lesen_ und _verstehen_\n",
    "2. Versuchen, selbst eine Lösung zu finden ($\\rightarrow$ hier findet das Lernen statt!)\n",
    "3. Das Problem googlen (Stichwort: Stackoverflow) oder den/die Nachbar*in fragen\n",
    "4. Tutor*in fragen\n",
    "\n",
    "$\\rightarrow$ Unter <font color='green'>**HINWEIS**</font> werden Hinweise gegeben, die für die Lösung der Aufgabe hilfreich sind und oftmals auch weiterführende Informationen zur Aufgabe liefern.\n",
    "\n",
    "$\\rightarrow$ Mit **(Optional)** gekennzeichnete Übungsteile sind für besonders schnelle Menschen :-)."
   ]
  },
  {
   "cell_type": "markdown",
   "metadata": {},
   "source": [
    "<a name=\"top\"></a>Inhalt\n",
    "---\n",
    "In einer Rede während seines Wahlkampfes im Dezember 2015 hat Donal Trump behauptet: [\"I have all the best words\"](https://www.washingtonpost.com/video/national/trump-i-have-the-best-words/2017/04/05/53a9ae4a-19fd-11e7-8598-9a99da559f9e_video.html?noredirect=on&utm_term=.f89fafd44af6). Wir würden jetzt gerne anhand der von ihm vorliegenden Tweets (und im Vergleich mit den Tweets der anderen User-Gruppen) herausfinden, ob er wirklich die \"besten Worte\" hat.\n",
    "\n",
    "Im zweiten und komplett optionalen Teil wollen wir uns mit statistischer Inferenz beschäftigten, also einen Zusammenhang zwischen einer Ausgangsgröße (Tweet-Länge) und einer Zielgröße (Wortanzahl) herstellen.  \n",
    "Das Tutorial gliedert sich in\n",
    "* [Wortvorlieben](#wortvorlieben)\n",
    "* [Inferenz](#inferenz)"
   ]
  },
  {
   "cell_type": "markdown",
   "metadata": {},
   "source": [
    "**WICHTIG**: bevor du mit dem Bearbeiten dieser Übung anfängst, stelle sicher, dass die Datensätze \n",
    "* ```tweets_normal_subsample.csv```,\n",
    "* ```tweets_troll_subsample.csv``` und\n",
    "* ```tweets_trump_bereinigt.csv```  \n",
    "im Ordner ```data``` liegen. Diese Datensätze werden im Verlauf von Übung 07 erzeugt. "
   ]
  },
  {
   "cell_type": "markdown",
   "metadata": {},
   "source": [
    "<a name=\"wortvorlieben\"></a>1. Wortvorlieben\n",
    "---\n",
    "Zur Vorbereitung laden wir wieder die drei Datensätze:"
   ]
  },
  {
   "cell_type": "code",
   "execution_count": 14,
   "metadata": {},
   "outputs": [
    {
     "data": {
      "text/html": [
       "<div>\n",
       "<style scoped>\n",
       "    .dataframe tbody tr th:only-of-type {\n",
       "        vertical-align: middle;\n",
       "    }\n",
       "\n",
       "    .dataframe tbody tr th {\n",
       "        vertical-align: top;\n",
       "    }\n",
       "\n",
       "    .dataframe thead th {\n",
       "        text-align: right;\n",
       "    }\n",
       "</style>\n",
       "<table border=\"1\" class=\"dataframe\">\n",
       "  <thead>\n",
       "    <tr style=\"text-align: right;\">\n",
       "      <th></th>\n",
       "      <th>Date</th>\n",
       "      <th>User</th>\n",
       "      <th>Tweet</th>\n",
       "      <th>tweet_length</th>\n",
       "      <th>word_number</th>\n",
       "    </tr>\n",
       "  </thead>\n",
       "  <tbody>\n",
       "    <tr>\n",
       "      <th>0</th>\n",
       "      <td>2009-04-06 22:21:00</td>\n",
       "      <td>itsanimesh</td>\n",
       "      <td>really don't feel like getting up today... but...</td>\n",
       "      <td>95</td>\n",
       "      <td>17</td>\n",
       "    </tr>\n",
       "    <tr>\n",
       "      <th>1</th>\n",
       "      <td>2009-04-06 22:23:00</td>\n",
       "      <td>paulseverio</td>\n",
       "      <td>Why won't you show my location?!   http://twit...</td>\n",
       "      <td>59</td>\n",
       "      <td>9</td>\n",
       "    </tr>\n",
       "    <tr>\n",
       "      <th>2</th>\n",
       "      <td>2009-04-06 22:26:00</td>\n",
       "      <td>ItsBrigittaYo</td>\n",
       "      <td>why is it always the fat ones?!</td>\n",
       "      <td>32</td>\n",
       "      <td>8</td>\n",
       "    </tr>\n",
       "  </tbody>\n",
       "</table>\n",
       "</div>"
      ],
      "text/plain": [
       "                  Date           User  \\\n",
       "0  2009-04-06 22:21:00     itsanimesh   \n",
       "1  2009-04-06 22:23:00    paulseverio   \n",
       "2  2009-04-06 22:26:00  ItsBrigittaYo   \n",
       "\n",
       "                                               Tweet  tweet_length  \\\n",
       "0  really don't feel like getting up today... but...            95   \n",
       "1  Why won't you show my location?!   http://twit...            59   \n",
       "2                   why is it always the fat ones?!             32   \n",
       "\n",
       "   word_number  \n",
       "0           17  \n",
       "1            9  \n",
       "2            8  "
      ]
     },
     "execution_count": 14,
     "metadata": {},
     "output_type": "execute_result"
    }
   ],
   "source": [
    "import pandas as pd\n",
    "from os.path import join\n",
    "\n",
    "tweets_normal = pd.read_csv(join('data','tweets_normal_subsample.csv'), encoding='ISO-8859-1', lineterminator='\\n')\n",
    "tweets_troll = pd.read_csv(join('data','tweets_troll_subsample.csv'), encoding='ISO-8859-1', lineterminator='\\n')\n",
    "tweets_trump = pd.read_csv(join('data','tweets_trump_bereinigt.csv'), encoding='ISO-8859-1', lineterminator='\\n')\n",
    "\n",
    "tweets_troll.head(3)"
   ]
  },
  {
   "cell_type": "markdown",
   "metadata": {},
   "source": [
    "Als ersten Schritt müssen wir Trumps Aussage interpretieren. Wie ist \"best\" gemeint? Mögliche Interpretationen sind:  \n",
    "    **1)** Trump benutzt die ausgefallensten und damit längsten Worte  \n",
    "    **2)** Trump hat den größten Wortschatz  \n",
    "    \n",
    "Um Interpretation **1)** zu überprüfen, müssen wir die Wortlängen in den Tweets ausrechnen und miteinander vergleichen. Dafür müssen wir erst einmal eine Liste der Worte aus den Tweets generieren. Wie wir in Übung **07** gelernt haben, enthalten die Tweets auch Hashtags und Links. Die können wir direkt herausfiltern. Dafür bauen wir uns ähnlich der Funktion ```isHashtag()``` aus Übung **07** eine Funktion ```isWord()``` die herausfindet, ob ein Wort ein Hashtag oder Link ist:"
   ]
  },
  {
   "cell_type": "code",
   "execution_count": 4,
   "metadata": {},
   "outputs": [],
   "source": [
    "def isWord(word):\n",
    "    # ist das Wort ein Hashtag oder Link?\n",
    "    if ('#' in word) or ('http' in word):\n",
    "        # wenn ja, gib \"False\" zurück und verlasse\n",
    "        # die Funktion\n",
    "        return False\n",
    "    # wenn nein, gib \"True\" zurück und verlasse \n",
    "    # die Funktion\n",
    "    return True"
   ]
  },
  {
   "cell_type": "code",
   "execution_count": 5,
   "metadata": {},
   "outputs": [
    {
     "data": {
      "text/html": [
       "<div>\n",
       "<style scoped>\n",
       "    .dataframe tbody tr th:only-of-type {\n",
       "        vertical-align: middle;\n",
       "    }\n",
       "\n",
       "    .dataframe tbody tr th {\n",
       "        vertical-align: top;\n",
       "    }\n",
       "\n",
       "    .dataframe thead th {\n",
       "        text-align: right;\n",
       "    }\n",
       "</style>\n",
       "<table border=\"1\" class=\"dataframe\">\n",
       "  <thead>\n",
       "    <tr style=\"text-align: right;\">\n",
       "      <th></th>\n",
       "      <th>word</th>\n",
       "      <th>length</th>\n",
       "    </tr>\n",
       "  </thead>\n",
       "  <tbody>\n",
       "    <tr>\n",
       "      <th>0</th>\n",
       "      <td>Read</td>\n",
       "      <td>4</td>\n",
       "    </tr>\n",
       "    <tr>\n",
       "      <th>1</th>\n",
       "      <td>a</td>\n",
       "      <td>1</td>\n",
       "    </tr>\n",
       "    <tr>\n",
       "      <th>2</th>\n",
       "      <td>great</td>\n",
       "      <td>5</td>\n",
       "    </tr>\n",
       "    <tr>\n",
       "      <th>3</th>\n",
       "      <td>interview</td>\n",
       "      <td>9</td>\n",
       "    </tr>\n",
       "    <tr>\n",
       "      <th>4</th>\n",
       "      <td>with</td>\n",
       "      <td>4</td>\n",
       "    </tr>\n",
       "  </tbody>\n",
       "</table>\n",
       "</div>"
      ],
      "text/plain": [
       "        word  length\n",
       "0       Read       4\n",
       "1          a       1\n",
       "2      great       5\n",
       "3  interview       9\n",
       "4       with       4"
      ]
     },
     "execution_count": 5,
     "metadata": {},
     "output_type": "execute_result"
    }
   ],
   "source": [
    "# alle von Trump benutzten Worte\n",
    "\n",
    "# Liste, um alle vorkommenden Worte zu speichern\n",
    "words_trump = []\n",
    "\n",
    "# iteriere über alle Tweets\n",
    "for tweet in tweets_trump['Tweet']:\n",
    "    # zerteile den Tweet entlang der Leerzeichen in Worte\n",
    "    words = tweet.split(' ')\n",
    "    # filtere die Hashtags und Links aus der Wortliste heraus\n",
    "    words = [word for word in words if isWord(word)]\n",
    "    # hänge die Liste mit Worten an die globale Liste an\n",
    "    words_trump.extend(words)\n",
    "\n",
    "    \n",
    "# berechne die Wortlänge für jedes Wort und speichere sie in einer Liste\n",
    "word_length_trump = [len(word) for word in words_trump]\n",
    "\n",
    "# erstelle ein neues DataFrame\n",
    "words_trump_df = pd.DataFrame({'word':words_trump, 'length':word_length_trump})\n",
    "# die ersten paar Einträge des DataFrame\n",
    "words_trump_df.head()"
   ]
  },
  {
   "cell_type": "markdown",
   "metadata": {},
   "source": [
    "**A.** Erstelle auch für die Trolle und die normalen User eine bereinigte Wortliste und ein DataFrame, das die Worte und ihre Längen enthält."
   ]
  },
  {
   "cell_type": "markdown",
   "metadata": {},
   "source": [
    "**B.** Wieviele unterschiedliche Worte enthalten die Listen jeweils? Wieviele Worte hat die Englische Sprache? Warum würde das Ergebnis verzerrt werden, wenn wir auch andere Sprachen im Datensatz vorliegen hätten?"
   ]
  },
  {
   "cell_type": "markdown",
   "metadata": {},
   "source": [
    "Die Wortlisten, die wir nun haben, enthalten immer noch ziemlich viele Kunstworte, Abkürzungen oder falsch geschriebene Worte. Da wir ja herausfinden wollen, ob Trump die \"besten\" Worte hat, ist es gerechtfertigt, die Wortlisten mit einem Wörterbuch abzugleichen und alle Worte hinauszuwerfen, die nicht teil der Englischen Sprache sind. Das geht in Python sehr einfach, indem wir die [Bibliothek pyEnchant](https://stackoverflow.com/questions/3788870/how-to-check-if-a-word-is-an-english-word-with-python) verwenden, die verschiedene Wörterbücher zur Verfügung stellt (siehe [dieser](https://stackoverflow.com/questions/3788870/how-to-check-if-a-word-is-an-english-word-with-python) StackOverflow Post). Da diese Bibliothek noch nicht auf dem JupyterHub installiert ist, müssen wir dies erst manuell tun (Näheres z.B. in [dieser](https://jakevdp.github.io/blog/2017/12/05/installing-python-packages-from-jupyter/) Beschreibung):"
   ]
  },
  {
   "cell_type": "code",
   "execution_count": 6,
   "metadata": {},
   "outputs": [
    {
     "name": "stdout",
     "output_type": "stream",
     "text": [
      "Requirement already satisfied: pyenchant in /home/jana/anaconda3/lib/python3.6/site-packages (2.0.0)\n",
      "\u001b[33mWARNING: You are using pip version 19.1.1, however version 19.2.3 is available.\n",
      "You should consider upgrading via the 'pip install --upgrade pip' command.\u001b[0m\n"
     ]
    }
   ],
   "source": [
    "# die nachfolgenden Kommandos musst du dir nicht merken. Falls du jemals eine\n",
    "# eigene Bibliothek nachinstallieren willst, ersezte \"pyenchant\" mit dem\n",
    "# Namen der von dir benötigten Bibliothek\n",
    "\n",
    "# die Bibliothek \"sys\" gibt uns Zugriff auf Funktionen des Betriebssystems\n",
    "# mit dem Operator \"!\" führen wir Code nicht im Python-Interpreter sondern\n",
    "# auf der Kommandozeile aus. \n",
    "import sys\n",
    "!{sys.executable} -m pip install pyenchant\n",
    "\n",
    "import enchant"
   ]
  },
  {
   "cell_type": "code",
   "execution_count": 7,
   "metadata": {},
   "outputs": [
    {
     "name": "stdout",
     "output_type": "stream",
     "text": [
      "\"Hello\" ist Teil der Englischen Sprache? True\n",
      "\"Helo\" ist Teil der Englischen Sprache? False\n"
     ]
    }
   ],
   "source": [
    "# erstelle ein Wörterbuch mit (amerikanischem) Englisch\n",
    "woerterbuch = enchant.Dict(\"en_US\")\n",
    "\n",
    "# überprüfe, ob das Wort \"hello\" im Wörterbuch zu finden ist\n",
    "wort = \"Hello\"\n",
    "print('\"{}\" ist Teil der Englischen Sprache? {}'.format(wort, woerterbuch.check(wort)))\n",
    "\n",
    "wort = \"Helo\"\n",
    "# Gegencheck: ein Wort, das nicht existiert\n",
    "print('\"{}\" ist Teil der Englischen Sprache? {}'.format(wort, woerterbuch.check(wort)))"
   ]
  },
  {
   "cell_type": "markdown",
   "metadata": {},
   "source": [
    "Jetzt können wir die Wortliste danach filtern, ob die Worte auch im Englischen Wörterbuch zu finden sind. Eine beliebige Funktion - wie z.B. die Funktion ```check()``` des ```woerterbuch```-Objektes können wir mit Hilfe der Funktion ```apply()``` auf jedes Element einer Spalte des DataFrames anwenden (siehe [Dokumentation](https://pandas.pydata.org/pandas-docs/stable/reference/api/pandas.DataFrame.apply.html)) und so in gewohnter Weise eine Maske erstellen:"
   ]
  },
  {
   "cell_type": "code",
   "execution_count": 8,
   "metadata": {},
   "outputs": [
    {
     "ename": "ValueError",
     "evalue": "can't check spelling of empty string",
     "output_type": "error",
     "traceback": [
      "\u001b[0;31m---------------------------------------------------------------------------\u001b[0m",
      "\u001b[0;31mValueError\u001b[0m                                Traceback (most recent call last)",
      "\u001b[0;32m<ipython-input-8-2f59e5ef3a34>\u001b[0m in \u001b[0;36m<module>\u001b[0;34m()\u001b[0m\n\u001b[1;32m      1\u001b[0m \u001b[0;31m# erstelle eine Maske der Worte, die im Wörterbuch enthalten sind\u001b[0m\u001b[0;34m\u001b[0m\u001b[0;34m\u001b[0m\u001b[0m\n\u001b[0;32m----> 2\u001b[0;31m \u001b[0mwoerterbuch_mask\u001b[0m \u001b[0;34m=\u001b[0m \u001b[0mwords_trump_df\u001b[0m\u001b[0;34m[\u001b[0m\u001b[0;34m'word'\u001b[0m\u001b[0;34m]\u001b[0m\u001b[0;34m.\u001b[0m\u001b[0mapply\u001b[0m\u001b[0;34m(\u001b[0m\u001b[0mwoerterbuch\u001b[0m\u001b[0;34m.\u001b[0m\u001b[0mcheck\u001b[0m\u001b[0;34m)\u001b[0m\u001b[0;34m\u001b[0m\u001b[0m\n\u001b[0m\u001b[1;32m      3\u001b[0m \u001b[0;31m# filtere das DataFrame mit der Maske\u001b[0m\u001b[0;34m\u001b[0m\u001b[0;34m\u001b[0m\u001b[0m\n\u001b[1;32m      4\u001b[0m \u001b[0mwords_trump_df\u001b[0m \u001b[0;34m=\u001b[0m \u001b[0mwords_trump_df\u001b[0m\u001b[0;34m[\u001b[0m\u001b[0mwoerterbuch_mask\u001b[0m\u001b[0;34m]\u001b[0m\u001b[0;34m\u001b[0m\u001b[0m\n",
      "\u001b[0;32m~/anaconda3/lib/python3.6/site-packages/pandas/core/series.py\u001b[0m in \u001b[0;36mapply\u001b[0;34m(self, func, convert_dtype, args, **kwds)\u001b[0m\n\u001b[1;32m   3190\u001b[0m             \u001b[0;32melse\u001b[0m\u001b[0;34m:\u001b[0m\u001b[0;34m\u001b[0m\u001b[0m\n\u001b[1;32m   3191\u001b[0m                 \u001b[0mvalues\u001b[0m \u001b[0;34m=\u001b[0m \u001b[0mself\u001b[0m\u001b[0;34m.\u001b[0m\u001b[0mastype\u001b[0m\u001b[0;34m(\u001b[0m\u001b[0mobject\u001b[0m\u001b[0;34m)\u001b[0m\u001b[0;34m.\u001b[0m\u001b[0mvalues\u001b[0m\u001b[0;34m\u001b[0m\u001b[0m\n\u001b[0;32m-> 3192\u001b[0;31m                 \u001b[0mmapped\u001b[0m \u001b[0;34m=\u001b[0m \u001b[0mlib\u001b[0m\u001b[0;34m.\u001b[0m\u001b[0mmap_infer\u001b[0m\u001b[0;34m(\u001b[0m\u001b[0mvalues\u001b[0m\u001b[0;34m,\u001b[0m \u001b[0mf\u001b[0m\u001b[0;34m,\u001b[0m \u001b[0mconvert\u001b[0m\u001b[0;34m=\u001b[0m\u001b[0mconvert_dtype\u001b[0m\u001b[0;34m)\u001b[0m\u001b[0;34m\u001b[0m\u001b[0m\n\u001b[0m\u001b[1;32m   3193\u001b[0m \u001b[0;34m\u001b[0m\u001b[0m\n\u001b[1;32m   3194\u001b[0m         \u001b[0;32mif\u001b[0m \u001b[0mlen\u001b[0m\u001b[0;34m(\u001b[0m\u001b[0mmapped\u001b[0m\u001b[0;34m)\u001b[0m \u001b[0;32mand\u001b[0m \u001b[0misinstance\u001b[0m\u001b[0;34m(\u001b[0m\u001b[0mmapped\u001b[0m\u001b[0;34m[\u001b[0m\u001b[0;36m0\u001b[0m\u001b[0;34m]\u001b[0m\u001b[0;34m,\u001b[0m \u001b[0mSeries\u001b[0m\u001b[0;34m)\u001b[0m\u001b[0;34m:\u001b[0m\u001b[0;34m\u001b[0m\u001b[0m\n",
      "\u001b[0;32mpandas/_libs/src/inference.pyx\u001b[0m in \u001b[0;36mpandas._libs.lib.map_infer\u001b[0;34m()\u001b[0m\n",
      "\u001b[0;32m~/anaconda3/lib/python3.6/site-packages/enchant/__init__.py\u001b[0m in \u001b[0;36mcheck\u001b[0;34m(self, word)\u001b[0m\n\u001b[1;32m    649\u001b[0m         \u001b[0;31m# Check it up-front to avoid nasty warnings on stderr.\u001b[0m\u001b[0;34m\u001b[0m\u001b[0;34m\u001b[0m\u001b[0m\n\u001b[1;32m    650\u001b[0m         \u001b[0;32mif\u001b[0m \u001b[0mlen\u001b[0m\u001b[0;34m(\u001b[0m\u001b[0mword\u001b[0m\u001b[0;34m)\u001b[0m \u001b[0;34m==\u001b[0m \u001b[0;36m0\u001b[0m\u001b[0;34m:\u001b[0m\u001b[0;34m\u001b[0m\u001b[0m\n\u001b[0;32m--> 651\u001b[0;31m             \u001b[0;32mraise\u001b[0m \u001b[0mValueError\u001b[0m\u001b[0;34m(\u001b[0m\u001b[0;34m\"can't check spelling of empty string\"\u001b[0m\u001b[0;34m)\u001b[0m\u001b[0;34m\u001b[0m\u001b[0m\n\u001b[0m\u001b[1;32m    652\u001b[0m         \u001b[0mval\u001b[0m \u001b[0;34m=\u001b[0m \u001b[0m_e\u001b[0m\u001b[0;34m.\u001b[0m\u001b[0mdict_check\u001b[0m\u001b[0;34m(\u001b[0m\u001b[0mself\u001b[0m\u001b[0;34m.\u001b[0m\u001b[0m_this\u001b[0m\u001b[0;34m,\u001b[0m\u001b[0mword\u001b[0m\u001b[0;34m.\u001b[0m\u001b[0mencode\u001b[0m\u001b[0;34m(\u001b[0m\u001b[0;34m)\u001b[0m\u001b[0;34m)\u001b[0m\u001b[0;34m\u001b[0m\u001b[0m\n\u001b[1;32m    653\u001b[0m         \u001b[0;32mif\u001b[0m \u001b[0mval\u001b[0m \u001b[0;34m==\u001b[0m \u001b[0;36m0\u001b[0m\u001b[0;34m:\u001b[0m\u001b[0;34m\u001b[0m\u001b[0m\n",
      "\u001b[0;31mValueError\u001b[0m: can't check spelling of empty string"
     ]
    }
   ],
   "source": [
    "# erstelle eine Maske der Worte, die im Wörterbuch enthalten sind\n",
    "woerterbuch_mask = words_trump_df['word'].apply(woerterbuch.check)\n",
    "# filtere das DataFrame mit der Maske\n",
    "words_trump_df = words_trump_df[woerterbuch_mask]"
   ]
  },
  {
   "cell_type": "markdown",
   "metadata": {},
   "source": [
    "Das führt erst einmal zu einem Fehler, da in der Tabelle anscheinend auch leere Strings ```\" \"``` enthalten sind, mit denen das Wörterbuch nichts anzufangen weiß. Die können wir einfach mit einem Filter aus dem DataFrame entfernen:"
   ]
  },
  {
   "cell_type": "code",
   "execution_count": 9,
   "metadata": {},
   "outputs": [
    {
     "name": "stdout",
     "output_type": "stream",
     "text": [
      "Trump hat 25746 unterschiedliche Worte benutzt.\n"
     ]
    }
   ],
   "source": [
    "# erstelle eine Maske der Leeren Strings ''\n",
    "mask_empty = words_trump_df['word'] != ''\n",
    "# filtere die leeren Strings aus dem DataFrame heraus\n",
    "words_trump_df = words_trump_df[mask_empty]\n",
    "\n",
    "# erstelle eine Maske der Worte, die im Wörterbuch enthalten sind\n",
    "woerterbuch_mask = words_trump_df['word'].apply(woerterbuch.check)\n",
    "# filtere das DataFrame mit der Maske\n",
    "words_trump_df = words_trump_df[woerterbuch_mask]\n",
    "N_trump = len(words_trump_df['word'].unique())\n",
    "\n",
    "print('Trump hat {} unterschiedliche Worte benutzt.'\\\n",
    "      .format(N_trump))"
   ]
  },
  {
   "cell_type": "markdown",
   "metadata": {},
   "source": [
    "**C.** Filtere auch die beiden anderen Wortlisten entsprechend. Wieviele Worte bleiben für Trump, die Trolle und die normalen User übrig? Gibt es einen großen Unterschied?"
   ]
  },
  {
   "cell_type": "markdown",
   "metadata": {},
   "source": [
    "**D.** Stelle die Anzahl der benutzten Worte in einem Barchart <font color='green'>**HINWEIS:** Funktion ```plt.bar()```, [Dokumentation](https://matplotlib.org/3.1.0/api/_as_gen/matplotlib.pyplot.bar.html) </font> dar."
   ]
  },
  {
   "cell_type": "markdown",
   "metadata": {},
   "source": [
    "**E. ** Verändere den im Barchart angezeigten y-Achsenabschnitt so, dass es so aussieht, als würde Trump viel weniger Worte als die Trolle benutzen. <font color='green'>**HINWEIS:** Funktion ```plt.ylim(ymin, ymax)``` </font>. Was ist daran problematisch?\n"
   ]
  },
  {
   "cell_type": "markdown",
   "metadata": {},
   "source": [
    "**F.** Was ist die mittlere Länge der benutzten Worte? Findest du Vergleichswerte, für die Englische Sprache? Sind die verwendeten Worte eher lang oder eher kurz?"
   ]
  },
  {
   "cell_type": "markdown",
   "metadata": {},
   "source": [
    "**G.** Hat Trump die besten Worte?"
   ]
  },
  {
   "cell_type": "markdown",
   "metadata": {},
   "source": [
    "**H. (optional)** _...and there is no better word than \"stupid\"._ (so endet Trumps Auslassung über die \"besten\" Worte bei seiner Wahlkampfrede). Wie oft verwendet Trump das Wort \"stupid\" in seinen Tweets? Wie oft die Trolle und die normalen User?"
   ]
  },
  {
   "cell_type": "markdown",
   "metadata": {},
   "source": [
    "**I. (optional)** Eine interessante Erkenntnis aus den Sprachwissenschaften ist das [Zipf-Gesetz](https://en.wikipedia.org/wiki/Zipf%27s_law). Was hat es damit auf sich? Kannst du das Gesetz anhand der von Trump verwendeten Worte nachfollziehen? **ACHTUNG:** Bei dieser Übung musst du wahrscheinlich über alle Worte in allen Tweets iterieren, was sehr lange dauern kann und viel Leistung verschliengt. Deswegen gibt es für diese Übung auch keine Lösung und wir empfehlen dir, hierfür eine lokale Python-Installation zu nutzen und nicht den JupyterHub oder die J"
   ]
  },
  {
   "cell_type": "markdown",
   "metadata": {},
   "source": [
    "<a name=\"inferenz\"></a>2. Inferenz\n",
    "---\n",
    "Im Folgenden wollen wir herausfinden, wie die Anzahl der Worte in einem Tweet mit der Tweet-Länge zusammenhängt."
   ]
  },
  {
   "cell_type": "markdown",
   "metadata": {},
   "source": [
    "**A. (optional)** Filtere den Datensatz der normalen User so, dass er nur noch Tweets mit einer Länge kleiner oder gleich 140 Zeichen enthält."
   ]
  },
  {
   "cell_type": "code",
   "execution_count": 10,
   "metadata": {},
   "outputs": [],
   "source": [
    "tweets_normal_140 = tweets_normal[tweets_normal['tweet_length'] <= 140]"
   ]
  },
  {
   "cell_type": "markdown",
   "metadata": {},
   "source": [
    "Die Funktion ```plt.scatter(x,y)``` ([Dokumentation](https://matplotlib.org/3.1.0/api/_as_gen/matplotlib.pyplot.scatter.html)) erlaubt es uns, einen einfachen Scatterplot zu erstellen:"
   ]
  },
  {
   "cell_type": "code",
   "execution_count": 11,
   "metadata": {},
   "outputs": [
    {
     "data": {
      "text/plain": [
       "<matplotlib.collections.PathCollection at 0x7f08bd88e358>"
      ]
     },
     "execution_count": 11,
     "metadata": {},
     "output_type": "execute_result"
    },
    {
     "data": {
      "image/png": "[encoded data removed]",
      "text/plain": [
       "<Figure size 432x288 with 1 Axes>"
      ]
     },
     "metadata": {},
     "output_type": "display_data"
    }
   ],
   "source": [
    "import matplotlib.pyplot as plt\n",
    "# diese Zeile wird benötigt, damit Matplotlib die Abbildungen direkt im Notebook anzeigt\n",
    "%matplotlib inline\n",
    "\n",
    "x = [3,5,7,4]\n",
    "y = [1,3,2,4]\n",
    "\n",
    "plt.scatter(x,y)"
   ]
  },
  {
   "cell_type": "markdown",
   "metadata": {},
   "source": [
    "**B. (optional)** Stelle die Tweet-Länge in dem in Aufgabe **2.A** gefilterten DataFrame über der Wortanzahl im selben DataFrame mit Hilfe eines Scatterplots dar. Vergiss nicht auf die Beschriftungen."
   ]
  },
  {
   "cell_type": "code",
   "execution_count": 12,
   "metadata": {},
   "outputs": [
    {
     "data": {
      "image/png": "[encoded data removed]",
      "text/plain": [
       "<Figure size 432x288 with 1 Axes>"
      ]
     },
     "metadata": {},
     "output_type": "display_data"
    }
   ],
   "source": [
    "plt.scatter(tweets_normal_140['tweet_length'], tweets_normal_140['word_number'])\n",
    "plt.xlabel('Tweet-Länge / Zeichen')\n",
    "plt.ylabel('Wort-Länge / Worte')\n",
    "plt.title('Normale User');"
   ]
  },
  {
   "cell_type": "markdown",
   "metadata": {},
   "source": [
    "**C. (optional)** Mache dich mit der Funktion ```linregress()``` der Bibliothek SciPy vertraut ([Dokumentation](https://docs.scipy.org/doc/scipy/reference/generated/scipy.stats.linregress.html)). Was für Eingabewerte verlangt die Funktion? Was für Werte gibt sie aus?"
   ]
  },
  {
   "cell_type": "markdown",
   "metadata": {},
   "source": [
    "**Eingabewerte:**\n",
    "* _die unabhängige Variable ```x``` (in unserem Fall die Tweet-Länge in Zeichen)_\n",
    "* _die abhängige Variable ```y``` (in unserem Fall die Anzahl der Worte je Tweet)_\n",
    "\n",
    "**Ausgabewerte:**\n",
    "Die Ausgabewerte der Funktion beschreiben eine Gerade, sowie Maße für die Unsicherheit der Regression\n",
    "* _```slope``` ist die Steigung der Geraden._\n",
    "* _```intercept``` ist der Achsenabschnitt der Geraden._\n",
    "* _der ```rvalue``` ist der \"Korrelationskoeffizient\" und gibt an, wie stark die abhängige Größe mit der unabhängigen korreliert. Ist ```rvalue=1```, dann steigt die abhängige Größe immer genau dann, wenn die unabhängige auch steigt. Ist ```rvalue=0```, dann sind die beiden Größen unabhängig voneinander. Ist ```rvalue=-1```, dann sinkt die abhängige Größe genau dann, wenn die unabhängige Größe steigt (anti-korreliert)._\n",
    "* _der ```pvalue``` ([p-Wert](https://de.wikipedia.org/wiki/P-Wert)) gibt an wie wahrscheinlich es ist eine Testgröße zu erhalten die noch unwahrscheinlicher ist als die beobachtete, unter der Annahme, dass die Nullhypothese wahr ist._\n",
    "* _der ```stderr``` ist der [Standardfehler](https://de.wikipedia.org/wiki/Standardfehler) der Steigung._"
   ]
  },
  {
   "cell_type": "markdown",
   "metadata": {},
   "source": [
    "**D. (optional)** führe eine lineare Regression der Wortanzahl über der Tweet-Länge durch. Gib die resultierenden Werte aus. Was bedeuten sie? "
   ]
  },
  {
   "cell_type": "code",
   "execution_count": 18,
   "metadata": {},
   "outputs": [
    {
     "name": "stdout",
     "output_type": "stream",
     "text": [
      "Resultierende Gerade: y(x) = 0.60 + (0.19 +- 0.00) * x\n",
      "Korrelationskoeffizient: 0.95, p-Wert: 0.00\n"
     ]
    }
   ],
   "source": [
    "# importieren des Untermoduls \"stats\" von SciPy\n",
    "from scipy import stats\n",
    "\n",
    "# Ausführen der Regression. Die Rückgabewerte werden 5 Variablen zugewiesen\n",
    "slope, intercept, rvalue, pvalue, stderr = stats.linregress(tweets_normal_140['tweet_length'], tweets_normal_140['word_number'])\n",
    "\n",
    "# Ausgabe der Ergebnisse\n",
    "print('Resultierende Gerade: y(x) = {:1.2f} + ({:1.2f} +- {:1.2f}) * x'.format(intercept, slope, stderr))\n",
    "print('Korrelationskoeffizient: {:1.2f}, p-Wert: {:1.2f}'.format(rvalue, pvalue))"
   ]
  },
  {
   "cell_type": "markdown",
   "metadata": {},
   "source": [
    "* _Der Korrelationskoeffizient sagt uns, dass die Wortanzahl stark mit der Tweet-Länge korreliert._\n",
    "* _Der p-Wert sagt uns, dass dieses Ergebnis hoch signifikant ist und die Wahrscheinlichkeit, dass die Nullhypothese wahr ist bei 0% liegt._\n",
    "* _Dieses Ergebnis hätten wir uns intuitiv aus unserer Erfahrung mit dem Sprachgebrauch auch denken können, aber jetzt haben wir es zumindest statistisch signifikant bestätigt :)_"
   ]
  },
  {
   "cell_type": "markdown",
   "metadata": {},
   "source": [
    "**E. (optional)** Plotte die aus der statistischen Regression resultierende Linie über dem Scatterplot aus Aufgabe **2.B** dar."
   ]
  },
  {
   "cell_type": "code",
   "execution_count": 19,
   "metadata": {},
   "outputs": [
    {
     "data": {
      "text/plain": [
       "[<matplotlib.lines.Line2D at 0x7f08b45dc940>]"
      ]
     },
     "execution_count": 19,
     "metadata": {},
     "output_type": "execute_result"
    },
    {
     "data": {
      "image/png": "[encoded data removed]",
      "text/plain": [
       "<Figure size 432x288 with 1 Axes>"
      ]
     },
     "metadata": {},
     "output_type": "display_data"
    }
   ],
   "source": [
    "# importiere numpy, um mit der Funktion \"arange()\" ein \"array\",\n",
    "# also eine Liste, mit der man rechnen kann, zu erstellen\n",
    "import numpy as np\n",
    "x = np.arange(1,141) # Tweet-Länge zwischen 1 und 140 Zeichen\n",
    "y = intercept + slope * x\n",
    "\n",
    "# scatterplot\n",
    "plt.scatter(tweets_normal_140['tweet_length'], tweets_normal_140['word_number'])\n",
    "\n",
    "# plot der linie y(x) = intercept + slope * x\n",
    "plt.plot(x, y, '--', color='red')"
   ]
  },
  {
   "cell_type": "markdown",
   "metadata": {},
   "source": [
    "[Anfang](#top)"
   ]
  }
 ],
 "metadata": {
  "kernelspec": {
   "display_name": "Python 3",
   "language": "python",
   "name": "python3"
  },
  "language_info": {
   "codemirror_mode": {
    "name": "ipython",
    "version": 3
   },
   "file_extension": ".py",
   "mimetype": "text/x-python",
   "name": "python",
   "nbconvert_exporter": "python",
   "pygments_lexer": "ipython3",
   "version": "3.6.5"
  }
 },
 "nbformat": 4,
 "nbformat_minor": 2
}
