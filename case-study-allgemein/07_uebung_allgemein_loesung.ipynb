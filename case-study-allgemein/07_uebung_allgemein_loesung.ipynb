{
 "cells": [
  {
   "cell_type": "markdown",
   "metadata": {},
   "source": [
    "_Lizenz: Das folgende Lehrmaterial kann unter einer [CC-BY-SA 4.0](https://creativecommons.org/licenses/by/4.0/legalcode) Lizenz frei verwendet, verbreitet und modifiziert werden._   \n",
    " _Authoren: Jana Lasser (jana.lasser@ds.mpg.de)_  \n",
    " _Das Lehrmaterial wurde im Zuge des Projektes \"Daten Lesen Lernen\", gefördert vom Stifterverband und der Heinz Nixdorf Stiftung erstellt._"
   ]
  },
  {
   "cell_type": "markdown",
   "metadata": {},
   "source": [
    "# Lösung zu Übung 07 - Allgemein: Hashtags\n",
    "### Praktische Hinweise\n",
    "$\\rightarrow$ Übungen sind dafür gedacht, dass ihr sie euch daheim anseht und versucht, ein paar Aufgaben selbst zu lösen. In den Tutorien könnt ihr euch weiter mit dem Lösungen der Aufgaben beschäftigen und dabei Hilfe von den Tutor*innen bekommen.  \n",
    "\n",
    "$\\rightarrow$ Wenn ein Fehler auftritt:\n",
    "1. Fehlermeldung _lesen_ und _verstehen_\n",
    "2. Versuchen, selbst eine Lösung zu finden ($\\rightarrow$ hier findet das Lernen statt!)\n",
    "3. Das Problem googlen (Stichwort: Stackoverflow) oder den/die Nachbar*in fragen\n",
    "4. Tutor*in fragen\n",
    "\n",
    "$\\rightarrow$ Unter <font color='green'>**HINWEIS**</font> werden Hinweise gegeben, die für die Lösung der Aufgabe hilfreich sind und oftmals auch weiterführende Informationen zur Aufgabe liefern.\n",
    "\n",
    "$\\rightarrow$ Mit **(Optional)** gekennzeichnete Übungsteile sind für besonders schnelle Menschen :-)."
   ]
  },
  {
   "cell_type": "markdown",
   "metadata": {},
   "source": [
    "<a name=\"top\"></a>Inhalt\n",
    "---\n",
    "Im folgenden Tutorial wollen wir etwas mehr über das Twitter-Verhalten der verschiedenen user-Gruppen herausfinden. Wieviele Hashtags und Links benutzen sie? Wie lang sind die Worte, die sie benutzen? \n",
    "Das Tutorial gliedert sich in\n",
    "* [Mittelwert, Median und Standardabweichung](#mittelwert_und_median)\n",
    "* [Hashtags](#hashtags)"
   ]
  },
  {
   "cell_type": "markdown",
   "metadata": {},
   "source": [
    "**WICHTIG**: bevor du mit dem Bearbeiten dieser Übung anfängst, stelle sicher, dass die Datensätze \n",
    "* ```tweets_normal_bereinigt.csv```,\n",
    "* ```tweets_trump_bereinigt.csv``` und\n",
    "* ```tweets_troll_bereinigt.csv```  \n",
    "im Ordner ```data``` liegen. Diese Datensätze werden im Verlauf von Übung 05 erzeugt. "
   ]
  },
  {
   "cell_type": "markdown",
   "metadata": {},
   "source": [
    "<a name=\"mittelwert_und_median\"></a>1. Mittelwert, Median und Standardabweichung\n",
    "---\n",
    "Zur Vorbereitung laden wir wieder die Datensätze, die wir gespeichert haben. "
   ]
  },
  {
   "cell_type": "code",
   "execution_count": 1,
   "metadata": {},
   "outputs": [],
   "source": [
    "import pandas as pd\n",
    "from os.path import join\n",
    "\n",
    "tweets_normal = pd.read_csv(join('data','tweets_normal_bereinigt.csv'), encoding='ISO-8859-1', lineterminator='\\n')\n",
    "tweets_trump = pd.read_csv(join('data','tweets_trump_bereinigt.csv'), encoding='ISO-8859-1', lineterminator='\\n')\n",
    "tweets_troll = pd.read_csv(join('data','tweets_troll_bereinigt.csv'), encoding='ISO-8859-1', lineterminator='\\n')"
   ]
  },
  {
   "cell_type": "markdown",
   "metadata": {},
   "source": [
    "Im folgenden wollen wir ein bisschen Statistik mit unseren Datensätzen treiben. Allerdings haben die drei Datensätze sehr unterschiedlich viele Einträge. Um die Datensätze vergleichbar zu machen, möchten wir als ersten Schritt die Anzahl der Einträge im Troll-Datensatz und im Datensatz mit den normalen Usern auf die Anzahl der Einträge im Trump-Datensatz (der kleinste) begrenzen. Dazu wählen wir zufällig eine Anzahl an Tweets aus indem wir die Funktion ```sample()``` der Bibliothek ```random``` benutzen:"
   ]
  },
  {
   "cell_type": "code",
   "execution_count": 2,
   "metadata": {},
   "outputs": [
    {
     "name": "stdout",
     "output_type": "stream",
     "text": [
      "Anzahl der verbleibenden Tweets normaler User: 32807\n",
      "Anzahl der verbleibenden Tweets der Trolle: 32807\n"
     ]
    }
   ],
   "source": [
    "from random import sample\n",
    "\n",
    "# das ist die Anzahl der Einträge, die wir gerne behalten würden\n",
    "N = len(tweets_trump)\n",
    "# wir wählen N zufällige Einträge aus der Liste der Indices aus und\n",
    "# filtern dann das originale DataFrame danach\n",
    "random_sample_mask = sample(list(tweets_normal.index), N)\n",
    "tweets_normal_subsample = tweets_normal[tweets_normal.index.isin(random_sample_mask)]\n",
    "\n",
    "random_sample_mask = sample(list(tweets_troll.index), N)\n",
    "tweets_troll_subsample = tweets_troll[tweets_troll.index.isin(random_sample_mask)]\n",
    "\n",
    "print('Anzahl der verbleibenden Tweets normaler User: {}'.format(len(tweets_normal_subsample)))\n",
    "print('Anzahl der verbleibenden Tweets der Trolle: {}'.format(len(tweets_troll_subsample)))"
   ]
  },
  {
   "cell_type": "markdown",
   "metadata": {},
   "source": [
    "Außerdem speichern wir noch die beiden so erzeugen kleineren Datensätze:"
   ]
  },
  {
   "cell_type": "code",
   "execution_count": 3,
   "metadata": {},
   "outputs": [],
   "source": [
    "tweets_normal_subsample.to_csv(join('data','tweets_normal_subsample.csv'), line_terminator='\\n')\n",
    "tweets_normal_subsample.to_csv(join('data','tweets_troll_subsample.csv'), line_terminator='\\n')"
   ]
  },
  {
   "cell_type": "markdown",
   "metadata": {},
   "source": [
    "Mit Hilfe von einfachen statistischen Maßen wie Mittelwert und Median lässt sich schnell ein Überblick über die in einem Datensatz enthaltene Information gewinnen:  \n",
    "\n",
    "**A.** Berechne Mittelwert, Median und Standardabweichung der Wortanzahl der Tweets der verschiedenen Datensätze.  "
   ]
  },
  {
   "cell_type": "code",
   "execution_count": 4,
   "metadata": {},
   "outputs": [
    {
     "name": "stdout",
     "output_type": "stream",
     "text": [
      "Die Mittlere Wortanzahl / Tweet für Trump ist 17.01 Worte\n",
      "Die Standardabweichung für Trump ist 6.85 Worte\n",
      "Der Median für Trump ist 18.00 Worte\n",
      "\n",
      "Die Mittlere Wortanzahl / Tweet für Trolle ist 13.65 Worte\n",
      "Die Standardabweichung für Trolle ist 5.63 Worte\n",
      "Der Median für Trolle ist 13.00 Worte\n",
      "\n",
      "Die Mittlere Wortanzahl / Tweet für normale User ist 14.38 Worte\n",
      "Die Standardabweichung für normale User ist 7.06 Worte\n",
      "Der Median für normale User ist 13.00 Worte\n",
      "\n"
     ]
    }
   ],
   "source": [
    "for df, name in zip([tweets_trump, tweets_troll, tweets_normal], ['Trump', 'Trolle', 'normale User']):\n",
    "    print('Die Mittlere Wortanzahl / Tweet für {} ist {:1.2f} Worte'\\\n",
    "          .format(name, df['word_number'].mean()))\n",
    "    print('Die Standardabweichung für {} ist {:1.2f} Worte'\\\n",
    "          .format(name, df['word_number'].std()))\n",
    "    print('Der Median für {} ist {:1.2f} Worte'\\\n",
    "          .format(name, df['word_number'].median()))\n",
    "    print()"
   ]
  },
  {
   "cell_type": "markdown",
   "metadata": {},
   "source": [
    "**B.** Was bedeutet die Standardabweichung in diesem Kontext? Wie interpretierst du die Ergebnisse?  "
   ]
  },
  {
   "cell_type": "markdown",
   "metadata": {},
   "source": [
    "* _Die Standardabweichung ist ein Maß dafür, wie stark sich die einzelnen Tweets voneinander unterscheiden. Ist sie niedrig, haben fast alle Tweets die gleiche Anzahl an Worten. Ist sie hoch, dann gibt es eine große Streuung der Wort-Anzahl der Tweets._\n",
    "* _Trump benutzt deutlich mehr Worte als die Trolle und die normalen User. Seine Tweets sind aber insgesamt im Mittel sogar ein wenig kürzer als die Tweets der Trolle (siehe Aufgabe **2.B.** aus Übung 06). Das spricht dafür, dass Trump gerne kurze Worte benutzt._"
   ]
  },
  {
   "cell_type": "markdown",
   "metadata": {},
   "source": [
    "**C.** Um die Robustheit von Mittelwert und Median zu testen, setze den Wert für die Tweet-Länge in der ersten Zeile des DataFrames der Trump-Tweets auf $10^6$ (eine Million). Wie verhält sich der Mittelwert und wie der Median? Wie die Standardabweichung? <font color='green'>**HINWEIS:** Du solltest für diese Aufgabe eine Kopie des DataFrames (siehe ```df.copy()```-[Funktion](https://pandas.pydata.org/pandas-docs/stable/reference/api/pandas.DataFrame.copy.html) erstellen, da es gute Praxis ist, keine Originaldaten zu manipulieren sondern Kopien zu erstellen, wenn Originaldaten verändert werden sollen. </font>  "
   ]
  },
  {
   "cell_type": "code",
   "execution_count": 5,
   "metadata": {},
   "outputs": [
    {
     "data": {
      "text/html": [
       "<div>\n",
       "<style scoped>\n",
       "    .dataframe tbody tr th:only-of-type {\n",
       "        vertical-align: middle;\n",
       "    }\n",
       "\n",
       "    .dataframe tbody tr th {\n",
       "        vertical-align: top;\n",
       "    }\n",
       "\n",
       "    .dataframe thead th {\n",
       "        text-align: right;\n",
       "    }\n",
       "</style>\n",
       "<table border=\"1\" class=\"dataframe\">\n",
       "  <thead>\n",
       "    <tr style=\"text-align: right;\">\n",
       "      <th></th>\n",
       "      <th>Date</th>\n",
       "      <th>User</th>\n",
       "      <th>Tweet</th>\n",
       "      <th>Length</th>\n",
       "      <th>tweet_length</th>\n",
       "      <th>word_number</th>\n",
       "    </tr>\n",
       "  </thead>\n",
       "  <tbody>\n",
       "    <tr>\n",
       "      <th>0</th>\n",
       "      <td>2009-05-20 22:29:00</td>\n",
       "      <td>realDonaldTrump</td>\n",
       "      <td>Read a great interview with Donald Trump that ...</td>\n",
       "      <td>112</td>\n",
       "      <td>1000000</td>\n",
       "      <td>16</td>\n",
       "    </tr>\n",
       "    <tr>\n",
       "      <th>1</th>\n",
       "      <td>2010-11-29 15:52:00</td>\n",
       "      <td>realDonaldTrump</td>\n",
       "      <td>Congratulations to Evan Lysacek for being nomi...</td>\n",
       "      <td>127</td>\n",
       "      <td>127</td>\n",
       "      <td>23</td>\n",
       "    </tr>\n",
       "    <tr>\n",
       "      <th>2</th>\n",
       "      <td>2010-10-28 18:53:00</td>\n",
       "      <td>realDonaldTrump</td>\n",
       "      <td>I was on The View this morning. We talked abou...</td>\n",
       "      <td>139</td>\n",
       "      <td>139</td>\n",
       "      <td>23</td>\n",
       "    </tr>\n",
       "    <tr>\n",
       "      <th>3</th>\n",
       "      <td>2010-11-24 17:20:00</td>\n",
       "      <td>realDonaldTrump</td>\n",
       "      <td>Tomorrow night's episode of The Apprentice del...</td>\n",
       "      <td>140</td>\n",
       "      <td>140</td>\n",
       "      <td>23</td>\n",
       "    </tr>\n",
       "    <tr>\n",
       "      <th>4</th>\n",
       "      <td>2009-11-16 21:06:00</td>\n",
       "      <td>realDonaldTrump</td>\n",
       "      <td>Donald Trump Partners with TV1 on New Reality ...</td>\n",
       "      <td>116</td>\n",
       "      <td>116</td>\n",
       "      <td>14</td>\n",
       "    </tr>\n",
       "  </tbody>\n",
       "</table>\n",
       "</div>"
      ],
      "text/plain": [
       "                  Date             User  \\\n",
       "0  2009-05-20 22:29:00  realDonaldTrump   \n",
       "1  2010-11-29 15:52:00  realDonaldTrump   \n",
       "2  2010-10-28 18:53:00  realDonaldTrump   \n",
       "3  2010-11-24 17:20:00  realDonaldTrump   \n",
       "4  2009-11-16 21:06:00  realDonaldTrump   \n",
       "\n",
       "                                               Tweet  Length  tweet_length  \\\n",
       "0  Read a great interview with Donald Trump that ...     112       1000000   \n",
       "1  Congratulations to Evan Lysacek for being nomi...     127           127   \n",
       "2  I was on The View this morning. We talked abou...     139           139   \n",
       "3  Tomorrow night's episode of The Apprentice del...     140           140   \n",
       "4  Donald Trump Partners with TV1 on New Reality ...     116           116   \n",
       "\n",
       "   word_number  \n",
       "0           16  \n",
       "1           23  \n",
       "2           23  \n",
       "3           23  \n",
       "4           14  "
      ]
     },
     "execution_count": 5,
     "metadata": {},
     "output_type": "execute_result"
    }
   ],
   "source": [
    "# kopiere das DataFrame\n",
    "tweets_trump_copy = tweets_trump.copy()\n",
    "# setze den Wert auf 1 Million\n",
    "tweets_trump_copy.at[0, 'tweet_length'] = 1000000\n",
    "# überprüfe das DataFrame\n",
    "tweets_trump_copy.head()"
   ]
  },
  {
   "cell_type": "code",
   "execution_count": 6,
   "metadata": {},
   "outputs": [
    {
     "name": "stdout",
     "output_type": "stream",
     "text": [
      "Original\n",
      "Mittelwert: 111.13\n",
      "Median: 123.00\n",
      "\n",
      "Mit Ausreißer\n",
      "Mittelwert: 141.61\n",
      "Median: 123.00\n"
     ]
    }
   ],
   "source": [
    "print('Original')\n",
    "print('Mittelwert: {:1.2f}'.format(tweets_trump['tweet_length'].mean()))\n",
    "print('Median: {:1.2f}'.format(tweets_trump['tweet_length'].median()))\n",
    "\n",
    "print()\n",
    "print('Mit Ausreißer')\n",
    "print('Mittelwert: {:1.2f}'.format(tweets_trump_copy['tweet_length'].mean()))\n",
    "print('Median: {:1.2f}'.format(tweets_trump_copy['tweet_length'].median()))"
   ]
  },
  {
   "cell_type": "markdown",
   "metadata": {},
   "source": [
    "**D. (optional)** Wie kannst du dir mit Hilfe einer Visualisierung schnell Überblick über die Werte in einem Datensatz erhalten und \"Außreißer, wie der den wir in Aufgabe **D.** eingefügt haben identifizieren?"
   ]
  },
  {
   "cell_type": "markdown",
   "metadata": {},
   "source": [
    "* _hier bietet sich ein einfaches Histogram an: wenn einzelne Werte weitab von allen anderen Werten liegen, dann werden alle Werte in einem einzigen Bin gruppiert, während der Ausreißer-Wert weit entfernt in seinem eigenen Bin auftaucht:_"
   ]
  },
  {
   "cell_type": "code",
   "execution_count": 8,
   "metadata": {},
   "outputs": [
    {
     "data": {
      "text/plain": [
       "Text(0,0.5,'Anzahl Zeichen')"
      ]
     },
     "execution_count": 8,
     "metadata": {},
     "output_type": "execute_result"
    },
    {
     "data": {
      "image/png": "[encoded data removed]",
      "text/plain": [
       "<Figure size 432x288 with 1 Axes>"
      ]
     },
     "metadata": {},
     "output_type": "display_data"
    }
   ],
   "source": [
    "import matplotlib.pyplot as plt\n",
    "%matplotlib inline\n",
    "# Histogram\n",
    "plt.hist(tweets_trump_copy['tweet_length'].dropna(), bins=50)\n",
    "# Beschriftungen\n",
    "plt.ylabel('Anzahl Tweets')\n",
    "plt.ylabel('Anzahl Zeichen')"
   ]
  },
  {
   "cell_type": "markdown",
   "metadata": {},
   "source": [
    "<a name=\"Hashtags\"></a>2. Hashtags\n",
    "---\n",
    "Für den folgenden Aufgabenteil schreiben wir uns eine kleine Funktion, die herausfindet, ob ein Wort ein Hashtag ist oder nicht."
   ]
  },
  {
   "cell_type": "code",
   "execution_count": 10,
   "metadata": {},
   "outputs": [],
   "source": [
    "# Definition der Funktion: die Funktion bekommt als Argument\n",
    "# die Variable \"word\" (hoffentlich ein String) übergeben und\n",
    "# überprüft, ob es sich dabei um einen Hashtag handelt. \n",
    "# Entspreichend gibt sie \"True\" oder \"False\" zurück\n",
    "def isHashTag(word):\n",
    "    # ist das Zeichen \"#\" in word enthalten?\n",
    "    if '#' in word:\n",
    "        # wenn ja, gib \"True\" zurück und verlasse\n",
    "        # die Funktion\n",
    "        return True\n",
    "    # wenn nein, gib \"False\" zurück und verlasse \n",
    "    # die Funktion\n",
    "    return False"
   ]
  },
  {
   "cell_type": "markdown",
   "metadata": {},
   "source": [
    "**A.** Versuche zu verstehen, was die Funktion ```isHashTag()``` tut und füge Kommentare, die die Funktion erklären in die obenstehende Code-Zelle, in der die Funktion definiert wird, ein. Teste die Funktionsweise der Funktion anhand einiger Worte (Strings). "
   ]
  },
  {
   "cell_type": "code",
   "execution_count": 11,
   "metadata": {},
   "outputs": [
    {
     "name": "stdout",
     "output_type": "stream",
     "text": [
      "Ist Daten ein Hashtag? False\n",
      "Ist #DaLeLe ein Hashtag? True\n",
      "Ist Telefon# ein Hashtag? True\n"
     ]
    }
   ],
   "source": [
    "wort = \"Daten\"\n",
    "print('Ist {} ein Hashtag? {}'.format(wort, isHashTag(wort)))\n",
    "wort = \"#DaLeLe\"\n",
    "print('Ist {} ein Hashtag? {}'.format(wort, isHashTag(wort)))\n",
    "\n",
    "# hier wird ein Problem unserer Herangehensweise deutlich:\n",
    "# die Funktion isHashTag() erkennt auch Hashtags, wenn sich\n",
    "# das \"#\"-Zeichen mitten im Wort befindet. Das ließe sich mit\n",
    "# etwas Mühe umgehen, wir gehen an dieser Stelle aber erst\n",
    "# einmal davon aus, dass dieses Problem nur in ganz wenigen\n",
    "# Fällen auftritt und deswegen für unsere Analyse nicht von\n",
    "# Bedeutung ist\n",
    "wort = \"Telefon#\"\n",
    "print('Ist {} ein Hashtag? {}'.format(wort, isHashTag(wort)))"
   ]
  },
  {
   "cell_type": "markdown",
   "metadata": {},
   "source": [
    "**B.** Der Datensatz mit den Troll-Tweets enthält auch andere Sprachen als Englisch. Für die folgende Analyse ist es wichtig, dass wir nur die Englischen Tweets betrachten, da andere Sprachen die Ergebnisse verzerren würden. Deswegen: filtere denn Troll-Datensatz so, dass nur die Englischen Tweets übrig bleiben. <font color='green'>**HINWEIS:** Du kannst dafür die in der Spalte ```Language``` enthaltene Information verwenden. </font>."
   ]
  },
  {
   "cell_type": "code",
   "execution_count": 12,
   "metadata": {},
   "outputs": [],
   "source": [
    "# Filter für den Eintrag \"English\" in der Spalte \"Language\"\n",
    "language_mask = tweets_troll['Language'] == 'English'\n",
    "\n",
    "# filtere das DataFrame. Wir überschreiben hier das originale\n",
    "# DataFrame, da wir den Rest (die Tweets in anderen Sprachen)\n",
    "# für die folgende Analyse nicht brauchen\n",
    "tweets_troll = tweets_troll[language_mask]"
   ]
  },
  {
   "cell_type": "markdown",
   "metadata": {},
   "source": [
    "**C.** Für jeden der drei Datensätze: iteriere über alle Tweets, zerteile jeden Tweet in eine Liste von Worten. Finde in dieser Liste die Hashtags. Speichere sowohl die Anzahl der Hashtags pro Tweet als auch die einzelnen Hashtags in einer (separaten) Liste.  Füge die Anzahl der Hashtags als neue Spalte ```number_hashtags``` zu den jeweiligen DataFrames hinzu. Speichere die DataFrames am Ende der Aufgabe ab. <font color='green'>**HINWEIS:** Wenn du eine existierende Liste um eine Teil-Liste erweitern möchtest, kannst du die Funktion ```existierende_liste.extend(teil_liste)``` verwenden. </font>. Für einen einzelnen Tweet funktioniert die oben beschriebene Vorgehensweise wie folgt:"
   ]
  },
  {
   "cell_type": "code",
   "execution_count": 13,
   "metadata": {},
   "outputs": [
    {
     "name": "stdout",
     "output_type": "stream",
     "text": [
      "['#JobOpportunity:', '#Forschung', '#Entwickung', '#Paulinerkirche']\n",
      "number of hashtags: 4\n"
     ]
    }
   ],
   "source": [
    "sample_tweet = '#JobOpportunity: als Studi bei uns an der @subugoe in der Abt. #Forschung & #Entwickung in der #Paulinerkirche mitarbeiten. Reguläres HiWi-Entgelt.  Aufgaben von Büro bis Veranstaltungen. Alle Deine Skills sind interessant für uns; außer Kaffeekochen, das macht die Maschine'\n",
    "words = sample_tweet.split(' ')\n",
    "hashtags = [word for word in words if isHashTag(word)]\n",
    "number_hashtags = len(hashtags)\n",
    "print(hashtags)\n",
    "print('number of hashtags: {}'.format(number_hashtags))"
   ]
  },
  {
   "cell_type": "code",
   "execution_count": 14,
   "metadata": {},
   "outputs": [],
   "source": [
    "# alle von Trump benutzten Hashtags\n",
    "\n",
    "# Liste, um die Anzahl der Hashtags / Tweet zu speichern\n",
    "hashtag_number_trump = []\n",
    "# Liste, um alle vorkommenden Hashtags zu speichern\n",
    "hashtags_trump = []\n",
    "\n",
    "# iteriere über alle Tweets\n",
    "for tweet in tweets_trump['Tweet']:\n",
    "    # zerteile den Tweet entlang der Leerzeichen in Worte\n",
    "    words = tweet.split(' ')\n",
    "    # erstelle eine Liste der Hashtags aus der Liste der Worte\n",
    "    hashtags = [word for word in words if isHashTag(word)]\n",
    "    # hänge die Liste mit Hashtags an die globale Liste an\n",
    "    hashtags_trump.extend(hashtags)\n",
    "    # zähle die Anzahl der Hashtags im Tweet und füge die \n",
    "    # Zahl der Liste hinzu\n",
    "    hashtag_number_trump.append(len(hashtags))\n",
    "\n",
    "# füge die Anzahl der Hashtags / Tweet als neue Spalte\n",
    "# zum DataFrame hinzu\n",
    "tweets_trump['hashtag_number'] = hashtag_number_trump"
   ]
  },
  {
   "cell_type": "code",
   "execution_count": 15,
   "metadata": {},
   "outputs": [
    {
     "data": {
      "text/plain": [
       "['#EvanForSI',\n",
       " '#TimeToGetTough',\n",
       " 'everyone.\"\\n#TimeToGetTough',\n",
       " '#TimeToGetTough',\n",
       " '#noratings']"
      ]
     },
     "execution_count": 15,
     "metadata": {},
     "output_type": "execute_result"
    }
   ],
   "source": [
    "hashtags_trump[0:5]"
   ]
  },
  {
   "cell_type": "code",
   "execution_count": 16,
   "metadata": {},
   "outputs": [],
   "source": [
    "# alle von den Trollen benutzten Hashtags\n",
    "hashtag_number_troll = []\n",
    "hashtags_troll = []\n",
    "\n",
    "for tweet in tweets_troll['Tweet']:\n",
    "    words = tweet.split(' ')\n",
    "    hashtags = [word for word in words if isHashTag(word)]\n",
    "    hashtag_number_troll.append(len(hashtags))\n",
    "    hashtags_troll.extend(hashtags)\n",
    "    \n",
    "tweets_troll['hashtag_number'] = hashtag_number_troll"
   ]
  },
  {
   "cell_type": "code",
   "execution_count": 17,
   "metadata": {},
   "outputs": [
    {
     "data": {
      "text/plain": [
       "['#BoycottNFL',\n",
       " '#StandForOurAnthemð\\x9f\\x87ºð\\x9f\\x87¸',\n",
       " '#HipHopAwards',\n",
       " '#Iran',\n",
       " '#MAGA']"
      ]
     },
     "execution_count": 17,
     "metadata": {},
     "output_type": "execute_result"
    }
   ],
   "source": [
    "hashtags_troll[0:5]"
   ]
  },
  {
   "cell_type": "code",
   "execution_count": 18,
   "metadata": {},
   "outputs": [],
   "source": [
    "# alle von den normalen Usern benutzten Hashtags\n",
    "hashtag_number_normal = []\n",
    "hashtags_normal = []\n",
    "\n",
    "for tweet in tweets_normal['Tweet']:\n",
    "    words = tweet.split(' ')\n",
    "    hashtags = [word for word in words if isHashTag(word)]\n",
    "    hashtag_number_normal.append(len(hashtags))\n",
    "    hashtags_normal.extend(hashtags)\n",
    "    \n",
    "tweets_normal['hashtag_number'] = hashtag_number_normal"
   ]
  },
  {
   "cell_type": "code",
   "execution_count": 19,
   "metadata": {},
   "outputs": [
    {
     "data": {
      "text/plain": [
       "['#itm', '#therapyfail', '#fb', '#TTSC?', '#24']"
      ]
     },
     "execution_count": 19,
     "metadata": {},
     "output_type": "execute_result"
    }
   ],
   "source": [
    "hashtags_normal[0:5]"
   ]
  },
  {
   "cell_type": "code",
   "execution_count": 21,
   "metadata": {},
   "outputs": [],
   "source": [
    "tweets_normal.to_csv(join('data', 'tweets_normal_bearbeitet.csv'), line_terminator='\\n')\n",
    "tweets_troll.to_csv(join('data', 'tweets_troll_bearbeitet.csv'), line_terminator='\\n')\n",
    "tweets_trump.to_csv(join('data', 'tweets_trump_bearbeitet.csv'), line_terminator='\\n')"
   ]
  },
  {
   "cell_type": "markdown",
   "metadata": {},
   "source": [
    "**D.** Was ist die mittlere Anzahl an verwendeten Hashtags pro Tweet für die drei Datensätze? Was die Standardabweichung? Unterscheiden sich die drei User (Gruppen) stark? Kannst du dir das erklären?"
   ]
  },
  {
   "cell_type": "code",
   "execution_count": 22,
   "metadata": {},
   "outputs": [
    {
     "name": "stdout",
     "output_type": "stream",
     "text": [
      "Die mittlere Anzahl Hashtags / Tweet für Trump ist 0.21, die Standardabweichung ist 0.55\n",
      "Die mittlere Anzahl Hashtags / Tweet für Trolle ist 0.79, die Standardabweichung ist 1.17\n",
      "Die mittlere Anzahl Hashtags / Tweet für normale User ist 0.03, die Standardabweichung ist 0.22\n"
     ]
    }
   ],
   "source": [
    "for df, name in zip([tweets_trump, tweets_troll, tweets_normal], ['Trump', 'Trolle', 'normale User']):\n",
    "    print('Die mittlere Anzahl Hashtags / Tweet für {} ist {:1.2f}, die Standardabweichung ist {:1.2f}'\\\n",
    "          .format(name, df['hashtag_number'].mean(), df['hashtag_number'].std()))"
   ]
  },
  {
   "cell_type": "markdown",
   "metadata": {},
   "source": [
    "* _Bei weitem die meisten Hashtags benutzen mit fast einem Hashtag / Tweet die Trolle._\n",
    "* _Trump benutzt regelmäßig Hashtags aber nicht besonders viele. Die normalen User benutzten fast keine Hashtags._\n",
    "* _Die Nutzung von Hashtags könnte dafür sprechen, dass die jeweiligen Nutzer gezielt von der Funktion von Twitter Gebrauch machen möchten, Tweets zu einem bestimmten Thema über die Hashtags sichtbar zu machen. Wenn man als Ziel der Trolle (und Trump) annimmt, Aufmerksamkeit zu erregen, ergibt dieses Verhalten Sinn._\n",
    "* _Umgekehrt sind die normalen Nutzer anscheinend nicht an dieser Funktionalität interessiert, oder sie wissen einfach nicht flächendeckend davon._"
   ]
  },
  {
   "cell_type": "markdown",
   "metadata": {},
   "source": [
    "**E.** Erstelle für jeden der drei Datensätze ein neues DataFrame, das die Hashtags und ihre Länge (Zeichenanzahl) enthält. Spreichere die DataFrames lokal ab."
   ]
  },
  {
   "cell_type": "code",
   "execution_count": 23,
   "metadata": {},
   "outputs": [
    {
     "data": {
      "text/html": [
       "<div>\n",
       "<style scoped>\n",
       "    .dataframe tbody tr th:only-of-type {\n",
       "        vertical-align: middle;\n",
       "    }\n",
       "\n",
       "    .dataframe tbody tr th {\n",
       "        vertical-align: top;\n",
       "    }\n",
       "\n",
       "    .dataframe thead th {\n",
       "        text-align: right;\n",
       "    }\n",
       "</style>\n",
       "<table border=\"1\" class=\"dataframe\">\n",
       "  <thead>\n",
       "    <tr style=\"text-align: right;\">\n",
       "      <th></th>\n",
       "      <th>tag</th>\n",
       "      <th>length</th>\n",
       "    </tr>\n",
       "  </thead>\n",
       "  <tbody>\n",
       "    <tr>\n",
       "      <th>0</th>\n",
       "      <td>#EvanForSI</td>\n",
       "      <td>10</td>\n",
       "    </tr>\n",
       "    <tr>\n",
       "      <th>1</th>\n",
       "      <td>#TimeToGetTough</td>\n",
       "      <td>15</td>\n",
       "    </tr>\n",
       "    <tr>\n",
       "      <th>2</th>\n",
       "      <td>everyone.\"\\n#TimeToGetTough</td>\n",
       "      <td>26</td>\n",
       "    </tr>\n",
       "    <tr>\n",
       "      <th>3</th>\n",
       "      <td>#TimeToGetTough</td>\n",
       "      <td>15</td>\n",
       "    </tr>\n",
       "    <tr>\n",
       "      <th>4</th>\n",
       "      <td>#noratings</td>\n",
       "      <td>10</td>\n",
       "    </tr>\n",
       "  </tbody>\n",
       "</table>\n",
       "</div>"
      ],
      "text/plain": [
       "                           tag  length\n",
       "0                   #EvanForSI      10\n",
       "1              #TimeToGetTough      15\n",
       "2  everyone.\"\\n#TimeToGetTough      26\n",
       "3              #TimeToGetTough      15\n",
       "4                   #noratings      10"
      ]
     },
     "execution_count": 23,
     "metadata": {},
     "output_type": "execute_result"
    }
   ],
   "source": [
    "# Trump\n",
    "hashtags_trump_df = pd.DataFrame({'tag':hashtags_trump,\\\n",
    "                               'length':[len(tag) for tag in hashtags_trump]})\n",
    "hashtags_trump_df.head()"
   ]
  },
  {
   "cell_type": "code",
   "execution_count": 24,
   "metadata": {},
   "outputs": [
    {
     "data": {
      "text/html": [
       "<div>\n",
       "<style scoped>\n",
       "    .dataframe tbody tr th:only-of-type {\n",
       "        vertical-align: middle;\n",
       "    }\n",
       "\n",
       "    .dataframe tbody tr th {\n",
       "        vertical-align: top;\n",
       "    }\n",
       "\n",
       "    .dataframe thead th {\n",
       "        text-align: right;\n",
       "    }\n",
       "</style>\n",
       "<table border=\"1\" class=\"dataframe\">\n",
       "  <thead>\n",
       "    <tr style=\"text-align: right;\">\n",
       "      <th></th>\n",
       "      <th>tag</th>\n",
       "      <th>length</th>\n",
       "    </tr>\n",
       "  </thead>\n",
       "  <tbody>\n",
       "    <tr>\n",
       "      <th>0</th>\n",
       "      <td>#BoycottNFL</td>\n",
       "      <td>11</td>\n",
       "    </tr>\n",
       "    <tr>\n",
       "      <th>1</th>\n",
       "      <td>#StandForOurAnthemðºð¸</td>\n",
       "      <td>26</td>\n",
       "    </tr>\n",
       "    <tr>\n",
       "      <th>2</th>\n",
       "      <td>#HipHopAwards</td>\n",
       "      <td>13</td>\n",
       "    </tr>\n",
       "    <tr>\n",
       "      <th>3</th>\n",
       "      <td>#Iran</td>\n",
       "      <td>5</td>\n",
       "    </tr>\n",
       "    <tr>\n",
       "      <th>4</th>\n",
       "      <td>#MAGA</td>\n",
       "      <td>5</td>\n",
       "    </tr>\n",
       "  </tbody>\n",
       "</table>\n",
       "</div>"
      ],
      "text/plain": [
       "                          tag  length\n",
       "0                 #BoycottNFL      11\n",
       "1  #StandForOurAnthemðºð¸      26\n",
       "2               #HipHopAwards      13\n",
       "3                       #Iran       5\n",
       "4                       #MAGA       5"
      ]
     },
     "execution_count": 24,
     "metadata": {},
     "output_type": "execute_result"
    }
   ],
   "source": [
    "# Trolle\n",
    "hashtags_troll_df = pd.DataFrame({'tag':hashtags_troll,\\\n",
    "                               'length':[len(tag) for tag in hashtags_troll]})\n",
    "hashtags_troll_df.head()"
   ]
  },
  {
   "cell_type": "code",
   "execution_count": 25,
   "metadata": {},
   "outputs": [
    {
     "data": {
      "text/html": [
       "<div>\n",
       "<style scoped>\n",
       "    .dataframe tbody tr th:only-of-type {\n",
       "        vertical-align: middle;\n",
       "    }\n",
       "\n",
       "    .dataframe tbody tr th {\n",
       "        vertical-align: top;\n",
       "    }\n",
       "\n",
       "    .dataframe thead th {\n",
       "        text-align: right;\n",
       "    }\n",
       "</style>\n",
       "<table border=\"1\" class=\"dataframe\">\n",
       "  <thead>\n",
       "    <tr style=\"text-align: right;\">\n",
       "      <th></th>\n",
       "      <th>tag</th>\n",
       "      <th>length</th>\n",
       "    </tr>\n",
       "  </thead>\n",
       "  <tbody>\n",
       "    <tr>\n",
       "      <th>0</th>\n",
       "      <td>#itm</td>\n",
       "      <td>4</td>\n",
       "    </tr>\n",
       "    <tr>\n",
       "      <th>1</th>\n",
       "      <td>#therapyfail</td>\n",
       "      <td>12</td>\n",
       "    </tr>\n",
       "    <tr>\n",
       "      <th>2</th>\n",
       "      <td>#fb</td>\n",
       "      <td>3</td>\n",
       "    </tr>\n",
       "    <tr>\n",
       "      <th>3</th>\n",
       "      <td>#TTSC?</td>\n",
       "      <td>6</td>\n",
       "    </tr>\n",
       "    <tr>\n",
       "      <th>4</th>\n",
       "      <td>#24</td>\n",
       "      <td>3</td>\n",
       "    </tr>\n",
       "  </tbody>\n",
       "</table>\n",
       "</div>"
      ],
      "text/plain": [
       "            tag  length\n",
       "0          #itm       4\n",
       "1  #therapyfail      12\n",
       "2           #fb       3\n",
       "3        #TTSC?       6\n",
       "4           #24       3"
      ]
     },
     "execution_count": 25,
     "metadata": {},
     "output_type": "execute_result"
    }
   ],
   "source": [
    "# normale User\n",
    "hashtags_normal_df = pd.DataFrame({'tag':hashtags_normal,\\\n",
    "                               'length':[len(tag) for tag in hashtags_normal]})\n",
    "hashtags_normal_df.head()"
   ]
  },
  {
   "cell_type": "code",
   "execution_count": 28,
   "metadata": {},
   "outputs": [],
   "source": [
    "# speichern der DataFrames\n",
    "hashtags_trump_df.to_csv(join('data','hashtags_trump.csv'))\n",
    "hashtags_troll_df.to_csv(join('data','hashtags_troll.csv'))\n",
    "hashtags_normal_df.to_csv(join('data','hashtags_normal.csv'))"
   ]
  },
  {
   "cell_type": "markdown",
   "metadata": {},
   "source": [
    "**F.** Wieviele verschiedene Hashtags benutzen Trump, die Trolle und die normalen User jeweils? <font color='green'>**HINWEIS:** Die Funktion ```df['spalte'].unique()``` hilft hier!</font>"
   ]
  },
  {
   "cell_type": "code",
   "execution_count": 29,
   "metadata": {},
   "outputs": [
    {
     "name": "stdout",
     "output_type": "stream",
     "text": [
      "Trump: Anzahl einzigartiger Hashtags 3018\n",
      "Trolle: Anzahl einzigartiger Hashtags 29213\n",
      "Normale User: Anzahl einzigartiger Hashtags 16060\n"
     ]
    }
   ],
   "source": [
    "N_trump = len(hashtags_trump_df['tag'].unique())\n",
    "print('Trump: Anzahl einzigartiger Hashtags {}'.format(N_trump))\n",
    "\n",
    "N_troll = len(hashtags_troll_df['tag'].unique())\n",
    "print('Trolle: Anzahl einzigartiger Hashtags {}'.format(N_troll))\n",
    "\n",
    "N_normal = len(hashtags_normal_df['tag'].unique())\n",
    "print('Normale User: Anzahl einzigartiger Hashtags {}'.format(N_normal))"
   ]
  },
  {
   "cell_type": "markdown",
   "metadata": {},
   "source": [
    "* _Da wir nur Untermengen des Troll-Datensatzes und des Datensatzes der normalen User verwenden, die wir so gewählt haben, dass sie genauso viele Tweets enthalten wie der Trump-Datensatz, ist es hier tatsächlich zulässig, absolute Zahlen miteinander zu vergleichen._"
   ]
  },
  {
   "cell_type": "markdown",
   "metadata": {},
   "source": [
    "**G. (optional)** Visualisiere die Verteilung der Hashtag-Längen der drei Datensätze in einem Histogramm. Unterscheiden sie sich? Lass dir alle Hashtags mit einer Länge größer 30 Zeichen aus dem Trump-Datensatz anzeigen."
   ]
  },
  {
   "cell_type": "code",
   "execution_count": 30,
   "metadata": {},
   "outputs": [
    {
     "data": {
      "text/plain": [
       "<matplotlib.legend.Legend at 0x7f5d80f84b00>"
      ]
     },
     "execution_count": 30,
     "metadata": {},
     "output_type": "execute_result"
    },
    {
     "data": {
      "image/png": "[encoded data removed]",
      "text/plain": [
       "<Figure size 432x288 with 1 Axes>"
      ]
     },
     "metadata": {},
     "output_type": "display_data"
    }
   ],
   "source": [
    "# Histogramm mit drei Datensätzen\n",
    "plt.hist([hashtags_trump_df['length'], hashtags_troll_df['length'], hashtags_normal_df['length']],\\\n",
    "         rwidth=0.8, bins=20, range=[1,40], density=True,\\\n",
    "         label=['trump','troll','normal'])\n",
    "\n",
    "# Beschriftungen\n",
    "plt.xlabel('Hashtag Länge / Zeichen')\n",
    "plt.ylabel('Anzahl Hashtags')\n",
    "plt.legend()"
   ]
  },
  {
   "cell_type": "code",
   "execution_count": 31,
   "metadata": {},
   "outputs": [
    {
     "name": "stdout",
     "output_type": "stream",
     "text": [
      "suspekte Einträge: 292\n"
     ]
    },
    {
     "data": {
      "text/html": [
       "<div>\n",
       "<style scoped>\n",
       "    .dataframe tbody tr th:only-of-type {\n",
       "        vertical-align: middle;\n",
       "    }\n",
       "\n",
       "    .dataframe tbody tr th {\n",
       "        vertical-align: top;\n",
       "    }\n",
       "\n",
       "    .dataframe thead th {\n",
       "        text-align: right;\n",
       "    }\n",
       "</style>\n",
       "<table border=\"1\" class=\"dataframe\">\n",
       "  <thead>\n",
       "    <tr style=\"text-align: right;\">\n",
       "      <th></th>\n",
       "      <th>tag</th>\n",
       "      <th>length</th>\n",
       "    </tr>\n",
       "  </thead>\n",
       "  <tbody>\n",
       "    <tr>\n",
       "      <th>365</th>\n",
       "      <td>#TimeToGetTough\\nhttp://t.co/Yy6GNcx3</td>\n",
       "      <td>36</td>\n",
       "    </tr>\n",
       "    <tr>\n",
       "      <th>1071</th>\n",
       "      <td>â¤ï¸ðð#TrumpWinfree2016\"</td>\n",
       "      <td>32</td>\n",
       "    </tr>\n",
       "    <tr>\n",
       "      <th>1165</th>\n",
       "      <td>longer....#celebrityapprentice\"</td>\n",
       "      <td>31</td>\n",
       "    </tr>\n",
       "    <tr>\n",
       "      <th>1595</th>\n",
       "      <td>#trumpinternationaltowerlasvegas\"</td>\n",
       "      <td>33</td>\n",
       "    </tr>\n",
       "    <tr>\n",
       "      <th>2078</th>\n",
       "      <td>Hampshire!\\n#MakeAmericaGreatAgain</td>\n",
       "      <td>33</td>\n",
       "    </tr>\n",
       "    <tr>\n",
       "      <th>2079</th>\n",
       "      <td>#Trump2016\\nhttps://t.co/VlGF418r2x</td>\n",
       "      <td>34</td>\n",
       "    </tr>\n",
       "    <tr>\n",
       "      <th>2082</th>\n",
       "      <td>Holidays!\\n#MakeAmericaGreatAgain</td>\n",
       "      <td>32</td>\n",
       "    </tr>\n",
       "    <tr>\n",
       "      <th>2083</th>\n",
       "      <td>#Trump2016\\nhttps://t.co/XIVw5LdTqv</td>\n",
       "      <td>34</td>\n",
       "    </tr>\n",
       "    <tr>\n",
       "      <th>2095</th>\n",
       "      <td>Michigan!\\n#MakeAmericaGreatAgain</td>\n",
       "      <td>32</td>\n",
       "    </tr>\n",
       "    <tr>\n",
       "      <th>2101</th>\n",
       "      <td>#Trump2016\\nhttps://t.co/CE9f0mukFm</td>\n",
       "      <td>34</td>\n",
       "    </tr>\n",
       "    <tr>\n",
       "      <th>2107</th>\n",
       "      <td>#Trump2016\\nhttps://t.co/czHzN0QkQN</td>\n",
       "      <td>34</td>\n",
       "    </tr>\n",
       "    <tr>\n",
       "      <th>2143</th>\n",
       "      <td>#Trump2016\\nhttps://t.co/PUGaxGCASM</td>\n",
       "      <td>34</td>\n",
       "    </tr>\n",
       "    <tr>\n",
       "      <th>2144</th>\n",
       "      <td>#TheRemembranceProject\\nhttps://t.co/zMW0mkkFEg</td>\n",
       "      <td>46</td>\n",
       "    </tr>\n",
       "    <tr>\n",
       "      <th>2162</th>\n",
       "      <td>#GOPDebate\\nhttps://t.co/OhI1qXEOzC</td>\n",
       "      <td>34</td>\n",
       "    </tr>\n",
       "    <tr>\n",
       "      <th>2166</th>\n",
       "      <td>#Trump2016\\nhttps://t.co/yohiKUsL3V</td>\n",
       "      <td>34</td>\n",
       "    </tr>\n",
       "    <tr>\n",
       "      <th>2170</th>\n",
       "      <td>#Trump2016\\nhttps://t.co/yjAIiFuVWm</td>\n",
       "      <td>34</td>\n",
       "    </tr>\n",
       "    <tr>\n",
       "      <th>2175</th>\n",
       "      <td>#Trump2016\\nhttps://t.co/0DA5isXMRz</td>\n",
       "      <td>34</td>\n",
       "    </tr>\n",
       "    <tr>\n",
       "      <th>2179</th>\n",
       "      <td>#Trump2016\\nhttps://t.co/vqrkZwc2ae</td>\n",
       "      <td>34</td>\n",
       "    </tr>\n",
       "    <tr>\n",
       "      <th>2190</th>\n",
       "      <td>https://t.co/ZDDDawwYVl\\n#MakeAmericaGreatAgain</td>\n",
       "      <td>46</td>\n",
       "    </tr>\n",
       "    <tr>\n",
       "      <th>2197</th>\n",
       "      <td>#Trump2016\\nhttps://t.co/UB7Fx7A835</td>\n",
       "      <td>34</td>\n",
       "    </tr>\n",
       "    <tr>\n",
       "      <th>2203</th>\n",
       "      <td>#MakeAmericaGreatAgain!#Trump2016</td>\n",
       "      <td>33</td>\n",
       "    </tr>\n",
       "    <tr>\n",
       "      <th>2213</th>\n",
       "      <td>#Trump2016\\n#MakeAmericaGreatAgain</td>\n",
       "      <td>33</td>\n",
       "    </tr>\n",
       "    <tr>\n",
       "      <th>2242</th>\n",
       "      <td>#Trump2016\\nhttps://t.co/9BxQGTb5m2</td>\n",
       "      <td>34</td>\n",
       "    </tr>\n",
       "    <tr>\n",
       "      <th>2268</th>\n",
       "      <td>#Trump2016\\nhttps://t.co/AtuacgxOW1</td>\n",
       "      <td>34</td>\n",
       "    </tr>\n",
       "    <tr>\n",
       "      <th>2277</th>\n",
       "      <td>pollsters.\\n#MakeAmericaGreatAgain</td>\n",
       "      <td>33</td>\n",
       "    </tr>\n",
       "    <tr>\n",
       "      <th>2294</th>\n",
       "      <td>support!\\n#MakeAmericaGreatAgain</td>\n",
       "      <td>31</td>\n",
       "    </tr>\n",
       "    <tr>\n",
       "      <th>2354</th>\n",
       "      <td>#MakeAmericaGreatAgain\\nhttps://t.co/TWslpJPQG0</td>\n",
       "      <td>46</td>\n",
       "    </tr>\n",
       "    <tr>\n",
       "      <th>2360</th>\n",
       "      <td>Massachusetts!#MakeAmericaGreatAgain</td>\n",
       "      <td>36</td>\n",
       "    </tr>\n",
       "    <tr>\n",
       "      <th>2373</th>\n",
       "      <td>#MakeAmericaGreatAgain\\nhttps://t.co/FlJutjpR35</td>\n",
       "      <td>46</td>\n",
       "    </tr>\n",
       "    <tr>\n",
       "      <th>2597</th>\n",
       "      <td>#Trump2016\\nhttp://t.co/fnRIXJWCVf</td>\n",
       "      <td>33</td>\n",
       "    </tr>\n",
       "    <tr>\n",
       "      <th>...</th>\n",
       "      <td>...</td>\n",
       "      <td>...</td>\n",
       "    </tr>\n",
       "    <tr>\n",
       "      <th>6560</th>\n",
       "      <td>#AmericaFirstðºð¸#UNGA\\nFull</td>\n",
       "      <td>31</td>\n",
       "    </tr>\n",
       "    <tr>\n",
       "      <th>6651</th>\n",
       "      <td>Virginia!\\n#MakeAmericaGreatAgainðºð¸\\nTic...</td>\n",
       "      <td>49</td>\n",
       "    </tr>\n",
       "    <tr>\n",
       "      <th>6652</th>\n",
       "      <td>Melania!\\n#MakeAmericaGreatAgainðºð¸\\nð¥...</td>\n",
       "      <td>67</td>\n",
       "    </tr>\n",
       "    <tr>\n",
       "      <th>6671</th>\n",
       "      <td>#MadeInAmericaðºð¸\\nð¸https://t.co/39dwl...</td>\n",
       "      <td>50</td>\n",
       "    </tr>\n",
       "    <tr>\n",
       "      <th>6691</th>\n",
       "      <td>Poland!ðºð¸ðµð±\\n#ICYMI,</td>\n",
       "      <td>31</td>\n",
       "    </tr>\n",
       "    <tr>\n",
       "      <th>6697</th>\n",
       "      <td>\\n#UnleashingAmericanEnergy\\nhttps://t.co/hlM7...</td>\n",
       "      <td>50</td>\n",
       "    </tr>\n",
       "    <tr>\n",
       "      <th>6702</th>\n",
       "      <td>#KatesLaw\\n#NoSanctuaryForCriminalsAct\\nStatem...</td>\n",
       "      <td>48</td>\n",
       "    </tr>\n",
       "    <tr>\n",
       "      <th>6709</th>\n",
       "      <td>bills:\\nâï¸#NoSanctuaryForCriminalsAct</td>\n",
       "      <td>40</td>\n",
       "    </tr>\n",
       "    <tr>\n",
       "      <th>6711</th>\n",
       "      <td>AGAIN!\\n\\n#NoSanctuaryForCriminalsAct</td>\n",
       "      <td>35</td>\n",
       "    </tr>\n",
       "    <tr>\n",
       "      <th>6741</th>\n",
       "      <td>#CongressionalBaseballGameâ¾ï¸</td>\n",
       "      <td>32</td>\n",
       "    </tr>\n",
       "    <tr>\n",
       "      <th>6746</th>\n",
       "      <td>https://t.co/syJUGoMhHJ\\n#NationalChampionsð</td>\n",
       "      <td>46</td>\n",
       "    </tr>\n",
       "    <tr>\n",
       "      <th>6754</th>\n",
       "      <td>#AmericaFirstðºð¸\\nâ¡ï¸https://t.co/9VOb...</td>\n",
       "      <td>51</td>\n",
       "    </tr>\n",
       "    <tr>\n",
       "      <th>6768</th>\n",
       "      <td>#MakeAmericaGreatAgainðºð¸\\nhttps://t.co/e...</td>\n",
       "      <td>54</td>\n",
       "    </tr>\n",
       "    <tr>\n",
       "      <th>6772</th>\n",
       "      <td>#InfrastructureWeek\\nhttps://t.co/7JBYklQeHE</td>\n",
       "      <td>43</td>\n",
       "    </tr>\n",
       "    <tr>\n",
       "      <th>6774</th>\n",
       "      <td>#PoliceWeek\"\\nProclamationâ¡ï¸https://t.co/o...</td>\n",
       "      <td>65</td>\n",
       "    </tr>\n",
       "    <tr>\n",
       "      <th>6780</th>\n",
       "      <td>#WeeklyAddressðºð¸\\nâ¡ï¸https://t.co/uT4...</td>\n",
       "      <td>52</td>\n",
       "    </tr>\n",
       "    <tr>\n",
       "      <th>6783</th>\n",
       "      <td>#WeeklyAddressðºð¸\\nâ¡ï¸https://t.co/UYE...</td>\n",
       "      <td>52</td>\n",
       "    </tr>\n",
       "    <tr>\n",
       "      <th>6803</th>\n",
       "      <td>â¡ï¸https://t.co/VtmlSqciXx\\n\\n#RiyadhSummit</td>\n",
       "      <td>44</td>\n",
       "    </tr>\n",
       "    <tr>\n",
       "      <th>6831</th>\n",
       "      <td>#BuyAmericanHireAmericanðºð¸</td>\n",
       "      <td>32</td>\n",
       "    </tr>\n",
       "    <tr>\n",
       "      <th>6841</th>\n",
       "      <td>#MakeAmericaGreatAgainðºð¸\\nhttps://t.co/n...</td>\n",
       "      <td>54</td>\n",
       "    </tr>\n",
       "    <tr>\n",
       "      <th>6846</th>\n",
       "      <td>#BuyAmericanHireAmericanðºð¸\\nWatchâ¡ï¸h...</td>\n",
       "      <td>67</td>\n",
       "    </tr>\n",
       "    <tr>\n",
       "      <th>6851</th>\n",
       "      <td>@Raul_Labrador?\\n#RepealANDReplace</td>\n",
       "      <td>33</td>\n",
       "    </tr>\n",
       "    <tr>\n",
       "      <th>6854</th>\n",
       "      <td>#CEOTownHall\\nâ¡ï¸https://t.co/ADSKuUXf1b</td>\n",
       "      <td>42</td>\n",
       "    </tr>\n",
       "    <tr>\n",
       "      <th>6861</th>\n",
       "      <td>#MAGAðºð¸https://t.co/USjroMigmr</td>\n",
       "      <td>36</td>\n",
       "    </tr>\n",
       "    <tr>\n",
       "      <th>6871</th>\n",
       "      <td>#MAGAðºð¸\\nâ¡ï¸https://t.co/YSaPJnSX2i</td>\n",
       "      <td>43</td>\n",
       "    </tr>\n",
       "    <tr>\n",
       "      <th>6875</th>\n",
       "      <td>https://t.co/lZlPPGIkzH\\n#RepealAndReplace</td>\n",
       "      <td>41</td>\n",
       "    </tr>\n",
       "    <tr>\n",
       "      <th>6879</th>\n",
       "      <td>#MAGAðºð¸\\nhttps://t.co/RDO6Jt2pip</td>\n",
       "      <td>37</td>\n",
       "    </tr>\n",
       "    <tr>\n",
       "      <th>6883</th>\n",
       "      <td>Sara!\\n#ICYMIðºð¸ð®ð±Joint</td>\n",
       "      <td>33</td>\n",
       "    </tr>\n",
       "    <tr>\n",
       "      <th>6906</th>\n",
       "      <td>\\n#LawEnforcementAppreciationDay</td>\n",
       "      <td>31</td>\n",
       "    </tr>\n",
       "    <tr>\n",
       "      <th>6923</th>\n",
       "      <td>grateful!\\n#LawEnforcementAppreciationDay\\nPre...</td>\n",
       "      <td>50</td>\n",
       "    </tr>\n",
       "  </tbody>\n",
       "</table>\n",
       "<p>292 rows × 2 columns</p>\n",
       "</div>"
      ],
      "text/plain": [
       "                                                    tag  length\n",
       "365               #TimeToGetTough\\nhttp://t.co/Yy6GNcx3      36\n",
       "1071                   â¤ï¸ðð#TrumpWinfree2016\"      32\n",
       "1165                    longer....#celebrityapprentice\"      31\n",
       "1595                  #trumpinternationaltowerlasvegas\"      33\n",
       "2078                 Hampshire!\\n#MakeAmericaGreatAgain      33\n",
       "2079                #Trump2016\\nhttps://t.co/VlGF418r2x      34\n",
       "2082                  Holidays!\\n#MakeAmericaGreatAgain      32\n",
       "2083                #Trump2016\\nhttps://t.co/XIVw5LdTqv      34\n",
       "2095                  Michigan!\\n#MakeAmericaGreatAgain      32\n",
       "2101                #Trump2016\\nhttps://t.co/CE9f0mukFm      34\n",
       "2107                #Trump2016\\nhttps://t.co/czHzN0QkQN      34\n",
       "2143                #Trump2016\\nhttps://t.co/PUGaxGCASM      34\n",
       "2144    #TheRemembranceProject\\nhttps://t.co/zMW0mkkFEg      46\n",
       "2162                #GOPDebate\\nhttps://t.co/OhI1qXEOzC      34\n",
       "2166                #Trump2016\\nhttps://t.co/yohiKUsL3V      34\n",
       "2170                #Trump2016\\nhttps://t.co/yjAIiFuVWm      34\n",
       "2175                #Trump2016\\nhttps://t.co/0DA5isXMRz      34\n",
       "2179                #Trump2016\\nhttps://t.co/vqrkZwc2ae      34\n",
       "2190    https://t.co/ZDDDawwYVl\\n#MakeAmericaGreatAgain      46\n",
       "2197                #Trump2016\\nhttps://t.co/UB7Fx7A835      34\n",
       "2203                  #MakeAmericaGreatAgain!#Trump2016      33\n",
       "2213                 #Trump2016\\n#MakeAmericaGreatAgain      33\n",
       "2242                #Trump2016\\nhttps://t.co/9BxQGTb5m2      34\n",
       "2268                #Trump2016\\nhttps://t.co/AtuacgxOW1      34\n",
       "2277                 pollsters.\\n#MakeAmericaGreatAgain      33\n",
       "2294                   support!\\n#MakeAmericaGreatAgain      31\n",
       "2354    #MakeAmericaGreatAgain\\nhttps://t.co/TWslpJPQG0      46\n",
       "2360               Massachusetts!#MakeAmericaGreatAgain      36\n",
       "2373    #MakeAmericaGreatAgain\\nhttps://t.co/FlJutjpR35      46\n",
       "2597                 #Trump2016\\nhttp://t.co/fnRIXJWCVf      33\n",
       "...                                                 ...     ...\n",
       "6560                   #AmericaFirstðºð¸#UNGA\\nFull      31\n",
       "6651  Virginia!\\n#MakeAmericaGreatAgainðºð¸\\nTic...      49\n",
       "6652  Melania!\\n#MakeAmericaGreatAgainðºð¸\\nð¥...      67\n",
       "6671  #MadeInAmericaðºð¸\\nð¸https://t.co/39dwl...      50\n",
       "6691                   Poland!ðºð¸ðµð±\\n#ICYMI,      31\n",
       "6697  \\n#UnleashingAmericanEnergy\\nhttps://t.co/hlM7...      50\n",
       "6702  #KatesLaw\\n#NoSanctuaryForCriminalsAct\\nStatem...      48\n",
       "6709          bills:\\nâï¸#NoSanctuaryForCriminalsAct      40\n",
       "6711              AGAIN!\\n\\n#NoSanctuaryForCriminalsAct      35\n",
       "6741                   #CongressionalBaseballGameâ¾ï¸      32\n",
       "6746    https://t.co/syJUGoMhHJ\\n#NationalChampionsð      46\n",
       "6754  #AmericaFirstðºð¸\\nâ¡ï¸https://t.co/9VOb...      51\n",
       "6768  #MakeAmericaGreatAgainðºð¸\\nhttps://t.co/e...      54\n",
       "6772       #InfrastructureWeek\\nhttps://t.co/7JBYklQeHE      43\n",
       "6774  #PoliceWeek\"\\nProclamationâ¡ï¸https://t.co/o...      65\n",
       "6780  #WeeklyAddressðºð¸\\nâ¡ï¸https://t.co/uT4...      52\n",
       "6783  #WeeklyAddressðºð¸\\nâ¡ï¸https://t.co/UYE...      52\n",
       "6803     â¡ï¸https://t.co/VtmlSqciXx\\n\\n#RiyadhSummit      44\n",
       "6831                   #BuyAmericanHireAmericanðºð¸      32\n",
       "6841  #MakeAmericaGreatAgainðºð¸\\nhttps://t.co/n...      54\n",
       "6846  #BuyAmericanHireAmericanðºð¸\\nWatchâ¡ï¸h...      67\n",
       "6851                 @Raul_Labrador?\\n#RepealANDReplace      33\n",
       "6854        #CEOTownHall\\nâ¡ï¸https://t.co/ADSKuUXf1b      42\n",
       "6861               #MAGAðºð¸https://t.co/USjroMigmr      36\n",
       "6871       #MAGAðºð¸\\nâ¡ï¸https://t.co/YSaPJnSX2i      43\n",
       "6875         https://t.co/lZlPPGIkzH\\n#RepealAndReplace      41\n",
       "6879             #MAGAðºð¸\\nhttps://t.co/RDO6Jt2pip      37\n",
       "6883                 Sara!\\n#ICYMIðºð¸ð®ð±Joint      33\n",
       "6906                   \\n#LawEnforcementAppreciationDay      31\n",
       "6923  grateful!\\n#LawEnforcementAppreciationDay\\nPre...      50\n",
       "\n",
       "[292 rows x 2 columns]"
      ]
     },
     "execution_count": 31,
     "metadata": {},
     "output_type": "execute_result"
    }
   ],
   "source": [
    "# hier wird erkennbar, dass unsere Herangehensweise, die Worte herauszufiltern\n",
    "# indem wir die Tweets entlang der Leerzeichen aufteilen manchmal versagt.\n",
    "# Anscheinend geschieht das besonders häufig in der Nähe von Links\n",
    "# Um das zu verbessern, müsste man die Links aus den Tweets herausfiltern\n",
    "maske_long = hashtags_trump_df['length'] > 30\n",
    "print('suspekte Einträge: {}'.format(len(hashtags_trump_df[maske_long])))\n",
    "hashtags_trump_df[maske_long]"
   ]
  },
  {
   "cell_type": "markdown",
   "metadata": {},
   "source": [
    "**H. (optional)** Suche in den Tweets nach der Anzahl der Links. <font color='green'>**HINWEIS:** mit der Funktion ```str.count()``` eines Strings kannst du die Anzahl der Vorkommnise eines Teil-Strings zählen (siehe die [Dokumentation](https://docs.python.org/2/library/string.html) von ```string.count()```. Du kannst die Aufgabe auch z.B. mit Hilfe einer Funktion wie ```isHashTag()``` wie oben beschrieben lösen.</font> Füge allen drei DataFrames eine weitere Spalte mit der Anzahl an Links je Tweet hinzu. Wieviele Links je Tweet posten Trump, die Trolle und die normalen User durchschnittlich?   "
   ]
  },
  {
   "cell_type": "code",
   "execution_count": 32,
   "metadata": {},
   "outputs": [
    {
     "name": "stdout",
     "output_type": "stream",
     "text": [
      "Trump: durchschnittliche Link-Anzahl / Tweet: 0.2663\n",
      "Trolle: durchschnittliche Link-Anzahl / Tweet: 0.9789\n",
      "Normale User: durchschnittliche Link-Anzahl / Tweet: 0.0448\n"
     ]
    }
   ],
   "source": [
    "# Links in den Trump-Tweets\n",
    "link_number_trump = []\n",
    "\n",
    "for tweet in tweets_trump['Tweet']:\n",
    "    link_number = tweet.count('http')\n",
    "    link_number_trump.append(link_number)\n",
    "tweets_trump['link_number'] = link_number_trump\n",
    "\n",
    "# Links in den Troll-Tweets\n",
    "link_number_troll = []\n",
    "\n",
    "for tweet in tweets_troll['Tweet']:\n",
    "    link_number = tweet.count('http')\n",
    "    link_number_troll.append(link_number)\n",
    "tweets_troll['link_number'] = link_number_troll\n",
    "\n",
    "# Links in den Tweets der normalen User\n",
    "link_number_normal = []\n",
    "\n",
    "for tweet in tweets_normal['Tweet']:\n",
    "    link_number = tweet.count('http')\n",
    "    link_number_normal.append(link_number)\n",
    "tweets_normal['link_number'] = link_number_normal\n",
    "\n",
    "# mittlere Anzahl der Links je Tweet für die drei Datensätze\n",
    "print('Trump: durchschnittliche Link-Anzahl / Tweet: {:1.4f}'\\\n",
    "      .format(tweets_trump['link_number'].mean()))\n",
    "\n",
    "print('Trolle: durchschnittliche Link-Anzahl / Tweet: {:1.4f}'\\\n",
    "      .format(tweets_troll['link_number'].mean()))\n",
    "\n",
    "print('Normale User: durchschnittliche Link-Anzahl / Tweet: {:1.4f}'\\\n",
    "      .format(tweets_normal['link_number'].mean()))"
   ]
  },
  {
   "cell_type": "code",
   "execution_count": 34,
   "metadata": {},
   "outputs": [],
   "source": [
    "tweets_normal.to_csv(join('data', 'tweets_normal_bearbeitet.csv'), line_terminator='\\n')\n",
    "tweets_troll.to_csv(join('data', 'tweets_troll_bearbeitet.csv'), line_terminator='\\n')\n",
    "tweets_trump.to_csv(join('data', 'tweets_trump_bearbeitet.csv'), line_terminator='\\n')"
   ]
  },
  {
   "cell_type": "markdown",
   "metadata": {},
   "source": [
    "**I. (optional)** Entferne alle Links aus den Hashtags und überprüfe, ob unsere Analyse der Hashtag-Längen sich verändert hat. Speichere auch die Hashtag DataFrames nach dem Bereinigen wieder ab.\n",
    "\n",
    "Für die Lösung dieser Aufgabe machen wir uns zunutze, dass Links keine Leerzeichen enthalten."
   ]
  },
  {
   "cell_type": "code",
   "execution_count": 35,
   "metadata": {},
   "outputs": [],
   "source": [
    "# iteriere über alle Einträge im hashtags-DataFrame\n",
    "for index, entry in hashtags_trump_df.iterrows():\n",
    "    # links starten normalerweise mit den Buchstabe \"http\"\n",
    "    link_start = 'http'\n",
    "    # wenn wir einen Hashtag mit Link finden dann...\n",
    "    if link_start in entry['tag']:\n",
    "        # ... teile den Hashtag entlang link_start\n",
    "        # es sieht so aus, als wäre der Hashtag immer VOR\n",
    "        # dem Link, deswegen nehmen wir den ersten Eintrag\n",
    "        # der aus split() resultierenden Liste\n",
    "        hashtag = entry['tag'].split(link_start)[0]\n",
    "        # update den Eintrag für den betroffenen Hashtag\n",
    "        # im DataFrame\n",
    "        hashtags_trump_df.at[index, 'tag'] = hashtag\n",
    "        # WICHTIG: auch die Hashtag-Länge müssen wir\n",
    "        # neu berechnen und updaten\n",
    "        hashtags_trump_df.at[index, 'length'] = len(hashtag)"
   ]
  },
  {
   "cell_type": "code",
   "execution_count": 36,
   "metadata": {},
   "outputs": [
    {
     "data": {
      "text/plain": [
       "<matplotlib.legend.Legend at 0x7f5d80ea1978>"
      ]
     },
     "execution_count": 36,
     "metadata": {},
     "output_type": "execute_result"
    },
    {
     "data": {
      "image/png": "[encoded data removed]",
      "text/plain": [
       "<Figure size 432x288 with 1 Axes>"
      ]
     },
     "metadata": {},
     "output_type": "display_data"
    }
   ],
   "source": [
    "# Histogramm mit drei Datensätzen\n",
    "plt.hist([hashtags_trump_df['length'], hashtags_troll_df['length'], hashtags_normal_df['length']],\\\n",
    "         rwidth=0.8, bins=20, range=[1,40], density=True,\\\n",
    "         label=['trump','troll','normal'])\n",
    "\n",
    "# Beschriftungen\n",
    "plt.xlabel('Hashtag Länge / Zeichen')\n",
    "plt.ylabel('Anzahl Hashtags')\n",
    "plt.legend()"
   ]
  },
  {
   "cell_type": "markdown",
   "metadata": {},
   "source": [
    "* _Viel hat sich nicht verändert an der Darstellung, wenn man sie mit der Darstellung aus Aufgabe **2.G** vergleicht. Ein Indiz dafür, dass die \"Verunreinigung\" durch Links in der Hashtag-Liste vernachlässigbar ist._"
   ]
  },
  {
   "cell_type": "code",
   "execution_count": 37,
   "metadata": {},
   "outputs": [
    {
     "name": "stdout",
     "output_type": "stream",
     "text": [
      "suspekte Einträge: 104\n"
     ]
    },
    {
     "data": {
      "text/html": [
       "<div>\n",
       "<style scoped>\n",
       "    .dataframe tbody tr th:only-of-type {\n",
       "        vertical-align: middle;\n",
       "    }\n",
       "\n",
       "    .dataframe tbody tr th {\n",
       "        vertical-align: top;\n",
       "    }\n",
       "\n",
       "    .dataframe thead th {\n",
       "        text-align: right;\n",
       "    }\n",
       "</style>\n",
       "<table border=\"1\" class=\"dataframe\">\n",
       "  <thead>\n",
       "    <tr style=\"text-align: right;\">\n",
       "      <th></th>\n",
       "      <th>tag</th>\n",
       "      <th>length</th>\n",
       "    </tr>\n",
       "  </thead>\n",
       "  <tbody>\n",
       "    <tr>\n",
       "      <th>1071</th>\n",
       "      <td>â¤ï¸ðð#TrumpWinfree2016\"</td>\n",
       "      <td>32</td>\n",
       "    </tr>\n",
       "    <tr>\n",
       "      <th>1165</th>\n",
       "      <td>longer....#celebrityapprentice\"</td>\n",
       "      <td>31</td>\n",
       "    </tr>\n",
       "    <tr>\n",
       "      <th>1595</th>\n",
       "      <td>#trumpinternationaltowerlasvegas\"</td>\n",
       "      <td>33</td>\n",
       "    </tr>\n",
       "    <tr>\n",
       "      <th>2078</th>\n",
       "      <td>Hampshire!\\n#MakeAmericaGreatAgain</td>\n",
       "      <td>33</td>\n",
       "    </tr>\n",
       "    <tr>\n",
       "      <th>2082</th>\n",
       "      <td>Holidays!\\n#MakeAmericaGreatAgain</td>\n",
       "      <td>32</td>\n",
       "    </tr>\n",
       "    <tr>\n",
       "      <th>2095</th>\n",
       "      <td>Michigan!\\n#MakeAmericaGreatAgain</td>\n",
       "      <td>32</td>\n",
       "    </tr>\n",
       "    <tr>\n",
       "      <th>2203</th>\n",
       "      <td>#MakeAmericaGreatAgain!#Trump2016</td>\n",
       "      <td>33</td>\n",
       "    </tr>\n",
       "    <tr>\n",
       "      <th>2213</th>\n",
       "      <td>#Trump2016\\n#MakeAmericaGreatAgain</td>\n",
       "      <td>33</td>\n",
       "    </tr>\n",
       "    <tr>\n",
       "      <th>2277</th>\n",
       "      <td>pollsters.\\n#MakeAmericaGreatAgain</td>\n",
       "      <td>33</td>\n",
       "    </tr>\n",
       "    <tr>\n",
       "      <th>2294</th>\n",
       "      <td>support!\\n#MakeAmericaGreatAgain</td>\n",
       "      <td>31</td>\n",
       "    </tr>\n",
       "    <tr>\n",
       "      <th>2360</th>\n",
       "      <td>Massachusetts!#MakeAmericaGreatAgain</td>\n",
       "      <td>36</td>\n",
       "    </tr>\n",
       "    <tr>\n",
       "      <th>2783</th>\n",
       "      <td>#MakeAmericasMilitaryGreatAgain!</td>\n",
       "      <td>32</td>\n",
       "    </tr>\n",
       "    <tr>\n",
       "      <th>3031</th>\n",
       "      <td>things.#LetsMakeAmericaGreatAgain</td>\n",
       "      <td>33</td>\n",
       "    </tr>\n",
       "    <tr>\n",
       "      <th>3099</th>\n",
       "      <td>#MakeAmericaGreatAgainThroughTrump</td>\n",
       "      <td>34</td>\n",
       "    </tr>\n",
       "    <tr>\n",
       "      <th>3839</th>\n",
       "      <td>#CelebrityApprenticewinner2015\"</td>\n",
       "      <td>31</td>\n",
       "    </tr>\n",
       "    <tr>\n",
       "      <th>3861</th>\n",
       "      <td>television!#celebrityapprentice!</td>\n",
       "      <td>32</td>\n",
       "    </tr>\n",
       "    <tr>\n",
       "      <th>4328</th>\n",
       "      <td>#TrumpTrainðð¨ðºð¸ðºð¸ðºð¸ð...</td>\n",
       "      <td>51</td>\n",
       "    </tr>\n",
       "    <tr>\n",
       "      <th>4409</th>\n",
       "      <td>here!!\\n#MakeAmericaGreatAgainðºð¸</td>\n",
       "      <td>37</td>\n",
       "    </tr>\n",
       "    <tr>\n",
       "      <th>4544</th>\n",
       "      <td>RESET\\nâBENGHAZI\\n#DrainTheSwamp</td>\n",
       "      <td>32</td>\n",
       "    </tr>\n",
       "    <tr>\n",
       "      <th>4653</th>\n",
       "      <td>Missouri!\\n#MakeAmericaGreatAgain</td>\n",
       "      <td>32</td>\n",
       "    </tr>\n",
       "    <tr>\n",
       "      <th>4684</th>\n",
       "      <td>@TrumpWomensTour!\\n#MakeAmericaGreatAgain</td>\n",
       "      <td>40</td>\n",
       "    </tr>\n",
       "    <tr>\n",
       "      <th>4889</th>\n",
       "      <td>#AmericaFirst\\n#MakeAmericaGreatAgain</td>\n",
       "      <td>36</td>\n",
       "    </tr>\n",
       "    <tr>\n",
       "      <th>4912</th>\n",
       "      <td>#AmericaFirst\\n#MakeAmericaGreatAgain</td>\n",
       "      <td>36</td>\n",
       "    </tr>\n",
       "    <tr>\n",
       "      <th>4966</th>\n",
       "      <td>11/8/2016!\\n#MakeAmericaGreatAgain</td>\n",
       "      <td>33</td>\n",
       "    </tr>\n",
       "    <tr>\n",
       "      <th>4972</th>\n",
       "      <td>#MakeAmericaGreatAgain\\nTickets:</td>\n",
       "      <td>31</td>\n",
       "    </tr>\n",
       "    <tr>\n",
       "      <th>4995</th>\n",
       "      <td>amnesty!\\n#MakeAmericaGreatAgain</td>\n",
       "      <td>31</td>\n",
       "    </tr>\n",
       "    <tr>\n",
       "      <th>5057</th>\n",
       "      <td>Carolina!\\n#MakeAmericaGreatAgain</td>\n",
       "      <td>32</td>\n",
       "    </tr>\n",
       "    <tr>\n",
       "      <th>5088</th>\n",
       "      <td>Carolina!\\n#MakeAmericaGreatAgain</td>\n",
       "      <td>32</td>\n",
       "    </tr>\n",
       "    <tr>\n",
       "      <th>5128</th>\n",
       "      <td>Colorado!\\n#MakeAmericaGreatAgain</td>\n",
       "      <td>32</td>\n",
       "    </tr>\n",
       "    <tr>\n",
       "      <th>5130</th>\n",
       "      <td>Florida!\\n#MakeAmericaGreatAgain</td>\n",
       "      <td>31</td>\n",
       "    </tr>\n",
       "    <tr>\n",
       "      <th>...</th>\n",
       "      <td>...</td>\n",
       "      <td>...</td>\n",
       "    </tr>\n",
       "    <tr>\n",
       "      <th>6137</th>\n",
       "      <td>6:30pm\\n#MakeAmericaGreatAgain!\\n\\nIowa</td>\n",
       "      <td>36</td>\n",
       "    </tr>\n",
       "    <tr>\n",
       "      <th>6173</th>\n",
       "      <td>America!\\n#MakeAmericaGreatAgain</td>\n",
       "      <td>31</td>\n",
       "    </tr>\n",
       "    <tr>\n",
       "      <th>6272</th>\n",
       "      <td>#IACaucus\\n#MakeAmericaGreatAgain</td>\n",
       "      <td>32</td>\n",
       "    </tr>\n",
       "    <tr>\n",
       "      <th>6313</th>\n",
       "      <td>supporters!\\n#MakeAmericaGreatAgain</td>\n",
       "      <td>34</td>\n",
       "    </tr>\n",
       "    <tr>\n",
       "      <th>6364</th>\n",
       "      <td>#PearlHarborRemembranceDayðºð¸</td>\n",
       "      <td>34</td>\n",
       "    </tr>\n",
       "    <tr>\n",
       "      <th>6399</th>\n",
       "      <td>Koreaðºð¸ð°ð·\\n#NationalAssembly</td>\n",
       "      <td>39</td>\n",
       "    </tr>\n",
       "    <tr>\n",
       "      <th>6401</th>\n",
       "      <td>CUTS!\\n\\n#MakeAmericaGreatAgainðºð¸</td>\n",
       "      <td>37</td>\n",
       "    </tr>\n",
       "    <tr>\n",
       "      <th>6423</th>\n",
       "      <td>@TheLeeGreenwood!\\n#FlashbackFriday</td>\n",
       "      <td>34</td>\n",
       "    </tr>\n",
       "    <tr>\n",
       "      <th>6499</th>\n",
       "      <td>High\\nâï¸#MakeAmericaGreatAgainðºð¸</td>\n",
       "      <td>41</td>\n",
       "    </tr>\n",
       "    <tr>\n",
       "      <th>6518</th>\n",
       "      <td>Country.\\n#StandForOurAnthemðºð¸</td>\n",
       "      <td>35</td>\n",
       "    </tr>\n",
       "    <tr>\n",
       "      <th>6541</th>\n",
       "      <td>#WeThePeopleðºð¸\\n#USAatUNGA</td>\n",
       "      <td>31</td>\n",
       "    </tr>\n",
       "    <tr>\n",
       "      <th>6545</th>\n",
       "      <td>Nations.\\n#USAatUNGAðºð¸#UNGA\\n</td>\n",
       "      <td>33</td>\n",
       "    </tr>\n",
       "    <tr>\n",
       "      <th>6559</th>\n",
       "      <td>Americansðºð¸#IrmaHurricane2017\\nð¥</td>\n",
       "      <td>40</td>\n",
       "    </tr>\n",
       "    <tr>\n",
       "      <th>6560</th>\n",
       "      <td>#AmericaFirstðºð¸#UNGA\\nFull</td>\n",
       "      <td>31</td>\n",
       "    </tr>\n",
       "    <tr>\n",
       "      <th>6651</th>\n",
       "      <td>Virginia!\\n#MakeAmericaGreatAgainðºð¸\\nTic...</td>\n",
       "      <td>49</td>\n",
       "    </tr>\n",
       "    <tr>\n",
       "      <th>6652</th>\n",
       "      <td>Melania!\\n#MakeAmericaGreatAgainðºð¸\\nð¥</td>\n",
       "      <td>44</td>\n",
       "    </tr>\n",
       "    <tr>\n",
       "      <th>6691</th>\n",
       "      <td>Poland!ðºð¸ðµð±\\n#ICYMI,</td>\n",
       "      <td>31</td>\n",
       "    </tr>\n",
       "    <tr>\n",
       "      <th>6702</th>\n",
       "      <td>#KatesLaw\\n#NoSanctuaryForCriminalsAct\\nStatem...</td>\n",
       "      <td>48</td>\n",
       "    </tr>\n",
       "    <tr>\n",
       "      <th>6709</th>\n",
       "      <td>bills:\\nâï¸#NoSanctuaryForCriminalsAct</td>\n",
       "      <td>40</td>\n",
       "    </tr>\n",
       "    <tr>\n",
       "      <th>6711</th>\n",
       "      <td>AGAIN!\\n\\n#NoSanctuaryForCriminalsAct</td>\n",
       "      <td>35</td>\n",
       "    </tr>\n",
       "    <tr>\n",
       "      <th>6741</th>\n",
       "      <td>#CongressionalBaseballGameâ¾ï¸</td>\n",
       "      <td>32</td>\n",
       "    </tr>\n",
       "    <tr>\n",
       "      <th>6768</th>\n",
       "      <td>#MakeAmericaGreatAgainðºð¸\\n</td>\n",
       "      <td>31</td>\n",
       "    </tr>\n",
       "    <tr>\n",
       "      <th>6774</th>\n",
       "      <td>#PoliceWeek\"\\nProclamationâ¡ï¸</td>\n",
       "      <td>31</td>\n",
       "    </tr>\n",
       "    <tr>\n",
       "      <th>6831</th>\n",
       "      <td>#BuyAmericanHireAmericanðºð¸</td>\n",
       "      <td>32</td>\n",
       "    </tr>\n",
       "    <tr>\n",
       "      <th>6841</th>\n",
       "      <td>#MakeAmericaGreatAgainðºð¸\\n</td>\n",
       "      <td>31</td>\n",
       "    </tr>\n",
       "    <tr>\n",
       "      <th>6846</th>\n",
       "      <td>#BuyAmericanHireAmericanðºð¸\\nWatchâ¡ï¸</td>\n",
       "      <td>44</td>\n",
       "    </tr>\n",
       "    <tr>\n",
       "      <th>6851</th>\n",
       "      <td>@Raul_Labrador?\\n#RepealANDReplace</td>\n",
       "      <td>33</td>\n",
       "    </tr>\n",
       "    <tr>\n",
       "      <th>6883</th>\n",
       "      <td>Sara!\\n#ICYMIðºð¸ð®ð±Joint</td>\n",
       "      <td>33</td>\n",
       "    </tr>\n",
       "    <tr>\n",
       "      <th>6906</th>\n",
       "      <td>\\n#LawEnforcementAppreciationDay</td>\n",
       "      <td>31</td>\n",
       "    </tr>\n",
       "    <tr>\n",
       "      <th>6923</th>\n",
       "      <td>grateful!\\n#LawEnforcementAppreciationDay\\nPre...</td>\n",
       "      <td>50</td>\n",
       "    </tr>\n",
       "  </tbody>\n",
       "</table>\n",
       "<p>104 rows × 2 columns</p>\n",
       "</div>"
      ],
      "text/plain": [
       "                                                    tag  length\n",
       "1071                   â¤ï¸ðð#TrumpWinfree2016\"      32\n",
       "1165                    longer....#celebrityapprentice\"      31\n",
       "1595                  #trumpinternationaltowerlasvegas\"      33\n",
       "2078                 Hampshire!\\n#MakeAmericaGreatAgain      33\n",
       "2082                  Holidays!\\n#MakeAmericaGreatAgain      32\n",
       "2095                  Michigan!\\n#MakeAmericaGreatAgain      32\n",
       "2203                  #MakeAmericaGreatAgain!#Trump2016      33\n",
       "2213                 #Trump2016\\n#MakeAmericaGreatAgain      33\n",
       "2277                 pollsters.\\n#MakeAmericaGreatAgain      33\n",
       "2294                   support!\\n#MakeAmericaGreatAgain      31\n",
       "2360               Massachusetts!#MakeAmericaGreatAgain      36\n",
       "2783                   #MakeAmericasMilitaryGreatAgain!      32\n",
       "3031                  things.#LetsMakeAmericaGreatAgain      33\n",
       "3099                 #MakeAmericaGreatAgainThroughTrump      34\n",
       "3839                    #CelebrityApprenticewinner2015\"      31\n",
       "3861                   television!#celebrityapprentice!      32\n",
       "4328  #TrumpTrainðð¨ðºð¸ðºð¸ðºð¸ð...      51\n",
       "4409             here!!\\n#MakeAmericaGreatAgainðºð¸      37\n",
       "4544                 RESET\\nâBENGHAZI\\n#DrainTheSwamp      32\n",
       "4653                  Missouri!\\n#MakeAmericaGreatAgain      32\n",
       "4684          @TrumpWomensTour!\\n#MakeAmericaGreatAgain      40\n",
       "4889              #AmericaFirst\\n#MakeAmericaGreatAgain      36\n",
       "4912              #AmericaFirst\\n#MakeAmericaGreatAgain      36\n",
       "4966                 11/8/2016!\\n#MakeAmericaGreatAgain      33\n",
       "4972                   #MakeAmericaGreatAgain\\nTickets:      31\n",
       "4995                   amnesty!\\n#MakeAmericaGreatAgain      31\n",
       "5057                  Carolina!\\n#MakeAmericaGreatAgain      32\n",
       "5088                  Carolina!\\n#MakeAmericaGreatAgain      32\n",
       "5128                  Colorado!\\n#MakeAmericaGreatAgain      32\n",
       "5130                   Florida!\\n#MakeAmericaGreatAgain      31\n",
       "...                                                 ...     ...\n",
       "6137            6:30pm\\n#MakeAmericaGreatAgain!\\n\\nIowa      36\n",
       "6173                   America!\\n#MakeAmericaGreatAgain      31\n",
       "6272                  #IACaucus\\n#MakeAmericaGreatAgain      32\n",
       "6313                supporters!\\n#MakeAmericaGreatAgain      34\n",
       "6364                 #PearlHarborRemembranceDayðºð¸      34\n",
       "6399           Koreaðºð¸ð°ð·\\n#NationalAssembly      39\n",
       "6401            CUTS!\\n\\n#MakeAmericaGreatAgainðºð¸      37\n",
       "6423                @TheLeeGreenwood!\\n#FlashbackFriday      34\n",
       "6499         High\\nâï¸#MakeAmericaGreatAgainðºð¸      41\n",
       "6518               Country.\\n#StandForOurAnthemðºð¸      35\n",
       "6541                   #WeThePeopleðºð¸\\n#USAatUNGA      31\n",
       "6545                Nations.\\n#USAatUNGAðºð¸#UNGA\\n      33\n",
       "6559          Americansðºð¸#IrmaHurricane2017\\nð¥      40\n",
       "6560                   #AmericaFirstðºð¸#UNGA\\nFull      31\n",
       "6651  Virginia!\\n#MakeAmericaGreatAgainðºð¸\\nTic...      49\n",
       "6652     Melania!\\n#MakeAmericaGreatAgainðºð¸\\nð¥      44\n",
       "6691                   Poland!ðºð¸ðµð±\\n#ICYMI,      31\n",
       "6702  #KatesLaw\\n#NoSanctuaryForCriminalsAct\\nStatem...      48\n",
       "6709          bills:\\nâï¸#NoSanctuaryForCriminalsAct      40\n",
       "6711              AGAIN!\\n\\n#NoSanctuaryForCriminalsAct      35\n",
       "6741                   #CongressionalBaseballGameâ¾ï¸      32\n",
       "6768                   #MakeAmericaGreatAgainðºð¸\\n      31\n",
       "6774                   #PoliceWeek\"\\nProclamationâ¡ï¸      31\n",
       "6831                   #BuyAmericanHireAmericanðºð¸      32\n",
       "6841                   #MakeAmericaGreatAgainðºð¸\\n      31\n",
       "6846      #BuyAmericanHireAmericanðºð¸\\nWatchâ¡ï¸      44\n",
       "6851                 @Raul_Labrador?\\n#RepealANDReplace      33\n",
       "6883                 Sara!\\n#ICYMIðºð¸ð®ð±Joint      33\n",
       "6906                   \\n#LawEnforcementAppreciationDay      31\n",
       "6923  grateful!\\n#LawEnforcementAppreciationDay\\nPre...      50\n",
       "\n",
       "[104 rows x 2 columns]"
      ]
     },
     "execution_count": 37,
     "metadata": {},
     "output_type": "execute_result"
    }
   ],
   "source": [
    "# jetzt ist zwar das Problem mit den Links weg, es gibt aber immer\n",
    "# noch Probleme mit Zeilenumbrüchen ('\\n'). Trotzdem haben wir die\n",
    "# Anzahl an suspekten Einträgen um etwa 60% reduzieren können, was\n",
    "# schonmal nicht so schlecht für unseren recht simplen Ansatz ist\n",
    "maske_long = hashtags_trump_df['length'] > 30\n",
    "print('suspekte Einträge: {}'.format(len(hashtags_trump_df[maske_long])))\n",
    "hashtags_trump_df[maske_long]"
   ]
  },
  {
   "cell_type": "code",
   "execution_count": 38,
   "metadata": {},
   "outputs": [],
   "source": [
    "# speichern der DataFrames\n",
    "hashtags_trump_df.to_csv(join('data','hashtags_trump.csv'))\n",
    "hashtags_troll_df.to_csv(join('data','hashtags_troll.csv'))\n",
    "hashtags_normal_df.to_csv(join('data','hashtags_normal.csv'))"
   ]
  },
  {
   "cell_type": "markdown",
   "metadata": {},
   "source": [
    "[Anfang](#top)"
   ]
  }
 ],
 "metadata": {
  "kernelspec": {
   "display_name": "Python 3",
   "language": "python",
   "name": "python3"
  },
  "language_info": {
   "codemirror_mode": {
    "name": "ipython",
    "version": 3
   },
   "file_extension": ".py",
   "mimetype": "text/x-python",
   "name": "python",
   "nbconvert_exporter": "python",
   "pygments_lexer": "ipython3",
   "version": "3.6.5"
  }
 },
 "nbformat": 4,
 "nbformat_minor": 2
}
