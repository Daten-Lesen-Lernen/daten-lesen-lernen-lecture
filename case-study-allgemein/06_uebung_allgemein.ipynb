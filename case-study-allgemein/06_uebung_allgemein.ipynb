{
 "cells": [
  {
   "cell_type": "markdown",
   "metadata": {},
   "source": [
    "_Lizenz: Das folgende Lehrmaterial kann unter einer [CC-BY-SA 4.0](https://creativecommons.org/licenses/by/4.0/legalcode) Lizenz frei verwendet, verbreitet und modifiziert werden._   \n",
    " _Authoren: Jana Lasser (jana.lasser@ds.mpg.de)_  \n",
    " _Das Lehrmaterial wurde im Zuge des Projektes \"Daten Lesen Lernen\", gefördert vom Stifterverband und der Heinz Nixdorf Stiftung erstellt._"
   ]
  },
  {
   "cell_type": "markdown",
   "metadata": {},
   "source": [
    "# Übung 06 - Allgemein: Histogramme und Zeitreihen\n",
    "### Praktische Hinweise\n",
    "$\\rightarrow$ Übungen sind dafür gedacht, dass ihr sie euch daheim anseht und versucht, ein paar Aufgaben selbst zu lösen. In den Tutorien könnt ihr euch weiter mit dem Lösungen der Aufgaben beschäftigen und dabei Hilfe von den Tutor*innen bekommen.  \n",
    "\n",
    "$\\rightarrow$ Wenn ein Fehler auftritt:\n",
    "1. Fehlermeldung _lesen_ und _verstehen_\n",
    "2. Versuchen, selbst eine Lösung zu finden ($\\rightarrow$ hier findet das Lernen statt!)\n",
    "3. Das Problem googlen (Stichwort: Stackoverflow) oder den/die Nachbar*in fragen\n",
    "4. Tutor*in fragen\n",
    "\n",
    "$\\rightarrow$ Unter <font color='green'>**HINWEIS**</font> werden Hinweise gegeben, die für die Lösung der Aufgabe hilfreich sind und oftmals auch weiterführende Informationen zur Aufgabe liefern.\n",
    "\n",
    "$\\rightarrow$ Mit **(Optional)** gekennzeichnete Übungsteile sind für besonders schnelle Menschen :-)."
   ]
  },
  {
   "cell_type": "markdown",
   "metadata": {},
   "source": [
    "<a name=\"top\"></a>Inhalt\n",
    "--- \n",
    "Da die letzte Übung etwas lang war, wiederholen wir den Teil über die Histogramme aus der letzten Übung hier noch einmal. Außerdem erkunden wir den Datensatz weiter und versuchen, dem Unterschied zwischen normalen Usern, Trollen und Trum anhand von Histogrammen näher zu kommen. Schlussendlich sehen wir uns den zeitlichen Verlauf verschiedener Größen an, um Trends aus dem Datensatz mit politischen Entwicklungen zu verknüpfen. \n",
    "\n",
    "Die aktuelle Übung gliedert sich in zwei Teile:\n",
    "\n",
    "* [Histogramme](#histogramme)\n",
    "* [Wie unterscheiden sich die User?](#user_unterschied)\n",
    "* [Zeitreihen](#zeitreihen)"
   ]
  },
  {
   "cell_type": "markdown",
   "metadata": {},
   "source": [
    "**WICHTIG**: bevor du mit dem Bearbeiten dieser Übung anfängst, stelle sicher, dass die Datensätze \n",
    "* ```tweets_normal_bereinigt.csv```,\n",
    "* ```tweets_trump_bereinigt.csv``` und\n",
    "* ```tweets_troll_bereinigt.csv```  \n",
    "im Ordner ```data``` liegen. Diese Datensätze werden im Verlauf von Übung 05 erzeugt. "
   ]
  },
  {
   "cell_type": "markdown",
   "metadata": {},
   "source": [
    "<a name=\"histogramme\"></a>1. Histogramme\n",
    "---\n",
    "Im folgenden Abschnitt werden wir damit beginnen, die gewonnenen Informationen zu visualisieren. Eine sehr einfache Visualisierung ist das Histogramm, eine graphische Darstellung der Häufigkeit eines Merkmals. Zur Illustration erstellen wir eine kleine Visualisierung der Verteilung von Werten in einer Liste:"
   ]
  },
  {
   "cell_type": "code",
   "execution_count": 2,
   "metadata": {},
   "outputs": [],
   "source": [
    "# eine Liste mit 30 Ganzzahlen, die z.B. das Alter von Personen in einer\n",
    "# Gruppe darstellen können\n",
    "alter = [37, 20, 84,  2, 11, 89, 52, 65, 90, 21, 30, 12, 17, 53, 62, 45, 37,\n",
    "        3,  6, 64, 85,  6, 95, 73, 68, 55, 86, 83, 91,  1]\n",
    "\n",
    "# für Visualisierungen benutzen wir die Blbiothek \"matplotlib.pyplot\"\n",
    "import matplotlib.pyplot as plt\n",
    "\n",
    "# Histogramme lassen sich einfach mit der Funktion plt.hist() erstellen\n",
    "plt.hist(alter);"
   ]
  },
  {
   "cell_type": "markdown",
   "metadata": {},
   "source": [
    "Visualisierungen sollten immer mit Achsenbeschriftungen versehen werden. Dafür verwenden wir die Funktionen ```plt.xlabel()``` und ```plt.ylabel```. Außerdem können wir der Abbildung mit ```plt.title()``` einen Titel geben. Mit verschiedenen optionalen Argumenten lässt sich das Verhalten von ```plt.hist()``` anpassen:\n",
    "* ```bins``` ändert die Anzahl der Bins\n",
    "* ```range``` ändert den dargestellten Bereich auf der x-Achse\n",
    "* ```rwidth``` ändert die dargestellte bin-Weite \n",
    "* ```color``` ändert die Farbe\n",
    "* ```alpha``` ändert den Alpha-Wert (Durchsichtigkeit) der dargestellten Balken.\n",
    "\n",
    "Plot-Funktionen haben oftmals sehr viele optionale Argumente (auch \"keyword arguments\" genannt). Um herauszufinden, wass die jeweiligen Funktionen alles können, lohnt sich ein Blick in die [Dokumentation](https://matplotlib.org/api/_as_gen/matplotlib.pyplot.hist.html). Außerdem sollte jede Darstellung *immer* mit Achsenbeschriftungen und eventuell einem Titel versehen werden:"
   ]
  },
  {
   "cell_type": "code",
   "execution_count": 3,
   "metadata": {},
   "outputs": [
    {
     "data": {
      "image/png": "[encoded data removed]",
      "text/plain": [
       "<Figure size 432x288 with 1 Axes>"
      ]
     },
     "metadata": {},
     "output_type": "display_data"
    }
   ],
   "source": [
    "plt.hist(alter, color='red', rwidth=0.8, range=[0,100], bins=10, label='alter')\n",
    "plt.xlabel('Alter')\n",
    "plt.ylabel('Anzahl')\n",
    "plt.title('Verteilung des Alters');"
   ]
  },
  {
   "cell_type": "markdown",
   "metadata": {},
   "source": [
    "### Aufgaben\n",
    "**A.** Erstelle ein Histogramm der Tweet-Längen der Troll-Accounts.  \n",
    "**B.** Mache dich mit den unterschiedlichen Argumenten der Funktion ```plt.hist()``` vertraut, indem du verschiedene Werte und Kombinationen für die Daten ausprobierst. Finde Werte, die die Daten deiner Meinung nach gut und verständlich darstellen. Worauf kommt es dabei an? Versieh die Darstellung mit passenden Beschriftungen.  \n",
    "**C.** Insbesondere das Argument ```bins``` verändert die Darstellung des Histogrammes sehr stark. Was kann schiefgehen, wenn ```bins``` zu niedrig oder zu hoch gewählt wird? Was ist eine gute Wahl für einen Datensatz?  \n",
    "**D. (Optional)** Was hat es mit den beiden keyword arguments ```density``` und ```cumulative``` auf sich? Wie verändert sich das Histogram und wie kann die Darstellung dann interpretiert werden?"
   ]
  },
  {
   "cell_type": "markdown",
   "metadata": {},
   "source": [
    "[Anfang](#top)"
   ]
  },
  {
   "cell_type": "markdown",
   "metadata": {},
   "source": [
    "<a name=\"user_unterschied\"></a>2. Wie unterscheiden sich die User?\n",
    "---\n",
    "Zur Vorbereitung dieses Teils laden wir die bereinigten DataFrames, die wir in Übung 05 erstellt haben:"
   ]
  },
  {
   "cell_type": "code",
   "execution_count": 4,
   "metadata": {},
   "outputs": [
    {
     "data": {
      "text/html": [
       "<div>\n",
       "<style scoped>\n",
       "    .dataframe tbody tr th:only-of-type {\n",
       "        vertical-align: middle;\n",
       "    }\n",
       "\n",
       "    .dataframe tbody tr th {\n",
       "        vertical-align: top;\n",
       "    }\n",
       "\n",
       "    .dataframe thead th {\n",
       "        text-align: right;\n",
       "    }\n",
       "</style>\n",
       "<table border=\"1\" class=\"dataframe\">\n",
       "  <thead>\n",
       "    <tr style=\"text-align: right;\">\n",
       "      <th></th>\n",
       "      <th>Date</th>\n",
       "      <th>User</th>\n",
       "      <th>Tweet</th>\n",
       "      <th>tweet_length</th>\n",
       "      <th>word_number</th>\n",
       "    </tr>\n",
       "  </thead>\n",
       "  <tbody>\n",
       "    <tr>\n",
       "      <th>0</th>\n",
       "      <td>2009-04-06 22:19:00</td>\n",
       "      <td>_TheSpecialOne_</td>\n",
       "      <td>@switchfoot http://twitpic.com/2y1zl - Awww, t...</td>\n",
       "      <td>115</td>\n",
       "      <td>20</td>\n",
       "    </tr>\n",
       "    <tr>\n",
       "      <th>1</th>\n",
       "      <td>2009-04-06 22:19:00</td>\n",
       "      <td>scotthamilton</td>\n",
       "      <td>is upset that he can't update his Facebook by ...</td>\n",
       "      <td>111</td>\n",
       "      <td>22</td>\n",
       "    </tr>\n",
       "    <tr>\n",
       "      <th>2</th>\n",
       "      <td>2009-04-06 22:19:00</td>\n",
       "      <td>mattycus</td>\n",
       "      <td>@Kenichan I dived many times for the ball. Man...</td>\n",
       "      <td>89</td>\n",
       "      <td>19</td>\n",
       "    </tr>\n",
       "    <tr>\n",
       "      <th>3</th>\n",
       "      <td>2009-04-06 22:19:00</td>\n",
       "      <td>ElleCTF</td>\n",
       "      <td>my whole body feels itchy and like its on fire</td>\n",
       "      <td>47</td>\n",
       "      <td>11</td>\n",
       "    </tr>\n",
       "    <tr>\n",
       "      <th>4</th>\n",
       "      <td>2009-04-06 22:19:00</td>\n",
       "      <td>Karoli</td>\n",
       "      <td>@nationwideclass no, it's not behaving at all....</td>\n",
       "      <td>111</td>\n",
       "      <td>22</td>\n",
       "    </tr>\n",
       "  </tbody>\n",
       "</table>\n",
       "</div>"
      ],
      "text/plain": [
       "                  Date             User  \\\n",
       "0  2009-04-06 22:19:00  _TheSpecialOne_   \n",
       "1  2009-04-06 22:19:00    scotthamilton   \n",
       "2  2009-04-06 22:19:00         mattycus   \n",
       "3  2009-04-06 22:19:00          ElleCTF   \n",
       "4  2009-04-06 22:19:00           Karoli   \n",
       "\n",
       "                                               Tweet  tweet_length  \\\n",
       "0  @switchfoot http://twitpic.com/2y1zl - Awww, t...           115   \n",
       "1  is upset that he can't update his Facebook by ...           111   \n",
       "2  @Kenichan I dived many times for the ball. Man...            89   \n",
       "3    my whole body feels itchy and like its on fire             47   \n",
       "4  @nationwideclass no, it's not behaving at all....           111   \n",
       "\n",
       "   word_number  \n",
       "0           20  \n",
       "1           22  \n",
       "2           19  \n",
       "3           11  \n",
       "4           22  "
      ]
     },
     "execution_count": 4,
     "metadata": {},
     "output_type": "execute_result"
    }
   ],
   "source": [
    "# mit der Funktion \"join()\" können wir Pfade im Dateisystem sicher handhaben\n",
    "from os.path import join\n",
    "\n",
    "# die Bibliothek pandas liefert das DataFrame\n",
    "import pandas as pd\n",
    "\n",
    "tweets_normal = pd.read_csv(join('data','tweets_normal_bereinigt.csv'), encoding='ISO-8859-1', lineterminator='\\n')\n",
    "tweets_trump = pd.read_csv(join('data','tweets_trump_bereinigt.csv'), encoding='ISO-8859-1', lineterminator='\\n')\n",
    "tweets_troll = pd.read_csv(join('data','tweets_troll_bereinigt.csv'), encoding='ISO-8859-1', lineterminator='\\n')\n",
    "tweets_normal.head()"
   ]
  },
  {
   "cell_type": "markdown",
   "metadata": {},
   "source": [
    "**A.** Visualisiere die Länge der Tweets von normalen Usern, Trollen und Trump in einem Histogram. Wähle ```bins``` und ```range``` so, dass die in den Daten steckende Information deutlich wird. Was fällt dir auf? Worauf musst du achten, damit die beiden Histogramme vergleichbar sind? Achte auf Achsenbeschriftungen, Titel und Legende der Abbildung. <font color='green'>**HINWEIS:** Um die drei Datensätze vergleichbar zu machen, bietet sich das Argument ```density=True``` an. Du kannst einfach in der selben Code-Zelle mehrfach hintereinander die Funktion ```plt.hist()``` (natürlich mit unterschiedlichen Daten) aufrufen, um die Daten übereinandergelegt darzustellen. Alternativ kannst du der Funktion auch eine Liste von Listen als Argument mitgeben. Dann werden die Balken der verschiedenen Datensätze _nebeneinander_ statt übereinander dargestellt. Du kannst mit der Funktion ```plt.legend()``` eine Legende zur Abbildung hinzufügen. Damit das funktioniert, musst du den einzelen plot-Befehlen vorher ein entsprechendes ```label``` Argument mitgeben.</font>   \n",
    "\n",
    "**B.** Was fällt dir an der Visualisierung auf? Verhalten sich die verschiedenen User (Gruppen) unterschiedlich? Was ist die mittlere Tweet-Länge für die normalen User, Trolle und Trump? Was der Median?   \n",
    "\n",
    "**C.** Visualisiere nur die Tweets der normalen User in einem Histogram. Wähle die maximale Anzahl an Zeichen, die in einem Tweet erlaubt sind als Anzahl der Bins und setze ```range=[0,140]```. Visualisiere Mittelwert und Median als Linien in der Abbildung.\n",
    "\n",
    "Linien in einer Abbildung lassen sich wie folgt zeichnen:"
   ]
  },
  {
   "cell_type": "code",
   "execution_count": 5,
   "metadata": {},
   "outputs": [
    {
     "data": {
      "text/plain": [
       "<matplotlib.lines.Line2D at 0x7fb4f7ec2080>"
      ]
     },
     "execution_count": 5,
     "metadata": {},
     "output_type": "execute_result"
    },
    {
     "data": {
      "image/png": "[encoded data removed]",
      "text/plain": [
       "<Figure size 432x288 with 1 Axes>"
      ]
     },
     "metadata": {},
     "output_type": "display_data"
    }
   ],
   "source": [
    "import matplotlib.pyplot as plt\n",
    "%matplotlib inline\n",
    "plt.axvline(x=10, color='red')\n",
    "plt.axvline(x=12, color='green')\n",
    "plt.axvline(x=20, color='blue')"
   ]
  },
  {
   "cell_type": "markdown",
   "metadata": {},
   "source": [
    "[Anfang](#top)"
   ]
  },
  {
   "cell_type": "markdown",
   "metadata": {},
   "source": [
    "<a name=\"zeitreihen\"></a>3. Zeitreihen\n",
    "---\n",
    "Um eine Zeitentwicklung in unserem Datensatz zu veranschaulichen, müssen wir dem Datensatz erst einmal Information über die Zeit entlocken. Dafür wandeln wir die Information zu Zeit und Datum in einen zeitlichen _Abstand_ zum ersten Post um. Wenn also der erste Post im Datensatz zur Stunde 0 erfolgt, dann hat ein Post der einen Tag und 5 Stunden später erfolg ist einen Abstand von 29 Stunden zum ersten Post. Um das zu bewerkstelligen, bedienen wir uns des Moduls ```datetime``` das uns ein ```datetime```-Objekt zur Verfügung stellt (siehe Lösung zu Übung 05 **3.D**). Dieses Objekt hat die Funktion ```strptime()```, der wir den String mit Datum und Uhrzeit sowie Information zur Formatierung des Strings übergeben können. Wir bekommen ein ```Datetime```-Objekt zurück, mit dem sich rechnen lässt. Das heißt, verschiedene ```datetime```-Objekte lassen sich voneinander abziehen oder addieren um Zeitabstände zu erhalten:"
   ]
  },
  {
   "cell_type": "code",
   "execution_count": 6,
   "metadata": {},
   "outputs": [
    {
     "name": "stdout",
     "output_type": "stream",
     "text": [
      "0    2009-05-20 22:29:00\n",
      "1    2010-11-29 15:52:00\n",
      "2    2010-10-28 18:53:00\n",
      "3    2010-11-24 17:20:00\n",
      "4    2009-11-16 21:06:00\n",
      "Name: Date, dtype: object\n"
     ]
    }
   ],
   "source": [
    "# zur Erinnerung: so sieht die aktuell gespeicherte Information\n",
    "# zu Datum und Uhrzeit aus\n",
    "print(tweets_trump['Date'].head())"
   ]
  },
  {
   "cell_type": "code",
   "execution_count": 7,
   "metadata": {},
   "outputs": [],
   "source": [
    "# importiere das datetime objekt aus dem modul datetime\n",
    "from datetime import datetime\n",
    "\n",
    "# das ist das Format des Strings mit der Zeitinformation, also\n",
    "# Jahr-Monat-Tag Stunde:Minute:Sekunde\n",
    "fmt = '%Y-%m-%d %H:%M:%S'\n",
    "\n",
    "# wir verwandeln die Einträge der Spalte 'Date' in datetime-Objekte\n",
    "tweets_trump['Date_new'] = [datetime.strptime(date, fmt) for date in tweets_trump['Date']]"
   ]
  },
  {
   "cell_type": "code",
   "execution_count": 8,
   "metadata": {},
   "outputs": [
    {
     "name": "stdout",
     "output_type": "stream",
     "text": [
      "2009-05-20 22:29:00\n",
      "557 days 17:23:00\n"
     ]
    }
   ],
   "source": [
    "# die Information sieht immer noch gleich aus\n",
    "print(tweets_trump.loc[0]['Date_new'])\n",
    "\n",
    "# aber jetzt können wir mit ihr rechnen!\n",
    "print(tweets_trump.loc[1]['Date_new'] - tweets_trump.loc[0]['Date_new'])"
   ]
  },
  {
   "cell_type": "markdown",
   "metadata": {},
   "source": [
    "Wir fügen eine neue Spalte zum DataFrame hinzu, die den zeitlichen Abstand jedes Tweets zum frühesten Tweet enthält. Mit der Funktion ```total_seconds()``` konvertieren wir den Zeitabstand in die Anzahl der Sekunden."
   ]
  },
  {
   "cell_type": "code",
   "execution_count": 9,
   "metadata": {},
   "outputs": [],
   "source": [
    "# berechnen der Zeitabstände\n",
    "zeitabstand = [(date - tweets_trump['Date_new'].min()).total_seconds() for date in tweets_trump['Date_new']]\n",
    "\n",
    "# Hinzufügen der Spalte\n",
    "tweets_trump['timedelta'] = zeitabstand\n",
    "\n",
    "# bei genauerem Nachdenken stellt sich die Darstellung in Sekunden als\n",
    "# nicht so praktikabel heraus, deswegen teilen wir noch einmal durch\n",
    "# 60 (Sekunden) mal 60 (Minuten), um den Zeitabstand in Stunden anzugeben\n",
    "tweets_trump['timedelta'] = tweets_trump['timedelta'] / (60*60)"
   ]
  },
  {
   "cell_type": "code",
   "execution_count": 10,
   "metadata": {},
   "outputs": [
    {
     "data": {
      "text/html": [
       "<div>\n",
       "<style scoped>\n",
       "    .dataframe tbody tr th:only-of-type {\n",
       "        vertical-align: middle;\n",
       "    }\n",
       "\n",
       "    .dataframe tbody tr th {\n",
       "        vertical-align: top;\n",
       "    }\n",
       "\n",
       "    .dataframe thead th {\n",
       "        text-align: right;\n",
       "    }\n",
       "</style>\n",
       "<table border=\"1\" class=\"dataframe\">\n",
       "  <thead>\n",
       "    <tr style=\"text-align: right;\">\n",
       "      <th></th>\n",
       "      <th>Date</th>\n",
       "      <th>User</th>\n",
       "      <th>Tweet</th>\n",
       "      <th>Length</th>\n",
       "      <th>tweet_length</th>\n",
       "      <th>word_number</th>\n",
       "      <th>Date_new</th>\n",
       "      <th>timedelta</th>\n",
       "    </tr>\n",
       "  </thead>\n",
       "  <tbody>\n",
       "    <tr>\n",
       "      <th>0</th>\n",
       "      <td>2009-05-20 22:29:00</td>\n",
       "      <td>realDonaldTrump</td>\n",
       "      <td>Read a great interview with Donald Trump that ...</td>\n",
       "      <td>112</td>\n",
       "      <td>112</td>\n",
       "      <td>16</td>\n",
       "      <td>2009-05-20 22:29:00</td>\n",
       "      <td>387.583333</td>\n",
       "    </tr>\n",
       "    <tr>\n",
       "      <th>1</th>\n",
       "      <td>2010-11-29 15:52:00</td>\n",
       "      <td>realDonaldTrump</td>\n",
       "      <td>Congratulations to Evan Lysacek for being nomi...</td>\n",
       "      <td>127</td>\n",
       "      <td>127</td>\n",
       "      <td>23</td>\n",
       "      <td>2010-11-29 15:52:00</td>\n",
       "      <td>13772.966667</td>\n",
       "    </tr>\n",
       "    <tr>\n",
       "      <th>2</th>\n",
       "      <td>2010-10-28 18:53:00</td>\n",
       "      <td>realDonaldTrump</td>\n",
       "      <td>I was on The View this morning. We talked abou...</td>\n",
       "      <td>139</td>\n",
       "      <td>139</td>\n",
       "      <td>23</td>\n",
       "      <td>2010-10-28 18:53:00</td>\n",
       "      <td>13007.983333</td>\n",
       "    </tr>\n",
       "    <tr>\n",
       "      <th>3</th>\n",
       "      <td>2010-11-24 17:20:00</td>\n",
       "      <td>realDonaldTrump</td>\n",
       "      <td>Tomorrow night's episode of The Apprentice del...</td>\n",
       "      <td>140</td>\n",
       "      <td>140</td>\n",
       "      <td>23</td>\n",
       "      <td>2010-11-24 17:20:00</td>\n",
       "      <td>13654.433333</td>\n",
       "    </tr>\n",
       "    <tr>\n",
       "      <th>4</th>\n",
       "      <td>2009-11-16 21:06:00</td>\n",
       "      <td>realDonaldTrump</td>\n",
       "      <td>Donald Trump Partners with TV1 on New Reality ...</td>\n",
       "      <td>116</td>\n",
       "      <td>116</td>\n",
       "      <td>14</td>\n",
       "      <td>2009-11-16 21:06:00</td>\n",
       "      <td>4706.200000</td>\n",
       "    </tr>\n",
       "  </tbody>\n",
       "</table>\n",
       "</div>"
      ],
      "text/plain": [
       "                  Date             User  \\\n",
       "0  2009-05-20 22:29:00  realDonaldTrump   \n",
       "1  2010-11-29 15:52:00  realDonaldTrump   \n",
       "2  2010-10-28 18:53:00  realDonaldTrump   \n",
       "3  2010-11-24 17:20:00  realDonaldTrump   \n",
       "4  2009-11-16 21:06:00  realDonaldTrump   \n",
       "\n",
       "                                               Tweet  Length  tweet_length  \\\n",
       "0  Read a great interview with Donald Trump that ...     112           112   \n",
       "1  Congratulations to Evan Lysacek for being nomi...     127           127   \n",
       "2  I was on The View this morning. We talked abou...     139           139   \n",
       "3  Tomorrow night's episode of The Apprentice del...     140           140   \n",
       "4  Donald Trump Partners with TV1 on New Reality ...     116           116   \n",
       "\n",
       "   word_number            Date_new     timedelta  \n",
       "0           16 2009-05-20 22:29:00    387.583333  \n",
       "1           23 2010-11-29 15:52:00  13772.966667  \n",
       "2           23 2010-10-28 18:53:00  13007.983333  \n",
       "3           23 2010-11-24 17:20:00  13654.433333  \n",
       "4           14 2009-11-16 21:06:00   4706.200000  "
      ]
     },
     "execution_count": 10,
     "metadata": {},
     "output_type": "execute_result"
    }
   ],
   "source": [
    "# aktuell sind die Werte noch nicht sortiert\n",
    "tweets_trump.head()"
   ]
  },
  {
   "cell_type": "code",
   "execution_count": 11,
   "metadata": {},
   "outputs": [],
   "source": [
    "# deswegen sortieren wir die Tabelle anhand der Spalte \"timedelta\"\n",
    "tweets_trump.sort_values('timedelta',inplace=True)"
   ]
  },
  {
   "cell_type": "markdown",
   "metadata": {},
   "source": [
    "Mit der Funktion ```plot(x, y)``` der Bibliothek ```matplotlib.pyplot``` können wir ein Liniendiagram erstellen, indem wir der Funktion zwei Listen mit Werten auf der x- und y- Achse geben:"
   ]
  },
  {
   "cell_type": "code",
   "execution_count": 12,
   "metadata": {},
   "outputs": [
    {
     "data": {
      "text/plain": [
       "<matplotlib.legend.Legend at 0x7fb4fa250be0>"
      ]
     },
     "execution_count": 12,
     "metadata": {},
     "output_type": "execute_result"
    },
    {
     "data": {
      "image/png": "[encoded data removed]",
      "text/plain": [
       "<Figure size 432x288 with 1 Axes>"
      ]
     },
     "metadata": {},
     "output_type": "display_data"
    }
   ],
   "source": [
    "# importiere die Bibliothek mit dem Kürzel \"plt\"\n",
    "import matplotlib.pyplot as plt\n",
    "%matplotlib inline\n",
    "\n",
    "# erstelle zwei Listen mit Datenpunkten für die \n",
    "# x-Achse und y-Achse\n",
    "x = range(10)\n",
    "y = [2,3,4,1,0,1,2,3,4,5]\n",
    "\n",
    "# plotte das Liniendiagramm\n",
    "plt.plot(x,y, label='irgendwelche Daten')\n",
    "\n",
    "# Achsenbeschriftungen, Titel und Legende funktionieren\n",
    "# genau gleich wie für Histogramme\n",
    "plt.xlabel('x-Wert')\n",
    "plt.ylabel('y-Wert')\n",
    "plt.title('Beispiel-Liniendiagramm')\n",
    "plt.legend()"
   ]
  },
  {
   "cell_type": "markdown",
   "metadata": {},
   "source": [
    "### Aufgaben\n",
    "**A.** Was ist das Datum und die Uhrzeit des frühesten und spätesten Tweets im Datensatz?  \n",
    "**B.** Erstelle ein Liniendiagramm der Tweet-Länge über der Zeit. Vergiss dabei nicht die Achsenbeschriftungen etc. Wie entwickelt sich die Tweet-Länge in der Zeit bevor Trump seine Kandidatur bekannt gibt? Wie danach? Wie kannst du dir die plötzlichen Sprünge in der Tweet-Länge erklären?  \n",
    "**C.** Mit den Funktionen ```plt.xlim(xmin, xmax)``` kannst du den Bereich auf der x-Achse einschränken, der im Diagramm angezeigt wird. Benutze diese Funktion, um dir kleinere Zeiträume genauer anzusehen.   \n",
    "\n",
    "Um in dem Trump-Datensatz besser nach Jahren filtern zu können, fügen wir eine Spalte mit der Jahreszahl hinzu:"
   ]
  },
  {
   "cell_type": "code",
   "execution_count": 13,
   "metadata": {},
   "outputs": [],
   "source": [
    "# das können wir so einfach tun, da die in der Spalte \"Date\" gespeicherten\n",
    "# datetime-Objekte ein Attribut .year haben, das uns direkten Zugriff auf das\n",
    "# Jahr gibt (ähnlich übrigens mit Monat und Tag).\n",
    "tweets_trump['year'] = [date.year for date in tweets_trump['Date_new']]"
   ]
  },
  {
   "cell_type": "markdown",
   "metadata": {},
   "source": [
    "**D.** Berechne für die einzelnen Jahre die Mittlere Tweet-Länge und die mittlere Anzahl der Worte pro Tweet. Visualisiere alle Größen über den Verlauf der Jahre. <font color='green'>**HINWEIS:** Den mittleren Zeitlichen Abstand zwischen Tweets musst du erst aus dem Datums- und Uhrzeitangaben berechnen. </font> Was siehst du und wie lässt sich die Abbildung interpretieren?  \n",
    "**E.** Auch die Funktion ```plot()``` hat viele verschiedene Argumente, mit denen man ihr Verhalten modifizieren kann. Mache dich mit der Dokumentation der Funktion vertraut und probiere ein paar Argumente aus, um die Abbildung zu verändern. Versuche insbesondere, die Darstellung der Linie zu verändern: aktuell ist die Linie einfach nur eine Linie. Möglich sind aber auch Punkte oder Striche. Was eignet sich für unsere Daten am besten und warum?  \n",
    "**F. (optional)** Rechne den zeitlichen Abstand zwischen den aufeinander folgenden Tweets aus und füge ihn als eine neuen Spalte zum DataFrame hinzu. Wieviele Tweets pro Stunde hat Trump über den gesamten betrachteten Zeitraum in etwa abgesetzt? Was ist der Median des Zeitabstandes? Wie interpretierst du die Diskrepanz zwischen Mittelwert und Median?  \n",
    "**G. (optional)** Errechne den Mittelwert und Median des Zeitabstands zwischen den Tweets für jedes einzelne Jahr im Datensatz. Visualisiere den zeitlichen Verlauf des Mittelwerts und Medians über die Jahre in einem Liniendiagramm. Vergiss nicht auf Achsenbeschriftungen etc.  \n",
    "**H. (optional)** Visualisiere die Zeitabstände in einem Histogram. Zeichne eine Linie bei 7 Stunden ein (wir nehmen einmal an, das ist in etwa die Zeit, die ein Mensch schläft). Kannst du aus der Visualisierung entnehmen, ob Donald Trump schläft?"
   ]
  },
  {
   "cell_type": "markdown",
   "metadata": {},
   "source": [
    "[Anfang](#top)"
   ]
  }
 ],
 "metadata": {
  "kernelspec": {
   "display_name": "Python 3",
   "language": "python",
   "name": "python3"
  },
  "language_info": {
   "codemirror_mode": {
    "name": "ipython",
    "version": 3
   },
   "file_extension": ".py",
   "mimetype": "text/x-python",
   "name": "python",
   "nbconvert_exporter": "python",
   "pygments_lexer": "ipython3",
   "version": "3.6.5"
  }
 },
 "nbformat": 4,
 "nbformat_minor": 2
}
