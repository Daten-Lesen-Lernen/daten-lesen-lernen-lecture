{
 "cells": [
  {
   "cell_type": "markdown",
   "metadata": {},
   "source": [
    "_Lizenz: Das folgende Lehrmaterial kann unter einer [CC-BY-SA 4.0](https://creativecommons.org/licenses/by/4.0/legalcode) Lizenz frei verwendet, verbreitet und modifiziert werden._   \n",
    " _Authoren: Jana Lasser (jana.lasser@ds.mpg.de)_  \n",
    " _Das Lehrmaterial wurde im Zuge des Projektes \"Daten Lesen Lernen\", gefördert vom Stifterverband und der Heinz Nixdorf Stiftung erstellt._"
   ]
  },
  {
   "cell_type": "markdown",
   "metadata": {},
   "source": [
    "# Lösungen zu Übung 05 - Allgemein: Daten einlesen, bereinigen und mit Histogrammen visualisieren\n",
    "### Praktische Hinweise\n",
    "$\\rightarrow$ Übungen sind dafür gedacht, dass ihr sie euch daheim anseht und versucht, ein paar Aufgaben selbst zu lösen. In den Tutorien könnt ihr euch weiter mit dem Lösungen der Aufgaben beschäftigen und dabei Hilfe von den Tutor*innen bekommen.  \n",
    "\n",
    "$\\rightarrow$ Wenn ein Fehler auftritt:\n",
    "1. Fehlermeldung _lesen_ und _verstehen_\n",
    "2. Versuchen, selbst eine Lösung zu finden ($\\rightarrow$ hier findet das Lernen statt!)\n",
    "3. Das Problem googlen (Stichwort: Stackoverflow) oder den/die Nachbar*in fragen\n",
    "4. Tutor*in fragen\n",
    "\n",
    "$\\rightarrow$ Unter <font color='green'>**HINWEIS**</font> werden Hinweise gegeben, die für die Lösung der Aufgabe hilfreich sind und oftmals auch weiterführende Informationen zur Aufgabe liefern.\n",
    "\n",
    "$\\rightarrow$ Mit **(Optional)** gekennzeichnete Übungsteile sind für besonders schnelle Menschen :-)."
   ]
  },
  {
   "cell_type": "markdown",
   "metadata": {},
   "source": [
    "<a name=\"top\"></a>Inhalt\n",
    "---\n",
    "In der nachfolgenden Fallstudie werden wir mehrere Datensätze mit Tweets untersuchen. Dabei vergleichen wir Tweets von \"normalen\" Twitter-Nutzern mit Tweets von Donald Trump und Tweets von russischen Trollen.\n",
    "\n",
    "Als Datenquellen verwenden wir öffentlich zugängliche Datensätze von Tweets:\n",
    "* [\"normale\" Twitter-User](http://help.sentiment140.com/for-students/)\n",
    "* [Donald Trump](https://github.com/mkearney/trumptweets)\n",
    "* [russische Trolle](https://github.com/fivethirtyeight/russian-troll-tweets/)\n",
    "\n",
    "Für die folgenden Übungen gibt es kein Lehrvideo. Deswegen wird es in den Jupyter-Notebooks zu den Übungen mehr Erklärungen und Zwischenschritte geben. Darüber hinaus haben ab dieser Woche auch nicht mehr alle Übungen der verschiedenen Übungsgruppen den exakt gleichen Inhalt, da einige Themenbereiche etwas unterschiedliche Werkzeuge brauchen als andere. Das Konzept ist aber überall das gleiche.  \n",
    "\n",
    "Die aktuelle Übung gliedert sich in drei Teile:\n",
    "\n",
    "* [Daten beschaffen](#daten_beschaffen)\n",
    "* [Daten erkunden](#daten_erkunden)\n",
    "* [Daten bereinigen](#daten_bereinigen)"
   ]
  },
  {
   "cell_type": "markdown",
   "metadata": {},
   "source": [
    "<a name=\"daten_beschaffen\"></a>1. Daten beschaffen\n",
    "---\n",
    "**A.** Mache dich mit den Datenquellen vertraut: Wer hat die Daten gesammelt und in welchem Kontext publiziert?    "
   ]
  },
  {
   "cell_type": "markdown",
   "metadata": {},
   "source": [
    "* [\"normale\" Twitter-User](http://help.sentiment140.com/for-students/) Diese Daten wurden eigentlich für eine sog. \"sentiment Analyse\", also eine Analyse der Gefühlslage des Twitter-Nutzers gesammelt. Außerdem sind die Daten auch nicht Open Source. Deshalb stellen wir die Daten nicht selbst zur Verfügung sondern verlassen uns darauf, dass die Studierenden sie sich selbst herunterladen. Die Methode, die der Datensammlung zu Grunde liegt, wird in [dieser Publikation](https://cs.stanford.edu/people/alecmgo/papers/TwitterDistantSupervision09.pdf) beschrieben. \n",
    "* [Donald Trump](https://github.com/mkearney/trumptweets) zur Datenquelle der Trump-Tweets gibt es keine genauere Dokumentation. Das sollte uns das hellhörig werden lassen und darauf hinweisen, dass die Datenquelle nicht unbedingt vertrauenswürdig ist. Eine Alternative wäre, die entsprechenden Tweets selbst zu sammeln.\n",
    "* [russische Trolle](https://github.com/fivethirtyeight/russian-troll-tweets/) Eine sehr gute Beschreibung des Datensatzes sowie der Methoden die angewandt wurden, um die Trolle zu identifizieren gibt es auf dem [GitHub Profil](https://github.com/fivethirtyeight/russian-troll-tweets/) des Projektes. Zum besseren Verständnis der Bedeutung des Datensatzes bietet sich auch [dieser](https://fivethirtyeight.com/features/why-were-sharing-3-million-russian-troll-tweets/) Artikel an."
   ]
  },
  {
   "cell_type": "markdown",
   "metadata": {},
   "source": [
    "**B.** Laden der Daten: Den Datensatz der \"normalen\" User müssen wir erst herunterladen, entpacken und können ihn dann als Pandas DataFrame laden:\n",
    "* folge dem Link http://cs.stanford.edu/people/alecmgo/trainingandtestdata.zip\n",
    "* lade das Archiv ```trainingtestdata``` mit dem Datensatz herunter\n",
    "* entpacke das Archiv\n",
    "* lies die Datei ```training.1600000.processed.noemoticon.csv``` wie folgt ein: "
   ]
  },
  {
   "cell_type": "code",
   "execution_count": 37,
   "metadata": {},
   "outputs": [
    {
     "data": {
      "text/html": [
       "<div>\n",
       "<style scoped>\n",
       "    .dataframe tbody tr th:only-of-type {\n",
       "        vertical-align: middle;\n",
       "    }\n",
       "\n",
       "    .dataframe tbody tr th {\n",
       "        vertical-align: top;\n",
       "    }\n",
       "\n",
       "    .dataframe thead th {\n",
       "        text-align: right;\n",
       "    }\n",
       "</style>\n",
       "<table border=\"1\" class=\"dataframe\">\n",
       "  <thead>\n",
       "    <tr style=\"text-align: right;\">\n",
       "      <th></th>\n",
       "      <th>0</th>\n",
       "      <th>1467810369</th>\n",
       "      <th>Mon Apr 06 22:19:45 PDT 2009</th>\n",
       "      <th>NO_QUERY</th>\n",
       "      <th>_TheSpecialOne_</th>\n",
       "      <th>@switchfoot http://twitpic.com/2y1zl - Awww, that's a bummer.  You shoulda got David Carr of Third Day to do it. ;D</th>\n",
       "    </tr>\n",
       "  </thead>\n",
       "  <tbody>\n",
       "    <tr>\n",
       "      <th>0</th>\n",
       "      <td>0</td>\n",
       "      <td>1467810672</td>\n",
       "      <td>Mon Apr 06 22:19:49 PDT 2009</td>\n",
       "      <td>NO_QUERY</td>\n",
       "      <td>scotthamilton</td>\n",
       "      <td>is upset that he can't update his Facebook by ...</td>\n",
       "    </tr>\n",
       "    <tr>\n",
       "      <th>1</th>\n",
       "      <td>0</td>\n",
       "      <td>1467810917</td>\n",
       "      <td>Mon Apr 06 22:19:53 PDT 2009</td>\n",
       "      <td>NO_QUERY</td>\n",
       "      <td>mattycus</td>\n",
       "      <td>@Kenichan I dived many times for the ball. Man...</td>\n",
       "    </tr>\n",
       "    <tr>\n",
       "      <th>2</th>\n",
       "      <td>0</td>\n",
       "      <td>1467811184</td>\n",
       "      <td>Mon Apr 06 22:19:57 PDT 2009</td>\n",
       "      <td>NO_QUERY</td>\n",
       "      <td>ElleCTF</td>\n",
       "      <td>my whole body feels itchy and like its on fire</td>\n",
       "    </tr>\n",
       "    <tr>\n",
       "      <th>3</th>\n",
       "      <td>0</td>\n",
       "      <td>1467811193</td>\n",
       "      <td>Mon Apr 06 22:19:57 PDT 2009</td>\n",
       "      <td>NO_QUERY</td>\n",
       "      <td>Karoli</td>\n",
       "      <td>@nationwideclass no, it's not behaving at all....</td>\n",
       "    </tr>\n",
       "    <tr>\n",
       "      <th>4</th>\n",
       "      <td>0</td>\n",
       "      <td>1467811372</td>\n",
       "      <td>Mon Apr 06 22:20:00 PDT 2009</td>\n",
       "      <td>NO_QUERY</td>\n",
       "      <td>joy_wolf</td>\n",
       "      <td>@Kwesidei not the whole crew</td>\n",
       "    </tr>\n",
       "  </tbody>\n",
       "</table>\n",
       "</div>"
      ],
      "text/plain": [
       "   0  1467810369  Mon Apr 06 22:19:45 PDT 2009  NO_QUERY _TheSpecialOne_  \\\n",
       "0  0  1467810672  Mon Apr 06 22:19:49 PDT 2009  NO_QUERY   scotthamilton   \n",
       "1  0  1467810917  Mon Apr 06 22:19:53 PDT 2009  NO_QUERY        mattycus   \n",
       "2  0  1467811184  Mon Apr 06 22:19:57 PDT 2009  NO_QUERY         ElleCTF   \n",
       "3  0  1467811193  Mon Apr 06 22:19:57 PDT 2009  NO_QUERY          Karoli   \n",
       "4  0  1467811372  Mon Apr 06 22:20:00 PDT 2009  NO_QUERY        joy_wolf   \n",
       "\n",
       "  @switchfoot http://twitpic.com/2y1zl - Awww, that's a bummer.  You shoulda got David Carr of Third Day to do it. ;D  \n",
       "0  is upset that he can't update his Facebook by ...                                                                   \n",
       "1  @Kenichan I dived many times for the ball. Man...                                                                   \n",
       "2    my whole body feels itchy and like its on fire                                                                    \n",
       "3  @nationwideclass no, it's not behaving at all....                                                                   \n",
       "4                      @Kwesidei not the whole crew                                                                    "
      ]
     },
     "execution_count": 37,
     "metadata": {},
     "output_type": "execute_result"
    }
   ],
   "source": [
    "# zum Laden und Speichern von Tabellen\n",
    "import pandas as pd \n",
    "\n",
    "# unter diesem Pfad sollte der Datensatz gespeichert sein\n",
    "pfad_normal = 'data/trainingandtestdata/training.1600000.processed.noemoticon.csv'\n",
    "tweets_normal_raw = pd.read_csv(pfad_normal, encoding=\"ISO-8859-1\")\n",
    "tweets_normal_raw.head()"
   ]
  },
  {
   "cell_type": "markdown",
   "metadata": {},
   "source": [
    "**HINWEIS:** durch das Argument ```encoding``` geben wir explizit an, welchen Standard für die Zeichenkodierung des Textes Pandas verwenden soll, um den Text in dem Datensatz zu interpretieren. Das ist insbesondre wichtig, da Tweets sehr viele Sonderzeichen enthalten können, die nicht im normalen Alphabet abgebildet sind.  \n",
    "Der hier verwendete Standard [ISO 8859-1](https://de.wikipedia.org/wiki/ISO_8859-1) ermöglicht es, den Tweet-Datensatz ohne Fehler einzulesen. Würden wir das encoding nicht explizit angeben, würde Pandas per Default [UTF-8](https://de.wikipedia.org/wiki/UTF-8) verwenden und einen ```UnicodeDecodeError``` produzieren.  \n",
    "\n",
    "Beim Einlesen fällt auf, dass der Datensatz keinen \"Header\" (also eine Kopfzeile mit den Namen der Spalten) enthält. Pandas verwendet automatisch die erste Zeile als Header, was in diesem Fall zu einem Falschen Ergebnis führt, da die erste Zeile bereits Daten enthält. Das können wir umgehen, indem wir beim Laden der Daten einen Header explizit angeben:"
   ]
  },
  {
   "cell_type": "code",
   "execution_count": 38,
   "metadata": {},
   "outputs": [
    {
     "data": {
      "text/html": [
       "<div>\n",
       "<style scoped>\n",
       "    .dataframe tbody tr th:only-of-type {\n",
       "        vertical-align: middle;\n",
       "    }\n",
       "\n",
       "    .dataframe tbody tr th {\n",
       "        vertical-align: top;\n",
       "    }\n",
       "\n",
       "    .dataframe thead th {\n",
       "        text-align: right;\n",
       "    }\n",
       "</style>\n",
       "<table border=\"1\" class=\"dataframe\">\n",
       "  <thead>\n",
       "    <tr style=\"text-align: right;\">\n",
       "      <th></th>\n",
       "      <th>sentiment</th>\n",
       "      <th>ID</th>\n",
       "      <th>Date</th>\n",
       "      <th>Query</th>\n",
       "      <th>User</th>\n",
       "      <th>Tweet</th>\n",
       "    </tr>\n",
       "  </thead>\n",
       "  <tbody>\n",
       "    <tr>\n",
       "      <th>0</th>\n",
       "      <td>0</td>\n",
       "      <td>1467810369</td>\n",
       "      <td>Mon Apr 06 22:19:45 PDT 2009</td>\n",
       "      <td>NO_QUERY</td>\n",
       "      <td>_TheSpecialOne_</td>\n",
       "      <td>@switchfoot http://twitpic.com/2y1zl - Awww, t...</td>\n",
       "    </tr>\n",
       "    <tr>\n",
       "      <th>1</th>\n",
       "      <td>0</td>\n",
       "      <td>1467810672</td>\n",
       "      <td>Mon Apr 06 22:19:49 PDT 2009</td>\n",
       "      <td>NO_QUERY</td>\n",
       "      <td>scotthamilton</td>\n",
       "      <td>is upset that he can't update his Facebook by ...</td>\n",
       "    </tr>\n",
       "    <tr>\n",
       "      <th>2</th>\n",
       "      <td>0</td>\n",
       "      <td>1467810917</td>\n",
       "      <td>Mon Apr 06 22:19:53 PDT 2009</td>\n",
       "      <td>NO_QUERY</td>\n",
       "      <td>mattycus</td>\n",
       "      <td>@Kenichan I dived many times for the ball. Man...</td>\n",
       "    </tr>\n",
       "    <tr>\n",
       "      <th>3</th>\n",
       "      <td>0</td>\n",
       "      <td>1467811184</td>\n",
       "      <td>Mon Apr 06 22:19:57 PDT 2009</td>\n",
       "      <td>NO_QUERY</td>\n",
       "      <td>ElleCTF</td>\n",
       "      <td>my whole body feels itchy and like its on fire</td>\n",
       "    </tr>\n",
       "    <tr>\n",
       "      <th>4</th>\n",
       "      <td>0</td>\n",
       "      <td>1467811193</td>\n",
       "      <td>Mon Apr 06 22:19:57 PDT 2009</td>\n",
       "      <td>NO_QUERY</td>\n",
       "      <td>Karoli</td>\n",
       "      <td>@nationwideclass no, it's not behaving at all....</td>\n",
       "    </tr>\n",
       "  </tbody>\n",
       "</table>\n",
       "</div>"
      ],
      "text/plain": [
       "   sentiment          ID                          Date     Query  \\\n",
       "0          0  1467810369  Mon Apr 06 22:19:45 PDT 2009  NO_QUERY   \n",
       "1          0  1467810672  Mon Apr 06 22:19:49 PDT 2009  NO_QUERY   \n",
       "2          0  1467810917  Mon Apr 06 22:19:53 PDT 2009  NO_QUERY   \n",
       "3          0  1467811184  Mon Apr 06 22:19:57 PDT 2009  NO_QUERY   \n",
       "4          0  1467811193  Mon Apr 06 22:19:57 PDT 2009  NO_QUERY   \n",
       "\n",
       "              User                                              Tweet  \n",
       "0  _TheSpecialOne_  @switchfoot http://twitpic.com/2y1zl - Awww, t...  \n",
       "1    scotthamilton  is upset that he can't update his Facebook by ...  \n",
       "2         mattycus  @Kenichan I dived many times for the ball. Man...  \n",
       "3          ElleCTF    my whole body feels itchy and like its on fire   \n",
       "4           Karoli  @nationwideclass no, it's not behaving at all....  "
      ]
     },
     "execution_count": 38,
     "metadata": {},
     "output_type": "execute_result"
    }
   ],
   "source": [
    "tweets_normal_raw = pd.read_csv(pfad_normal, \\\n",
    "            names=['sentiment','ID','Date','Query','User','Tweet'],\\\n",
    "            encoding=\"ISO-8859-1\")\n",
    "tweets_normal_raw.head()"
   ]
  },
  {
   "cell_type": "markdown",
   "metadata": {},
   "source": [
    "Die verschiedenen Argumente, um die Funktionsweise der Funktion ```read_csv()``` von Pandas zu modifizieren finden sich in der [Dokumentation](https://pandas.pydata.org/pandas-docs/stable/reference/api/pandas.read_csv.html) der Funktion. Falls eine Funktion nicht direkt das tut, was du erwartest, ist es oftmals eine gute Idee, als ersten Schritt in der Dokumentation nachzusehen.  \n",
    "\n",
    "Die anderen beiden Datensätze können wir direkt aus dem Internet herunterladen:"
   ]
  },
  {
   "cell_type": "code",
   "execution_count": 39,
   "metadata": {},
   "outputs": [
    {
     "name": "stderr",
     "output_type": "stream",
     "text": [
      "/home/jana/anaconda3/lib/python3.6/site-packages/IPython/core/interactiveshell.py:2785: DtypeWarning: Columns (15,30,31,32,36,37,38,42,43,44,45,46,47,50,51,52,56,57,58,59,60,61,62,63,64,65,66,67) have mixed types. Specify dtype option on import or set low_memory=False.\n",
      "  interactivity=interactivity, compiler=compiler, result=result)\n"
     ]
    },
    {
     "data": {
      "text/html": [
       "<div>\n",
       "<style scoped>\n",
       "    .dataframe tbody tr th:only-of-type {\n",
       "        vertical-align: middle;\n",
       "    }\n",
       "\n",
       "    .dataframe tbody tr th {\n",
       "        vertical-align: top;\n",
       "    }\n",
       "\n",
       "    .dataframe thead th {\n",
       "        text-align: right;\n",
       "    }\n",
       "</style>\n",
       "<table border=\"1\" class=\"dataframe\">\n",
       "  <thead>\n",
       "    <tr style=\"text-align: right;\">\n",
       "      <th></th>\n",
       "      <th>status_id</th>\n",
       "      <th>created_at</th>\n",
       "      <th>user_id</th>\n",
       "      <th>screen_name</th>\n",
       "      <th>text</th>\n",
       "      <th>source</th>\n",
       "      <th>display_text_width</th>\n",
       "      <th>reply_to_status_id</th>\n",
       "      <th>reply_to_user_id</th>\n",
       "      <th>reply_to_screen_name</th>\n",
       "      <th>...</th>\n",
       "      <th>retweet_verified</th>\n",
       "      <th>place_url</th>\n",
       "      <th>place_name</th>\n",
       "      <th>place_full_name</th>\n",
       "      <th>place_type</th>\n",
       "      <th>country</th>\n",
       "      <th>country_code</th>\n",
       "      <th>geo_coords</th>\n",
       "      <th>coords_coords</th>\n",
       "      <th>bbox_coords</th>\n",
       "    </tr>\n",
       "  </thead>\n",
       "  <tbody>\n",
       "    <tr>\n",
       "      <th>0</th>\n",
       "      <td>x1864367186</td>\n",
       "      <td>2009-05-20 22:29:47</td>\n",
       "      <td>x25073877</td>\n",
       "      <td>realDonaldTrump</td>\n",
       "      <td>Read a great interview with Donald Trump that ...</td>\n",
       "      <td>Twitter Web Client</td>\n",
       "      <td>112</td>\n",
       "      <td>NaN</td>\n",
       "      <td>NaN</td>\n",
       "      <td>NaN</td>\n",
       "      <td>...</td>\n",
       "      <td>NaN</td>\n",
       "      <td>NaN</td>\n",
       "      <td>NaN</td>\n",
       "      <td>NaN</td>\n",
       "      <td>NaN</td>\n",
       "      <td>NaN</td>\n",
       "      <td>NaN</td>\n",
       "      <td>NaN</td>\n",
       "      <td>NaN</td>\n",
       "      <td>NaN</td>\n",
       "    </tr>\n",
       "    <tr>\n",
       "      <th>1</th>\n",
       "      <td>x9273573134835712</td>\n",
       "      <td>2010-11-29 15:52:46</td>\n",
       "      <td>x25073877</td>\n",
       "      <td>realDonaldTrump</td>\n",
       "      <td>Congratulations to Evan Lysacek for being nomi...</td>\n",
       "      <td>Twitter Web Client</td>\n",
       "      <td>127</td>\n",
       "      <td>NaN</td>\n",
       "      <td>NaN</td>\n",
       "      <td>NaN</td>\n",
       "      <td>...</td>\n",
       "      <td>NaN</td>\n",
       "      <td>NaN</td>\n",
       "      <td>NaN</td>\n",
       "      <td>NaN</td>\n",
       "      <td>NaN</td>\n",
       "      <td>NaN</td>\n",
       "      <td>NaN</td>\n",
       "      <td>NaN</td>\n",
       "      <td>NaN</td>\n",
       "      <td>NaN</td>\n",
       "    </tr>\n",
       "    <tr>\n",
       "      <th>2</th>\n",
       "      <td>x29014512646</td>\n",
       "      <td>2010-10-28 18:53:40</td>\n",
       "      <td>x25073877</td>\n",
       "      <td>realDonaldTrump</td>\n",
       "      <td>I was on The View this morning. We talked abou...</td>\n",
       "      <td>Twitter Web Client</td>\n",
       "      <td>139</td>\n",
       "      <td>NaN</td>\n",
       "      <td>NaN</td>\n",
       "      <td>NaN</td>\n",
       "      <td>...</td>\n",
       "      <td>NaN</td>\n",
       "      <td>NaN</td>\n",
       "      <td>NaN</td>\n",
       "      <td>NaN</td>\n",
       "      <td>NaN</td>\n",
       "      <td>NaN</td>\n",
       "      <td>NaN</td>\n",
       "      <td>NaN</td>\n",
       "      <td>NaN</td>\n",
       "      <td>NaN</td>\n",
       "    </tr>\n",
       "    <tr>\n",
       "      <th>3</th>\n",
       "      <td>x7483813542232064</td>\n",
       "      <td>2010-11-24 17:20:54</td>\n",
       "      <td>x25073877</td>\n",
       "      <td>realDonaldTrump</td>\n",
       "      <td>Tomorrow night's episode of The Apprentice del...</td>\n",
       "      <td>Twitter Web Client</td>\n",
       "      <td>140</td>\n",
       "      <td>NaN</td>\n",
       "      <td>NaN</td>\n",
       "      <td>NaN</td>\n",
       "      <td>...</td>\n",
       "      <td>NaN</td>\n",
       "      <td>NaN</td>\n",
       "      <td>NaN</td>\n",
       "      <td>NaN</td>\n",
       "      <td>NaN</td>\n",
       "      <td>NaN</td>\n",
       "      <td>NaN</td>\n",
       "      <td>NaN</td>\n",
       "      <td>NaN</td>\n",
       "      <td>NaN</td>\n",
       "    </tr>\n",
       "    <tr>\n",
       "      <th>4</th>\n",
       "      <td>x5775731054</td>\n",
       "      <td>2009-11-16 21:06:10</td>\n",
       "      <td>x25073877</td>\n",
       "      <td>realDonaldTrump</td>\n",
       "      <td>Donald Trump Partners with TV1 on New Reality ...</td>\n",
       "      <td>Twitter Web Client</td>\n",
       "      <td>116</td>\n",
       "      <td>NaN</td>\n",
       "      <td>NaN</td>\n",
       "      <td>NaN</td>\n",
       "      <td>...</td>\n",
       "      <td>NaN</td>\n",
       "      <td>NaN</td>\n",
       "      <td>NaN</td>\n",
       "      <td>NaN</td>\n",
       "      <td>NaN</td>\n",
       "      <td>NaN</td>\n",
       "      <td>NaN</td>\n",
       "      <td>NaN</td>\n",
       "      <td>NaN</td>\n",
       "      <td>NaN</td>\n",
       "    </tr>\n",
       "  </tbody>\n",
       "</table>\n",
       "<p>5 rows × 68 columns</p>\n",
       "</div>"
      ],
      "text/plain": [
       "           status_id           created_at    user_id      screen_name  \\\n",
       "0        x1864367186  2009-05-20 22:29:47  x25073877  realDonaldTrump   \n",
       "1  x9273573134835712  2010-11-29 15:52:46  x25073877  realDonaldTrump   \n",
       "2       x29014512646  2010-10-28 18:53:40  x25073877  realDonaldTrump   \n",
       "3  x7483813542232064  2010-11-24 17:20:54  x25073877  realDonaldTrump   \n",
       "4        x5775731054  2009-11-16 21:06:10  x25073877  realDonaldTrump   \n",
       "\n",
       "                                                text              source  \\\n",
       "0  Read a great interview with Donald Trump that ...  Twitter Web Client   \n",
       "1  Congratulations to Evan Lysacek for being nomi...  Twitter Web Client   \n",
       "2  I was on The View this morning. We talked abou...  Twitter Web Client   \n",
       "3  Tomorrow night's episode of The Apprentice del...  Twitter Web Client   \n",
       "4  Donald Trump Partners with TV1 on New Reality ...  Twitter Web Client   \n",
       "\n",
       "   display_text_width reply_to_status_id reply_to_user_id  \\\n",
       "0                 112                NaN              NaN   \n",
       "1                 127                NaN              NaN   \n",
       "2                 139                NaN              NaN   \n",
       "3                 140                NaN              NaN   \n",
       "4                 116                NaN              NaN   \n",
       "\n",
       "  reply_to_screen_name     ...      retweet_verified  place_url  place_name  \\\n",
       "0                  NaN     ...                   NaN        NaN         NaN   \n",
       "1                  NaN     ...                   NaN        NaN         NaN   \n",
       "2                  NaN     ...                   NaN        NaN         NaN   \n",
       "3                  NaN     ...                   NaN        NaN         NaN   \n",
       "4                  NaN     ...                   NaN        NaN         NaN   \n",
       "\n",
       "   place_full_name place_type country country_code geo_coords coords_coords  \\\n",
       "0              NaN        NaN     NaN          NaN        NaN           NaN   \n",
       "1              NaN        NaN     NaN          NaN        NaN           NaN   \n",
       "2              NaN        NaN     NaN          NaN        NaN           NaN   \n",
       "3              NaN        NaN     NaN          NaN        NaN           NaN   \n",
       "4              NaN        NaN     NaN          NaN        NaN           NaN   \n",
       "\n",
       "  bbox_coords  \n",
       "0         NaN  \n",
       "1         NaN  \n",
       "2         NaN  \n",
       "3         NaN  \n",
       "4         NaN  \n",
       "\n",
       "[5 rows x 68 columns]"
      ]
     },
     "execution_count": 39,
     "metadata": {},
     "output_type": "execute_result"
    }
   ],
   "source": [
    "# Bibliotheken zum Laden von Daten aus dem Internet\n",
    "import requests \n",
    "import io\n",
    "\n",
    "# die URL unter der der Trump-Tweet-Datensatz zu finden ist\n",
    "url_trump = \"https://github.com/mkearney/trumptweets/raw/master/data/trumptweets-1515775693.tweets.csv\"\n",
    "\n",
    "# lies die Information von der in der URL hinterlegten Website aus\n",
    "# diesmal geben wir das encoding schon an dieser Stelle an\n",
    "antwort_trump = requests.get(url_trump).content\n",
    "inhalt_trump = io.StringIO(antwort_trump.decode('ISO-8859-1'))\n",
    "\n",
    "# lade die Daten in ein DataFrame und zeige die ersten paar Zeilen an\n",
    "tweets_trump_raw = pd.read_csv(inhalt_trump)\n",
    "tweets_trump_raw.head()"
   ]
  },
  {
   "cell_type": "code",
   "execution_count": 40,
   "metadata": {},
   "outputs": [
    {
     "data": {
      "text/html": [
       "<div>\n",
       "<style scoped>\n",
       "    .dataframe tbody tr th:only-of-type {\n",
       "        vertical-align: middle;\n",
       "    }\n",
       "\n",
       "    .dataframe tbody tr th {\n",
       "        vertical-align: top;\n",
       "    }\n",
       "\n",
       "    .dataframe thead th {\n",
       "        text-align: right;\n",
       "    }\n",
       "</style>\n",
       "<table border=\"1\" class=\"dataframe\">\n",
       "  <thead>\n",
       "    <tr style=\"text-align: right;\">\n",
       "      <th></th>\n",
       "      <th>external_author_id</th>\n",
       "      <th>author</th>\n",
       "      <th>content</th>\n",
       "      <th>region</th>\n",
       "      <th>language</th>\n",
       "      <th>publish_date</th>\n",
       "      <th>harvested_date</th>\n",
       "      <th>following</th>\n",
       "      <th>followers</th>\n",
       "      <th>updates</th>\n",
       "      <th>...</th>\n",
       "      <th>account_type</th>\n",
       "      <th>retweet</th>\n",
       "      <th>account_category</th>\n",
       "      <th>new_june_2018</th>\n",
       "      <th>alt_external_id</th>\n",
       "      <th>tweet_id</th>\n",
       "      <th>article_url</th>\n",
       "      <th>tco1_step1</th>\n",
       "      <th>tco2_step1</th>\n",
       "      <th>tco3_step1</th>\n",
       "    </tr>\n",
       "  </thead>\n",
       "  <tbody>\n",
       "    <tr>\n",
       "      <th>0</th>\n",
       "      <td>906000000000000000</td>\n",
       "      <td>10_GOP</td>\n",
       "      <td>\"We have a sitting Democrat US Senator on tria...</td>\n",
       "      <td>Unknown</td>\n",
       "      <td>English</td>\n",
       "      <td>10/1/2017 19:58</td>\n",
       "      <td>10/1/2017 19:59</td>\n",
       "      <td>1052</td>\n",
       "      <td>9636</td>\n",
       "      <td>253</td>\n",
       "      <td>...</td>\n",
       "      <td>Right</td>\n",
       "      <td>0</td>\n",
       "      <td>RightTroll</td>\n",
       "      <td>0</td>\n",
       "      <td>905874659358453760</td>\n",
       "      <td>914580356430536707</td>\n",
       "      <td>http://twitter.com/905874659358453760/statuses...</td>\n",
       "      <td>https://twitter.com/10_gop/status/914580356430...</td>\n",
       "      <td>NaN</td>\n",
       "      <td>NaN</td>\n",
       "    </tr>\n",
       "    <tr>\n",
       "      <th>1</th>\n",
       "      <td>906000000000000000</td>\n",
       "      <td>10_GOP</td>\n",
       "      <td>Marshawn Lynch arrives to game in anti-Trump s...</td>\n",
       "      <td>Unknown</td>\n",
       "      <td>English</td>\n",
       "      <td>10/1/2017 22:43</td>\n",
       "      <td>10/1/2017 22:43</td>\n",
       "      <td>1054</td>\n",
       "      <td>9637</td>\n",
       "      <td>254</td>\n",
       "      <td>...</td>\n",
       "      <td>Right</td>\n",
       "      <td>0</td>\n",
       "      <td>RightTroll</td>\n",
       "      <td>0</td>\n",
       "      <td>905874659358453760</td>\n",
       "      <td>914621840496189440</td>\n",
       "      <td>http://twitter.com/905874659358453760/statuses...</td>\n",
       "      <td>https://twitter.com/damienwoody/status/9145685...</td>\n",
       "      <td>NaN</td>\n",
       "      <td>NaN</td>\n",
       "    </tr>\n",
       "    <tr>\n",
       "      <th>2</th>\n",
       "      <td>906000000000000000</td>\n",
       "      <td>10_GOP</td>\n",
       "      <td>Daughter of fallen Navy Sailor delivers powerf...</td>\n",
       "      <td>Unknown</td>\n",
       "      <td>English</td>\n",
       "      <td>10/1/2017 22:50</td>\n",
       "      <td>10/1/2017 22:51</td>\n",
       "      <td>1054</td>\n",
       "      <td>9637</td>\n",
       "      <td>255</td>\n",
       "      <td>...</td>\n",
       "      <td>Right</td>\n",
       "      <td>1</td>\n",
       "      <td>RightTroll</td>\n",
       "      <td>0</td>\n",
       "      <td>905874659358453760</td>\n",
       "      <td>914623490375979008</td>\n",
       "      <td>http://twitter.com/905874659358453760/statuses...</td>\n",
       "      <td>https://twitter.com/10_gop/status/913231923715...</td>\n",
       "      <td>NaN</td>\n",
       "      <td>NaN</td>\n",
       "    </tr>\n",
       "    <tr>\n",
       "      <th>3</th>\n",
       "      <td>906000000000000000</td>\n",
       "      <td>10_GOP</td>\n",
       "      <td>JUST IN: President Trump dedicates Presidents ...</td>\n",
       "      <td>Unknown</td>\n",
       "      <td>English</td>\n",
       "      <td>10/1/2017 23:52</td>\n",
       "      <td>10/1/2017 23:52</td>\n",
       "      <td>1062</td>\n",
       "      <td>9642</td>\n",
       "      <td>256</td>\n",
       "      <td>...</td>\n",
       "      <td>Right</td>\n",
       "      <td>0</td>\n",
       "      <td>RightTroll</td>\n",
       "      <td>0</td>\n",
       "      <td>905874659358453760</td>\n",
       "      <td>914639143690555392</td>\n",
       "      <td>http://twitter.com/905874659358453760/statuses...</td>\n",
       "      <td>https://twitter.com/10_gop/status/914639143690...</td>\n",
       "      <td>NaN</td>\n",
       "      <td>NaN</td>\n",
       "    </tr>\n",
       "    <tr>\n",
       "      <th>4</th>\n",
       "      <td>906000000000000000</td>\n",
       "      <td>10_GOP</td>\n",
       "      <td>19,000 RESPECTING our National Anthem! #StandF...</td>\n",
       "      <td>Unknown</td>\n",
       "      <td>English</td>\n",
       "      <td>10/1/2017 2:13</td>\n",
       "      <td>10/1/2017 2:13</td>\n",
       "      <td>1050</td>\n",
       "      <td>9645</td>\n",
       "      <td>246</td>\n",
       "      <td>...</td>\n",
       "      <td>Right</td>\n",
       "      <td>1</td>\n",
       "      <td>RightTroll</td>\n",
       "      <td>0</td>\n",
       "      <td>905874659358453760</td>\n",
       "      <td>914312219952861184</td>\n",
       "      <td>http://twitter.com/905874659358453760/statuses...</td>\n",
       "      <td>https://twitter.com/realDonaldTrump/status/914...</td>\n",
       "      <td>NaN</td>\n",
       "      <td>NaN</td>\n",
       "    </tr>\n",
       "  </tbody>\n",
       "</table>\n",
       "<p>5 rows × 21 columns</p>\n",
       "</div>"
      ],
      "text/plain": [
       "   external_author_id  author  \\\n",
       "0  906000000000000000  10_GOP   \n",
       "1  906000000000000000  10_GOP   \n",
       "2  906000000000000000  10_GOP   \n",
       "3  906000000000000000  10_GOP   \n",
       "4  906000000000000000  10_GOP   \n",
       "\n",
       "                                             content   region language  \\\n",
       "0  \"We have a sitting Democrat US Senator on tria...  Unknown  English   \n",
       "1  Marshawn Lynch arrives to game in anti-Trump s...  Unknown  English   \n",
       "2  Daughter of fallen Navy Sailor delivers powerf...  Unknown  English   \n",
       "3  JUST IN: President Trump dedicates Presidents ...  Unknown  English   \n",
       "4  19,000 RESPECTING our National Anthem! #StandF...  Unknown  English   \n",
       "\n",
       "      publish_date   harvested_date  following  followers  updates    ...      \\\n",
       "0  10/1/2017 19:58  10/1/2017 19:59       1052       9636      253    ...       \n",
       "1  10/1/2017 22:43  10/1/2017 22:43       1054       9637      254    ...       \n",
       "2  10/1/2017 22:50  10/1/2017 22:51       1054       9637      255    ...       \n",
       "3  10/1/2017 23:52  10/1/2017 23:52       1062       9642      256    ...       \n",
       "4   10/1/2017 2:13   10/1/2017 2:13       1050       9645      246    ...       \n",
       "\n",
       "  account_type retweet  account_category new_june_2018     alt_external_id  \\\n",
       "0        Right       0        RightTroll             0  905874659358453760   \n",
       "1        Right       0        RightTroll             0  905874659358453760   \n",
       "2        Right       1        RightTroll             0  905874659358453760   \n",
       "3        Right       0        RightTroll             0  905874659358453760   \n",
       "4        Right       1        RightTroll             0  905874659358453760   \n",
       "\n",
       "             tweet_id                                        article_url  \\\n",
       "0  914580356430536707  http://twitter.com/905874659358453760/statuses...   \n",
       "1  914621840496189440  http://twitter.com/905874659358453760/statuses...   \n",
       "2  914623490375979008  http://twitter.com/905874659358453760/statuses...   \n",
       "3  914639143690555392  http://twitter.com/905874659358453760/statuses...   \n",
       "4  914312219952861184  http://twitter.com/905874659358453760/statuses...   \n",
       "\n",
       "                                          tco1_step1 tco2_step1 tco3_step1  \n",
       "0  https://twitter.com/10_gop/status/914580356430...        NaN        NaN  \n",
       "1  https://twitter.com/damienwoody/status/9145685...        NaN        NaN  \n",
       "2  https://twitter.com/10_gop/status/913231923715...        NaN        NaN  \n",
       "3  https://twitter.com/10_gop/status/914639143690...        NaN        NaN  \n",
       "4  https://twitter.com/realDonaldTrump/status/914...        NaN        NaN  \n",
       "\n",
       "[5 rows x 21 columns]"
      ]
     },
     "execution_count": 40,
     "metadata": {},
     "output_type": "execute_result"
    }
   ],
   "source": [
    "# die URL unter der der Troll-Tweet-Datensatz zu finden ist\n",
    "url_troll = 'https://github.com/fivethirtyeight/russian-troll-tweets/raw/master/IRAhandle_tweets_1.csv'\n",
    "\n",
    "# lies die Information von der in der URL hinterlegten Website aus\n",
    "# auch hier geben wir das encoding schon an dieser Stelle an\n",
    "antwort_troll = requests.get(url_troll).content\n",
    "inhalt_troll = io.StringIO(antwort_troll.decode('ISO-8859-1'))\n",
    "\n",
    "# lade die Daten in ein DataFrame und zeige die ersten paar Zeilen an\n",
    "tweets_troll_raw = pd.read_csv(inhalt_troll)\n",
    "tweets_troll_raw.head()"
   ]
  },
  {
   "cell_type": "markdown",
   "metadata": {},
   "source": [
    "Schlussendlich speichern wir die \"rohen\" Datensätze einmal mit der Funktion ```to_csv()``` ab, bevor wir anfangen, sie zu bearbeiten:"
   ]
  },
  {
   "cell_type": "code",
   "execution_count": 41,
   "metadata": {},
   "outputs": [],
   "source": [
    "tweets_normal_raw.to_csv('data/tweets_normal_raw.csv', index=False, line_terminator='\\n')\n",
    "tweets_trump_raw.to_csv('data/tweets_trump_raw.csv', index=False, line_terminator='\\n')\n",
    "tweets_troll_raw.to_csv('data/tweets_troll_raw.csv', index=False, line_terminator='\\n')"
   ]
  },
  {
   "cell_type": "markdown",
   "metadata": {},
   "source": [
    "NOTIZ (1): Wir benutzen hier das Argument ```line_terminator='\\n'```. Das Argument ```line_terminator``` legt fest, welche Buchstabenkombination benutzt wird, um einen Zeilenumbruch zu erzeugen. Tweet-Texte enthalten manchmal Buchstabenkombinationen, die als Zeilenumbrüche interpretiert werden. Das zerstört dann die Formatierung der Tabelle. Wir legen deshalb explizit eine Buchstabenkombination als Zeilenumbruch fest, damit das nicht passiert. Beim laden der so gespeicherten Datensätze müssen wir dann natürlich auch darauf achten, das Argument ```lineterminator``` entsprechend zu setzen (achtung, **kein** Unterstrich hier!)."
   ]
  },
  {
   "cell_type": "markdown",
   "metadata": {},
   "source": [
    "NOTIZ (2): das Argument ```index=False``` sorgt dafür, dass der Index (also die Zahlen 1, 2, 3, ... am linken Rand der Tabelle) nicht mit abgespeichert werden."
   ]
  },
  {
   "cell_type": "markdown",
   "metadata": {},
   "source": [
    "[Anfang](#top)"
   ]
  },
  {
   "cell_type": "markdown",
   "metadata": {},
   "source": [
    "<a name=\"daten_erkunden\"></a>2. Daten erkunden\n",
    "---\n",
    "Zu Beginn möchten wir ein paar grundlegende Dinge über den Datensatz herausfinden: z.B. die enthaltene Information, die Anzahl der Tweets in jedem der Datensätze und die Anzahl der User.  \n",
    "Die Namen der Spalten eines DataFrame lassen sich über die Variable ```columns``` des DataFrames ansehen:"
   ]
  },
  {
   "cell_type": "code",
   "execution_count": 42,
   "metadata": {},
   "outputs": [
    {
     "data": {
      "text/plain": [
       "Index(['external_author_id', 'author', 'content', 'region', 'language',\n",
       "       'publish_date', 'harvested_date', 'following', 'followers', 'updates',\n",
       "       'post_type', 'account_type', 'retweet', 'account_category',\n",
       "       'new_june_2018', 'alt_external_id', 'tweet_id', 'article_url',\n",
       "       'tco1_step1', 'tco2_step1', 'tco3_step1'],\n",
       "      dtype='object')"
      ]
     },
     "execution_count": 42,
     "metadata": {},
     "output_type": "execute_result"
    }
   ],
   "source": [
    "# eine Liste der im DataFrame \"tweets_troll_raw\" enthaltenen Spalten\n",
    "tweets_troll_raw.columns"
   ]
  },
  {
   "cell_type": "markdown",
   "metadata": {},
   "source": [
    "In einem DataFrame können wir auf eine bestimmte Spalte mit ihrem Namen zugreifen:"
   ]
  },
  {
   "cell_type": "code",
   "execution_count": 10,
   "metadata": {},
   "outputs": [
    {
     "data": {
      "text/plain": [
       "0                  10_GOP\n",
       "1                  10_GOP\n",
       "2                  10_GOP\n",
       "3                  10_GOP\n",
       "4                  10_GOP\n",
       "5                  10_GOP\n",
       "6                  10_GOP\n",
       "7                  10_GOP\n",
       "8                  10_GOP\n",
       "9                  10_GOP\n",
       "10                 10_GOP\n",
       "11                 10_GOP\n",
       "12                 10_GOP\n",
       "13                 10_GOP\n",
       "14                 10_GOP\n",
       "15                 10_GOP\n",
       "16                 10_GOP\n",
       "17                 10_GOP\n",
       "18                 10_GOP\n",
       "19                 10_GOP\n",
       "20                 10_GOP\n",
       "21                 10_GOP\n",
       "22                 10_GOP\n",
       "23                 10_GOP\n",
       "24                 10_GOP\n",
       "25                 10_GOP\n",
       "26                 10_GOP\n",
       "27                 10_GOP\n",
       "28                 10_GOP\n",
       "29                 10_GOP\n",
       "               ...       \n",
       "243861    AUSTINLOVESBEER\n",
       "243862    AUSTINLOVESBEER\n",
       "243863    AUSTINLOVESBEER\n",
       "243864    AUSTINLOVESBEER\n",
       "243865    AUSTINLOVESBEER\n",
       "243866    AUSTINLOVESBEER\n",
       "243867    AUSTINLOVESBEER\n",
       "243868    AUSTINLOVESBEER\n",
       "243869    AUSTINLOVESBEER\n",
       "243870    AUSTINLOVESBEER\n",
       "243871    AUSTINLOVESBEER\n",
       "243872    AUSTINLOVESBEER\n",
       "243873    AUSTINLOVESBEER\n",
       "243874    AUSTINLOVESBEER\n",
       "243875    AUSTINLOVESBEER\n",
       "243876    AUSTINLOVESBEER\n",
       "243877    AUSTINLOVESBEER\n",
       "243878    AUSTINLOVESBEER\n",
       "243879    AUSTINLOVESBEER\n",
       "243880    AUSTINLOVESBEER\n",
       "243881    AUSTINLOVESBEER\n",
       "243882    AUSTINLOVESBEER\n",
       "243883    AUSTINLOVESBEER\n",
       "243884    AUSTINLOVESBEER\n",
       "243885    AUSTINLOVESBEER\n",
       "243886    AUSTINLOVESBEER\n",
       "243887    AUSTINLOVESBEER\n",
       "243888    AUSTINLOVESBEER\n",
       "243889    AUSTINLOVESBEER\n",
       "243890    AUSTINLOVESBEER\n",
       "Name: author, Length: 243891, dtype: object"
      ]
     },
     "execution_count": 10,
     "metadata": {},
     "output_type": "execute_result"
    }
   ],
   "source": [
    "# zeigt die Spalte mit dem Namen \"author\" im DataFrame \n",
    "# \"tweets_troll_raw\" an\n",
    "tweets_troll_raw.author"
   ]
  },
  {
   "cell_type": "markdown",
   "metadata": {},
   "source": [
    "Mit der Funktion ```unique()``` lassen sich die einzigartigen Einträge in einer Spalte herausfinden:"
   ]
  },
  {
   "cell_type": "code",
   "execution_count": 11,
   "metadata": {},
   "outputs": [
    {
     "data": {
      "text/plain": [
       "array(['10_GOP', '1488REASONS', '1D_NICOLE_', '1ERIK_LEE', '1LORENAFAVA1',\n",
       "       '2NDHALFONION', '459JISALGE', '4EVER1937', '4EVER_SUSAN',\n",
       "       '4MYSQUAD', '5EMEN5EMENICH', '5L5_5L5', '666STEVEROGERS', '6DRUZ',\n",
       "       '71BILALJAMIL1', 'AAASSSSSHHH', 'AAATEST1234', 'AAAVADAKEDAVRAA',\n",
       "       'AAGN1AA', 'AANTIRACIST', 'AARONALLENALL', 'AARON_M1TCHELL',\n",
       "       'ABALAKOVAYLIA', 'ABBASSHUKRI', 'ABBYLOPTRT', 'ABELLABAB',\n",
       "       'ABIGAILCALLME', 'ABIGAILSSILK', 'ABIISSROSB', 'ABISADMASST',\n",
       "       'ABMERRLINS', 'ABOUTPOLIT', 'ABRAMSREBEKAH', 'ABUNUWASA',\n",
       "       'ABU_UBAIDA2', 'ACAB_ZONE', 'ACAPARELLA', 'ACEJINEV',\n",
       "       'ACHSAHORKHAN', 'ACTIVEMIKR', 'ADALESTRTM', 'ADAMCHAPMANJR',\n",
       "       'ADAMMA_DEFOND', 'ADAM_MATHISSS', 'ADDIE_HOL', 'ADELE_BROCK',\n",
       "       'ADELIINESTRT', 'ADELINE_GS', 'ADELISTRTT', 'ADKEZLATE',\n",
       "       'ADLEESTTT', 'ADLEESWOD', 'ADNNELSTR', 'ADRGREERR', 'ADRIANAMFTTT',\n",
       "       'ADRIASNSS', 'ADRIENNE_GG', 'ADRI_LOW_R', 'AESPARZZA', 'AFEELIUTR',\n",
       "       'AFIFYAMIRA1', 'AFONIA_ZHILCOV', 'AFONINMIXAIL', 'AFRICAVSERDCE',\n",
       "       'AFUCKINSIDE', 'AGAFONME', 'AGAINUKRFAKE', 'AGATA_ALEXEEVA',\n",
       "       'AGITPOLK', 'AGNESGRHM', 'AGNESMLTRT', 'AGNESSTRYT',\n",
       "       'AHMADHUSSEINII', 'AHMADRADJAB', 'AHMADYOUSEF23', 'AHMADYUSUFF03',\n",
       "       'AHMANSOUR91061', 'AHNORDYK', 'AHOGAN_AM', 'AH_VERONIKI',\n",
       "       'AIDEN7757', 'AKOROMYSLOVA', 'ALANISSTRS', 'ALAXXATR', 'ALAXXATRT',\n",
       "       'ALBELITATRTS', 'ALBERTA_HAYNESS', 'ALBERTMORENMORE',\n",
       "       'ALBUQUERQUEON', 'ALDRICH420', 'ALECMOOOOODY', 'ALEESATRS',\n",
       "       'ALEKSANISIMOF', 'ALEKSEY_SOKOL_', 'ALEMICHLESS', 'ALENAZELDINA',\n",
       "       'ALESISTRTT', 'ALESSIAWILLSON', 'ALEXBORONIN', 'ALEXHARRITONOV',\n",
       "       'ALEXISFOXIE', 'ALEXLOVESSHENNA', 'ALEXMMYER', 'ALEXSVLADIMIROV',\n",
       "       'ALEXWARNINGU', 'ALEXXBELYAEV', 'ALEXXDRTRR', 'ALEX_DUGIN',\n",
       "       'ALEX___ANT', 'ALFNEWDAY', 'ALFREDBENBEN', 'ALFREDTHREE',\n",
       "       'ALI27HUSSEIN', 'ALIDANILOVSKAYA', 'ALIISTRR', 'ALINAANTONCHIK',\n",
       "       'ALINALINKI_', 'ALINANOVIKOV022', 'ALINAVIATKOVA', 'ALINA_9_1',\n",
       "       'ALISA_FRATKINA', 'ALISONDAVOL', 'ALIZASSHIELD', 'ALLAHOMORE',\n",
       "       'ALLBERRTOSS', 'ALLFORPETERSONS', 'ALMOSTSAINTGIRL', 'ALODOY',\n",
       "       'ALTMANBELINDA', 'ALTMANCOON', 'ALVA_MC_GHEE', 'ALWAYSHUNGRYBAE',\n",
       "       'ALW_ILL', 'ALYSSABEDOLLA', 'AMALIAHULICK', 'AMALIA_PETTY',\n",
       "       'AMAMCAMCAM', 'AMANDAVGREEN', 'AMBAASTRT', 'AMBBERTHTT',\n",
       "       'AMBERDAVV', 'AMBERLINETR', 'AMBERRPAR', 'AMCONVOICE',\n",
       "       'AMELCREECH', 'AMELIEBALDWIN', 'AMELINAASTR', 'AMERICANALBERT',\n",
       "       'AMIISTRS', 'AMIRAFERRR', 'AMIRAHPOPE', 'AMIRICANWILL',\n",
       "       'AMIYAHSAMUELS', 'AMYGRABMYESSAY', 'AMYMUSICLL', 'AMYYSLEGENTR',\n",
       "       'AMYYSSTS', 'AMYYTHOSSMA', 'ANAAISLEC', 'ANAALESSIS',\n",
       "       'ANASTASIAR777', 'ANASTASSIAZZ', 'ANASTASSITR', 'ANATOLINEMCOV',\n",
       "       'ANATOLRMNFF', 'ANBIVALENTNAYA', 'ANCARICTRS', 'ANDEERLWR',\n",
       "       'ANDEYNESTEROV', 'ANDIOSMARRTRUMP', 'ANDREASEULITZ', 'ANDREBAKIN',\n",
       "       'ANDREBEAULEGER', 'ANDREJFROLOV69', 'ANDREWHEDDD',\n",
       "       'ANDREYYKONDRAT1', 'ANDREY_LISCHINA', 'ANDRISNABRT', 'ANDRIYCCCP',\n",
       "       'ANDROFAG', 'ANDRREETRT', 'ANDRUNINVANYA', 'ANDRYNAUMOV',\n",
       "       'ANDRY_VOLK', 'ANDSBXX30', 'ANDYDREWDANIELS', 'ANDYHASHTAGGER',\n",
       "       'ANDY_PUCHINSKYI', 'ANEELSSTRT', 'ANETTANOVGOROD', 'ANFINRUDSADIE',\n",
       "       'ANFISAMICKEY', 'ANFRAIZER', 'ANGEELISHET', 'ANGEELISTR',\n",
       "       'ANGELABACH991', 'ANGELA_LATTKE', 'ANGELIKAMUSI',\n",
       "       'ANGELIKOROTKOVA', 'ANGELINADARCY_', 'ANGELINALADOVA',\n",
       "       'ANGELISTRR', 'ANGELITHSS', 'ANGELOENOUGH', 'ANGISDOOYL',\n",
       "       'ANGTHEESTR', 'ANG__BOWERS', 'ANIIANTRS', 'ANISACRRUTR',\n",
       "       'ANISILOPE', 'ANISSNOVOTR', 'ANITABR1994', 'ANITALOVEHEART',\n",
       "       'ANJELICAFAMOUS', 'ANKIDINOVAKIRA', 'ANN1EMCCONNELL',\n",
       "       'ANNABEZGUZIKOVA', 'ANNAMARFINA', 'ANNAMINGT', 'ANNAROMAN0',\n",
       "       'ANNA_VYSOKAYA', 'ANNETTETEAL1', 'ANNIEISBEAR', 'ANNIEPOSHES',\n",
       "       'ANNIJONSTR', 'ANNSAM_SAM', 'ANNY_DUBI', 'ANN_HANAH',\n",
       "       'ANN__BOGDANOVA', 'ANORAVERD', 'ANOSSOVV', 'ANTHONYCANLASS',\n",
       "       'ANTHONYCARTR', 'ANTHONYWOODBOY', 'ANTIEHARMON', 'ANTONFROMSPB',\n",
       "       'ANTONHAYHAY', 'ANTONINAPERVAY', 'ANTONOVMENMENCO', 'ANTONRUMSS',\n",
       "       'ANTOSHAKARGIN', 'ANTYSHEVALIDA', 'ANWARGAFUR', 'ANWARJAMIL22',\n",
       "       'ANYA_ISA1282', 'ANZGRI', 'AN_NA__AN', 'AN_N_GASTON',\n",
       "       'APRIILDTRUT', 'APRRILSBRUSS', 'APUHNA', 'ARABMTR', 'ARAGARTRR',\n",
       "       'ARCHIEOLIVERS', 'ARESTOVEVG', 'ARGENTINACATLE1', 'ARIAANST',\n",
       "       'ARIANNA_PER_RY', 'ARIEENSLPE', 'ARIELLE_BROWNIN', 'ARIELSHINING',\n",
       "       'ARINA_RONDAL', 'ARISGRAYS', 'ARKADII_TROFIM', 'ARKADSHIHKIN',\n",
       "       'ARKHIPOVICHIVNA', 'ARKHIPOVTIOVEOF', 'ARMEDFREJYA', 'ARM_2_ALAN',\n",
       "       'ARNOLDPARRK', 'ARONHOLDEN8', 'ARONS_KWENDE', 'ARSENI_ROMAN',\n",
       "       'ARTAUTUMN', 'ARTEMBOGACHENKO', 'ARTEMMPLOTNIKOV', 'ARTEMSSFE',\n",
       "       'ARTEM_POLISHHUK', 'ARTHCLAUDIA', 'ARTKORCHUNOV', 'ARTURBURANOF',\n",
       "       'ARTUR__2014', 'ARTYRTOLSTOV', 'ARYANNAJ0NES', 'ARZHANOVAAA',\n",
       "       'ASDIQARUSSIYA', 'ASHLEECOLLINSS', 'ASHLEEYWES', 'ASHLEYSIMPSN',\n",
       "       'ASHLEY_KRI', 'ASSUNCAOWALLAS', 'ASWWIMMORRIS', 'ASYAARRIVE',\n",
       "       'ATIF_SHAIKH_ME', 'ATLANTA_ONLINE', 'ATULSCARPA', 'AURRLISTR',\n",
       "       'AUSTINLOVESBEER'], dtype=object)"
      ]
     },
     "execution_count": 11,
     "metadata": {},
     "output_type": "execute_result"
    }
   ],
   "source": [
    "# eine Liste der User-Namen, wobei jeder User genau einmal\n",
    "# vorkommt\n",
    "tweets_troll_raw.author.unique()"
   ]
  },
  {
   "cell_type": "code",
   "execution_count": 12,
   "metadata": {},
   "outputs": [
    {
     "name": "stdout",
     "output_type": "stream",
     "text": [
      "Anzahl Troll Tweets: 243891\n",
      "Anzahl Troll User: 298\n"
     ]
    }
   ],
   "source": [
    "print('Anzahl Troll Tweets: {}'.format(len(tweets_troll_raw)))\n",
    "unique_users = len(tweets_troll_raw.author.unique())\n",
    "print('Anzahl Troll User: {}'.format(unique_users))"
   ]
  },
  {
   "cell_type": "markdown",
   "metadata": {},
   "source": [
    "### Aufgaben\n",
    "**A.** Wie heißen die Spalten in den drei Datensätzen und welche Informationen enthalten sie?  "
   ]
  },
  {
   "cell_type": "code",
   "execution_count": 13,
   "metadata": {},
   "outputs": [
    {
     "name": "stdout",
     "output_type": "stream",
     "text": [
      "Spaltennamen der normalen Tweets:\n",
      "Index(['sentiment', 'ID', 'Date', 'Query', 'User', 'Tweet'], dtype='object')\n",
      "\n",
      "Spaltennamen der Trump Tweets:\n",
      "Index(['status_id', 'created_at', 'user_id', 'screen_name', 'text', 'source',\n",
      "       'display_text_width', 'reply_to_status_id', 'reply_to_user_id',\n",
      "       'reply_to_screen_name', 'is_quote', 'is_retweet', 'favorite_count',\n",
      "       'retweet_count', 'hashtags', 'symbols', 'urls_url', 'urls_t.co',\n",
      "       'urls_expanded_url', 'media_url', 'media_t.co', 'media_expanded_url',\n",
      "       'media_type', 'ext_media_url', 'ext_media_t.co',\n",
      "       'ext_media_expanded_url', 'ext_media_type', 'mentions_user_id',\n",
      "       'mentions_screen_name', 'lang', 'quoted_status_id', 'quoted_text',\n",
      "       'quoted_created_at', 'quoted_source', 'quoted_favorite_count',\n",
      "       'quoted_retweet_count', 'quoted_user_id', 'quoted_screen_name',\n",
      "       'quoted_name', 'quoted_followers_count', 'quoted_friends_count',\n",
      "       'quoted_statuses_count', 'quoted_location', 'quoted_description',\n",
      "       'quoted_verified', 'retweet_status_id', 'retweet_text',\n",
      "       'retweet_created_at', 'retweet_source', 'retweet_favorite_count',\n",
      "       'retweet_user_id', 'retweet_screen_name', 'retweet_name',\n",
      "       'retweet_followers_count', 'retweet_friends_count',\n",
      "       'retweet_statuses_count', 'retweet_location', 'retweet_description',\n",
      "       'retweet_verified', 'place_url', 'place_name', 'place_full_name',\n",
      "       'place_type', 'country', 'country_code', 'geo_coords', 'coords_coords',\n",
      "       'bbox_coords'],\n",
      "      dtype='object')\n",
      "\n",
      "Spaltennamen der Troll Tweets:\n",
      "Index(['external_author_id', 'author', 'content', 'region', 'language',\n",
      "       'publish_date', 'harvested_date', 'following', 'followers', 'updates',\n",
      "       'post_type', 'account_type', 'retweet', 'account_category',\n",
      "       'new_june_2018', 'alt_external_id', 'tweet_id', 'article_url',\n",
      "       'tco1_step1', 'tco2_step1', 'tco3_step1'],\n",
      "      dtype='object')\n"
     ]
    }
   ],
   "source": [
    "print('Spaltennamen der normalen Tweets:')\n",
    "print(tweets_normal_raw.columns)\n",
    "print()\n",
    "\n",
    "print('Spaltennamen der Trump Tweets:')\n",
    "print(tweets_trump_raw.columns)\n",
    "print()\n",
    "\n",
    "print('Spaltennamen der Troll Tweets:')\n",
    "print(tweets_troll_raw.columns)"
   ]
  },
  {
   "cell_type": "markdown",
   "metadata": {},
   "source": [
    "**Information in den Spalten für den normalen Tweet-Datensatz** (aus der [Dokumentation](http://help.sentiment140.com/for-students/) des Datensatzes):\n",
    "\n",
    "_The data is a CSV with emoticons removed. Data file format has 6 fields:_\n",
    "* _0 - the polarity of the tweet (0 = negative, 2 = neutral, 4 = positive)_\n",
    "* _1 - the id of the tweet (2087)_\n",
    "* _2 - the date of the tweet (Sat May 16 23:58:44 UTC 2009)_\n",
    "* *3 - the query (lyx). If there is no query, then this value is NO_QUERY.*\n",
    "* _4 - the user that tweeted (robotickilldozr)_\n",
    "* _5 - the text of the tweet (Lyx is cool)_"
   ]
  },
  {
   "cell_type": "markdown",
   "metadata": {},
   "source": [
    "**Information in den Spalten für den Troll-Tweet Datensatz** (aus der [Dokumentation](https://github.com/fivethirtyeight/russian-troll-tweets/blob/master/README.md) des Datensatzes):\n",
    "\n",
    "Header | Definition\n",
    "---|---------\n",
    "`external_author_id` | An author account ID from Twitter \n",
    "`author` | The handle sending the tweet\n",
    "`content` | The text of the tweet\n",
    "`region` | A region classification, as [determined by Social Studio](https://help.salesforce.com/articleView?id=000199367&type=1)\n",
    "`language` | The language of the tweet\n",
    "`publish_date` | The date and time the tweet was sent\n",
    "`harvested_date` | The date and time the tweet was collected by Social Studio\n",
    "`following` | The number of accounts the handle was following at the time of the tweet\n",
    "`followers` | The number of followers the handle had at the time of the tweet\n",
    "`updates` | The number of “update actions” on the account that authored the tweet, including tweets, retweets and likes\n",
    "`post_type` | Indicates if the tweet was a retweet or a quote-tweet\n",
    "`account_type` | Specific account theme, as coded by Linvill and Warren\n",
    "`retweet` | A binary indicator of whether or not the tweet is a retweet\n",
    "`account_category` | General account theme, as coded by Linvill and Warren\n",
    "`new_june_2018` | A binary indicator of whether the handle was newly listed in June 2018\n",
    "`alt_external_id` | Reconstruction of author account ID from Twitter, derived from `article_url` variable and the first list provided to Congress\n",
    "`tweet_id` | Unique id assigned by twitter to each status update, derived from `article_url`\n",
    "`article_url` | Link to original tweet. Now redirects to \"Account Suspended\" page\n",
    "`tco1_step1` | First redirect for the first http(s)://t.co/ link in a tweet, if it exists\n",
    "`tco2_step1` | First redirect for the second http(s)://t.co/ link in a tweet, if it exists\n",
    "`tco3_step1` | First redirect for the third http(s)://t.co/ link in a tweet, if it exists"
   ]
  },
  {
   "cell_type": "markdown",
   "metadata": {},
   "source": [
    "Zum Trump-Datensatz ist keine explizite Dokumentation des Spalteninhalts vorhanden. Trotzdem sind die meisten Spalten-Namen so deskriptiv gestaltet, dass wir erraten können, welche Information sie enthalten und sie entsprechend verwenden können."
   ]
  },
  {
   "cell_type": "markdown",
   "metadata": {},
   "source": [
    "**B.** Sieh dir ein paar Tweets aus den jeweiligen Datensätzen an, indem du auf die Spalte mit dem Tweet-Text und den Index des Tweets zugreifst.  "
   ]
  },
  {
   "cell_type": "code",
   "execution_count": 14,
   "metadata": {},
   "outputs": [
    {
     "name": "stdout",
     "output_type": "stream",
     "text": [
      "Ein zufälliger normaler User tweetet:\n",
      "spring break in plain city... it's snowing \n",
      "\n",
      "Donald Trump tweetet:\n",
      "\"...these days...we could all use a little of the power of Trumpative thinking.\" âBarnesandNoble.com http://tinyurl.com/pqpfvm\n",
      "\n",
      "Ein zufälliger russischer Troll tweetet:\n",
      "After the 'genocide' remark from San Juan Mayor the narrative has changed though. @CNN fixes its reporting constantly.\n"
     ]
    }
   ],
   "source": [
    "test_index = 10\n",
    "print('Ein zufälliger normaler User tweetet:')\n",
    "print(tweets_normal_raw['Tweet'][test_index])\n",
    "print()\n",
    "print('Donald Trump tweetet:')\n",
    "print(tweets_trump_raw['text'][test_index])\n",
    "print()\n",
    "print('Ein zufälliger russischer Troll tweetet:')\n",
    "print(tweets_troll_raw['content'][test_index])"
   ]
  },
  {
   "cell_type": "markdown",
   "metadata": {},
   "source": [
    "**C.** Wieviele Tweets und User enthält der Datensatz mit \"normalen\" Tweets, wieviele der Datensatz zu den Trump Tweets?  "
   ]
  },
  {
   "cell_type": "code",
   "execution_count": 15,
   "metadata": {},
   "outputs": [
    {
     "name": "stdout",
     "output_type": "stream",
     "text": [
      "Anzahl der normalen User: 659775\n",
      "Anzahl der Tweets im normalen Datensatz: 1600000\n",
      "\n",
      "Anzahl der User im Trum-Datensatz: 5\n",
      "Anzahl der Tweets im Trump-Datensatz: 32826\n"
     ]
    }
   ],
   "source": [
    "# normale User\n",
    "number_of_tweets_normal = len(tweets_normal_raw)\n",
    "unique_users_normal = len(tweets_normal_raw.User.unique())\n",
    "print('Anzahl der normalen User: {}'.format(unique_users_normal))\n",
    "print('Anzahl der Tweets im normalen Datensatz: {}'.format(number_of_tweets_normal))\n",
    "print()\n",
    "\n",
    "# Trump\n",
    "number_of_tweets_trump = len(tweets_trump_raw)\n",
    "unique_users_trump = len(tweets_trump_raw.screen_name.unique())\n",
    "print('Anzahl der User im Trum-Datensatz: {}'.format(unique_users_trump))\n",
    "print('Anzahl der Tweets im Trump-Datensatz: {}'.format(number_of_tweets_trump))"
   ]
  },
  {
   "cell_type": "markdown",
   "metadata": {},
   "source": [
    "Man würde bei einem Datensatz von Tweets von Donald Trump jetzt erst einmal erwarten, dass nur ein User (nämlich Trump) im Datensatz enthalten ist. Deswegen verwundert es etwas, dass es 5 verschiedene User sind. Welche User sind denn das?"
   ]
  },
  {
   "cell_type": "code",
   "execution_count": 16,
   "metadata": {},
   "outputs": [
    {
     "name": "stdout",
     "output_type": "stream",
     "text": [
      "['realDonaldTrump' 'TeamTrump' 'EricTrump' 'DanScavino' 'DonaldJTrumpJr']\n"
     ]
    }
   ],
   "source": [
    "print(tweets_trump_raw.screen_name.unique())"
   ]
  },
  {
   "cell_type": "markdown",
   "metadata": {},
   "source": [
    "**D.** Was ist die mittlere Anzahl an Tweets je User für den Datensatz mit den normalen Usern und den mit den Trollen?  "
   ]
  },
  {
   "cell_type": "code",
   "execution_count": 17,
   "metadata": {},
   "outputs": [
    {
     "name": "stdout",
     "output_type": "stream",
     "text": [
      "Anzahl der Tweets / User für die normalen Tweets: 2.43\n",
      "Anzahl der Tweets / User für die Trolle: 818.43\n"
     ]
    }
   ],
   "source": [
    "# Trolle\n",
    "number_of_tweets_troll = len(tweets_troll_raw)\n",
    "unique_users_troll = len(tweets_troll_raw.author.unique())\n",
    "\n",
    "# normale user haben wir schon in 2.C berechnet\n",
    "\n",
    "print('Anzahl der Tweets / User für die normalen Tweets: {:1.2f}'.format(number_of_tweets_normal / unique_users_normal))\n",
    "print('Anzahl der Tweets / User für die Trolle: {:1.2f}'.format(number_of_tweets_troll / unique_users_troll))"
   ]
  },
  {
   "cell_type": "markdown",
   "metadata": {},
   "source": [
    "**E.** **(Optional):** Welcher User im Troll-Datensatz hat die meisten Tweets produziert und wieviele Tweets sind das?  "
   ]
  },
  {
   "cell_type": "code",
   "execution_count": 18,
   "metadata": {},
   "outputs": [
    {
     "name": "stdout",
     "output_type": "stream",
     "text": [
      "Der aktivste Troll-Account im Datensatz ist:\n",
      "0    AMELIEBALDWIN\n",
      "dtype: object\n",
      "\n",
      "Der aktivste Troll Account hat 35261 Tweets abgesetzt.\n",
      "Das sind 14.46% der Tweets im ganzen Datensatz.\n"
     ]
    }
   ],
   "source": [
    "# der Modus gibt Auskunft über den Eintrag, der\n",
    "# am häufigsten vorkommt\n",
    "most_active_user = tweets_troll_raw['author'].mode()\n",
    "print('Der aktivste Troll-Account im Datensatz ist:')\n",
    "print(most_active_user)\n",
    "print()\n",
    "\n",
    "# filtere das DataFrame nach Einträgen, die vom User\n",
    "# \"AMELIEBALDWIN\" stammen\n",
    "filter_most_active = tweets_troll_raw['author'] == 'AMELIEBALDWIN'\n",
    "number_most_active = filter_most_active.sum()\n",
    "print('Der aktivste Troll Account hat {} Tweets abgesetzt.'.format(number_most_active))\n",
    "print('Das sind {:1.2f}% der Tweets im ganzen Datensatz.'\\\n",
    "      .format(number_most_active / len(tweets_troll_raw) * 100))"
   ]
  },
  {
   "cell_type": "markdown",
   "metadata": {},
   "source": [
    "**F.** **(Optional):** der Troll-Datensatz listet auch die Tweet-Sprache. Wieviele Sprachen sind im Datensatz vertreten und wieviele Tweets gibt es je Sprache?"
   ]
  },
  {
   "cell_type": "code",
   "execution_count": 19,
   "metadata": {},
   "outputs": [
    {
     "name": "stdout",
     "output_type": "stream",
     "text": [
      "['English' 'Russian' 'Serbian' 'Ukrainian' 'Tagalog (Filipino)' 'Albanian'\n",
      " 'Italian' 'Romanian' 'Spanish' 'Catalan' 'German' 'Estonian' 'French'\n",
      " 'Norwegian' 'Vietnamese' 'Dutch' 'Arabic' 'Uzbek' 'Bulgarian'\n",
      " 'Macedonian' 'Farsi (Persian)' 'Turkish' 'LANGUAGE UNDEFINED' 'Czech'\n",
      " 'Somali' 'Lithuanian' 'Croatian' 'Slovak' 'Icelandic' 'Slovenian'\n",
      " 'Japanese' 'Indonesian' 'Pushto' 'Hungarian' 'Finnish' 'Latvian'\n",
      " 'Portuguese' 'Danish' 'Swedish' 'Malay' 'Polish' 'Korean' 'Hebrew' 'Urdu'\n",
      " 'Kurdish' 'Hindi' 'Greek' 'Simplified Chinese' 'Thai']\n",
      "\n",
      "Der Datensatz enthält Tweets in 48 verschiedenen Sprachen.\n"
     ]
    }
   ],
   "source": [
    "# die verschiedenen Einträge der Spalte \"language\"\n",
    "sprachen = tweets_troll_raw.language.unique()\n",
    "print(sprachen)\n",
    "print()\n",
    "\n",
    "# ziehe 1 ab für 'LANGUAGE UNDEFINED'\n",
    "print('Der Datensatz enthält Tweets in {} verschiedenen Sprachen.'\\\n",
    "     .format(len(sprachen) - 1))"
   ]
  },
  {
   "cell_type": "code",
   "execution_count": 20,
   "metadata": {},
   "outputs": [
    {
     "name": "stdout",
     "output_type": "stream",
     "text": [
      "{'English': 190252, 'Russian': 38411, 'Serbian': 604, 'Ukrainian': 2577, 'Tagalog (Filipino)': 27, 'Albanian': 51, 'Italian': 6235, 'Romanian': 132, 'Spanish': 404, 'Catalan': 76, 'German': 1277, 'Estonian': 96, 'French': 555, 'Norwegian': 127, 'Vietnamese': 105, 'Dutch': 169, 'Arabic': 570, 'Uzbek': 584, 'Bulgarian': 549, 'Macedonian': 369, 'Farsi (Persian)': 105, 'Turkish': 35, 'LANGUAGE UNDEFINED': 33, 'Czech': 5, 'Somali': 20, 'Lithuanian': 21, 'Croatian': 46, 'Slovak': 11, 'Icelandic': 31, 'Slovenian': 7, 'Japanese': 74, 'Indonesian': 10, 'Pushto': 44, 'Hungarian': 10, 'Finnish': 33, 'Latvian': 22, 'Portuguese': 65, 'Danish': 10, 'Swedish': 51, 'Malay': 14, 'Polish': 25, 'Korean': 2, 'Hebrew': 7, 'Urdu': 6, 'Kurdish': 8, 'Hindi': 18, 'Greek': 5, 'Simplified Chinese': 2, 'Thai': 1}\n"
     ]
    }
   ],
   "source": [
    "# erstelle ein Dictionary mit einem Eintrag für jede Sprache\n",
    "# und einem Counter (der zu Anfang gleich null ist).\n",
    "sprachen = {s:0 for s in sprachen}\n",
    "\n",
    "# Im Folgenden iterieren wir über jeden Tweet im Datensatz \n",
    "# und erhöhen den Counter für die entsprechende Sprache um 1\n",
    "for index, row in tweets_troll_raw.iterrows():\n",
    "    # finde die Tweet-Sprache heraus\n",
    "    tweet_sprache = row['language']\n",
    "    # erhöhe den Counter der Sprache im Dictionary um 1\n",
    "    sprachen[tweet_sprache] = sprachen[tweet_sprache] + 1 \n",
    "    \n",
    "print(sprachen)"
   ]
  },
  {
   "cell_type": "markdown",
   "metadata": {},
   "source": [
    "[Anfang](#top)"
   ]
  },
  {
   "cell_type": "markdown",
   "metadata": {},
   "source": [
    "<a name=\"daten_bereinigen\"></a>3. Daten bereinigen\n",
    "---\n",
    "Offensichtlich gibt es im Datensatz der Trump-Tweets nicht nur Tweets von Trump selbst [@realDonaldTrump](https://twitter.com/realdonaldtrump) sondern auch noch von vier anderen Usern. Im Folgenden wollen wir die Datensätze etwas aufräumen, um sie leichter nutzbar zu machen."
   ]
  },
  {
   "cell_type": "code",
   "execution_count": 21,
   "metadata": {},
   "outputs": [
    {
     "name": "stdout",
     "output_type": "stream",
     "text": [
      "Anzahl der Tweets vor Bereinigung: 32826\n",
      "Anzahl der Tweets nach Bereinigung: 32807\n"
     ]
    }
   ],
   "source": [
    "# originale Anzahl Tweets\n",
    "print('Anzahl der Tweets vor Bereinigung: {}'.format(len(tweets_trump_raw)))\n",
    "\n",
    "# entferne alle Tweets von Usern, die nicht \"realDonaldTrump\"\n",
    "# sind aus dem Datensatz.\n",
    "mask_realDonald = tweets_trump_raw['screen_name'] == 'realDonaldTrump'\n",
    "tweets_trump_filtered = tweets_trump_raw[mask_realDonald]\n",
    "\n",
    "# wir sehen: es sind gar nicht so viele Tweets verschwunden.\n",
    "print('Anzahl der Tweets nach Bereinigung: {}'.format(len(tweets_trump_filtered)))"
   ]
  },
  {
   "cell_type": "markdown",
   "metadata": {},
   "source": [
    "Es fällt auf, dass die Spalten in den drei Datensätzen unterschiedlich heißen. Die Spalte mit dem User, der einen Tweet erstellt hat, heißt z.B. ```User``` (normale Tweets), ```screen_name``` (Trump Tweets) und ```author``` (Troll Tweets), obwohl sie die gleiche Information - nämlich den Username - enthält. Um die Daten in Zukunft einfacher handhaben zu können, wollen wir sicherstellen, dass alle Spalten in allen Datensätzen gleich heißen. Außerdem löschen wir alle Spalten mit Informationen, die nicht relevant für uns sind. Dafür erstellen wir basierend auf den DataFrame mit den (gefilterten) Rohdaten ein neues DataFrame, das nur die Spalten (mit den richtigen Namen) enthält, die wir brauchen:"
   ]
  },
  {
   "cell_type": "code",
   "execution_count": 22,
   "metadata": {},
   "outputs": [],
   "source": [
    "# neues, gesäubertes DataFrame\n",
    "tweets_trump = pd.DataFrame({'Date':tweets_trump_filtered['created_at'],\\\n",
    "                             'User':tweets_trump_filtered['screen_name'],\\\n",
    "                             'Tweet':tweets_trump_filtered['text']})"
   ]
  },
  {
   "cell_type": "markdown",
   "metadata": {},
   "source": [
    "### Aufgaben\n",
    "Generell interessieren wir uns für die Spalten, in denen der Username, das Tweet-Datum und der Tweet-Text enthalten sind. Bei den Troll Tweets möchten wir außerdem die Spalten mit Informationen über die Sprache, die Anzahl der Follower und die Anzahl der gefolgten Accounts.  \n",
    "\n",
    "**A.** Bereinige auch die Tweets von den normalen Usern, indem du ein neues DataFrame mit den Spalten ```[Date, User, Text]``` basierend auf den Rohdaten erstellst.  "
   ]
  },
  {
   "cell_type": "code",
   "execution_count": 23,
   "metadata": {},
   "outputs": [],
   "source": [
    "# bereinige die Trump Tweets (Wiederholung aus Übungsblatt)\n",
    "mask_realDonald = tweets_trump_raw['screen_name'] == 'realDonaldTrump'\n",
    "tweets_trump_filtered = tweets_trump_raw[mask_realDonald]\n",
    "tweets_trump = pd.DataFrame({'Date':tweets_trump_filtered['created_at'],\\\n",
    "                             'User':tweets_trump_filtered['screen_name'],\\\n",
    "                             'Tweet':tweets_trump_filtered['text']})\n",
    "\n",
    "# normale user\n",
    "tweets_normal = pd.DataFrame({'Date':tweets_normal_raw['Date'],\\\n",
    "                             'User':tweets_normal_raw['User'],\\\n",
    "                             'Tweet':tweets_normal_raw['Tweet']})"
   ]
  },
  {
   "cell_type": "markdown",
   "metadata": {},
   "source": [
    "**B.** Bereinige die Troll Twees (wie oben die Trump Tweets), behalte zusätzlich auch die Spalten, die die Informationen über die Tweet-Sprache, die Anzahl der Follower und die Anzahl der gefolgten Accounts enthalten.  "
   ]
  },
  {
   "cell_type": "code",
   "execution_count": 24,
   "metadata": {},
   "outputs": [
    {
     "data": {
      "text/html": [
       "<div>\n",
       "<style scoped>\n",
       "    .dataframe tbody tr th:only-of-type {\n",
       "        vertical-align: middle;\n",
       "    }\n",
       "\n",
       "    .dataframe tbody tr th {\n",
       "        vertical-align: top;\n",
       "    }\n",
       "\n",
       "    .dataframe thead th {\n",
       "        text-align: right;\n",
       "    }\n",
       "</style>\n",
       "<table border=\"1\" class=\"dataframe\">\n",
       "  <thead>\n",
       "    <tr style=\"text-align: right;\">\n",
       "      <th></th>\n",
       "      <th>Date</th>\n",
       "      <th>User</th>\n",
       "      <th>Tweet</th>\n",
       "      <th>Language</th>\n",
       "      <th>Follower</th>\n",
       "      <th>Following</th>\n",
       "    </tr>\n",
       "  </thead>\n",
       "  <tbody>\n",
       "    <tr>\n",
       "      <th>0</th>\n",
       "      <td>10/1/2017 19:58</td>\n",
       "      <td>10_GOP</td>\n",
       "      <td>\"We have a sitting Democrat US Senator on tria...</td>\n",
       "      <td>English</td>\n",
       "      <td>9636</td>\n",
       "      <td>1052</td>\n",
       "    </tr>\n",
       "    <tr>\n",
       "      <th>1</th>\n",
       "      <td>10/1/2017 22:43</td>\n",
       "      <td>10_GOP</td>\n",
       "      <td>Marshawn Lynch arrives to game in anti-Trump s...</td>\n",
       "      <td>English</td>\n",
       "      <td>9637</td>\n",
       "      <td>1054</td>\n",
       "    </tr>\n",
       "    <tr>\n",
       "      <th>2</th>\n",
       "      <td>10/1/2017 22:50</td>\n",
       "      <td>10_GOP</td>\n",
       "      <td>Daughter of fallen Navy Sailor delivers powerf...</td>\n",
       "      <td>English</td>\n",
       "      <td>9637</td>\n",
       "      <td>1054</td>\n",
       "    </tr>\n",
       "    <tr>\n",
       "      <th>3</th>\n",
       "      <td>10/1/2017 23:52</td>\n",
       "      <td>10_GOP</td>\n",
       "      <td>JUST IN: President Trump dedicates Presidents ...</td>\n",
       "      <td>English</td>\n",
       "      <td>9642</td>\n",
       "      <td>1062</td>\n",
       "    </tr>\n",
       "    <tr>\n",
       "      <th>4</th>\n",
       "      <td>10/1/2017 2:13</td>\n",
       "      <td>10_GOP</td>\n",
       "      <td>19,000 RESPECTING our National Anthem! #StandF...</td>\n",
       "      <td>English</td>\n",
       "      <td>9645</td>\n",
       "      <td>1050</td>\n",
       "    </tr>\n",
       "  </tbody>\n",
       "</table>\n",
       "</div>"
      ],
      "text/plain": [
       "              Date    User                                              Tweet  \\\n",
       "0  10/1/2017 19:58  10_GOP  \"We have a sitting Democrat US Senator on tria...   \n",
       "1  10/1/2017 22:43  10_GOP  Marshawn Lynch arrives to game in anti-Trump s...   \n",
       "2  10/1/2017 22:50  10_GOP  Daughter of fallen Navy Sailor delivers powerf...   \n",
       "3  10/1/2017 23:52  10_GOP  JUST IN: President Trump dedicates Presidents ...   \n",
       "4   10/1/2017 2:13  10_GOP  19,000 RESPECTING our National Anthem! #StandF...   \n",
       "\n",
       "  Language  Follower  Following  \n",
       "0  English      9636       1052  \n",
       "1  English      9637       1054  \n",
       "2  English      9637       1054  \n",
       "3  English      9642       1062  \n",
       "4  English      9645       1050  "
      ]
     },
     "execution_count": 24,
     "metadata": {},
     "output_type": "execute_result"
    }
   ],
   "source": [
    "# Trolle\n",
    "tweets_troll = pd.DataFrame({'Date':tweets_troll_raw['publish_date'],\\\n",
    "                             'User':tweets_troll_raw['author'],\\\n",
    "                             'Tweet':tweets_troll_raw['content'],\\\n",
    "                             'Language':tweets_troll_raw['language'],\\\n",
    "                             'Follower':tweets_troll_raw['followers'],\\\n",
    "                             'Following':tweets_troll_raw['following']})\n",
    "tweets_troll.head()"
   ]
  },
  {
   "cell_type": "markdown",
   "metadata": {},
   "source": [
    "**C. (Optional):** Aktuell benutzen wir nur den ersten von 13 Teilen des Troll-Tweet Datensatzes. Wir machen das, da sonst der Datensatz eventuell zu groß werden würde (etwa 1.3 GB). Wenn du möchtest, kannst du aber auch die anderen 12 Datensätze herunterladen und mit dem ersten zu einem einzigen großen Datensatz zusammenfügen. <font color='green'>**HINWEIS:** Benutze dazu am besten die ```concat()``` Funktion von Pandas ([Dokumentation](https://pandas.pydata.org/pandas-docs/stable/reference/api/pandas.concat.html)). </font> Wie sind die Tweets in dem gesamten Datensatz strukturiert? Wie wurde der Datensatz in einzelne Teile aufgeteilt?   "
   ]
  },
  {
   "cell_type": "code",
   "execution_count": 29,
   "metadata": {},
   "outputs": [
    {
     "name": "stdout",
     "output_type": "stream",
     "text": [
      "Der 1. Datensatzteil beinhaltet 243891 Tweets.\n",
      "Der 2. Datensatzteil beinhaltet 243891 Tweets.\n",
      "Der 3. Datensatzteil beinhaltet 243891 Tweets.\n",
      "Der 4. Datensatzteil beinhaltet 243891 Tweets.\n",
      "Der 5. Datensatzteil beinhaltet 243891 Tweets.\n",
      "Der 6. Datensatzteil beinhaltet 243891 Tweets.\n",
      "Der 7. Datensatzteil beinhaltet 243891 Tweets.\n",
      "Der 8. Datensatzteil beinhaltet 243891 Tweets.\n",
      "Der 9. Datensatzteil beinhaltet 243891 Tweets.\n",
      "Der 10. Datensatzteil beinhaltet 243891 Tweets.\n",
      "Der 11. Datensatzteil beinhaltet 243891 Tweets.\n",
      "Der 12. Datensatzteil beinhaltet 243891 Tweets.\n",
      "Der 13. Datensatzteil beinhaltet 243891 Tweets.\n"
     ]
    }
   ],
   "source": [
    "# url der Troll tweets, diesmal mit einem Platzhalter \"{}\" für die Zahl\n",
    "url_troll = 'https://github.com/fivethirtyeight/russian-troll-tweets/raw/master/IRAhandle_tweets_{}.csv'\n",
    "# Liste, in der wir alle heruntergeladenen Troll-Tweets speichern\n",
    "tweets_troll_all_raw = []\n",
    "\n",
    "# iteriere über die Zahlen 1 bis 13, um alle 13 Teile des Datensatzes herunterzuladen\n",
    "for i in range(1, 14):\n",
    "    url_troll = url_troll.format(i)\n",
    "    antwort_troll = requests.get(url_troll).content\n",
    "    inhalt_troll = io.StringIO(antwort_troll.decode('ISO-8859-1'))\n",
    "    tweets = pd.read_csv(inhalt_troll)\n",
    "    # füge den Datensatz-Teil der Liste hinzu\n",
    "    tweets_troll_all_raw.append(tweets)\n",
    "    print('Der {}. Datensatzteil beinhaltet {} Tweets.'.format(i, len(tweets)))\n",
    "    \n",
    "# Die Tweets liegen alphabetisch sortiert nach User-name vor. \n",
    "# Alle Teile des Datensatzes beinhalten genau 243891 Tweets "
   ]
  },
  {
   "cell_type": "code",
   "execution_count": 30,
   "metadata": {},
   "outputs": [],
   "source": [
    "# erstelle aus den Teilen ein einziges DataFrame\n",
    "tweets_troll_all_raw = pd.concat(tweets_troll_all_raw)\n",
    "#speichere das neue Data-Frame\n",
    "tweets_troll_all_raw.to_csv('data/tweets_troll_all_raw.csv', index=False)"
   ]
  },
  {
   "cell_type": "code",
   "execution_count": 31,
   "metadata": {},
   "outputs": [
    {
     "name": "stdout",
     "output_type": "stream",
     "text": [
      "Der gesamte Datensatz beinhaltet 3170583 Tweets.\n"
     ]
    },
    {
     "data": {
      "text/html": [
       "<div>\n",
       "<style scoped>\n",
       "    .dataframe tbody tr th:only-of-type {\n",
       "        vertical-align: middle;\n",
       "    }\n",
       "\n",
       "    .dataframe tbody tr th {\n",
       "        vertical-align: top;\n",
       "    }\n",
       "\n",
       "    .dataframe thead th {\n",
       "        text-align: right;\n",
       "    }\n",
       "</style>\n",
       "<table border=\"1\" class=\"dataframe\">\n",
       "  <thead>\n",
       "    <tr style=\"text-align: right;\">\n",
       "      <th></th>\n",
       "      <th>Date</th>\n",
       "      <th>User</th>\n",
       "      <th>Tweet</th>\n",
       "      <th>Language</th>\n",
       "      <th>Follower</th>\n",
       "      <th>Following</th>\n",
       "    </tr>\n",
       "  </thead>\n",
       "  <tbody>\n",
       "    <tr>\n",
       "      <th>0</th>\n",
       "      <td>10/1/2017 19:58</td>\n",
       "      <td>10_GOP</td>\n",
       "      <td>\"We have a sitting Democrat US Senator on tria...</td>\n",
       "      <td>English</td>\n",
       "      <td>9636</td>\n",
       "      <td>1052</td>\n",
       "    </tr>\n",
       "    <tr>\n",
       "      <th>1</th>\n",
       "      <td>10/1/2017 22:43</td>\n",
       "      <td>10_GOP</td>\n",
       "      <td>Marshawn Lynch arrives to game in anti-Trump s...</td>\n",
       "      <td>English</td>\n",
       "      <td>9637</td>\n",
       "      <td>1054</td>\n",
       "    </tr>\n",
       "    <tr>\n",
       "      <th>2</th>\n",
       "      <td>10/1/2017 22:50</td>\n",
       "      <td>10_GOP</td>\n",
       "      <td>Daughter of fallen Navy Sailor delivers powerf...</td>\n",
       "      <td>English</td>\n",
       "      <td>9637</td>\n",
       "      <td>1054</td>\n",
       "    </tr>\n",
       "    <tr>\n",
       "      <th>3</th>\n",
       "      <td>10/1/2017 23:52</td>\n",
       "      <td>10_GOP</td>\n",
       "      <td>JUST IN: President Trump dedicates Presidents ...</td>\n",
       "      <td>English</td>\n",
       "      <td>9642</td>\n",
       "      <td>1062</td>\n",
       "    </tr>\n",
       "    <tr>\n",
       "      <th>4</th>\n",
       "      <td>10/1/2017 2:13</td>\n",
       "      <td>10_GOP</td>\n",
       "      <td>19,000 RESPECTING our National Anthem! #StandF...</td>\n",
       "      <td>English</td>\n",
       "      <td>9645</td>\n",
       "      <td>1050</td>\n",
       "    </tr>\n",
       "  </tbody>\n",
       "</table>\n",
       "</div>"
      ],
      "text/plain": [
       "              Date    User                                              Tweet  \\\n",
       "0  10/1/2017 19:58  10_GOP  \"We have a sitting Democrat US Senator on tria...   \n",
       "1  10/1/2017 22:43  10_GOP  Marshawn Lynch arrives to game in anti-Trump s...   \n",
       "2  10/1/2017 22:50  10_GOP  Daughter of fallen Navy Sailor delivers powerf...   \n",
       "3  10/1/2017 23:52  10_GOP  JUST IN: President Trump dedicates Presidents ...   \n",
       "4   10/1/2017 2:13  10_GOP  19,000 RESPECTING our National Anthem! #StandF...   \n",
       "\n",
       "  Language  Follower  Following  \n",
       "0  English      9636       1052  \n",
       "1  English      9637       1054  \n",
       "2  English      9637       1054  \n",
       "3  English      9642       1062  \n",
       "4  English      9645       1050  "
      ]
     },
     "execution_count": 31,
     "metadata": {},
     "output_type": "execute_result"
    }
   ],
   "source": [
    "# bereinige das DataFrame\n",
    "tweets_troll_all_bereinigt = pd.DataFrame({'Date':tweets_troll_all_raw['publish_date'],\\\n",
    "                             'User':tweets_troll_all_raw['author'],\\\n",
    "                             'Tweet':tweets_troll_all_raw['content'],\\\n",
    "                             'Language':tweets_troll_all_raw['language'],\\\n",
    "                             'Follower':tweets_troll_all_raw['followers'],\\\n",
    "                             'Following':tweets_troll_all_raw['following']})\n",
    "\n",
    "print('Der gesamte Datensatz beinhaltet {} Tweets.'.format(len(tweets_troll_all_bereinigt)))\n",
    "tweets_troll_all_bereinigt.head()"
   ]
  },
  {
   "cell_type": "markdown",
   "metadata": {},
   "source": [
    "**D. (Optional):** Das Format der Spalte \"Date\" ist noch in allen drei Datensätzen unterschiedlich. Versuche, alle drei unterschiedlichen Zeit- und Datumsangaben in einen String mit dem Format ```YYYY-MM-DD hh:mm:ss``` (Year-Month-Day hour:minute:second) zu überführen. Noch eleganter ist die Benutzung eines [datetime](https://docs.python.org/2/library/datetime.html) Objektes, um Datum und Uhrzeit zu speichern. "
   ]
  },
  {
   "cell_type": "code",
   "execution_count": 25,
   "metadata": {},
   "outputs": [],
   "source": [
    "# importiere die Bibliothek datetime\n",
    "import datetime\n",
    "\n",
    "# definiere die Funktion \"clean_date\", die als Input\n",
    "# einen String bekommt, der eine Datums- und Zeitangabe\n",
    "# enthält, sowie den typ (trump, normal, troll) des Inputs,\n",
    "# um den String entsprechend zu formatieren\n",
    "def clean_date(date_time_raw, typ):\n",
    "    \n",
    "    # dictionary in dem jeder Monatsabkürzung eine Ganzzahl\n",
    "    # zugewiesen wird (im normalen Tweet Datensatz liegen die\n",
    "    # Monatsangaben als String vor)\n",
    "    month_dict = {'Jan':1, 'Feb':2, 'Mar':3, 'Apr':4,\\\n",
    "                 'May':5, 'Jun':6, 'Jul':7, 'Aug':8,\\\n",
    "                 'Sep':9, 'Oct':10, 'Nov':11, 'Dec':12}\n",
    "    \n",
    "    # überprüfe den Typ der Eingabe\n",
    "    # Timestamps aus dem Troll-Datensatz folgen dem\n",
    "    # Muster \"monat/tag/jahr stunde:minute\"\n",
    "    if typ == 'troll':\n",
    "        # teile den String entlang des Leerzeichens in Datum und Zeit\n",
    "        date, time = date_time_raw.split(' ')\n",
    "        # teile das Datum entlang des forward-slash in Monat, Tag und Jahr\n",
    "        month, day, year = date.split('/')\n",
    "        # teile die Zeit entlang des Doppelpunktes in Stunde und Minute\n",
    "        hour, minute = time.split(':')\n",
    "    \n",
    "    # Timestamps aus dem normalen Datensatz folgen dem\n",
    "    # Muster \"weekday month day hour:minute:second timezone year\"\n",
    "    elif typ == 'normal':\n",
    "        # teile den String entlang des Leerzeichens in Wochentag,\n",
    "        # Monat (String-Abkürzung), Tag, Zeit, Zeitzone und Jahr\n",
    "        weekday, month, day, time, zone, year = date_time_raw.split(' ')\n",
    "        # teile die Zeit entlang des Doppelpunktes in Stunde, Minute und Sekunde\n",
    "        hour, minute, second = time.split(':')\n",
    "        # konvertiere die Monatsangabe mit dem \"month_dict\" in eine Zahl\n",
    "        month = month_dict[month]\n",
    "    \n",
    "    # Timestamps aus dem Trump-Datensatz folgen dem\n",
    "    # Muster \"year-month-day hour:minute:second\"\n",
    "    elif typ == 'trump':\n",
    "        # teile den String entlang des Leerzeichens in Datum und Zeit\n",
    "        date, time = date_time_raw.split(' ')\n",
    "        # teile das Datum entlang des Bindestrichs in Jahr, Monat und Tag\n",
    "        year, month, day = date.split('-')\n",
    "        # teile die Zeit entlang des Doppelpunktes in Stunde, Minute und Sekunde\n",
    "        hour, minute, second = time.split(':')\n",
    "    \n",
    "    # falls die Funktion mit einem unbekannten Typ benutzt\n",
    "    # wird, geben wir eine Fehlermeldung aus und \"None\" zurück\n",
    "    else:\n",
    "        print('unknown Tweet type!')\n",
    "        return None\n",
    "    \n",
    "    # wir verwandeln Jahr, Monat, Tag, Stunde und Minute in Ganzzahlen\n",
    "    # da der Datensatz mit den Troll-Tweets keine Informationen über die\n",
    "    # Sekunden enthält, lassen wir die Sekunden weg und geben uns mit\n",
    "    # einer minuten-genauen Auflösung der Zeit zufrieden\n",
    "    year = int(year)\n",
    "    month = int(month)\n",
    "    day = int(day)\n",
    "    hour = int(hour)\n",
    "    minute = int(minute)\n",
    "    \n",
    "    # erstelle ein datetime-Objekt aus Datum und Zeit\n",
    "    date_time = datetime.datetime(year, month, day, hour, minute)\n",
    "    \n",
    "    # gib das datetime-Objekt zurück\n",
    "    return date_time"
   ]
  },
  {
   "cell_type": "code",
   "execution_count": 26,
   "metadata": {},
   "outputs": [
    {
     "name": "stdout",
     "output_type": "stream",
     "text": [
      "2009-05-20 22:29:00\n",
      "2009-04-06 22:19:00\n",
      "2017-10-01 19:58:00\n"
     ]
    }
   ],
   "source": [
    "# teste die Funktion mit Einträgen aus allen drei Datensätzen\n",
    "trump_test = tweets_trump.loc[0]['Date']\n",
    "normal_test = tweets_normal.loc[0]['Date']\n",
    "troll_test = tweets_troll.loc[0]['Date']\n",
    "\n",
    "clean_trump = clean_date(trump_test, 'trump')\n",
    "print(clean_trump)\n",
    "clean_normal = clean_date(normal_test, 'normal')\n",
    "print(clean_normal)\n",
    "clean_troll = clean_date(troll_test, 'troll')\n",
    "print(clean_troll)"
   ]
  },
  {
   "cell_type": "code",
   "execution_count": 27,
   "metadata": {},
   "outputs": [],
   "source": [
    "# konvertiere alle Datumsangaben in den drei Datensätzen in datetime-Objekte\n",
    "tweets_trump['Date'] = tweets_trump['Date'].apply(clean_date, args=['trump'])\n",
    "tweets_normal['Date'] = tweets_normal['Date'].apply(clean_date, args=['normal'])\n",
    "tweets_troll['Date'] = tweets_troll['Date'].apply(clean_date, args=['troll'])"
   ]
  },
  {
   "cell_type": "code",
   "execution_count": 28,
   "metadata": {},
   "outputs": [
    {
     "data": {
      "text/plain": [
       "Timedelta('-180 days +01:23:00')"
      ]
     },
     "execution_count": 28,
     "metadata": {},
     "output_type": "execute_result"
    }
   ],
   "source": [
    "# jetzt können wir mit den Datumsangaben ganz einfach rechnen:\n",
    "# wir bekommen als Ergebnis ein timedelta-Objekt zurück\n",
    "tweets_trump.loc[0]['Date'] - tweets_trump.loc[4]['Date']"
   ]
  },
  {
   "cell_type": "markdown",
   "metadata": {},
   "source": [
    "Im Folgenden interessieren wir uns für die Länge der einzelnen Tweets. Diese können wir berechnen und in den DataFrames speichern:"
   ]
  },
  {
   "cell_type": "code",
   "execution_count": 29,
   "metadata": {},
   "outputs": [
    {
     "data": {
      "text/html": [
       "<div>\n",
       "<style scoped>\n",
       "    .dataframe tbody tr th:only-of-type {\n",
       "        vertical-align: middle;\n",
       "    }\n",
       "\n",
       "    .dataframe tbody tr th {\n",
       "        vertical-align: top;\n",
       "    }\n",
       "\n",
       "    .dataframe thead th {\n",
       "        text-align: right;\n",
       "    }\n",
       "</style>\n",
       "<table border=\"1\" class=\"dataframe\">\n",
       "  <thead>\n",
       "    <tr style=\"text-align: right;\">\n",
       "      <th></th>\n",
       "      <th>Date</th>\n",
       "      <th>User</th>\n",
       "      <th>Tweet</th>\n",
       "      <th>Length</th>\n",
       "    </tr>\n",
       "  </thead>\n",
       "  <tbody>\n",
       "    <tr>\n",
       "      <th>0</th>\n",
       "      <td>2009-05-20 22:29:00</td>\n",
       "      <td>realDonaldTrump</td>\n",
       "      <td>Read a great interview with Donald Trump that ...</td>\n",
       "      <td>112</td>\n",
       "    </tr>\n",
       "    <tr>\n",
       "      <th>1</th>\n",
       "      <td>2010-11-29 15:52:00</td>\n",
       "      <td>realDonaldTrump</td>\n",
       "      <td>Congratulations to Evan Lysacek for being nomi...</td>\n",
       "      <td>127</td>\n",
       "    </tr>\n",
       "    <tr>\n",
       "      <th>2</th>\n",
       "      <td>2010-10-28 18:53:00</td>\n",
       "      <td>realDonaldTrump</td>\n",
       "      <td>I was on The View this morning. We talked abou...</td>\n",
       "      <td>139</td>\n",
       "    </tr>\n",
       "    <tr>\n",
       "      <th>3</th>\n",
       "      <td>2010-11-24 17:20:00</td>\n",
       "      <td>realDonaldTrump</td>\n",
       "      <td>Tomorrow night's episode of The Apprentice del...</td>\n",
       "      <td>140</td>\n",
       "    </tr>\n",
       "    <tr>\n",
       "      <th>4</th>\n",
       "      <td>2009-11-16 21:06:00</td>\n",
       "      <td>realDonaldTrump</td>\n",
       "      <td>Donald Trump Partners with TV1 on New Reality ...</td>\n",
       "      <td>116</td>\n",
       "    </tr>\n",
       "  </tbody>\n",
       "</table>\n",
       "</div>"
      ],
      "text/plain": [
       "                 Date             User  \\\n",
       "0 2009-05-20 22:29:00  realDonaldTrump   \n",
       "1 2010-11-29 15:52:00  realDonaldTrump   \n",
       "2 2010-10-28 18:53:00  realDonaldTrump   \n",
       "3 2010-11-24 17:20:00  realDonaldTrump   \n",
       "4 2009-11-16 21:06:00  realDonaldTrump   \n",
       "\n",
       "                                               Tweet  Length  \n",
       "0  Read a great interview with Donald Trump that ...     112  \n",
       "1  Congratulations to Evan Lysacek for being nomi...     127  \n",
       "2  I was on The View this morning. We talked abou...     139  \n",
       "3  Tomorrow night's episode of The Apprentice del...     140  \n",
       "4  Donald Trump Partners with TV1 on New Reality ...     116  "
      ]
     },
     "execution_count": 29,
     "metadata": {},
     "output_type": "execute_result"
    }
   ],
   "source": [
    "length = []\n",
    "for tweet in tweets_trump['Tweet']:\n",
    "    length.append(len(tweet))\n",
    "\n",
    "tweets_trump['Length'] = length\n",
    "tweets_trump.head()"
   ]
  },
  {
   "cell_type": "markdown",
   "metadata": {},
   "source": [
    "**E.** Erstelle eine Funktion, die für ein gegebenes DataFrame die Tweet-Länge berechnet und eine neue Spalte mit der Tweet-Länge zum DataFrame hinzufügt. Wende diese Funktion auf alle drei Tweet-Datensätze an.  "
   ]
  },
  {
   "cell_type": "code",
   "execution_count": 32,
   "metadata": {},
   "outputs": [],
   "source": [
    "# definiere die Funktion \"calculate_length\", die ein\n",
    "# DataFrame \"df\" übergeben bekommt\n",
    "def calculate_tweet_length(df):\n",
    "    \n",
    "    # Liste, in der die Tweet-Längen gespeichert werden\n",
    "    length = []\n",
    "    \n",
    "    # Iteriere über alle Tweets\n",
    "    for tweet in df['Tweet']:\n",
    "        # füge Tweet-Länge der Liste hinzu\n",
    "        length.append(len(tweet))\n",
    "\n",
    "    # erstelle eine neue Spalte im DataFrame \"df\",\n",
    "    # indem der (zuvor noch nicht existenten) Spalte\n",
    "    # mit dem namen \"tweet_length\" die Liste \"length\"\n",
    "    # zugewiesen wird\n",
    "    df['tweet_length'] = length\n",
    "    \n",
    "# wende die oben definierte Funktion auf alle DataFrames an\n",
    "calculate_tweet_length(tweets_normal)\n",
    "calculate_tweet_length(tweets_trump)\n",
    "calculate_tweet_length(tweets_troll)\n",
    "\n",
    "# Diese Zeile \"einkommentieren\" - also das \"#\" Zeichen löschen, falls du \n",
    "# Aufgabe 3.C bearbeitet hast\n",
    "#calculate_tweet_length(tweets_troll_all)"
   ]
  },
  {
   "cell_type": "markdown",
   "metadata": {},
   "source": [
    "**F.** **(Optional)** Erstelle eine zweite Funktion, die die Anzahl der Worte je Tweet berechnet und ebenfalls als zusätzliche Spalte dem DataFrame hinzufügt.  "
   ]
  },
  {
   "cell_type": "code",
   "execution_count": 33,
   "metadata": {},
   "outputs": [],
   "source": [
    "def calculate_word_number(df):\n",
    "    \n",
    "    # Liste, in der die Wort-Längen gespeichert werden\n",
    "    word_number = []\n",
    "    \n",
    "    # Iteriere über alle Tweets\n",
    "    for tweet in df['Tweet']:\n",
    "        # wir gehen davon aus, dass einzelne Worte durch\n",
    "        # Leerzeichen getrennt werden\n",
    "        words = tweet.split(' ')\n",
    "        word_number.append(len(words))\n",
    "\n",
    "    # erstelle eine neue Spalte im DataFrame \"df\",\n",
    "    # indem der (zuvor noch nicht existenten) Spalte\n",
    "    # mit dem namen \"word_number\" die Liste word_number\n",
    "    # zugewiesen wird\n",
    "    df['word_number'] = word_number\n",
    "    \n",
    "calculate_word_number(tweets_normal)\n",
    "calculate_word_number(tweets_trump)\n",
    "calculate_word_number(tweets_troll)\n",
    "\n",
    "# Diese Zeile \"einkommentieren\" - also das \"#\" Zeichen löschen, falls du \n",
    "# Aufgabe 3.C bearbeitet hast\n",
    "#calculate_word_number(tweets_troll_all)"
   ]
  },
  {
   "cell_type": "code",
   "execution_count": 34,
   "metadata": {},
   "outputs": [
    {
     "data": {
      "text/html": [
       "<div>\n",
       "<style scoped>\n",
       "    .dataframe tbody tr th:only-of-type {\n",
       "        vertical-align: middle;\n",
       "    }\n",
       "\n",
       "    .dataframe tbody tr th {\n",
       "        vertical-align: top;\n",
       "    }\n",
       "\n",
       "    .dataframe thead th {\n",
       "        text-align: right;\n",
       "    }\n",
       "</style>\n",
       "<table border=\"1\" class=\"dataframe\">\n",
       "  <thead>\n",
       "    <tr style=\"text-align: right;\">\n",
       "      <th></th>\n",
       "      <th>Date</th>\n",
       "      <th>User</th>\n",
       "      <th>Tweet</th>\n",
       "      <th>tweet_length</th>\n",
       "      <th>word_number</th>\n",
       "    </tr>\n",
       "  </thead>\n",
       "  <tbody>\n",
       "    <tr>\n",
       "      <th>0</th>\n",
       "      <td>2009-04-06 22:19:00</td>\n",
       "      <td>_TheSpecialOne_</td>\n",
       "      <td>@switchfoot http://twitpic.com/2y1zl - Awww, t...</td>\n",
       "      <td>115</td>\n",
       "      <td>20</td>\n",
       "    </tr>\n",
       "    <tr>\n",
       "      <th>1</th>\n",
       "      <td>2009-04-06 22:19:00</td>\n",
       "      <td>scotthamilton</td>\n",
       "      <td>is upset that he can't update his Facebook by ...</td>\n",
       "      <td>111</td>\n",
       "      <td>22</td>\n",
       "    </tr>\n",
       "    <tr>\n",
       "      <th>2</th>\n",
       "      <td>2009-04-06 22:19:00</td>\n",
       "      <td>mattycus</td>\n",
       "      <td>@Kenichan I dived many times for the ball. Man...</td>\n",
       "      <td>89</td>\n",
       "      <td>19</td>\n",
       "    </tr>\n",
       "    <tr>\n",
       "      <th>3</th>\n",
       "      <td>2009-04-06 22:19:00</td>\n",
       "      <td>ElleCTF</td>\n",
       "      <td>my whole body feels itchy and like its on fire</td>\n",
       "      <td>47</td>\n",
       "      <td>11</td>\n",
       "    </tr>\n",
       "    <tr>\n",
       "      <th>4</th>\n",
       "      <td>2009-04-06 22:19:00</td>\n",
       "      <td>Karoli</td>\n",
       "      <td>@nationwideclass no, it's not behaving at all....</td>\n",
       "      <td>111</td>\n",
       "      <td>22</td>\n",
       "    </tr>\n",
       "  </tbody>\n",
       "</table>\n",
       "</div>"
      ],
      "text/plain": [
       "                 Date             User  \\\n",
       "0 2009-04-06 22:19:00  _TheSpecialOne_   \n",
       "1 2009-04-06 22:19:00    scotthamilton   \n",
       "2 2009-04-06 22:19:00         mattycus   \n",
       "3 2009-04-06 22:19:00          ElleCTF   \n",
       "4 2009-04-06 22:19:00           Karoli   \n",
       "\n",
       "                                               Tweet  tweet_length  \\\n",
       "0  @switchfoot http://twitpic.com/2y1zl - Awww, t...           115   \n",
       "1  is upset that he can't update his Facebook by ...           111   \n",
       "2  @Kenichan I dived many times for the ball. Man...            89   \n",
       "3    my whole body feels itchy and like its on fire             47   \n",
       "4  @nationwideclass no, it's not behaving at all....           111   \n",
       "\n",
       "   word_number  \n",
       "0           20  \n",
       "1           22  \n",
       "2           19  \n",
       "3           11  \n",
       "4           22  "
      ]
     },
     "execution_count": 34,
     "metadata": {},
     "output_type": "execute_result"
    }
   ],
   "source": [
    "# der Datensatz hat jetzt die beiden neuen Spalten \"tweet_length\"\n",
    "# und \"word_number\"\n",
    "tweets_normal.head()"
   ]
  },
  {
   "cell_type": "markdown",
   "metadata": {},
   "source": [
    "**G.** Speichere alle drei Dataframes im Ordner ```/data``` als ```.csv``` Datei unter den Namen\n",
    "* ```tweets_normal_bereinigt.csv```,\n",
    "* ```tweets_trump_bereinigt.csv``` und\n",
    "* ```tweets_troll_bereinigt.csv```.  \n",
    "Benutze dafür die Funktion [to_csv()](https://pandas.pydata.org/pandas-docs/stable/reference/api/pandas.DataFrame.to_csv.html) des Dataframes."
   ]
  },
  {
   "cell_type": "code",
   "execution_count": 43,
   "metadata": {},
   "outputs": [],
   "source": [
    "tweets_normal.to_csv('data/tweets_normal_bereinigt.csv', encoding='ISO-8859-1', index=False, line_terminator='\\n')\n",
    "tweets_trump.to_csv('data/tweets_trump_bereinigt.csv', encoding='ISO-8859-1', index=False, line_terminator='\\n')\n",
    "tweets_troll.to_csv('data/tweets_troll_bereinigt.csv', encoding='ISO-8859-1', index=False, line_terminator='\\n')\n",
    "\n",
    "# Diese Zeile \"einkommentieren\" - also das \"#\" Zeichen löschen, falls du \n",
    "# Aufgabe 3.C bearbeitet hast\n",
    "#tweets_troll_all_bereinigt.to_csv('data/tweets_troll_all_bereinigt.csv', index=False, line_terminator='\\n')"
   ]
  },
  {
   "cell_type": "markdown",
   "metadata": {},
   "source": [
    "[Anfang](#top)"
   ]
  }
 ],
 "metadata": {
  "kernelspec": {
   "display_name": "Python 3",
   "language": "python",
   "name": "python3"
  },
  "language_info": {
   "codemirror_mode": {
    "name": "ipython",
    "version": 3
   },
   "file_extension": ".py",
   "mimetype": "text/x-python",
   "name": "python",
   "nbconvert_exporter": "python",
   "pygments_lexer": "ipython3",
   "version": "3.6.5"
  }
 },
 "nbformat": 4,
 "nbformat_minor": 2
}
