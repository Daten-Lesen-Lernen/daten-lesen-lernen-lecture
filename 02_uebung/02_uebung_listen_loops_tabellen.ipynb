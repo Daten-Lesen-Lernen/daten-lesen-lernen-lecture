{
 "cells": [
  {
   "cell_type": "markdown",
   "metadata": {},
   "source": [
    "_Lizenz: Das folgende Lehrmaterial kann unter einer [CC-BY-SA 4.0](https://creativecommons.org/licenses/by/4.0/legalcode) Lizenz frei verwendet, verbreitet und modifiziert werden._   \n",
    " _Authoren: Jana Lasser (jana.lasser@ds.mpg.de)_  \n",
    " _Das Lehrmaterial wurde im Zuge des Projektes \"Daten Lesen Lernen\", gefördert vom Stifterverband und der Heinz Nixdorf Stiftung erstellt._"
   ]
  },
  {
   "cell_type": "markdown",
   "metadata": {},
   "source": [
    "# Übung 2\n",
    "### Praktische Hinweise\n",
    "$\\rightarrow$ Übungen sind dafür gedacht, dass ihr sie euch daheim anseht und versucht, ein paar Aufgaben selbst zu lösen. In den Tutorien könnt ihr euch weiter mit dem Lösungen der Aufgaben beschäftigen und dabei Hilfe von den Tutor*innen bekommen.  \n",
    "\n",
    "$\\rightarrow$ Wenn ein Fehler auftritt:\n",
    "1. Fehlermeldung _lesen_ und _verstehen_\n",
    "2. Versuchen, selbst eine Lösung zu finden ($\\rightarrow$ hier findet das Lernen statt!)\n",
    "3. Das Problem googlen (Stichwort: Stackoverflow) oder den/die Nachbar*in fragen\n",
    "4. Tutor*in fragen\n",
    "\n",
    "$\\rightarrow$ Unter <font color='green'>**HINWEIS**</font> werden Hinweise gegeben, die für die Lösung der Aufgabe hilfreich sind und oftmals auch weiterführende Informationen zur Aufgabe liefern.\n",
    "\n",
    "$\\rightarrow$ Mit **(Optional)** gekennzeichnete Übungsteile sind für besonders schnelle Menschen :-)."
   ]
  },
  {
   "cell_type": "markdown",
   "metadata": {},
   "source": [
    "### Listen, Loops und Tabellen\n",
    "1. **Listen und Loops**  \n",
    "  1. Erstelle eine Liste mit Worten (Strings) als Elementen, die zusammen einen Satz bilden.\n",
    "  2. Gib jedes Wort einmal aus, indem du mit einem ```for``` loop über die Liste iterierst.\n",
    "  3. Addiere alle Strings zu einem einzigen String indem du mit einem ```for``` loop über die Liste iterieren.  \n",
    "  <font color='green'>**HINWEIS**: Du solltest vor Beginn des loops eine neue Variable definieren, in der der neue String gespeichert wird.</font>\n",
    "  4. Erstelle eine Liste mit ganzen Zahlen von 1 bis 10. Gib alle Zahlen der Liste aus.\n",
    "  5. Gib alle geraden und dann alle ungeraden Zahlen in der Liste aus. Gib nur die ersten und dann nur die letzten vier Elemente der Liste aus.\n",
    "2. **Tabellen**\n",
    "  1. Lade die Tabelle \"titanic.csv\" mit Hilfe der Funktion ```read_csv()``` der Bibliothek ```Pandas``` in ein DataFrame. <font color='green'>**HINWEIS:** Die Tabelle findest du im StudIP Verzeichnis dieser Übung zum Download. Du kannst sie mit Hilfe des ```Upload```-Buttons (im Dashboard direkt neben ```new```) in deinen Arbeitsbereich laden. Es ist hilfreich, wenn du in deinem Arbeitsbereich einen neuen Ordner ```daten``` erstellst, und diesen und alle zukünftigen Datensätze dort speicherst. Um eine Bibliothek zu benutzen, musst du sie erst mit Hilfe des ```import``` Keywords importieren!</font>\n",
    "  2. Lass dir die ersten paar Zeilen der Tabelle anzeigen und finde heraus, wieviele Einträge die Tabelle hat. <font color='green'>**HINWEIS:** benutze die Funktionen ```head()``` und ```len()```.</font>\n",
    "  3. Finde heraus, was die einzelnen Spalten in dem Datensatz für eine Bedeutung haben. Bei einigen, wie z.B. ```age``` ist das klar, aber was bedeutet zum Beispiel ```sibsp```?\n",
    "  4. Berechne den durchschnittlich bezahlen Ticket-Preis.\n",
    "  5. **(Optional):** Wieviele Passagier*innen haben überlebt?\n",
    "  6. **(Optional):** Erstelle eine Liste mit ganzen Zahlen zwischen 0 und 100 mit Hilfe der ```range()```-Funktion und der ```list()```-Funktion. Gib die Länge der Liste (Stichwort: ```len()```) aus. <font color='green'>**HINWEIS**: Wenn du auf diese Weise listen erstellst, musst du das mit ```range()``` generierte Objekt mit Hilfe von ```list()``` noch in eine Liste verwanden. ```range()``` erzeugt nämlich erst einmal nur einen \"Generator\", der eine Liste sein _könnte_. Erst durch ```list()``` wird der Generator explizit in eine Liste verwandelt. Du kannst dir dieses Verhalten genauer ansehen, indem du mit ```type()``` den Typ der jeweils erzeuten Objekte ansiehst:</font>"
   ]
  },
  {
   "cell_type": "code",
   "execution_count": 1,
   "metadata": {},
   "outputs": [
    {
     "name": "stdout",
     "output_type": "stream",
     "text": [
      "<class 'range'>\n",
      "<class 'list'>\n"
     ]
    }
   ],
   "source": [
    "generator = range(0,5)\n",
    "print(type(generator))\n",
    "\n",
    "neue_liste = list(generator)\n",
    "print(type(neue_liste))"
   ]
  },
  {
   "cell_type": "markdown",
   "metadata": {},
   "source": [
    "<font color='green'>Dieses Verhalten ist jetzt nicht besonders wichtig und du musst es dir auch nicht merken, aber wir erwähnen es hier der Vollständigkeit halber.</font>\n",
    "\n",
    "G. **(Optional)** Erstelle eine Liste mit 5 beliebigen Zahlen. Iteriere über die Liste und addiere zu jeder Zahl die Summe aller Elemente der Liste. Speichere das Ergebnis in einer neuen Liste.  \n",
    "    <font color='green'>**HINWEIS**: Die Funktion ```sum()``` berechnet automatisch die Summe der Elemente einer Liste. Eine neue Liste erzeugen und ihr Elemente hinzufügen funktioniert wie folgt:</font>"
   ]
  },
  {
   "cell_type": "code",
   "execution_count": 2,
   "metadata": {},
   "outputs": [
    {
     "name": "stdout",
     "output_type": "stream",
     "text": [
      "[]\n",
      "[2]\n"
     ]
    }
   ],
   "source": [
    "# HINWEIS\n",
    "# eine leere Liste erzeugen\n",
    "leere_liste = []\n",
    "print(leere_liste)\n",
    "\n",
    "# der leeren Liste ein neues Element hinzufügen\n",
    "leere_liste.append(2)\n",
    "print(leere_liste)"
   ]
  },
  {
   "cell_type": "markdown",
   "metadata": {},
   "source": [
    "H. **(Optional)** Setze jedes zweite Element der Liste aus Aufgabe F gleich null indem du ein slice-Operation benutzt.  \n",
    "\n",
    "  <font color='green'>**HINWEIS 1**: Ein einzelnes Element einer Liste wird folgendermaßen verändert:</font>"
   ]
  },
  {
   "cell_type": "code",
   "execution_count": 3,
   "metadata": {},
   "outputs": [
    {
     "name": "stdout",
     "output_type": "stream",
     "text": [
      "[1, 2, 3, 4, 5]\n",
      "[1, 2, 100, 4, 5]\n"
     ]
    }
   ],
   "source": [
    "# erstelle eine neue Liste und gib sie aus\n",
    "test_liste = [1,2,3,4,5]\n",
    "print(test_liste)\n",
    "\n",
    "# ersetze das Element an Index 2 mit der Zahl 100\n",
    "test_liste[2] = 100\n",
    "print(test_liste)"
   ]
  },
  {
   "cell_type": "markdown",
   "metadata": {},
   "source": [
    "<font color='green'>**HINWEIS 2**: Listen mit sich wiederholenden Elementen können auch folgendermaßen erzeugt werden:</font>"
   ]
  },
  {
   "cell_type": "code",
   "execution_count": 4,
   "metadata": {},
   "outputs": [
    {
     "name": "stdout",
     "output_type": "stream",
     "text": [
      "[0, 0, 0, 0, 0]\n",
      "[1, 2, 1, 2, 1, 2]\n",
      "[1, 2, 3, 4, 5, 1, 2, 3, 4, 5]\n"
     ]
    }
   ],
   "source": [
    "# das \"Produkt\" einer Liste mit einer Zahl x\n",
    "# ist die x-fache Wiederholung aller Elemente der Liste\n",
    "\n",
    "# eine Liste mit nur einem Element\n",
    "neue_liste = [0] * 5 \n",
    "print(neue_liste)\n",
    "\n",
    "# eine Liste mit zwei Elementen\n",
    "neue_liste = [1, 2] * 3 \n",
    "print(neue_liste)\n",
    "\n",
    "# eine Liste mit 5 Elementen\n",
    "neue_liste = [1, 2, 3, 4, 5] * 2\n",
    "print(neue_liste)"
   ]
  }
 ],
 "metadata": {
  "kernelspec": {
   "display_name": "Python 3",
   "language": "python",
   "name": "python3"
  },
  "language_info": {
   "codemirror_mode": {
    "name": "ipython",
    "version": 3
   },
   "file_extension": ".py",
   "mimetype": "text/x-python",
   "name": "python",
   "nbconvert_exporter": "python",
   "pygments_lexer": "ipython3",
   "version": "3.5.2"
  }
 },
 "nbformat": 4,
 "nbformat_minor": 2
}
