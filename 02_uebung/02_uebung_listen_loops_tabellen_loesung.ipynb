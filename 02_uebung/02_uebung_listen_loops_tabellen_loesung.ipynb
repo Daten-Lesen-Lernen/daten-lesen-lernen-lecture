{
 "cells": [
  {
   "cell_type": "markdown",
   "metadata": {},
   "source": [
    "_Lizenz: Das folgende Lehrmaterial kann unter einer [CC-BY-SA 4.0](https://creativecommons.org/licenses/by/4.0/legalcode) Lizenz frei verwendet, verbreitet und modifiziert werden._   \n",
    " _Authoren: Jana Lasser (jana.lasser@ds.mpg.de)_  \n",
    " _Das Lehrmaterial wurde im Zuge des Projektes \"Daten Lesen Lernen\", gefördert vom Stifterverband und der Heinz Nixdorf Stiftung erstellt._"
   ]
  },
  {
   "cell_type": "markdown",
   "metadata": {},
   "source": [
    "# Lösungen zu Übung 2: Listen, Loops und Tabellen"
   ]
  },
  {
   "cell_type": "markdown",
   "metadata": {},
   "source": [
    "### Listen und Loops"
   ]
  },
  {
   "cell_type": "code",
   "execution_count": 1,
   "metadata": {},
   "outputs": [],
   "source": [
    "# 1.A\n",
    "wort_liste = ['Ein', 'string', 'ist', 'eine',\\\n",
    "             'Kette', 'von', 'Zeichen']"
   ]
  },
  {
   "cell_type": "code",
   "execution_count": 2,
   "metadata": {},
   "outputs": [
    {
     "name": "stdout",
     "output_type": "stream",
     "text": [
      "Ein\n",
      "string\n",
      "ist\n",
      "eine\n",
      "Kette\n",
      "von\n",
      "Zeichen\n"
     ]
    }
   ],
   "source": [
    "# 1.B\n",
    "for wort in wort_liste:\n",
    "    print(wort)"
   ]
  },
  {
   "cell_type": "code",
   "execution_count": 3,
   "metadata": {},
   "outputs": [
    {
     "name": "stdout",
     "output_type": "stream",
     "text": [
      "EinstringisteineKettevonZeichen\n"
     ]
    }
   ],
   "source": [
    "# 1.C\n",
    "satz = '' # das ist ein leerer string\n",
    "\n",
    "for wort in wort_liste:\n",
    "    satz = satz + wort\n",
    "    \n",
    "print(satz)"
   ]
  },
  {
   "cell_type": "code",
   "execution_count": 4,
   "metadata": {},
   "outputs": [
    {
     "name": "stdout",
     "output_type": "stream",
     "text": [
      " Ein string ist eine Kette von Zeichen.\n"
     ]
    }
   ],
   "source": [
    "# 1.C zweiter Anlauf:\n",
    "satz = ''\n",
    "\n",
    "for wort in wort_liste:\n",
    "    # addiere ein Leerzeichen vor jedem Wort\n",
    "    satz = satz + ' ' + wort \n",
    "    \n",
    "# addiere einen Punkt am Ende des Satzes\n",
    "satz = satz + '.'\n",
    "\n",
    "print(satz)"
   ]
  },
  {
   "cell_type": "code",
   "execution_count": 5,
   "metadata": {},
   "outputs": [
    {
     "name": "stdout",
     "output_type": "stream",
     "text": [
      "1\n",
      "2\n",
      "3\n",
      "4\n",
      "5\n",
      "6\n",
      "7\n",
      "8\n",
      "9\n",
      "10\n"
     ]
    }
   ],
   "source": [
    "# 1.D \n",
    "zahlen = [1,2,3,4,5,6,7,8,9,10]\n",
    "\n",
    "for zahl in zahlen:\n",
    "    print(zahl)"
   ]
  },
  {
   "cell_type": "code",
   "execution_count": 6,
   "metadata": {},
   "outputs": [
    {
     "name": "stdout",
     "output_type": "stream",
     "text": [
      "[2, 4, 6, 8, 10]\n",
      "[1, 3, 5, 7, 9]\n",
      "[1, 2, 3, 4]\n",
      "[7, 8, 9, 10]\n"
     ]
    }
   ],
   "source": [
    "# 1.E\n",
    "# gerade Zahlen\n",
    "print(zahlen[1::2])\n",
    "\n",
    "# ungerade Zahlen\n",
    "print(zahlen[0::2])\n",
    "\n",
    "# die ersten vier Elemente\n",
    "print(zahlen[0:4])\n",
    "\n",
    "# die letzten vier Elemente\n",
    "print(zahlen[-4:])"
   ]
  },
  {
   "cell_type": "markdown",
   "metadata": {},
   "source": [
    "### Tabellen"
   ]
  },
  {
   "cell_type": "code",
   "execution_count": 7,
   "metadata": {},
   "outputs": [],
   "source": [
    "# 2.A\n",
    "# importiere die Bibliothek Pandas unter dem\n",
    "# Kürzel \"pd\"\n",
    "import pandas as pd\n",
    "\n",
    "# lade den Datensatz und speichere das resultierende\n",
    "# DataFrame in der Variable \"titanic_data\"\n",
    "titanic_data = pd.read_csv('../data/titanic.csv')"
   ]
  },
  {
   "cell_type": "code",
   "execution_count": 8,
   "metadata": {},
   "outputs": [
    {
     "name": "stdout",
     "output_type": "stream",
     "text": [
      "Der Datensatz hat 891 Einträge.\n"
     ]
    }
   ],
   "source": [
    "# 2.B\n",
    "# zeige die ersten paar Zeilen des Datensatzes an\n",
    "titanic_data.head()\n",
    "\n",
    "length_data = len(titanic_data)\n",
    "print('Der Datensatz hat {} Einträge.'.format(length_data))"
   ]
  },
  {
   "cell_type": "markdown",
   "metadata": {},
   "source": [
    "2.C\n",
    "\n",
    "Diese Aufgabe ist mehr eine Recherche-Aufgabe, aber auch das ist sehr oft Teil der Arbeit, wenn man den Inhalt eines Datensatzes verstehen will. Informationen über den Datensatz \"titanic\" finden sich nach kurzem Googlen z.B. [hier](https://www.kaggle.com/francksylla/titanic-machine-learning-from-disaster). Wir tragen also Informationen über die einzelnen Spalten zusammen:\n",
    "  * ```sibsp``` steht für \"sibling\" oder \"spouse\" (Geschwister, Ehepartner) und ist ein Indikator dafür, ob ein\\*e Passagier\\*in Verwandte auf dem Schiff hatte.\n",
    "  * ```parch``` steht für \"parent\" oder \"child\" (Eltern, Kinder) und ist ein Indikator dafür, ob ein\\*e Passagier\\*in Elternteil oder Kind von einer/einem anderen Passagier\\*in am Schiff waren.\n",
    "  * ```alone``` ist entsprechend ein Indikator dafür, ob eine Person allein unterwegs war (sowohl ```sibsp``` als auch ```parch``` sind null).\n",
    "  * ```pclass``` oder ```class``` stehen für die Klasse, in der die Person gereist ist (einmal als Zahl, einmal als Wort).\n",
    "  * ```fare``` ist der Kaufpreis des Tickets, ```embark town``` steht für die Stadt, an der die Person zugestiegen ist und ```embarked``` ist ein Kürzel für die ```embark town```.\n",
    "  * ```sex``` und ```age``` sind Aussagen über Geschlecht und Alter der Person.\n",
    "  * ```survived``` und ```alive``` sagen aus, ob die Person das Unglück überlebt hat (einmal als Zahl, einmal als Wort).\n",
    "  * ```deck``` steht für das Deck, auf dem die Person auf der Titanic untergebracht war. \n",
    "  * ```NaN``` wird als Eintrag benutzt, falls keine Information vorhanden ist."
   ]
  },
  {
   "cell_type": "code",
   "execution_count": 9,
   "metadata": {},
   "outputs": [
    {
     "name": "stdout",
     "output_type": "stream",
     "text": [
      "Der durchschnittliche Ticketpreis ist 32.204207968574636.\n"
     ]
    }
   ],
   "source": [
    "# 2.D \n",
    "# berechne den Ticketpreis als Mittel über\n",
    "# die Spalte \"fare\" in der der Preis, den jede\n",
    "# Person bezahl hat hinterlegt ist\n",
    "mean_price = titanic_data['fare'].mean()\n",
    "print('Der durchschnittliche Ticketpreis ist {}.'\\\n",
    "      .format(mean_price))"
   ]
  },
  {
   "cell_type": "code",
   "execution_count": 10,
   "metadata": {},
   "outputs": [
    {
     "name": "stdout",
     "output_type": "stream",
     "text": [
      "342 Personen haben das Unglück mit der Titanic überlebt.\n"
     ]
    }
   ],
   "source": [
    "# 2.E Optional \n",
    "# berecne die Anzahln der Überlebenden als Summe\n",
    "# über die Salte \"survived\". Überlebende sind hier\n",
    "# mit einer \"1\" markiert, während gestorbene mit\n",
    "# einer \"0\" markiert sind\n",
    "survivors = titanic_data['survived'].sum()\n",
    "print('{} Personen haben das Unglück mit der Titanic überlebt.'\\\n",
    "     .format(survivors))"
   ]
  },
  {
   "cell_type": "code",
   "execution_count": 11,
   "metadata": {},
   "outputs": [
    {
     "name": "stdout",
     "output_type": "stream",
     "text": [
      "100\n"
     ]
    }
   ],
   "source": [
    "# 2.F\n",
    "lange_liste = list(range(0,100))\n",
    "listenlaenge = len(lange_liste)\n",
    "print(listenlaenge)"
   ]
  },
  {
   "cell_type": "code",
   "execution_count": 12,
   "metadata": {},
   "outputs": [
    {
     "name": "stdout",
     "output_type": "stream",
     "text": [
      "neue Zahl: 276\n",
      "neue Zahl: 373\n",
      "neue Zahl: 348\n",
      "neue Zahl: 292\n",
      "neue Zahl: 325\n",
      "[276, 373, 348, 292, 325]\n"
     ]
    }
   ],
   "source": [
    "# 2.G Optional\n",
    "zahlen_liste = [7, 104, 79, 23, 56]\n",
    "summen_liste = [] # dies ist eine leere Liste\n",
    "\n",
    "for zahl in zahlen_liste:\n",
    "    # berechne die Summe aus Zahl und Summe\n",
    "    # aller Zahlen in der Liste\n",
    "    zahl = zahl + sum(zahlen_liste)\n",
    "    \n",
    "    # gib die neu berechnete Zahl aus\n",
    "    print('neue Zahl: {}'.format(zahl))\n",
    "    \n",
    "    # füge die neu berechnete Zahl der neuen\n",
    "    # Liste \"summen_liste\" hinzu\n",
    "    summen_liste.append(zahl)\n",
    "    \n",
    "print(summen_liste)"
   ]
  },
  {
   "cell_type": "code",
   "execution_count": 13,
   "metadata": {},
   "outputs": [
    {
     "name": "stdout",
     "output_type": "stream",
     "text": [
      "[0, 1, 0, 3, 0, 5, 0, 7, 0, 9, 0, 11, 0, 13, 0, 15, 0, 17, 0, 19, 0, 21, 0, 23, 0, 25, 0, 27, 0, 29, 0, 31, 0, 33, 0, 35, 0, 37, 0, 39, 0, 41, 0, 43, 0, 45, 0, 47, 0, 49, 0, 51, 0, 53, 0, 55, 0, 57, 0, 59, 0, 61, 0, 63, 0, 65, 0, 67, 0, 69, 0, 71, 0, 73, 0, 75, 0, 77, 0, 79, 0, 81, 0, 83, 0, 85, 0, 87, 0, 89, 0, 91, 0, 93, 0, 95, 0, 97, 0, 99]\n"
     ]
    }
   ],
   "source": [
    "# 2.H\n",
    "lange_liste[0::2] = [0]*50\n",
    "print(lange_liste)"
   ]
  }
 ],
 "metadata": {
  "kernelspec": {
   "display_name": "Python 3",
   "language": "python",
   "name": "python3"
  },
  "language_info": {
   "codemirror_mode": {
    "name": "ipython",
    "version": 3
   },
   "file_extension": ".py",
   "mimetype": "text/x-python",
   "name": "python",
   "nbconvert_exporter": "python",
   "pygments_lexer": "ipython3",
   "version": "3.5.2"
  }
 },
 "nbformat": 4,
 "nbformat_minor": 2
}
