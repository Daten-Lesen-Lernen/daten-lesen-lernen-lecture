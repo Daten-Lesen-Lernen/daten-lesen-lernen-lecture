{
 "cells": [
  {
   "cell_type": "markdown",
   "metadata": {},
   "source": [
    "_Lizenz: Das folgende Lehrmaterial kann unter einer [CC-BY-SA 4.0](https://creativecommons.org/licenses/by/4.0/legalcode) Lizenz frei verwendet, verbreitet und modifiziert werden._   \n",
    " _Authoren: Jana Lasser (jana.lasser@ds.mpg.de)_  \n",
    " _Das Lehrmaterial wurde im Zuge des Projektes \"Daten Lesen Lernen\", gefördert vom Stifterverband und der Heinz Nixdorf Stiftung erstellt._"
   ]
  },
  {
   "cell_type": "markdown",
   "metadata": {},
   "source": [
    "# Übung 1\n",
    "### Praktische Hinweise\n",
    "$\\rightarrow$ Übungen sind dafür gedacht, dass ihr sie euch daheim anseht und versucht, ein paar Aufgaben selbst zu lösen. In den Tutorien könnt ihr euch weiter mit dem Lösungen der Aufgaben beschäftigen und dabei Hilfe von den Tutor*innen bekommen.  \n",
    "\n",
    "$\\rightarrow$ Wenn ein Fehler auftritt:\n",
    "1. Fehlermeldung _lesen_ und _verstehen_\n",
    "2. Versuchen, selbst eine Lösung zu finden ($\\rightarrow$ hier findet das Lernen statt!)\n",
    "3. Das Problem googlen (Stichwort: Stackoverflow) oder den/die Nachbar*in fragen\n",
    "4. Tutor*in fragen\n",
    "\n",
    "$\\rightarrow$ Unter <font color='green'>**HINWEIS**</font> werden Hinweise gegeben, die für die Lösung der Aufgabe hilfreich sind und oftmals auch weiterführende Informationen zur Aufgabe liefern.\n",
    "\n",
    "$\\rightarrow$ Mit **(Optional)** gekennzeichnete Übungsteile sind für besonders schnelle Menschen :-)."
   ]
  },
  {
   "cell_type": "markdown",
   "metadata": {},
   "source": [
    "### Python als Taschenrechner\n",
    "1. **Vorbereitung**\n",
    "  1. Navigiere zum Dashboard (am besten Rechtsklick $\\rightarrow$ \"in neuem Tab öffnen\")\n",
    "  2. Erstelle ein neues Notebook für die Übung: \"new\" (rechts oben) $\\rightarrow$ \"Python 3\"\n",
    "  3. Gib dem Notebook einen bezeichnenden Namen (z.B.) \"Uebung01\" indem du oben links in das \"Untitled\" Feld klickst.\n",
    "2. **Zahlen**\n",
    "  1. Schreibe ein Programm, das die Resultate von Rechnungen ausgibt (```print()```). Benutze jede der standard Rechenoperationen (+, - , *, /, \\**) mindestens ein mal.\n",
    "  2. Benutze mehrere Rechenoperationen in einer Rechnung, benutze Klammern um die Reihenfolge der Operationen zu verändern.\n",
    "  3. **(Optional)** Realisiere eine Rechnung \"ohne Rest\" (```int()```) und lass dir den Typ der Ergebnisse der Rechnungen mittels ```type()``` anzeigen.\n",
    "  4. **(Optional)** Recherchiere was es mit \"numerischer Genauigkeit\" auf sich hat und wo sie zu Problemen führen könnte. Programmiere ein kleines Beispiel. \n",
    "3. **Strings**\n",
    "  1. Such dir eine*n bekannte*n Wissenschaftler*in (natürlich aus Göttingen...). Speichere Vorname, Nachname und ein Zitat des/der Wissenschaftlers/in in drei separaten Variablen.\n",
    "  2. Addiere die Strings (Concatenation) um einen Satz mit dem Namen des/der Wissenschaftlers*in und dem Zitat zu erzeugen und auszugeben.\n",
    "  3. Formatiere den Output mit der ```format()``` Funktion so, dass er Sinn ergibt und gut lesbar ist (Stichwort Leerzeichen und Satzzeichen).\n",
    "4. **(Optional) Kommentare**\n",
    "  1. Schreibe ein Programm, das jedes neue Konzept das du bis jetzt gelernt hast verwendet.\n",
    "  2. Kommentiere das Programm ausführlich um zu beschreiben, was es tut.  \n",
    "  \n",
    "  <font color='green'>**HINWEIS:** ein Kommentar in einer Code-Zelle wird durch den Hashtag ```#``` eingeleitet. Der Text hinter dem Hashtag wird nicht ausgeführt sondern dient nur zur Beschreibung des Codes drumherum.</font>"
   ]
  },
  {
   "cell_type": "code",
   "execution_count": null,
   "metadata": {},
   "outputs": [],
   "source": [
    "# Beispiel\n",
    "# Kommentare können sowohl eine eigene Zeile sein\n",
    "print(2+2)  # oder aber neben ausgeführtem Code stehen\n",
    "\n",
    "print('im Gegensatz zu Code werden Kommentare nicht ausgeführt')"
   ]
  },
  {
   "cell_type": "markdown",
   "metadata": {},
   "source": [
    "   C. **(Optional)** Für jede neue Aktion die das Programm ausführt, schreibe Output (```print()```) der erklärt, was gerade passiert ist."
   ]
  }
 ],
 "metadata": {
  "kernelspec": {
   "display_name": "Python 3",
   "language": "python",
   "name": "python3"
  }
 },
 "nbformat": 4,
 "nbformat_minor": 2
}
