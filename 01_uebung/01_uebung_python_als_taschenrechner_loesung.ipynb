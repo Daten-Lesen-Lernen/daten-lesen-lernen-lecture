{
 "cells": [
  {
   "cell_type": "markdown",
   "metadata": {},
   "source": [
    "_Das folgende Lehrmaterial kann unter einer [CC-BY-SA 4.0](https://creativecommons.org/licenses/by/4.0/legalcode) Lizenz frei verwendet, verbreitet und modifiziert werden._   \n",
    " _Authoren: Jana Lasser (jana.lasser@ds.mpg.de)_    \n",
    " _Das Lehrmaterial wurde im Zuge des Projektes \"Daten Lesen Lernen\", gefördert vom Stifterverband und der Heinz Nixdorf Stiftung erstellt._"
   ]
  },
  {
   "cell_type": "markdown",
   "metadata": {},
   "source": [
    "# Lösungen zu Übung 1: Python als Taschenrechner"
   ]
  },
  {
   "cell_type": "code",
   "execution_count": 1,
   "metadata": {},
   "outputs": [
    {
     "name": "stdout",
     "output_type": "stream",
     "text": [
      "2\n",
      "0\n",
      "12\n",
      "2.0\n",
      "256\n"
     ]
    }
   ],
   "source": [
    "# 2.A\n",
    "print(1 + 1)\n",
    "print(1 - 1)\n",
    "print(3 * 4)\n",
    "print(10 / 5)\n",
    "print(2 ** 8)"
   ]
  },
  {
   "cell_type": "code",
   "execution_count": 2,
   "metadata": {},
   "outputs": [
    {
     "name": "stdout",
     "output_type": "stream",
     "text": [
      "32\n",
      "50\n"
     ]
    }
   ],
   "source": [
    "# 2.B\n",
    "ergebnis1 = 10 * 3 + 2\n",
    "ergebnis2 = 10 * (3 + 2)\n",
    "\n",
    "print(ergebnis1)\n",
    "print(ergebnis2)"
   ]
  },
  {
   "cell_type": "code",
   "execution_count": 3,
   "metadata": {},
   "outputs": [
    {
     "name": "stdout",
     "output_type": "stream",
     "text": [
      "Gleitkommazahl\n",
      "3.3333333333333335\n",
      "<class 'float'>\n",
      "\n",
      "Ganzzahl\n",
      "3\n",
      "<class 'int'>\n"
     ]
    }
   ],
   "source": [
    "# 2.C (Optional)\n",
    "ergebnis1 = 10/3\n",
    "print('Gleitkommazahl')\n",
    "print(ergebnis1)\n",
    "print(type(ergebnis1))\n",
    "\n",
    "print() # \"print()\" ohne Text erzeugt einfach eine Leerzeile\n",
    "print('Ganzzahl')\n",
    "ergebnis2 = int(10 / 3)\n",
    "print(ergebnis2)\n",
    "print(type(ergebnis2))"
   ]
  },
  {
   "cell_type": "code",
   "execution_count": 4,
   "metadata": {},
   "outputs": [
    {
     "name": "stdout",
     "output_type": "stream",
     "text": [
      "0.30000000000000004\n"
     ]
    }
   ],
   "source": [
    "# 2.D (Optional)\n",
    "print(0.1 + 0.2) # ergibt nicht exakt 0.3!"
   ]
  },
  {
   "cell_type": "code",
   "execution_count": 5,
   "metadata": {},
   "outputs": [
    {
     "data": {
      "text/plain": [
       "False"
      ]
     },
     "execution_count": 5,
     "metadata": {},
     "output_type": "execute_result"
    }
   ],
   "source": [
    "# 2.D Fortsetzung\n",
    "\n",
    "# das können wir bestätigten, indem wir die\n",
    "# Zahlen auf Gleichheit testen (das kommt\n",
    "# später noch genauer dran). Die Antwort\n",
    "# \"False\" bedeutet, dass für den Computer\n",
    "# diese beiden Zahlen NICHT gleich sind\n",
    "0.1 + 0.2 == 0.3"
   ]
  },
  {
   "cell_type": "code",
   "execution_count": 6,
   "metadata": {},
   "outputs": [],
   "source": [
    "# 3.A\n",
    "vorname = 'Emmy'\n",
    "nachname = 'Noether'\n",
    "zitat = '''Das erste und einzige Mal, dass \n",
    "man Emmy Noether in Deutschland ohne jede \n",
    "Einschränkung ihren männlichen (beamteten) \n",
    "Kollegen gleichstellte, war, als die \n",
    "Nationalsozialisten sie aufgrund des Gesetzes \n",
    "zur Wiederherstellung des Berufsbeamtentums ... \n",
    "am 25. April 1933 von ihrer Tätigkeit an der \n",
    "Universität Göttingen beurlaubten, obwohl sie \n",
    "als nichtbeamtete Professorin zu diesem \n",
    "Zeitpunkt strenggenommen vom Gesetz noch \n",
    "gar nicht betroffen war.'''"
   ]
  },
  {
   "cell_type": "code",
   "execution_count": 7,
   "metadata": {},
   "outputs": [
    {
     "name": "stdout",
     "output_type": "stream",
     "text": [
      "EmmyNoetherDas erste und einzige Mal, dass \n",
      "man Emmy Noether in Deutschland ohne jede \n",
      "Einschränkung ihren männlichen (beamteten) \n",
      "Kollegen gleichstellte, war, als die \n",
      "Nationalsozialisten sie aufgrund des Gesetzes \n",
      "zur Wiederherstellung des Berufsbeamtentums ... \n",
      "am 25. April 1933 von ihrer Tätigkeit an der \n",
      "Universität Göttingen beurlaubten, obwohl sie \n",
      "als nichtbeamtete Professorin zu diesem \n",
      "Zeitpunkt strenggenommen vom Gesetz noch \n",
      "gar nicht betroffen war.\n"
     ]
    }
   ],
   "source": [
    "# 3.B\n",
    "satz = vorname + nachname + zitat\n",
    "print(satz)"
   ]
  },
  {
   "cell_type": "code",
   "execution_count": 8,
   "metadata": {},
   "outputs": [
    {
     "name": "stdout",
     "output_type": "stream",
     "text": [
      "Über Emmy Noether: \"Das erste und einzige Mal, dass \n",
      "man Emmy Noether in Deutschland ohne jede \n",
      "Einschränkung ihren männlichen (beamteten) \n",
      "Kollegen gleichstellte, war, als die \n",
      "Nationalsozialisten sie aufgrund des Gesetzes \n",
      "zur Wiederherstellung des Berufsbeamtentums ... \n",
      "am 25. April 1933 von ihrer Tätigkeit an der \n",
      "Universität Göttingen beurlaubten, obwohl sie \n",
      "als nichtbeamtete Professorin zu diesem \n",
      "Zeitpunkt strenggenommen vom Gesetz noch \n",
      "gar nicht betroffen war.\"\n"
     ]
    }
   ],
   "source": [
    "# 3.C\n",
    "print('Über {} {}: \"{}\"'.format(vorname, nachname, zitat))"
   ]
  },
  {
   "cell_type": "code",
   "execution_count": 9,
   "metadata": {},
   "outputs": [
    {
     "name": "stdout",
     "output_type": "stream",
     "text": [
      "Das Produkt von 2 und 10 ist 20.\n",
      "Die Rechnung 2 / 10 ergibt 0.2.\n",
      "Das Ergebnis ist dabei ein <class 'float'>\n"
     ]
    }
   ],
   "source": [
    "# 4.A und 4.B\n",
    "\n",
    "# definiere eine Reihe von Variablen und\n",
    "# speichere ganze Zahlen in ihnen\n",
    "a = 2\n",
    "b = 10\n",
    "\n",
    "# berechne das Produkt von a und b\n",
    "produkt = a * b\n",
    "\n",
    "# gib das Ergebnis in einem formatierten String aus\n",
    "print('Das Produkt von {} und {} ist {}.'.format(a, b, produkt))\n",
    "\n",
    "# berechne den Quotient von a und b\n",
    "quotient = a / b\n",
    "\n",
    "# gib das Ergebnis in einem formatierten Strig aus\n",
    "print('Die Rechnung {} / {} ergibt {}.'.format(a, b, quotient))\n",
    "\n",
    "# gib auch den Typ (Gleitkommazahl oder \"float\")\n",
    "# des Ergebnisses aus\n",
    "print('Das Ergebnis ist dabei ein {}'.format(type(quotient)))"
   ]
  }
 ],
 "metadata": {
  "kernelspec": {
   "display_name": "Python 3",
   "language": "python",
   "name": "python3"
  },
  "language_info": {
   "codemirror_mode": {
    "name": "ipython",
    "version": 3
   },
   "file_extension": ".py",
   "mimetype": "text/x-python",
   "name": "python",
   "nbconvert_exporter": "python",
   "pygments_lexer": "ipython3",
   "version": "3.5.2"
  }
 },
 "nbformat": 4,
 "nbformat_minor": 2
}
